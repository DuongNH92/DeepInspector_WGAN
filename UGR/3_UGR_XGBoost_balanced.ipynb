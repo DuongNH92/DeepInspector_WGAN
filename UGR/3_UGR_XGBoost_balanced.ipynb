{
 "cells": [
  {
   "cell_type": "code",
   "execution_count": 11,
   "id": "a54eb80c",
   "metadata": {},
   "outputs": [
    {
     "name": "stderr",
     "output_type": "stream",
     "text": [
      "/home/mltest/my_project/my_project_env/lib/python3.8/site-packages/xgboost/data.py:208: FutureWarning: pandas.Int64Index is deprecated and will be removed from pandas in a future version. Use pandas.Index with the appropriate dtype instead.\n",
      "  from pandas import MultiIndex, Int64Index\n"
     ]
    },
    {
     "name": "stdout",
     "output_type": "stream",
     "text": [
      "Printing XGBoost result:\n",
      "                 precision    recall  f1-score   support\n",
      "\n",
      "   anomaly-spam       1.00      0.96      0.98       134\n",
      "anomaly-sshscan       1.00      0.97      0.99        34\n",
      "     background       0.97      1.00      0.99      5971\n",
      "      blacklist       1.00      0.97      0.99      5987\n",
      "            dos       1.00      1.00      1.00      1335\n",
      "    nerisbotnet       1.00      0.98      0.99       570\n",
      "         scan11       1.00      1.00      1.00      5984\n",
      "         scan44       1.00      1.00      1.00      5907\n",
      "\n",
      "       accuracy                           0.99     25922\n",
      "      macro avg       1.00      0.99      0.99     25922\n",
      "   weighted avg       0.99      0.99      0.99     25922\n",
      "\n",
      "-----------------------------------------------------------------------\n",
      "Accuracy: 99.29%; precision: 99.31%; Recall: 99.29%; F1: 99.29%\n"
     ]
    },
    {
     "data": {
      "image/png": "[encoded data removed]",
      "text/plain": [
       "<Figure size 504x432 with 2 Axes>"
      ]
     },
     "metadata": {
      "needs_background": "light"
     },
     "output_type": "display_data"
    }
   ],
   "source": [
    "import pandas as pd \n",
    "import numpy as np \n",
    "from xgboost import XGBClassifier\n",
    "from sklearn.metrics import classification_report, confusion_matrix, accuracy_score, precision_score, recall_score, f1_score\n",
    "from sklearn.preprocessing import LabelEncoder\n",
    "import xgboost as xgb\n",
    "import matplotlib.pylab as plt\n",
    "import seaborn as sns\n",
    "\n",
    "def plot_confusion_matrix(cm, classes, normalized=True, cmap='bone'):\n",
    "    plt.figure(figsize=[7, 6])\n",
    "    norm_cm = cm\n",
    "    if normalized:\n",
    "        norm_cm = cm.astype('float') / cm.sum(axis=1)[:, np.newaxis]\n",
    "        sns.heatmap(norm_cm, annot=cm, fmt='g', xticklabels=classes, yticklabels=classes, cmap=cmap)\n",
    "        \n",
    "# read data\n",
    "mydt = pd.read_csv(\"../dataset/UGR/train.csv\")\n",
    "\n",
    "le = LabelEncoder()\n",
    "y_train = le.fit_transform(mydt.iloc[:,19])\n",
    "X_train = mydt.iloc[:,0:19] \n",
    "\n",
    "# read test data\n",
    "mydt2 = pd.read_csv(\"../dataset/UGR/test.csv\")\n",
    "\n",
    "y_test = le.fit_transform(mydt2.iloc[:,19])\n",
    "X_test = mydt2.iloc[:,0:19] \n",
    "\n",
    "dtrain = xgb.DMatrix(data=X_train, label=y_train)\n",
    "dtest = xgb.DMatrix(data=X_test)\n",
    "\n",
    "params = {'learning_rate': 0.6,\n",
    "        'max_depth': 100,\n",
    "        'objective': 'multi:softmax',  # error evaluation for multiclass training\n",
    "        'num_class': 8,\n",
    "        'eval_metric':\"mlogloss\"\n",
    "}\n",
    "\n",
    "model = xgb.train(params, dtrain)\n",
    "y_pred = model.predict(dtest)\n",
    "cm = confusion_matrix(y_test, y_pred)\n",
    "accuracy = accuracy_score(y_test, y_pred)\n",
    "precision = precision_score(y_test, y_pred, average='weighted')\n",
    "f1 = f1_score(y_test, y_pred, average='weighted')\n",
    "recall = recall_score(y_test, y_pred, average='weighted')\n",
    "\n",
    "print('Printing XGBoost result:')\n",
    "print(classification_report(y_test, y_pred, target_names=le.classes_))\n",
    "\n",
    "print(\"-----------------------------------------------------------------------\")\n",
    "print('Accuracy: {:.2f}%; precision: {:.2f}%; Recall: {:.2f}%; F1: {:.2f}%'.format(accuracy*100, precision*100, recall*100, f1*100)) # elapsed: {:.2f} s\n",
    "\n",
    "plot_confusion_matrix(cm, classes=le.classes_)"
   ]
  },
  {
   "cell_type": "code",
   "execution_count": 4,
   "id": "0463a48e",
   "metadata": {
    "scrolled": false
   },
   "outputs": [
    {
     "name": "stderr",
     "output_type": "stream",
     "text": [
      "/home/mltest/my_project/my_project_env/lib/python3.8/site-packages/xgboost/data.py:208: FutureWarning: pandas.Int64Index is deprecated and will be removed from pandas in a future version. Use pandas.Index with the appropriate dtype instead.\n",
      "  from pandas import MultiIndex, Int64Index\n"
     ]
    },
    {
     "name": "stdout",
     "output_type": "stream",
     "text": [
      "Printing XGBoost result:\n",
      "                 precision    recall  f1-score   support\n",
      "\n",
      "   anomaly-spam       0.99      0.94      0.97       134\n",
      "anomaly-sshscan       1.00      0.97      0.99        34\n",
      "     background       0.97      0.96      0.96      5971\n",
      "      blacklist       0.96      0.97      0.97      5987\n",
      "            dos       1.00      1.00      1.00      1335\n",
      "    nerisbotnet       0.99      0.98      0.98       570\n",
      "         scan11       1.00      1.00      1.00      5984\n",
      "         scan44       1.00      1.00      1.00      5907\n",
      "\n",
      "       accuracy                           0.98     25922\n",
      "      macro avg       0.99      0.98      0.98     25922\n",
      "   weighted avg       0.98      0.98      0.98     25922\n",
      "\n",
      "-----------------------------------------------------------------------\n",
      "Accuracy: 98.30%; precision: 98.31%; Recall: 98.30%; F1: 98.30%\n"
     ]
    },
    {
     "data": {
      "image/png": "[encoded data removed]",
      "text/plain": [
       "<Figure size 504x432 with 2 Axes>"
      ]
     },
     "metadata": {
      "needs_background": "light"
     },
     "output_type": "display_data"
    }
   ],
   "source": [
    "import pandas as pd \n",
    "import numpy as np \n",
    "from xgboost import XGBClassifier\n",
    "from sklearn.metrics import classification_report, confusion_matrix, accuracy_score, precision_score, recall_score, f1_score\n",
    "from sklearn.preprocessing import LabelEncoder\n",
    "import xgboost as xgb\n",
    "import matplotlib.pylab as plt\n",
    "import seaborn as sns\n",
    "\n",
    "def plot_confusion_matrix(cm, classes, normalized=True, cmap='bone'):\n",
    "    plt.figure(figsize=[7, 6])\n",
    "    norm_cm = cm\n",
    "    if normalized:\n",
    "        norm_cm = cm.astype('float') / cm.sum(axis=1)[:, np.newaxis]\n",
    "        sns.heatmap(norm_cm, annot=cm, fmt='g', xticklabels=classes, yticklabels=classes, cmap=cmap)\n",
    "        \n",
    "# read data\n",
    "mydt = pd.read_csv(\"../dataset/UGR/train_ori.csv\")\n",
    "\n",
    "le = LabelEncoder()\n",
    "y_train = le.fit_transform(mydt.iloc[:,19])\n",
    "X_train = mydt.iloc[:,0:19] \n",
    "\n",
    "# read test data\n",
    "mydt2 = pd.read_csv(\"../dataset/UGR/test.csv\")\n",
    "\n",
    "y_test = le.fit_transform(mydt2.iloc[:,19])\n",
    "X_test = mydt2.iloc[:,0:19] \n",
    "\n",
    "dtrain = xgb.DMatrix(data=X_train, label=y_train)\n",
    "dtest = xgb.DMatrix(data=X_test)\n",
    "\n",
    "params = {'learning_rate': 0.2,\n",
    "        'max_depth': 20,\n",
    "        'objective': 'multi:softmax',  # error evaluation for multiclass training\n",
    "        'num_class': 8,\n",
    "        'eval_metric':\"mlogloss\"\n",
    "}\n",
    "\n",
    "model = xgb.train(params, dtrain)\n",
    "y_pred = model.predict(dtest)\n",
    "cm = confusion_matrix(y_test, y_pred)\n",
    "accuracy = accuracy_score(y_test, y_pred)\n",
    "precision = precision_score(y_test, y_pred, average='weighted')\n",
    "f1 = f1_score(y_test, y_pred, average='weighted')\n",
    "recall = recall_score(y_test, y_pred, average='weighted')\n",
    "\n",
    "print('Printing XGBoost result:')\n",
    "print(classification_report(y_test, y_pred, target_names=le.classes_))\n",
    "\n",
    "print(\"-----------------------------------------------------------------------\")\n",
    "print('Accuracy: {:.2f}%; precision: {:.2f}%; Recall: {:.2f}%; F1: {:.2f}%'.format(accuracy*100, precision*100, recall*100, f1*100)) # elapsed: {:.2f} s\n",
    "\n",
    "plot_confusion_matrix(cm, classes=le.classes_)"
   ]
  },
  {
   "cell_type": "code",
   "execution_count": null,
   "id": "a536e0e2",
   "metadata": {},
   "outputs": [],
   "source": [
    "model = XGBClassifier(use_label_encoder=True)\n",
    "# define the datasets to evaluate each iteration\n",
    "evalset = [(X_train, y_train), (X_test,y_test)]\n",
    "# fit the model\n",
    "model.fit(X_train, y_train, eval_metric=[\"error\", \"logloss\"], eval_set=evalset)\n",
    "\n",
    "y_pred = model.predict(X_test)\n",
    "accuracy = accuracy_score(y_test, y_pred)\n",
    "print(\"Accuracy: %.2f%%\" % (accuracy * 100.0))\n",
    "\n",
    "%matplotlib inline\n",
    "# Testing \n",
    "cm = confusion_matrix(y_test, y_pred) \n",
    "tnr = recall_score(y_test, y_pred) \n",
    "fpr = 1 - tnr\n",
    "\n",
    "print (\"confusion_matrix for test data\\n\",cm)\n",
    "print(classification_report(y_test,y_pred,labels=np.unique(y_pred)))\n",
    "print('Accuracy: %.4f' % accuracy_score(y_test, y_pred))\n",
    "print('Precision: %.4f' % precision_score(y_test, y_pred))\n",
    "print('Recall: %.4f' % recall_score(y_test, y_pred))\n",
    "print('F1 Score: %.4f' % f1_score(y_test, y_pred))\n",
    "print('FPR Score: %.4f' % fpr)"
   ]
  },
  {
   "cell_type": "code",
   "execution_count": null,
   "id": "ed6a1f9e",
   "metadata": {},
   "outputs": [],
   "source": [
    "#Plot Precision-Recall Curve \n",
    "import matplotlib.pyplot as plt \n",
    "from sklearn.metrics import precision_recall_curve\n",
    "\n",
    "#calculate precision and recall\n",
    "precision, recall, thresholds = precision_recall_curve(y_test, y_pred)\n",
    "\n",
    "#create precision recall curve\n",
    "fig, ax = plt.subplots()\n",
    "ax.plot(recall, precision, color='blue')\n",
    "ax.grid(False)\n",
    "\n",
    "#add axis labels to plot\n",
    "ax.set_title('Precision-Recall Curve')\n",
    "ax.set_ylabel('Precision')\n",
    "ax.set_xlabel('Recall')\n",
    "#display plot\n",
    "#plt.savefig('Precision-Recall_curve_XGBoost_UGR_after.png')\n",
    "plt.show()"
   ]
  },
  {
   "cell_type": "code",
   "execution_count": null,
   "id": "3e390411",
   "metadata": {},
   "outputs": [],
   "source": [
    "# Plot confusion matrix\n",
    "fig, ax = plt.subplots(figsize=(5, 5))\n",
    "ax.matshow(cm, cmap='Oranges', alpha=0.3)\n",
    "ax.grid(False)\n",
    "plt.tick_params(axis=u'both', which=u'both',length=0)\n",
    "for i in range(cm.shape[0]):\n",
    "    for j in range(cm.shape[1]):\n",
    "        ax.text(x=j, y=i,s=cm[i, j], va='center', ha='center', size='xx-large')\n",
    " \n",
    "plt.xlabel('Predictions', fontsize=18)\n",
    "plt.ylabel('Actuals', fontsize=18)\n",
    "plt.title('Confusion Matrix', fontsize=18)\n",
    "#plt.savefig('confusion_matrix_XGBoost_UGR_after.png')\n",
    "plt.show()"
   ]
  },
  {
   "cell_type": "code",
   "execution_count": null,
   "id": "37619155",
   "metadata": {},
   "outputs": [],
   "source": [
    "# retrieve performance metrics\n",
    "results = model.evals_result()\n",
    "epochs = len(results[\"validation_0\"][\"error\"])\n",
    "x_axis = range(0, epochs)\n",
    "# plot learning curves\n",
    "fig, ax = plt.subplots(figsize=(10, 5))\n",
    "ax.grid(False)\n",
    "\n",
    "plt.plot(x_axis, results['validation_0']['logloss'], label='train')\n",
    "plt.plot(x_axis, results['validation_1']['logloss'], label='test')\n",
    "# show the legend\n",
    "plt.legend()\n",
    "# show the plot\n",
    "plt.show()\n",
    "#plt.savefig('model_loss_XGBoost_UGR_after.png')"
   ]
  },
  {
   "cell_type": "code",
   "execution_count": null,
   "id": "466e4e12",
   "metadata": {},
   "outputs": [],
   "source": [
    "# plot classification error\n",
    "fig, ax = plt.subplots(figsize=(10,5))\n",
    "ax.plot(x_axis, results[\"validation_0\"][\"error\"], label=\"Train\")\n",
    "ax.plot(x_axis, results[\"validation_1\"][\"error\"], label=\"Test\")\n",
    "ax.legend()\n",
    "plt.ylabel(\"Classification Error\")\n",
    "plt.title(\"XGBoost Classification Error\")\n",
    "#plt.savefig('model_error_XGBoost_UGR_after.png')\n",
    "plt.show()"
   ]
  },
  {
   "cell_type": "code",
   "execution_count": null,
   "id": "b8ed9928",
   "metadata": {},
   "outputs": [],
   "source": [
    "# Plot ROC\n",
    "from sklearn.metrics import auc, plot_precision_recall_curve, roc_curve, roc_auc_score\n",
    "\n",
    "false_positive_rate, true_positive_rate, threshold = roc_curve(y_test, y_pred)\n",
    "print('roc_auc_score: ', roc_auc_score(y_test, y_pred))\n",
    "plt.subplots(1, figsize=(10,5))\n",
    "plt.title('ROC cure_b')\n",
    "plt.plot(false_positive_rate, true_positive_rate)\n",
    "plt.plot([0, 1], ls=\"--\")\n",
    "plt.plot([0, 0], [1, 0] , c=\".7\"), plt.plot([1, 1] , c=\".7\")\n",
    "plt.ylabel('True Positive Rate')\n",
    "plt.xlabel('False Positive Rate')\n",
    "#plt.savefig('Roc_curve_XGBoost_UGR_after.png')\n",
    "plt.show()"
   ]
  },
  {
   "cell_type": "code",
   "execution_count": null,
   "id": "91728d66",
   "metadata": {},
   "outputs": [],
   "source": []
  }
 ],
 "metadata": {
  "kernelspec": {
   "display_name": "Python 3 (ipykernel)",
   "language": "python",
   "name": "python3"
  },
  "language_info": {
   "codemirror_mode": {
    "name": "ipython",
    "version": 3
   },
   "file_extension": ".py",
   "mimetype": "text/x-python",
   "name": "python",
   "nbconvert_exporter": "python",
   "pygments_lexer": "ipython3",
   "version": "3.8.10"
  }
 },
 "nbformat": 4,
 "nbformat_minor": 5
}
