{
 "cells": [
  {
   "cell_type": "code",
   "execution_count": 1,
   "id": "4cd2f270",
   "metadata": {
    "scrolled": true
   },
   "outputs": [
    {
     "name": "stderr",
     "output_type": "stream",
     "text": [
      "/home/mltest/my_project/my_project_env/lib/python3.8/site-packages/xgboost/compat.py:31: FutureWarning: pandas.Int64Index is deprecated and will be removed from pandas in a future version. Use pandas.Index with the appropriate dtype instead.\n",
      "  from pandas import MultiIndex, Int64Index\n"
     ]
    },
    {
     "name": "stdout",
     "output_type": "stream",
     "text": [
      "Train dataset \n",
      " scan44             14093\n",
      "background         14029\n",
      "scan11             14016\n",
      "blacklist          14013\n",
      "dos                 3165\n",
      "nerisbotnet         1430\n",
      "anomaly-spam         266\n",
      "anomaly-sshscan       75\n",
      "Name: Label, dtype: int64 \n",
      "\n",
      "--------------------------------------------------------\n",
      "Test dataset \n",
      " blacklist          5987\n",
      "scan11             5984\n",
      "background         5971\n",
      "scan44             5907\n",
      "dos                1335\n",
      "nerisbotnet         570\n",
      "anomaly-spam        134\n",
      "anomaly-sshscan      34\n",
      "Name: Label, dtype: int64 \n",
      "\n",
      "--------------------------------------------------------\n"
     ]
    }
   ],
   "source": [
    "from audioop import avg\n",
    "import cmath\n",
    "from fileinput import filename\n",
    "from gc import enable\n",
    "import sys\n",
    "from matplotlib.pyplot import axis\n",
    "import pandas as pd\n",
    "from sklearn.model_selection import KFold\n",
    "import xgboost as xgb\n",
    "from sklearn.metrics import classification_report\n",
    "from sklearn.metrics import confusion_matrix\n",
    "from sklearn.metrics import f1_score, recall_score, precision_score, accuracy_score, roc_auc_score\n",
    "import warnings\n",
    "warnings.filterwarnings(\"ignore\")\n",
    "from fastai.tabular.all import *\n",
    "\n",
    "dataPath = ('../dataset/UGR/')\n",
    "df_train = pd.read_csv('../dataset/UGR/train_ori.csv')\n",
    "df_test = pd.read_csv('../dataset/UGR/test.csv')\n",
    "\n",
    "y_names = 'Label'\n",
    "\n",
    "print('Train dataset',\"\\n\",df_train[y_names].value_counts(), \"\\n\")\n",
    "print('--------------------------------------------------------')\n",
    "print('Test dataset',\"\\n\",df_test[y_names].value_counts(), \"\\n\")\n",
    "print('--------------------------------------------------------')"
   ]
  },
  {
   "cell_type": "code",
   "execution_count": 2,
   "id": "281d59a7",
   "metadata": {
    "scrolled": true
   },
   "outputs": [
    {
     "data": {
      "text/html": [
       "\n",
       "<style>\n",
       "    /* Turns off some styling */\n",
       "    progress {\n",
       "        /* gets rid of default border in Firefox and Opera. */\n",
       "        border: none;\n",
       "        /* Needs to be in here for Safari polyfill so background images work as expected. */\n",
       "        background-size: auto;\n",
       "    }\n",
       "    .progress-bar-interrupted, .progress-bar-interrupted::-webkit-progress-bar {\n",
       "        background: #F44336;\n",
       "    }\n",
       "</style>\n"
      ],
      "text/plain": [
       "<IPython.core.display.HTML object>"
      ]
     },
     "metadata": {},
     "output_type": "display_data"
    },
    {
     "data": {
      "text/html": [
       "<table border=\"1\" class=\"dataframe\">\n",
       "  <thead>\n",
       "    <tr style=\"text-align: left;\">\n",
       "      <th>epoch</th>\n",
       "      <th>train_loss</th>\n",
       "      <th>valid_loss</th>\n",
       "      <th>accuracy</th>\n",
       "      <th>precision_score</th>\n",
       "      <th>f1_score</th>\n",
       "      <th>recall_score</th>\n",
       "      <th>roc_auc_score</th>\n",
       "      <th>time</th>\n",
       "    </tr>\n",
       "  </thead>\n",
       "  <tbody>\n",
       "    <tr>\n",
       "      <td>0</td>\n",
       "      <td>0.424438</td>\n",
       "      <td>0.422001</td>\n",
       "      <td>0.803471</td>\n",
       "      <td>0.813723</td>\n",
       "      <td>0.803284</td>\n",
       "      <td>0.803471</td>\n",
       "      <td>0.955740</td>\n",
       "      <td>00:05</td>\n",
       "    </tr>\n",
       "  </tbody>\n",
       "</table>"
      ],
      "text/plain": [
       "<IPython.core.display.HTML object>"
      ]
     },
     "metadata": {},
     "output_type": "display_data"
    },
    {
     "name": "stdout",
     "output_type": "stream",
     "text": [
      "DNN Predicting...\n"
     ]
    },
    {
     "data": {
      "text/html": [
       "\n",
       "<style>\n",
       "    /* Turns off some styling */\n",
       "    progress {\n",
       "        /* gets rid of default border in Firefox and Opera. */\n",
       "        border: none;\n",
       "        /* Needs to be in here for Safari polyfill so background images work as expected. */\n",
       "        background-size: auto;\n",
       "    }\n",
       "    .progress-bar-interrupted, .progress-bar-interrupted::-webkit-progress-bar {\n",
       "        background: #F44336;\n",
       "    }\n",
       "</style>\n"
      ],
      "text/plain": [
       "<IPython.core.display.HTML object>"
      ]
     },
     "metadata": {},
     "output_type": "display_data"
    },
    {
     "data": {
      "text/html": [],
      "text/plain": [
       "<IPython.core.display.HTML object>"
      ]
     },
     "metadata": {},
     "output_type": "display_data"
    },
    {
     "name": "stdout",
     "output_type": "stream",
     "text": [
      "Printing result of DNN\n"
     ]
    },
    {
     "data": {
      "text/html": [
       "\n",
       "<style>\n",
       "    /* Turns off some styling */\n",
       "    progress {\n",
       "        /* gets rid of default border in Firefox and Opera. */\n",
       "        border: none;\n",
       "        /* Needs to be in here for Safari polyfill so background images work as expected. */\n",
       "        background-size: auto;\n",
       "    }\n",
       "    .progress-bar-interrupted, .progress-bar-interrupted::-webkit-progress-bar {\n",
       "        background: #F44336;\n",
       "    }\n",
       "</style>\n"
      ],
      "text/plain": [
       "<IPython.core.display.HTML object>"
      ]
     },
     "metadata": {},
     "output_type": "display_data"
    },
    {
     "data": {
      "text/html": [],
      "text/plain": [
       "<IPython.core.display.HTML object>"
      ]
     },
     "metadata": {},
     "output_type": "display_data"
    },
    {
     "data": {
      "text/html": [
       "\n",
       "<style>\n",
       "    /* Turns off some styling */\n",
       "    progress {\n",
       "        /* gets rid of default border in Firefox and Opera. */\n",
       "        border: none;\n",
       "        /* Needs to be in here for Safari polyfill so background images work as expected. */\n",
       "        background-size: auto;\n",
       "    }\n",
       "    .progress-bar-interrupted, .progress-bar-interrupted::-webkit-progress-bar {\n",
       "        background: #F44336;\n",
       "    }\n",
       "</style>\n"
      ],
      "text/plain": [
       "<IPython.core.display.HTML object>"
      ]
     },
     "metadata": {},
     "output_type": "display_data"
    },
    {
     "data": {
      "text/html": [],
      "text/plain": [
       "<IPython.core.display.HTML object>"
      ]
     },
     "metadata": {},
     "output_type": "display_data"
    },
    {
     "name": "stdout",
     "output_type": "stream",
     "text": [
      "DNN ELAPSED: 2.459562\n"
     ]
    },
    {
     "data": {
      "text/html": [
       "\n",
       "<style>\n",
       "    /* Turns off some styling */\n",
       "    progress {\n",
       "        /* gets rid of default border in Firefox and Opera. */\n",
       "        border: none;\n",
       "        /* Needs to be in here for Safari polyfill so background images work as expected. */\n",
       "        background-size: auto;\n",
       "    }\n",
       "    .progress-bar-interrupted, .progress-bar-interrupted::-webkit-progress-bar {\n",
       "        background: #F44336;\n",
       "    }\n",
       "</style>\n"
      ],
      "text/plain": [
       "<IPython.core.display.HTML object>"
      ]
     },
     "metadata": {},
     "output_type": "display_data"
    },
    {
     "data": {
      "text/html": [],
      "text/plain": [
       "<IPython.core.display.HTML object>"
      ]
     },
     "metadata": {},
     "output_type": "display_data"
    },
    {
     "name": "stdout",
     "output_type": "stream",
     "text": [
      "Confusion Matrix:\n",
      " [[  27    0   11   15    0    0    0    0]\n",
      " [   0   11    2    0    0    1    0    0]\n",
      " [   8    5 1833  960    0   10    3    5]\n",
      " [   7    7  764 2063    3    2    4    8]\n",
      " [   0    0    3   81  540    3    0    1]\n",
      " [   0    1   16  191    0  104    0    0]\n",
      " [   0    0    7    1    0    0 2795    7]\n",
      " [   0    0   12   41    0    0  222 2443]]\n",
      "Accuracy: 80.60%; precision: 81.65%; F1: 80.63%; Recall: 80.60%; roc-auc: 95.77%; elapsed: 2.46 s\n"
     ]
    }
   ],
   "source": [
    "labels = ['background', 'scan11', 'scan44', 'blacklist', 'nerisbotnet', 'anomaly-spam', 'anomaly-sshscan','dos']\n",
    "\n",
    "cat_names = ['source_ip', 'dest_ip', 'source_port', 'dest_port', \n",
    "             'protocol', 'flag1', 'flag2', 'flag3',\n",
    "             'flag4', 'flag5', 'flag6']\n",
    "\n",
    "cont_names = ['hour', 'minute', 'second', 'duration', 'stos', 'pkt','fwd', 'byt']\n",
    "\n",
    "procs = [Categorify, FillMissing, Normalize]\n",
    "\n",
    "dls = TabularDataLoaders.from_df(df_train, path=dataPath, procs=procs, y_names=y_names, bs=400) #, valid_idx=list(range(1,test.shape[0])))\n",
    "roc_auc = RocAuc(average='weighted')\n",
    "learn = tabular_learner(dls, layers=[400,200], metrics=[accuracy, Precision(average='weighted'), F1Score(average='weighted'), Recall(average='weighted'), roc_auc])\n",
    "learn.fit(1, 1e-2)\n",
    "\n",
    "dl = learn.dls.test_dl(df_test, with_labels=True, drop_last=False)\n",
    "    \n",
    "print(\"DNN Predicting...\")\n",
    "start = time.time()\n",
    "nn_preds, tests, clas_idx = learn.get_preds(dl=dl, with_loss=False, with_decoded=True)\n",
    "elapsed = time.time() - start\n",
    "    \n",
    "print('Printing result of DNN')\n",
    "\n",
    "##### DNN CM\n",
    "loss, acc, precision, f1, recall, roc = learn.validate(dl=dl)\n",
    "interp = ClassificationInterpretation.from_learner(learn)\n",
    "print(\"DNN ELAPSED: %f\" % (elapsed))\n",
    "print(\"Confusion Matrix:\\n\", interp.confusion_matrix())\n",
    "print('Accuracy: {:.2f}%; precision: {:.2f}%; F1: {:.2f}%; Recall: {:.2f}%; roc-auc: {:.2f}%; elapsed: {:.2f} s'.format(acc*100, precision*100, f1*100, recall*100, roc*100,  elapsed ))\n"
   ]
  },
  {
   "cell_type": "code",
   "execution_count": null,
   "id": "352a1dbc",
   "metadata": {},
   "outputs": [],
   "source": [
    "import pandas as pd\n",
    "\n",
    "df = pd.read_csv('../dataset/UGR/original_0.csv')\n",
    "\n",
    "df['byt'].value_counts()"
   ]
  },
  {
   "cell_type": "code",
   "execution_count": null,
   "id": "fff0511c",
   "metadata": {},
   "outputs": [],
   "source": []
  }
 ],
 "metadata": {
  "kernelspec": {
   "display_name": "Python 3 (ipykernel)",
   "language": "python",
   "name": "python3"
  },
  "language_info": {
   "codemirror_mode": {
    "name": "ipython",
    "version": 3
   },
   "file_extension": ".py",
   "mimetype": "text/x-python",
   "name": "python",
   "nbconvert_exporter": "python",
   "pygments_lexer": "ipython3",
   "version": "3.8.10"
  }
 },
 "nbformat": 4,
 "nbformat_minor": 5
}
