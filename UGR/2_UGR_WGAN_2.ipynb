{
 "cells": [
  {
   "cell_type": "markdown",
   "id": "c82169cc",
   "metadata": {},
   "source": [
    "# DNN Critic model"
   ]
  },
  {
   "cell_type": "code",
   "execution_count": 1,
   "id": "d5f3b183",
   "metadata": {
    "scrolled": false
   },
   "outputs": [
    {
     "name": "stdout",
     "output_type": "stream",
     "text": [
      "0    14029\n",
      "1     1430\n",
      "Name: Label, dtype: int64\n",
      "Counter({0.0: 9791, 1.0: 1030})\n",
      "Counter({0.0: 4238, 1.0: 400})\n"
     ]
    },
    {
     "name": "stderr",
     "output_type": "stream",
     "text": [
      "2022-09-10 06:02:01.599859: E tensorflow/stream_executor/cuda/cuda_driver.cc:271] failed call to cuInit: CUDA_ERROR_NO_DEVICE: no CUDA-capable device is detected\n"
     ]
    },
    {
     "name": "stdout",
     "output_type": "stream",
     "text": [
      "Building Critic WGAN model...\n",
      "Epoch 1/100\n",
      "1083/1083 [==============================] - 7s 5ms/step - loss: 0.1735 - accuracy: 0.9238 - val_loss: 0.1130 - val_accuracy: 0.9467\n",
      "Epoch 2/100\n",
      "1083/1083 [==============================] - 5s 4ms/step - loss: 0.1079 - accuracy: 0.9499 - val_loss: 0.0983 - val_accuracy: 0.9595\n",
      "Epoch 3/100\n",
      "1083/1083 [==============================] - 5s 5ms/step - loss: 0.0946 - accuracy: 0.9584 - val_loss: 0.0913 - val_accuracy: 0.9584\n",
      "Epoch 4/100\n",
      "1083/1083 [==============================] - 5s 4ms/step - loss: 0.0873 - accuracy: 0.9644 - val_loss: 0.0886 - val_accuracy: 0.9651\n",
      "Epoch 5/100\n",
      "1083/1083 [==============================] - 5s 5ms/step - loss: 0.0822 - accuracy: 0.9657 - val_loss: 0.0784 - val_accuracy: 0.9700\n",
      "Epoch 6/100\n",
      "1083/1083 [==============================] - 5s 4ms/step - loss: 0.0787 - accuracy: 0.9675 - val_loss: 0.0815 - val_accuracy: 0.9681\n",
      "Epoch 7/100\n",
      "1083/1083 [==============================] - 5s 4ms/step - loss: 0.0760 - accuracy: 0.9697 - val_loss: 0.0724 - val_accuracy: 0.9713\n",
      "Epoch 8/100\n",
      "1083/1083 [==============================] - 4s 4ms/step - loss: 0.0737 - accuracy: 0.9701 - val_loss: 0.0750 - val_accuracy: 0.9687\n",
      "Epoch 9/100\n",
      "1083/1083 [==============================] - 5s 4ms/step - loss: 0.0717 - accuracy: 0.9712 - val_loss: 0.0692 - val_accuracy: 0.9748\n",
      "Epoch 10/100\n",
      "1083/1083 [==============================] - 5s 4ms/step - loss: 0.0701 - accuracy: 0.9729 - val_loss: 0.0696 - val_accuracy: 0.9726\n",
      "Epoch 11/100\n",
      "1083/1083 [==============================] - 5s 4ms/step - loss: 0.0680 - accuracy: 0.9715 - val_loss: 0.0714 - val_accuracy: 0.9698\n",
      "Epoch 12/100\n",
      "1083/1083 [==============================] - 5s 4ms/step - loss: 0.0674 - accuracy: 0.9715 - val_loss: 0.0631 - val_accuracy: 0.9767\n",
      "Epoch 13/100\n",
      "1083/1083 [==============================] - 5s 4ms/step - loss: 0.0647 - accuracy: 0.9726 - val_loss: 0.0645 - val_accuracy: 0.9765\n",
      "Epoch 14/100\n",
      "1083/1083 [==============================] - 5s 5ms/step - loss: 0.0630 - accuracy: 0.9738 - val_loss: 0.0629 - val_accuracy: 0.9748\n",
      "Epoch 15/100\n",
      "1083/1083 [==============================] - 5s 5ms/step - loss: 0.0619 - accuracy: 0.9767 - val_loss: 0.0651 - val_accuracy: 0.9746\n",
      "Epoch 16/100\n",
      "1083/1083 [==============================] - 6s 5ms/step - loss: 0.0601 - accuracy: 0.9757 - val_loss: 0.0674 - val_accuracy: 0.9750\n",
      "Epoch 17/100\n",
      "1083/1083 [==============================] - 5s 5ms/step - loss: 0.0574 - accuracy: 0.9772 - val_loss: 0.0603 - val_accuracy: 0.9776\n",
      "Epoch 18/100\n",
      "1083/1083 [==============================] - 5s 5ms/step - loss: 0.0559 - accuracy: 0.9778 - val_loss: 0.0656 - val_accuracy: 0.9724\n",
      "Epoch 19/100\n",
      "1083/1083 [==============================] - 6s 5ms/step - loss: 0.0544 - accuracy: 0.9780 - val_loss: 0.0610 - val_accuracy: 0.9763\n",
      "Epoch 20/100\n",
      "1083/1083 [==============================] - 5s 5ms/step - loss: 0.0536 - accuracy: 0.9792 - val_loss: 0.0597 - val_accuracy: 0.9784\n",
      "Epoch 21/100\n",
      "1083/1083 [==============================] - 5s 4ms/step - loss: 0.0522 - accuracy: 0.9790 - val_loss: 0.0593 - val_accuracy: 0.9797\n",
      "Epoch 22/100\n",
      "1083/1083 [==============================] - 5s 5ms/step - loss: 0.0516 - accuracy: 0.9803 - val_loss: 0.0545 - val_accuracy: 0.9838\n",
      "Epoch 23/100\n",
      "1083/1083 [==============================] - 5s 5ms/step - loss: 0.0478 - accuracy: 0.9823 - val_loss: 0.0568 - val_accuracy: 0.9778\n",
      "Epoch 24/100\n",
      "1083/1083 [==============================] - 5s 5ms/step - loss: 0.0486 - accuracy: 0.9820 - val_loss: 0.0512 - val_accuracy: 0.9849\n",
      "Epoch 25/100\n",
      "1083/1083 [==============================] - 5s 5ms/step - loss: 0.0481 - accuracy: 0.9816 - val_loss: 0.0600 - val_accuracy: 0.9815\n",
      "Epoch 26/100\n",
      "1083/1083 [==============================] - 5s 5ms/step - loss: 0.0484 - accuracy: 0.9816 - val_loss: 0.0526 - val_accuracy: 0.9815\n",
      "Epoch 27/100\n",
      "1083/1083 [==============================] - 5s 5ms/step - loss: 0.0464 - accuracy: 0.9824 - val_loss: 0.0536 - val_accuracy: 0.9840\n",
      "Epoch 28/100\n",
      "1083/1083 [==============================] - 5s 5ms/step - loss: 0.0461 - accuracy: 0.9828 - val_loss: 0.0522 - val_accuracy: 0.9845\n",
      "Epoch 29/100\n",
      "1083/1083 [==============================] - 5s 5ms/step - loss: 0.0438 - accuracy: 0.9845 - val_loss: 0.0561 - val_accuracy: 0.9821\n",
      "Epoch 30/100\n",
      "1083/1083 [==============================] - 5s 5ms/step - loss: 0.0461 - accuracy: 0.9830 - val_loss: 0.0510 - val_accuracy: 0.9836\n",
      "Epoch 31/100\n",
      "1083/1083 [==============================] - 5s 5ms/step - loss: 0.0430 - accuracy: 0.9836 - val_loss: 0.0525 - val_accuracy: 0.9830\n",
      "Epoch 32/100\n",
      "1083/1083 [==============================] - 5s 5ms/step - loss: 0.0427 - accuracy: 0.9841 - val_loss: 0.0601 - val_accuracy: 0.9787\n",
      "Epoch 33/100\n",
      "1083/1083 [==============================] - 5s 5ms/step - loss: 0.0420 - accuracy: 0.9836 - val_loss: 0.0600 - val_accuracy: 0.9795\n",
      "Epoch 34/100\n",
      "1083/1083 [==============================] - 5s 4ms/step - loss: 0.0413 - accuracy: 0.9849 - val_loss: 0.0550 - val_accuracy: 0.9823\n",
      "Epoch 35/100\n",
      "1083/1083 [==============================] - 5s 4ms/step - loss: 0.0417 - accuracy: 0.9839 - val_loss: 0.0683 - val_accuracy: 0.9687\n",
      "Epoch 36/100\n",
      "1083/1083 [==============================] - 5s 5ms/step - loss: 0.0414 - accuracy: 0.9840 - val_loss: 0.0546 - val_accuracy: 0.9817\n",
      "Epoch 37/100\n",
      "1083/1083 [==============================] - 5s 4ms/step - loss: 0.0404 - accuracy: 0.9853 - val_loss: 0.0531 - val_accuracy: 0.9836\n",
      "Epoch 38/100\n",
      "1083/1083 [==============================] - 5s 4ms/step - loss: 0.0395 - accuracy: 0.9868 - val_loss: 0.0637 - val_accuracy: 0.9806\n",
      "Epoch 39/100\n",
      "1083/1083 [==============================] - 6s 5ms/step - loss: 0.0399 - accuracy: 0.9836 - val_loss: 0.0566 - val_accuracy: 0.9821\n",
      "Epoch 40/100\n",
      "1083/1083 [==============================] - 4s 3ms/step - loss: 0.0404 - accuracy: 0.9846 - val_loss: 0.0568 - val_accuracy: 0.9825\n",
      "Epoch 41/100\n",
      "1083/1083 [==============================] - 3s 3ms/step - loss: 0.0399 - accuracy: 0.9845 - val_loss: 0.0532 - val_accuracy: 0.9834\n",
      "Epoch 42/100\n",
      "1083/1083 [==============================] - 3s 3ms/step - loss: 0.0382 - accuracy: 0.9855 - val_loss: 0.0537 - val_accuracy: 0.9808\n",
      "Epoch 43/100\n",
      "1083/1083 [==============================] - 4s 4ms/step - loss: 0.0388 - accuracy: 0.9861 - val_loss: 0.0523 - val_accuracy: 0.9825\n",
      "Epoch 44/100\n",
      "1083/1083 [==============================] - 3s 3ms/step - loss: 0.0377 - accuracy: 0.9859 - val_loss: 0.0486 - val_accuracy: 0.9866\n",
      "Epoch 45/100\n",
      "1083/1083 [==============================] - 3s 3ms/step - loss: 0.0379 - accuracy: 0.9849 - val_loss: 0.0552 - val_accuracy: 0.9821\n",
      "Epoch 46/100\n",
      "1083/1083 [==============================] - 3s 3ms/step - loss: 0.0371 - accuracy: 0.9858 - val_loss: 0.0474 - val_accuracy: 0.9871\n",
      "Epoch 47/100\n",
      "1083/1083 [==============================] - 3s 3ms/step - loss: 0.0368 - accuracy: 0.9870 - val_loss: 0.0489 - val_accuracy: 0.9858\n",
      "Epoch 48/100\n",
      "1083/1083 [==============================] - 3s 3ms/step - loss: 0.0348 - accuracy: 0.9875 - val_loss: 0.0482 - val_accuracy: 0.9853\n",
      "Epoch 49/100\n",
      "1083/1083 [==============================] - 3s 3ms/step - loss: 0.0362 - accuracy: 0.9864 - val_loss: 0.0515 - val_accuracy: 0.9849\n",
      "Epoch 50/100\n",
      "1083/1083 [==============================] - 4s 3ms/step - loss: 0.0343 - accuracy: 0.9874 - val_loss: 0.0507 - val_accuracy: 0.9849\n",
      "Epoch 51/100\n",
      "1083/1083 [==============================] - 3s 3ms/step - loss: 0.0358 - accuracy: 0.9870 - val_loss: 0.0542 - val_accuracy: 0.9851\n",
      "Epoch 52/100\n",
      "1083/1083 [==============================] - 5s 5ms/step - loss: 0.0340 - accuracy: 0.9872 - val_loss: 0.0516 - val_accuracy: 0.9821\n",
      "Epoch 53/100\n",
      "1083/1083 [==============================] - 6s 5ms/step - loss: 0.0351 - accuracy: 0.9862 - val_loss: 0.0520 - val_accuracy: 0.9847\n",
      "Epoch 54/100\n",
      "1083/1083 [==============================] - 4s 4ms/step - loss: 0.0350 - accuracy: 0.9869 - val_loss: 0.0480 - val_accuracy: 0.9858\n",
      "Epoch 55/100\n",
      "1083/1083 [==============================] - 4s 4ms/step - loss: 0.0336 - accuracy: 0.9870 - val_loss: 0.0490 - val_accuracy: 0.9834\n",
      "Epoch 56/100\n",
      "1083/1083 [==============================] - 5s 5ms/step - loss: 0.0331 - accuracy: 0.9872 - val_loss: 0.0549 - val_accuracy: 0.9834\n"
     ]
    },
    {
     "name": "stdout",
     "output_type": "stream",
     "text": [
      "Epoch 57/100\n",
      "1083/1083 [==============================] - 4s 4ms/step - loss: 0.0322 - accuracy: 0.9881 - val_loss: 0.0520 - val_accuracy: 0.9858\n",
      "Epoch 58/100\n",
      "1083/1083 [==============================] - 3s 3ms/step - loss: 0.0333 - accuracy: 0.9878 - val_loss: 0.0492 - val_accuracy: 0.9838\n",
      "Epoch 59/100\n",
      "1083/1083 [==============================] - 4s 3ms/step - loss: 0.0314 - accuracy: 0.9892 - val_loss: 0.0492 - val_accuracy: 0.9845\n",
      "Epoch 60/100\n",
      "1083/1083 [==============================] - 4s 3ms/step - loss: 0.0327 - accuracy: 0.9884 - val_loss: 0.0518 - val_accuracy: 0.9851\n",
      "Epoch 61/100\n",
      "1083/1083 [==============================] - 4s 3ms/step - loss: 0.0318 - accuracy: 0.9885 - val_loss: 0.0551 - val_accuracy: 0.9830\n",
      "Epoch 62/100\n",
      "1083/1083 [==============================] - 3s 3ms/step - loss: 0.0319 - accuracy: 0.9889 - val_loss: 0.0496 - val_accuracy: 0.9860\n",
      "Epoch 63/100\n",
      "1083/1083 [==============================] - 3s 3ms/step - loss: 0.0307 - accuracy: 0.9890 - val_loss: 0.0546 - val_accuracy: 0.9836\n",
      "Epoch 64/100\n",
      "1083/1083 [==============================] - 3s 3ms/step - loss: 0.0304 - accuracy: 0.9886 - val_loss: 0.0548 - val_accuracy: 0.9830\n",
      "Epoch 65/100\n",
      "1083/1083 [==============================] - 3s 3ms/step - loss: 0.0315 - accuracy: 0.9885 - val_loss: 0.0487 - val_accuracy: 0.9862\n",
      "Epoch 66/100\n",
      "1083/1083 [==============================] - 4s 4ms/step - loss: 0.0301 - accuracy: 0.9888 - val_loss: 0.0493 - val_accuracy: 0.9847\n",
      "Epoch 67/100\n",
      "1083/1083 [==============================] - 3s 3ms/step - loss: 0.0298 - accuracy: 0.9893 - val_loss: 0.0553 - val_accuracy: 0.9828\n",
      "Epoch 68/100\n",
      "1083/1083 [==============================] - 4s 3ms/step - loss: 0.0297 - accuracy: 0.9888 - val_loss: 0.0487 - val_accuracy: 0.9860\n",
      "Epoch 69/100\n",
      "1083/1083 [==============================] - 4s 3ms/step - loss: 0.0295 - accuracy: 0.9900 - val_loss: 0.0476 - val_accuracy: 0.9881\n",
      "Epoch 70/100\n",
      "1083/1083 [==============================] - 3s 3ms/step - loss: 0.0298 - accuracy: 0.9886 - val_loss: 0.0511 - val_accuracy: 0.9849\n",
      "Epoch 71/100\n",
      "1083/1083 [==============================] - 4s 3ms/step - loss: 0.0292 - accuracy: 0.9892 - val_loss: 0.0484 - val_accuracy: 0.9862\n",
      "Epoch 72/100\n",
      "1083/1083 [==============================] - 3s 3ms/step - loss: 0.0288 - accuracy: 0.9895 - val_loss: 0.0453 - val_accuracy: 0.9879\n",
      "Epoch 73/100\n",
      "1083/1083 [==============================] - 3s 3ms/step - loss: 0.0283 - accuracy: 0.9897 - val_loss: 0.0519 - val_accuracy: 0.9860\n",
      "Epoch 74/100\n",
      "1083/1083 [==============================] - 3s 3ms/step - loss: 0.0278 - accuracy: 0.9902 - val_loss: 0.0639 - val_accuracy: 0.9791\n",
      "Epoch 75/100\n",
      "1083/1083 [==============================] - 6s 6ms/step - loss: 0.0298 - accuracy: 0.9885 - val_loss: 0.0520 - val_accuracy: 0.9843\n",
      "Epoch 76/100\n",
      "1083/1083 [==============================] - 4s 3ms/step - loss: 0.0270 - accuracy: 0.9909 - val_loss: 0.0557 - val_accuracy: 0.9812\n",
      "Epoch 77/100\n",
      "1083/1083 [==============================] - 3s 3ms/step - loss: 0.0286 - accuracy: 0.9892 - val_loss: 0.0460 - val_accuracy: 0.9875\n",
      "Epoch 78/100\n",
      "1083/1083 [==============================] - 4s 3ms/step - loss: 0.0264 - accuracy: 0.9904 - val_loss: 0.0465 - val_accuracy: 0.9853\n",
      "Epoch 79/100\n",
      "1083/1083 [==============================] - 4s 3ms/step - loss: 0.0271 - accuracy: 0.9905 - val_loss: 0.0513 - val_accuracy: 0.9847\n",
      "Epoch 80/100\n",
      "1083/1083 [==============================] - 3s 3ms/step - loss: 0.0267 - accuracy: 0.9907 - val_loss: 0.0533 - val_accuracy: 0.9825\n",
      "Epoch 81/100\n",
      "1083/1083 [==============================] - 3s 3ms/step - loss: 0.0268 - accuracy: 0.9899 - val_loss: 0.0484 - val_accuracy: 0.9847\n",
      "Epoch 82/100\n",
      "1083/1083 [==============================] - 3s 3ms/step - loss: 0.0254 - accuracy: 0.9910 - val_loss: 0.0516 - val_accuracy: 0.9840\n",
      "Epoch 83/100\n",
      "1083/1083 [==============================] - 4s 4ms/step - loss: 0.0279 - accuracy: 0.9896 - val_loss: 0.0471 - val_accuracy: 0.9847\n",
      "Epoch 84/100\n",
      "1083/1083 [==============================] - 4s 4ms/step - loss: 0.0260 - accuracy: 0.9908 - val_loss: 0.0499 - val_accuracy: 0.9858\n",
      "Epoch 85/100\n",
      "1083/1083 [==============================] - 5s 5ms/step - loss: 0.0256 - accuracy: 0.9911 - val_loss: 0.0517 - val_accuracy: 0.9856\n",
      "Epoch 86/100\n",
      "1083/1083 [==============================] - 4s 4ms/step - loss: 0.0262 - accuracy: 0.9909 - val_loss: 0.0499 - val_accuracy: 0.9868\n",
      "Epoch 87/100\n",
      "1083/1083 [==============================] - 3s 3ms/step - loss: 0.0252 - accuracy: 0.9919 - val_loss: 0.0504 - val_accuracy: 0.9886\n",
      "Epoch 88/100\n",
      "1083/1083 [==============================] - 4s 3ms/step - loss: 0.0235 - accuracy: 0.9915 - val_loss: 0.0444 - val_accuracy: 0.9873\n",
      "Epoch 89/100\n",
      "1083/1083 [==============================] - 3s 3ms/step - loss: 0.0269 - accuracy: 0.9896 - val_loss: 0.0524 - val_accuracy: 0.9858\n",
      "Epoch 90/100\n",
      "1083/1083 [==============================] - 4s 4ms/step - loss: 0.0249 - accuracy: 0.9914 - val_loss: 0.0490 - val_accuracy: 0.9862\n",
      "Epoch 91/100\n",
      "1083/1083 [==============================] - 3s 3ms/step - loss: 0.0243 - accuracy: 0.9912 - val_loss: 0.0460 - val_accuracy: 0.9866\n",
      "Epoch 92/100\n",
      "1083/1083 [==============================] - 3s 3ms/step - loss: 0.0241 - accuracy: 0.9915 - val_loss: 0.0474 - val_accuracy: 0.9884\n",
      "Epoch 93/100\n",
      "1083/1083 [==============================] - 5s 4ms/step - loss: 0.0252 - accuracy: 0.9904 - val_loss: 0.0639 - val_accuracy: 0.9819\n",
      "Epoch 94/100\n",
      "1083/1083 [==============================] - 4s 4ms/step - loss: 0.0236 - accuracy: 0.9916 - val_loss: 0.0498 - val_accuracy: 0.9858\n",
      "Epoch 95/100\n",
      "1083/1083 [==============================] - 3s 3ms/step - loss: 0.0219 - accuracy: 0.9924 - val_loss: 0.0617 - val_accuracy: 0.9825\n",
      "Epoch 96/100\n",
      "1083/1083 [==============================] - 3s 3ms/step - loss: 0.0242 - accuracy: 0.9911 - val_loss: 0.0531 - val_accuracy: 0.9862\n",
      "Epoch 97/100\n",
      "1083/1083 [==============================] - 4s 4ms/step - loss: 0.0250 - accuracy: 0.9912 - val_loss: 0.0506 - val_accuracy: 0.9860\n",
      "Epoch 98/100\n",
      "1083/1083 [==============================] - 3s 3ms/step - loss: 0.0214 - accuracy: 0.9928 - val_loss: 0.0527 - val_accuracy: 0.9879\n",
      "Epoch 99/100\n",
      "1083/1083 [==============================] - 3s 3ms/step - loss: 0.0235 - accuracy: 0.9907 - val_loss: 0.0481 - val_accuracy: 0.9881\n",
      "Epoch 100/100\n",
      "1083/1083 [==============================] - 3s 3ms/step - loss: 0.0216 - accuracy: 0.9923 - val_loss: 0.0524 - val_accuracy: 0.9862\n",
      "145/145 [==============================] - 0s 2ms/step\n",
      "Accuracy: 98.62%\n",
      "confusion_matrix for test data\n",
      " [[4194   44]\n",
      " [  20  380]]\n",
      "              precision    recall  f1-score   support\n",
      "\n",
      "           0       1.00      0.99      0.99      4238\n",
      "           1       0.90      0.95      0.92       400\n",
      "\n",
      "    accuracy                           0.99      4638\n",
      "   macro avg       0.95      0.97      0.96      4638\n",
      "weighted avg       0.99      0.99      0.99      4638\n",
      "\n",
      "Accuracy: 0.9862\n",
      "Precision: 0.8962\n",
      "Recall: 0.9500\n",
      "F1 Score: 0.9223\n",
      "FPR Score: 0.0500\n",
      "Saved model!\n"
     ]
    }
   ],
   "source": [
    "import pandas as pd \n",
    "import numpy as np  \n",
    "import os\n",
    "os.environ['TF_CPP_MIN_LOG_LEVEL']='2'\n",
    "from collections import Counter\n",
    "from tensorflow.keras.models import Sequential\n",
    "from tensorflow.keras.layers import Dense\n",
    "from keras import optimizers\n",
    "from sklearn.model_selection import train_test_split\n",
    "from sklearn.preprocessing import MinMaxScaler\n",
    "from sklearn.metrics import classification_report, confusion_matrix, accuracy_score, precision_score, recall_score, f1_score\n",
    "\n",
    "# read data\n",
    "mydt = pd.read_csv(\"../dataset/UGR/trainbot.csv\")\n",
    "print(mydt['Label'].value_counts())\n",
    "# Create matrix of features and matrix of target variable \n",
    "dataset = mydt.values\n",
    "X = dataset[:,0:19]\n",
    "y = dataset[:,19]\n",
    "\n",
    "# convert the scaled array to dataframe \n",
    "#min_max_scaler = MinMaxScaler()\n",
    "#X_scale = min_max_scaler.fit_transform(X)\n",
    "\n",
    "X_full = X\n",
    "y_full = y\n",
    "\n",
    "X_train, X_test, y_train, y_test = train_test_split(X_full, y_full, test_size=0.3, random_state=1)\n",
    "\n",
    "print(Counter(y_train))\n",
    "print(Counter(y_test))\n",
    "\n",
    "# define the keras model\n",
    "model = Sequential()\n",
    "model.add(Dense(128, input_shape=(19,), activation='relu'))\n",
    "model.add(Dense(19, activation='relu'))\n",
    "model.add(Dense(1, activation='sigmoid'))\n",
    "\n",
    "# compile the keras model\n",
    "model.compile(loss='binary_crossentropy', optimizer='adam', metrics=['accuracy'])\n",
    "\n",
    "print(\"Building Critic WGAN model...\")\n",
    "# fit the keras model on the dataset\n",
    "mod = model.fit(X_train, y_train, epochs=100, batch_size=10, verbose=1, validation_data=(X_test, y_test))\n",
    "\n",
    "# make class predictions with the model\n",
    "y_pred = (model.predict(X_test) > 0.5).astype(int)\n",
    "accuracy = accuracy_score(y_test, y_pred)\n",
    "print(\"Accuracy: %.2f%%\" % (accuracy * 100))\n",
    "\n",
    "%matplotlib inline\n",
    "# Testing \n",
    "cm = confusion_matrix(y_test, y_pred) \n",
    "tnr = recall_score(y_test, y_pred) \n",
    "fpr = 1 - tnr\n",
    "\n",
    "print (\"confusion_matrix for test data\\n\",cm)\n",
    "print(classification_report(y_test,y_pred,labels=np.unique(y_pred)))\n",
    "print('Accuracy: %.4f' % accuracy_score(y_test, y_pred))\n",
    "print('Precision: %.4f' % precision_score(y_test, y_pred))\n",
    "print('Recall: %.4f' % recall_score(y_test, y_pred))\n",
    "print('F1 Score: %.4f' % f1_score(y_test, y_pred))\n",
    "print('FPR Score: %.4f' % fpr)\n",
    "\n",
    "# Save model\n",
    "# serialize model to JSON\n",
    "model_json = model.to_json()\n",
    "with open(\"DNN_critic_model_UGR_2.json\", \"w\") as json_file:\n",
    "    json_file.write(model_json)\n",
    "    \n",
    "# serialize weights to HDF5\n",
    "model.save_weights(\"DNN_critic_model_UGR_2.h5\")\n",
    "print(\"Saved model!\")"
   ]
  },
  {
   "cell_type": "markdown",
   "id": "74c46926",
   "metadata": {},
   "source": [
    "# WGAN"
   ]
  },
  {
   "cell_type": "code",
   "execution_count": 2,
   "id": "b5a0a63c",
   "metadata": {
    "scrolled": true
   },
   "outputs": [
    {
     "name": "stdout",
     "output_type": "stream",
     "text": [
      "original data label features number:\n",
      "0    14029\n",
      "1     1430\n",
      "Name: Label, dtype: int64\n",
      "----------------------------------------\n",
      "attack value number:\n",
      "1    1430\n",
      "Name: Label, dtype: int64\n"
     ]
    }
   ],
   "source": [
    "import torch \n",
    "import torch.nn\n",
    "import torch.nn.functional as nn \n",
    "import torch.autograd as autograd \n",
    "import torch.optim as optim \n",
    "import torch.utils.data as Data\n",
    "from torch.autograd import Variable\n",
    "import numpy as np \n",
    "import tensorflow as tf \n",
    "import os\n",
    "import pandas as pd\n",
    "from sklearn.preprocessing import MinMaxScaler \n",
    "from sklearn.metrics import confusion_matrix \n",
    "import keras\n",
    "from keras.models import Sequential \n",
    "from keras.layers import Dense \n",
    "from keras import optimizers\n",
    "from keras.models import model_from_json\n",
    "import matplotlib \n",
    "matplotlib.use('agg') \n",
    "import matplotlib.pyplot as plt \n",
    "import matplotlib.gridspec as gridspec \n",
    "\n",
    "# hyperparameters \n",
    "mb_size = 64 \n",
    "z_dim = 10 \n",
    "X_dim = 19 \n",
    "y_dim = 1 \n",
    "h_dim = 128 #hidden \n",
    "lr = 0.00005 #learning_rate\n",
    "\n",
    "# read data\n",
    "df = pd.read_csv(\"../dataset/UGR/trainbot.csv\")\n",
    "print('original data label features number:')\n",
    "print(df['Label'].value_counts())\n",
    "\n",
    "# data preparation\n",
    "criteria0 = df['Label'] == 1 #filter attack data \n",
    "attack_data = data0 = df[criteria0]\n",
    "\n",
    "#float_array = data0.values.astype(float) \n",
    "#scaler = MinMaxScaler()\n",
    "#scaled_array = scaler.fit_transform(float_array)\n",
    "#attack_data = pd.DataFrame(scaled_array)\n",
    "#attack_data.columns = ['hour','minute','second','duration','source_ip','dest_ip','source_port','dest_port','protocol',\n",
    " #               'flag1','flag2','flag3','flag4','flag5','flag6','fwd','stos','pkt','byt', 'Label']\n",
    "\n",
    "print('----------------------------------------') \n",
    "print('attack value number:') \n",
    "print(attack_data['Label'].value_counts())\n",
    "\n",
    "# transform data to tensor format\n",
    "train_target = torch.tensor(attack_data['Label'].values.astype(np.float32)) \n",
    "train = torch.tensor(attack_data.drop(['Label'], axis = 1).values.astype(np.float32)) \n",
    "train_tensor = Data.TensorDataset(train, train_target) \n",
    "\n",
    "#creat DataLoader with batch and shuffle\n",
    "train_loader = torch.utils.data.DataLoader(dataset = train_tensor, batch_size = mb_size, shuffle = True)\n",
    "\n",
    "# define models\n",
    "# Generator\n",
    "G = torch.nn.Sequential(\n",
    "    torch.nn.Linear(z_dim, h_dim), \n",
    "    torch.nn.ReLU(),\n",
    "    torch.nn.Linear(h_dim, h_dim), \n",
    "    torch.nn.ReLU(),\n",
    "    torch.nn.Linear(h_dim, X_dim), \n",
    "    torch.nn.Sigmoid()\n",
    ")\n",
    "\n",
    "# Discriminator\n",
    "D = torch.nn.Sequential( \n",
    "    torch.nn.Linear(X_dim, h_dim), \n",
    "    torch.nn.ReLU(),\n",
    "    torch.nn.Linear(h_dim, h_dim), \n",
    "    torch.nn.ReLU(),\n",
    "    # No sigmoid\n",
    "    torch.nn.Linear(h_dim, 1),\n",
    ")\n",
    "\n",
    "# setup cpu using cpu (if use gpu -> set cpu to cuda)\n",
    "G.cpu()\n",
    "D.cpu()\n",
    "\n",
    "def reset_grad():\n",
    "    G.zero_grad()\n",
    "    D.zero_grad()\n",
    "    \n",
    "#initialize optimizers and dataholders\n",
    "G_solver = optim.RMSprop(G.parameters(), lr=lr)\n",
    "D_solver = optim.RMSprop(D.parameters(), lr=lr)\n",
    "G_losses = []\n",
    "D_losses = []\n",
    "data_iter = iter(train_loader)"
   ]
  },
  {
   "cell_type": "code",
   "execution_count": 3,
   "id": "84ef51d3",
   "metadata": {},
   "outputs": [
    {
     "name": "stdout",
     "output_type": "stream",
     "text": [
      "Start training WGAN model...\n",
      "Iter-0; D_loss: -0.0013579567894339561; G_loss: -0.009504176676273346\n",
      "Iter-1000; D_loss: -0.0018681702204048634; G_loss: -0.006461513228714466\n",
      "Iter-2000; D_loss: -0.0004634074866771698; G_loss: -0.007668391801416874\n",
      "Iter-3000; D_loss: -0.0012705451808869839; G_loss: -0.0070954859256744385\n",
      "Iter-4000; D_loss: -0.0007117437198758125; G_loss: -0.008190728724002838\n",
      "Iter-5000; D_loss: -0.000826861709356308; G_loss: -0.007653708104044199\n",
      "Iter-6000; D_loss: -0.00027621258050203323; G_loss: -0.008402080275118351\n",
      "Iter-7000; D_loss: -0.00019636843353509903; G_loss: -0.008807329460978508\n",
      "Iter-8000; D_loss: -0.0003367215394973755; G_loss: -0.00908755511045456\n",
      "Iter-9000; D_loss: -0.00014727097004652023; G_loss: -0.009047315455973148\n",
      "Iter-10000; D_loss: -0.00018951017409563065; G_loss: -0.009166541509330273\n",
      "Iter-11000; D_loss: -0.0001867702230811119; G_loss: -0.009185127913951874\n",
      "Iter-12000; D_loss: -0.0002549579367041588; G_loss: -0.009530367329716682\n",
      "Iter-13000; D_loss: -0.00024394504725933075; G_loss: -0.009475215338170528\n",
      "Iter-14000; D_loss: -0.00020791217684745789; G_loss: -0.009477796033024788\n",
      "Iter-15000; D_loss: -0.0002035079523921013; G_loss: -0.009310531429946423\n",
      "Iter-16000; D_loss: -0.0002594944089651108; G_loss: -0.009549863636493683\n",
      "Iter-17000; D_loss: -0.00015109777450561523; G_loss: -0.009404968470335007\n",
      "Iter-18000; D_loss: -0.00014199595898389816; G_loss: -0.009264533407986164\n",
      "Iter-19000; D_loss: -0.0002010241150856018; G_loss: -0.009620876982808113\n",
      "Iter-20000; D_loss: -0.00011929497122764587; G_loss: -0.009536207653582096\n",
      "Iter-21000; D_loss: -0.00014451518654823303; G_loss: -0.009775686077773571\n",
      "Iter-22000; D_loss: -0.00014993734657764435; G_loss: -0.009859133511781693\n",
      "Iter-23000; D_loss: -0.00018001068383455276; G_loss: -0.009621010161936283\n",
      "Iter-24000; D_loss: -0.0001658918336033821; G_loss: -0.009520740248262882\n",
      "Iter-25000; D_loss: -0.00017319899052381516; G_loss: -0.009606458246707916\n",
      "Iter-26000; D_loss: -0.00011280924081802368; G_loss: -0.009562105871737003\n",
      "Iter-27000; D_loss: -2.6346184313297272e-05; G_loss: -0.009570800699293613\n",
      "Iter-28000; D_loss: -9.662378579378128e-05; G_loss: -0.009410659782588482\n",
      "Iter-29000; D_loss: -0.00011267699301242828; G_loss: -0.009614038281142712\n",
      "Iter-30000; D_loss: -7.981806993484497e-05; G_loss: -0.009598320350050926\n",
      "Iter-31000; D_loss: -4.266854375600815e-05; G_loss: -0.009556161239743233\n",
      "Iter-32000; D_loss: -0.00015224050730466843; G_loss: -0.009504282847046852\n",
      "Iter-33000; D_loss: -0.00010741036385297775; G_loss: -0.00957188755273819\n",
      "Iter-34000; D_loss: -6.11376017332077e-05; G_loss: -0.009577098302543163\n",
      "Iter-35000; D_loss: -6.563402712345123e-05; G_loss: -0.009513426572084427\n",
      "Iter-36000; D_loss: -5.886144936084747e-05; G_loss: -0.009664240293204784\n",
      "Iter-37000; D_loss: -0.00010877754539251328; G_loss: -0.00955592468380928\n",
      "Iter-38000; D_loss: -2.5700777769088745e-05; G_loss: -0.009636794216930866\n",
      "Iter-39000; D_loss: -5.648285150527954e-05; G_loss: -0.009731422178447247\n",
      "Iter-40000; D_loss: -2.638343721628189e-05; G_loss: -0.009603164158761501\n",
      "Iter-41000; D_loss: -9.483844041824341e-05; G_loss: -0.009619759395718575\n",
      "Iter-42000; D_loss: -0.0001415535807609558; G_loss: -0.009793445467948914\n",
      "Iter-43000; D_loss: -7.163826376199722e-05; G_loss: -0.009758508764207363\n",
      "Iter-44000; D_loss: -0.0001160651445388794; G_loss: -0.009734505787491798\n",
      "Iter-45000; D_loss: -7.232837378978729e-05; G_loss: -0.009633135981857777\n",
      "Iter-46000; D_loss: -3.731716424226761e-05; G_loss: -0.009731436148285866\n",
      "Iter-47000; D_loss: -0.00010195840150117874; G_loss: -0.00969283189624548\n",
      "Iter-48000; D_loss: -6.85863196849823e-05; G_loss: -0.009850738570094109\n",
      "Iter-49000; D_loss: -5.797576159238815e-05; G_loss: -0.009672222658991814\n",
      "Iter-50000; D_loss: -2.9661692678928375e-05; G_loss: -0.009721450507640839\n",
      "Iter-51000; D_loss: -0.00010470207780599594; G_loss: -0.009746639989316463\n",
      "Iter-52000; D_loss: 2.6863068342208862e-05; G_loss: -0.009792570024728775\n",
      "Iter-53000; D_loss: -9.70819965004921e-05; G_loss: -0.009916840121150017\n",
      "Iter-54000; D_loss: -6.982218474149704e-05; G_loss: -0.009739512577652931\n",
      "Iter-55000; D_loss: -7.41099938750267e-05; G_loss: -0.009826216846704483\n",
      "Iter-56000; D_loss: -0.00010337773710489273; G_loss: -0.009707504883408546\n",
      "Iter-57000; D_loss: 1.7344951629638672e-05; G_loss: -0.009999623522162437\n",
      "Iter-58000; D_loss: -8.888542652130127e-05; G_loss: -0.009986662305891514\n",
      "Iter-59000; D_loss: -8.573755621910095e-05; G_loss: -0.009661334566771984\n",
      "Iter-60000; D_loss: -0.00010167434811592102; G_loss: -0.009725592099130154\n",
      "Iter-61000; D_loss: -8.82372260093689e-05; G_loss: -0.009684302844107151\n",
      "Iter-62000; D_loss: -0.00012780819088220596; G_loss: -0.009700100868940353\n",
      "Iter-63000; D_loss: -7.011927664279938e-05; G_loss: -0.010022591799497604\n",
      "Iter-64000; D_loss: -5.591101944446564e-05; G_loss: -0.009941795840859413\n",
      "Iter-65000; D_loss: -5.010422319173813e-05; G_loss: -0.010029387660324574\n",
      "Iter-66000; D_loss: -4.6546570956707e-05; G_loss: -0.009784591384232044\n",
      "Iter-67000; D_loss: -6.469432264566422e-05; G_loss: -0.009966999292373657\n",
      "Iter-68000; D_loss: -2.824794501066208e-05; G_loss: -0.010064358823001385\n",
      "Iter-69000; D_loss: -2.751220017671585e-05; G_loss: -0.009946636855602264\n",
      "Iter-70000; D_loss: -7.379241287708282e-05; G_loss: -0.009920145384967327\n",
      "Iter-71000; D_loss: -6.84056431055069e-05; G_loss: -0.009963332675397396\n",
      "Iter-72000; D_loss: -8.179061114788055e-05; G_loss: -0.010084272362291813\n",
      "Iter-73000; D_loss: 1.5446916222572327e-05; G_loss: -0.009906485676765442\n",
      "Iter-74000; D_loss: -2.493150532245636e-05; G_loss: -0.010080471634864807\n",
      "Iter-75000; D_loss: -3.903266042470932e-05; G_loss: -0.009822004474699497\n",
      "Iter-76000; D_loss: 1.708976924419403e-05; G_loss: -0.010091982781887054\n",
      "Iter-77000; D_loss: 5.001481622457504e-05; G_loss: -0.010036378167569637\n",
      "Iter-78000; D_loss: -3.483239561319351e-05; G_loss: -0.01014508306980133\n",
      "Iter-79000; D_loss: -5.530659109354019e-05; G_loss: -0.010099777020514011\n",
      "Iter-80000; D_loss: 8.66129994392395e-08; G_loss: -0.010073680430650711\n",
      "Iter-81000; D_loss: -7.840339094400406e-05; G_loss: -0.01004924438893795\n",
      "Iter-82000; D_loss: -0.00011413730680942535; G_loss: -0.010018281638622284\n",
      "Iter-83000; D_loss: -1.007039099931717e-05; G_loss: -0.010069062933325768\n",
      "Iter-84000; D_loss: -1.860782504081726e-06; G_loss: -0.010304100811481476\n",
      "Iter-85000; D_loss: -6.404798477888107e-05; G_loss: -0.009980220347642899\n",
      "Iter-86000; D_loss: -1.501571387052536e-05; G_loss: -0.010284163057804108\n",
      "Iter-87000; D_loss: -5.4350122809410095e-05; G_loss: -0.01017058826982975\n",
      "Iter-88000; D_loss: 1.3422220945358276e-05; G_loss: -0.010175353847444057\n",
      "Iter-89000; D_loss: 3.793276846408844e-05; G_loss: -0.010431304574012756\n",
      "Iter-90000; D_loss: -3.6654993891716003e-05; G_loss: -0.01018001139163971\n",
      "Iter-91000; D_loss: 7.962528616189957e-05; G_loss: -0.010432539507746696\n",
      "Iter-92000; D_loss: -0.0001295004040002823; G_loss: -0.010501720942556858\n",
      "Iter-93000; D_loss: -4.887580871582031e-05; G_loss: -0.010333520360291004\n",
      "Iter-94000; D_loss: -0.00012344494462013245; G_loss: -0.010361013934016228\n",
      "Iter-95000; D_loss: -4.3973326683044434e-05; G_loss: -0.010423868894577026\n",
      "Iter-96000; D_loss: -6.37546181678772e-05; G_loss: -0.010378005914390087\n",
      "Iter-97000; D_loss: 0.00014930497854948044; G_loss: -0.010257577523589134\n",
      "Iter-98000; D_loss: -3.2102689146995544e-05; G_loss: -0.010676804929971695\n",
      "Iter-99000; D_loss: -0.0002217879518866539; G_loss: -0.010813807137310505\n",
      "Iter-100000; D_loss: -3.5550445318222046e-05; G_loss: -0.010420496575534344\n",
      "Iter-101000; D_loss: -9.725894778966904e-05; G_loss: -0.01041987631469965\n",
      "Iter-102000; D_loss: -3.7933699786663055e-05; G_loss: -0.010804849676787853\n",
      "Iter-103000; D_loss: -2.53189355134964e-05; G_loss: -0.010506533086299896\n",
      "Iter-104000; D_loss: -8.449424058198929e-05; G_loss: -0.0106330756098032\n",
      "Iter-105000; D_loss: 6.366521120071411e-06; G_loss: -0.01068370882421732\n",
      "Iter-106000; D_loss: -7.832422852516174e-06; G_loss: -0.010937446728348732\n",
      "Iter-107000; D_loss: -4.416331648826599e-05; G_loss: -0.010815725661814213\n",
      "Iter-108000; D_loss: -5.971081554889679e-05; G_loss: -0.010628048330545425\n",
      "Iter-109000; D_loss: -2.7989037334918976e-05; G_loss: -0.010942406952381134\n",
      "Iter-110000; D_loss: -3.057904541492462e-05; G_loss: -0.010833564214408398\n"
     ]
    },
    {
     "name": "stdout",
     "output_type": "stream",
     "text": [
      "Iter-111000; D_loss: -2.113543450832367e-05; G_loss: -0.010873590596020222\n",
      "Iter-112000; D_loss: -2.170167863368988e-05; G_loss: -0.011103563942015171\n",
      "Iter-113000; D_loss: -0.0001428704708814621; G_loss: -0.011299291625618935\n",
      "Iter-114000; D_loss: -3.8096681237220764e-05; G_loss: -0.011020716279745102\n",
      "Iter-115000; D_loss: -7.393490523099899e-05; G_loss: -0.011017541401088238\n",
      "Iter-116000; D_loss: -6.655789911746979e-05; G_loss: -0.011102650314569473\n",
      "Iter-117000; D_loss: -5.512312054634094e-05; G_loss: -0.01119300164282322\n",
      "Iter-118000; D_loss: -2.7443282306194305e-05; G_loss: -0.011195468716323376\n",
      "Iter-119000; D_loss: 5.078501999378204e-06; G_loss: -0.011180234141647816\n",
      "Iter-120000; D_loss: -3.873463720083237e-05; G_loss: -0.011016050353646278\n",
      "Iter-121000; D_loss: -6.95548951625824e-05; G_loss: -0.011221716180443764\n",
      "Iter-122000; D_loss: -0.00011205114424228668; G_loss: -0.011022930964827538\n",
      "Iter-123000; D_loss: -8.598342537879944e-05; G_loss: -0.011343558318912983\n",
      "Iter-124000; D_loss: -2.1085143089294434e-06; G_loss: -0.011264985427260399\n",
      "Iter-125000; D_loss: -4.885997623205185e-05; G_loss: -0.011350608430802822\n",
      "Iter-126000; D_loss: -4.831235855817795e-05; G_loss: -0.011391807347536087\n",
      "Iter-127000; D_loss: -2.2137537598609924e-05; G_loss: -0.011389674618840218\n",
      "Iter-128000; D_loss: -2.66246497631073e-05; G_loss: -0.011530394665896893\n",
      "Iter-129000; D_loss: -5.570799112319946e-05; G_loss: -0.011454254388809204\n",
      "Iter-130000; D_loss: -2.573896199464798e-05; G_loss: -0.011062081903219223\n",
      "Iter-131000; D_loss: -1.2897886335849762e-05; G_loss: -0.011362154968082905\n",
      "Iter-132000; D_loss: -1.8631108105182648e-05; G_loss: -0.011421791277825832\n",
      "Iter-133000; D_loss: -3.479793667793274e-05; G_loss: -0.011407132260501385\n",
      "Iter-134000; D_loss: -2.5529414415359497e-05; G_loss: -0.011560797691345215\n",
      "Iter-135000; D_loss: -0.00012039300054311752; G_loss: -0.011606831103563309\n",
      "Iter-136000; D_loss: -4.390347748994827e-05; G_loss: -0.011537211015820503\n",
      "Iter-137000; D_loss: -4.499126225709915e-05; G_loss: -0.01183038018643856\n",
      "Iter-138000; D_loss: -7.156562060117722e-05; G_loss: -0.011690875515341759\n",
      "Iter-139000; D_loss: -7.728952914476395e-05; G_loss: -0.011778968386352062\n",
      "Iter-140000; D_loss: -3.3882446587085724e-05; G_loss: -0.011941039003431797\n",
      "Iter-141000; D_loss: 4.003755748271942e-06; G_loss: -0.011836443096399307\n",
      "Iter-142000; D_loss: -3.561191260814667e-05; G_loss: -0.011877813376486301\n",
      "Iter-143000; D_loss: -8.078478276729584e-05; G_loss: -0.011683828197419643\n",
      "Iter-144000; D_loss: -1.7432495951652527e-05; G_loss: -0.011697288602590561\n",
      "Iter-145000; D_loss: -5.690287798643112e-05; G_loss: -0.011908973567187786\n",
      "Iter-146000; D_loss: 2.603791654109955e-05; G_loss: -0.01189478486776352\n",
      "Iter-147000; D_loss: -7.992424070835114e-05; G_loss: -0.012149784713983536\n",
      "Iter-148000; D_loss: -0.00011414475739002228; G_loss: -0.012309527955949306\n",
      "Iter-149000; D_loss: -6.698817014694214e-05; G_loss: -0.012234242632985115\n",
      "Iter-150000; D_loss: -3.584660589694977e-06; G_loss: -0.01209724135696888\n",
      "Iter-151000; D_loss: -6.69555738568306e-05; G_loss: -0.012343423441052437\n",
      "Iter-152000; D_loss: 4.279240965843201e-05; G_loss: -0.012130754068493843\n",
      "Iter-153000; D_loss: -0.00010137725621461868; G_loss: -0.012374031357467175\n",
      "Iter-154000; D_loss: 6.36465847492218e-05; G_loss: -0.01230788603425026\n",
      "Iter-155000; D_loss: -1.8981285393238068e-05; G_loss: -0.012280955910682678\n",
      "Iter-156000; D_loss: -8.913502097129822e-05; G_loss: -0.012364787980914116\n",
      "Iter-157000; D_loss: -6.010197103023529e-05; G_loss: -0.012514477595686913\n",
      "Iter-158000; D_loss: -5.9864483773708344e-05; G_loss: -0.012343311682343483\n",
      "Iter-159000; D_loss: -3.124214708805084e-05; G_loss: -0.01243127603083849\n",
      "Iter-160000; D_loss: -3.977026790380478e-05; G_loss: -0.012589069083333015\n",
      "Iter-161000; D_loss: -5.0815753638744354e-05; G_loss: -0.012537367641925812\n",
      "Iter-162000; D_loss: 4.317425191402435e-05; G_loss: -0.012543941847980022\n",
      "Iter-163000; D_loss: 4.775170236825943e-05; G_loss: -0.01253445167094469\n",
      "Iter-164000; D_loss: -4.7285109758377075e-05; G_loss: -0.012743299826979637\n",
      "Iter-165000; D_loss: -6.085541099309921e-05; G_loss: -0.012600386515259743\n",
      "Iter-166000; D_loss: -6.945803761482239e-06; G_loss: -0.01261451281607151\n",
      "Iter-167000; D_loss: -6.963126361370087e-05; G_loss: -0.012713437899947166\n",
      "Iter-168000; D_loss: -1.1389143764972687e-05; G_loss: -0.012768986634910107\n",
      "Iter-169000; D_loss: -4.929862916469574e-05; G_loss: -0.012667757458984852\n",
      "Iter-170000; D_loss: -8.948147296905518e-06; G_loss: -0.01278407871723175\n",
      "Iter-171000; D_loss: -2.447608858346939e-05; G_loss: -0.012831822037696838\n",
      "Iter-172000; D_loss: -4.19076532125473e-05; G_loss: -0.012827136553823948\n",
      "Iter-173000; D_loss: -2.7987174689769745e-05; G_loss: -0.012899652123451233\n",
      "Iter-174000; D_loss: -4.4840388000011444e-05; G_loss: -0.012843475677073002\n",
      "Iter-175000; D_loss: 1.3804994523525238e-05; G_loss: -0.012784392572939396\n",
      "Iter-176000; D_loss: -3.9556995034217834e-05; G_loss: -0.01282681617885828\n",
      "Iter-177000; D_loss: -2.7509406208992004e-05; G_loss: -0.01313001848757267\n",
      "Iter-178000; D_loss: -2.6260502636432648e-05; G_loss: -0.012891308404505253\n",
      "Iter-179000; D_loss: -7.289927452802658e-05; G_loss: -0.012864423915743828\n",
      "Iter-180000; D_loss: -2.2426247596740723e-05; G_loss: -0.012978825718164444\n",
      "Iter-181000; D_loss: -2.394244074821472e-05; G_loss: -0.013072431087493896\n",
      "Iter-182000; D_loss: -4.5845285058021545e-05; G_loss: -0.013171836733818054\n",
      "Iter-183000; D_loss: -4.998594522476196e-05; G_loss: -0.01317676529288292\n",
      "Iter-184000; D_loss: -1.7513521015644073e-05; G_loss: -0.013070473447442055\n",
      "Iter-185000; D_loss: 4.702247679233551e-06; G_loss: -0.01308534573763609\n",
      "Iter-186000; D_loss: -5.38388267159462e-05; G_loss: -0.012862738221883774\n",
      "Iter-187000; D_loss: 7.175374776124954e-05; G_loss: -0.013055277056992054\n",
      "Iter-188000; D_loss: -1.8693506717681885e-05; G_loss: -0.013219166547060013\n",
      "Iter-189000; D_loss: 0.00015001464635133743; G_loss: -0.013102768920361996\n",
      "Iter-190000; D_loss: -1.451931893825531e-06; G_loss: -0.013172920793294907\n",
      "Iter-191000; D_loss: -6.292387843132019e-05; G_loss: -0.01332030724734068\n",
      "Iter-192000; D_loss: -2.2975727915763855e-05; G_loss: -0.013232666999101639\n",
      "Iter-193000; D_loss: 5.2801333367824554e-05; G_loss: -0.01303045079112053\n",
      "Iter-194000; D_loss: -4.626438021659851e-05; G_loss: -0.013355080038309097\n",
      "Iter-195000; D_loss: -1.1553987860679626e-05; G_loss: -0.013417992740869522\n",
      "Iter-196000; D_loss: -4.071276634931564e-05; G_loss: -0.01329946331679821\n",
      "Iter-197000; D_loss: -7.529743015766144e-06; G_loss: -0.012990770861506462\n",
      "Iter-198000; D_loss: 7.903948426246643e-05; G_loss: -0.013014293275773525\n",
      "Iter-199000; D_loss: -3.951229155063629e-05; G_loss: -0.013170558959245682\n",
      "Iter-200000; D_loss: -7.551722228527069e-05; G_loss: -0.012869040481746197\n",
      "Iter-201000; D_loss: -9.712390601634979e-05; G_loss: -0.013207104057073593\n",
      "Iter-202000; D_loss: 5.09507954120636e-05; G_loss: -0.013231517747044563\n",
      "Iter-203000; D_loss: -5.765073001384735e-05; G_loss: -0.013207899406552315\n",
      "Iter-204000; D_loss: 1.782737672328949e-05; G_loss: -0.01323015708476305\n",
      "Iter-205000; D_loss: -2.8461217880249023e-05; G_loss: -0.01319066807627678\n",
      "Iter-206000; D_loss: -4.519987851381302e-05; G_loss: -0.013366414234042168\n",
      "Iter-207000; D_loss: -4.246830940246582e-07; G_loss: -0.01314422208815813\n",
      "Iter-208000; D_loss: 7.700920104980469e-05; G_loss: -0.013096645474433899\n",
      "Iter-209000; D_loss: -0.00014542602002620697; G_loss: -0.01310762669891119\n",
      "Iter-210000; D_loss: -2.6658177375793457e-05; G_loss: -0.013125716708600521\n",
      "Iter-211000; D_loss: -4.6047382056713104e-05; G_loss: -0.013025392778217793\n",
      "Iter-212000; D_loss: 5.916040390729904e-05; G_loss: -0.012931697070598602\n",
      "Iter-213000; D_loss: -8.642114698886871e-05; G_loss: -0.012935508042573929\n",
      "Iter-214000; D_loss: -0.00010975822806358337; G_loss: -0.0131722716614604\n",
      "Iter-215000; D_loss: 3.839842975139618e-06; G_loss: -0.013237068429589272\n",
      "Iter-216000; D_loss: 4.204269498586655e-05; G_loss: -0.012972078286111355\n",
      "Iter-217000; D_loss: -4.5658089220523834e-05; G_loss: -0.013229556381702423\n",
      "Iter-218000; D_loss: 2.2688880562782288e-05; G_loss: -0.01312963105738163\n",
      "Iter-219000; D_loss: 4.620291292667389e-05; G_loss: -0.013180301524698734\n",
      "Iter-220000; D_loss: -9.844079613685608e-06; G_loss: -0.013191994279623032\n"
     ]
    },
    {
     "name": "stdout",
     "output_type": "stream",
     "text": [
      "Iter-221000; D_loss: 2.7842819690704346e-05; G_loss: -0.013069015927612782\n",
      "Iter-222000; D_loss: -8.011795580387115e-05; G_loss: -0.013318846002221107\n",
      "Iter-223000; D_loss: 3.188382834196091e-05; G_loss: -0.013178622350096703\n",
      "Iter-224000; D_loss: 5.291588604450226e-05; G_loss: -0.013185390271246433\n",
      "Iter-225000; D_loss: 8.604861795902252e-05; G_loss: -0.013090710155665874\n",
      "Iter-226000; D_loss: -1.9012950360774994e-05; G_loss: -0.013262508437037468\n",
      "Iter-227000; D_loss: -6.3925981521606445e-06; G_loss: -0.012951239012181759\n",
      "Iter-228000; D_loss: -2.8572045266628265e-05; G_loss: -0.012895002029836178\n",
      "Iter-229000; D_loss: -2.9346905648708344e-05; G_loss: -0.013098673895001411\n",
      "Iter-230000; D_loss: 9.161420166492462e-06; G_loss: -0.013107837177813053\n",
      "Iter-231000; D_loss: -5.759671330451965e-05; G_loss: -0.01302725076675415\n",
      "Iter-232000; D_loss: -2.2320076823234558e-05; G_loss: -0.01290790643543005\n",
      "Iter-233000; D_loss: 1.1139549314975739e-05; G_loss: -0.012979463674128056\n",
      "Iter-234000; D_loss: 4.69014048576355e-05; G_loss: -0.012941159307956696\n",
      "Iter-235000; D_loss: -7.293187081813812e-06; G_loss: -0.01294421125203371\n",
      "Iter-236000; D_loss: -5.271006375551224e-05; G_loss: -0.013167796656489372\n",
      "Iter-237000; D_loss: 4.516821354627609e-05; G_loss: -0.013077734969556332\n",
      "Iter-238000; D_loss: 1.7595477402210236e-05; G_loss: -0.012880854308605194\n",
      "Iter-239000; D_loss: -8.447561413049698e-05; G_loss: -0.013237531296908855\n",
      "Iter-240000; D_loss: 8.61193984746933e-06; G_loss: -0.013028657995164394\n",
      "Iter-241000; D_loss: -6.125681102275848e-05; G_loss: -0.012976296246051788\n",
      "Iter-242000; D_loss: 1.0345131158828735e-05; G_loss: -0.013008753769099712\n",
      "Iter-243000; D_loss: 2.654828131198883e-05; G_loss: -0.013186423107981682\n",
      "Iter-244000; D_loss: -2.1698884665966034e-05; G_loss: -0.013221762143075466\n",
      "Iter-245000; D_loss: -0.00010888651013374329; G_loss: -0.01303099561482668\n",
      "Iter-246000; D_loss: -4.088040441274643e-05; G_loss: -0.013127001002430916\n",
      "Iter-247000; D_loss: -7.140636444091797e-05; G_loss: -0.013144442811608315\n",
      "Iter-248000; D_loss: -7.865484803915024e-05; G_loss: -0.012963717803359032\n",
      "Iter-249000; D_loss: 2.5704503059387207e-06; G_loss: -0.013107916340231895\n",
      "Iter-250000; D_loss: -2.0537525415420532e-05; G_loss: -0.01306634396314621\n",
      "Iter-251000; D_loss: -1.3869255781173706e-05; G_loss: -0.01330574881285429\n",
      "Iter-252000; D_loss: -2.1161511540412903e-05; G_loss: -0.012935256585478783\n",
      "Iter-253000; D_loss: -3.413856029510498e-05; G_loss: -0.013069957494735718\n",
      "Iter-254000; D_loss: -4.629697650671005e-05; G_loss: -0.012995407916605473\n",
      "Iter-255000; D_loss: -6.993673741817474e-05; G_loss: -0.01338917575776577\n",
      "Iter-256000; D_loss: -6.428267806768417e-05; G_loss: -0.013168896548449993\n",
      "Iter-257000; D_loss: -0.00012767408043146133; G_loss: -0.013264324516057968\n",
      "Iter-258000; D_loss: -7.028691470623016e-06; G_loss: -0.01314355619251728\n",
      "Iter-259000; D_loss: 0.00016118772327899933; G_loss: -0.013227789662778378\n",
      "Iter-260000; D_loss: -6.584450602531433e-06; G_loss: -0.013070458546280861\n",
      "Iter-261000; D_loss: -8.008070290088654e-05; G_loss: -0.012811974622309208\n",
      "Iter-262000; D_loss: -7.1660615503788e-05; G_loss: -0.013190517202019691\n",
      "Iter-263000; D_loss: -3.777444362640381e-06; G_loss: -0.013149114325642586\n",
      "Iter-264000; D_loss: -1.8526799976825714e-05; G_loss: -0.013166950084269047\n",
      "Iter-265000; D_loss: -2.03670933842659e-05; G_loss: -0.013152331113815308\n",
      "Iter-266000; D_loss: -2.388749271631241e-05; G_loss: -0.01315415371209383\n",
      "Iter-267000; D_loss: -5.726795643568039e-05; G_loss: -0.01309792697429657\n",
      "Iter-268000; D_loss: 1.9412487745285034e-05; G_loss: -0.012987053953111172\n",
      "Iter-269000; D_loss: -0.0004552798345685005; G_loss: -0.01316381897777319\n",
      "Iter-270000; D_loss: -0.00013818498700857162; G_loss: -0.012958021834492683\n",
      "Iter-271000; D_loss: -9.743310511112213e-05; G_loss: -0.013019801117479801\n",
      "Iter-272000; D_loss: -3.163143992424011e-05; G_loss: -0.013098100200295448\n",
      "Iter-273000; D_loss: 2.1249055862426758e-05; G_loss: -0.013039181008934975\n",
      "Iter-274000; D_loss: -7.269252091646194e-05; G_loss: -0.013233584351837635\n",
      "Iter-275000; D_loss: -0.00012123025953769684; G_loss: -0.013198069296777248\n",
      "Iter-276000; D_loss: -7.941853255033493e-05; G_loss: -0.013360903598368168\n",
      "Iter-277000; D_loss: -2.1158717572689056e-05; G_loss: -0.013010919094085693\n",
      "Iter-278000; D_loss: -7.084198296070099e-05; G_loss: -0.013120479881763458\n",
      "Iter-279000; D_loss: -6.454065442085266e-05; G_loss: -0.013200478628277779\n",
      "Iter-280000; D_loss: 2.9313378036022186e-05; G_loss: -0.013030726462602615\n",
      "Iter-281000; D_loss: -0.00011646375060081482; G_loss: -0.013235214166343212\n",
      "Iter-282000; D_loss: 3.417022526264191e-05; G_loss: -0.013073447160422802\n",
      "Iter-283000; D_loss: -2.151820808649063e-05; G_loss: -0.01316550001502037\n",
      "Iter-284000; D_loss: -5.0533562898635864e-05; G_loss: -0.013192863203585148\n",
      "Iter-285000; D_loss: -7.958617061376572e-05; G_loss: -0.013152114115655422\n",
      "Iter-286000; D_loss: -8.586235344409943e-05; G_loss: -0.013235162943601608\n",
      "Iter-287000; D_loss: -2.520531415939331e-05; G_loss: -0.013046360574662685\n",
      "Iter-288000; D_loss: 8.609145879745483e-06; G_loss: -0.01315859705209732\n",
      "Iter-289000; D_loss: -7.007364183664322e-05; G_loss: -0.013060212135314941\n",
      "Iter-290000; D_loss: -3.111548721790314e-05; G_loss: -0.013363202102482319\n",
      "Iter-291000; D_loss: -7.563922554254532e-05; G_loss: -0.0127763906493783\n",
      "Iter-292000; D_loss: -2.134311944246292e-05; G_loss: -0.013116289861500263\n",
      "Iter-293000; D_loss: -6.112828850746155e-05; G_loss: -0.013373144902288914\n",
      "Iter-294000; D_loss: -5.632266402244568e-05; G_loss: -0.013199247419834137\n",
      "Iter-295000; D_loss: -1.997966319322586e-05; G_loss: -0.013134263455867767\n",
      "Iter-296000; D_loss: -1.4907680451869965e-05; G_loss: -0.01313431654125452\n",
      "Iter-297000; D_loss: -0.00019336026161909103; G_loss: -0.012662401422858238\n",
      "Iter-298000; D_loss: -1.8122605979442596e-05; G_loss: -0.013025600463151932\n",
      "Iter-299000; D_loss: -1.4059245586395264e-05; G_loss: -0.013125921599566936\n",
      "Iter-300000; D_loss: 5.527399480342865e-06; G_loss: -0.013157330453395844\n",
      "Iter-301000; D_loss: -5.067326128482819e-06; G_loss: -0.012998396530747414\n",
      "Iter-302000; D_loss: -9.081140160560608e-05; G_loss: -0.013200103305280209\n",
      "Iter-303000; D_loss: -2.933759242296219e-05; G_loss: -0.013219608925282955\n",
      "Iter-304000; D_loss: -5.200039595365524e-05; G_loss: -0.013283461332321167\n",
      "Iter-305000; D_loss: -8.284766227006912e-05; G_loss: -0.01288983691483736\n",
      "Iter-306000; D_loss: 1.0504387319087982e-05; G_loss: -0.013161534443497658\n",
      "Iter-307000; D_loss: -1.8123537302017212e-05; G_loss: -0.013174766674637794\n",
      "Iter-308000; D_loss: -6.213504821062088e-05; G_loss: -0.01325121708214283\n",
      "Iter-309000; D_loss: 5.606561899185181e-06; G_loss: -0.013219859451055527\n",
      "Iter-310000; D_loss: -1.8184073269367218e-05; G_loss: -0.013352015987038612\n",
      "Iter-311000; D_loss: -7.430464029312134e-05; G_loss: -0.01323624886572361\n",
      "Iter-312000; D_loss: -4.36343252658844e-05; G_loss: -0.013207943178713322\n",
      "Iter-313000; D_loss: -7.487833499908447e-06; G_loss: -0.013100827112793922\n",
      "Iter-314000; D_loss: -0.00014754105359315872; G_loss: -0.013121606782078743\n",
      "Iter-315000; D_loss: -5.0358474254608154e-05; G_loss: -0.01323983259499073\n",
      "Iter-316000; D_loss: -6.454065442085266e-07; G_loss: -0.012976554222404957\n",
      "Iter-317000; D_loss: -6.692018359899521e-05; G_loss: -0.013113592751324177\n",
      "Iter-318000; D_loss: -3.6912038922309875e-05; G_loss: -0.013116457499563694\n",
      "Iter-319000; D_loss: 2.4439767003059387e-05; G_loss: -0.01309338491410017\n",
      "Iter-320000; D_loss: -2.1496787667274475e-05; G_loss: -0.012950560078024864\n",
      "Iter-321000; D_loss: -7.2158873081207275e-06; G_loss: -0.013251746073365211\n",
      "Iter-322000; D_loss: 4.4119544327259064e-05; G_loss: -0.013122600503265858\n",
      "Iter-323000; D_loss: 1.7927959561347961e-06; G_loss: -0.013403663411736488\n",
      "Iter-324000; D_loss: 1.0581687092781067e-05; G_loss: -0.01317189633846283\n",
      "Iter-325000; D_loss: -1.9241124391555786e-05; G_loss: -0.01350505743175745\n",
      "Iter-326000; D_loss: 2.14381143450737e-05; G_loss: -0.013254291377961636\n",
      "Iter-327000; D_loss: 3.9694830775260925e-05; G_loss: -0.013039481826126575\n",
      "Iter-328000; D_loss: -1.8895603716373444e-05; G_loss: -0.013066552579402924\n",
      "Iter-329000; D_loss: -6.935093551874161e-05; G_loss: -0.013201519846916199\n",
      "Iter-330000; D_loss: -1.5295110642910004e-05; G_loss: -0.013291395269334316\n"
     ]
    },
    {
     "name": "stdout",
     "output_type": "stream",
     "text": [
      "Iter-331000; D_loss: -7.163733243942261e-06; G_loss: -0.013355942443013191\n",
      "Iter-332000; D_loss: -1.6683712601661682e-05; G_loss: -0.013253524899482727\n",
      "Iter-333000; D_loss: -1.4088116586208344e-05; G_loss: -0.013300606049597263\n",
      "Iter-334000; D_loss: 1.9350089132785797e-05; G_loss: -0.013243751600384712\n",
      "Iter-335000; D_loss: 6.717164069414139e-05; G_loss: -0.013376176357269287\n",
      "Iter-336000; D_loss: -0.00012938398867845535; G_loss: -0.01358615793287754\n",
      "Iter-337000; D_loss: -3.803800791501999e-05; G_loss: -0.013292774558067322\n",
      "Iter-338000; D_loss: -4.770699888467789e-05; G_loss: -0.013320711441338062\n",
      "Iter-339000; D_loss: 2.1248124539852142e-05; G_loss: -0.013204166665673256\n",
      "Iter-340000; D_loss: 6.101094186306e-06; G_loss: -0.013172567822039127\n",
      "Iter-341000; D_loss: -5.361437797546387e-05; G_loss: -0.013426244258880615\n",
      "Iter-342000; D_loss: -3.2320618629455566e-05; G_loss: -0.013153813779354095\n",
      "Iter-343000; D_loss: -2.226792275905609e-05; G_loss: -0.013456923887133598\n",
      "Iter-344000; D_loss: 1.5405938029289246e-05; G_loss: -0.013287432491779327\n",
      "Iter-345000; D_loss: -4.8104673624038696e-05; G_loss: -0.01329488679766655\n",
      "Iter-346000; D_loss: 5.108397454023361e-05; G_loss: -0.013144346885383129\n",
      "Iter-347000; D_loss: -3.59145924448967e-05; G_loss: -0.013312267139554024\n",
      "Iter-348000; D_loss: -0.0001052413135766983; G_loss: -0.013355210423469543\n",
      "Iter-349000; D_loss: -7.688067853450775e-06; G_loss: -0.013331703841686249\n",
      "Iter-350000; D_loss: 2.031773328781128e-05; G_loss: -0.013291848823428154\n",
      "Iter-351000; D_loss: -2.609752118587494e-05; G_loss: -0.013224385678768158\n",
      "Iter-352000; D_loss: -6.475765258073807e-05; G_loss: -0.013519289903342724\n",
      "Iter-353000; D_loss: 1.076236367225647e-05; G_loss: -0.013554602861404419\n",
      "Iter-354000; D_loss: -1.4604069292545319e-05; G_loss: -0.013443034142255783\n",
      "Iter-355000; D_loss: 5.7921744883060455e-05; G_loss: -0.013329519890248775\n",
      "Iter-356000; D_loss: -5.705002695322037e-05; G_loss: -0.013341523706912994\n",
      "Iter-357000; D_loss: -3.842264413833618e-05; G_loss: -0.013296674937009811\n",
      "Iter-358000; D_loss: 0.00011019594967365265; G_loss: -0.013106182217597961\n",
      "Iter-359000; D_loss: -4.698522388935089e-06; G_loss: -0.013204660266637802\n",
      "Iter-360000; D_loss: -0.0001046517863869667; G_loss: -0.012968450784683228\n",
      "Iter-361000; D_loss: -1.2945383787155151e-07; G_loss: -0.013207655400037766\n",
      "Iter-362000; D_loss: -7.364898920059204e-05; G_loss: -0.012998422607779503\n",
      "Iter-363000; D_loss: -1.2435019016265869e-05; G_loss: -0.01309363916516304\n",
      "Iter-364000; D_loss: 9.580329060554504e-05; G_loss: -0.01341990940272808\n",
      "Iter-365000; D_loss: 8.192844688892365e-06; G_loss: -0.013388694263994694\n",
      "Iter-366000; D_loss: -3.2823532819747925e-05; G_loss: -0.013221941888332367\n",
      "Iter-367000; D_loss: -6.871577352285385e-05; G_loss: -0.0134216183796525\n",
      "Iter-368000; D_loss: -1.6684643924236298e-05; G_loss: -0.013098458759486675\n",
      "Iter-369000; D_loss: -2.0109117031097412e-05; G_loss: -0.013325287960469723\n",
      "Iter-370000; D_loss: 2.5248154997825623e-06; G_loss: -0.01333330012857914\n",
      "Iter-371000; D_loss: -2.1958723664283752e-05; G_loss: -0.013420993462204933\n",
      "Iter-372000; D_loss: -5.7845376431941986e-05; G_loss: -0.013177481479942799\n",
      "Iter-373000; D_loss: -5.059875547885895e-05; G_loss: -0.013243827037513256\n",
      "Iter-374000; D_loss: 0.00016772933304309845; G_loss: -0.013228822499513626\n",
      "Iter-375000; D_loss: 6.816815584897995e-05; G_loss: -0.01301384437829256\n",
      "Iter-376000; D_loss: -2.3554079234600067e-05; G_loss: -0.013252535834908485\n",
      "Iter-377000; D_loss: -9.72207635641098e-06; G_loss: -0.013312156312167645\n",
      "Iter-378000; D_loss: -5.0446949899196625e-05; G_loss: -0.013356470502912998\n",
      "Iter-379000; D_loss: -4.7274865210056305e-05; G_loss: -0.013388381339609623\n",
      "Iter-380000; D_loss: 2.1987594664096832e-05; G_loss: -0.01343207061290741\n",
      "Iter-381000; D_loss: -4.4601038098335266e-05; G_loss: -0.013372687622904778\n",
      "Iter-382000; D_loss: -3.4945085644721985e-05; G_loss: -0.013096483424305916\n",
      "Iter-383000; D_loss: -4.449114203453064e-05; G_loss: -0.013095181435346603\n",
      "Iter-384000; D_loss: -2.3350119590759277e-05; G_loss: -0.013051234185695648\n",
      "Iter-385000; D_loss: 5.733966827392578e-05; G_loss: -0.013210894539952278\n",
      "Iter-386000; D_loss: -2.2258609533309937e-06; G_loss: -0.013146664947271347\n",
      "Iter-387000; D_loss: -6.952974945306778e-05; G_loss: -0.01313031930476427\n",
      "Iter-388000; D_loss: -4.179682582616806e-05; G_loss: -0.01319325715303421\n",
      "Iter-389000; D_loss: 1.5361234545707703e-05; G_loss: -0.013193943537771702\n",
      "Iter-390000; D_loss: -2.059992402791977e-05; G_loss: -0.013311045244336128\n",
      "Iter-391000; D_loss: -7.687415927648544e-05; G_loss: -0.012940982356667519\n",
      "Iter-392000; D_loss: -2.1251849830150604e-05; G_loss: -0.013175387866795063\n",
      "Iter-393000; D_loss: 2.845190465450287e-05; G_loss: -0.013254144228994846\n",
      "Iter-394000; D_loss: -1.8561258912086487e-05; G_loss: -0.013008836656808853\n",
      "Iter-395000; D_loss: 2.4586915969848633e-07; G_loss: -0.013194458559155464\n",
      "Iter-396000; D_loss: -8.767470717430115e-06; G_loss: -0.013092542067170143\n",
      "Iter-397000; D_loss: 7.249414920806885e-06; G_loss: -0.013148878701031208\n",
      "Iter-398000; D_loss: -4.81167808175087e-05; G_loss: -0.013301735743880272\n",
      "Iter-399000; D_loss: -5.1997601985931396e-05; G_loss: -0.013260475359857082\n",
      "Iter-400000; D_loss: -7.636845111846924e-07; G_loss: -0.013303643092513084\n",
      "Iter-401000; D_loss: 1.7200596630573273e-05; G_loss: -0.013330675661563873\n",
      "Iter-402000; D_loss: -2.9958784580230713e-05; G_loss: -0.013331372290849686\n",
      "Iter-403000; D_loss: -6.700213998556137e-05; G_loss: -0.013388852588832378\n",
      "Iter-404000; D_loss: -2.9299408197402954e-05; G_loss: -0.013364916667342186\n",
      "Iter-405000; D_loss: -2.8427690267562866e-05; G_loss: -0.013152536004781723\n",
      "Iter-406000; D_loss: -7.100682705640793e-05; G_loss: -0.013423498719930649\n",
      "Iter-407000; D_loss: -7.479637861251831e-05; G_loss: -0.013268576934933662\n",
      "Iter-408000; D_loss: 5.927402526140213e-05; G_loss: -0.013397962786257267\n",
      "Iter-409000; D_loss: 7.103197276592255e-06; G_loss: -0.013316403143107891\n",
      "Iter-410000; D_loss: -4.4842250645160675e-05; G_loss: -0.013211787678301334\n",
      "Iter-411000; D_loss: 3.1274743378162384e-05; G_loss: -0.013305408880114555\n",
      "Iter-412000; D_loss: 8.786842226982117e-05; G_loss: -0.013190858997404575\n",
      "Iter-413000; D_loss: -0.00010817963629961014; G_loss: -0.013297352939844131\n",
      "Iter-414000; D_loss: -4.444830119609833e-05; G_loss: -0.013155338354408741\n",
      "Iter-415000; D_loss: 6.6962093114852905e-06; G_loss: -0.01325916312634945\n",
      "Iter-416000; D_loss: -4.7359615564346313e-05; G_loss: -0.013177425600588322\n",
      "Iter-417000; D_loss: -1.159869134426117e-05; G_loss: -0.013240355998277664\n",
      "Iter-418000; D_loss: -2.5986693799495697e-05; G_loss: -0.013027820736169815\n",
      "Iter-419000; D_loss: -4.137866199016571e-06; G_loss: -0.013117499649524689\n",
      "Iter-420000; D_loss: -7.011927664279938e-05; G_loss: -0.013067183084785938\n",
      "Iter-421000; D_loss: -6.374530494213104e-05; G_loss: -0.012990693561732769\n",
      "Iter-422000; D_loss: -2.1852552890777588e-05; G_loss: -0.013266611844301224\n",
      "Iter-423000; D_loss: -8.368026465177536e-05; G_loss: -0.012752566486597061\n",
      "Iter-424000; D_loss: -9.284354746341705e-05; G_loss: -0.013321615755558014\n",
      "Iter-425000; D_loss: -6.389617919921875e-05; G_loss: -0.013102401047945023\n",
      "Iter-426000; D_loss: -2.232380211353302e-06; G_loss: -0.013150447979569435\n",
      "Iter-427000; D_loss: -5.876645445823669e-07; G_loss: -0.013200191780924797\n",
      "Iter-428000; D_loss: 3.919936716556549e-05; G_loss: -0.013089863583445549\n",
      "Iter-429000; D_loss: 0.00010347086936235428; G_loss: -0.013066457584500313\n",
      "Iter-430000; D_loss: -4.047434777021408e-05; G_loss: -0.013476662337779999\n",
      "Iter-431000; D_loss: -0.0001274794340133667; G_loss: -0.012913485988974571\n",
      "Iter-432000; D_loss: -5.5361539125442505e-05; G_loss: -0.013219041749835014\n",
      "Iter-433000; D_loss: 2.7748756110668182e-05; G_loss: -0.013097084127366543\n",
      "Iter-434000; D_loss: -2.6240944862365723e-05; G_loss: -0.01322339940816164\n",
      "Iter-435000; D_loss: -2.1750107407569885e-05; G_loss: -0.012866697274148464\n",
      "Iter-436000; D_loss: -4.001706838607788e-05; G_loss: -0.013222375884652138\n",
      "Iter-437000; D_loss: 8.458457887172699e-05; G_loss: -0.013116029091179371\n",
      "Iter-438000; D_loss: -1.2473203241825104e-05; G_loss: -0.013229012489318848\n",
      "Iter-439000; D_loss: -5.582347512245178e-06; G_loss: -0.013136268593370914\n",
      "Iter-440000; D_loss: 0.00011355429887771606; G_loss: -0.013269632123410702\n"
     ]
    },
    {
     "name": "stdout",
     "output_type": "stream",
     "text": [
      "Iter-441000; D_loss: -2.508796751499176e-05; G_loss: -0.012991715222597122\n",
      "Iter-442000; D_loss: -5.418434739112854e-06; G_loss: -0.01304314099252224\n",
      "Iter-443000; D_loss: -4.2164698243141174e-05; G_loss: -0.013227718882262707\n",
      "Iter-444000; D_loss: -4.796311259269714e-07; G_loss: -0.013266418129205704\n",
      "Iter-445000; D_loss: -2.7759000658988953e-05; G_loss: -0.013211198151111603\n",
      "Iter-446000; D_loss: 9.96328890323639e-06; G_loss: -0.0132142324000597\n",
      "Iter-447000; D_loss: -2.1428801119327545e-05; G_loss: -0.01293555274605751\n",
      "Iter-448000; D_loss: -7.690303027629852e-05; G_loss: -0.013269073329865932\n",
      "Iter-449000; D_loss: -5.725771188735962e-05; G_loss: -0.013194332830607891\n",
      "Iter-450000; D_loss: 3.53250652551651e-05; G_loss: -0.013128329068422318\n",
      "Iter-451000; D_loss: -0.00010762456804513931; G_loss: -0.013076134026050568\n",
      "Iter-452000; D_loss: -3.7731602787971497e-05; G_loss: -0.013201948255300522\n",
      "Iter-453000; D_loss: -3.8479454815387726e-05; G_loss: -0.013204798102378845\n",
      "Iter-454000; D_loss: -0.00010436400771141052; G_loss: -0.013178285211324692\n",
      "Iter-455000; D_loss: -0.00014510378241539001; G_loss: -0.013413861393928528\n",
      "Iter-456000; D_loss: -8.701812475919724e-05; G_loss: -0.0136219821870327\n",
      "Iter-457000; D_loss: -1.2903474271297455e-05; G_loss: -0.013497820124030113\n",
      "Iter-458000; D_loss: -7.108692079782486e-05; G_loss: -0.013028871268033981\n",
      "Iter-459000; D_loss: 5.757901817560196e-05; G_loss: -0.013110707513988018\n",
      "Iter-460000; D_loss: 3.9097853004932404e-05; G_loss: -0.013227319344878197\n",
      "Iter-461000; D_loss: -0.0001426413655281067; G_loss: -0.013217631727457047\n",
      "Iter-462000; D_loss: -4.343688488006592e-06; G_loss: -0.013158737681806087\n",
      "Iter-463000; D_loss: 1.2254342436790466e-05; G_loss: -0.013303465209901333\n",
      "Iter-464000; D_loss: -2.917461097240448e-05; G_loss: -0.013248445466160774\n",
      "Iter-465000; D_loss: -3.086309880018234e-05; G_loss: -0.013215268962085247\n",
      "Iter-466000; D_loss: -4.1631050407886505e-05; G_loss: -0.013055750168859959\n",
      "Iter-467000; D_loss: 0.00010616704821586609; G_loss: -0.013390467502176762\n",
      "Iter-468000; D_loss: -2.283882349729538e-05; G_loss: -0.013285305351018906\n",
      "Iter-469000; D_loss: -5.663186311721802e-05; G_loss: -0.013236664235591888\n",
      "Iter-470000; D_loss: -3.1478703022003174e-06; G_loss: -0.01332943420857191\n",
      "Iter-471000; D_loss: -2.800486981868744e-05; G_loss: -0.013429985381662846\n",
      "Iter-472000; D_loss: -0.00010661222040653229; G_loss: -0.01354630570858717\n",
      "Iter-473000; D_loss: 1.2289732694625854e-05; G_loss: -0.01317968312650919\n",
      "Iter-474000; D_loss: 4.915613681077957e-05; G_loss: -0.013083131983876228\n",
      "Iter-475000; D_loss: -1.850072294473648e-05; G_loss: -0.01303084660321474\n",
      "Iter-476000; D_loss: -7.419288158416748e-05; G_loss: -0.013291401788592339\n",
      "Iter-477000; D_loss: -9.031780064105988e-05; G_loss: -0.013494021259248257\n",
      "Iter-478000; D_loss: 5.621463060379028e-06; G_loss: -0.013095511123538017\n",
      "Iter-479000; D_loss: -2.2716820240020752e-05; G_loss: -0.012954826466739178\n",
      "Iter-480000; D_loss: -6.091408431529999e-05; G_loss: -0.01316800992935896\n",
      "Iter-481000; D_loss: 0.00011152029037475586; G_loss: -0.013171268627047539\n",
      "Iter-482000; D_loss: -0.00016300473362207413; G_loss: -0.013158510439097881\n",
      "Iter-483000; D_loss: -6.060022860765457e-05; G_loss: -0.013140530325472355\n",
      "Iter-484000; D_loss: -3.5594217479228973e-05; G_loss: -0.013228802010416985\n",
      "Iter-485000; D_loss: -3.978610038757324e-06; G_loss: -0.013065798208117485\n",
      "Iter-486000; D_loss: 1.0810792446136475e-05; G_loss: -0.01328973937779665\n",
      "Iter-487000; D_loss: -2.2256746888160706e-05; G_loss: -0.013298779726028442\n",
      "Iter-488000; D_loss: -5.6374818086624146e-05; G_loss: -0.013167144730687141\n",
      "Iter-489000; D_loss: 1.1469237506389618e-05; G_loss: -0.013418530113995075\n",
      "Iter-490000; D_loss: -7.736589759588242e-05; G_loss: -0.013348883017897606\n",
      "Iter-491000; D_loss: -7.948838174343109e-06; G_loss: -0.013093707151710987\n",
      "Iter-492000; D_loss: -7.602386176586151e-05; G_loss: -0.013437699526548386\n",
      "Iter-493000; D_loss: -5.9233978390693665e-05; G_loss: -0.013091674074530602\n",
      "Iter-494000; D_loss: -4.701782017946243e-05; G_loss: -0.013168629258871078\n",
      "Iter-495000; D_loss: -9.157694876194e-05; G_loss: -0.013089983724057674\n",
      "Iter-496000; D_loss: -2.196338027715683e-05; G_loss: -0.013249652460217476\n",
      "Iter-497000; D_loss: -2.2717751562595367e-05; G_loss: -0.013085216283798218\n",
      "Iter-498000; D_loss: -4.268903285264969e-05; G_loss: -0.01343520637601614\n",
      "Iter-499000; D_loss: -4.218053072690964e-05; G_loss: -0.01323085930198431\n"
     ]
    }
   ],
   "source": [
    "#training \n",
    "print(\"Start training WGAN model...\")\n",
    "d_iter = 2 \n",
    "for it in range(500000):\n",
    "    if it<100: d_iter = 50 \n",
    "    else:\n",
    "        d_iter = 2\n",
    "    for _ in range(d_iter):\n",
    "        # Sample data\n",
    "        z = Variable(torch.randn(mb_size, z_dim)).cpu()\n",
    "        try:\n",
    "            X, _ = data_iter.next() \n",
    "        except StopIteration:\n",
    "            data_iter = iter(train_loader) \n",
    "            X, _ = data_iter.next()\n",
    "        #X = Variable(torch.from_numpy(X))\n",
    "        X = X.cpu()\n",
    "        \n",
    "        # Dicriminator forward-loss-backward-update \n",
    "        G_sample = G(z)\n",
    "        D_real = D(X)\n",
    "        D_fake = D(G_sample)\n",
    "        \n",
    "        D_loss = -(torch.mean(D_real) - torch.mean(D_fake))\n",
    "        \n",
    "        D_loss.backward() \n",
    "        D_solver.step()\n",
    "        \n",
    "        # Weight clipping \n",
    "        for p in D.parameters():\n",
    "            p.data.clamp_(-0.01, 0.01)\n",
    "            \n",
    "        D_losses.append(D_loss.data.cpu().numpy())\n",
    "        \n",
    "        # Housekeeping - reset gradient \n",
    "        reset_grad()\n",
    "        \n",
    "    # Generator forward-loss-backward-update \n",
    "    #X = Variable(torch.from_numpy(X)) \n",
    "    z = Variable(torch.randn(mb_size, z_dim)).cpu() #change cpu to cuda\n",
    "    \n",
    "    G_sample = G(z)\n",
    "    D_fake = D(G_sample)\n",
    "    \n",
    "    G_loss = -torch.mean(D_fake)\n",
    "    \n",
    "    G_loss.backward() \n",
    "    G_solver.step()\n",
    "\n",
    "    # Housekeeping - reset gradient \n",
    "    reset_grad()\n",
    "\n",
    "    G_losses.append(G_loss.data.cpu().numpy())\n",
    "\n",
    "    # Print and plot every now and then \n",
    "    if it % 1000 == 0:\n",
    "        print('Iter-{}; D_loss: {}; G_loss: {}'\n",
    "              .format(it, D_loss.data.cpu().numpy(),  \n",
    "                G_loss.data.cpu().numpy()))\n",
    "        \n",
    "        samples = G(z).data.numpy()[:16]\n",
    "\n",
    "#plot losses\n",
    "plt.figure(figsize=(10,5))\n",
    "plt.title(\"Generator and Critic Loss During Training\") \n",
    "plt.plot(G_losses,label=\"Generator\") \n",
    "plt.plot(D_losses,label=\"Critic\") \n",
    "plt.xlabel(\"iter\")\n",
    "plt.ylabel(\"loss\")\n",
    "plt.legend()\n",
    "plt.savefig('UGR_loss_2.png')\n",
    "\n",
    "#save model\n",
    "torch.save({'modelG_state_dict': G.state_dict(), \n",
    "            'modelD_state_dict': D.state_dict(),\n",
    "            'optimizerG_state_dict': G_solver.state_dict(),\n",
    "            'optimizerD_state_dict': D_solver.state_dict(),\n",
    "            'G_loss': G_losses,\n",
    "            'D_loss': D_losses\n",
    "           }, \"WGAN_model_UGR_2.pth\")"
   ]
  },
  {
   "cell_type": "markdown",
   "id": "a947cefd",
   "metadata": {},
   "source": [
    "# Data generation from saved WGAN model"
   ]
  },
  {
   "cell_type": "code",
   "execution_count": 4,
   "id": "6b2da982",
   "metadata": {
    "scrolled": true
   },
   "outputs": [
    {
     "name": "stdout",
     "output_type": "stream",
     "text": [
      "Loading model...\n",
      "----------------------------------------\n",
      "empty df Empty DataFrame\n",
      "Columns: [hour, minute, second, duration, source_ip, dest_ip, source_port, dest_port, protocol, flag1, flag2, flag3, flag4, flag5, flag6, fwd, stos, pkt, byt, Label]\n",
      "Index: []\n",
      "----------------------------------------\n",
      "Completed loading model\n"
     ]
    }
   ],
   "source": [
    "#loaded NN model\n",
    "print(\"Loading model...\")\n",
    "print(\"----------------------------------------\")\n",
    "json_file = open(\"DNN_critic_model_UGR_2.json\",\"r\") \n",
    "loaded_model_json = json_file.read()\n",
    "json_file.close()\n",
    "loaded_model = model_from_json(loaded_model_json) \n",
    "loaded_model.load_weights(\"DNN_critic_model_UGR_2.h5\")\n",
    "\n",
    "G = torch.nn.Sequential(\n",
    "    torch.nn.Linear(z_dim, h_dim),\n",
    "    torch.nn.ReLU(),\n",
    "    torch.nn.Linear(h_dim, h_dim),\n",
    "    torch.nn.ReLU(),\n",
    "    torch.nn.Linear(h_dim, X_dim), \n",
    "    torch.nn.Sigmoid()\n",
    ")\n",
    "\n",
    "checkpoint = torch.load(\"WGAN_model_UGR_2.pth\")\n",
    "G.load_state_dict(checkpoint['modelG_state_dict'])\n",
    "\n",
    "G.eval()\n",
    "G.cpu()\n",
    "\n",
    "final_Data = pd.DataFrame(columns = ['hour','minute','second','duration','source_ip','dest_ip','source_port','dest_port',\n",
    "                                     'protocol','flag1','flag2','flag3','flag4','flag5','flag6',\n",
    "                                     'fwd','stos','pkt','byt','Label']) \n",
    "print(\"empty df\",final_Data) \n",
    "print(\"----------------------------------------\")\n",
    "print(\"Completed loading model\")"
   ]
  },
  {
   "cell_type": "code",
   "execution_count": 5,
   "id": "73faade2",
   "metadata": {
    "scrolled": true
   },
   "outputs": [
    {
     "name": "stdout",
     "output_type": "stream",
     "text": [
      "4/4 [==============================] - 1s 4ms/step\n",
      "-------------------------------------------------------------\n",
      " confusion_matrix for new data with deeper model \n",
      " [[ 0  0]\n",
      " [34 66]]\n",
      "only attack data -  (66, 20)\n",
      "final data  1 -  (66, 20)\n",
      "-------------------------------------------------------------\n",
      "4/4 [==============================] - 0s 3ms/step\n"
     ]
    },
    {
     "name": "stderr",
     "output_type": "stream",
     "text": [
      "/tmp/ipykernel_2630869/2681396701.py:27: FutureWarning: The frame.append method is deprecated and will be removed from pandas in a future version. Use pandas.concat instead.\n",
      "  final_Data = final_Data.append(data1, ignore_index = True)\n",
      "/tmp/ipykernel_2630869/2681396701.py:27: FutureWarning: The frame.append method is deprecated and will be removed from pandas in a future version. Use pandas.concat instead.\n",
      "  final_Data = final_Data.append(data1, ignore_index = True)\n"
     ]
    },
    {
     "name": "stdout",
     "output_type": "stream",
     "text": [
      "-------------------------------------------------------------\n",
      " confusion_matrix for new data with deeper model \n",
      " [[ 0  0]\n",
      " [29 71]]\n",
      "only attack data -  (71, 20)\n",
      "final data  2 -  (137, 20)\n",
      "-------------------------------------------------------------\n",
      "4/4 [==============================] - 0s 3ms/step\n",
      "-------------------------------------------------------------\n",
      " confusion_matrix for new data with deeper model \n",
      " [[ 0  0]\n",
      " [39 61]]\n",
      "only attack data -  (61, 20)\n",
      "final data  3 -  (198, 20)\n",
      "-------------------------------------------------------------\n",
      "4/4 [==============================] - 0s 3ms/step\n",
      "-------------------------------------------------------------\n",
      " confusion_matrix for new data with deeper model \n",
      " [[ 0  0]\n",
      " [29 71]]\n",
      "only attack data -  (71, 20)\n",
      "final data  4 -  (269, 20)\n",
      "-------------------------------------------------------------\n"
     ]
    },
    {
     "name": "stderr",
     "output_type": "stream",
     "text": [
      "/tmp/ipykernel_2630869/2681396701.py:27: FutureWarning: The frame.append method is deprecated and will be removed from pandas in a future version. Use pandas.concat instead.\n",
      "  final_Data = final_Data.append(data1, ignore_index = True)\n",
      "/tmp/ipykernel_2630869/2681396701.py:27: FutureWarning: The frame.append method is deprecated and will be removed from pandas in a future version. Use pandas.concat instead.\n",
      "  final_Data = final_Data.append(data1, ignore_index = True)\n"
     ]
    },
    {
     "name": "stdout",
     "output_type": "stream",
     "text": [
      "4/4 [==============================] - 0s 2ms/step\n",
      "-------------------------------------------------------------\n",
      " confusion_matrix for new data with deeper model \n",
      " [[ 0  0]\n",
      " [19 81]]\n",
      "only attack data -  (81, 20)\n",
      "final data  5 -  (350, 20)\n",
      "-------------------------------------------------------------\n",
      "4/4 [==============================] - 0s 3ms/step\n",
      "-------------------------------------------------------------\n",
      " confusion_matrix for new data with deeper model \n",
      " [[ 0  0]\n",
      " [25 75]]\n",
      "only attack data -  (75, 20)\n",
      "final data  6 -  (425, 20)\n",
      "-------------------------------------------------------------\n"
     ]
    },
    {
     "name": "stderr",
     "output_type": "stream",
     "text": [
      "/tmp/ipykernel_2630869/2681396701.py:27: FutureWarning: The frame.append method is deprecated and will be removed from pandas in a future version. Use pandas.concat instead.\n",
      "  final_Data = final_Data.append(data1, ignore_index = True)\n",
      "/tmp/ipykernel_2630869/2681396701.py:27: FutureWarning: The frame.append method is deprecated and will be removed from pandas in a future version. Use pandas.concat instead.\n",
      "  final_Data = final_Data.append(data1, ignore_index = True)\n"
     ]
    },
    {
     "name": "stdout",
     "output_type": "stream",
     "text": [
      "4/4 [==============================] - 0s 3ms/step\n",
      "-------------------------------------------------------------\n",
      " confusion_matrix for new data with deeper model \n",
      " [[ 0  0]\n",
      " [26 74]]\n",
      "only attack data -  (74, 20)\n",
      "final data  7 -  (499, 20)\n",
      "-------------------------------------------------------------\n",
      "4/4 [==============================] - 0s 3ms/step\n",
      "-------------------------------------------------------------\n",
      " confusion_matrix for new data with deeper model \n",
      " [[ 0  0]\n",
      " [30 70]]\n",
      "only attack data -  (70, 20)\n",
      "final data  8 -  (569, 20)\n",
      "-------------------------------------------------------------\n"
     ]
    },
    {
     "name": "stderr",
     "output_type": "stream",
     "text": [
      "/tmp/ipykernel_2630869/2681396701.py:27: FutureWarning: The frame.append method is deprecated and will be removed from pandas in a future version. Use pandas.concat instead.\n",
      "  final_Data = final_Data.append(data1, ignore_index = True)\n",
      "/tmp/ipykernel_2630869/2681396701.py:27: FutureWarning: The frame.append method is deprecated and will be removed from pandas in a future version. Use pandas.concat instead.\n",
      "  final_Data = final_Data.append(data1, ignore_index = True)\n"
     ]
    },
    {
     "name": "stdout",
     "output_type": "stream",
     "text": [
      "4/4 [==============================] - 0s 3ms/step\n",
      "-------------------------------------------------------------\n",
      " confusion_matrix for new data with deeper model \n",
      " [[ 0  0]\n",
      " [20 80]]\n",
      "only attack data -  (80, 20)\n",
      "final data  9 -  (649, 20)\n",
      "-------------------------------------------------------------\n",
      "4/4 [==============================] - 0s 3ms/step\n",
      "-------------------------------------------------------------\n",
      " confusion_matrix for new data with deeper model \n",
      " [[ 0  0]\n",
      " [32 68]]\n",
      "only attack data -  (68, 20)\n",
      "final data  10 -  (717, 20)\n",
      "-------------------------------------------------------------\n"
     ]
    },
    {
     "name": "stderr",
     "output_type": "stream",
     "text": [
      "/tmp/ipykernel_2630869/2681396701.py:27: FutureWarning: The frame.append method is deprecated and will be removed from pandas in a future version. Use pandas.concat instead.\n",
      "  final_Data = final_Data.append(data1, ignore_index = True)\n",
      "/tmp/ipykernel_2630869/2681396701.py:27: FutureWarning: The frame.append method is deprecated and will be removed from pandas in a future version. Use pandas.concat instead.\n",
      "  final_Data = final_Data.append(data1, ignore_index = True)\n"
     ]
    },
    {
     "name": "stdout",
     "output_type": "stream",
     "text": [
      "4/4 [==============================] - 0s 3ms/step\n",
      "-------------------------------------------------------------\n",
      " confusion_matrix for new data with deeper model \n",
      " [[ 0  0]\n",
      " [21 79]]\n",
      "only attack data -  (79, 20)\n",
      "final data  11 -  (796, 20)\n",
      "-------------------------------------------------------------\n",
      "4/4 [==============================] - 0s 2ms/step\n",
      "-------------------------------------------------------------\n",
      " confusion_matrix for new data with deeper model \n",
      " [[ 0  0]\n",
      " [21 79]]\n",
      "only attack data -  (79, 20)\n",
      "final data  12 -  (875, 20)\n",
      "-------------------------------------------------------------\n"
     ]
    },
    {
     "name": "stderr",
     "output_type": "stream",
     "text": [
      "/tmp/ipykernel_2630869/2681396701.py:27: FutureWarning: The frame.append method is deprecated and will be removed from pandas in a future version. Use pandas.concat instead.\n",
      "  final_Data = final_Data.append(data1, ignore_index = True)\n",
      "/tmp/ipykernel_2630869/2681396701.py:27: FutureWarning: The frame.append method is deprecated and will be removed from pandas in a future version. Use pandas.concat instead.\n",
      "  final_Data = final_Data.append(data1, ignore_index = True)\n"
     ]
    },
    {
     "name": "stdout",
     "output_type": "stream",
     "text": [
      "4/4 [==============================] - 0s 3ms/step\n",
      "-------------------------------------------------------------\n",
      " confusion_matrix for new data with deeper model \n",
      " [[ 0  0]\n",
      " [27 73]]\n",
      "only attack data -  (73, 20)\n",
      "final data  13 -  (948, 20)\n",
      "-------------------------------------------------------------\n",
      "4/4 [==============================] - 0s 4ms/step\n",
      "-------------------------------------------------------------\n",
      " confusion_matrix for new data with deeper model \n",
      " [[ 0  0]\n",
      " [24 76]]\n",
      "only attack data -  (76, 20)\n",
      "final data  14 -  (1024, 20)\n",
      "-------------------------------------------------------------\n"
     ]
    },
    {
     "name": "stderr",
     "output_type": "stream",
     "text": [
      "/tmp/ipykernel_2630869/2681396701.py:27: FutureWarning: The frame.append method is deprecated and will be removed from pandas in a future version. Use pandas.concat instead.\n",
      "  final_Data = final_Data.append(data1, ignore_index = True)\n",
      "/tmp/ipykernel_2630869/2681396701.py:27: FutureWarning: The frame.append method is deprecated and will be removed from pandas in a future version. Use pandas.concat instead.\n",
      "  final_Data = final_Data.append(data1, ignore_index = True)\n"
     ]
    },
    {
     "name": "stdout",
     "output_type": "stream",
     "text": [
      "4/4 [==============================] - 0s 2ms/step\n",
      "-------------------------------------------------------------\n",
      " confusion_matrix for new data with deeper model \n",
      " [[ 0  0]\n",
      " [25 75]]\n",
      "only attack data -  (75, 20)\n",
      "final data  15 -  (1099, 20)\n",
      "-------------------------------------------------------------\n",
      "4/4 [==============================] - 0s 2ms/step\n",
      "-------------------------------------------------------------\n",
      " confusion_matrix for new data with deeper model \n",
      " [[ 0  0]\n",
      " [23 77]]\n",
      "only attack data -  (77, 20)\n",
      "final data  16 -  (1176, 20)\n",
      "-------------------------------------------------------------\n"
     ]
    },
    {
     "name": "stderr",
     "output_type": "stream",
     "text": [
      "/tmp/ipykernel_2630869/2681396701.py:27: FutureWarning: The frame.append method is deprecated and will be removed from pandas in a future version. Use pandas.concat instead.\n",
      "  final_Data = final_Data.append(data1, ignore_index = True)\n",
      "/tmp/ipykernel_2630869/2681396701.py:27: FutureWarning: The frame.append method is deprecated and will be removed from pandas in a future version. Use pandas.concat instead.\n",
      "  final_Data = final_Data.append(data1, ignore_index = True)\n"
     ]
    },
    {
     "name": "stdout",
     "output_type": "stream",
     "text": [
      "4/4 [==============================] - 0s 3ms/step\n",
      "-------------------------------------------------------------\n",
      " confusion_matrix for new data with deeper model \n",
      " [[ 0  0]\n",
      " [22 78]]\n",
      "only attack data -  (78, 20)\n",
      "final data  17 -  (1254, 20)\n",
      "-------------------------------------------------------------\n",
      "4/4 [==============================] - 0s 3ms/step\n",
      "-------------------------------------------------------------\n",
      " confusion_matrix for new data with deeper model \n",
      " [[ 0  0]\n",
      " [28 72]]\n",
      "only attack data -  (72, 20)\n",
      "final data  18 -  (1326, 20)\n",
      "-------------------------------------------------------------\n"
     ]
    },
    {
     "name": "stderr",
     "output_type": "stream",
     "text": [
      "/tmp/ipykernel_2630869/2681396701.py:27: FutureWarning: The frame.append method is deprecated and will be removed from pandas in a future version. Use pandas.concat instead.\n",
      "  final_Data = final_Data.append(data1, ignore_index = True)\n",
      "/tmp/ipykernel_2630869/2681396701.py:27: FutureWarning: The frame.append method is deprecated and will be removed from pandas in a future version. Use pandas.concat instead.\n",
      "  final_Data = final_Data.append(data1, ignore_index = True)\n"
     ]
    },
    {
     "name": "stdout",
     "output_type": "stream",
     "text": [
      "4/4 [==============================] - 0s 3ms/step\n",
      "-------------------------------------------------------------\n",
      " confusion_matrix for new data with deeper model \n",
      " [[ 0  0]\n",
      " [21 79]]\n",
      "only attack data -  (79, 20)\n",
      "final data  19 -  (1405, 20)\n",
      "-------------------------------------------------------------\n",
      "4/4 [==============================] - 0s 3ms/step\n",
      "-------------------------------------------------------------\n",
      " confusion_matrix for new data with deeper model \n",
      " [[ 0  0]\n",
      " [26 74]]\n",
      "only attack data -  (74, 20)\n",
      "final data  20 -  (1479, 20)\n",
      "-------------------------------------------------------------\n"
     ]
    },
    {
     "name": "stderr",
     "output_type": "stream",
     "text": [
      "/tmp/ipykernel_2630869/2681396701.py:27: FutureWarning: The frame.append method is deprecated and will be removed from pandas in a future version. Use pandas.concat instead.\n",
      "  final_Data = final_Data.append(data1, ignore_index = True)\n",
      "/tmp/ipykernel_2630869/2681396701.py:27: FutureWarning: The frame.append method is deprecated and will be removed from pandas in a future version. Use pandas.concat instead.\n",
      "  final_Data = final_Data.append(data1, ignore_index = True)\n"
     ]
    },
    {
     "name": "stdout",
     "output_type": "stream",
     "text": [
      "4/4 [==============================] - 0s 3ms/step\n",
      "-------------------------------------------------------------\n",
      " confusion_matrix for new data with deeper model \n",
      " [[ 0  0]\n",
      " [32 68]]\n",
      "only attack data -  (68, 20)\n",
      "final data  21 -  (1547, 20)\n",
      "-------------------------------------------------------------\n",
      "4/4 [==============================] - 0s 2ms/step\n",
      "-------------------------------------------------------------\n",
      " confusion_matrix for new data with deeper model \n",
      " [[ 0  0]\n",
      " [23 77]]\n",
      "only attack data -  (77, 20)\n",
      "final data  22 -  (1624, 20)\n",
      "-------------------------------------------------------------\n"
     ]
    },
    {
     "name": "stderr",
     "output_type": "stream",
     "text": [
      "/tmp/ipykernel_2630869/2681396701.py:27: FutureWarning: The frame.append method is deprecated and will be removed from pandas in a future version. Use pandas.concat instead.\n",
      "  final_Data = final_Data.append(data1, ignore_index = True)\n",
      "/tmp/ipykernel_2630869/2681396701.py:27: FutureWarning: The frame.append method is deprecated and will be removed from pandas in a future version. Use pandas.concat instead.\n",
      "  final_Data = final_Data.append(data1, ignore_index = True)\n"
     ]
    },
    {
     "name": "stdout",
     "output_type": "stream",
     "text": [
      "4/4 [==============================] - 0s 2ms/step\n",
      "-------------------------------------------------------------\n",
      " confusion_matrix for new data with deeper model \n",
      " [[ 0  0]\n",
      " [28 72]]\n",
      "only attack data -  (72, 20)\n",
      "final data  23 -  (1696, 20)\n",
      "-------------------------------------------------------------\n",
      "4/4 [==============================] - 0s 2ms/step\n",
      "-------------------------------------------------------------\n",
      " confusion_matrix for new data with deeper model \n",
      " [[ 0  0]\n",
      " [31 69]]\n",
      "only attack data -  (69, 20)\n",
      "final data  24 -  (1765, 20)\n",
      "-------------------------------------------------------------\n"
     ]
    },
    {
     "name": "stderr",
     "output_type": "stream",
     "text": [
      "/tmp/ipykernel_2630869/2681396701.py:27: FutureWarning: The frame.append method is deprecated and will be removed from pandas in a future version. Use pandas.concat instead.\n",
      "  final_Data = final_Data.append(data1, ignore_index = True)\n",
      "/tmp/ipykernel_2630869/2681396701.py:27: FutureWarning: The frame.append method is deprecated and will be removed from pandas in a future version. Use pandas.concat instead.\n",
      "  final_Data = final_Data.append(data1, ignore_index = True)\n"
     ]
    },
    {
     "name": "stdout",
     "output_type": "stream",
     "text": [
      "4/4 [==============================] - 0s 2ms/step\n",
      "-------------------------------------------------------------\n",
      " confusion_matrix for new data with deeper model \n",
      " [[ 0  0]\n",
      " [31 69]]\n",
      "only attack data -  (69, 20)\n",
      "final data  25 -  (1834, 20)\n",
      "-------------------------------------------------------------\n",
      "4/4 [==============================] - 0s 2ms/step\n",
      "-------------------------------------------------------------\n",
      " confusion_matrix for new data with deeper model \n",
      " [[ 0  0]\n",
      " [17 83]]\n",
      "only attack data -  (83, 20)\n",
      "final data  26 -  (1917, 20)\n",
      "-------------------------------------------------------------\n",
      "1/4 [======>.......................] - ETA: 0s"
     ]
    },
    {
     "name": "stderr",
     "output_type": "stream",
     "text": [
      "/tmp/ipykernel_2630869/2681396701.py:27: FutureWarning: The frame.append method is deprecated and will be removed from pandas in a future version. Use pandas.concat instead.\n",
      "  final_Data = final_Data.append(data1, ignore_index = True)\n",
      "/tmp/ipykernel_2630869/2681396701.py:27: FutureWarning: The frame.append method is deprecated and will be removed from pandas in a future version. Use pandas.concat instead.\n",
      "  final_Data = final_Data.append(data1, ignore_index = True)\n"
     ]
    },
    {
     "name": "stdout",
     "output_type": "stream",
     "text": [
      "4/4 [==============================] - 0s 4ms/step\n",
      "-------------------------------------------------------------\n",
      " confusion_matrix for new data with deeper model \n",
      " [[ 0  0]\n",
      " [34 66]]\n",
      "only attack data -  (66, 20)\n",
      "final data  27 -  (1983, 20)\n",
      "-------------------------------------------------------------\n",
      "4/4 [==============================] - 0s 3ms/step\n",
      "-------------------------------------------------------------\n",
      " confusion_matrix for new data with deeper model \n",
      " [[ 0  0]\n",
      " [22 78]]\n",
      "only attack data -  (78, 20)\n",
      "final data  28 -  (2061, 20)\n",
      "-------------------------------------------------------------\n",
      "4/4 [==============================] - 0s 2ms/step\n",
      "-------------------------------------------------------------"
     ]
    },
    {
     "name": "stderr",
     "output_type": "stream",
     "text": [
      "/tmp/ipykernel_2630869/2681396701.py:27: FutureWarning: The frame.append method is deprecated and will be removed from pandas in a future version. Use pandas.concat instead.\n",
      "  final_Data = final_Data.append(data1, ignore_index = True)\n",
      "/tmp/ipykernel_2630869/2681396701.py:27: FutureWarning: The frame.append method is deprecated and will be removed from pandas in a future version. Use pandas.concat instead.\n",
      "  final_Data = final_Data.append(data1, ignore_index = True)\n"
     ]
    },
    {
     "name": "stdout",
     "output_type": "stream",
     "text": [
      "\n",
      " confusion_matrix for new data with deeper model \n",
      " [[ 0  0]\n",
      " [28 72]]\n",
      "only attack data -  (72, 20)\n",
      "final data  29 -  (2133, 20)\n",
      "-------------------------------------------------------------\n",
      "4/4 [==============================] - 0s 3ms/step\n",
      "-------------------------------------------------------------\n",
      " confusion_matrix for new data with deeper model \n",
      " [[ 0  0]\n",
      " [17 83]]\n",
      "only attack data -  (83, 20)\n",
      "final data  30 -  (2216, 20)\n",
      "-------------------------------------------------------------\n"
     ]
    },
    {
     "name": "stderr",
     "output_type": "stream",
     "text": [
      "/tmp/ipykernel_2630869/2681396701.py:27: FutureWarning: The frame.append method is deprecated and will be removed from pandas in a future version. Use pandas.concat instead.\n",
      "  final_Data = final_Data.append(data1, ignore_index = True)\n",
      "/tmp/ipykernel_2630869/2681396701.py:27: FutureWarning: The frame.append method is deprecated and will be removed from pandas in a future version. Use pandas.concat instead.\n",
      "  final_Data = final_Data.append(data1, ignore_index = True)\n"
     ]
    },
    {
     "name": "stdout",
     "output_type": "stream",
     "text": [
      "4/4 [==============================] - 0s 3ms/step\n",
      "-------------------------------------------------------------\n",
      " confusion_matrix for new data with deeper model \n",
      " [[ 0  0]\n",
      " [28 72]]\n",
      "only attack data -  (72, 20)\n",
      "final data  31 -  (2288, 20)\n",
      "-------------------------------------------------------------\n",
      "4/4 [==============================] - 0s 2ms/step\n",
      "-------------------------------------------------------------\n",
      " confusion_matrix for new data with deeper model \n",
      " [[ 0  0]\n",
      " [26 74]]\n",
      "only attack data -  (74, 20)\n",
      "final data  32 -  (2362, 20)\n",
      "-------------------------------------------------------------\n"
     ]
    },
    {
     "name": "stderr",
     "output_type": "stream",
     "text": [
      "/tmp/ipykernel_2630869/2681396701.py:27: FutureWarning: The frame.append method is deprecated and will be removed from pandas in a future version. Use pandas.concat instead.\n",
      "  final_Data = final_Data.append(data1, ignore_index = True)\n",
      "/tmp/ipykernel_2630869/2681396701.py:27: FutureWarning: The frame.append method is deprecated and will be removed from pandas in a future version. Use pandas.concat instead.\n",
      "  final_Data = final_Data.append(data1, ignore_index = True)\n"
     ]
    },
    {
     "name": "stdout",
     "output_type": "stream",
     "text": [
      "4/4 [==============================] - 0s 2ms/step\n",
      "-------------------------------------------------------------\n",
      " confusion_matrix for new data with deeper model \n",
      " [[ 0  0]\n",
      " [29 71]]\n",
      "only attack data -  (71, 20)\n",
      "final data  33 -  (2433, 20)\n",
      "-------------------------------------------------------------\n",
      "4/4 [==============================] - 0s 2ms/step\n",
      "-------------------------------------------------------------\n",
      " confusion_matrix for new data with deeper model \n",
      " [[ 0  0]\n",
      " [32 68]]\n",
      "only attack data -  (68, 20)\n",
      "final data  34 -  (2501, 20)\n",
      "-------------------------------------------------------------\n",
      "4/4 [==============================] - 0s 2ms/step\n",
      "-------------------------------------------------------------\n",
      " confusion_matrix for new data with deeper model \n",
      " [[ 0  0]\n",
      " [26 74]]\n",
      "only attack data -  (74, 20)\n"
     ]
    },
    {
     "name": "stderr",
     "output_type": "stream",
     "text": [
      "/tmp/ipykernel_2630869/2681396701.py:27: FutureWarning: The frame.append method is deprecated and will be removed from pandas in a future version. Use pandas.concat instead.\n",
      "  final_Data = final_Data.append(data1, ignore_index = True)\n",
      "/tmp/ipykernel_2630869/2681396701.py:27: FutureWarning: The frame.append method is deprecated and will be removed from pandas in a future version. Use pandas.concat instead.\n",
      "  final_Data = final_Data.append(data1, ignore_index = True)\n",
      "/tmp/ipykernel_2630869/2681396701.py:27: FutureWarning: The frame.append method is deprecated and will be removed from pandas in a future version. Use pandas.concat instead.\n",
      "  final_Data = final_Data.append(data1, ignore_index = True)\n"
     ]
    },
    {
     "name": "stdout",
     "output_type": "stream",
     "text": [
      "final data  35 -  (2575, 20)\n",
      "-------------------------------------------------------------\n",
      "4/4 [==============================] - 0s 3ms/step\n",
      "-------------------------------------------------------------\n",
      " confusion_matrix for new data with deeper model \n",
      " [[ 0  0]\n",
      " [31 69]]\n",
      "only attack data -  (69, 20)\n",
      "final data  36 -  (2644, 20)\n",
      "-------------------------------------------------------------\n",
      "4/4 [==============================] - 0s 2ms/step\n",
      "-------------------------------------------------------------\n",
      " confusion_matrix for new data with deeper model \n",
      " [[ 0  0]\n",
      " [27 73]]\n",
      "only attack data -  (73, 20)\n",
      "final data  37 -  (2717, 20)\n",
      "-------------------------------------------------------------\n"
     ]
    },
    {
     "name": "stderr",
     "output_type": "stream",
     "text": [
      "/tmp/ipykernel_2630869/2681396701.py:27: FutureWarning: The frame.append method is deprecated and will be removed from pandas in a future version. Use pandas.concat instead.\n",
      "  final_Data = final_Data.append(data1, ignore_index = True)\n",
      "/tmp/ipykernel_2630869/2681396701.py:27: FutureWarning: The frame.append method is deprecated and will be removed from pandas in a future version. Use pandas.concat instead.\n",
      "  final_Data = final_Data.append(data1, ignore_index = True)\n"
     ]
    },
    {
     "name": "stdout",
     "output_type": "stream",
     "text": [
      "4/4 [==============================] - 0s 2ms/step\n",
      "-------------------------------------------------------------\n",
      " confusion_matrix for new data with deeper model \n",
      " [[ 0  0]\n",
      " [19 81]]\n",
      "only attack data -  (81, 20)\n",
      "final data  38 -  (2798, 20)\n",
      "-------------------------------------------------------------\n",
      "4/4 [==============================] - 0s 3ms/step\n",
      "-------------------------------------------------------------\n",
      " confusion_matrix for new data with deeper model \n",
      " [[ 0  0]\n",
      " [26 74]]\n",
      "only attack data -  (74, 20)\n",
      "final data  39 -  (2872, 20)\n",
      "-------------------------------------------------------------\n"
     ]
    },
    {
     "name": "stderr",
     "output_type": "stream",
     "text": [
      "/tmp/ipykernel_2630869/2681396701.py:27: FutureWarning: The frame.append method is deprecated and will be removed from pandas in a future version. Use pandas.concat instead.\n",
      "  final_Data = final_Data.append(data1, ignore_index = True)\n",
      "/tmp/ipykernel_2630869/2681396701.py:27: FutureWarning: The frame.append method is deprecated and will be removed from pandas in a future version. Use pandas.concat instead.\n",
      "  final_Data = final_Data.append(data1, ignore_index = True)\n"
     ]
    },
    {
     "name": "stdout",
     "output_type": "stream",
     "text": [
      "4/4 [==============================] - 0s 3ms/step\n",
      "-------------------------------------------------------------\n",
      " confusion_matrix for new data with deeper model \n",
      " [[ 0  0]\n",
      " [13 87]]\n",
      "only attack data -  (87, 20)\n",
      "final data  40 -  (2959, 20)\n",
      "-------------------------------------------------------------\n",
      "4/4 [==============================] - 0s 4ms/step\n",
      "-------------------------------------------------------------\n",
      " confusion_matrix for new data with deeper model \n",
      " [[ 0  0]\n",
      " [27 73]]\n",
      "only attack data -  (73, 20)\n",
      "final data  41 -  (3032, 20)\n",
      "-------------------------------------------------------------\n"
     ]
    },
    {
     "name": "stderr",
     "output_type": "stream",
     "text": [
      "/tmp/ipykernel_2630869/2681396701.py:27: FutureWarning: The frame.append method is deprecated and will be removed from pandas in a future version. Use pandas.concat instead.\n",
      "  final_Data = final_Data.append(data1, ignore_index = True)\n",
      "/tmp/ipykernel_2630869/2681396701.py:27: FutureWarning: The frame.append method is deprecated and will be removed from pandas in a future version. Use pandas.concat instead.\n",
      "  final_Data = final_Data.append(data1, ignore_index = True)\n"
     ]
    },
    {
     "name": "stdout",
     "output_type": "stream",
     "text": [
      "4/4 [==============================] - 0s 3ms/step\n",
      "-------------------------------------------------------------\n",
      " confusion_matrix for new data with deeper model \n",
      " [[ 0  0]\n",
      " [24 76]]\n",
      "only attack data -  (76, 20)\n",
      "final data  42 -  (3108, 20)\n",
      "-------------------------------------------------------------\n",
      "4/4 [==============================] - 0s 3ms/step\n",
      "-------------------------------------------------------------\n",
      " confusion_matrix for new data with deeper model \n",
      " [[ 0  0]\n",
      " [31 69]]\n",
      "only attack data -  (69, 20)\n",
      "final data  43 -  (3177, 20)\n",
      "-------------------------------------------------------------\n"
     ]
    },
    {
     "name": "stderr",
     "output_type": "stream",
     "text": [
      "/tmp/ipykernel_2630869/2681396701.py:27: FutureWarning: The frame.append method is deprecated and will be removed from pandas in a future version. Use pandas.concat instead.\n",
      "  final_Data = final_Data.append(data1, ignore_index = True)\n",
      "/tmp/ipykernel_2630869/2681396701.py:27: FutureWarning: The frame.append method is deprecated and will be removed from pandas in a future version. Use pandas.concat instead.\n",
      "  final_Data = final_Data.append(data1, ignore_index = True)\n"
     ]
    },
    {
     "name": "stdout",
     "output_type": "stream",
     "text": [
      "4/4 [==============================] - 0s 3ms/step\n",
      "-------------------------------------------------------------\n",
      " confusion_matrix for new data with deeper model \n",
      " [[ 0  0]\n",
      " [31 69]]\n",
      "only attack data -  (69, 20)\n",
      "final data  44 -  (3246, 20)\n",
      "-------------------------------------------------------------\n",
      "4/4 [==============================] - 0s 2ms/step\n",
      "-------------------------------------------------------------\n",
      " confusion_matrix for new data with deeper model \n",
      " [[ 0  0]\n",
      " [27 73]]\n",
      "only attack data -  (73, 20)\n",
      "final data  45 -  (3319, 20)\n",
      "-------------------------------------------------------------\n"
     ]
    },
    {
     "name": "stderr",
     "output_type": "stream",
     "text": [
      "/tmp/ipykernel_2630869/2681396701.py:27: FutureWarning: The frame.append method is deprecated and will be removed from pandas in a future version. Use pandas.concat instead.\n",
      "  final_Data = final_Data.append(data1, ignore_index = True)\n",
      "/tmp/ipykernel_2630869/2681396701.py:27: FutureWarning: The frame.append method is deprecated and will be removed from pandas in a future version. Use pandas.concat instead.\n",
      "  final_Data = final_Data.append(data1, ignore_index = True)\n"
     ]
    },
    {
     "name": "stdout",
     "output_type": "stream",
     "text": [
      "4/4 [==============================] - 0s 2ms/step\n",
      "-------------------------------------------------------------\n",
      " confusion_matrix for new data with deeper model \n",
      " [[ 0  0]\n",
      " [26 74]]\n",
      "only attack data -  (74, 20)\n",
      "final data  46 -  (3393, 20)\n",
      "-------------------------------------------------------------\n",
      "4/4 [==============================] - 0s 2ms/step\n",
      "-------------------------------------------------------------\n",
      " confusion_matrix for new data with deeper model \n",
      " [[ 0  0]\n",
      " [27 73]]\n",
      "only attack data -  (73, 20)\n",
      "final data  47 -  (3466, 20)\n",
      "-------------------------------------------------------------\n",
      "4/4 [==============================] - 0s 2ms/step\n",
      "-------------------------------------------------------------\n",
      " confusion_matrix for new data with deeper model \n",
      " [[ 0  0]\n",
      " [24 76]]\n",
      "only attack data -  (76, 20)\n",
      "final data  48 -  (3542, 20)\n",
      "-------------------------------------------------------------\n"
     ]
    },
    {
     "name": "stderr",
     "output_type": "stream",
     "text": [
      "/tmp/ipykernel_2630869/2681396701.py:27: FutureWarning: The frame.append method is deprecated and will be removed from pandas in a future version. Use pandas.concat instead.\n",
      "  final_Data = final_Data.append(data1, ignore_index = True)\n",
      "/tmp/ipykernel_2630869/2681396701.py:27: FutureWarning: The frame.append method is deprecated and will be removed from pandas in a future version. Use pandas.concat instead.\n",
      "  final_Data = final_Data.append(data1, ignore_index = True)\n",
      "/tmp/ipykernel_2630869/2681396701.py:27: FutureWarning: The frame.append method is deprecated and will be removed from pandas in a future version. Use pandas.concat instead.\n",
      "  final_Data = final_Data.append(data1, ignore_index = True)\n"
     ]
    },
    {
     "name": "stdout",
     "output_type": "stream",
     "text": [
      "4/4 [==============================] - 0s 3ms/step\n",
      "-------------------------------------------------------------\n",
      " confusion_matrix for new data with deeper model \n",
      " [[ 0  0]\n",
      " [24 76]]\n",
      "only attack data -  (76, 20)\n",
      "final data  49 -  (3618, 20)\n",
      "-------------------------------------------------------------\n",
      "4/4 [==============================] - 0s 3ms/step\n",
      "-------------------------------------------------------------\n",
      " confusion_matrix for new data with deeper model \n",
      " [[ 0  0]\n",
      " [35 65]]\n",
      "only attack data -  (65, 20)\n",
      "final data  50 -  (3683, 20)\n",
      "-------------------------------------------------------------\n"
     ]
    },
    {
     "name": "stderr",
     "output_type": "stream",
     "text": [
      "/tmp/ipykernel_2630869/2681396701.py:27: FutureWarning: The frame.append method is deprecated and will be removed from pandas in a future version. Use pandas.concat instead.\n",
      "  final_Data = final_Data.append(data1, ignore_index = True)\n",
      "/tmp/ipykernel_2630869/2681396701.py:27: FutureWarning: The frame.append method is deprecated and will be removed from pandas in a future version. Use pandas.concat instead.\n",
      "  final_Data = final_Data.append(data1, ignore_index = True)\n"
     ]
    },
    {
     "name": "stdout",
     "output_type": "stream",
     "text": [
      "4/4 [==============================] - 0s 3ms/step\n",
      "-------------------------------------------------------------\n",
      " confusion_matrix for new data with deeper model \n",
      " [[ 0  0]\n",
      " [33 67]]\n",
      "only attack data -  (67, 20)\n",
      "final data  51 -  (3750, 20)\n",
      "-------------------------------------------------------------\n",
      "4/4 [==============================] - 0s 3ms/step\n",
      "-------------------------------------------------------------\n",
      " confusion_matrix for new data with deeper model \n",
      " [[ 0  0]\n",
      " [24 76]]\n",
      "only attack data -  (76, 20)\n",
      "final data  52 -  (3826, 20)\n",
      "-------------------------------------------------------------\n"
     ]
    },
    {
     "name": "stderr",
     "output_type": "stream",
     "text": [
      "/tmp/ipykernel_2630869/2681396701.py:27: FutureWarning: The frame.append method is deprecated and will be removed from pandas in a future version. Use pandas.concat instead.\n",
      "  final_Data = final_Data.append(data1, ignore_index = True)\n",
      "/tmp/ipykernel_2630869/2681396701.py:27: FutureWarning: The frame.append method is deprecated and will be removed from pandas in a future version. Use pandas.concat instead.\n",
      "  final_Data = final_Data.append(data1, ignore_index = True)\n"
     ]
    },
    {
     "name": "stdout",
     "output_type": "stream",
     "text": [
      "4/4 [==============================] - 0s 3ms/step\n",
      "-------------------------------------------------------------\n",
      " confusion_matrix for new data with deeper model \n",
      " [[ 0  0]\n",
      " [27 73]]\n",
      "only attack data -  (73, 20)\n",
      "final data  53 -  (3899, 20)\n",
      "-------------------------------------------------------------\n",
      "4/4 [==============================] - 0s 2ms/step\n",
      "-------------------------------------------------------------\n",
      " confusion_matrix for new data with deeper model \n",
      " [[ 0  0]\n",
      " [23 77]]\n",
      "only attack data -  (77, 20)\n",
      "final data  54 -  (3976, 20)\n",
      "-------------------------------------------------------------\n"
     ]
    },
    {
     "name": "stderr",
     "output_type": "stream",
     "text": [
      "/tmp/ipykernel_2630869/2681396701.py:27: FutureWarning: The frame.append method is deprecated and will be removed from pandas in a future version. Use pandas.concat instead.\n",
      "  final_Data = final_Data.append(data1, ignore_index = True)\n",
      "/tmp/ipykernel_2630869/2681396701.py:27: FutureWarning: The frame.append method is deprecated and will be removed from pandas in a future version. Use pandas.concat instead.\n",
      "  final_Data = final_Data.append(data1, ignore_index = True)\n"
     ]
    },
    {
     "name": "stdout",
     "output_type": "stream",
     "text": [
      "4/4 [==============================] - 0s 2ms/step\n",
      "-------------------------------------------------------------\n",
      " confusion_matrix for new data with deeper model \n",
      " [[ 0  0]\n",
      " [28 72]]\n",
      "only attack data -  (72, 20)\n",
      "final data  55 -  (4048, 20)\n",
      "-------------------------------------------------------------\n",
      "4/4 [==============================] - 0s 2ms/step\n",
      "-------------------------------------------------------------\n",
      " confusion_matrix for new data with deeper model \n",
      " [[ 0  0]\n",
      " [22 78]]\n",
      "only attack data -  (78, 20)\n",
      "final data  56 -  (4126, 20)\n",
      "-------------------------------------------------------------\n",
      "4/4 [==============================] - 0s 2ms/step\n",
      "-------------------------------------------------------------\n",
      " confusion_matrix for new data with deeper model \n",
      " [[ 0  0]\n",
      " [26 74]]\n",
      "only attack data -  (74, 20)\n",
      "final data  57 -  (4200, 20)\n",
      "-------------------------------------------------------------\n"
     ]
    },
    {
     "name": "stderr",
     "output_type": "stream",
     "text": [
      "/tmp/ipykernel_2630869/2681396701.py:27: FutureWarning: The frame.append method is deprecated and will be removed from pandas in a future version. Use pandas.concat instead.\n",
      "  final_Data = final_Data.append(data1, ignore_index = True)\n",
      "/tmp/ipykernel_2630869/2681396701.py:27: FutureWarning: The frame.append method is deprecated and will be removed from pandas in a future version. Use pandas.concat instead.\n",
      "  final_Data = final_Data.append(data1, ignore_index = True)\n",
      "/tmp/ipykernel_2630869/2681396701.py:27: FutureWarning: The frame.append method is deprecated and will be removed from pandas in a future version. Use pandas.concat instead.\n",
      "  final_Data = final_Data.append(data1, ignore_index = True)\n"
     ]
    },
    {
     "name": "stdout",
     "output_type": "stream",
     "text": [
      "4/4 [==============================] - 0s 3ms/step\n",
      "-------------------------------------------------------------\n",
      " confusion_matrix for new data with deeper model \n",
      " [[ 0  0]\n",
      " [24 76]]\n",
      "only attack data -  (76, 20)\n",
      "final data  58 -  (4276, 20)\n",
      "-------------------------------------------------------------\n",
      "4/4 [==============================] - 0s 2ms/step\n",
      "-------------------------------------------------------------\n",
      " confusion_matrix for new data with deeper model \n",
      " [[ 0  0]\n",
      " [31 69]]\n",
      "only attack data -  (69, 20)\n",
      "final data  59 -  (4345, 20)\n",
      "-------------------------------------------------------------\n"
     ]
    },
    {
     "name": "stderr",
     "output_type": "stream",
     "text": [
      "/tmp/ipykernel_2630869/2681396701.py:27: FutureWarning: The frame.append method is deprecated and will be removed from pandas in a future version. Use pandas.concat instead.\n",
      "  final_Data = final_Data.append(data1, ignore_index = True)\n",
      "/tmp/ipykernel_2630869/2681396701.py:27: FutureWarning: The frame.append method is deprecated and will be removed from pandas in a future version. Use pandas.concat instead.\n",
      "  final_Data = final_Data.append(data1, ignore_index = True)\n"
     ]
    },
    {
     "name": "stdout",
     "output_type": "stream",
     "text": [
      "4/4 [==============================] - 0s 3ms/step\n",
      "-------------------------------------------------------------\n",
      " confusion_matrix for new data with deeper model \n",
      " [[ 0  0]\n",
      " [28 72]]\n",
      "only attack data -  (72, 20)\n",
      "final data  60 -  (4417, 20)\n",
      "-------------------------------------------------------------\n",
      "4/4 [==============================] - 0s 2ms/step\n",
      "-------------------------------------------------------------\n",
      " confusion_matrix for new data with deeper model \n",
      " [[ 0  0]\n",
      " [23 77]]\n",
      "only attack data -  (77, 20)\n",
      "final data  61 -  (4494, 20)\n",
      "-------------------------------------------------------------\n"
     ]
    },
    {
     "name": "stderr",
     "output_type": "stream",
     "text": [
      "/tmp/ipykernel_2630869/2681396701.py:27: FutureWarning: The frame.append method is deprecated and will be removed from pandas in a future version. Use pandas.concat instead.\n",
      "  final_Data = final_Data.append(data1, ignore_index = True)\n",
      "/tmp/ipykernel_2630869/2681396701.py:27: FutureWarning: The frame.append method is deprecated and will be removed from pandas in a future version. Use pandas.concat instead.\n",
      "  final_Data = final_Data.append(data1, ignore_index = True)\n"
     ]
    },
    {
     "name": "stdout",
     "output_type": "stream",
     "text": [
      "4/4 [==============================] - 0s 2ms/step\n",
      "-------------------------------------------------------------\n",
      " confusion_matrix for new data with deeper model \n",
      " [[ 0  0]\n",
      " [32 68]]\n",
      "only attack data -  (68, 20)\n",
      "final data  62 -  (4562, 20)\n",
      "-------------------------------------------------------------\n",
      "4/4 [==============================] - 0s 2ms/step\n",
      "-------------------------------------------------------------\n",
      " confusion_matrix for new data with deeper model \n",
      " [[ 0  0]\n",
      " [20 80]]\n",
      "only attack data -  (80, 20)\n",
      "final data  63 -  (4642, 20)\n",
      "-------------------------------------------------------------\n",
      "4/4 [==============================] - 0s 2ms/step\n",
      "-------------------------------------------------------------\n",
      " confusion_matrix for new data with deeper model \n",
      " [[ 0  0]\n",
      " [24 76]]\n",
      "only attack data -  (76, 20)\n",
      "final data  64 -  (4718, 20)\n",
      "-------------------------------------------------------------\n"
     ]
    },
    {
     "name": "stderr",
     "output_type": "stream",
     "text": [
      "/tmp/ipykernel_2630869/2681396701.py:27: FutureWarning: The frame.append method is deprecated and will be removed from pandas in a future version. Use pandas.concat instead.\n",
      "  final_Data = final_Data.append(data1, ignore_index = True)\n",
      "/tmp/ipykernel_2630869/2681396701.py:27: FutureWarning: The frame.append method is deprecated and will be removed from pandas in a future version. Use pandas.concat instead.\n",
      "  final_Data = final_Data.append(data1, ignore_index = True)\n",
      "/tmp/ipykernel_2630869/2681396701.py:27: FutureWarning: The frame.append method is deprecated and will be removed from pandas in a future version. Use pandas.concat instead.\n",
      "  final_Data = final_Data.append(data1, ignore_index = True)\n"
     ]
    },
    {
     "name": "stdout",
     "output_type": "stream",
     "text": [
      "4/4 [==============================] - 0s 2ms/step\n",
      "-------------------------------------------------------------\n",
      " confusion_matrix for new data with deeper model \n",
      " [[ 0  0]\n",
      " [31 69]]\n",
      "only attack data -  (69, 20)\n",
      "final data  65 -  (4787, 20)\n",
      "-------------------------------------------------------------\n",
      "4/4 [==============================] - 0s 2ms/step\n",
      "-------------------------------------------------------------\n",
      " confusion_matrix for new data with deeper model \n",
      " [[ 0  0]\n",
      " [27 73]]\n",
      "only attack data -  (73, 20)\n",
      "final data  66 -  (4860, 20)\n",
      "-------------------------------------------------------------\n",
      "4/4 [==============================] - 0s 2ms/step\n",
      "-------------------------------------------------------------\n",
      " confusion_matrix for new data with deeper model \n",
      " [[ 0  0]\n",
      " [29 71]]\n",
      "only attack data -  (71, 20)\n",
      "final data  67 -  (4931, 20)\n",
      "-------------------------------------------------------------\n"
     ]
    },
    {
     "name": "stderr",
     "output_type": "stream",
     "text": [
      "/tmp/ipykernel_2630869/2681396701.py:27: FutureWarning: The frame.append method is deprecated and will be removed from pandas in a future version. Use pandas.concat instead.\n",
      "  final_Data = final_Data.append(data1, ignore_index = True)\n",
      "/tmp/ipykernel_2630869/2681396701.py:27: FutureWarning: The frame.append method is deprecated and will be removed from pandas in a future version. Use pandas.concat instead.\n",
      "  final_Data = final_Data.append(data1, ignore_index = True)\n",
      "/tmp/ipykernel_2630869/2681396701.py:27: FutureWarning: The frame.append method is deprecated and will be removed from pandas in a future version. Use pandas.concat instead.\n",
      "  final_Data = final_Data.append(data1, ignore_index = True)\n"
     ]
    },
    {
     "name": "stdout",
     "output_type": "stream",
     "text": [
      "4/4 [==============================] - 0s 2ms/step\n",
      "-------------------------------------------------------------\n",
      " confusion_matrix for new data with deeper model \n",
      " [[ 0  0]\n",
      " [24 76]]\n",
      "only attack data -  (76, 20)\n",
      "final data  68 -  (5007, 20)\n",
      "-------------------------------------------------------------\n",
      "4/4 [==============================] - 0s 2ms/step\n",
      "-------------------------------------------------------------\n",
      " confusion_matrix for new data with deeper model \n",
      " [[ 0  0]\n",
      " [28 72]]\n",
      "only attack data -  (72, 20)\n",
      "final data  69 -  (5079, 20)\n",
      "-------------------------------------------------------------\n",
      "4/4 [==============================] - 0s 2ms/step\n",
      "-------------------------------------------------------------\n",
      " confusion_matrix for new data with deeper model \n",
      " [[ 0  0]\n",
      " [30 70]]\n",
      "only attack data -  (70, 20)\n",
      "final data  70 -  (5149, 20)\n",
      "-------------------------------------------------------------\n"
     ]
    },
    {
     "name": "stderr",
     "output_type": "stream",
     "text": [
      "/tmp/ipykernel_2630869/2681396701.py:27: FutureWarning: The frame.append method is deprecated and will be removed from pandas in a future version. Use pandas.concat instead.\n",
      "  final_Data = final_Data.append(data1, ignore_index = True)\n",
      "/tmp/ipykernel_2630869/2681396701.py:27: FutureWarning: The frame.append method is deprecated and will be removed from pandas in a future version. Use pandas.concat instead.\n",
      "  final_Data = final_Data.append(data1, ignore_index = True)\n",
      "/tmp/ipykernel_2630869/2681396701.py:27: FutureWarning: The frame.append method is deprecated and will be removed from pandas in a future version. Use pandas.concat instead.\n",
      "  final_Data = final_Data.append(data1, ignore_index = True)\n"
     ]
    },
    {
     "name": "stdout",
     "output_type": "stream",
     "text": [
      "4/4 [==============================] - 0s 2ms/step\n",
      "-------------------------------------------------------------\n",
      " confusion_matrix for new data with deeper model \n",
      " [[ 0  0]\n",
      " [29 71]]\n",
      "only attack data -  (71, 20)\n",
      "final data  71 -  (5220, 20)\n",
      "-------------------------------------------------------------\n",
      "4/4 [==============================] - 0s 2ms/step\n",
      "-------------------------------------------------------------\n",
      " confusion_matrix for new data with deeper model \n",
      " [[ 0  0]\n",
      " [34 66]]\n",
      "only attack data -  (66, 20)\n",
      "final data  72 -  (5286, 20)\n",
      "-------------------------------------------------------------\n",
      "4/4 [==============================] - 0s 2ms/step\n"
     ]
    },
    {
     "name": "stderr",
     "output_type": "stream",
     "text": [
      "/tmp/ipykernel_2630869/2681396701.py:27: FutureWarning: The frame.append method is deprecated and will be removed from pandas in a future version. Use pandas.concat instead.\n",
      "  final_Data = final_Data.append(data1, ignore_index = True)\n",
      "/tmp/ipykernel_2630869/2681396701.py:27: FutureWarning: The frame.append method is deprecated and will be removed from pandas in a future version. Use pandas.concat instead.\n",
      "  final_Data = final_Data.append(data1, ignore_index = True)\n"
     ]
    },
    {
     "name": "stdout",
     "output_type": "stream",
     "text": [
      "-------------------------------------------------------------\n",
      " confusion_matrix for new data with deeper model \n",
      " [[ 0  0]\n",
      " [18 82]]\n",
      "only attack data -  (82, 20)\n",
      "final data  73 -  (5368, 20)\n",
      "-------------------------------------------------------------\n",
      "4/4 [==============================] - 0s 2ms/step\n",
      "-------------------------------------------------------------\n",
      " confusion_matrix for new data with deeper model \n",
      " [[ 0  0]\n",
      " [20 80]]\n",
      "only attack data -  (80, 20)\n",
      "final data  74 -  (5448, 20)\n",
      "-------------------------------------------------------------\n",
      "4/4 [==============================] - 0s 2ms/step\n"
     ]
    },
    {
     "name": "stderr",
     "output_type": "stream",
     "text": [
      "/tmp/ipykernel_2630869/2681396701.py:27: FutureWarning: The frame.append method is deprecated and will be removed from pandas in a future version. Use pandas.concat instead.\n",
      "  final_Data = final_Data.append(data1, ignore_index = True)\n",
      "/tmp/ipykernel_2630869/2681396701.py:27: FutureWarning: The frame.append method is deprecated and will be removed from pandas in a future version. Use pandas.concat instead.\n",
      "  final_Data = final_Data.append(data1, ignore_index = True)\n"
     ]
    },
    {
     "name": "stdout",
     "output_type": "stream",
     "text": [
      "-------------------------------------------------------------\n",
      " confusion_matrix for new data with deeper model \n",
      " [[ 0  0]\n",
      " [28 72]]\n",
      "only attack data -  (72, 20)\n",
      "final data  75 -  (5520, 20)\n",
      "-------------------------------------------------------------\n",
      "4/4 [==============================] - 0s 2ms/step\n",
      "-------------------------------------------------------------\n",
      " confusion_matrix for new data with deeper model \n",
      " [[ 0  0]\n",
      " [29 71]]\n",
      "only attack data -  (71, 20)\n",
      "final data  76 -  (5591, 20)\n",
      "-------------------------------------------------------------\n",
      "4/4 [==============================] - 0s 2ms/step\n"
     ]
    },
    {
     "name": "stderr",
     "output_type": "stream",
     "text": [
      "/tmp/ipykernel_2630869/2681396701.py:27: FutureWarning: The frame.append method is deprecated and will be removed from pandas in a future version. Use pandas.concat instead.\n",
      "  final_Data = final_Data.append(data1, ignore_index = True)\n",
      "/tmp/ipykernel_2630869/2681396701.py:27: FutureWarning: The frame.append method is deprecated and will be removed from pandas in a future version. Use pandas.concat instead.\n",
      "  final_Data = final_Data.append(data1, ignore_index = True)\n"
     ]
    },
    {
     "name": "stdout",
     "output_type": "stream",
     "text": [
      "-------------------------------------------------------------\n",
      " confusion_matrix for new data with deeper model \n",
      " [[ 0  0]\n",
      " [26 74]]\n",
      "only attack data -  (74, 20)\n",
      "final data  77 -  (5665, 20)\n",
      "-------------------------------------------------------------\n",
      "4/4 [==============================] - 0s 2ms/step\n",
      "-------------------------------------------------------------\n",
      " confusion_matrix for new data with deeper model \n",
      " [[ 0  0]\n",
      " [26 74]]\n",
      "only attack data -  (74, 20)\n",
      "final data  78 -  (5739, 20)\n",
      "-------------------------------------------------------------\n",
      "1/4 [======>.......................] - ETA: 0s"
     ]
    },
    {
     "name": "stderr",
     "output_type": "stream",
     "text": [
      "/tmp/ipykernel_2630869/2681396701.py:27: FutureWarning: The frame.append method is deprecated and will be removed from pandas in a future version. Use pandas.concat instead.\n",
      "  final_Data = final_Data.append(data1, ignore_index = True)\n",
      "/tmp/ipykernel_2630869/2681396701.py:27: FutureWarning: The frame.append method is deprecated and will be removed from pandas in a future version. Use pandas.concat instead.\n",
      "  final_Data = final_Data.append(data1, ignore_index = True)\n"
     ]
    },
    {
     "name": "stdout",
     "output_type": "stream",
     "text": [
      "4/4 [==============================] - 0s 2ms/step\n",
      "-------------------------------------------------------------\n",
      " confusion_matrix for new data with deeper model \n",
      " [[ 0  0]\n",
      " [25 75]]\n",
      "only attack data -  (75, 20)\n",
      "final data  79 -  (5814, 20)\n",
      "-------------------------------------------------------------\n",
      "4/4 [==============================] - 0s 2ms/step\n",
      "-------------------------------------------------------------\n",
      " confusion_matrix for new data with deeper model \n",
      " [[ 0  0]\n",
      " [29 71]]\n",
      "only attack data -  (71, 20)\n",
      "final data  80 -  (5885, 20)\n",
      "-------------------------------------------------------------\n"
     ]
    },
    {
     "name": "stderr",
     "output_type": "stream",
     "text": [
      "/tmp/ipykernel_2630869/2681396701.py:27: FutureWarning: The frame.append method is deprecated and will be removed from pandas in a future version. Use pandas.concat instead.\n",
      "  final_Data = final_Data.append(data1, ignore_index = True)\n",
      "/tmp/ipykernel_2630869/2681396701.py:27: FutureWarning: The frame.append method is deprecated and will be removed from pandas in a future version. Use pandas.concat instead.\n",
      "  final_Data = final_Data.append(data1, ignore_index = True)\n"
     ]
    },
    {
     "name": "stdout",
     "output_type": "stream",
     "text": [
      "4/4 [==============================] - 0s 2ms/step\n",
      "-------------------------------------------------------------\n",
      " confusion_matrix for new data with deeper model \n",
      " [[ 0  0]\n",
      " [22 78]]\n",
      "only attack data -  (78, 20)\n",
      "final data  81 -  (5963, 20)\n",
      "-------------------------------------------------------------\n",
      "4/4 [==============================] - 0s 2ms/step\n",
      "-------------------------------------------------------------\n",
      " confusion_matrix for new data with deeper model \n",
      " [[ 0  0]\n",
      " [28 72]]\n",
      "only attack data -  (72, 20)\n",
      "final data  82 -  (6035, 20)\n",
      "-------------------------------------------------------------\n"
     ]
    },
    {
     "name": "stderr",
     "output_type": "stream",
     "text": [
      "/tmp/ipykernel_2630869/2681396701.py:27: FutureWarning: The frame.append method is deprecated and will be removed from pandas in a future version. Use pandas.concat instead.\n",
      "  final_Data = final_Data.append(data1, ignore_index = True)\n",
      "/tmp/ipykernel_2630869/2681396701.py:27: FutureWarning: The frame.append method is deprecated and will be removed from pandas in a future version. Use pandas.concat instead.\n",
      "  final_Data = final_Data.append(data1, ignore_index = True)\n"
     ]
    },
    {
     "name": "stdout",
     "output_type": "stream",
     "text": [
      "4/4 [==============================] - 0s 3ms/step\n",
      "-------------------------------------------------------------\n",
      " confusion_matrix for new data with deeper model \n",
      " [[ 0  0]\n",
      " [32 68]]\n",
      "only attack data -  (68, 20)\n",
      "final data  83 -  (6103, 20)\n",
      "-------------------------------------------------------------\n",
      "4/4 [==============================] - 0s 3ms/step\n",
      "-------------------------------------------------------------\n",
      " confusion_matrix for new data with deeper model \n",
      " [[ 0  0]\n",
      " [21 79]]\n",
      "only attack data -  (79, 20)\n",
      "final data  84 -  (6182, 20)\n",
      "-------------------------------------------------------------\n"
     ]
    },
    {
     "name": "stderr",
     "output_type": "stream",
     "text": [
      "/tmp/ipykernel_2630869/2681396701.py:27: FutureWarning: The frame.append method is deprecated and will be removed from pandas in a future version. Use pandas.concat instead.\n",
      "  final_Data = final_Data.append(data1, ignore_index = True)\n",
      "/tmp/ipykernel_2630869/2681396701.py:27: FutureWarning: The frame.append method is deprecated and will be removed from pandas in a future version. Use pandas.concat instead.\n",
      "  final_Data = final_Data.append(data1, ignore_index = True)\n"
     ]
    },
    {
     "name": "stdout",
     "output_type": "stream",
     "text": [
      "4/4 [==============================] - 0s 3ms/step\n",
      "-------------------------------------------------------------\n",
      " confusion_matrix for new data with deeper model \n",
      " [[ 0  0]\n",
      " [23 77]]\n",
      "only attack data -  (77, 20)\n",
      "final data  85 -  (6259, 20)\n",
      "-------------------------------------------------------------\n",
      "4/4 [==============================] - 0s 3ms/step\n",
      "-------------------------------------------------------------\n",
      " confusion_matrix for new data with deeper model \n",
      " [[ 0  0]\n",
      " [29 71]]\n",
      "only attack data -  (71, 20)\n",
      "final data  86 -  (6330, 20)\n",
      "-------------------------------------------------------------\n"
     ]
    },
    {
     "name": "stderr",
     "output_type": "stream",
     "text": [
      "/tmp/ipykernel_2630869/2681396701.py:27: FutureWarning: The frame.append method is deprecated and will be removed from pandas in a future version. Use pandas.concat instead.\n",
      "  final_Data = final_Data.append(data1, ignore_index = True)\n",
      "/tmp/ipykernel_2630869/2681396701.py:27: FutureWarning: The frame.append method is deprecated and will be removed from pandas in a future version. Use pandas.concat instead.\n",
      "  final_Data = final_Data.append(data1, ignore_index = True)\n"
     ]
    },
    {
     "name": "stdout",
     "output_type": "stream",
     "text": [
      "4/4 [==============================] - 0s 3ms/step\n",
      "-------------------------------------------------------------\n",
      " confusion_matrix for new data with deeper model \n",
      " [[ 0  0]\n",
      " [21 79]]\n",
      "only attack data -  (79, 20)\n",
      "final data  87 -  (6409, 20)\n",
      "-------------------------------------------------------------\n",
      "4/4 [==============================] - 0s 3ms/step\n",
      "-------------------------------------------------------------\n",
      " confusion_matrix for new data with deeper model \n",
      " [[ 0  0]\n",
      " [28 72]]\n",
      "only attack data -  (72, 20)\n",
      "final data  88 -  (6481, 20)\n",
      "-------------------------------------------------------------\n"
     ]
    },
    {
     "name": "stderr",
     "output_type": "stream",
     "text": [
      "/tmp/ipykernel_2630869/2681396701.py:27: FutureWarning: The frame.append method is deprecated and will be removed from pandas in a future version. Use pandas.concat instead.\n",
      "  final_Data = final_Data.append(data1, ignore_index = True)\n",
      "/tmp/ipykernel_2630869/2681396701.py:27: FutureWarning: The frame.append method is deprecated and will be removed from pandas in a future version. Use pandas.concat instead.\n",
      "  final_Data = final_Data.append(data1, ignore_index = True)\n"
     ]
    },
    {
     "name": "stdout",
     "output_type": "stream",
     "text": [
      "4/4 [==============================] - 0s 3ms/step\n",
      "-------------------------------------------------------------\n",
      " confusion_matrix for new data with deeper model \n",
      " [[ 0  0]\n",
      " [15 85]]\n",
      "only attack data -  (85, 20)\n",
      "final data  89 -  (6566, 20)\n",
      "-------------------------------------------------------------\n",
      "4/4 [==============================] - 0s 3ms/step\n",
      "-------------------------------------------------------------\n",
      " confusion_matrix for new data with deeper model \n",
      " [[ 0  0]\n",
      " [24 76]]\n",
      "only attack data -  (76, 20)\n",
      "final data  90 -  (6642, 20)\n",
      "-------------------------------------------------------------\n"
     ]
    },
    {
     "name": "stderr",
     "output_type": "stream",
     "text": [
      "/tmp/ipykernel_2630869/2681396701.py:27: FutureWarning: The frame.append method is deprecated and will be removed from pandas in a future version. Use pandas.concat instead.\n",
      "  final_Data = final_Data.append(data1, ignore_index = True)\n",
      "/tmp/ipykernel_2630869/2681396701.py:27: FutureWarning: The frame.append method is deprecated and will be removed from pandas in a future version. Use pandas.concat instead.\n",
      "  final_Data = final_Data.append(data1, ignore_index = True)\n"
     ]
    },
    {
     "name": "stdout",
     "output_type": "stream",
     "text": [
      "4/4 [==============================] - 0s 3ms/step\n",
      "-------------------------------------------------------------\n",
      " confusion_matrix for new data with deeper model \n",
      " [[ 0  0]\n",
      " [29 71]]\n",
      "only attack data -  (71, 20)\n",
      "final data  91 -  (6713, 20)\n",
      "-------------------------------------------------------------\n",
      "4/4 [==============================] - 0s 3ms/step\n",
      "-------------------------------------------------------------\n",
      " confusion_matrix for new data with deeper model \n",
      " [[ 0  0]\n",
      " [26 74]]\n",
      "only attack data -  (74, 20)\n",
      "final data  92 -  (6787, 20)\n",
      "-------------------------------------------------------------\n"
     ]
    },
    {
     "name": "stderr",
     "output_type": "stream",
     "text": [
      "/tmp/ipykernel_2630869/2681396701.py:27: FutureWarning: The frame.append method is deprecated and will be removed from pandas in a future version. Use pandas.concat instead.\n",
      "  final_Data = final_Data.append(data1, ignore_index = True)\n",
      "/tmp/ipykernel_2630869/2681396701.py:27: FutureWarning: The frame.append method is deprecated and will be removed from pandas in a future version. Use pandas.concat instead.\n",
      "  final_Data = final_Data.append(data1, ignore_index = True)\n"
     ]
    },
    {
     "name": "stdout",
     "output_type": "stream",
     "text": [
      "4/4 [==============================] - 0s 3ms/step\n",
      "-------------------------------------------------------------\n",
      " confusion_matrix for new data with deeper model \n",
      " [[ 0  0]\n",
      " [30 70]]\n",
      "only attack data -  (70, 20)\n",
      "final data  93 -  (6857, 20)\n",
      "-------------------------------------------------------------\n",
      "4/4 [==============================] - 0s 3ms/step\n",
      "-------------------------------------------------------------\n",
      " confusion_matrix for new data with deeper model \n",
      " [[ 0  0]\n",
      " [22 78]]\n",
      "only attack data -  (78, 20)\n",
      "final data  94 -  (6935, 20)\n",
      "-------------------------------------------------------------\n"
     ]
    },
    {
     "name": "stderr",
     "output_type": "stream",
     "text": [
      "/tmp/ipykernel_2630869/2681396701.py:27: FutureWarning: The frame.append method is deprecated and will be removed from pandas in a future version. Use pandas.concat instead.\n",
      "  final_Data = final_Data.append(data1, ignore_index = True)\n",
      "/tmp/ipykernel_2630869/2681396701.py:27: FutureWarning: The frame.append method is deprecated and will be removed from pandas in a future version. Use pandas.concat instead.\n",
      "  final_Data = final_Data.append(data1, ignore_index = True)\n"
     ]
    },
    {
     "name": "stdout",
     "output_type": "stream",
     "text": [
      "4/4 [==============================] - 0s 3ms/step\n",
      "-------------------------------------------------------------\n",
      " confusion_matrix for new data with deeper model \n",
      " [[ 0  0]\n",
      " [23 77]]\n",
      "only attack data -  (77, 20)\n",
      "final data  95 -  (7012, 20)\n",
      "-------------------------------------------------------------\n",
      "4/4 [==============================] - 0s 3ms/step\n"
     ]
    },
    {
     "name": "stderr",
     "output_type": "stream",
     "text": [
      "/tmp/ipykernel_2630869/2681396701.py:27: FutureWarning: The frame.append method is deprecated and will be removed from pandas in a future version. Use pandas.concat instead.\n",
      "  final_Data = final_Data.append(data1, ignore_index = True)\n"
     ]
    },
    {
     "name": "stdout",
     "output_type": "stream",
     "text": [
      "-------------------------------------------------------------\n",
      " confusion_matrix for new data with deeper model \n",
      " [[ 0  0]\n",
      " [28 72]]\n",
      "only attack data -  (72, 20)\n",
      "final data  96 -  (7084, 20)\n",
      "-------------------------------------------------------------\n",
      "4/4 [==============================] - 0s 3ms/step\n",
      "-------------------------------------------------------------\n",
      " confusion_matrix for new data with deeper model \n",
      " [[ 0  0]\n",
      " [28 72]]\n",
      "only attack data -  (72, 20)\n",
      "final data  97 -  (7156, 20)\n",
      "-------------------------------------------------------------\n"
     ]
    },
    {
     "name": "stderr",
     "output_type": "stream",
     "text": [
      "/tmp/ipykernel_2630869/2681396701.py:27: FutureWarning: The frame.append method is deprecated and will be removed from pandas in a future version. Use pandas.concat instead.\n",
      "  final_Data = final_Data.append(data1, ignore_index = True)\n",
      "/tmp/ipykernel_2630869/2681396701.py:27: FutureWarning: The frame.append method is deprecated and will be removed from pandas in a future version. Use pandas.concat instead.\n",
      "  final_Data = final_Data.append(data1, ignore_index = True)\n"
     ]
    },
    {
     "name": "stdout",
     "output_type": "stream",
     "text": [
      "4/4 [==============================] - 0s 3ms/step\n",
      "-------------------------------------------------------------\n",
      " confusion_matrix for new data with deeper model \n",
      " [[ 0  0]\n",
      " [29 71]]\n",
      "only attack data -  (71, 20)\n",
      "final data  98 -  (7227, 20)\n",
      "-------------------------------------------------------------\n",
      "4/4 [==============================] - 0s 2ms/step\n",
      "-------------------------------------------------------------\n",
      " confusion_matrix for new data with deeper model \n",
      " [[ 0  0]\n",
      " [32 68]]\n",
      "only attack data -  (68, 20)\n",
      "final data  99 -  (7295, 20)\n",
      "-------------------------------------------------------------\n"
     ]
    },
    {
     "name": "stderr",
     "output_type": "stream",
     "text": [
      "/tmp/ipykernel_2630869/2681396701.py:27: FutureWarning: The frame.append method is deprecated and will be removed from pandas in a future version. Use pandas.concat instead.\n",
      "  final_Data = final_Data.append(data1, ignore_index = True)\n",
      "/tmp/ipykernel_2630869/2681396701.py:27: FutureWarning: The frame.append method is deprecated and will be removed from pandas in a future version. Use pandas.concat instead.\n",
      "  final_Data = final_Data.append(data1, ignore_index = True)\n"
     ]
    },
    {
     "name": "stdout",
     "output_type": "stream",
     "text": [
      "4/4 [==============================] - 0s 2ms/step\n",
      "-------------------------------------------------------------\n",
      " confusion_matrix for new data with deeper model \n",
      " [[ 0  0]\n",
      " [30 70]]\n",
      "only attack data -  (70, 20)\n",
      "final data  100 -  (7365, 20)\n",
      "-------------------------------------------------------------\n",
      "4/4 [==============================] - 0s 2ms/step\n",
      "-------------------------------------------------------------\n",
      " confusion_matrix for new data with deeper model \n",
      " [[ 0  0]\n",
      " [27 73]]\n",
      "only attack data -  (73, 20)\n",
      "final data  101 -  (7438, 20)\n",
      "-------------------------------------------------------------\n",
      "4/4 [==============================] - 0s 2ms/step\n",
      "-------------------------------------------------------------\n",
      " confusion_matrix for new data with deeper model \n",
      " [[ 0  0]\n",
      " [24 76]]\n"
     ]
    },
    {
     "name": "stderr",
     "output_type": "stream",
     "text": [
      "/tmp/ipykernel_2630869/2681396701.py:27: FutureWarning: The frame.append method is deprecated and will be removed from pandas in a future version. Use pandas.concat instead.\n",
      "  final_Data = final_Data.append(data1, ignore_index = True)\n",
      "/tmp/ipykernel_2630869/2681396701.py:27: FutureWarning: The frame.append method is deprecated and will be removed from pandas in a future version. Use pandas.concat instead.\n",
      "  final_Data = final_Data.append(data1, ignore_index = True)\n",
      "/tmp/ipykernel_2630869/2681396701.py:27: FutureWarning: The frame.append method is deprecated and will be removed from pandas in a future version. Use pandas.concat instead.\n",
      "  final_Data = final_Data.append(data1, ignore_index = True)\n"
     ]
    },
    {
     "name": "stdout",
     "output_type": "stream",
     "text": [
      "only attack data -  (76, 20)\n",
      "final data  102 -  (7514, 20)\n",
      "-------------------------------------------------------------\n",
      "4/4 [==============================] - 0s 2ms/step\n",
      "-------------------------------------------------------------\n",
      " confusion_matrix for new data with deeper model \n",
      " [[ 0  0]\n",
      " [21 79]]\n",
      "only attack data -  (79, 20)\n",
      "final data  103 -  (7593, 20)\n",
      "-------------------------------------------------------------\n",
      "4/4 [==============================] - 0s 2ms/step\n",
      "-------------------------------------------------------------\n",
      " confusion_matrix for new data with deeper model \n",
      " [[ 0  0]\n",
      " [20 80]]\n",
      "only attack data -  (80, 20)\n",
      "final data  104 -  (7673, 20)\n",
      "-------------------------------------------------------------\n",
      "4/4 [==============================] - 0s 2ms/step\n",
      "-------------------------------------------------------------\n",
      " confusion_matrix for new data with deeper model \n",
      " [[ 0  0]\n",
      " [24 76]]\n",
      "only attack data -  (76, 20)\n",
      "final data  105 -  (7749, 20)\n",
      "-------------------------------------------------------------\n"
     ]
    },
    {
     "name": "stderr",
     "output_type": "stream",
     "text": [
      "/tmp/ipykernel_2630869/2681396701.py:27: FutureWarning: The frame.append method is deprecated and will be removed from pandas in a future version. Use pandas.concat instead.\n",
      "  final_Data = final_Data.append(data1, ignore_index = True)\n",
      "/tmp/ipykernel_2630869/2681396701.py:27: FutureWarning: The frame.append method is deprecated and will be removed from pandas in a future version. Use pandas.concat instead.\n",
      "  final_Data = final_Data.append(data1, ignore_index = True)\n",
      "/tmp/ipykernel_2630869/2681396701.py:27: FutureWarning: The frame.append method is deprecated and will be removed from pandas in a future version. Use pandas.concat instead.\n",
      "  final_Data = final_Data.append(data1, ignore_index = True)\n"
     ]
    },
    {
     "name": "stdout",
     "output_type": "stream",
     "text": [
      "4/4 [==============================] - 0s 2ms/step\n",
      "-------------------------------------------------------------\n",
      " confusion_matrix for new data with deeper model \n",
      " [[ 0  0]\n",
      " [28 72]]\n",
      "only attack data -  (72, 20)\n",
      "final data  106 -  (7821, 20)\n",
      "-------------------------------------------------------------\n",
      "4/4 [==============================] - 0s 2ms/step\n",
      "-------------------------------------------------------------\n",
      " confusion_matrix for new data with deeper model \n",
      " [[ 0  0]\n",
      " [19 81]]\n",
      "only attack data -  (81, 20)\n",
      "final data  107 -  (7902, 20)\n",
      "-------------------------------------------------------------\n",
      "4/4 [==============================] - 0s 2ms/step\n",
      "-------------------------------------------------------------\n",
      " confusion_matrix for new data with deeper model \n",
      " [[ 0  0]\n",
      " [22 78]]\n",
      "only attack data -  (78, 20)\n",
      "final data  108 -  (7980, 20)\n",
      "-------------------------------------------------------------\n"
     ]
    },
    {
     "name": "stderr",
     "output_type": "stream",
     "text": [
      "/tmp/ipykernel_2630869/2681396701.py:27: FutureWarning: The frame.append method is deprecated and will be removed from pandas in a future version. Use pandas.concat instead.\n",
      "  final_Data = final_Data.append(data1, ignore_index = True)\n",
      "/tmp/ipykernel_2630869/2681396701.py:27: FutureWarning: The frame.append method is deprecated and will be removed from pandas in a future version. Use pandas.concat instead.\n",
      "  final_Data = final_Data.append(data1, ignore_index = True)\n",
      "/tmp/ipykernel_2630869/2681396701.py:27: FutureWarning: The frame.append method is deprecated and will be removed from pandas in a future version. Use pandas.concat instead.\n",
      "  final_Data = final_Data.append(data1, ignore_index = True)\n"
     ]
    },
    {
     "name": "stdout",
     "output_type": "stream",
     "text": [
      "4/4 [==============================] - 0s 3ms/step\n",
      "-------------------------------------------------------------\n",
      " confusion_matrix for new data with deeper model \n",
      " [[ 0  0]\n",
      " [22 78]]\n",
      "only attack data -  (78, 20)\n",
      "final data  109 -  (8058, 20)\n",
      "-------------------------------------------------------------\n",
      "4/4 [==============================] - 0s 2ms/step\n",
      "-------------------------------------------------------------\n",
      " confusion_matrix for new data with deeper model \n",
      " [[ 0  0]\n",
      " [31 69]]\n",
      "only attack data -  (69, 20)\n",
      "final data  110 -  (8127, 20)\n",
      "-------------------------------------------------------------\n"
     ]
    },
    {
     "name": "stderr",
     "output_type": "stream",
     "text": [
      "/tmp/ipykernel_2630869/2681396701.py:27: FutureWarning: The frame.append method is deprecated and will be removed from pandas in a future version. Use pandas.concat instead.\n",
      "  final_Data = final_Data.append(data1, ignore_index = True)\n",
      "/tmp/ipykernel_2630869/2681396701.py:27: FutureWarning: The frame.append method is deprecated and will be removed from pandas in a future version. Use pandas.concat instead.\n",
      "  final_Data = final_Data.append(data1, ignore_index = True)\n"
     ]
    },
    {
     "name": "stdout",
     "output_type": "stream",
     "text": [
      "4/4 [==============================] - 0s 2ms/step\n",
      "-------------------------------------------------------------\n",
      " confusion_matrix for new data with deeper model \n",
      " [[ 0  0]\n",
      " [26 74]]\n",
      "only attack data -  (74, 20)\n",
      "final data  111 -  (8201, 20)\n",
      "-------------------------------------------------------------\n",
      "4/4 [==============================] - 0s 2ms/step\n",
      "-------------------------------------------------------------\n",
      " confusion_matrix for new data with deeper model \n",
      " [[ 0  0]\n",
      " [31 69]]\n",
      "only attack data -  (69, 20)\n",
      "final data  112 -  (8270, 20)\n",
      "-------------------------------------------------------------\n",
      "1/4 [======>.......................] - ETA: 0s"
     ]
    },
    {
     "name": "stderr",
     "output_type": "stream",
     "text": [
      "/tmp/ipykernel_2630869/2681396701.py:27: FutureWarning: The frame.append method is deprecated and will be removed from pandas in a future version. Use pandas.concat instead.\n",
      "  final_Data = final_Data.append(data1, ignore_index = True)\n",
      "/tmp/ipykernel_2630869/2681396701.py:27: FutureWarning: The frame.append method is deprecated and will be removed from pandas in a future version. Use pandas.concat instead.\n",
      "  final_Data = final_Data.append(data1, ignore_index = True)\n"
     ]
    },
    {
     "name": "stdout",
     "output_type": "stream",
     "text": [
      "4/4 [==============================] - 0s 2ms/step\n",
      "-------------------------------------------------------------\n",
      " confusion_matrix for new data with deeper model \n",
      " [[ 0  0]\n",
      " [17 83]]\n",
      "only attack data -  (83, 20)\n",
      "final data  113 -  (8353, 20)\n",
      "-------------------------------------------------------------\n",
      "4/4 [==============================] - 0s 2ms/step\n",
      "-------------------------------------------------------------\n",
      " confusion_matrix for new data with deeper model \n",
      " [[ 0  0]\n",
      " [29 71]]\n",
      "only attack data -  (71, 20)\n",
      "final data  114 -  (8424, 20)\n",
      "-------------------------------------------------------------\n"
     ]
    },
    {
     "name": "stderr",
     "output_type": "stream",
     "text": [
      "/tmp/ipykernel_2630869/2681396701.py:27: FutureWarning: The frame.append method is deprecated and will be removed from pandas in a future version. Use pandas.concat instead.\n",
      "  final_Data = final_Data.append(data1, ignore_index = True)\n",
      "/tmp/ipykernel_2630869/2681396701.py:27: FutureWarning: The frame.append method is deprecated and will be removed from pandas in a future version. Use pandas.concat instead.\n",
      "  final_Data = final_Data.append(data1, ignore_index = True)\n"
     ]
    },
    {
     "name": "stdout",
     "output_type": "stream",
     "text": [
      "4/4 [==============================] - 0s 3ms/step\n",
      "-------------------------------------------------------------\n",
      " confusion_matrix for new data with deeper model \n",
      " [[ 0  0]\n",
      " [27 73]]\n",
      "only attack data -  (73, 20)\n",
      "final data  115 -  (8497, 20)\n",
      "-------------------------------------------------------------\n",
      "4/4 [==============================] - 0s 3ms/step\n",
      "-------------------------------------------------------------\n",
      " confusion_matrix for new data with deeper model \n",
      " [[ 0  0]\n",
      " [23 77]]\n",
      "only attack data -  (77, 20)\n",
      "final data  116 -  (8574, 20)\n",
      "-------------------------------------------------------------\n"
     ]
    },
    {
     "name": "stderr",
     "output_type": "stream",
     "text": [
      "/tmp/ipykernel_2630869/2681396701.py:27: FutureWarning: The frame.append method is deprecated and will be removed from pandas in a future version. Use pandas.concat instead.\n",
      "  final_Data = final_Data.append(data1, ignore_index = True)\n",
      "/tmp/ipykernel_2630869/2681396701.py:27: FutureWarning: The frame.append method is deprecated and will be removed from pandas in a future version. Use pandas.concat instead.\n",
      "  final_Data = final_Data.append(data1, ignore_index = True)\n"
     ]
    },
    {
     "name": "stdout",
     "output_type": "stream",
     "text": [
      "4/4 [==============================] - 0s 3ms/step\n",
      "-------------------------------------------------------------\n",
      " confusion_matrix for new data with deeper model \n",
      " [[ 0  0]\n",
      " [32 68]]\n",
      "only attack data -  (68, 20)\n",
      "final data  117 -  (8642, 20)\n",
      "-------------------------------------------------------------\n",
      "4/4 [==============================] - 0s 3ms/step\n",
      "-------------------------------------------------------------\n",
      " confusion_matrix for new data with deeper model \n",
      " [[ 0  0]\n",
      " [29 71]]\n",
      "only attack data -  (71, 20)\n",
      "final data  118 -  (8713, 20)\n",
      "-------------------------------------------------------------\n"
     ]
    },
    {
     "name": "stderr",
     "output_type": "stream",
     "text": [
      "/tmp/ipykernel_2630869/2681396701.py:27: FutureWarning: The frame.append method is deprecated and will be removed from pandas in a future version. Use pandas.concat instead.\n",
      "  final_Data = final_Data.append(data1, ignore_index = True)\n",
      "/tmp/ipykernel_2630869/2681396701.py:27: FutureWarning: The frame.append method is deprecated and will be removed from pandas in a future version. Use pandas.concat instead.\n",
      "  final_Data = final_Data.append(data1, ignore_index = True)\n"
     ]
    },
    {
     "name": "stdout",
     "output_type": "stream",
     "text": [
      "4/4 [==============================] - 0s 2ms/step\n",
      "-------------------------------------------------------------\n",
      " confusion_matrix for new data with deeper model \n",
      " [[ 0  0]\n",
      " [20 80]]\n",
      "only attack data -  (80, 20)\n",
      "final data  119 -  (8793, 20)\n",
      "-------------------------------------------------------------\n",
      "4/4 [==============================] - 0s 2ms/step\n",
      "-------------------------------------------------------------\n",
      " confusion_matrix for new data with deeper model \n",
      " [[ 0  0]\n",
      " [24 76]]\n",
      "only attack data -  (76, 20)\n",
      "final data  120 -  (8869, 20)\n",
      "-------------------------------------------------------------\n"
     ]
    },
    {
     "name": "stderr",
     "output_type": "stream",
     "text": [
      "/tmp/ipykernel_2630869/2681396701.py:27: FutureWarning: The frame.append method is deprecated and will be removed from pandas in a future version. Use pandas.concat instead.\n",
      "  final_Data = final_Data.append(data1, ignore_index = True)\n",
      "/tmp/ipykernel_2630869/2681396701.py:27: FutureWarning: The frame.append method is deprecated and will be removed from pandas in a future version. Use pandas.concat instead.\n",
      "  final_Data = final_Data.append(data1, ignore_index = True)\n"
     ]
    },
    {
     "name": "stdout",
     "output_type": "stream",
     "text": [
      "4/4 [==============================] - 0s 2ms/step\n",
      "-------------------------------------------------------------\n",
      " confusion_matrix for new data with deeper model \n",
      " [[ 0  0]\n",
      " [27 73]]\n",
      "only attack data -  (73, 20)\n",
      "final data  121 -  (8942, 20)\n",
      "-------------------------------------------------------------\n",
      "4/4 [==============================] - 0s 2ms/step\n",
      "-------------------------------------------------------------\n",
      " confusion_matrix for new data with deeper model \n",
      " [[ 0  0]\n",
      " [26 74]]\n",
      "only attack data -  (74, 20)\n",
      "final data  122 -  (9016, 20)\n",
      "-------------------------------------------------------------\n"
     ]
    },
    {
     "name": "stderr",
     "output_type": "stream",
     "text": [
      "/tmp/ipykernel_2630869/2681396701.py:27: FutureWarning: The frame.append method is deprecated and will be removed from pandas in a future version. Use pandas.concat instead.\n",
      "  final_Data = final_Data.append(data1, ignore_index = True)\n",
      "/tmp/ipykernel_2630869/2681396701.py:27: FutureWarning: The frame.append method is deprecated and will be removed from pandas in a future version. Use pandas.concat instead.\n",
      "  final_Data = final_Data.append(data1, ignore_index = True)\n"
     ]
    },
    {
     "name": "stdout",
     "output_type": "stream",
     "text": [
      "4/4 [==============================] - 0s 2ms/step\n",
      "-------------------------------------------------------------\n",
      " confusion_matrix for new data with deeper model \n",
      " [[ 0  0]\n",
      " [27 73]]\n",
      "only attack data -  (73, 20)\n",
      "final data  123 -  (9089, 20)\n",
      "-------------------------------------------------------------\n",
      "4/4 [==============================] - 0s 2ms/step\n",
      "-------------------------------------------------------------\n",
      " confusion_matrix for new data with deeper model \n",
      " [[ 0  0]\n",
      " [33 67]]\n",
      "only attack data -  (67, 20)\n",
      "final data  124 -  (9156, 20)\n",
      "-------------------------------------------------------------\n",
      "4/4 [==============================] - 0s 2ms/step\n",
      "-------------------------------------------------------------\n",
      " confusion_matrix for new data with deeper model \n",
      " [[ 0  0]\n",
      " [24 76]]\n",
      "only attack data -  (76, 20)\n",
      "final data  125 -  (9232, 20)\n",
      "-------------------------------------------------------------\n"
     ]
    },
    {
     "name": "stderr",
     "output_type": "stream",
     "text": [
      "/tmp/ipykernel_2630869/2681396701.py:27: FutureWarning: The frame.append method is deprecated and will be removed from pandas in a future version. Use pandas.concat instead.\n",
      "  final_Data = final_Data.append(data1, ignore_index = True)\n",
      "/tmp/ipykernel_2630869/2681396701.py:27: FutureWarning: The frame.append method is deprecated and will be removed from pandas in a future version. Use pandas.concat instead.\n",
      "  final_Data = final_Data.append(data1, ignore_index = True)\n",
      "/tmp/ipykernel_2630869/2681396701.py:27: FutureWarning: The frame.append method is deprecated and will be removed from pandas in a future version. Use pandas.concat instead.\n",
      "  final_Data = final_Data.append(data1, ignore_index = True)\n"
     ]
    },
    {
     "name": "stdout",
     "output_type": "stream",
     "text": [
      "4/4 [==============================] - 0s 2ms/step\n",
      "-------------------------------------------------------------\n",
      " confusion_matrix for new data with deeper model \n",
      " [[ 0  0]\n",
      " [28 72]]\n",
      "only attack data -  (72, 20)\n",
      "final data  126 -  (9304, 20)\n",
      "-------------------------------------------------------------\n",
      "4/4 [==============================] - 0s 3ms/step\n",
      "-------------------------------------------------------------\n",
      " confusion_matrix for new data with deeper model \n",
      " [[ 0  0]\n",
      " [29 71]]\n",
      "only attack data -  (71, 20)\n",
      "final data  127 -  (9375, 20)\n",
      "-------------------------------------------------------------\n"
     ]
    },
    {
     "name": "stderr",
     "output_type": "stream",
     "text": [
      "/tmp/ipykernel_2630869/2681396701.py:27: FutureWarning: The frame.append method is deprecated and will be removed from pandas in a future version. Use pandas.concat instead.\n",
      "  final_Data = final_Data.append(data1, ignore_index = True)\n",
      "/tmp/ipykernel_2630869/2681396701.py:27: FutureWarning: The frame.append method is deprecated and will be removed from pandas in a future version. Use pandas.concat instead.\n",
      "  final_Data = final_Data.append(data1, ignore_index = True)\n"
     ]
    },
    {
     "name": "stdout",
     "output_type": "stream",
     "text": [
      "4/4 [==============================] - 0s 3ms/step\n",
      "-------------------------------------------------------------\n",
      " confusion_matrix for new data with deeper model \n",
      " [[ 0  0]\n",
      " [25 75]]\n",
      "only attack data -  (75, 20)\n",
      "final data  128 -  (9450, 20)\n",
      "-------------------------------------------------------------\n",
      "4/4 [==============================] - 0s 3ms/step\n",
      "-------------------------------------------------------------\n",
      " confusion_matrix for new data with deeper model \n",
      " [[ 0  0]\n",
      " [16 84]]\n",
      "only attack data -  (84, 20)\n",
      "final data  129 -  (9534, 20)\n",
      "-------------------------------------------------------------\n"
     ]
    },
    {
     "name": "stderr",
     "output_type": "stream",
     "text": [
      "/tmp/ipykernel_2630869/2681396701.py:27: FutureWarning: The frame.append method is deprecated and will be removed from pandas in a future version. Use pandas.concat instead.\n",
      "  final_Data = final_Data.append(data1, ignore_index = True)\n",
      "/tmp/ipykernel_2630869/2681396701.py:27: FutureWarning: The frame.append method is deprecated and will be removed from pandas in a future version. Use pandas.concat instead.\n",
      "  final_Data = final_Data.append(data1, ignore_index = True)\n"
     ]
    },
    {
     "name": "stdout",
     "output_type": "stream",
     "text": [
      "4/4 [==============================] - 0s 3ms/step\n",
      "-------------------------------------------------------------\n",
      " confusion_matrix for new data with deeper model \n",
      " [[ 0  0]\n",
      " [30 70]]\n",
      "only attack data -  (70, 20)\n",
      "final data  130 -  (9604, 20)\n",
      "-------------------------------------------------------------\n",
      "4/4 [==============================] - 0s 3ms/step\n",
      "-------------------------------------------------------------\n",
      " confusion_matrix for new data with deeper model \n",
      " [[ 0  0]\n",
      " [24 76]]\n",
      "only attack data -  (76, 20)\n",
      "final data  131 -  (9680, 20)\n",
      "-------------------------------------------------------------\n"
     ]
    },
    {
     "name": "stderr",
     "output_type": "stream",
     "text": [
      "/tmp/ipykernel_2630869/2681396701.py:27: FutureWarning: The frame.append method is deprecated and will be removed from pandas in a future version. Use pandas.concat instead.\n",
      "  final_Data = final_Data.append(data1, ignore_index = True)\n",
      "/tmp/ipykernel_2630869/2681396701.py:27: FutureWarning: The frame.append method is deprecated and will be removed from pandas in a future version. Use pandas.concat instead.\n",
      "  final_Data = final_Data.append(data1, ignore_index = True)\n"
     ]
    },
    {
     "name": "stdout",
     "output_type": "stream",
     "text": [
      "4/4 [==============================] - 0s 3ms/step\n",
      "-------------------------------------------------------------\n",
      " confusion_matrix for new data with deeper model \n",
      " [[ 0  0]\n",
      " [18 82]]\n",
      "only attack data -  (82, 20)\n",
      "final data  132 -  (9762, 20)\n",
      "-------------------------------------------------------------\n",
      "4/4 [==============================] - 0s 3ms/step\n",
      "-------------------------------------------------------------\n",
      " confusion_matrix for new data with deeper model \n",
      " [[ 0  0]\n",
      " [25 75]]\n",
      "only attack data -  (75, 20)\n",
      "final data  133 -  (9837, 20)\n",
      "-------------------------------------------------------------\n"
     ]
    },
    {
     "name": "stderr",
     "output_type": "stream",
     "text": [
      "/tmp/ipykernel_2630869/2681396701.py:27: FutureWarning: The frame.append method is deprecated and will be removed from pandas in a future version. Use pandas.concat instead.\n",
      "  final_Data = final_Data.append(data1, ignore_index = True)\n",
      "/tmp/ipykernel_2630869/2681396701.py:27: FutureWarning: The frame.append method is deprecated and will be removed from pandas in a future version. Use pandas.concat instead.\n",
      "  final_Data = final_Data.append(data1, ignore_index = True)\n"
     ]
    },
    {
     "name": "stdout",
     "output_type": "stream",
     "text": [
      "4/4 [==============================] - 0s 3ms/step\n",
      "-------------------------------------------------------------\n",
      " confusion_matrix for new data with deeper model \n",
      " [[ 0  0]\n",
      " [32 68]]\n",
      "only attack data -  (68, 20)\n",
      "final data  134 -  (9905, 20)\n",
      "-------------------------------------------------------------\n",
      "4/4 [==============================] - 0s 3ms/step\n",
      "-------------------------------------------------------------\n",
      " confusion_matrix for new data with deeper model \n",
      " [[ 0  0]\n",
      " [26 74]]\n",
      "only attack data -  (74, 20)\n",
      "final data  135 -  (9979, 20)\n",
      "-------------------------------------------------------------\n"
     ]
    },
    {
     "name": "stderr",
     "output_type": "stream",
     "text": [
      "/tmp/ipykernel_2630869/2681396701.py:27: FutureWarning: The frame.append method is deprecated and will be removed from pandas in a future version. Use pandas.concat instead.\n",
      "  final_Data = final_Data.append(data1, ignore_index = True)\n",
      "/tmp/ipykernel_2630869/2681396701.py:27: FutureWarning: The frame.append method is deprecated and will be removed from pandas in a future version. Use pandas.concat instead.\n",
      "  final_Data = final_Data.append(data1, ignore_index = True)\n"
     ]
    },
    {
     "name": "stdout",
     "output_type": "stream",
     "text": [
      "4/4 [==============================] - 0s 3ms/step\n",
      "-------------------------------------------------------------\n",
      " confusion_matrix for new data with deeper model \n",
      " [[ 0  0]\n",
      " [28 72]]\n",
      "only attack data -  (72, 20)\n",
      "final data  136 -  (10051, 20)\n",
      "-------------------------------------------------------------\n",
      "4/4 [==============================] - 0s 3ms/step\n"
     ]
    },
    {
     "name": "stderr",
     "output_type": "stream",
     "text": [
      "/tmp/ipykernel_2630869/2681396701.py:27: FutureWarning: The frame.append method is deprecated and will be removed from pandas in a future version. Use pandas.concat instead.\n",
      "  final_Data = final_Data.append(data1, ignore_index = True)\n"
     ]
    },
    {
     "name": "stdout",
     "output_type": "stream",
     "text": [
      "-------------------------------------------------------------\n",
      " confusion_matrix for new data with deeper model \n",
      " [[ 0  0]\n",
      " [30 70]]\n",
      "only attack data -  (70, 20)\n",
      "final data  137 -  (10121, 20)\n",
      "-------------------------------------------------------------\n",
      "4/4 [==============================] - 0s 2ms/step\n",
      "-------------------------------------------------------------\n",
      " confusion_matrix for new data with deeper model \n",
      " [[ 0  0]\n",
      " [33 67]]\n",
      "only attack data -  (67, 20)\n",
      "final data  138 -  (10188, 20)\n",
      "-------------------------------------------------------------\n"
     ]
    },
    {
     "name": "stderr",
     "output_type": "stream",
     "text": [
      "/tmp/ipykernel_2630869/2681396701.py:27: FutureWarning: The frame.append method is deprecated and will be removed from pandas in a future version. Use pandas.concat instead.\n",
      "  final_Data = final_Data.append(data1, ignore_index = True)\n",
      "/tmp/ipykernel_2630869/2681396701.py:27: FutureWarning: The frame.append method is deprecated and will be removed from pandas in a future version. Use pandas.concat instead.\n",
      "  final_Data = final_Data.append(data1, ignore_index = True)\n"
     ]
    },
    {
     "name": "stdout",
     "output_type": "stream",
     "text": [
      "4/4 [==============================] - 0s 3ms/step\n",
      "-------------------------------------------------------------\n",
      " confusion_matrix for new data with deeper model \n",
      " [[ 0  0]\n",
      " [28 72]]\n",
      "only attack data -  (72, 20)\n",
      "final data  139 -  (10260, 20)\n",
      "-------------------------------------------------------------\n",
      "4/4 [==============================] - 0s 3ms/step\n",
      "-------------------------------------------------------------\n",
      " confusion_matrix for new data with deeper model \n",
      " [[ 0  0]\n",
      " [23 77]]\n",
      "only attack data -  (77, 20)\n",
      "final data  140 -  (10337, 20)\n",
      "-------------------------------------------------------------\n"
     ]
    },
    {
     "name": "stderr",
     "output_type": "stream",
     "text": [
      "/tmp/ipykernel_2630869/2681396701.py:27: FutureWarning: The frame.append method is deprecated and will be removed from pandas in a future version. Use pandas.concat instead.\n",
      "  final_Data = final_Data.append(data1, ignore_index = True)\n",
      "/tmp/ipykernel_2630869/2681396701.py:27: FutureWarning: The frame.append method is deprecated and will be removed from pandas in a future version. Use pandas.concat instead.\n",
      "  final_Data = final_Data.append(data1, ignore_index = True)\n"
     ]
    },
    {
     "name": "stdout",
     "output_type": "stream",
     "text": [
      "4/4 [==============================] - 0s 2ms/step\n",
      "-------------------------------------------------------------\n",
      " confusion_matrix for new data with deeper model \n",
      " [[ 0  0]\n",
      " [20 80]]\n",
      "only attack data -  (80, 20)\n",
      "final data  141 -  (10417, 20)\n",
      "-------------------------------------------------------------\n",
      "4/4 [==============================] - 0s 2ms/step\n",
      "-------------------------------------------------------------\n",
      " confusion_matrix for new data with deeper model \n",
      " [[ 0  0]\n",
      " [27 73]]\n",
      "only attack data -  (73, 20)\n",
      "final data  142 -  (10490, 20)\n",
      "-------------------------------------------------------------\n",
      "1/4 [======>.......................] - ETA: 0s"
     ]
    },
    {
     "name": "stderr",
     "output_type": "stream",
     "text": [
      "/tmp/ipykernel_2630869/2681396701.py:27: FutureWarning: The frame.append method is deprecated and will be removed from pandas in a future version. Use pandas.concat instead.\n",
      "  final_Data = final_Data.append(data1, ignore_index = True)\n",
      "/tmp/ipykernel_2630869/2681396701.py:27: FutureWarning: The frame.append method is deprecated and will be removed from pandas in a future version. Use pandas.concat instead.\n",
      "  final_Data = final_Data.append(data1, ignore_index = True)\n"
     ]
    },
    {
     "name": "stdout",
     "output_type": "stream",
     "text": [
      "4/4 [==============================] - 0s 2ms/step\n",
      "-------------------------------------------------------------\n",
      " confusion_matrix for new data with deeper model \n",
      " [[ 0  0]\n",
      " [30 70]]\n",
      "only attack data -  (70, 20)\n",
      "final data  143 -  (10560, 20)\n",
      "-------------------------------------------------------------\n",
      "4/4 [==============================] - 0s 3ms/step\n",
      "-------------------------------------------------------------\n",
      " confusion_matrix for new data with deeper model \n",
      " [[ 0  0]\n",
      " [26 74]]\n",
      "only attack data -  (74, 20)\n",
      "final data  144 -  (10634, 20)\n",
      "-------------------------------------------------------------\n"
     ]
    },
    {
     "name": "stderr",
     "output_type": "stream",
     "text": [
      "/tmp/ipykernel_2630869/2681396701.py:27: FutureWarning: The frame.append method is deprecated and will be removed from pandas in a future version. Use pandas.concat instead.\n",
      "  final_Data = final_Data.append(data1, ignore_index = True)\n",
      "/tmp/ipykernel_2630869/2681396701.py:27: FutureWarning: The frame.append method is deprecated and will be removed from pandas in a future version. Use pandas.concat instead.\n",
      "  final_Data = final_Data.append(data1, ignore_index = True)\n"
     ]
    },
    {
     "name": "stdout",
     "output_type": "stream",
     "text": [
      "4/4 [==============================] - 0s 3ms/step\n",
      "-------------------------------------------------------------\n",
      " confusion_matrix for new data with deeper model \n",
      " [[ 0  0]\n",
      " [26 74]]\n",
      "only attack data -  (74, 20)\n",
      "final data  145 -  (10708, 20)\n",
      "-------------------------------------------------------------\n",
      "4/4 [==============================] - 0s 3ms/step\n",
      "-------------------------------------------------------------\n",
      " confusion_matrix for new data with deeper model \n",
      " [[ 0  0]\n",
      " [32 68]]\n",
      "only attack data -  (68, 20)\n",
      "final data  146 -  (10776, 20)\n",
      "-------------------------------------------------------------\n"
     ]
    },
    {
     "name": "stderr",
     "output_type": "stream",
     "text": [
      "/tmp/ipykernel_2630869/2681396701.py:27: FutureWarning: The frame.append method is deprecated and will be removed from pandas in a future version. Use pandas.concat instead.\n",
      "  final_Data = final_Data.append(data1, ignore_index = True)\n",
      "/tmp/ipykernel_2630869/2681396701.py:27: FutureWarning: The frame.append method is deprecated and will be removed from pandas in a future version. Use pandas.concat instead.\n",
      "  final_Data = final_Data.append(data1, ignore_index = True)\n"
     ]
    },
    {
     "name": "stdout",
     "output_type": "stream",
     "text": [
      "4/4 [==============================] - 0s 2ms/step\n",
      "-------------------------------------------------------------\n",
      " confusion_matrix for new data with deeper model \n",
      " [[ 0  0]\n",
      " [32 68]]\n",
      "only attack data -  (68, 20)\n",
      "final data  147 -  (10844, 20)\n",
      "-------------------------------------------------------------\n",
      "4/4 [==============================] - 0s 3ms/step\n",
      "-------------------------------------------------------------\n",
      " confusion_matrix for new data with deeper model \n",
      " [[ 0  0]\n",
      " [22 78]]\n",
      "only attack data -  (78, 20)\n",
      "final data  148 -  (10922, 20)\n",
      "-------------------------------------------------------------\n"
     ]
    },
    {
     "name": "stderr",
     "output_type": "stream",
     "text": [
      "/tmp/ipykernel_2630869/2681396701.py:27: FutureWarning: The frame.append method is deprecated and will be removed from pandas in a future version. Use pandas.concat instead.\n",
      "  final_Data = final_Data.append(data1, ignore_index = True)\n",
      "/tmp/ipykernel_2630869/2681396701.py:27: FutureWarning: The frame.append method is deprecated and will be removed from pandas in a future version. Use pandas.concat instead.\n",
      "  final_Data = final_Data.append(data1, ignore_index = True)\n"
     ]
    },
    {
     "name": "stdout",
     "output_type": "stream",
     "text": [
      "4/4 [==============================] - 0s 3ms/step\n",
      "-------------------------------------------------------------\n",
      " confusion_matrix for new data with deeper model \n",
      " [[ 0  0]\n",
      " [25 75]]\n",
      "only attack data -  (75, 20)\n",
      "final data  149 -  (10997, 20)\n",
      "-------------------------------------------------------------\n",
      "4/4 [==============================] - 0s 2ms/step\n",
      "-------------------------------------------------------------\n",
      " confusion_matrix for new data with deeper model \n",
      " [[ 0  0]\n",
      " [26 74]]\n",
      "only attack data -  (74, 20)\n",
      "final data  150 -  (11071, 20)\n",
      "-------------------------------------------------------------\n"
     ]
    },
    {
     "name": "stderr",
     "output_type": "stream",
     "text": [
      "/tmp/ipykernel_2630869/2681396701.py:27: FutureWarning: The frame.append method is deprecated and will be removed from pandas in a future version. Use pandas.concat instead.\n",
      "  final_Data = final_Data.append(data1, ignore_index = True)\n",
      "/tmp/ipykernel_2630869/2681396701.py:27: FutureWarning: The frame.append method is deprecated and will be removed from pandas in a future version. Use pandas.concat instead.\n",
      "  final_Data = final_Data.append(data1, ignore_index = True)\n"
     ]
    },
    {
     "name": "stdout",
     "output_type": "stream",
     "text": [
      "4/4 [==============================] - 0s 2ms/step\n",
      "-------------------------------------------------------------\n",
      " confusion_matrix for new data with deeper model \n",
      " [[ 0  0]\n",
      " [24 76]]\n",
      "only attack data -  (76, 20)\n",
      "final data  151 -  (11147, 20)\n",
      "-------------------------------------------------------------\n",
      "4/4 [==============================] - 0s 3ms/step\n",
      "-------------------------------------------------------------\n",
      " confusion_matrix for new data with deeper model \n",
      " [[ 0  0]\n",
      " [39 61]]\n",
      "only attack data -  (61, 20)\n",
      "final data  152 -  (11208, 20)\n",
      "-------------------------------------------------------------\n"
     ]
    },
    {
     "name": "stderr",
     "output_type": "stream",
     "text": [
      "/tmp/ipykernel_2630869/2681396701.py:27: FutureWarning: The frame.append method is deprecated and will be removed from pandas in a future version. Use pandas.concat instead.\n",
      "  final_Data = final_Data.append(data1, ignore_index = True)\n",
      "/tmp/ipykernel_2630869/2681396701.py:27: FutureWarning: The frame.append method is deprecated and will be removed from pandas in a future version. Use pandas.concat instead.\n",
      "  final_Data = final_Data.append(data1, ignore_index = True)\n"
     ]
    },
    {
     "name": "stdout",
     "output_type": "stream",
     "text": [
      "4/4 [==============================] - 0s 3ms/step\n",
      "-------------------------------------------------------------\n",
      " confusion_matrix for new data with deeper model \n",
      " [[ 0  0]\n",
      " [22 78]]\n",
      "only attack data -  (78, 20)\n",
      "final data  153 -  (11286, 20)\n",
      "-------------------------------------------------------------\n",
      "4/4 [==============================] - 0s 3ms/step\n",
      "-------------------------------------------------------------\n",
      " confusion_matrix for new data with deeper model \n",
      " [[ 0  0]\n",
      " [26 74]]\n",
      "only attack data -  (74, 20)\n",
      "final data  154 -  (11360, 20)\n",
      "-------------------------------------------------------------\n"
     ]
    },
    {
     "name": "stderr",
     "output_type": "stream",
     "text": [
      "/tmp/ipykernel_2630869/2681396701.py:27: FutureWarning: The frame.append method is deprecated and will be removed from pandas in a future version. Use pandas.concat instead.\n",
      "  final_Data = final_Data.append(data1, ignore_index = True)\n",
      "/tmp/ipykernel_2630869/2681396701.py:27: FutureWarning: The frame.append method is deprecated and will be removed from pandas in a future version. Use pandas.concat instead.\n",
      "  final_Data = final_Data.append(data1, ignore_index = True)\n"
     ]
    },
    {
     "name": "stdout",
     "output_type": "stream",
     "text": [
      "4/4 [==============================] - 0s 2ms/step\n",
      "-------------------------------------------------------------\n",
      " confusion_matrix for new data with deeper model \n",
      " [[ 0  0]\n",
      " [26 74]]\n",
      "only attack data -  (74, 20)\n",
      "final data  155 -  (11434, 20)\n",
      "-------------------------------------------------------------\n",
      "4/4 [==============================] - 0s 2ms/step\n",
      "-------------------------------------------------------------\n",
      " confusion_matrix for new data with deeper model \n",
      " [[ 0  0]\n",
      " [29 71]]\n",
      "only attack data -  (71, 20)\n",
      "final data  156 -  (11505, 20)\n",
      "-------------------------------------------------------------\n",
      "4/4 [==============================] - 0s 2ms/step\n",
      "-------------------------------------------------------------\n",
      " confusion_matrix for new data with deeper model \n",
      " [[ 0  0]\n",
      " [28 72]]\n",
      "only attack data -  (72, 20)\n",
      "final data  157 -  (11577, 20)\n",
      "-------------------------------------------------------------\n"
     ]
    },
    {
     "name": "stderr",
     "output_type": "stream",
     "text": [
      "/tmp/ipykernel_2630869/2681396701.py:27: FutureWarning: The frame.append method is deprecated and will be removed from pandas in a future version. Use pandas.concat instead.\n",
      "  final_Data = final_Data.append(data1, ignore_index = True)\n",
      "/tmp/ipykernel_2630869/2681396701.py:27: FutureWarning: The frame.append method is deprecated and will be removed from pandas in a future version. Use pandas.concat instead.\n",
      "  final_Data = final_Data.append(data1, ignore_index = True)\n",
      "/tmp/ipykernel_2630869/2681396701.py:27: FutureWarning: The frame.append method is deprecated and will be removed from pandas in a future version. Use pandas.concat instead.\n",
      "  final_Data = final_Data.append(data1, ignore_index = True)\n"
     ]
    },
    {
     "name": "stdout",
     "output_type": "stream",
     "text": [
      "4/4 [==============================] - 0s 2ms/step\n",
      "-------------------------------------------------------------\n",
      " confusion_matrix for new data with deeper model \n",
      " [[ 0  0]\n",
      " [29 71]]\n",
      "only attack data -  (71, 20)\n",
      "final data  158 -  (11648, 20)\n",
      "-------------------------------------------------------------\n",
      "4/4 [==============================] - 0s 2ms/step\n",
      "-------------------------------------------------------------\n",
      " confusion_matrix for new data with deeper model \n",
      " [[ 0  0]\n",
      " [26 74]]\n",
      "only attack data -  (74, 20)\n",
      "final data  159 -  (11722, 20)\n",
      "-------------------------------------------------------------\n",
      "4/4 [==============================] - 0s 2ms/step\n",
      "-------------------------------------------------------------\n",
      " confusion_matrix for new data with deeper model \n",
      " [[ 0  0]\n",
      " [28 72]]\n",
      "only attack data -  (72, 20)\n"
     ]
    },
    {
     "name": "stderr",
     "output_type": "stream",
     "text": [
      "/tmp/ipykernel_2630869/2681396701.py:27: FutureWarning: The frame.append method is deprecated and will be removed from pandas in a future version. Use pandas.concat instead.\n",
      "  final_Data = final_Data.append(data1, ignore_index = True)\n",
      "/tmp/ipykernel_2630869/2681396701.py:27: FutureWarning: The frame.append method is deprecated and will be removed from pandas in a future version. Use pandas.concat instead.\n",
      "  final_Data = final_Data.append(data1, ignore_index = True)\n",
      "/tmp/ipykernel_2630869/2681396701.py:27: FutureWarning: The frame.append method is deprecated and will be removed from pandas in a future version. Use pandas.concat instead.\n",
      "  final_Data = final_Data.append(data1, ignore_index = True)\n"
     ]
    },
    {
     "name": "stdout",
     "output_type": "stream",
     "text": [
      "final data  160 -  (11794, 20)\n",
      "-------------------------------------------------------------\n",
      "4/4 [==============================] - 0s 3ms/step\n",
      "-------------------------------------------------------------\n",
      " confusion_matrix for new data with deeper model \n",
      " [[ 0  0]\n",
      " [29 71]]\n",
      "only attack data -  (71, 20)\n",
      "final data  161 -  (11865, 20)\n",
      "-------------------------------------------------------------\n",
      "4/4 [==============================] - 0s 3ms/step\n",
      "-------------------------------------------------------------\n",
      " confusion_matrix for new data with deeper model \n",
      " [[ 0  0]\n",
      " [20 80]]\n",
      "only attack data -  (80, 20)\n",
      "final data  162 -  (11945, 20)\n",
      "-------------------------------------------------------------\n"
     ]
    },
    {
     "name": "stderr",
     "output_type": "stream",
     "text": [
      "/tmp/ipykernel_2630869/2681396701.py:27: FutureWarning: The frame.append method is deprecated and will be removed from pandas in a future version. Use pandas.concat instead.\n",
      "  final_Data = final_Data.append(data1, ignore_index = True)\n",
      "/tmp/ipykernel_2630869/2681396701.py:27: FutureWarning: The frame.append method is deprecated and will be removed from pandas in a future version. Use pandas.concat instead.\n",
      "  final_Data = final_Data.append(data1, ignore_index = True)\n"
     ]
    },
    {
     "name": "stdout",
     "output_type": "stream",
     "text": [
      "4/4 [==============================] - 0s 3ms/step\n",
      "-------------------------------------------------------------\n",
      " confusion_matrix for new data with deeper model \n",
      " [[ 0  0]\n",
      " [20 80]]\n",
      "only attack data -  (80, 20)\n",
      "final data  163 -  (12025, 20)\n",
      "-------------------------------------------------------------\n",
      "4/4 [==============================] - 0s 2ms/step\n",
      "-------------------------------------------------------------\n",
      " confusion_matrix for new data with deeper model \n",
      " [[ 0  0]\n",
      " [26 74]]\n",
      "only attack data -  (74, 20)\n",
      "final data  164 -  (12099, 20)\n",
      "-------------------------------------------------------------\n"
     ]
    },
    {
     "name": "stderr",
     "output_type": "stream",
     "text": [
      "/tmp/ipykernel_2630869/2681396701.py:27: FutureWarning: The frame.append method is deprecated and will be removed from pandas in a future version. Use pandas.concat instead.\n",
      "  final_Data = final_Data.append(data1, ignore_index = True)\n",
      "/tmp/ipykernel_2630869/2681396701.py:27: FutureWarning: The frame.append method is deprecated and will be removed from pandas in a future version. Use pandas.concat instead.\n",
      "  final_Data = final_Data.append(data1, ignore_index = True)\n"
     ]
    },
    {
     "name": "stdout",
     "output_type": "stream",
     "text": [
      "4/4 [==============================] - 0s 2ms/step\n",
      "-------------------------------------------------------------\n",
      " confusion_matrix for new data with deeper model \n",
      " [[ 0  0]\n",
      " [24 76]]\n",
      "only attack data -  (76, 20)\n",
      "final data  165 -  (12175, 20)\n",
      "-------------------------------------------------------------\n",
      "4/4 [==============================] - 0s 2ms/step\n",
      "-------------------------------------------------------------\n",
      " confusion_matrix for new data with deeper model \n",
      " [[ 0  0]\n",
      " [24 76]]\n",
      "only attack data -  (76, 20)\n",
      "final data  166 -  (12251, 20)\n",
      "-------------------------------------------------------------\n",
      "4/4 [==============================] - 0s 2ms/step\n",
      "-------------------------------------------------------------\n",
      " confusion_matrix for new data with deeper model \n",
      " [[ 0  0]\n",
      " [29 71]]\n",
      "only attack data -  (71, 20)\n",
      "final data  167 -  (12322, 20)\n",
      "-------------------------------------------------------------\n"
     ]
    },
    {
     "name": "stderr",
     "output_type": "stream",
     "text": [
      "/tmp/ipykernel_2630869/2681396701.py:27: FutureWarning: The frame.append method is deprecated and will be removed from pandas in a future version. Use pandas.concat instead.\n",
      "  final_Data = final_Data.append(data1, ignore_index = True)\n",
      "/tmp/ipykernel_2630869/2681396701.py:27: FutureWarning: The frame.append method is deprecated and will be removed from pandas in a future version. Use pandas.concat instead.\n",
      "  final_Data = final_Data.append(data1, ignore_index = True)\n",
      "/tmp/ipykernel_2630869/2681396701.py:27: FutureWarning: The frame.append method is deprecated and will be removed from pandas in a future version. Use pandas.concat instead.\n",
      "  final_Data = final_Data.append(data1, ignore_index = True)\n"
     ]
    },
    {
     "name": "stdout",
     "output_type": "stream",
     "text": [
      "4/4 [==============================] - 0s 2ms/step\n",
      "-------------------------------------------------------------\n",
      " confusion_matrix for new data with deeper model \n",
      " [[ 0  0]\n",
      " [24 76]]\n",
      "only attack data -  (76, 20)\n",
      "final data  168 -  (12398, 20)\n",
      "-------------------------------------------------------------\n",
      "4/4 [==============================] - 0s 2ms/step\n",
      "-------------------------------------------------------------\n",
      " confusion_matrix for new data with deeper model \n",
      " [[ 0  0]\n",
      " [21 79]]\n",
      "only attack data -  (79, 20)\n",
      "final data  169 -  (12477, 20)\n",
      "-------------------------------------------------------------\n",
      "4/4 [==============================] - 0s 2ms/step\n",
      "-------------------------------------------------------------\n",
      " confusion_matrix for new data with deeper model \n",
      " [[ 0  0]\n",
      " [27 73]]\n",
      "only attack data -  (73, 20)\n",
      "final data  170 -  (12550, 20)\n",
      "-------------------------------------------------------------\n"
     ]
    },
    {
     "name": "stderr",
     "output_type": "stream",
     "text": [
      "/tmp/ipykernel_2630869/2681396701.py:27: FutureWarning: The frame.append method is deprecated and will be removed from pandas in a future version. Use pandas.concat instead.\n",
      "  final_Data = final_Data.append(data1, ignore_index = True)\n",
      "/tmp/ipykernel_2630869/2681396701.py:27: FutureWarning: The frame.append method is deprecated and will be removed from pandas in a future version. Use pandas.concat instead.\n",
      "  final_Data = final_Data.append(data1, ignore_index = True)\n",
      "/tmp/ipykernel_2630869/2681396701.py:27: FutureWarning: The frame.append method is deprecated and will be removed from pandas in a future version. Use pandas.concat instead.\n",
      "  final_Data = final_Data.append(data1, ignore_index = True)\n"
     ]
    },
    {
     "name": "stdout",
     "output_type": "stream",
     "text": [
      "4/4 [==============================] - 0s 2ms/step\n",
      "-------------------------------------------------------------\n",
      " confusion_matrix for new data with deeper model \n",
      " [[ 0  0]\n",
      " [18 82]]\n",
      "only attack data -  (82, 20)\n",
      "final data  171 -  (12632, 20)\n",
      "-------------------------------------------------------------\n",
      "4/4 [==============================] - 0s 2ms/step\n",
      "-------------------------------------------------------------\n",
      " confusion_matrix for new data with deeper model \n",
      " [[ 0  0]\n",
      " [25 75]]\n",
      "only attack data -  (75, 20)\n",
      "final data  172 -  (12707, 20)\n",
      "-------------------------------------------------------------\n",
      "4/4 [==============================] - 0s 2ms/step\n"
     ]
    },
    {
     "name": "stderr",
     "output_type": "stream",
     "text": [
      "/tmp/ipykernel_2630869/2681396701.py:27: FutureWarning: The frame.append method is deprecated and will be removed from pandas in a future version. Use pandas.concat instead.\n",
      "  final_Data = final_Data.append(data1, ignore_index = True)\n",
      "/tmp/ipykernel_2630869/2681396701.py:27: FutureWarning: The frame.append method is deprecated and will be removed from pandas in a future version. Use pandas.concat instead.\n",
      "  final_Data = final_Data.append(data1, ignore_index = True)\n"
     ]
    },
    {
     "name": "stdout",
     "output_type": "stream",
     "text": [
      "-------------------------------------------------------------\n",
      " confusion_matrix for new data with deeper model \n",
      " [[ 0  0]\n",
      " [32 68]]\n",
      "only attack data -  (68, 20)\n",
      "final data  173 -  (12775, 20)\n",
      "-------------------------------------------------------------\n",
      "4/4 [==============================] - 0s 2ms/step\n",
      "-------------------------------------------------------------\n",
      " confusion_matrix for new data with deeper model \n",
      " [[ 0  0]\n",
      " [21 79]]\n",
      "only attack data -  (79, 20)\n",
      "final data  174 -  (12854, 20)\n",
      "-------------------------------------------------------------\n",
      "4/4 [==============================] - 0s 2ms/step\n"
     ]
    },
    {
     "name": "stderr",
     "output_type": "stream",
     "text": [
      "/tmp/ipykernel_2630869/2681396701.py:27: FutureWarning: The frame.append method is deprecated and will be removed from pandas in a future version. Use pandas.concat instead.\n",
      "  final_Data = final_Data.append(data1, ignore_index = True)\n",
      "/tmp/ipykernel_2630869/2681396701.py:27: FutureWarning: The frame.append method is deprecated and will be removed from pandas in a future version. Use pandas.concat instead.\n",
      "  final_Data = final_Data.append(data1, ignore_index = True)\n"
     ]
    },
    {
     "name": "stdout",
     "output_type": "stream",
     "text": [
      "-------------------------------------------------------------\n",
      " confusion_matrix for new data with deeper model \n",
      " [[ 0  0]\n",
      " [33 67]]\n",
      "only attack data -  (67, 20)\n",
      "final data  175 -  (12921, 20)\n",
      "-------------------------------------------------------------\n",
      "4/4 [==============================] - 0s 2ms/step\n",
      "-------------------------------------------------------------\n",
      " confusion_matrix for new data with deeper model \n",
      " [[ 0  0]\n",
      " [17 83]]\n",
      "only attack data -  (83, 20)\n",
      "final data  176 -  (13004, 20)\n",
      "-------------------------------------------------------------\n",
      "1/4 [======>.......................] - ETA: 0s"
     ]
    },
    {
     "name": "stderr",
     "output_type": "stream",
     "text": [
      "/tmp/ipykernel_2630869/2681396701.py:27: FutureWarning: The frame.append method is deprecated and will be removed from pandas in a future version. Use pandas.concat instead.\n",
      "  final_Data = final_Data.append(data1, ignore_index = True)\n",
      "/tmp/ipykernel_2630869/2681396701.py:27: FutureWarning: The frame.append method is deprecated and will be removed from pandas in a future version. Use pandas.concat instead.\n",
      "  final_Data = final_Data.append(data1, ignore_index = True)\n"
     ]
    },
    {
     "name": "stdout",
     "output_type": "stream",
     "text": [
      "4/4 [==============================] - 0s 2ms/step\n",
      "-------------------------------------------------------------\n",
      " confusion_matrix for new data with deeper model \n",
      " [[ 0  0]\n",
      " [23 77]]\n",
      "only attack data -  (77, 20)\n",
      "final data  177 -  (13081, 20)\n",
      "-------------------------------------------------------------\n",
      "4/4 [==============================] - 0s 2ms/step\n",
      "-------------------------------------------------------------\n",
      " confusion_matrix for new data with deeper model \n",
      " [[ 0  0]\n",
      " [24 76]]\n",
      "only attack data -  (76, 20)\n",
      "final data  178 -  (13157, 20)\n",
      "-------------------------------------------------------------\n"
     ]
    },
    {
     "name": "stderr",
     "output_type": "stream",
     "text": [
      "/tmp/ipykernel_2630869/2681396701.py:27: FutureWarning: The frame.append method is deprecated and will be removed from pandas in a future version. Use pandas.concat instead.\n",
      "  final_Data = final_Data.append(data1, ignore_index = True)\n",
      "/tmp/ipykernel_2630869/2681396701.py:27: FutureWarning: The frame.append method is deprecated and will be removed from pandas in a future version. Use pandas.concat instead.\n",
      "  final_Data = final_Data.append(data1, ignore_index = True)\n"
     ]
    },
    {
     "name": "stdout",
     "output_type": "stream",
     "text": [
      "4/4 [==============================] - 0s 3ms/step\n",
      "-------------------------------------------------------------\n",
      " confusion_matrix for new data with deeper model \n",
      " [[ 0  0]\n",
      " [24 76]]\n",
      "only attack data -  (76, 20)\n",
      "final data  179 -  (13233, 20)\n",
      "-------------------------------------------------------------\n",
      "4/4 [==============================] - 0s 3ms/step\n",
      "-------------------------------------------------------------\n",
      " confusion_matrix for new data with deeper model \n",
      " [[ 0  0]\n",
      " [33 67]]\n",
      "only attack data -  (67, 20)\n",
      "final data  180 -  (13300, 20)\n",
      "-------------------------------------------------------------\n"
     ]
    },
    {
     "name": "stderr",
     "output_type": "stream",
     "text": [
      "/tmp/ipykernel_2630869/2681396701.py:27: FutureWarning: The frame.append method is deprecated and will be removed from pandas in a future version. Use pandas.concat instead.\n",
      "  final_Data = final_Data.append(data1, ignore_index = True)\n",
      "/tmp/ipykernel_2630869/2681396701.py:27: FutureWarning: The frame.append method is deprecated and will be removed from pandas in a future version. Use pandas.concat instead.\n",
      "  final_Data = final_Data.append(data1, ignore_index = True)\n"
     ]
    },
    {
     "name": "stdout",
     "output_type": "stream",
     "text": [
      "4/4 [==============================] - 0s 2ms/step\n",
      "-------------------------------------------------------------\n",
      " confusion_matrix for new data with deeper model \n",
      " [[ 0  0]\n",
      " [24 76]]\n",
      "only attack data -  (76, 20)\n",
      "final data  181 -  (13376, 20)\n",
      "-------------------------------------------------------------\n",
      "4/4 [==============================] - 0s 2ms/step\n",
      "-------------------------------------------------------------\n",
      " confusion_matrix for new data with deeper model \n",
      " [[ 0  0]\n",
      " [31 69]]\n",
      "only attack data -  (69, 20)\n",
      "final data  182 -  (13445, 20)\n",
      "-------------------------------------------------------------\n",
      "4/4 [==============================] - 0s 2ms/step\n",
      "-------------------------------------------------------------\n",
      " confusion_matrix for new data with deeper model \n",
      " [[ 0  0]\n",
      " [28 72]]\n",
      "only attack data -  (72, 20)\n",
      "final data  183 -  (13517, 20)\n",
      "-------------------------------------------------------------\n"
     ]
    },
    {
     "name": "stderr",
     "output_type": "stream",
     "text": [
      "/tmp/ipykernel_2630869/2681396701.py:27: FutureWarning: The frame.append method is deprecated and will be removed from pandas in a future version. Use pandas.concat instead.\n",
      "  final_Data = final_Data.append(data1, ignore_index = True)\n",
      "/tmp/ipykernel_2630869/2681396701.py:27: FutureWarning: The frame.append method is deprecated and will be removed from pandas in a future version. Use pandas.concat instead.\n",
      "  final_Data = final_Data.append(data1, ignore_index = True)\n",
      "/tmp/ipykernel_2630869/2681396701.py:27: FutureWarning: The frame.append method is deprecated and will be removed from pandas in a future version. Use pandas.concat instead.\n",
      "  final_Data = final_Data.append(data1, ignore_index = True)\n"
     ]
    },
    {
     "name": "stdout",
     "output_type": "stream",
     "text": [
      "4/4 [==============================] - 0s 2ms/step\n",
      "-------------------------------------------------------------\n",
      " confusion_matrix for new data with deeper model \n",
      " [[ 0  0]\n",
      " [23 77]]\n",
      "only attack data -  (77, 20)\n",
      "final data  184 -  (13594, 20)\n",
      "-------------------------------------------------------------\n",
      "4/4 [==============================] - 0s 2ms/step\n",
      "-------------------------------------------------------------\n",
      " confusion_matrix for new data with deeper model \n",
      " [[ 0  0]\n",
      " [25 75]]\n",
      "only attack data -  (75, 20)\n",
      "final data  185 -  (13669, 20)\n",
      "-------------------------------------------------------------\n",
      "4/4 [==============================] - 0s 2ms/step\n",
      "-------------------------------------------------------------\n",
      " confusion_matrix for new data with deeper model \n",
      " [[ 0  0]\n",
      " [22 78]]\n",
      "only attack data -  (78, 20)\n",
      "final data  186 -  (13747, 20)\n",
      "-------------------------------------------------------------\n"
     ]
    },
    {
     "name": "stderr",
     "output_type": "stream",
     "text": [
      "/tmp/ipykernel_2630869/2681396701.py:27: FutureWarning: The frame.append method is deprecated and will be removed from pandas in a future version. Use pandas.concat instead.\n",
      "  final_Data = final_Data.append(data1, ignore_index = True)\n",
      "/tmp/ipykernel_2630869/2681396701.py:27: FutureWarning: The frame.append method is deprecated and will be removed from pandas in a future version. Use pandas.concat instead.\n",
      "  final_Data = final_Data.append(data1, ignore_index = True)\n",
      "/tmp/ipykernel_2630869/2681396701.py:27: FutureWarning: The frame.append method is deprecated and will be removed from pandas in a future version. Use pandas.concat instead.\n",
      "  final_Data = final_Data.append(data1, ignore_index = True)\n"
     ]
    },
    {
     "name": "stdout",
     "output_type": "stream",
     "text": [
      "4/4 [==============================] - 0s 2ms/step\n",
      "-------------------------------------------------------------\n",
      " confusion_matrix for new data with deeper model \n",
      " [[ 0  0]\n",
      " [34 66]]\n",
      "only attack data -  (66, 20)\n",
      "final data  187 -  (13813, 20)\n",
      "-------------------------------------------------------------\n",
      "4/4 [==============================] - 0s 2ms/step\n",
      "-------------------------------------------------------------\n",
      " confusion_matrix for new data with deeper model \n",
      " [[ 0  0]\n",
      " [26 74]]\n",
      "only attack data -  (74, 20)\n",
      "final data  188 -  (13887, 20)\n",
      "-------------------------------------------------------------\n",
      "1/4 [======>.......................] - ETA: 0s"
     ]
    },
    {
     "name": "stderr",
     "output_type": "stream",
     "text": [
      "/tmp/ipykernel_2630869/2681396701.py:27: FutureWarning: The frame.append method is deprecated and will be removed from pandas in a future version. Use pandas.concat instead.\n",
      "  final_Data = final_Data.append(data1, ignore_index = True)\n",
      "/tmp/ipykernel_2630869/2681396701.py:27: FutureWarning: The frame.append method is deprecated and will be removed from pandas in a future version. Use pandas.concat instead.\n",
      "  final_Data = final_Data.append(data1, ignore_index = True)\n"
     ]
    },
    {
     "name": "stdout",
     "output_type": "stream",
     "text": [
      "4/4 [==============================] - 0s 2ms/step\n",
      "-------------------------------------------------------------\n",
      " confusion_matrix for new data with deeper model \n",
      " [[ 0  0]\n",
      " [25 75]]\n",
      "only attack data -  (75, 20)\n",
      "final data  189 -  (13962, 20)\n",
      "-------------------------------------------------------------\n",
      "4/4 [==============================] - 0s 2ms/step\n",
      "-------------------------------------------------------------\n",
      " confusion_matrix for new data with deeper model \n",
      " [[ 0  0]\n",
      " [26 74]]\n",
      "only attack data -  (74, 20)\n",
      "final data  190 -  (14036, 20)\n",
      "-------------------------------------------------------------\n"
     ]
    },
    {
     "name": "stderr",
     "output_type": "stream",
     "text": [
      "/tmp/ipykernel_2630869/2681396701.py:27: FutureWarning: The frame.append method is deprecated and will be removed from pandas in a future version. Use pandas.concat instead.\n",
      "  final_Data = final_Data.append(data1, ignore_index = True)\n",
      "/tmp/ipykernel_2630869/2681396701.py:27: FutureWarning: The frame.append method is deprecated and will be removed from pandas in a future version. Use pandas.concat instead.\n",
      "  final_Data = final_Data.append(data1, ignore_index = True)\n"
     ]
    },
    {
     "name": "stdout",
     "output_type": "stream",
     "text": [
      "4/4 [==============================] - 0s 3ms/step\n",
      "-------------------------------------------------------------\n",
      " confusion_matrix for new data with deeper model \n",
      " [[ 0  0]\n",
      " [33 67]]\n",
      "only attack data -  (67, 20)\n",
      "final data  191 -  (14103, 20)\n",
      "-------------------------------------------------------------\n",
      "4/4 [==============================] - 0s 2ms/step\n",
      "-------------------------------------------------------------\n",
      " confusion_matrix for new data with deeper model \n",
      " [[ 0  0]\n",
      " [28 72]]\n",
      "only attack data -  (72, 20)\n",
      "final data  192 -  (14175, 20)\n",
      "-------------------------------------------------------------\n"
     ]
    },
    {
     "name": "stderr",
     "output_type": "stream",
     "text": [
      "/tmp/ipykernel_2630869/2681396701.py:27: FutureWarning: The frame.append method is deprecated and will be removed from pandas in a future version. Use pandas.concat instead.\n",
      "  final_Data = final_Data.append(data1, ignore_index = True)\n",
      "/tmp/ipykernel_2630869/2681396701.py:27: FutureWarning: The frame.append method is deprecated and will be removed from pandas in a future version. Use pandas.concat instead.\n",
      "  final_Data = final_Data.append(data1, ignore_index = True)\n"
     ]
    },
    {
     "name": "stdout",
     "output_type": "stream",
     "text": [
      "4/4 [==============================] - 0s 2ms/step\n",
      "-------------------------------------------------------------\n",
      " confusion_matrix for new data with deeper model \n",
      " [[ 0  0]\n",
      " [28 72]]\n",
      "only attack data -  (72, 20)\n",
      "final data  193 -  (14247, 20)\n",
      "-------------------------------------------------------------\n",
      "4/4 [==============================] - 0s 2ms/step\n",
      "-------------------------------------------------------------\n",
      " confusion_matrix for new data with deeper model \n",
      " [[ 0  0]\n",
      " [32 68]]\n",
      "only attack data -  (68, 20)\n",
      "final data  194 -  (14315, 20)\n",
      "-------------------------------------------------------------\n"
     ]
    },
    {
     "name": "stderr",
     "output_type": "stream",
     "text": [
      "/tmp/ipykernel_2630869/2681396701.py:27: FutureWarning: The frame.append method is deprecated and will be removed from pandas in a future version. Use pandas.concat instead.\n",
      "  final_Data = final_Data.append(data1, ignore_index = True)\n",
      "/tmp/ipykernel_2630869/2681396701.py:27: FutureWarning: The frame.append method is deprecated and will be removed from pandas in a future version. Use pandas.concat instead.\n",
      "  final_Data = final_Data.append(data1, ignore_index = True)\n"
     ]
    },
    {
     "name": "stdout",
     "output_type": "stream",
     "text": [
      "4/4 [==============================] - 0s 2ms/step\n",
      "-------------------------------------------------------------\n",
      " confusion_matrix for new data with deeper model \n",
      " [[ 0  0]\n",
      " [26 74]]\n",
      "only attack data -  (74, 20)\n",
      "final data  195 -  (14389, 20)\n",
      "-------------------------------------------------------------\n",
      "4/4 [==============================] - 0s 2ms/step\n",
      "-------------------------------------------------------------\n",
      " confusion_matrix for new data with deeper model \n",
      " [[ 0  0]\n",
      " [27 73]]\n",
      "only attack data -  (73, 20)\n",
      "final data  196 -  (14462, 20)\n",
      "-------------------------------------------------------------\n"
     ]
    },
    {
     "name": "stderr",
     "output_type": "stream",
     "text": [
      "/tmp/ipykernel_2630869/2681396701.py:27: FutureWarning: The frame.append method is deprecated and will be removed from pandas in a future version. Use pandas.concat instead.\n",
      "  final_Data = final_Data.append(data1, ignore_index = True)\n",
      "/tmp/ipykernel_2630869/2681396701.py:27: FutureWarning: The frame.append method is deprecated and will be removed from pandas in a future version. Use pandas.concat instead.\n",
      "  final_Data = final_Data.append(data1, ignore_index = True)\n"
     ]
    },
    {
     "name": "stdout",
     "output_type": "stream",
     "text": [
      "4/4 [==============================] - 0s 2ms/step\n",
      "-------------------------------------------------------------\n",
      " confusion_matrix for new data with deeper model \n",
      " [[ 0  0]\n",
      " [30 70]]\n",
      "only attack data -  (70, 20)\n",
      "final data  197 -  (14532, 20)\n",
      "-------------------------------------------------------------\n",
      "4/4 [==============================] - 0s 2ms/step\n",
      "-------------------------------------------------------------\n",
      " confusion_matrix for new data with deeper model \n",
      " [[ 0  0]\n",
      " [22 78]]\n",
      "only attack data -  (78, 20)\n",
      "final data  198 -  (14610, 20)\n",
      "-------------------------------------------------------------\n"
     ]
    },
    {
     "name": "stderr",
     "output_type": "stream",
     "text": [
      "/tmp/ipykernel_2630869/2681396701.py:27: FutureWarning: The frame.append method is deprecated and will be removed from pandas in a future version. Use pandas.concat instead.\n",
      "  final_Data = final_Data.append(data1, ignore_index = True)\n",
      "/tmp/ipykernel_2630869/2681396701.py:27: FutureWarning: The frame.append method is deprecated and will be removed from pandas in a future version. Use pandas.concat instead.\n",
      "  final_Data = final_Data.append(data1, ignore_index = True)\n"
     ]
    },
    {
     "name": "stdout",
     "output_type": "stream",
     "text": [
      "4/4 [==============================] - 0s 2ms/step\n",
      "-------------------------------------------------------------\n",
      " confusion_matrix for new data with deeper model \n",
      " [[ 0  0]\n",
      " [29 71]]\n",
      "only attack data -  (71, 20)\n",
      "final data  199 -  (14681, 20)\n",
      "-------------------------------------------------------------\n",
      "4/4 [==============================] - 0s 3ms/step\n",
      "-------------------------------------------------------------\n",
      " confusion_matrix for new data with deeper model \n",
      " [[ 0  0]\n",
      " [25 75]]\n",
      "only attack data -  (75, 20)\n",
      "final data  200 -  (14756, 20)\n",
      "-------------------------------------------------------------\n"
     ]
    },
    {
     "name": "stderr",
     "output_type": "stream",
     "text": [
      "/tmp/ipykernel_2630869/2681396701.py:27: FutureWarning: The frame.append method is deprecated and will be removed from pandas in a future version. Use pandas.concat instead.\n",
      "  final_Data = final_Data.append(data1, ignore_index = True)\n",
      "/tmp/ipykernel_2630869/2681396701.py:27: FutureWarning: The frame.append method is deprecated and will be removed from pandas in a future version. Use pandas.concat instead.\n",
      "  final_Data = final_Data.append(data1, ignore_index = True)\n"
     ]
    },
    {
     "name": "stdout",
     "output_type": "stream",
     "text": [
      "4/4 [==============================] - 0s 3ms/step\n",
      "-------------------------------------------------------------\n",
      " confusion_matrix for new data with deeper model \n",
      " [[ 0  0]\n",
      " [19 81]]\n",
      "only attack data -  (81, 20)\n",
      "final data  201 -  (14837, 20)\n",
      "-------------------------------------------------------------\n",
      "4/4 [==============================] - 0s 3ms/step\n",
      "-------------------------------------------------------------\n",
      " confusion_matrix for new data with deeper model \n",
      " [[ 0  0]\n",
      " [33 67]]\n",
      "only attack data -  (67, 20)\n",
      "final data  202 -  (14904, 20)\n",
      "-------------------------------------------------------------\n"
     ]
    },
    {
     "name": "stderr",
     "output_type": "stream",
     "text": [
      "/tmp/ipykernel_2630869/2681396701.py:27: FutureWarning: The frame.append method is deprecated and will be removed from pandas in a future version. Use pandas.concat instead.\n",
      "  final_Data = final_Data.append(data1, ignore_index = True)\n",
      "/tmp/ipykernel_2630869/2681396701.py:27: FutureWarning: The frame.append method is deprecated and will be removed from pandas in a future version. Use pandas.concat instead.\n",
      "  final_Data = final_Data.append(data1, ignore_index = True)\n"
     ]
    },
    {
     "name": "stdout",
     "output_type": "stream",
     "text": [
      "4/4 [==============================] - 0s 2ms/step\n",
      "-------------------------------------------------------------\n",
      " confusion_matrix for new data with deeper model \n",
      " [[ 0  0]\n",
      " [28 72]]\n",
      "only attack data -  (72, 20)\n",
      "final data  203 -  (14976, 20)\n",
      "-------------------------------------------------------------\n",
      "4/4 [==============================] - 0s 2ms/step\n",
      "-------------------------------------------------------------\n",
      " confusion_matrix for new data with deeper model \n",
      " [[ 0  0]\n",
      " [25 75]]\n",
      "only attack data -  (75, 20)\n",
      "final data  204 -  (15051, 20)\n",
      "-------------------------------------------------------------\n",
      "4/4 [==============================] - 0s 2ms/step\n",
      "-------------------------------------------------------------\n",
      " confusion_matrix for new data with deeper model \n",
      " [[ 0  0]\n",
      " [28 72]]\n",
      "only attack data -  (72, 20)\n",
      "final data  205 -  (15123, 20)\n",
      "-------------------------------------------------------------\n"
     ]
    },
    {
     "name": "stderr",
     "output_type": "stream",
     "text": [
      "/tmp/ipykernel_2630869/2681396701.py:27: FutureWarning: The frame.append method is deprecated and will be removed from pandas in a future version. Use pandas.concat instead.\n",
      "  final_Data = final_Data.append(data1, ignore_index = True)\n",
      "/tmp/ipykernel_2630869/2681396701.py:27: FutureWarning: The frame.append method is deprecated and will be removed from pandas in a future version. Use pandas.concat instead.\n",
      "  final_Data = final_Data.append(data1, ignore_index = True)\n",
      "/tmp/ipykernel_2630869/2681396701.py:27: FutureWarning: The frame.append method is deprecated and will be removed from pandas in a future version. Use pandas.concat instead.\n",
      "  final_Data = final_Data.append(data1, ignore_index = True)\n"
     ]
    },
    {
     "name": "stdout",
     "output_type": "stream",
     "text": [
      "4/4 [==============================] - 0s 2ms/step\n",
      "-------------------------------------------------------------\n",
      " confusion_matrix for new data with deeper model \n",
      " [[ 0  0]\n",
      " [24 76]]\n",
      "only attack data -  (76, 20)\n",
      "final data  206 -  (15199, 20)\n",
      "-------------------------------------------------------------\n",
      "4/4 [==============================] - 0s 2ms/step\n",
      "-------------------------------------------------------------\n",
      " confusion_matrix for new data with deeper model \n",
      " [[ 0  0]\n",
      " [27 73]]\n",
      "only attack data -  (73, 20)\n",
      "final data  207 -  (15272, 20)\n",
      "-------------------------------------------------------------\n",
      "4/4 [==============================] - 0s 2ms/step\n",
      "-------------------------------------------------------------\n",
      " confusion_matrix for new data with deeper model \n",
      " [[ 0  0]\n",
      " [30 70]]\n",
      "only attack data -  (70, 20)\n",
      "final data  208 -  (15342, 20)\n",
      "-------------------------------------------------------------\n"
     ]
    },
    {
     "name": "stderr",
     "output_type": "stream",
     "text": [
      "/tmp/ipykernel_2630869/2681396701.py:27: FutureWarning: The frame.append method is deprecated and will be removed from pandas in a future version. Use pandas.concat instead.\n",
      "  final_Data = final_Data.append(data1, ignore_index = True)\n",
      "/tmp/ipykernel_2630869/2681396701.py:27: FutureWarning: The frame.append method is deprecated and will be removed from pandas in a future version. Use pandas.concat instead.\n",
      "  final_Data = final_Data.append(data1, ignore_index = True)\n",
      "/tmp/ipykernel_2630869/2681396701.py:27: FutureWarning: The frame.append method is deprecated and will be removed from pandas in a future version. Use pandas.concat instead.\n",
      "  final_Data = final_Data.append(data1, ignore_index = True)\n"
     ]
    },
    {
     "name": "stdout",
     "output_type": "stream",
     "text": [
      "4/4 [==============================] - 0s 2ms/step\n",
      "-------------------------------------------------------------\n",
      " confusion_matrix for new data with deeper model \n",
      " [[ 0  0]\n",
      " [25 75]]\n",
      "only attack data -  (75, 20)\n",
      "final data  209 -  (15417, 20)\n",
      "-------------------------------------------------------------\n",
      "4/4 [==============================] - 0s 2ms/step\n",
      "-------------------------------------------------------------\n",
      " confusion_matrix for new data with deeper model \n",
      " [[ 0  0]\n",
      " [32 68]]\n",
      "only attack data -  (68, 20)\n",
      "final data  210 -  (15485, 20)\n",
      "-------------------------------------------------------------\n",
      "1/4 [======>.......................] - ETA: 0s"
     ]
    },
    {
     "name": "stderr",
     "output_type": "stream",
     "text": [
      "/tmp/ipykernel_2630869/2681396701.py:27: FutureWarning: The frame.append method is deprecated and will be removed from pandas in a future version. Use pandas.concat instead.\n",
      "  final_Data = final_Data.append(data1, ignore_index = True)\n",
      "/tmp/ipykernel_2630869/2681396701.py:27: FutureWarning: The frame.append method is deprecated and will be removed from pandas in a future version. Use pandas.concat instead.\n",
      "  final_Data = final_Data.append(data1, ignore_index = True)\n"
     ]
    },
    {
     "name": "stdout",
     "output_type": "stream",
     "text": [
      "4/4 [==============================] - 0s 2ms/step\n",
      "-------------------------------------------------------------\n",
      " confusion_matrix for new data with deeper model \n",
      " [[ 0  0]\n",
      " [20 80]]\n",
      "only attack data -  (80, 20)\n",
      "final data  211 -  (15565, 20)\n",
      "-------------------------------------------------------------\n",
      "4/4 [==============================] - 0s 3ms/step\n",
      "-------------------------------------------------------------\n",
      " confusion_matrix for new data with deeper model \n",
      " [[ 0  0]\n",
      " [33 67]]\n",
      "only attack data -  (67, 20)\n",
      "final data  212 -  (15632, 20)\n",
      "-------------------------------------------------------------\n"
     ]
    },
    {
     "name": "stderr",
     "output_type": "stream",
     "text": [
      "/tmp/ipykernel_2630869/2681396701.py:27: FutureWarning: The frame.append method is deprecated and will be removed from pandas in a future version. Use pandas.concat instead.\n",
      "  final_Data = final_Data.append(data1, ignore_index = True)\n",
      "/tmp/ipykernel_2630869/2681396701.py:27: FutureWarning: The frame.append method is deprecated and will be removed from pandas in a future version. Use pandas.concat instead.\n",
      "  final_Data = final_Data.append(data1, ignore_index = True)\n"
     ]
    },
    {
     "name": "stdout",
     "output_type": "stream",
     "text": [
      "4/4 [==============================] - 0s 3ms/step\n",
      "-------------------------------------------------------------\n",
      " confusion_matrix for new data with deeper model \n",
      " [[ 0  0]\n",
      " [29 71]]\n",
      "only attack data -  (71, 20)\n",
      "final data  213 -  (15703, 20)\n",
      "-------------------------------------------------------------\n",
      "4/4 [==============================] - 0s 2ms/step\n",
      "-------------------------------------------------------------\n",
      " confusion_matrix for new data with deeper model \n",
      " [[ 0  0]\n",
      " [33 67]]\n",
      "only attack data -  (67, 20)\n",
      "final data  214 -  (15770, 20)\n",
      "-------------------------------------------------------------\n"
     ]
    },
    {
     "name": "stderr",
     "output_type": "stream",
     "text": [
      "/tmp/ipykernel_2630869/2681396701.py:27: FutureWarning: The frame.append method is deprecated and will be removed from pandas in a future version. Use pandas.concat instead.\n",
      "  final_Data = final_Data.append(data1, ignore_index = True)\n",
      "/tmp/ipykernel_2630869/2681396701.py:27: FutureWarning: The frame.append method is deprecated and will be removed from pandas in a future version. Use pandas.concat instead.\n",
      "  final_Data = final_Data.append(data1, ignore_index = True)\n"
     ]
    },
    {
     "name": "stdout",
     "output_type": "stream",
     "text": [
      "4/4 [==============================] - 0s 2ms/step\n",
      "-------------------------------------------------------------\n",
      " confusion_matrix for new data with deeper model \n",
      " [[ 0  0]\n",
      " [26 74]]\n",
      "only attack data -  (74, 20)\n",
      "final data  215 -  (15844, 20)\n",
      "-------------------------------------------------------------\n",
      "4/4 [==============================] - 0s 2ms/step\n",
      "-------------------------------------------------------------\n",
      " confusion_matrix for new data with deeper model \n",
      " [[ 0  0]\n",
      " [26 74]]\n",
      "only attack data -  (74, 20)\n",
      "final data  216 -  (15918, 20)\n",
      "-------------------------------------------------------------\n",
      "4/4 [==============================] - 0s 2ms/step\n",
      "-------------------------------------------------------------\n",
      " confusion_matrix for new data with deeper model \n",
      " [[ 0  0]\n",
      " [30 70]]\n",
      "only attack data -  (70, 20)\n",
      "final data  217 -  (15988, 20)\n",
      "-------------------------------------------------------------\n"
     ]
    },
    {
     "name": "stderr",
     "output_type": "stream",
     "text": [
      "/tmp/ipykernel_2630869/2681396701.py:27: FutureWarning: The frame.append method is deprecated and will be removed from pandas in a future version. Use pandas.concat instead.\n",
      "  final_Data = final_Data.append(data1, ignore_index = True)\n",
      "/tmp/ipykernel_2630869/2681396701.py:27: FutureWarning: The frame.append method is deprecated and will be removed from pandas in a future version. Use pandas.concat instead.\n",
      "  final_Data = final_Data.append(data1, ignore_index = True)\n",
      "/tmp/ipykernel_2630869/2681396701.py:27: FutureWarning: The frame.append method is deprecated and will be removed from pandas in a future version. Use pandas.concat instead.\n",
      "  final_Data = final_Data.append(data1, ignore_index = True)\n"
     ]
    },
    {
     "name": "stdout",
     "output_type": "stream",
     "text": [
      "4/4 [==============================] - 0s 2ms/step\n",
      "-------------------------------------------------------------\n",
      " confusion_matrix for new data with deeper model \n",
      " [[ 0  0]\n",
      " [21 79]]\n",
      "only attack data -  (79, 20)\n",
      "final data  218 -  (16067, 20)\n",
      "-------------------------------------------------------------\n",
      "4/4 [==============================] - 0s 2ms/step\n",
      "-------------------------------------------------------------\n",
      " confusion_matrix for new data with deeper model \n",
      " [[ 0  0]\n",
      " [26 74]]\n",
      "only attack data -  (74, 20)\n",
      "final data  219 -  (16141, 20)\n",
      "-------------------------------------------------------------\n",
      "4/4 [==============================] - 0s 2ms/step\n",
      "-------------------------------------------------------------\n",
      " confusion_matrix for new data with deeper model \n",
      " [[ 0  0]\n",
      " [29 71]]\n",
      "only attack data -  (71, 20)\n",
      "final data  220 -  (16212, 20)\n",
      "-------------------------------------------------------------\n"
     ]
    },
    {
     "name": "stderr",
     "output_type": "stream",
     "text": [
      "/tmp/ipykernel_2630869/2681396701.py:27: FutureWarning: The frame.append method is deprecated and will be removed from pandas in a future version. Use pandas.concat instead.\n",
      "  final_Data = final_Data.append(data1, ignore_index = True)\n",
      "/tmp/ipykernel_2630869/2681396701.py:27: FutureWarning: The frame.append method is deprecated and will be removed from pandas in a future version. Use pandas.concat instead.\n",
      "  final_Data = final_Data.append(data1, ignore_index = True)\n",
      "/tmp/ipykernel_2630869/2681396701.py:27: FutureWarning: The frame.append method is deprecated and will be removed from pandas in a future version. Use pandas.concat instead.\n",
      "  final_Data = final_Data.append(data1, ignore_index = True)\n"
     ]
    },
    {
     "name": "stdout",
     "output_type": "stream",
     "text": [
      "4/4 [==============================] - 0s 2ms/step\n",
      "-------------------------------------------------------------\n",
      " confusion_matrix for new data with deeper model \n",
      " [[ 0  0]\n",
      " [20 80]]\n",
      "only attack data -  (80, 20)\n",
      "final data  221 -  (16292, 20)\n",
      "-------------------------------------------------------------\n",
      "4/4 [==============================] - 0s 2ms/step\n",
      "-------------------------------------------------------------\n",
      " confusion_matrix for new data with deeper model \n",
      " [[ 0  0]\n",
      " [30 70]]\n",
      "only attack data -  (70, 20)\n",
      "final data  222 -  (16362, 20)\n",
      "-------------------------------------------------------------\n",
      "4/4 [==============================] - 0s 2ms/step\n"
     ]
    },
    {
     "name": "stderr",
     "output_type": "stream",
     "text": [
      "/tmp/ipykernel_2630869/2681396701.py:27: FutureWarning: The frame.append method is deprecated and will be removed from pandas in a future version. Use pandas.concat instead.\n",
      "  final_Data = final_Data.append(data1, ignore_index = True)\n",
      "/tmp/ipykernel_2630869/2681396701.py:27: FutureWarning: The frame.append method is deprecated and will be removed from pandas in a future version. Use pandas.concat instead.\n",
      "  final_Data = final_Data.append(data1, ignore_index = True)\n"
     ]
    },
    {
     "name": "stdout",
     "output_type": "stream",
     "text": [
      "-------------------------------------------------------------\n",
      " confusion_matrix for new data with deeper model \n",
      " [[ 0  0]\n",
      " [33 67]]\n",
      "only attack data -  (67, 20)\n",
      "final data  223 -  (16429, 20)\n",
      "-------------------------------------------------------------\n",
      "4/4 [==============================] - 0s 2ms/step\n",
      "-------------------------------------------------------------\n",
      " confusion_matrix for new data with deeper model \n",
      " [[ 0  0]\n",
      " [30 70]]\n",
      "only attack data -  (70, 20)\n",
      "final data  224 -  (16499, 20)\n",
      "-------------------------------------------------------------\n",
      "4/4 [==============================] - 0s 2ms/step\n"
     ]
    },
    {
     "name": "stderr",
     "output_type": "stream",
     "text": [
      "/tmp/ipykernel_2630869/2681396701.py:27: FutureWarning: The frame.append method is deprecated and will be removed from pandas in a future version. Use pandas.concat instead.\n",
      "  final_Data = final_Data.append(data1, ignore_index = True)\n",
      "/tmp/ipykernel_2630869/2681396701.py:27: FutureWarning: The frame.append method is deprecated and will be removed from pandas in a future version. Use pandas.concat instead.\n",
      "  final_Data = final_Data.append(data1, ignore_index = True)\n"
     ]
    },
    {
     "name": "stdout",
     "output_type": "stream",
     "text": [
      "-------------------------------------------------------------\n",
      " confusion_matrix for new data with deeper model \n",
      " [[ 0  0]\n",
      " [26 74]]\n",
      "only attack data -  (74, 20)\n",
      "final data  225 -  (16573, 20)\n",
      "-------------------------------------------------------------\n",
      "4/4 [==============================] - 0s 2ms/step\n",
      "-------------------------------------------------------------\n",
      " confusion_matrix for new data with deeper model \n",
      " [[ 0  0]\n",
      " [14 86]]\n",
      "only attack data -  (86, 20)\n",
      "final data  226 -  (16659, 20)\n",
      "-------------------------------------------------------------\n",
      "4/4 [==============================] - 0s 2ms/step\n"
     ]
    },
    {
     "name": "stderr",
     "output_type": "stream",
     "text": [
      "/tmp/ipykernel_2630869/2681396701.py:27: FutureWarning: The frame.append method is deprecated and will be removed from pandas in a future version. Use pandas.concat instead.\n",
      "  final_Data = final_Data.append(data1, ignore_index = True)\n",
      "/tmp/ipykernel_2630869/2681396701.py:27: FutureWarning: The frame.append method is deprecated and will be removed from pandas in a future version. Use pandas.concat instead.\n",
      "  final_Data = final_Data.append(data1, ignore_index = True)\n"
     ]
    },
    {
     "name": "stdout",
     "output_type": "stream",
     "text": [
      "-------------------------------------------------------------\n",
      " confusion_matrix for new data with deeper model \n",
      " [[ 0  0]\n",
      " [25 75]]\n",
      "only attack data -  (75, 20)\n",
      "final data  227 -  (16734, 20)\n",
      "-------------------------------------------------------------\n",
      "4/4 [==============================] - 0s 2ms/step\n",
      "-------------------------------------------------------------\n",
      " confusion_matrix for new data with deeper model \n",
      " [[ 0  0]\n",
      " [20 80]]\n",
      "only attack data -  (80, 20)\n",
      "final data  228 -  (16814, 20)\n",
      "-------------------------------------------------------------\n",
      "4/4 [==============================] - 0s 2ms/step\n"
     ]
    },
    {
     "name": "stderr",
     "output_type": "stream",
     "text": [
      "/tmp/ipykernel_2630869/2681396701.py:27: FutureWarning: The frame.append method is deprecated and will be removed from pandas in a future version. Use pandas.concat instead.\n",
      "  final_Data = final_Data.append(data1, ignore_index = True)\n",
      "/tmp/ipykernel_2630869/2681396701.py:27: FutureWarning: The frame.append method is deprecated and will be removed from pandas in a future version. Use pandas.concat instead.\n",
      "  final_Data = final_Data.append(data1, ignore_index = True)\n"
     ]
    },
    {
     "name": "stdout",
     "output_type": "stream",
     "text": [
      "-------------------------------------------------------------\n",
      " confusion_matrix for new data with deeper model \n",
      " [[ 0  0]\n",
      " [27 73]]\n",
      "only attack data -  (73, 20)\n",
      "final data  229 -  (16887, 20)\n",
      "-------------------------------------------------------------\n",
      "4/4 [==============================] - 0s 2ms/step\n",
      "-------------------------------------------------------------\n",
      " confusion_matrix for new data with deeper model \n",
      " [[ 0  0]\n",
      " [31 69]]\n",
      "only attack data -  (69, 20)\n",
      "final data  230 -  (16956, 20)\n",
      "-------------------------------------------------------------\n"
     ]
    },
    {
     "name": "stderr",
     "output_type": "stream",
     "text": [
      "/tmp/ipykernel_2630869/2681396701.py:27: FutureWarning: The frame.append method is deprecated and will be removed from pandas in a future version. Use pandas.concat instead.\n",
      "  final_Data = final_Data.append(data1, ignore_index = True)\n",
      "/tmp/ipykernel_2630869/2681396701.py:27: FutureWarning: The frame.append method is deprecated and will be removed from pandas in a future version. Use pandas.concat instead.\n",
      "  final_Data = final_Data.append(data1, ignore_index = True)\n"
     ]
    },
    {
     "name": "stdout",
     "output_type": "stream",
     "text": [
      "4/4 [==============================] - 0s 2ms/step\n",
      "-------------------------------------------------------------\n",
      " confusion_matrix for new data with deeper model \n",
      " [[ 0  0]\n",
      " [25 75]]\n",
      "only attack data -  (75, 20)\n",
      "final data  231 -  (17031, 20)\n",
      "-------------------------------------------------------------\n",
      "4/4 [==============================] - 0s 2ms/step\n",
      "-------------------------------------------------------------\n",
      " confusion_matrix for new data with deeper model \n",
      " [[ 0  0]\n",
      " [28 72]]\n",
      "only attack data -  (72, 20)\n",
      "final data  232 -  (17103, 20)\n",
      "-------------------------------------------------------------\n"
     ]
    },
    {
     "name": "stderr",
     "output_type": "stream",
     "text": [
      "/tmp/ipykernel_2630869/2681396701.py:27: FutureWarning: The frame.append method is deprecated and will be removed from pandas in a future version. Use pandas.concat instead.\n",
      "  final_Data = final_Data.append(data1, ignore_index = True)\n",
      "/tmp/ipykernel_2630869/2681396701.py:27: FutureWarning: The frame.append method is deprecated and will be removed from pandas in a future version. Use pandas.concat instead.\n",
      "  final_Data = final_Data.append(data1, ignore_index = True)\n"
     ]
    },
    {
     "name": "stdout",
     "output_type": "stream",
     "text": [
      "4/4 [==============================] - 0s 2ms/step\n",
      "-------------------------------------------------------------\n",
      " confusion_matrix for new data with deeper model \n",
      " [[ 0  0]\n",
      " [26 74]]\n",
      "only attack data -  (74, 20)\n",
      "final data  233 -  (17177, 20)\n",
      "-------------------------------------------------------------\n",
      "4/4 [==============================] - 0s 3ms/step\n",
      "-------------------------------------------------------------\n",
      " confusion_matrix for new data with deeper model \n",
      " [[ 0  0]\n",
      " [34 66]]\n",
      "only attack data -  (66, 20)\n",
      "final data  234 -  (17243, 20)\n",
      "-------------------------------------------------------------\n"
     ]
    },
    {
     "name": "stderr",
     "output_type": "stream",
     "text": [
      "/tmp/ipykernel_2630869/2681396701.py:27: FutureWarning: The frame.append method is deprecated and will be removed from pandas in a future version. Use pandas.concat instead.\n",
      "  final_Data = final_Data.append(data1, ignore_index = True)\n",
      "/tmp/ipykernel_2630869/2681396701.py:27: FutureWarning: The frame.append method is deprecated and will be removed from pandas in a future version. Use pandas.concat instead.\n",
      "  final_Data = final_Data.append(data1, ignore_index = True)\n"
     ]
    },
    {
     "name": "stdout",
     "output_type": "stream",
     "text": [
      "4/4 [==============================] - 0s 3ms/step\n",
      "-------------------------------------------------------------\n",
      " confusion_matrix for new data with deeper model \n",
      " [[ 0  0]\n",
      " [25 75]]\n",
      "only attack data -  (75, 20)\n",
      "final data  235 -  (17318, 20)\n",
      "-------------------------------------------------------------\n",
      "4/4 [==============================] - 0s 2ms/step\n",
      "-------------------------------------------------------------\n",
      " confusion_matrix for new data with deeper model \n",
      " [[ 0  0]\n",
      " [23 77]]\n",
      "only attack data -  (77, 20)\n",
      "final data  236 -  (17395, 20)\n",
      "-------------------------------------------------------------\n"
     ]
    },
    {
     "name": "stderr",
     "output_type": "stream",
     "text": [
      "/tmp/ipykernel_2630869/2681396701.py:27: FutureWarning: The frame.append method is deprecated and will be removed from pandas in a future version. Use pandas.concat instead.\n",
      "  final_Data = final_Data.append(data1, ignore_index = True)\n",
      "/tmp/ipykernel_2630869/2681396701.py:27: FutureWarning: The frame.append method is deprecated and will be removed from pandas in a future version. Use pandas.concat instead.\n",
      "  final_Data = final_Data.append(data1, ignore_index = True)\n"
     ]
    },
    {
     "name": "stdout",
     "output_type": "stream",
     "text": [
      "4/4 [==============================] - 0s 2ms/step\n",
      "-------------------------------------------------------------\n",
      " confusion_matrix for new data with deeper model \n",
      " [[ 0  0]\n",
      " [32 68]]\n",
      "only attack data -  (68, 20)\n",
      "final data  237 -  (17463, 20)\n",
      "-------------------------------------------------------------\n",
      "4/4 [==============================] - 0s 2ms/step\n",
      "-------------------------------------------------------------\n",
      " confusion_matrix for new data with deeper model \n",
      " [[ 0  0]\n",
      " [28 72]]\n",
      "only attack data -  (72, 20)\n",
      "final data  238 -  (17535, 20)\n",
      "-------------------------------------------------------------\n",
      "4/4 [==============================] - 0s 2ms/step\n",
      "-------------------------------------------------------------\n",
      " confusion_matrix for new data with deeper model \n",
      " [[ 0  0]\n",
      " [26 74]]\n",
      "only attack data -  (74, 20)\n",
      "final data  239 -  (17609, 20)\n",
      "-------------------------------------------------------------\n"
     ]
    },
    {
     "name": "stderr",
     "output_type": "stream",
     "text": [
      "/tmp/ipykernel_2630869/2681396701.py:27: FutureWarning: The frame.append method is deprecated and will be removed from pandas in a future version. Use pandas.concat instead.\n",
      "  final_Data = final_Data.append(data1, ignore_index = True)\n",
      "/tmp/ipykernel_2630869/2681396701.py:27: FutureWarning: The frame.append method is deprecated and will be removed from pandas in a future version. Use pandas.concat instead.\n",
      "  final_Data = final_Data.append(data1, ignore_index = True)\n",
      "/tmp/ipykernel_2630869/2681396701.py:27: FutureWarning: The frame.append method is deprecated and will be removed from pandas in a future version. Use pandas.concat instead.\n",
      "  final_Data = final_Data.append(data1, ignore_index = True)\n"
     ]
    },
    {
     "name": "stdout",
     "output_type": "stream",
     "text": [
      "4/4 [==============================] - 0s 2ms/step\n",
      "-------------------------------------------------------------\n",
      " confusion_matrix for new data with deeper model \n",
      " [[ 0  0]\n",
      " [22 78]]\n",
      "only attack data -  (78, 20)\n",
      "final data  240 -  (17687, 20)\n",
      "-------------------------------------------------------------\n",
      "4/4 [==============================] - 0s 2ms/step\n",
      "-------------------------------------------------------------\n",
      " confusion_matrix for new data with deeper model \n",
      " [[ 0  0]\n",
      " [25 75]]\n",
      "only attack data -  (75, 20)\n",
      "final data  241 -  (17762, 20)\n",
      "-------------------------------------------------------------\n",
      "4/4 [==============================] - 0s 2ms/step\n"
     ]
    },
    {
     "name": "stderr",
     "output_type": "stream",
     "text": [
      "/tmp/ipykernel_2630869/2681396701.py:27: FutureWarning: The frame.append method is deprecated and will be removed from pandas in a future version. Use pandas.concat instead.\n",
      "  final_Data = final_Data.append(data1, ignore_index = True)\n",
      "/tmp/ipykernel_2630869/2681396701.py:27: FutureWarning: The frame.append method is deprecated and will be removed from pandas in a future version. Use pandas.concat instead.\n",
      "  final_Data = final_Data.append(data1, ignore_index = True)\n"
     ]
    },
    {
     "name": "stdout",
     "output_type": "stream",
     "text": [
      "-------------------------------------------------------------\n",
      " confusion_matrix for new data with deeper model \n",
      " [[ 0  0]\n",
      " [20 80]]\n",
      "only attack data -  (80, 20)\n",
      "final data  242 -  (17842, 20)\n",
      "-------------------------------------------------------------\n",
      "4/4 [==============================] - 0s 3ms/step\n",
      "-------------------------------------------------------------\n",
      " confusion_matrix for new data with deeper model \n",
      " [[ 0  0]\n",
      " [20 80]]\n",
      "only attack data -  (80, 20)\n",
      "final data  243 -  (17922, 20)\n",
      "-------------------------------------------------------------\n"
     ]
    },
    {
     "name": "stderr",
     "output_type": "stream",
     "text": [
      "/tmp/ipykernel_2630869/2681396701.py:27: FutureWarning: The frame.append method is deprecated and will be removed from pandas in a future version. Use pandas.concat instead.\n",
      "  final_Data = final_Data.append(data1, ignore_index = True)\n",
      "/tmp/ipykernel_2630869/2681396701.py:27: FutureWarning: The frame.append method is deprecated and will be removed from pandas in a future version. Use pandas.concat instead.\n",
      "  final_Data = final_Data.append(data1, ignore_index = True)\n"
     ]
    },
    {
     "name": "stdout",
     "output_type": "stream",
     "text": [
      "4/4 [==============================] - 0s 2ms/step\n",
      "-------------------------------------------------------------\n",
      " confusion_matrix for new data with deeper model \n",
      " [[ 0  0]\n",
      " [26 74]]\n",
      "only attack data -  (74, 20)\n",
      "final data  244 -  (17996, 20)\n",
      "-------------------------------------------------------------\n",
      "4/4 [==============================] - 0s 2ms/step\n",
      "-------------------------------------------------------------\n",
      " confusion_matrix for new data with deeper model \n",
      " [[ 0  0]\n",
      " [28 72]]\n",
      "only attack data -  (72, 20)\n",
      "final data  245 -  (18068, 20)\n",
      "-------------------------------------------------------------\n"
     ]
    },
    {
     "name": "stderr",
     "output_type": "stream",
     "text": [
      "/tmp/ipykernel_2630869/2681396701.py:27: FutureWarning: The frame.append method is deprecated and will be removed from pandas in a future version. Use pandas.concat instead.\n",
      "  final_Data = final_Data.append(data1, ignore_index = True)\n",
      "/tmp/ipykernel_2630869/2681396701.py:27: FutureWarning: The frame.append method is deprecated and will be removed from pandas in a future version. Use pandas.concat instead.\n",
      "  final_Data = final_Data.append(data1, ignore_index = True)\n"
     ]
    },
    {
     "name": "stdout",
     "output_type": "stream",
     "text": [
      "4/4 [==============================] - 0s 2ms/step\n",
      "-------------------------------------------------------------\n",
      " confusion_matrix for new data with deeper model \n",
      " [[ 0  0]\n",
      " [27 73]]\n",
      "only attack data -  (73, 20)\n",
      "final data  246 -  (18141, 20)\n",
      "-------------------------------------------------------------\n",
      "4/4 [==============================] - 0s 2ms/step\n",
      "-------------------------------------------------------------\n",
      " confusion_matrix for new data with deeper model \n",
      " [[ 0  0]\n",
      " [28 72]]\n",
      "only attack data -  (72, 20)\n",
      "final data  247 -  (18213, 20)\n",
      "-------------------------------------------------------------\n"
     ]
    },
    {
     "name": "stderr",
     "output_type": "stream",
     "text": [
      "/tmp/ipykernel_2630869/2681396701.py:27: FutureWarning: The frame.append method is deprecated and will be removed from pandas in a future version. Use pandas.concat instead.\n",
      "  final_Data = final_Data.append(data1, ignore_index = True)\n",
      "/tmp/ipykernel_2630869/2681396701.py:27: FutureWarning: The frame.append method is deprecated and will be removed from pandas in a future version. Use pandas.concat instead.\n",
      "  final_Data = final_Data.append(data1, ignore_index = True)\n"
     ]
    },
    {
     "name": "stdout",
     "output_type": "stream",
     "text": [
      "4/4 [==============================] - 0s 2ms/step\n",
      "-------------------------------------------------------------\n",
      " confusion_matrix for new data with deeper model \n",
      " [[ 0  0]\n",
      " [24 76]]\n",
      "only attack data -  (76, 20)\n",
      "final data  248 -  (18289, 20)\n",
      "-------------------------------------------------------------\n",
      "4/4 [==============================] - 0s 2ms/step\n",
      "-------------------------------------------------------------\n",
      " confusion_matrix for new data with deeper model \n",
      " [[ 0  0]\n",
      " [35 65]]\n",
      "only attack data -  (65, 20)\n",
      "final data  249 -  (18354, 20)\n",
      "-------------------------------------------------------------\n"
     ]
    },
    {
     "name": "stderr",
     "output_type": "stream",
     "text": [
      "/tmp/ipykernel_2630869/2681396701.py:27: FutureWarning: The frame.append method is deprecated and will be removed from pandas in a future version. Use pandas.concat instead.\n",
      "  final_Data = final_Data.append(data1, ignore_index = True)\n",
      "/tmp/ipykernel_2630869/2681396701.py:27: FutureWarning: The frame.append method is deprecated and will be removed from pandas in a future version. Use pandas.concat instead.\n",
      "  final_Data = final_Data.append(data1, ignore_index = True)\n"
     ]
    },
    {
     "name": "stdout",
     "output_type": "stream",
     "text": [
      "4/4 [==============================] - 0s 2ms/step\n",
      "-------------------------------------------------------------\n",
      " confusion_matrix for new data with deeper model \n",
      " [[ 0  0]\n",
      " [25 75]]\n",
      "only attack data -  (75, 20)\n",
      "final data  250 -  (18429, 20)\n",
      "-------------------------------------------------------------\n",
      "4/4 [==============================] - 0s 8ms/step\n",
      "-------------------------------------------------------------\n",
      " confusion_matrix for new data with deeper model \n",
      " [[ 0  0]\n",
      " [20 80]]\n",
      "only attack data -  (80, 20)\n",
      "final data  251 -  (18509, 20)\n",
      "-------------------------------------------------------------\n"
     ]
    },
    {
     "name": "stderr",
     "output_type": "stream",
     "text": [
      "/tmp/ipykernel_2630869/2681396701.py:27: FutureWarning: The frame.append method is deprecated and will be removed from pandas in a future version. Use pandas.concat instead.\n",
      "  final_Data = final_Data.append(data1, ignore_index = True)\n",
      "/tmp/ipykernel_2630869/2681396701.py:27: FutureWarning: The frame.append method is deprecated and will be removed from pandas in a future version. Use pandas.concat instead.\n",
      "  final_Data = final_Data.append(data1, ignore_index = True)\n"
     ]
    },
    {
     "name": "stdout",
     "output_type": "stream",
     "text": [
      "4/4 [==============================] - 0s 2ms/step\n",
      "-------------------------------------------------------------\n",
      " confusion_matrix for new data with deeper model \n",
      " [[ 0  0]\n",
      " [28 72]]\n",
      "only attack data -  (72, 20)\n",
      "final data  252 -  (18581, 20)\n",
      "-------------------------------------------------------------\n",
      "4/4 [==============================] - 0s 2ms/step\n",
      "-------------------------------------------------------------\n",
      " confusion_matrix for new data with deeper model \n",
      " [[ 0  0]\n",
      " [35 65]]\n",
      "only attack data -  (65, 20)\n",
      "final data  253 -  (18646, 20)\n",
      "-------------------------------------------------------------\n"
     ]
    },
    {
     "name": "stderr",
     "output_type": "stream",
     "text": [
      "/tmp/ipykernel_2630869/2681396701.py:27: FutureWarning: The frame.append method is deprecated and will be removed from pandas in a future version. Use pandas.concat instead.\n",
      "  final_Data = final_Data.append(data1, ignore_index = True)\n",
      "/tmp/ipykernel_2630869/2681396701.py:27: FutureWarning: The frame.append method is deprecated and will be removed from pandas in a future version. Use pandas.concat instead.\n",
      "  final_Data = final_Data.append(data1, ignore_index = True)\n"
     ]
    },
    {
     "name": "stdout",
     "output_type": "stream",
     "text": [
      "4/4 [==============================] - 0s 2ms/step\n",
      "-------------------------------------------------------------\n",
      " confusion_matrix for new data with deeper model \n",
      " [[ 0  0]\n",
      " [26 74]]\n",
      "only attack data -  (74, 20)\n",
      "final data  254 -  (18720, 20)\n",
      "-------------------------------------------------------------\n",
      "4/4 [==============================] - 0s 2ms/step\n",
      "-------------------------------------------------------------\n",
      " confusion_matrix for new data with deeper model \n",
      " [[ 0  0]\n",
      " [20 80]]\n",
      "only attack data -  (80, 20)\n",
      "final data  255 -  (18800, 20)\n",
      "-------------------------------------------------------------\n"
     ]
    },
    {
     "name": "stderr",
     "output_type": "stream",
     "text": [
      "/tmp/ipykernel_2630869/2681396701.py:27: FutureWarning: The frame.append method is deprecated and will be removed from pandas in a future version. Use pandas.concat instead.\n",
      "  final_Data = final_Data.append(data1, ignore_index = True)\n",
      "/tmp/ipykernel_2630869/2681396701.py:27: FutureWarning: The frame.append method is deprecated and will be removed from pandas in a future version. Use pandas.concat instead.\n",
      "  final_Data = final_Data.append(data1, ignore_index = True)\n"
     ]
    },
    {
     "name": "stdout",
     "output_type": "stream",
     "text": [
      "4/4 [==============================] - 0s 2ms/step\n",
      "-------------------------------------------------------------\n",
      " confusion_matrix for new data with deeper model \n",
      " [[ 0  0]\n",
      " [21 79]]\n",
      "only attack data -  (79, 20)\n",
      "final data  256 -  (18879, 20)\n",
      "-------------------------------------------------------------\n",
      "4/4 [==============================] - 0s 2ms/step\n",
      "-------------------------------------------------------------\n",
      " confusion_matrix for new data with deeper model \n",
      " [[ 0  0]\n",
      " [21 79]]\n",
      "only attack data -  (79, 20)\n",
      "final data  257 -  (18958, 20)\n",
      "-------------------------------------------------------------\n"
     ]
    },
    {
     "name": "stderr",
     "output_type": "stream",
     "text": [
      "/tmp/ipykernel_2630869/2681396701.py:27: FutureWarning: The frame.append method is deprecated and will be removed from pandas in a future version. Use pandas.concat instead.\n",
      "  final_Data = final_Data.append(data1, ignore_index = True)\n",
      "/tmp/ipykernel_2630869/2681396701.py:27: FutureWarning: The frame.append method is deprecated and will be removed from pandas in a future version. Use pandas.concat instead.\n",
      "  final_Data = final_Data.append(data1, ignore_index = True)\n"
     ]
    },
    {
     "name": "stdout",
     "output_type": "stream",
     "text": [
      "4/4 [==============================] - 0s 2ms/step\n",
      "-------------------------------------------------------------\n",
      " confusion_matrix for new data with deeper model \n",
      " [[ 0  0]\n",
      " [29 71]]\n",
      "only attack data -  (71, 20)\n",
      "final data  258 -  (19029, 20)\n",
      "-------------------------------------------------------------\n",
      "1.0    19029\n",
      "Name: Label, dtype: int64\n",
      "---------------------------------------------------------\n"
     ]
    },
    {
     "name": "stderr",
     "output_type": "stream",
     "text": [
      "/tmp/ipykernel_2630869/2681396701.py:27: FutureWarning: The frame.append method is deprecated and will be removed from pandas in a future version. Use pandas.concat instead.\n",
      "  final_Data = final_Data.append(data1, ignore_index = True)\n"
     ]
    }
   ],
   "source": [
    "it =0\n",
    "\n",
    "while(final_Data.shape[0]<19000):\n",
    "    it+=1\n",
    "    z = Variable(torch.randn(100, z_dim)).cpu() \n",
    "    with torch.no_grad():\n",
    "        data = G(z)\n",
    "    data = data.cpu().numpy() \n",
    "    fake = pd.DataFrame(data)\n",
    "        \n",
    "    newy = np.ones((fake.shape[0],)) \n",
    "    #this is the model which changes \n",
    "    new_pred = loaded_model.predict(fake)\n",
    "    new_pred = (new_pred > 0.5)\n",
    "    cm = confusion_matrix(newy,new_pred)\n",
    "    print(\"-------------------------------------------------------------\") \n",
    "    print (\" confusion_matrix for new data with deeper model \\n\" ,cm)\n",
    "    \n",
    "    combined_data = np.concatenate((fake,new_pred),axis=1) \n",
    "    combined_data = pd.DataFrame(combined_data)\n",
    "    combined_data.columns = ['hour','minute','second','duration','source_ip','dest_ip','source_port','dest_port','protocol',\n",
    "                'flag1','flag2','flag3','flag4','flag5','flag6','fwd','stos','pkt','byt', 'Label']\n",
    "    \n",
    "    criteria1 = combined_data['Label'] == 1 #just attack data \n",
    "    data1 = combined_data[criteria1]\n",
    "    print(\"only attack data - \",data1.shape) \n",
    "    final_Data = final_Data.append(data1, ignore_index = True) \n",
    "    print(\"final data \", it, \"- \",final_Data.shape) \n",
    "    print(\"-------------------------------------------------------------\") \n",
    "\n",
    "print(final_Data['Label'].value_counts())\n",
    "print(\"---------------------------------------------------------\")\n",
    "df2 = final_Data.sample(n=12599, replace=False, random_state=1)\n",
    "df3 = final_Data.sample(n=19000, replace=False, random_state=1)\n",
    "final = pd.concat([mydt,df2], ignore_index = True,axis=0)\n",
    "final['Label'].value_counts()\n",
    "df3.to_csv(\"../dataset/UGR/generated_bot.csv\", index = False, header = True)\n",
    "final.to_csv(\"../dataset/UGR/balanced_data_bot.csv\", index = False, header = True)"
   ]
  },
  {
   "cell_type": "code",
   "execution_count": null,
   "id": "18e175cf",
   "metadata": {},
   "outputs": [],
   "source": []
  }
 ],
 "metadata": {
  "kernelspec": {
   "display_name": "Python 3 (ipykernel)",
   "language": "python",
   "name": "python3"
  },
  "language_info": {
   "codemirror_mode": {
    "name": "ipython",
    "version": 3
   },
   "file_extension": ".py",
   "mimetype": "text/x-python",
   "name": "python",
   "nbconvert_exporter": "python",
   "pygments_lexer": "ipython3",
   "version": "3.8.10"
  }
 },
 "nbformat": 4,
 "nbformat_minor": 5
}
