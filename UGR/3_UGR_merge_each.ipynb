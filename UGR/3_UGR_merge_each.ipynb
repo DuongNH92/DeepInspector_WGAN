{
 "cells": [
  {
   "cell_type": "code",
   "execution_count": 2,
   "id": "e82a6e3d",
   "metadata": {},
   "outputs": [
    {
     "name": "stdout",
     "output_type": "stream",
     "text": [
      "0    14029\n",
      "1     3165\n",
      "Name: Label, dtype: int64\n",
      "0    14029\n",
      "1     1430\n",
      "Name: Label, dtype: int64\n",
      "Balanced dataset:\n",
      "0.0    14029\n",
      "1.0    14029\n",
      "Name: Label, dtype: int64\n",
      "-----------------------------------------\n",
      "1.0    14029\n",
      "0.0    14029\n",
      "Name: Label, dtype: int64\n",
      "-----------------------------------------\n"
     ]
    }
   ],
   "source": [
    "import pandas as pd \n",
    "import numpy as np  \n",
    "from sklearn.utils import shuffle\n",
    "\n",
    "dt11 = pd.read_csv(\"../dataset/UGR/traindos.csv\")\n",
    "dt12 = pd.read_csv(\"../dataset/UGR/generated_dos.csv\")\n",
    "dt21 = pd.read_csv(\"../dataset/UGR/trainbot.csv\")\n",
    "dt22 = pd.read_csv(\"../dataset/UGR/generated_bot.csv\")\n",
    "\n",
    "print(dt11['Label'].value_counts())\n",
    "print(dt21['Label'].value_counts())\n",
    "\n",
    "a1 = dt12.sample(n=10864, replace=False, random_state=1)\n",
    "a2 = dt22.sample(n=12599, replace=False, random_state=1)\n",
    "\n",
    "# Merge data\n",
    "data1 = pd.concat([dt11,a1],ignore_index = True,axis=0)\n",
    "data_balanced1 = shuffle(data1).reset_index(drop=True)\n",
    "#data_balanced1.to_csv(\"../dataset/UGR/balanced_dos.csv\", index=False, header = True)\n",
    "\n",
    "data2 = pd.concat([dt21,a2],ignore_index = True,axis=0)\n",
    "data_balanced2 = shuffle(data2).reset_index(drop=True)\n",
    "data_balanced2.to_csv(\"../dataset/UGR/balanced_bot.csv\", index=False, header = True)\n",
    "\n",
    "\n",
    "print(\"Balanced dataset:\")\n",
    "print(data_balanced1['Label'].value_counts())\n",
    "print(\"-----------------------------------------\")\n",
    "print(data_balanced2['Label'].value_counts())\n",
    "print(\"-----------------------------------------\")"
   ]
  },
  {
   "cell_type": "code",
   "execution_count": null,
   "id": "7a422c2e",
   "metadata": {},
   "outputs": [],
   "source": []
  }
 ],
 "metadata": {
  "kernelspec": {
   "display_name": "Python 3 (ipykernel)",
   "language": "python",
   "name": "python3"
  },
  "language_info": {
   "codemirror_mode": {
    "name": "ipython",
    "version": 3
   },
   "file_extension": ".py",
   "mimetype": "text/x-python",
   "name": "python",
   "nbconvert_exporter": "python",
   "pygments_lexer": "ipython3",
   "version": "3.8.10"
  }
 },
 "nbformat": 4,
 "nbformat_minor": 5
}
