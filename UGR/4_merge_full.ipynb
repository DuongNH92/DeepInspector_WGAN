{
 "cells": [
  {
   "cell_type": "code",
   "execution_count": 1,
   "id": "bcfe9140",
   "metadata": {},
   "outputs": [
    {
     "name": "stdout",
     "output_type": "stream",
     "text": [
      "Label converting...\n",
      "Completed!\n"
     ]
    },
    {
     "name": "stderr",
     "output_type": "stream",
     "text": [
      "/tmp/ipykernel_459819/3925895688.py:21: SettingWithCopyWarning: \n",
      "A value is trying to be set on a copy of a slice from a DataFrame.\n",
      "Try using .loc[row_indexer,col_indexer] = value instead\n",
      "\n",
      "See the caveats in the documentation: https://pandas.pydata.org/pandas-docs/stable/user_guide/indexing.html#returning-a-view-versus-a-copy\n",
      "  dt1['Label'] = dt1['Label'].map(label).fillna(dt1['Label'])\n",
      "/tmp/ipykernel_459819/3925895688.py:24: SettingWithCopyWarning: \n",
      "A value is trying to be set on a copy of a slice from a DataFrame.\n",
      "Try using .loc[row_indexer,col_indexer] = value instead\n",
      "\n",
      "See the caveats in the documentation: https://pandas.pydata.org/pandas-docs/stable/user_guide/indexing.html#returning-a-view-versus-a-copy\n",
      "  dt2['Label'] = dt2['Label'].map(label2).fillna(dt2['Label'])\n",
      "/tmp/ipykernel_459819/3925895688.py:27: SettingWithCopyWarning: \n",
      "A value is trying to be set on a copy of a slice from a DataFrame.\n",
      "Try using .loc[row_indexer,col_indexer] = value instead\n",
      "\n",
      "See the caveats in the documentation: https://pandas.pydata.org/pandas-docs/stable/user_guide/indexing.html#returning-a-view-versus-a-copy\n",
      "  dt3['Label'] = dt3['Label'].map(label3).fillna(dt3['Label'])\n",
      "/tmp/ipykernel_459819/3925895688.py:30: SettingWithCopyWarning: \n",
      "A value is trying to be set on a copy of a slice from a DataFrame.\n",
      "Try using .loc[row_indexer,col_indexer] = value instead\n",
      "\n",
      "See the caveats in the documentation: https://pandas.pydata.org/pandas-docs/stable/user_guide/indexing.html#returning-a-view-versus-a-copy\n",
      "  dt4['Label'] = dt4['Label'].map(label4).fillna(dt4['Label'])\n"
     ]
    }
   ],
   "source": [
    "# Read original data\n",
    "import numpy as np\n",
    "import pandas as pd\n",
    "from sklearn.utils import shuffle\n",
    "\n",
    "dt = pd.read_csv(\"../dataset/UGR/train_ori.csv\")\n",
    "dt1t = pd.read_csv(\"../dataset/UGR/test.csv\")\n",
    "dt1a = pd.read_csv(\"../dataset/UGR/balanced_dos.csv\")\n",
    "dt2a = pd.read_csv(\"../dataset/UGR/balanced_bot.csv\")\n",
    "dt3a = pd.read_csv(\"../dataset/UGR/balanced_data_spam.csv\")\n",
    "dt4a = pd.read_csv(\"../dataset/UGR/balanced_data_scan.csv\")\n",
    "\n",
    "dt1 = dt1a[dt1a['Label']==1]\n",
    "dt2 = dt2a[dt2a['Label']==1]\n",
    "dt3 = dt3a[dt3a['Label']==1]\n",
    "dt4 = dt4a[dt4a['Label']==1]\n",
    "\n",
    "# Convert label\n",
    "print(\"Label converting...\")\n",
    "label = {1: 'dos'}\n",
    "dt1['Label'] = dt1['Label'].map(label).fillna(dt1['Label'])\n",
    "\n",
    "label2 = {1: 'nerisbotnet'}\n",
    "dt2['Label'] = dt2['Label'].map(label2).fillna(dt2['Label'])\n",
    "\n",
    "label3 = {1: 'anomaly-spam'}\n",
    "dt3['Label'] = dt3['Label'].map(label3).fillna(dt3['Label'])\n",
    "\n",
    "label4 = {1: 'anomaly-sshscan'}\n",
    "dt4['Label'] = dt4['Label'].map(label4).fillna(dt4['Label'])\n",
    "print('Completed!')"
   ]
  },
  {
   "cell_type": "code",
   "execution_count": 2,
   "id": "ea72aaa5",
   "metadata": {},
   "outputs": [
    {
     "name": "stdout",
     "output_type": "stream",
     "text": [
      "scan44             14093\n",
      "background         14029\n",
      "scan11             14016\n",
      "blacklist          14013\n",
      "dos                 3165\n",
      "nerisbotnet         1430\n",
      "anomaly-spam         266\n",
      "anomaly-sshscan       75\n",
      "Name: Label, dtype: int64\n",
      "blacklist          5987\n",
      "scan11             5984\n",
      "background         5971\n",
      "scan44             5907\n",
      "dos                1335\n",
      "nerisbotnet         570\n",
      "anomaly-spam        134\n",
      "anomaly-sshscan      34\n",
      "Name: Label, dtype: int64\n",
      "dos    14029\n",
      "Name: Label, dtype: int64\n",
      "nerisbotnet    14029\n",
      "Name: Label, dtype: int64\n",
      "anomaly-spam    14029\n",
      "Name: Label, dtype: int64\n",
      "anomaly-sshscan    14029\n",
      "Name: Label, dtype: int64\n"
     ]
    }
   ],
   "source": [
    "print(dt['Label'].value_counts())\n",
    "print(dt1t['Label'].value_counts())\n",
    "print(dt1['Label'].value_counts())\n",
    "print(dt2['Label'].value_counts())\n",
    "print(dt3['Label'].value_counts())\n",
    "print(dt4['Label'].value_counts())"
   ]
  },
  {
   "cell_type": "code",
   "execution_count": 3,
   "id": "e82a6e3d",
   "metadata": {},
   "outputs": [],
   "source": [
    "a1 = dt1.sample(n=10864, replace=False, random_state=1)\n",
    "a2 = dt2.sample(n=12599, replace=False, random_state=1)\n",
    "a3 = dt3.sample(n=13763, replace=False, random_state=1)\n",
    "a4 = dt4.sample(n=13954, replace=False, random_state=1)"
   ]
  },
  {
   "cell_type": "code",
   "execution_count": 4,
   "id": "dd0003e7",
   "metadata": {},
   "outputs": [],
   "source": [
    "#New\n",
    "a1f = dt[dt['Label']==\"dos\"]\n",
    "a2f = dt[dt['Label']==\"nerisbotnet\"]\n",
    "a3f = dt[dt['Label']==\"anomaly-spam\"]\n",
    "a4f = dt[dt['Label']==\"anomaly-sshscan\"]\n",
    "a5 = dt[dt['Label']==\"blacklist\"]\n",
    "a6 = dt[dt['Label']==\"scan11\"]\n",
    "a7 = dt[dt['Label']==\"scan44\"]\n",
    "n = dt[dt['Label']==\"background\"]\n",
    "n2 = dt1t[dt1t['Label']==\"background\"]"
   ]
  },
  {
   "cell_type": "code",
   "execution_count": 5,
   "id": "b5bc033e",
   "metadata": {},
   "outputs": [],
   "source": [
    "# New\n",
    "a80 = n.sample(n=8939, replace=False, random_state=1)\n",
    "a81 = n2.sample(n=5090, replace=False, random_state=1)"
   ]
  },
  {
   "cell_type": "code",
   "execution_count": 6,
   "id": "ebdac6a5",
   "metadata": {
    "scrolled": true
   },
   "outputs": [
    {
     "name": "stdout",
     "output_type": "stream",
     "text": [
      "Original dataset:\n",
      "scan44             14093\n",
      "background         14029\n",
      "scan11             14016\n",
      "blacklist          14013\n",
      "dos                 3165\n",
      "nerisbotnet         1430\n",
      "anomaly-spam         266\n",
      "anomaly-sshscan       75\n",
      "Name: Label, dtype: int64\n",
      "-----------------------------------------\n",
      "Balanced dataset:\n",
      "scan44             14093\n",
      "anomaly-spam       14029\n",
      "anomaly-sshscan    14029\n",
      "nerisbotnet        14029\n",
      "background         14029\n",
      "dos                14029\n",
      "scan11             14016\n",
      "blacklist          14013\n",
      "Name: Label, dtype: int64\n",
      "-----------------------------------------\n"
     ]
    }
   ],
   "source": [
    "# Merge data\n",
    "data = pd.concat([a1,a2,a3,a4,a5,a6,a7,a80,a81,a1f,a2f,a3f,a4f],ignore_index = True,axis=0)\n",
    "data_balanced = shuffle(data).reset_index(drop=True)\n",
    "data_balanced.to_csv(\"../dataset/UGR/trainnew.csv\", index=False, header = True)\n",
    "print(\"Original dataset:\")\n",
    "print(dt['Label'].value_counts())\n",
    "print(\"-----------------------------------------\")\n",
    "print(\"Balanced dataset:\")\n",
    "print(data_balanced['Label'].value_counts())\n",
    "print(\"-----------------------------------------\")"
   ]
  },
  {
   "cell_type": "code",
   "execution_count": null,
   "id": "2093c118",
   "metadata": {},
   "outputs": [],
   "source": []
  }
 ],
 "metadata": {
  "kernelspec": {
   "display_name": "Python 3 (ipykernel)",
   "language": "python",
   "name": "python3"
  },
  "language_info": {
   "codemirror_mode": {
    "name": "ipython",
    "version": 3
   },
   "file_extension": ".py",
   "mimetype": "text/x-python",
   "name": "python",
   "nbconvert_exporter": "python",
   "pygments_lexer": "ipython3",
   "version": "3.8.10"
  }
 },
 "nbformat": 4,
 "nbformat_minor": 5
}
