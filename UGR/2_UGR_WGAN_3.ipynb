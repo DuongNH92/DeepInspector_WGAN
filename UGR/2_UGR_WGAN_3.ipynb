{
 "cells": [
  {
   "cell_type": "markdown",
   "id": "c82169cc",
   "metadata": {},
   "source": [
    "# DNN Critic model"
   ]
  },
  {
   "cell_type": "code",
   "execution_count": 3,
   "id": "d5f3b183",
   "metadata": {
    "scrolled": true
   },
   "outputs": [
    {
     "name": "stdout",
     "output_type": "stream",
     "text": [
      "0    14029\n",
      "1      266\n",
      "Name: Label, dtype: int64\n",
      "Counter({0.0: 9804, 1.0: 202})\n",
      "Counter({0.0: 4225, 1.0: 64})\n",
      "Building Critic WGAN model...\n",
      "Epoch 1/100\n",
      "334/334 [==============================] - 3s 6ms/step - loss: 0.1186 - accuracy: 0.9734 - val_loss: 0.0576 - val_accuracy: 0.9851\n",
      "Epoch 2/100\n",
      "334/334 [==============================] - 2s 5ms/step - loss: 0.0545 - accuracy: 0.9798 - val_loss: 0.0356 - val_accuracy: 0.9851\n",
      "Epoch 3/100\n",
      "334/334 [==============================] - 2s 5ms/step - loss: 0.0317 - accuracy: 0.9844 - val_loss: 0.0249 - val_accuracy: 0.9876\n",
      "Epoch 4/100\n",
      "334/334 [==============================] - 1s 4ms/step - loss: 0.0253 - accuracy: 0.9894 - val_loss: 0.0222 - val_accuracy: 0.9904\n",
      "Epoch 5/100\n",
      "334/334 [==============================] - 2s 5ms/step - loss: 0.0228 - accuracy: 0.9904 - val_loss: 0.0218 - val_accuracy: 0.9902\n",
      "Epoch 6/100\n",
      "334/334 [==============================] - 1s 4ms/step - loss: 0.0224 - accuracy: 0.9907 - val_loss: 0.0216 - val_accuracy: 0.9902\n",
      "Epoch 7/100\n",
      "334/334 [==============================] - 1s 4ms/step - loss: 0.0214 - accuracy: 0.9905 - val_loss: 0.0232 - val_accuracy: 0.9895\n",
      "Epoch 8/100\n",
      "334/334 [==============================] - 1s 4ms/step - loss: 0.0206 - accuracy: 0.9903 - val_loss: 0.0228 - val_accuracy: 0.9897\n",
      "Epoch 9/100\n",
      "334/334 [==============================] - 1s 4ms/step - loss: 0.0204 - accuracy: 0.9916 - val_loss: 0.0209 - val_accuracy: 0.9911\n",
      "Epoch 10/100\n",
      "334/334 [==============================] - 1s 4ms/step - loss: 0.0201 - accuracy: 0.9910 - val_loss: 0.0211 - val_accuracy: 0.9911\n",
      "Epoch 11/100\n",
      "334/334 [==============================] - 2s 4ms/step - loss: 0.0198 - accuracy: 0.9912 - val_loss: 0.0207 - val_accuracy: 0.9907\n",
      "Epoch 12/100\n",
      "334/334 [==============================] - 1s 4ms/step - loss: 0.0197 - accuracy: 0.9915 - val_loss: 0.0233 - val_accuracy: 0.9893\n",
      "Epoch 13/100\n",
      "334/334 [==============================] - 1s 4ms/step - loss: 0.0196 - accuracy: 0.9920 - val_loss: 0.0254 - val_accuracy: 0.9876\n",
      "Epoch 14/100\n",
      "334/334 [==============================] - 1s 4ms/step - loss: 0.0200 - accuracy: 0.9914 - val_loss: 0.0205 - val_accuracy: 0.9914\n",
      "Epoch 15/100\n",
      "334/334 [==============================] - 1s 4ms/step - loss: 0.0184 - accuracy: 0.9923 - val_loss: 0.0203 - val_accuracy: 0.9907\n",
      "Epoch 16/100\n",
      "334/334 [==============================] - 2s 6ms/step - loss: 0.0188 - accuracy: 0.9920 - val_loss: 0.0225 - val_accuracy: 0.9893\n",
      "Epoch 17/100\n",
      "334/334 [==============================] - 2s 5ms/step - loss: 0.0187 - accuracy: 0.9919 - val_loss: 0.0207 - val_accuracy: 0.9909\n",
      "Epoch 18/100\n",
      "334/334 [==============================] - 2s 5ms/step - loss: 0.0185 - accuracy: 0.9920 - val_loss: 0.0202 - val_accuracy: 0.9918\n",
      "Epoch 19/100\n",
      "334/334 [==============================] - 1s 4ms/step - loss: 0.0179 - accuracy: 0.9925 - val_loss: 0.0205 - val_accuracy: 0.9909\n",
      "Epoch 20/100\n",
      "334/334 [==============================] - 2s 5ms/step - loss: 0.0180 - accuracy: 0.9920 - val_loss: 0.0208 - val_accuracy: 0.9904\n",
      "Epoch 21/100\n",
      "334/334 [==============================] - 2s 5ms/step - loss: 0.0170 - accuracy: 0.9932 - val_loss: 0.0215 - val_accuracy: 0.9909\n",
      "Epoch 22/100\n",
      "334/334 [==============================] - 1s 4ms/step - loss: 0.0174 - accuracy: 0.9924 - val_loss: 0.0202 - val_accuracy: 0.9909\n",
      "Epoch 23/100\n",
      "334/334 [==============================] - 1s 4ms/step - loss: 0.0165 - accuracy: 0.9928 - val_loss: 0.0204 - val_accuracy: 0.9914\n",
      "Epoch 24/100\n",
      "334/334 [==============================] - 1s 4ms/step - loss: 0.0163 - accuracy: 0.9928 - val_loss: 0.0205 - val_accuracy: 0.9918\n",
      "Epoch 25/100\n",
      "334/334 [==============================] - 1s 4ms/step - loss: 0.0152 - accuracy: 0.9938 - val_loss: 0.0222 - val_accuracy: 0.9902\n",
      "Epoch 26/100\n",
      "334/334 [==============================] - 1s 4ms/step - loss: 0.0165 - accuracy: 0.9926 - val_loss: 0.0212 - val_accuracy: 0.9914\n",
      "Epoch 27/100\n",
      "334/334 [==============================] - 1s 4ms/step - loss: 0.0156 - accuracy: 0.9933 - val_loss: 0.0208 - val_accuracy: 0.9909\n",
      "Epoch 28/100\n",
      "334/334 [==============================] - 1s 4ms/step - loss: 0.0152 - accuracy: 0.9934 - val_loss: 0.0238 - val_accuracy: 0.9902\n",
      "Epoch 29/100\n",
      "334/334 [==============================] - 1s 4ms/step - loss: 0.0152 - accuracy: 0.9933 - val_loss: 0.0220 - val_accuracy: 0.9921\n",
      "Epoch 30/100\n",
      "334/334 [==============================] - 2s 5ms/step - loss: 0.0152 - accuracy: 0.9930 - val_loss: 0.0216 - val_accuracy: 0.9907\n",
      "Epoch 31/100\n",
      "334/334 [==============================] - 1s 4ms/step - loss: 0.0149 - accuracy: 0.9934 - val_loss: 0.0208 - val_accuracy: 0.9914\n",
      "Epoch 32/100\n",
      "334/334 [==============================] - 1s 4ms/step - loss: 0.0140 - accuracy: 0.9943 - val_loss: 0.0225 - val_accuracy: 0.9902\n",
      "Epoch 33/100\n",
      "334/334 [==============================] - 1s 4ms/step - loss: 0.0141 - accuracy: 0.9944 - val_loss: 0.0256 - val_accuracy: 0.9879\n",
      "Epoch 34/100\n",
      "334/334 [==============================] - 1s 4ms/step - loss: 0.0141 - accuracy: 0.9945 - val_loss: 0.0229 - val_accuracy: 0.9900\n",
      "Epoch 35/100\n",
      "334/334 [==============================] - 1s 4ms/step - loss: 0.0137 - accuracy: 0.9946 - val_loss: 0.0228 - val_accuracy: 0.9904\n",
      "Epoch 36/100\n",
      "334/334 [==============================] - 2s 5ms/step - loss: 0.0132 - accuracy: 0.9943 - val_loss: 0.0224 - val_accuracy: 0.9914\n",
      "Epoch 37/100\n",
      "334/334 [==============================] - 1s 4ms/step - loss: 0.0129 - accuracy: 0.9948 - val_loss: 0.0215 - val_accuracy: 0.9914\n",
      "Epoch 38/100\n",
      "334/334 [==============================] - 1s 4ms/step - loss: 0.0127 - accuracy: 0.9949 - val_loss: 0.0221 - val_accuracy: 0.9916\n",
      "Epoch 39/100\n",
      "334/334 [==============================] - 1s 4ms/step - loss: 0.0129 - accuracy: 0.9945 - val_loss: 0.0219 - val_accuracy: 0.9916\n",
      "Epoch 40/100\n",
      "334/334 [==============================] - 2s 5ms/step - loss: 0.0127 - accuracy: 0.9945 - val_loss: 0.0229 - val_accuracy: 0.9914\n",
      "Epoch 41/100\n",
      "334/334 [==============================] - 2s 5ms/step - loss: 0.0133 - accuracy: 0.9948 - val_loss: 0.0233 - val_accuracy: 0.9923\n",
      "Epoch 42/100\n",
      "334/334 [==============================] - 2s 5ms/step - loss: 0.0125 - accuracy: 0.9951 - val_loss: 0.0229 - val_accuracy: 0.9904\n",
      "Epoch 43/100\n",
      "334/334 [==============================] - 2s 5ms/step - loss: 0.0125 - accuracy: 0.9948 - val_loss: 0.0231 - val_accuracy: 0.9914\n",
      "Epoch 44/100\n",
      "334/334 [==============================] - 1s 4ms/step - loss: 0.0121 - accuracy: 0.9953 - val_loss: 0.0245 - val_accuracy: 0.9914\n",
      "Epoch 45/100\n",
      "334/334 [==============================] - 1s 4ms/step - loss: 0.0128 - accuracy: 0.9948 - val_loss: 0.0240 - val_accuracy: 0.9921\n",
      "Epoch 46/100\n",
      "334/334 [==============================] - 2s 5ms/step - loss: 0.0119 - accuracy: 0.9957 - val_loss: 0.0227 - val_accuracy: 0.9918\n",
      "Epoch 47/100\n",
      "334/334 [==============================] - 1s 4ms/step - loss: 0.0117 - accuracy: 0.9949 - val_loss: 0.0234 - val_accuracy: 0.9932\n",
      "Epoch 48/100\n",
      "334/334 [==============================] - 1s 4ms/step - loss: 0.0120 - accuracy: 0.9950 - val_loss: 0.0241 - val_accuracy: 0.9918\n",
      "Epoch 49/100\n",
      "334/334 [==============================] - 2s 5ms/step - loss: 0.0117 - accuracy: 0.9954 - val_loss: 0.0223 - val_accuracy: 0.9928\n",
      "Epoch 50/100\n",
      "334/334 [==============================] - 2s 5ms/step - loss: 0.0123 - accuracy: 0.9950 - val_loss: 0.0216 - val_accuracy: 0.9925\n",
      "Epoch 51/100\n",
      "334/334 [==============================] - 4s 12ms/step - loss: 0.0110 - accuracy: 0.9957 - val_loss: 0.0239 - val_accuracy: 0.9918\n",
      "Epoch 52/100\n",
      "334/334 [==============================] - 1s 4ms/step - loss: 0.0112 - accuracy: 0.9955 - val_loss: 0.0249 - val_accuracy: 0.9921\n",
      "Epoch 53/100\n",
      "334/334 [==============================] - 1s 4ms/step - loss: 0.0115 - accuracy: 0.9953 - val_loss: 0.0237 - val_accuracy: 0.9921\n",
      "Epoch 54/100\n",
      "334/334 [==============================] - 1s 4ms/step - loss: 0.0113 - accuracy: 0.9955 - val_loss: 0.0236 - val_accuracy: 0.9923\n",
      "Epoch 55/100\n",
      "334/334 [==============================] - 1s 4ms/step - loss: 0.0117 - accuracy: 0.9952 - val_loss: 0.0232 - val_accuracy: 0.9925\n",
      "Epoch 56/100\n",
      "334/334 [==============================] - 1s 4ms/step - loss: 0.0122 - accuracy: 0.9946 - val_loss: 0.0257 - val_accuracy: 0.9916\n"
     ]
    },
    {
     "name": "stdout",
     "output_type": "stream",
     "text": [
      "Epoch 57/100\n",
      "334/334 [==============================] - 1s 4ms/step - loss: 0.0116 - accuracy: 0.9953 - val_loss: 0.0229 - val_accuracy: 0.9923\n",
      "Epoch 58/100\n",
      "334/334 [==============================] - 1s 4ms/step - loss: 0.0110 - accuracy: 0.9957 - val_loss: 0.0228 - val_accuracy: 0.9925\n",
      "Epoch 59/100\n",
      "334/334 [==============================] - 1s 3ms/step - loss: 0.0108 - accuracy: 0.9959 - val_loss: 0.0240 - val_accuracy: 0.9925\n",
      "Epoch 60/100\n",
      "334/334 [==============================] - 1s 4ms/step - loss: 0.0112 - accuracy: 0.9955 - val_loss: 0.0236 - val_accuracy: 0.9923\n",
      "Epoch 61/100\n",
      "334/334 [==============================] - 1s 3ms/step - loss: 0.0101 - accuracy: 0.9963 - val_loss: 0.0267 - val_accuracy: 0.9904\n",
      "Epoch 62/100\n",
      "334/334 [==============================] - 1s 3ms/step - loss: 0.0101 - accuracy: 0.9959 - val_loss: 0.0247 - val_accuracy: 0.9921\n",
      "Epoch 63/100\n",
      "334/334 [==============================] - 1s 3ms/step - loss: 0.0100 - accuracy: 0.9959 - val_loss: 0.0270 - val_accuracy: 0.9925\n",
      "Epoch 64/100\n",
      "334/334 [==============================] - 1s 4ms/step - loss: 0.0103 - accuracy: 0.9964 - val_loss: 0.0249 - val_accuracy: 0.9923\n",
      "Epoch 65/100\n",
      "334/334 [==============================] - 1s 4ms/step - loss: 0.0106 - accuracy: 0.9956 - val_loss: 0.0265 - val_accuracy: 0.9932\n",
      "Epoch 66/100\n",
      "334/334 [==============================] - 1s 4ms/step - loss: 0.0109 - accuracy: 0.9962 - val_loss: 0.0257 - val_accuracy: 0.9935\n",
      "Epoch 67/100\n",
      "334/334 [==============================] - 1s 4ms/step - loss: 0.0099 - accuracy: 0.9958 - val_loss: 0.0251 - val_accuracy: 0.9925\n",
      "Epoch 68/100\n",
      "334/334 [==============================] - 1s 4ms/step - loss: 0.0100 - accuracy: 0.9964 - val_loss: 0.0266 - val_accuracy: 0.9918\n",
      "Epoch 69/100\n",
      "334/334 [==============================] - 1s 3ms/step - loss: 0.0105 - accuracy: 0.9962 - val_loss: 0.0261 - val_accuracy: 0.9921\n",
      "Epoch 70/100\n",
      "334/334 [==============================] - 1s 4ms/step - loss: 0.0102 - accuracy: 0.9961 - val_loss: 0.0253 - val_accuracy: 0.9925\n",
      "Epoch 71/100\n",
      "334/334 [==============================] - 1s 4ms/step - loss: 0.0097 - accuracy: 0.9962 - val_loss: 0.0262 - val_accuracy: 0.9930\n",
      "Epoch 72/100\n",
      "334/334 [==============================] - 1s 3ms/step - loss: 0.0099 - accuracy: 0.9957 - val_loss: 0.0258 - val_accuracy: 0.9916\n",
      "Epoch 73/100\n",
      "334/334 [==============================] - 1s 3ms/step - loss: 0.0096 - accuracy: 0.9954 - val_loss: 0.0276 - val_accuracy: 0.9918\n",
      "Epoch 74/100\n",
      "334/334 [==============================] - 1s 3ms/step - loss: 0.0093 - accuracy: 0.9962 - val_loss: 0.0275 - val_accuracy: 0.9925\n",
      "Epoch 75/100\n",
      "334/334 [==============================] - 1s 3ms/step - loss: 0.0100 - accuracy: 0.9959 - val_loss: 0.0269 - val_accuracy: 0.9930\n",
      "Epoch 76/100\n",
      "334/334 [==============================] - 1s 4ms/step - loss: 0.0095 - accuracy: 0.9961 - val_loss: 0.0277 - val_accuracy: 0.9930\n",
      "Epoch 77/100\n",
      "334/334 [==============================] - 1s 4ms/step - loss: 0.0100 - accuracy: 0.9956 - val_loss: 0.0296 - val_accuracy: 0.9923\n",
      "Epoch 78/100\n",
      "334/334 [==============================] - 1s 3ms/step - loss: 0.0101 - accuracy: 0.9958 - val_loss: 0.0311 - val_accuracy: 0.9921\n",
      "Epoch 79/100\n",
      "334/334 [==============================] - 1s 4ms/step - loss: 0.0098 - accuracy: 0.9965 - val_loss: 0.0278 - val_accuracy: 0.9932\n",
      "Epoch 80/100\n",
      "334/334 [==============================] - 1s 3ms/step - loss: 0.0094 - accuracy: 0.9963 - val_loss: 0.0294 - val_accuracy: 0.9918\n",
      "Epoch 81/100\n",
      "334/334 [==============================] - 1s 3ms/step - loss: 0.0094 - accuracy: 0.9956 - val_loss: 0.0300 - val_accuracy: 0.9925\n",
      "Epoch 82/100\n",
      "334/334 [==============================] - 1s 4ms/step - loss: 0.0104 - accuracy: 0.9962 - val_loss: 0.0282 - val_accuracy: 0.9916\n",
      "Epoch 83/100\n",
      "334/334 [==============================] - 1s 3ms/step - loss: 0.0094 - accuracy: 0.9964 - val_loss: 0.0297 - val_accuracy: 0.9916\n",
      "Epoch 84/100\n",
      "334/334 [==============================] - 1s 2ms/step - loss: 0.0092 - accuracy: 0.9967 - val_loss: 0.0310 - val_accuracy: 0.9921\n",
      "Epoch 85/100\n",
      "334/334 [==============================] - 1s 4ms/step - loss: 0.0088 - accuracy: 0.9964 - val_loss: 0.0311 - val_accuracy: 0.9935\n",
      "Epoch 86/100\n",
      "334/334 [==============================] - 2s 5ms/step - loss: 0.0093 - accuracy: 0.9961 - val_loss: 0.0304 - val_accuracy: 0.9930\n",
      "Epoch 87/100\n",
      "334/334 [==============================] - 2s 7ms/step - loss: 0.0083 - accuracy: 0.9970 - val_loss: 0.0326 - val_accuracy: 0.9918\n",
      "Epoch 88/100\n",
      "334/334 [==============================] - 3s 8ms/step - loss: 0.0081 - accuracy: 0.9964 - val_loss: 0.0316 - val_accuracy: 0.9928\n",
      "Epoch 89/100\n",
      "334/334 [==============================] - 2s 5ms/step - loss: 0.0090 - accuracy: 0.9966 - val_loss: 0.0305 - val_accuracy: 0.9923\n",
      "Epoch 90/100\n",
      "334/334 [==============================] - 1s 4ms/step - loss: 0.0100 - accuracy: 0.9962 - val_loss: 0.0334 - val_accuracy: 0.9925\n",
      "Epoch 91/100\n",
      "334/334 [==============================] - 1s 4ms/step - loss: 0.0089 - accuracy: 0.9963 - val_loss: 0.0314 - val_accuracy: 0.9932\n",
      "Epoch 92/100\n",
      "334/334 [==============================] - 2s 5ms/step - loss: 0.0087 - accuracy: 0.9963 - val_loss: 0.0316 - val_accuracy: 0.9925\n",
      "Epoch 93/100\n",
      "334/334 [==============================] - 2s 5ms/step - loss: 0.0086 - accuracy: 0.9969 - val_loss: 0.0333 - val_accuracy: 0.9925\n",
      "Epoch 94/100\n",
      "334/334 [==============================] - 2s 5ms/step - loss: 0.0088 - accuracy: 0.9967 - val_loss: 0.0329 - val_accuracy: 0.9916\n",
      "Epoch 95/100\n",
      "334/334 [==============================] - 2s 6ms/step - loss: 0.0090 - accuracy: 0.9965 - val_loss: 0.0323 - val_accuracy: 0.9935\n",
      "Epoch 96/100\n",
      "334/334 [==============================] - 1s 3ms/step - loss: 0.0071 - accuracy: 0.9972 - val_loss: 0.0349 - val_accuracy: 0.9923\n",
      "Epoch 97/100\n",
      "334/334 [==============================] - 2s 5ms/step - loss: 0.0082 - accuracy: 0.9970 - val_loss: 0.0327 - val_accuracy: 0.9930\n",
      "Epoch 98/100\n",
      "334/334 [==============================] - 1s 3ms/step - loss: 0.0080 - accuracy: 0.9963 - val_loss: 0.0351 - val_accuracy: 0.9923\n",
      "Epoch 99/100\n",
      "334/334 [==============================] - 2s 7ms/step - loss: 0.0084 - accuracy: 0.9970 - val_loss: 0.0431 - val_accuracy: 0.9911\n",
      "Epoch 100/100\n",
      "334/334 [==============================] - 1s 4ms/step - loss: 0.0088 - accuracy: 0.9960 - val_loss: 0.0333 - val_accuracy: 0.9928\n",
      "135/135 [==============================] - 0s 3ms/step\n",
      "Accuracy: 99.28%\n",
      "confusion_matrix for test data\n",
      " [[4205   20]\n",
      " [  11   53]]\n",
      "              precision    recall  f1-score   support\n",
      "\n",
      "           0       1.00      1.00      1.00      4225\n",
      "           1       0.73      0.83      0.77        64\n",
      "\n",
      "    accuracy                           0.99      4289\n",
      "   macro avg       0.86      0.91      0.89      4289\n",
      "weighted avg       0.99      0.99      0.99      4289\n",
      "\n",
      "Accuracy: 0.9928\n",
      "Precision: 0.7260\n",
      "Recall: 0.8281\n",
      "F1 Score: 0.7737\n",
      "FPR Score: 0.1719\n",
      "Saved model!\n"
     ]
    }
   ],
   "source": [
    "import pandas as pd \n",
    "import numpy as np  \n",
    "import os\n",
    "os.environ['TF_CPP_MIN_LOG_LEVEL']='2'\n",
    "from collections import Counter\n",
    "from tensorflow.keras.models import Sequential\n",
    "from tensorflow.keras.layers import Dense\n",
    "from keras import optimizers\n",
    "from sklearn.model_selection import train_test_split\n",
    "from sklearn.preprocessing import MinMaxScaler\n",
    "from sklearn.metrics import classification_report, confusion_matrix, accuracy_score, precision_score, recall_score, f1_score\n",
    "\n",
    "# read data\n",
    "mydt = pd.read_csv(\"../dataset/UGR/trainspam.csv\")\n",
    "print(mydt['Label'].value_counts())\n",
    "# Create matrix of features and matrix of target variable \n",
    "dataset = mydt.values\n",
    "X = dataset[:,0:19]\n",
    "y = dataset[:,19]\n",
    "\n",
    "# convert the scaled array to dataframe \n",
    "#min_max_scaler = MinMaxScaler()\n",
    "#X_scale = min_max_scaler.fit_transform(X)\n",
    "\n",
    "X_full = X\n",
    "y_full = y\n",
    "\n",
    "X_train, X_test, y_train, y_test = train_test_split(X_full, y_full, test_size=0.3, random_state=1)\n",
    "\n",
    "print(Counter(y_train))\n",
    "print(Counter(y_test))\n",
    "\n",
    "# define the keras model\n",
    "model = Sequential()\n",
    "model.add(Dense(128, input_shape=(19,), activation='relu'))\n",
    "model.add(Dense(19, activation='relu'))\n",
    "model.add(Dense(1, activation='sigmoid'))\n",
    "\n",
    "# compile the keras model\n",
    "model.compile(loss='binary_crossentropy', optimizer='adam', metrics=['accuracy'])\n",
    "\n",
    "print(\"Building Critic WGAN model...\")\n",
    "# fit the keras model on the dataset\n",
    "mod = model.fit(X_train, y_train, epochs=100, batch_size=30, verbose=1, validation_data=(X_test, y_test))\n",
    "\n",
    "# make class predictions with the model\n",
    "y_pred = (model.predict(X_test) > 0.5).astype(int)\n",
    "accuracy = accuracy_score(y_test, y_pred)\n",
    "print(\"Accuracy: %.2f%%\" % (accuracy * 100))\n",
    "\n",
    "%matplotlib inline\n",
    "# Testing \n",
    "cm = confusion_matrix(y_test, y_pred) \n",
    "tnr = recall_score(y_test, y_pred) \n",
    "fpr = 1 - tnr\n",
    "\n",
    "print (\"confusion_matrix for test data\\n\",cm)\n",
    "print(classification_report(y_test,y_pred,labels=np.unique(y_pred)))\n",
    "print('Accuracy: %.4f' % accuracy_score(y_test, y_pred))\n",
    "print('Precision: %.4f' % precision_score(y_test, y_pred))\n",
    "print('Recall: %.4f' % recall_score(y_test, y_pred))\n",
    "print('F1 Score: %.4f' % f1_score(y_test, y_pred))\n",
    "print('FPR Score: %.4f' % fpr)\n",
    "\n",
    "# Save model\n",
    "# serialize model to JSON\n",
    "model_json = model.to_json()\n",
    "with open(\"DNN_critic_model_UGR_3.json\", \"w\") as json_file:\n",
    "    json_file.write(model_json)\n",
    "    \n",
    "# serialize weights to HDF5\n",
    "model.save_weights(\"DNN_critic_model_UGR_3.h5\")\n",
    "print(\"Saved model!\")"
   ]
  },
  {
   "cell_type": "markdown",
   "id": "74c46926",
   "metadata": {},
   "source": [
    "# WGAN"
   ]
  },
  {
   "cell_type": "code",
   "execution_count": 4,
   "id": "b5a0a63c",
   "metadata": {
    "scrolled": true
   },
   "outputs": [
    {
     "name": "stdout",
     "output_type": "stream",
     "text": [
      "original data label features number:\n",
      "0    14029\n",
      "1      266\n",
      "Name: Label, dtype: int64\n",
      "----------------------------------------\n",
      "attack value number:\n",
      "1    266\n",
      "Name: Label, dtype: int64\n"
     ]
    }
   ],
   "source": [
    "import torch \n",
    "import torch.nn\n",
    "import torch.nn.functional as nn \n",
    "import torch.autograd as autograd \n",
    "import torch.optim as optim \n",
    "import torch.utils.data as Data\n",
    "from torch.autograd import Variable\n",
    "import numpy as np \n",
    "import tensorflow as tf \n",
    "import os\n",
    "import pandas as pd\n",
    "from sklearn.preprocessing import MinMaxScaler \n",
    "from sklearn.metrics import confusion_matrix \n",
    "import keras\n",
    "from keras.models import Sequential \n",
    "from keras.layers import Dense \n",
    "from keras import optimizers\n",
    "from keras.models import model_from_json\n",
    "import matplotlib \n",
    "matplotlib.use('agg') \n",
    "import matplotlib.pyplot as plt \n",
    "import matplotlib.gridspec as gridspec \n",
    "\n",
    "# hyperparameters \n",
    "mb_size = 64 \n",
    "z_dim = 10 \n",
    "X_dim = 19 \n",
    "y_dim = 1 \n",
    "h_dim = 128 #hidden \n",
    "lr = 0.00005 #learning_rate\n",
    "\n",
    "# read data\n",
    "df = pd.read_csv(\"../dataset/UGR/trainspam.csv\")\n",
    "print('original data label features number:')\n",
    "print(df['Label'].value_counts())\n",
    "\n",
    "# data preparation\n",
    "criteria0 = df['Label'] == 1 #filter attack data \n",
    "attack_data = data0 = df[criteria0]\n",
    "\n",
    "#float_array = data0.values.astype(float) \n",
    "#scaler = MinMaxScaler()\n",
    "#scaled_array = scaler.fit_transform(float_array)\n",
    "#attack_data = pd.DataFrame(scaled_array)\n",
    "#attack_data.columns = ['hour','minute','second','duration','source_ip','dest_ip','source_port','dest_port','protocol',\n",
    " #               'flag1','flag2','flag3','flag4','flag5','flag6','fwd','stos','pkt','byt', 'Label']\n",
    "\n",
    "print('----------------------------------------') \n",
    "print('attack value number:') \n",
    "print(attack_data['Label'].value_counts())\n",
    "\n",
    "# transform data to tensor format\n",
    "train_target = torch.tensor(attack_data['Label'].values.astype(np.float32)) \n",
    "train = torch.tensor(attack_data.drop(['Label'], axis = 1).values.astype(np.float32)) \n",
    "train_tensor = Data.TensorDataset(train, train_target) \n",
    "\n",
    "#creat DataLoader with batch and shuffle\n",
    "train_loader = torch.utils.data.DataLoader(dataset = train_tensor, batch_size = mb_size, shuffle = True)\n",
    "\n",
    "# define models\n",
    "# Generator\n",
    "G = torch.nn.Sequential(\n",
    "    torch.nn.Linear(z_dim, h_dim), \n",
    "    torch.nn.ReLU(),\n",
    "    torch.nn.Linear(h_dim, h_dim), \n",
    "    torch.nn.ReLU(),\n",
    "    torch.nn.Linear(h_dim, X_dim), \n",
    "    torch.nn.Sigmoid()\n",
    ")\n",
    "\n",
    "# Discriminator\n",
    "D = torch.nn.Sequential( \n",
    "    torch.nn.Linear(X_dim, h_dim), \n",
    "    torch.nn.ReLU(),\n",
    "    torch.nn.Linear(h_dim, h_dim), \n",
    "    torch.nn.ReLU(),\n",
    "    # No sigmoid\n",
    "    torch.nn.Linear(h_dim, 1),\n",
    ")\n",
    "\n",
    "# setup cpu using cpu (if use gpu -> set cpu to cuda)\n",
    "G.cpu()\n",
    "D.cpu()\n",
    "\n",
    "def reset_grad():\n",
    "    G.zero_grad()\n",
    "    D.zero_grad()\n",
    "    \n",
    "#initialize optimizers and dataholders\n",
    "G_solver = optim.RMSprop(G.parameters(), lr=lr)\n",
    "D_solver = optim.RMSprop(D.parameters(), lr=lr)\n",
    "G_losses = []\n",
    "D_losses = []\n",
    "data_iter = iter(train_loader)"
   ]
  },
  {
   "cell_type": "code",
   "execution_count": 5,
   "id": "84ef51d3",
   "metadata": {},
   "outputs": [
    {
     "name": "stdout",
     "output_type": "stream",
     "text": [
      "Start training WGAN model...\n",
      "Iter-0; D_loss: -0.0026344265788793564; G_loss: -0.008851490914821625\n",
      "Iter-1000; D_loss: -0.00012710876762866974; G_loss: -0.013564711436629295\n",
      "Iter-2000; D_loss: -1.7745420336723328e-05; G_loss: -0.013688127510249615\n",
      "Iter-3000; D_loss: -7.441267371177673e-07; G_loss: -0.009884634986519814\n",
      "Iter-4000; D_loss: -0.0030577797442674637; G_loss: -0.015626441687345505\n",
      "Iter-5000; D_loss: -0.0013016723096370697; G_loss: -0.011436956003308296\n",
      "Iter-6000; D_loss: -0.000163322314620018; G_loss: -0.013660922646522522\n",
      "Iter-7000; D_loss: -0.00048270542174577713; G_loss: -0.013561341911554337\n",
      "Iter-8000; D_loss: -8.635502308607101e-05; G_loss: -0.013333861716091633\n",
      "Iter-9000; D_loss: -0.00017167441546916962; G_loss: -0.013631363399326801\n",
      "Iter-10000; D_loss: 0.00013803225010633469; G_loss: -0.014054855331778526\n",
      "Iter-11000; D_loss: -0.0003743758425116539; G_loss: -0.013823937624692917\n",
      "Iter-12000; D_loss: -0.00011842604726552963; G_loss: -0.01403164304792881\n",
      "Iter-13000; D_loss: -0.00018853507936000824; G_loss: -0.01376151479780674\n",
      "Iter-14000; D_loss: -0.0003344006836414337; G_loss: -0.01400630921125412\n",
      "Iter-15000; D_loss: 7.797311991453171e-05; G_loss: -0.014067924581468105\n",
      "Iter-16000; D_loss: -0.00019732676446437836; G_loss: -0.013688236474990845\n",
      "Iter-17000; D_loss: -8.243508636951447e-05; G_loss: -0.013287555426359177\n",
      "Iter-18000; D_loss: -4.138331860303879e-05; G_loss: -0.013830432668328285\n",
      "Iter-19000; D_loss: -0.0002450011670589447; G_loss: -0.01412129495292902\n",
      "Iter-20000; D_loss: 4.5532360672950745e-06; G_loss: -0.013672981411218643\n",
      "Iter-21000; D_loss: -4.839897155761719e-05; G_loss: -0.01379663497209549\n",
      "Iter-22000; D_loss: -7.153023034334183e-05; G_loss: -0.01390416081994772\n",
      "Iter-23000; D_loss: 0.0001512756571173668; G_loss: -0.014559880830347538\n",
      "Iter-24000; D_loss: -0.0001383572816848755; G_loss: -0.010229910723865032\n",
      "Iter-25000; D_loss: -0.0001216912642121315; G_loss: -0.011721115559339523\n",
      "Iter-26000; D_loss: -0.0002076122909784317; G_loss: -0.01047776360064745\n",
      "Iter-27000; D_loss: -0.00012761633843183517; G_loss: -0.012673985213041306\n",
      "Iter-28000; D_loss: -0.00012898165732622147; G_loss: -0.013407668098807335\n",
      "Iter-29000; D_loss: -0.0002736588940024376; G_loss: -0.013626410625874996\n",
      "Iter-30000; D_loss: -0.0001984070986509323; G_loss: -0.014036265201866627\n",
      "Iter-31000; D_loss: -0.00011415965855121613; G_loss: -0.014054209925234318\n",
      "Iter-32000; D_loss: -0.0001114504411816597; G_loss: -0.014151260256767273\n",
      "Iter-33000; D_loss: 0.00017437990754842758; G_loss: -0.014115379191935062\n",
      "Iter-34000; D_loss: -3.581494092941284e-05; G_loss: -0.014210663735866547\n",
      "Iter-35000; D_loss: -0.0001024194061756134; G_loss: -0.014103367924690247\n",
      "Iter-36000; D_loss: -5.676876753568649e-05; G_loss: -0.013960575684905052\n",
      "Iter-37000; D_loss: -0.00015129707753658295; G_loss: -0.01382275391370058\n",
      "Iter-38000; D_loss: -4.7623179852962494e-05; G_loss: -0.014201977290213108\n",
      "Iter-39000; D_loss: -7.902178913354874e-05; G_loss: -0.013957422226667404\n",
      "Iter-40000; D_loss: -3.374740481376648e-05; G_loss: -0.01352930162101984\n",
      "Iter-41000; D_loss: -0.00011835526674985886; G_loss: -0.013719655573368073\n",
      "Iter-42000; D_loss: -0.00012784358114004135; G_loss: -0.013862580060958862\n",
      "Iter-43000; D_loss: -3.8426369428634644e-05; G_loss: -0.01392139121890068\n",
      "Iter-44000; D_loss: 1.6763806343078613e-05; G_loss: -0.0132825942710042\n",
      "Iter-45000; D_loss: -1.7426908016204834e-05; G_loss: -0.013615918345749378\n",
      "Iter-46000; D_loss: -0.00032955408096313477; G_loss: -0.012739939615130424\n",
      "Iter-47000; D_loss: -8.929148316383362e-05; G_loss: -0.013676285743713379\n",
      "Iter-48000; D_loss: -0.0002167457714676857; G_loss: -0.013614309951663017\n",
      "Iter-49000; D_loss: -5.5987387895584106e-05; G_loss: -0.013566762208938599\n",
      "Iter-50000; D_loss: 5.8710575103759766e-06; G_loss: -0.013680540956556797\n",
      "Iter-51000; D_loss: -2.12155282497406e-05; G_loss: -0.012525121681392193\n",
      "Iter-52000; D_loss: 0.0003075236454606056; G_loss: -0.012248743325471878\n",
      "Iter-53000; D_loss: -7.35744833946228e-08; G_loss: -0.012511055916547775\n",
      "Iter-54000; D_loss: -5.422718822956085e-05; G_loss: -0.012568947859108448\n",
      "Iter-55000; D_loss: -3.780238330364227e-05; G_loss: -0.012614094652235508\n",
      "Iter-56000; D_loss: -0.00011984724551439285; G_loss: -0.012480701319873333\n",
      "Iter-57000; D_loss: 2.5952234864234924e-05; G_loss: -0.013140241615474224\n",
      "Iter-58000; D_loss: -0.00022996682673692703; G_loss: -0.01280277781188488\n",
      "Iter-59000; D_loss: 0.00032483693212270737; G_loss: -0.013080980628728867\n",
      "Iter-60000; D_loss: -0.00013449974358081818; G_loss: -0.01271731499582529\n",
      "Iter-61000; D_loss: 5.087628960609436e-05; G_loss: -0.012872327119112015\n",
      "Iter-62000; D_loss: -4.614703357219696e-06; G_loss: -0.012618379667401314\n",
      "Iter-63000; D_loss: 6.839819252490997e-05; G_loss: -0.013011732138693333\n",
      "Iter-64000; D_loss: -0.00017253123223781586; G_loss: -0.012479604221880436\n",
      "Iter-65000; D_loss: -0.00011480040848255157; G_loss: -0.012880879454314709\n",
      "Iter-66000; D_loss: -7.572304457426071e-05; G_loss: -0.012959817424416542\n",
      "Iter-67000; D_loss: -9.390339255332947e-05; G_loss: -0.01269218884408474\n",
      "Iter-68000; D_loss: -0.00010560732334852219; G_loss: -0.012967970222234726\n",
      "Iter-69000; D_loss: -1.4314427971839905e-06; G_loss: -0.013030068948864937\n",
      "Iter-70000; D_loss: -6.588175892829895e-05; G_loss: -0.012760024517774582\n",
      "Iter-71000; D_loss: -6.331503391265869e-05; G_loss: -0.013090179301798344\n",
      "Iter-72000; D_loss: -0.00014510657638311386; G_loss: -0.013479023240506649\n",
      "Iter-73000; D_loss: -6.716791540384293e-05; G_loss: -0.013005505315959454\n",
      "Iter-74000; D_loss: -0.00041984673589468; G_loss: -0.012928402051329613\n",
      "Iter-75000; D_loss: 0.0001336280256509781; G_loss: -0.012792166322469711\n",
      "Iter-76000; D_loss: 5.639903247356415e-05; G_loss: -0.012992501258850098\n",
      "Iter-77000; D_loss: 8.557923138141632e-06; G_loss: -0.0131391491740942\n",
      "Iter-78000; D_loss: 4.341825842857361e-05; G_loss: -0.013192416168749332\n",
      "Iter-79000; D_loss: -0.00012630876153707504; G_loss: -0.01325419545173645\n",
      "Iter-80000; D_loss: 9.443610906600952e-07; G_loss: -0.013284146785736084\n",
      "Iter-81000; D_loss: -0.0003549652174115181; G_loss: -0.013481661677360535\n",
      "Iter-82000; D_loss: 7.399357855319977e-06; G_loss: -0.013152345083653927\n",
      "Iter-83000; D_loss: 2.1367333829402924e-05; G_loss: -0.013096030801534653\n",
      "Iter-84000; D_loss: -4.419032484292984e-05; G_loss: -0.013271261006593704\n",
      "Iter-85000; D_loss: -4.91216778755188e-05; G_loss: -0.012885525822639465\n",
      "Iter-86000; D_loss: 0.00021367892622947693; G_loss: -0.013019791804254055\n",
      "Iter-87000; D_loss: 0.00030457787215709686; G_loss: -0.012861112132668495\n",
      "Iter-88000; D_loss: -0.00015759188681840897; G_loss: -0.013588306494057178\n",
      "Iter-89000; D_loss: -0.0001883525401353836; G_loss: -0.013135027140378952\n",
      "Iter-90000; D_loss: -0.00027901120483875275; G_loss: -0.013175350613892078\n",
      "Iter-91000; D_loss: 0.0001232139766216278; G_loss: -0.013028229586780071\n",
      "Iter-92000; D_loss: 0.00026543717831373215; G_loss: -0.013852957636117935\n",
      "Iter-93000; D_loss: -5.2016228437423706e-05; G_loss: -0.013252617791295052\n",
      "Iter-94000; D_loss: -0.00024531222879886627; G_loss: -0.012557760812342167\n",
      "Iter-95000; D_loss: -1.175515353679657e-05; G_loss: -0.01359848864376545\n",
      "Iter-96000; D_loss: -8.230097591876984e-06; G_loss: -0.013143547810614109\n",
      "Iter-97000; D_loss: 1.851748675107956e-05; G_loss: -0.01304976362735033\n",
      "Iter-98000; D_loss: 0.0006645452231168747; G_loss: -0.013686890713870525\n",
      "Iter-99000; D_loss: -7.436517626047134e-05; G_loss: -0.013255747966468334\n",
      "Iter-100000; D_loss: -2.156198024749756e-05; G_loss: -0.013169221580028534\n",
      "Iter-101000; D_loss: -8.223764598369598e-05; G_loss: -0.012741509824991226\n",
      "Iter-102000; D_loss: 8.141528815031052e-05; G_loss: -0.013299334794282913\n",
      "Iter-103000; D_loss: -0.00010582339018583298; G_loss: -0.013045643456280231\n",
      "Iter-104000; D_loss: -1.9070692360401154e-05; G_loss: -0.013187919743359089\n",
      "Iter-105000; D_loss: -7.14082270860672e-05; G_loss: -0.01354540977627039\n",
      "Iter-106000; D_loss: -2.974923700094223e-05; G_loss: -0.01358434371650219\n",
      "Iter-107000; D_loss: -1.5168450772762299e-05; G_loss: -0.013178951106965542\n",
      "Iter-108000; D_loss: 2.237316220998764e-05; G_loss: -0.01354182418435812\n",
      "Iter-109000; D_loss: 3.009941428899765e-05; G_loss: -0.013311849907040596\n",
      "Iter-110000; D_loss: 6.845220923423767e-06; G_loss: -0.013184452429413795\n"
     ]
    },
    {
     "name": "stdout",
     "output_type": "stream",
     "text": [
      "Iter-111000; D_loss: 6.0187652707099915e-05; G_loss: -0.013178137131035328\n",
      "Iter-112000; D_loss: 9.485706686973572e-05; G_loss: -0.01224270835518837\n",
      "Iter-113000; D_loss: -0.0004893019795417786; G_loss: -0.01323945727199316\n",
      "Iter-114000; D_loss: 1.0478310286998749e-05; G_loss: -0.013685495592653751\n",
      "Iter-115000; D_loss: 3.820285201072693e-05; G_loss: -0.01323041319847107\n",
      "Iter-116000; D_loss: 0.00014708098024129868; G_loss: -0.013074754737317562\n",
      "Iter-117000; D_loss: -0.0002483539283275604; G_loss: -0.013178451918065548\n",
      "Iter-118000; D_loss: 0.00033898185938596725; G_loss: -0.013881008140742779\n",
      "Iter-119000; D_loss: 0.0004097782075405121; G_loss: -0.01291400846093893\n",
      "Iter-120000; D_loss: 9.795650839805603e-05; G_loss: -0.012336527928709984\n",
      "Iter-121000; D_loss: -0.0003776922821998596; G_loss: -0.01346430554986\n",
      "Iter-122000; D_loss: -0.0002663480117917061; G_loss: -0.013501809909939766\n",
      "Iter-123000; D_loss: -0.00012369081377983093; G_loss: -0.013385982252657413\n",
      "Iter-124000; D_loss: -2.1597370505332947e-05; G_loss: -0.012878340668976307\n",
      "Iter-125000; D_loss: -0.00042338669300079346; G_loss: -0.012793698348104954\n",
      "Iter-126000; D_loss: 3.747548907995224e-05; G_loss: -0.013000743463635445\n",
      "Iter-127000; D_loss: -0.00010303780436515808; G_loss: -0.013201449066400528\n",
      "Iter-128000; D_loss: -3.3210963010787964e-05; G_loss: -0.013232179917395115\n",
      "Iter-129000; D_loss: 0.0001205243170261383; G_loss: -0.013135533779859543\n",
      "Iter-130000; D_loss: 2.3795291781425476e-05; G_loss: -0.013353006914258003\n",
      "Iter-131000; D_loss: 0.00017712078988552094; G_loss: -0.01306978054344654\n",
      "Iter-132000; D_loss: -8.06143507361412e-05; G_loss: -0.013389497995376587\n",
      "Iter-133000; D_loss: -0.00013070181012153625; G_loss: -0.0131869837641716\n",
      "Iter-134000; D_loss: 2.4856068193912506e-05; G_loss: -0.013496765866875648\n",
      "Iter-135000; D_loss: -1.0624527931213379e-05; G_loss: -0.01325567439198494\n",
      "Iter-136000; D_loss: 0.00015909038484096527; G_loss: -0.013172412291169167\n",
      "Iter-137000; D_loss: 0.0004088999703526497; G_loss: -0.01274203509092331\n",
      "Iter-138000; D_loss: 0.00018045026808977127; G_loss: -0.013011381030082703\n",
      "Iter-139000; D_loss: 1.2100674211978912e-05; G_loss: -0.01308498065918684\n",
      "Iter-140000; D_loss: -0.00039085187017917633; G_loss: -0.013156145811080933\n",
      "Iter-141000; D_loss: -7.958430796861649e-05; G_loss: -0.01331876590847969\n",
      "Iter-142000; D_loss: -0.00018810201436281204; G_loss: -0.013314898125827312\n",
      "Iter-143000; D_loss: -8.981674909591675e-05; G_loss: -0.013193363323807716\n",
      "Iter-144000; D_loss: 1.5031546354293823e-05; G_loss: -0.013318155892193317\n",
      "Iter-145000; D_loss: -0.00028820428997278214; G_loss: -0.013186164200305939\n",
      "Iter-146000; D_loss: 0.0005907081067562103; G_loss: -0.01294862199574709\n",
      "Iter-147000; D_loss: -2.477690577507019e-05; G_loss: -0.013020936399698257\n",
      "Iter-148000; D_loss: 7.733702659606934e-06; G_loss: -0.01332945842295885\n",
      "Iter-149000; D_loss: -0.00032319221645593643; G_loss: -0.012677233666181564\n",
      "Iter-150000; D_loss: 0.00018232222646474838; G_loss: -0.01345423236489296\n",
      "Iter-151000; D_loss: -9.1552734375e-05; G_loss: -0.013716221787035465\n",
      "Iter-152000; D_loss: -0.0007980186492204666; G_loss: -0.013689622282981873\n",
      "Iter-153000; D_loss: -0.00038905069231987; G_loss: -0.013290748000144958\n",
      "Iter-154000; D_loss: -1.1723488569259644e-05; G_loss: -0.013021346181631088\n",
      "Iter-155000; D_loss: -0.00026494357734918594; G_loss: -0.013329647481441498\n",
      "Iter-156000; D_loss: -8.60895961523056e-05; G_loss: -0.013391315937042236\n",
      "Iter-157000; D_loss: -0.0008075004443526268; G_loss: -0.013769094832241535\n",
      "Iter-158000; D_loss: -7.733330130577087e-05; G_loss: -0.01345309428870678\n",
      "Iter-159000; D_loss: 6.510037928819656e-05; G_loss: -0.013448229059576988\n",
      "Iter-160000; D_loss: 0.0002617109566926956; G_loss: -0.012658238410949707\n",
      "Iter-161000; D_loss: 1.6734004020690918e-05; G_loss: -0.01324909646064043\n",
      "Iter-162000; D_loss: -5.015917122364044e-05; G_loss: -0.013214019127190113\n",
      "Iter-163000; D_loss: -8.285045623779297e-06; G_loss: -0.013340156525373459\n",
      "Iter-164000; D_loss: -0.00025102123618125916; G_loss: -0.01341005228459835\n",
      "Iter-165000; D_loss: 0.0001427736133337021; G_loss: -0.013543810695409775\n",
      "Iter-166000; D_loss: 0.00017121434211730957; G_loss: -0.013525332324206829\n",
      "Iter-167000; D_loss: -0.0004722177982330322; G_loss: -0.013264771550893784\n",
      "Iter-168000; D_loss: 5.041714757680893e-05; G_loss: -0.013012101873755455\n",
      "Iter-169000; D_loss: -8.256174623966217e-06; G_loss: -0.013211308047175407\n",
      "Iter-170000; D_loss: -0.00016019027680158615; G_loss: -0.013596232049167156\n",
      "Iter-171000; D_loss: 0.0003167819231748581; G_loss: -0.013063326478004456\n",
      "Iter-172000; D_loss: 0.00011402182281017303; G_loss: -0.012986312620341778\n",
      "Iter-173000; D_loss: -0.0006586192175745964; G_loss: -0.013865379616618156\n",
      "Iter-174000; D_loss: -0.0004868144169449806; G_loss: -0.01336144283413887\n",
      "Iter-175000; D_loss: -1.2004747986793518e-05; G_loss: -0.012265938334167004\n",
      "Iter-176000; D_loss: 0.00014949124306440353; G_loss: -0.01347657572478056\n",
      "Iter-177000; D_loss: 3.830995410680771e-05; G_loss: -0.012349014170467854\n",
      "Iter-178000; D_loss: 1.756753772497177e-05; G_loss: -0.012476825155317783\n",
      "Iter-179000; D_loss: 4.83635812997818e-06; G_loss: -0.01180837582796812\n",
      "Iter-180000; D_loss: 1.7733313143253326e-05; G_loss: -0.011028778739273548\n",
      "Iter-181000; D_loss: -3.073364496231079e-08; G_loss: -0.01081940345466137\n",
      "Iter-182000; D_loss: 2.8135254979133606e-06; G_loss: -0.010525770485401154\n",
      "Iter-183000; D_loss: -9.616836905479431e-06; G_loss: -0.010881172493100166\n",
      "Iter-184000; D_loss: -4.706904292106628e-06; G_loss: -0.012084733694791794\n",
      "Iter-185000; D_loss: 3.798771649599075e-05; G_loss: -0.013106497004628181\n",
      "Iter-186000; D_loss: -8.231960237026215e-06; G_loss: -0.01291307806968689\n",
      "Iter-187000; D_loss: 2.0050443708896637e-05; G_loss: -0.013040395453572273\n",
      "Iter-188000; D_loss: 1.0837800800800323e-05; G_loss: -0.013431277126073837\n",
      "Iter-189000; D_loss: -2.644956111907959e-05; G_loss: -0.014087417162954807\n",
      "Iter-190000; D_loss: -2.0256265997886658e-06; G_loss: -0.014213364571332932\n",
      "Iter-191000; D_loss: -7.58003443479538e-06; G_loss: -0.013835231773555279\n",
      "Iter-192000; D_loss: -4.55416738986969e-06; G_loss: -0.01418999768793583\n",
      "Iter-193000; D_loss: -2.8423964977264404e-06; G_loss: -0.014085821807384491\n",
      "Iter-194000; D_loss: -3.516674041748047e-06; G_loss: -0.014058571308851242\n",
      "Iter-195000; D_loss: 8.376315236091614e-06; G_loss: -0.013828391209244728\n",
      "Iter-196000; D_loss: -2.80868262052536e-05; G_loss: -0.01411740854382515\n",
      "Iter-197000; D_loss: 9.760726243257523e-05; G_loss: -0.013949914835393429\n",
      "Iter-198000; D_loss: 1.8416903913021088e-05; G_loss: -0.014054477214813232\n",
      "Iter-199000; D_loss: -6.729736924171448e-06; G_loss: -0.014127966947853565\n",
      "Iter-200000; D_loss: 8.258037269115448e-06; G_loss: -0.01393900066614151\n",
      "Iter-201000; D_loss: 1.0845251381397247e-05; G_loss: -0.013895226642489433\n",
      "Iter-202000; D_loss: -2.5027431547641754e-05; G_loss: -0.014095393940806389\n",
      "Iter-203000; D_loss: -8.581019937992096e-05; G_loss: -0.014088745228946209\n",
      "Iter-204000; D_loss: 3.1867995858192444e-05; G_loss: -0.013881047256290913\n",
      "Iter-205000; D_loss: -5.182810127735138e-05; G_loss: -0.01385416742414236\n",
      "Iter-206000; D_loss: 3.2646581530570984e-05; G_loss: -0.014166110195219517\n",
      "Iter-207000; D_loss: 2.756994217634201e-05; G_loss: -0.014342166483402252\n",
      "Iter-208000; D_loss: 4.834868013858795e-05; G_loss: -0.014223211444914341\n",
      "Iter-209000; D_loss: 2.9420480132102966e-06; G_loss: -0.014552021399140358\n",
      "Iter-210000; D_loss: 8.044764399528503e-06; G_loss: -0.013589532114565372\n",
      "Iter-211000; D_loss: -5.8848410844802856e-05; G_loss: -0.014094405807554722\n",
      "Iter-212000; D_loss: -1.285504549741745e-05; G_loss: -0.01394431572407484\n",
      "Iter-213000; D_loss: -5.7620927691459656e-06; G_loss: -0.014116032049059868\n",
      "Iter-214000; D_loss: -1.3529323041439056e-05; G_loss: -0.013941196724772453\n",
      "Iter-215000; D_loss: 1.2973323464393616e-06; G_loss: -0.01388108916580677\n",
      "Iter-216000; D_loss: -1.439172774553299e-05; G_loss: -0.014000090770423412\n",
      "Iter-217000; D_loss: -3.727804869413376e-05; G_loss: -0.013808010146021843\n",
      "Iter-218000; D_loss: 1.9856728613376617e-05; G_loss: -0.013887817040085793\n",
      "Iter-219000; D_loss: 6.342306733131409e-07; G_loss: -0.013693899847567081\n",
      "Iter-220000; D_loss: -1.0604970157146454e-05; G_loss: -0.013820667751133442\n"
     ]
    },
    {
     "name": "stdout",
     "output_type": "stream",
     "text": [
      "Iter-221000; D_loss: -6.823800504207611e-06; G_loss: -0.013857719488441944\n",
      "Iter-222000; D_loss: -6.0051679611206055e-06; G_loss: -0.013860220089554787\n",
      "Iter-223000; D_loss: -2.4978071451187134e-06; G_loss: -0.014066597446799278\n",
      "Iter-224000; D_loss: 4.091300070285797e-06; G_loss: -0.013916289433836937\n",
      "Iter-225000; D_loss: 1.1214055120944977e-05; G_loss: -0.013936677947640419\n",
      "Iter-226000; D_loss: -1.9609928131103516e-05; G_loss: -0.01411453541368246\n",
      "Iter-227000; D_loss: 1.6744248569011688e-05; G_loss: -0.013913869857788086\n",
      "Iter-228000; D_loss: 8.940696716308594e-08; G_loss: -0.01389954425394535\n",
      "Iter-229000; D_loss: 1.6968697309494019e-06; G_loss: -0.014033171348273754\n",
      "Iter-230000; D_loss: 4.453584551811218e-06; G_loss: -0.014037306420505047\n",
      "Iter-231000; D_loss: -2.605840563774109e-06; G_loss: -0.014077886939048767\n",
      "Iter-232000; D_loss: -8.236616849899292e-06; G_loss: -0.014150525443255901\n",
      "Iter-233000; D_loss: -1.3072974979877472e-05; G_loss: -0.014051984995603561\n",
      "Iter-234000; D_loss: 8.138827979564667e-06; G_loss: -0.014101320877671242\n",
      "Iter-235000; D_loss: -6.295740604400635e-06; G_loss: -0.014136131852865219\n",
      "Iter-236000; D_loss: -9.539537131786346e-06; G_loss: -0.01403416134417057\n",
      "Iter-237000; D_loss: 3.5995617508888245e-06; G_loss: -0.013957470655441284\n",
      "Iter-238000; D_loss: -9.95676964521408e-06; G_loss: -0.013918831944465637\n",
      "Iter-239000; D_loss: 1.432560384273529e-05; G_loss: -0.013853393495082855\n",
      "Iter-240000; D_loss: 1.6998499631881714e-05; G_loss: -0.01398834865540266\n",
      "Iter-241000; D_loss: -1.2334436178207397e-05; G_loss: -0.013933678157627583\n",
      "Iter-242000; D_loss: 1.4837831258773804e-05; G_loss: -0.014277888461947441\n",
      "Iter-243000; D_loss: 4.555191844701767e-05; G_loss: -0.014112324453890324\n",
      "Iter-244000; D_loss: 1.087132841348648e-05; G_loss: -0.014086667448282242\n",
      "Iter-245000; D_loss: -1.079309731721878e-05; G_loss: -0.013955601491034031\n",
      "Iter-246000; D_loss: -2.8369948267936707e-05; G_loss: -0.014080782420933247\n",
      "Iter-247000; D_loss: -1.5836209058761597e-05; G_loss: -0.013989130035042763\n",
      "Iter-248000; D_loss: 3.4448690712451935e-05; G_loss: -0.01380244642496109\n",
      "Iter-249000; D_loss: -1.4029443264007568e-05; G_loss: -0.013980124145746231\n",
      "Iter-250000; D_loss: -2.4495646357536316e-05; G_loss: -0.013805078342556953\n",
      "Iter-251000; D_loss: -0.00016809441149234772; G_loss: -0.013705053366720676\n",
      "Iter-252000; D_loss: 9.328126907348633e-06; G_loss: -0.013573415577411652\n",
      "Iter-253000; D_loss: -3.470107913017273e-06; G_loss: -0.013166462071239948\n",
      "Iter-254000; D_loss: 1.838337630033493e-05; G_loss: -0.013687463477253914\n",
      "Iter-255000; D_loss: -2.950429916381836e-06; G_loss: -0.013080775737762451\n",
      "Iter-256000; D_loss: 2.180878072977066e-05; G_loss: -0.013293614611029625\n",
      "Iter-257000; D_loss: 1.31167471408844e-05; G_loss: -0.013676692731678486\n",
      "Iter-258000; D_loss: -7.1069225668907166e-06; G_loss: -0.013812603428959846\n",
      "Iter-259000; D_loss: 8.69017094373703e-06; G_loss: -0.013868113979697227\n",
      "Iter-260000; D_loss: -3.628060221672058e-05; G_loss: -0.013704391196370125\n",
      "Iter-261000; D_loss: -2.096407115459442e-06; G_loss: -0.013671418651938438\n",
      "Iter-262000; D_loss: 8.618459105491638e-06; G_loss: -0.013558389618992805\n",
      "Iter-263000; D_loss: -5.066394805908203e-07; G_loss: -0.014115912839770317\n",
      "Iter-264000; D_loss: 2.6989728212356567e-06; G_loss: -0.013625958934426308\n",
      "Iter-265000; D_loss: 1.5338882803916931e-06; G_loss: -0.013845693320035934\n",
      "Iter-266000; D_loss: 6.659887731075287e-06; G_loss: -0.013855122961103916\n",
      "Iter-267000; D_loss: 5.210563540458679e-05; G_loss: -0.013903278857469559\n",
      "Iter-268000; D_loss: 3.0932947993278503e-05; G_loss: -0.01356691587716341\n",
      "Iter-269000; D_loss: -9.313225746154785e-07; G_loss: -0.01393919438123703\n",
      "Iter-270000; D_loss: -4.971399903297424e-06; G_loss: -0.013882480561733246\n",
      "Iter-271000; D_loss: 2.0529143512248993e-05; G_loss: -0.013918639160692692\n",
      "Iter-272000; D_loss: 1.5234574675559998e-05; G_loss: -0.014205035753548145\n",
      "Iter-273000; D_loss: -6.1569735407829285e-06; G_loss: -0.013811678625643253\n",
      "Iter-274000; D_loss: -2.1144747734069824e-05; G_loss: -0.013838440179824829\n",
      "Iter-275000; D_loss: 9.64384526014328e-06; G_loss: -0.013892710208892822\n",
      "Iter-276000; D_loss: -1.7471611499786377e-06; G_loss: -0.013667706400156021\n",
      "Iter-277000; D_loss: 3.8053840398788452e-06; G_loss: -0.013514382764697075\n",
      "Iter-278000; D_loss: -5.6782737374305725e-06; G_loss: -0.01377771981060505\n",
      "Iter-279000; D_loss: 2.852361649274826e-05; G_loss: -0.01401890441775322\n",
      "Iter-280000; D_loss: -1.278705894947052e-06; G_loss: -0.013888679444789886\n",
      "Iter-281000; D_loss: -3.2456591725349426e-05; G_loss: -0.014134894125163555\n",
      "Iter-282000; D_loss: 5.422160029411316e-06; G_loss: -0.013868425972759724\n",
      "Iter-283000; D_loss: 1.6724690794944763e-05; G_loss: -0.013958097435534\n",
      "Iter-284000; D_loss: 2.1529383957386017e-05; G_loss: -0.013911791145801544\n",
      "Iter-285000; D_loss: 1.3016164302825928e-05; G_loss: -0.013827653601765633\n",
      "Iter-286000; D_loss: -6.0714781284332275e-05; G_loss: -0.013975284993648529\n",
      "Iter-287000; D_loss: 5.111377686262131e-05; G_loss: -0.013760779984295368\n",
      "Iter-288000; D_loss: 1.8431805074214935e-05; G_loss: -0.013729843311011791\n",
      "Iter-289000; D_loss: 4.150904715061188e-06; G_loss: -0.013848086819052696\n",
      "Iter-290000; D_loss: -5.28283417224884e-05; G_loss: -0.013749661855399609\n",
      "Iter-291000; D_loss: -1.4657154679298401e-05; G_loss: -0.013847721740603447\n",
      "Iter-292000; D_loss: -4.4796615839004517e-07; G_loss: -0.01351045910269022\n",
      "Iter-293000; D_loss: 1.3229437172412872e-05; G_loss: -0.013827123679220676\n",
      "Iter-294000; D_loss: 6.149522960186005e-05; G_loss: -0.01327513623982668\n",
      "Iter-295000; D_loss: -3.566313534975052e-05; G_loss: -0.013357537798583508\n",
      "Iter-296000; D_loss: 9.688548743724823e-06; G_loss: -0.013736112043261528\n",
      "Iter-297000; D_loss: 2.0359642803668976e-05; G_loss: -0.01314241997897625\n",
      "Iter-298000; D_loss: 2.0150095224380493e-05; G_loss: -0.013402611017227173\n",
      "Iter-299000; D_loss: 1.6958452761173248e-05; G_loss: -0.013589592650532722\n",
      "Iter-300000; D_loss: -1.5059486031532288e-06; G_loss: -0.013090812601149082\n",
      "Iter-301000; D_loss: 7.16187059879303e-07; G_loss: -0.013444516807794571\n",
      "Iter-302000; D_loss: 7.5856223702430725e-06; G_loss: -0.013222827576100826\n",
      "Iter-303000; D_loss: -3.094784915447235e-05; G_loss: -0.0133188646286726\n",
      "Iter-304000; D_loss: -3.3210963010787964e-05; G_loss: -0.012931521981954575\n",
      "Iter-305000; D_loss: -1.1356547474861145e-05; G_loss: -0.013142138719558716\n",
      "Iter-306000; D_loss: -1.1476688086986542e-05; G_loss: -0.01333331037312746\n",
      "Iter-307000; D_loss: -2.2123567759990692e-05; G_loss: -0.013431385159492493\n",
      "Iter-308000; D_loss: 1.127738505601883e-05; G_loss: -0.013156243599951267\n",
      "Iter-309000; D_loss: 4.425644874572754e-06; G_loss: -0.013485797680914402\n",
      "Iter-310000; D_loss: -1.8961727619171143e-06; G_loss: -0.013294585049152374\n",
      "Iter-311000; D_loss: 1.8239952623844147e-05; G_loss: -0.013620159588754177\n",
      "Iter-312000; D_loss: -3.085378557443619e-05; G_loss: -0.013840358704328537\n",
      "Iter-313000; D_loss: 1.8552877008914948e-05; G_loss: -0.013620286248624325\n",
      "Iter-314000; D_loss: 1.4789402484893799e-06; G_loss: -0.013341096229851246\n",
      "Iter-315000; D_loss: 1.062639057636261e-06; G_loss: -0.01342958677560091\n",
      "Iter-316000; D_loss: -2.8518028557300568e-05; G_loss: -0.013886060565710068\n",
      "Iter-317000; D_loss: -1.581106334924698e-05; G_loss: -0.013534423895180225\n",
      "Iter-318000; D_loss: 6.439071148633957e-05; G_loss: -0.013883309438824654\n",
      "Iter-319000; D_loss: 1.4397315680980682e-05; G_loss: -0.013535141944885254\n",
      "Iter-320000; D_loss: -2.7669593691825867e-06; G_loss: -0.013695680536329746\n",
      "Iter-321000; D_loss: -3.0510127544403076e-06; G_loss: -0.013553459197282791\n",
      "Iter-322000; D_loss: -5.804933607578278e-06; G_loss: -0.013655953109264374\n",
      "Iter-323000; D_loss: -5.951151251792908e-07; G_loss: -0.014040353707969189\n",
      "Iter-324000; D_loss: 2.90554016828537e-05; G_loss: -0.01364980824291706\n",
      "Iter-325000; D_loss: 1.7937272787094116e-06; G_loss: -0.01348523236811161\n",
      "Iter-326000; D_loss: -1.1346302926540375e-05; G_loss: -0.013797982595860958\n",
      "Iter-327000; D_loss: -8.792616426944733e-06; G_loss: -0.013650243170559406\n",
      "Iter-328000; D_loss: 1.7113983631134033e-05; G_loss: -0.013723209500312805\n",
      "Iter-329000; D_loss: 3.958120942115784e-06; G_loss: -0.013811128214001656\n",
      "Iter-330000; D_loss: -3.0137598514556885e-06; G_loss: -0.013645083643496037\n"
     ]
    },
    {
     "name": "stdout",
     "output_type": "stream",
     "text": [
      "Iter-331000; D_loss: -1.1702068150043488e-05; G_loss: -0.013675695285201073\n",
      "Iter-332000; D_loss: 3.9637088775634766e-05; G_loss: -0.013828619383275509\n",
      "Iter-333000; D_loss: 9.834766387939453e-06; G_loss: -0.013576728291809559\n",
      "Iter-334000; D_loss: 1.9060447812080383e-05; G_loss: -0.013898542150855064\n",
      "Iter-335000; D_loss: -1.4967285096645355e-05; G_loss: -0.013551978394389153\n",
      "Iter-336000; D_loss: 9.052455425262451e-07; G_loss: -0.013641643337905407\n",
      "Iter-337000; D_loss: -1.5659257769584656e-05; G_loss: -0.01371755637228489\n",
      "Iter-338000; D_loss: -1.1683441698551178e-05; G_loss: -0.013945288956165314\n",
      "Iter-339000; D_loss: 2.0703300833702087e-05; G_loss: -0.013823158107697964\n",
      "Iter-340000; D_loss: 6.410758942365646e-05; G_loss: -0.013753972947597504\n",
      "Iter-341000; D_loss: -3.0133873224258423e-05; G_loss: -0.0140620032325387\n",
      "Iter-342000; D_loss: 3.845337778329849e-05; G_loss: -0.013765930198132992\n",
      "Iter-343000; D_loss: -4.79724258184433e-06; G_loss: -0.013833178207278252\n",
      "Iter-344000; D_loss: 1.827254891395569e-05; G_loss: -0.013834971003234386\n",
      "Iter-345000; D_loss: 1.2712553143501282e-05; G_loss: -0.013830387964844704\n",
      "Iter-346000; D_loss: -4.153698682785034e-06; G_loss: -0.013855700381100178\n",
      "Iter-347000; D_loss: -4.8004090785980225e-05; G_loss: -0.013584381900727749\n",
      "Iter-348000; D_loss: 4.357192665338516e-05; G_loss: -0.01343093253672123\n",
      "Iter-349000; D_loss: 4.647020250558853e-05; G_loss: -0.01331824529916048\n",
      "Iter-350000; D_loss: 3.4049153327941895e-06; G_loss: -0.01331198588013649\n",
      "Iter-351000; D_loss: -1.1092051863670349e-05; G_loss: -0.013546831905841827\n",
      "Iter-352000; D_loss: -5.1410868763923645e-05; G_loss: -0.013432848267257214\n",
      "Iter-353000; D_loss: -2.9105693101882935e-05; G_loss: -0.013274121098220348\n",
      "Iter-354000; D_loss: -3.109592944383621e-05; G_loss: -0.01349041610956192\n",
      "Iter-355000; D_loss: 1.1761672794818878e-05; G_loss: -0.013508325442671776\n",
      "Iter-356000; D_loss: -4.371628165245056e-06; G_loss: -0.013297845609486103\n",
      "Iter-357000; D_loss: 4.7400593757629395e-05; G_loss: -0.013588056899607182\n",
      "Iter-358000; D_loss: 1.0985881090164185e-05; G_loss: -0.013460619375109673\n",
      "Iter-359000; D_loss: 1.0326504707336426e-05; G_loss: -0.013476410880684853\n",
      "Iter-360000; D_loss: 9.943731129169464e-06; G_loss: -0.01331130787730217\n",
      "Iter-361000; D_loss: -4.325062036514282e-06; G_loss: -0.013392528519034386\n",
      "Iter-362000; D_loss: -1.4193356037139893e-05; G_loss: -0.013598616234958172\n",
      "Iter-363000; D_loss: -3.4244731068611145e-06; G_loss: -0.01339025143533945\n",
      "Iter-364000; D_loss: 7.688067853450775e-06; G_loss: -0.013285776600241661\n",
      "Iter-365000; D_loss: -3.607943654060364e-05; G_loss: -0.013567733578383923\n",
      "Iter-366000; D_loss: 2.4502165615558624e-05; G_loss: -0.013770358636975288\n",
      "Iter-367000; D_loss: -1.2530013918876648e-05; G_loss: -0.01350767258554697\n",
      "Iter-368000; D_loss: 1.6215257346630096e-05; G_loss: -0.013482329435646534\n",
      "Iter-369000; D_loss: 4.5093707740306854e-05; G_loss: -0.013747511431574821\n",
      "Iter-370000; D_loss: -6.729178130626678e-05; G_loss: -0.01368509978055954\n",
      "Iter-371000; D_loss: -3.2316893339157104e-07; G_loss: -0.013261083513498306\n",
      "Iter-372000; D_loss: 2.99699604511261e-06; G_loss: -0.013289240188896656\n",
      "Iter-373000; D_loss: 2.4586915969848633e-07; G_loss: -0.013498093001544476\n",
      "Iter-374000; D_loss: 2.5816261768341064e-06; G_loss: -0.013448820449411869\n",
      "Iter-375000; D_loss: 4.648230969905853e-06; G_loss: -0.013558187521994114\n",
      "Iter-376000; D_loss: 5.792826414108276e-07; G_loss: -0.013433695770800114\n",
      "Iter-377000; D_loss: 9.337440133094788e-06; G_loss: -0.013572980649769306\n",
      "Iter-378000; D_loss: 7.547438144683838e-06; G_loss: -0.013449808582663536\n",
      "Iter-379000; D_loss: 1.7430633306503296e-05; G_loss: -0.013487264513969421\n",
      "Iter-380000; D_loss: 3.877095878124237e-06; G_loss: -0.013650965876877308\n",
      "Iter-381000; D_loss: 2.1085143089294434e-06; G_loss: -0.013533521443605423\n",
      "Iter-382000; D_loss: 4.09027561545372e-05; G_loss: -0.013492063619196415\n",
      "Iter-383000; D_loss: -1.4193356037139893e-05; G_loss: -0.013586459681391716\n",
      "Iter-384000; D_loss: -2.125278115272522e-06; G_loss: -0.01335807517170906\n",
      "Iter-385000; D_loss: -2.237968146800995e-06; G_loss: -0.013551237992942333\n",
      "Iter-386000; D_loss: -2.4866312742233276e-06; G_loss: -0.013628490269184113\n",
      "Iter-387000; D_loss: -4.197470843791962e-06; G_loss: -0.013391384854912758\n",
      "Iter-388000; D_loss: 2.059992402791977e-05; G_loss: -0.013046380132436752\n",
      "Iter-389000; D_loss: 1.4462508261203766e-05; G_loss: -0.012926182709634304\n",
      "Iter-390000; D_loss: 3.1869858503341675e-06; G_loss: -0.012329834513366222\n",
      "Iter-391000; D_loss: 8.130446076393127e-06; G_loss: -0.012286932207643986\n",
      "Iter-392000; D_loss: -2.162531018257141e-06; G_loss: -0.012457892298698425\n",
      "Iter-393000; D_loss: -8.516013622283936e-06; G_loss: -0.012839261442422867\n",
      "Iter-394000; D_loss: 5.031004548072815e-06; G_loss: -0.012731741182506084\n",
      "Iter-395000; D_loss: -1.0102987289428711e-05; G_loss: -0.012957025319337845\n",
      "Iter-396000; D_loss: -1.996755599975586e-06; G_loss: -0.013090747408568859\n",
      "Iter-397000; D_loss: 3.0593015253543854e-05; G_loss: -0.013430523686110973\n",
      "Iter-398000; D_loss: 3.118067979812622e-06; G_loss: -0.013261055573821068\n",
      "Iter-399000; D_loss: -2.596527338027954e-06; G_loss: -0.013463865965604782\n",
      "Iter-400000; D_loss: 1.2898817658424377e-06; G_loss: -0.013368979096412659\n",
      "Iter-401000; D_loss: 4.935078322887421e-06; G_loss: -0.013228533789515495\n",
      "Iter-402000; D_loss: 2.602115273475647e-06; G_loss: -0.012782382778823376\n",
      "Iter-403000; D_loss: 2.4701468646526337e-05; G_loss: -0.012731452472507954\n",
      "Iter-404000; D_loss: -1.0635703802108765e-06; G_loss: -0.012939859181642532\n",
      "Iter-405000; D_loss: -8.810311555862427e-06; G_loss: -0.01284013967961073\n",
      "Iter-406000; D_loss: 1.1818483471870422e-06; G_loss: -0.01309989020228386\n",
      "Iter-407000; D_loss: -6.398186087608337e-06; G_loss: -0.013110118918120861\n",
      "Iter-408000; D_loss: 5.978159606456757e-06; G_loss: -0.013397679664194584\n",
      "Iter-409000; D_loss: -5.105510354042053e-06; G_loss: -0.013543904758989811\n",
      "Iter-410000; D_loss: 2.5263987481594086e-05; G_loss: -0.01383122056722641\n",
      "Iter-411000; D_loss: -1.4697201550006866e-05; G_loss: -0.013614681549370289\n",
      "Iter-412000; D_loss: -3.394950181245804e-05; G_loss: -0.013722004368901253\n",
      "Iter-413000; D_loss: 2.1204352378845215e-05; G_loss: -0.013334328308701515\n",
      "Iter-414000; D_loss: -2.673827111721039e-06; G_loss: -0.013210484758019447\n",
      "Iter-415000; D_loss: 1.3342127203941345e-05; G_loss: -0.01353868842124939\n",
      "Iter-416000; D_loss: -4.591420292854309e-07; G_loss: -0.013727612793445587\n",
      "Iter-417000; D_loss: 3.223307430744171e-06; G_loss: -0.01344427652657032\n",
      "Iter-418000; D_loss: -1.5280209481716156e-05; G_loss: -0.013286774046719074\n",
      "Iter-419000; D_loss: -1.0057352483272552e-05; G_loss: -0.013489612378180027\n",
      "Iter-420000; D_loss: -4.811212420463562e-06; G_loss: -0.01321461796760559\n",
      "Iter-421000; D_loss: -6.5676867961883545e-06; G_loss: -0.01308495458215475\n",
      "Iter-422000; D_loss: 1.0308809578418732e-05; G_loss: -0.013157486915588379\n",
      "Iter-423000; D_loss: -2.980884164571762e-05; G_loss: -0.013160670176148415\n",
      "Iter-424000; D_loss: 3.255624324083328e-05; G_loss: -0.013271315954625607\n",
      "Iter-425000; D_loss: -2.6180408895015717e-05; G_loss: -0.013402624987065792\n",
      "Iter-426000; D_loss: -3.38749960064888e-05; G_loss: -0.013340926729142666\n",
      "Iter-427000; D_loss: -6.424263119697571e-06; G_loss: -0.01336636207997799\n",
      "Iter-428000; D_loss: -5.238596349954605e-05; G_loss: -0.013547029346227646\n",
      "Iter-429000; D_loss: -1.0700896382331848e-06; G_loss: -0.013074835762381554\n",
      "Iter-430000; D_loss: -1.3024546205997467e-05; G_loss: -0.01327548362314701\n",
      "Iter-431000; D_loss: -2.2100284695625305e-06; G_loss: -0.012718355283141136\n",
      "Iter-432000; D_loss: 1.69314444065094e-06; G_loss: -0.01240572426468134\n",
      "Iter-433000; D_loss: 1.8075108528137207e-05; G_loss: -0.012430662289261818\n",
      "Iter-434000; D_loss: 4.841946065425873e-06; G_loss: -0.013074840418994427\n",
      "Iter-435000; D_loss: -1.280568540096283e-05; G_loss: -0.01286457758396864\n",
      "Iter-436000; D_loss: -2.1044164896011353e-05; G_loss: -0.013455027714371681\n",
      "Iter-437000; D_loss: 1.300126314163208e-05; G_loss: -0.013104520738124847\n",
      "Iter-438000; D_loss: 4.64264303445816e-06; G_loss: -0.013314219191670418\n",
      "Iter-439000; D_loss: -2.2910535335540771e-07; G_loss: -0.013146474957466125\n",
      "Iter-440000; D_loss: -5.752779543399811e-06; G_loss: -0.013229594565927982\n"
     ]
    },
    {
     "name": "stdout",
     "output_type": "stream",
     "text": [
      "Iter-441000; D_loss: 1.8505379557609558e-06; G_loss: -0.012530706822872162\n",
      "Iter-442000; D_loss: -5.444511771202087e-06; G_loss: -0.012745020911097527\n",
      "Iter-443000; D_loss: -4.152767360210419e-06; G_loss: -0.011942366138100624\n",
      "Iter-444000; D_loss: -9.98377799987793e-07; G_loss: -0.011324294842779636\n",
      "Iter-445000; D_loss: 3.975816071033478e-06; G_loss: -0.011255215853452682\n",
      "Iter-446000; D_loss: -6.05359673500061e-08; G_loss: -0.010971155017614365\n",
      "Iter-447000; D_loss: 1.1604279279708862e-06; G_loss: -0.012164182029664516\n",
      "Iter-448000; D_loss: 2.1131709218025208e-06; G_loss: -0.012154822237789631\n",
      "Iter-449000; D_loss: -3.563240170478821e-06; G_loss: -0.011905500665307045\n",
      "Iter-450000; D_loss: 8.391216397285461e-07; G_loss: -0.011743037961423397\n",
      "Iter-451000; D_loss: -6.862916052341461e-06; G_loss: -0.011956136673688889\n",
      "Iter-452000; D_loss: -7.022172212600708e-06; G_loss: -0.011884837411344051\n",
      "Iter-453000; D_loss: 1.7723068594932556e-06; G_loss: -0.0121703390032053\n",
      "Iter-454000; D_loss: 7.166527211666107e-06; G_loss: -0.01180639211088419\n",
      "Iter-455000; D_loss: -1.2023374438285828e-06; G_loss: -0.011810006573796272\n",
      "Iter-456000; D_loss: 6.774440407752991e-06; G_loss: -0.012203019112348557\n",
      "Iter-457000; D_loss: -2.575106918811798e-06; G_loss: -0.012212012894451618\n",
      "Iter-458000; D_loss: -2.1420419216156006e-06; G_loss: -0.012401710264384747\n",
      "Iter-459000; D_loss: 7.313676178455353e-06; G_loss: -0.013334700837731361\n",
      "Iter-460000; D_loss: 3.4514814615249634e-06; G_loss: -0.013576903380453587\n",
      "Iter-461000; D_loss: -5.280598998069763e-07; G_loss: -0.013888278044760227\n",
      "Iter-462000; D_loss: -9.87853854894638e-06; G_loss: -0.012936579063534737\n",
      "Iter-463000; D_loss: 7.39656388759613e-06; G_loss: -0.012709961272776127\n",
      "Iter-464000; D_loss: -1.0877847671508789e-05; G_loss: -0.012740240432322025\n",
      "Iter-465000; D_loss: 1.4896504580974579e-05; G_loss: -0.012859378941357136\n",
      "Iter-466000; D_loss: 7.292255759239197e-06; G_loss: -0.012973933480679989\n",
      "Iter-467000; D_loss: 1.1970289051532745e-05; G_loss: -0.013050342909991741\n",
      "Iter-468000; D_loss: -6.784684956073761e-06; G_loss: -0.01297032367438078\n",
      "Iter-469000; D_loss: 5.653128027915955e-07; G_loss: -0.012525137513875961\n",
      "Iter-470000; D_loss: -6.802380084991455e-06; G_loss: -0.012461668811738491\n",
      "Iter-471000; D_loss: -1.516193151473999e-06; G_loss: -0.012189417146146297\n",
      "Iter-472000; D_loss: 6.806105375289917e-06; G_loss: -0.012125619687139988\n",
      "Iter-473000; D_loss: 7.843691855669022e-05; G_loss: -0.012972868978977203\n",
      "Iter-474000; D_loss: 1.1528842151165009e-05; G_loss: -0.01230823528021574\n",
      "Iter-475000; D_loss: 1.3094395399093628e-06; G_loss: -0.011648274026811123\n",
      "Iter-476000; D_loss: -9.587965905666351e-06; G_loss: -0.011545827612280846\n",
      "Iter-477000; D_loss: 4.001893103122711e-06; G_loss: -0.011395571753382683\n",
      "Iter-478000; D_loss: 3.632158041000366e-07; G_loss: -0.01100582629442215\n",
      "Iter-479000; D_loss: 1.4912337064743042e-05; G_loss: -0.011121300049126148\n",
      "Iter-480000; D_loss: 1.4893710613250732e-05; G_loss: -0.011135266162455082\n",
      "Iter-481000; D_loss: 3.0584633350372314e-06; G_loss: -0.01097872294485569\n",
      "Iter-482000; D_loss: -1.9529834389686584e-06; G_loss: -0.01070262212306261\n",
      "Iter-483000; D_loss: -4.917383193969727e-07; G_loss: -0.011295942589640617\n",
      "Iter-484000; D_loss: -5.02169132232666e-06; G_loss: -0.011313346214592457\n",
      "Iter-485000; D_loss: 2.859160304069519e-07; G_loss: -0.011231712996959686\n",
      "Iter-486000; D_loss: -1.3792887330055237e-06; G_loss: -0.011042497120797634\n",
      "Iter-487000; D_loss: 1.0225921869277954e-06; G_loss: -0.010754751041531563\n",
      "Iter-488000; D_loss: -8.624047040939331e-07; G_loss: -0.010579200461506844\n",
      "Iter-489000; D_loss: -1.30385160446167e-07; G_loss: -0.010316423140466213\n",
      "Iter-490000; D_loss: -7.963739335536957e-06; G_loss: -0.00973324105143547\n",
      "Iter-491000; D_loss: -1.2302771210670471e-06; G_loss: -0.01015972625464201\n",
      "Iter-492000; D_loss: 2.925284206867218e-06; G_loss: -0.009928605519235134\n",
      "Iter-493000; D_loss: 7.10412859916687e-06; G_loss: -0.010318487882614136\n",
      "Iter-494000; D_loss: 1.103617250919342e-06; G_loss: -0.010753078386187553\n",
      "Iter-495000; D_loss: -3.0919909477233887e-07; G_loss: -0.010545646771788597\n",
      "Iter-496000; D_loss: 5.231238901615143e-06; G_loss: -0.010597305372357368\n",
      "Iter-497000; D_loss: 4.861503839492798e-07; G_loss: -0.01035041268914938\n",
      "Iter-498000; D_loss: 3.939494490623474e-06; G_loss: -0.010383373126387596\n",
      "Iter-499000; D_loss: 1.5683472156524658e-06; G_loss: -0.010195075534284115\n"
     ]
    }
   ],
   "source": [
    "#training \n",
    "print(\"Start training WGAN model...\")\n",
    "d_iter = 2 \n",
    "for it in range(500000):\n",
    "    if it<100: d_iter = 50 \n",
    "    else:\n",
    "        d_iter = 2\n",
    "    for _ in range(d_iter):\n",
    "        # Sample data\n",
    "        z = Variable(torch.randn(mb_size, z_dim)).cpu()\n",
    "        try:\n",
    "            X, _ = data_iter.next() \n",
    "        except StopIteration:\n",
    "            data_iter = iter(train_loader) \n",
    "            X, _ = data_iter.next()\n",
    "        #X = Variable(torch.from_numpy(X))\n",
    "        X = X.cpu()\n",
    "        \n",
    "        # Dicriminator forward-loss-backward-update \n",
    "        G_sample = G(z)\n",
    "        D_real = D(X)\n",
    "        D_fake = D(G_sample)\n",
    "        \n",
    "        D_loss = -(torch.mean(D_real) - torch.mean(D_fake))\n",
    "        \n",
    "        D_loss.backward() \n",
    "        D_solver.step()\n",
    "        \n",
    "        # Weight clipping \n",
    "        for p in D.parameters():\n",
    "            p.data.clamp_(-0.01, 0.01)\n",
    "            \n",
    "        D_losses.append(D_loss.data.cpu().numpy())\n",
    "        \n",
    "        # Housekeeping - reset gradient \n",
    "        reset_grad()\n",
    "        \n",
    "    # Generator forward-loss-backward-update \n",
    "    #X = Variable(torch.from_numpy(X)) \n",
    "    z = Variable(torch.randn(mb_size, z_dim)).cpu() #change cpu to cuda\n",
    "    \n",
    "    G_sample = G(z)\n",
    "    D_fake = D(G_sample)\n",
    "    \n",
    "    G_loss = -torch.mean(D_fake)\n",
    "    \n",
    "    G_loss.backward() \n",
    "    G_solver.step()\n",
    "\n",
    "    # Housekeeping - reset gradient \n",
    "    reset_grad()\n",
    "\n",
    "    G_losses.append(G_loss.data.cpu().numpy())\n",
    "\n",
    "    # Print and plot every now and then \n",
    "    if it % 1000 == 0:\n",
    "        print('Iter-{}; D_loss: {}; G_loss: {}'\n",
    "              .format(it, D_loss.data.cpu().numpy(),  \n",
    "                G_loss.data.cpu().numpy()))\n",
    "        \n",
    "        samples = G(z).data.numpy()[:16]\n",
    "\n",
    "#plot losses\n",
    "plt.figure(figsize=(10,5))\n",
    "plt.title(\"Generator and Critic Loss During Training\") \n",
    "plt.plot(G_losses,label=\"Generator\") \n",
    "plt.plot(D_losses,label=\"Critic\") \n",
    "plt.xlabel(\"iter\")\n",
    "plt.ylabel(\"loss\")\n",
    "plt.legend()\n",
    "plt.savefig('UGR_loss_3.png')\n",
    "\n",
    "#save model\n",
    "torch.save({'modelG_state_dict': G.state_dict(), \n",
    "            'modelD_state_dict': D.state_dict(),\n",
    "            'optimizerG_state_dict': G_solver.state_dict(),\n",
    "            'optimizerD_state_dict': D_solver.state_dict(),\n",
    "            'G_loss': G_losses,\n",
    "            'D_loss': D_losses\n",
    "           }, \"WGAN_model_UGR_3.pth\")"
   ]
  },
  {
   "cell_type": "markdown",
   "id": "a947cefd",
   "metadata": {},
   "source": [
    "# Data generation from saved WGAN model"
   ]
  },
  {
   "cell_type": "code",
   "execution_count": 6,
   "id": "6b2da982",
   "metadata": {
    "scrolled": true
   },
   "outputs": [
    {
     "name": "stdout",
     "output_type": "stream",
     "text": [
      "Loading model...\n",
      "----------------------------------------\n",
      "empty df Empty DataFrame\n",
      "Columns: [hour, minute, second, duration, source_ip, dest_ip, source_port, dest_port, protocol, flag1, flag2, flag3, flag4, flag5, flag6, fwd, stos, pkt, byt, Label]\n",
      "Index: []\n",
      "----------------------------------------\n",
      "Completed loading model\n"
     ]
    }
   ],
   "source": [
    "#loaded NN model\n",
    "print(\"Loading model...\")\n",
    "print(\"----------------------------------------\")\n",
    "json_file = open(\"DNN_critic_model_UGR_3.json\",\"r\") \n",
    "loaded_model_json = json_file.read()\n",
    "json_file.close()\n",
    "loaded_model = model_from_json(loaded_model_json) \n",
    "loaded_model.load_weights(\"DNN_critic_model_UGR_3.h5\")\n",
    "\n",
    "G = torch.nn.Sequential(\n",
    "    torch.nn.Linear(z_dim, h_dim),\n",
    "    torch.nn.ReLU(),\n",
    "    torch.nn.Linear(h_dim, h_dim),\n",
    "    torch.nn.ReLU(),\n",
    "    torch.nn.Linear(h_dim, X_dim), \n",
    "    torch.nn.Sigmoid()\n",
    ")\n",
    "\n",
    "checkpoint = torch.load(\"WGAN_model_UGR_3.pth\")\n",
    "G.load_state_dict(checkpoint['modelG_state_dict'])\n",
    "\n",
    "G.eval()\n",
    "G.cpu()\n",
    "\n",
    "final_Data = pd.DataFrame(columns = ['hour','minute','second','duration','source_ip','dest_ip','source_port','dest_port',\n",
    "                                     'protocol','flag1','flag2','flag3','flag4','flag5','flag6',\n",
    "                                     'fwd','stos','pkt','byt','Label']) \n",
    "print(\"empty df\",final_Data) \n",
    "print(\"----------------------------------------\")\n",
    "print(\"Completed loading model\")"
   ]
  },
  {
   "cell_type": "code",
   "execution_count": 7,
   "id": "73faade2",
   "metadata": {
    "scrolled": true
   },
   "outputs": [
    {
     "name": "stdout",
     "output_type": "stream",
     "text": [
      "4/4 [==============================] - 0s 3ms/step\n",
      "-------------------------------------------------------------\n",
      " confusion_matrix for new data with deeper model \n",
      " [[ 0  0]\n",
      " [22 78]]\n",
      "only attack data -  (78, 20)\n",
      "final data  1 -  (78, 20)\n",
      "-------------------------------------------------------------\n",
      "4/4 [==============================] - 0s 3ms/step\n",
      "-------------------------------------------------------------\n",
      " confusion_matrix for new data with deeper model \n",
      " [[ 0  0]\n",
      " [22 78]]\n",
      "only attack data -  (78, 20)\n",
      "final data  2 -  (156, 20)\n",
      "-------------------------------------------------------------\n"
     ]
    },
    {
     "name": "stderr",
     "output_type": "stream",
     "text": [
      "/tmp/ipykernel_743181/4222328789.py:27: FutureWarning: The frame.append method is deprecated and will be removed from pandas in a future version. Use pandas.concat instead.\n",
      "  final_Data = final_Data.append(data1, ignore_index = True)\n",
      "/tmp/ipykernel_743181/4222328789.py:27: FutureWarning: The frame.append method is deprecated and will be removed from pandas in a future version. Use pandas.concat instead.\n",
      "  final_Data = final_Data.append(data1, ignore_index = True)\n"
     ]
    },
    {
     "name": "stdout",
     "output_type": "stream",
     "text": [
      "4/4 [==============================] - 0s 3ms/step\n",
      "-------------------------------------------------------------\n",
      " confusion_matrix for new data with deeper model \n",
      " [[ 0  0]\n",
      " [30 70]]\n",
      "only attack data -  (70, 20)\n",
      "final data  3 -  (226, 20)\n",
      "-------------------------------------------------------------\n",
      "4/4 [==============================] - 0s 2ms/step\n",
      "-------------------------------------------------------------\n",
      " confusion_matrix for new data with deeper model \n",
      " [[ 0  0]\n",
      " [26 74]]\n",
      "only attack data -  (74, 20)\n",
      "final data  4 -  (300, 20)\n",
      "-------------------------------------------------------------\n"
     ]
    },
    {
     "name": "stderr",
     "output_type": "stream",
     "text": [
      "/tmp/ipykernel_743181/4222328789.py:27: FutureWarning: The frame.append method is deprecated and will be removed from pandas in a future version. Use pandas.concat instead.\n",
      "  final_Data = final_Data.append(data1, ignore_index = True)\n",
      "/tmp/ipykernel_743181/4222328789.py:27: FutureWarning: The frame.append method is deprecated and will be removed from pandas in a future version. Use pandas.concat instead.\n",
      "  final_Data = final_Data.append(data1, ignore_index = True)\n"
     ]
    },
    {
     "name": "stdout",
     "output_type": "stream",
     "text": [
      "4/4 [==============================] - 0s 2ms/step\n",
      "-------------------------------------------------------------\n",
      " confusion_matrix for new data with deeper model \n",
      " [[ 0  0]\n",
      " [29 71]]\n",
      "only attack data -  (71, 20)\n",
      "final data  5 -  (371, 20)\n",
      "-------------------------------------------------------------\n",
      "4/4 [==============================] - 0s 2ms/step\n",
      "-------------------------------------------------------------\n",
      " confusion_matrix for new data with deeper model \n",
      " [[ 0  0]\n",
      " [33 67]]\n",
      "only attack data -  (67, 20)\n",
      "final data  6 -  (438, 20)\n",
      "-------------------------------------------------------------\n",
      "4/4 [==============================] - 0s 2ms/step\n",
      "-------------------------------------------------------------\n",
      " confusion_matrix for new data with deeper model \n",
      " [[ 0  0]\n",
      " [25 75]]\n",
      "only attack data -  (75, 20)\n",
      "final data  7 -  (513, 20)\n",
      "-------------------------------------------------------------\n"
     ]
    },
    {
     "name": "stderr",
     "output_type": "stream",
     "text": [
      "/tmp/ipykernel_743181/4222328789.py:27: FutureWarning: The frame.append method is deprecated and will be removed from pandas in a future version. Use pandas.concat instead.\n",
      "  final_Data = final_Data.append(data1, ignore_index = True)\n",
      "/tmp/ipykernel_743181/4222328789.py:27: FutureWarning: The frame.append method is deprecated and will be removed from pandas in a future version. Use pandas.concat instead.\n",
      "  final_Data = final_Data.append(data1, ignore_index = True)\n",
      "/tmp/ipykernel_743181/4222328789.py:27: FutureWarning: The frame.append method is deprecated and will be removed from pandas in a future version. Use pandas.concat instead.\n",
      "  final_Data = final_Data.append(data1, ignore_index = True)\n"
     ]
    },
    {
     "name": "stdout",
     "output_type": "stream",
     "text": [
      "4/4 [==============================] - 0s 2ms/step\n",
      "-------------------------------------------------------------\n",
      " confusion_matrix for new data with deeper model \n",
      " [[ 0  0]\n",
      " [27 73]]\n",
      "only attack data -  (73, 20)\n",
      "final data  8 -  (586, 20)\n",
      "-------------------------------------------------------------\n",
      "4/4 [==============================] - 0s 3ms/step\n",
      "-------------------------------------------------------------\n",
      " confusion_matrix for new data with deeper model \n",
      " [[ 0  0]\n",
      " [32 68]]\n",
      "only attack data -  (68, 20)\n",
      "final data  9 -  (654, 20)\n",
      "-------------------------------------------------------------\n"
     ]
    },
    {
     "name": "stderr",
     "output_type": "stream",
     "text": [
      "/tmp/ipykernel_743181/4222328789.py:27: FutureWarning: The frame.append method is deprecated and will be removed from pandas in a future version. Use pandas.concat instead.\n",
      "  final_Data = final_Data.append(data1, ignore_index = True)\n",
      "/tmp/ipykernel_743181/4222328789.py:27: FutureWarning: The frame.append method is deprecated and will be removed from pandas in a future version. Use pandas.concat instead.\n",
      "  final_Data = final_Data.append(data1, ignore_index = True)\n"
     ]
    },
    {
     "name": "stdout",
     "output_type": "stream",
     "text": [
      "4/4 [==============================] - 0s 3ms/step\n",
      "-------------------------------------------------------------\n",
      " confusion_matrix for new data with deeper model \n",
      " [[ 0  0]\n",
      " [23 77]]\n",
      "only attack data -  (77, 20)\n",
      "final data  10 -  (731, 20)\n",
      "-------------------------------------------------------------\n",
      "4/4 [==============================] - 0s 3ms/step\n",
      "-------------------------------------------------------------\n",
      " confusion_matrix for new data with deeper model \n",
      " [[ 0  0]\n",
      " [33 67]]\n",
      "only attack data -  (67, 20)\n",
      "final data  11 -  (798, 20)\n",
      "-------------------------------------------------------------\n"
     ]
    },
    {
     "name": "stderr",
     "output_type": "stream",
     "text": [
      "/tmp/ipykernel_743181/4222328789.py:27: FutureWarning: The frame.append method is deprecated and will be removed from pandas in a future version. Use pandas.concat instead.\n",
      "  final_Data = final_Data.append(data1, ignore_index = True)\n",
      "/tmp/ipykernel_743181/4222328789.py:27: FutureWarning: The frame.append method is deprecated and will be removed from pandas in a future version. Use pandas.concat instead.\n",
      "  final_Data = final_Data.append(data1, ignore_index = True)\n"
     ]
    },
    {
     "name": "stdout",
     "output_type": "stream",
     "text": [
      "4/4 [==============================] - 0s 2ms/step\n",
      "-------------------------------------------------------------\n",
      " confusion_matrix for new data with deeper model \n",
      " [[ 0  0]\n",
      " [24 76]]\n",
      "only attack data -  (76, 20)\n",
      "final data  12 -  (874, 20)\n",
      "-------------------------------------------------------------\n",
      "4/4 [==============================] - 0s 2ms/step\n",
      "-------------------------------------------------------------\n",
      " confusion_matrix for new data with deeper model \n",
      " [[ 0  0]\n",
      " [21 79]]\n",
      "only attack data -  (79, 20)\n",
      "final data  13 -  (953, 20)\n",
      "-------------------------------------------------------------\n",
      "4/4 [==============================] - 0s 2ms/step\n",
      "-------------------------------------------------------------\n",
      " confusion_matrix for new data with deeper model \n",
      " [[ 0  0]\n",
      " [27 73]]\n",
      "only attack data -  (73, 20)\n",
      "final data  14 -  (1026, 20)\n",
      "-------------------------------------------------------------\n"
     ]
    },
    {
     "name": "stderr",
     "output_type": "stream",
     "text": [
      "/tmp/ipykernel_743181/4222328789.py:27: FutureWarning: The frame.append method is deprecated and will be removed from pandas in a future version. Use pandas.concat instead.\n",
      "  final_Data = final_Data.append(data1, ignore_index = True)\n",
      "/tmp/ipykernel_743181/4222328789.py:27: FutureWarning: The frame.append method is deprecated and will be removed from pandas in a future version. Use pandas.concat instead.\n",
      "  final_Data = final_Data.append(data1, ignore_index = True)\n",
      "/tmp/ipykernel_743181/4222328789.py:27: FutureWarning: The frame.append method is deprecated and will be removed from pandas in a future version. Use pandas.concat instead.\n",
      "  final_Data = final_Data.append(data1, ignore_index = True)\n"
     ]
    },
    {
     "name": "stdout",
     "output_type": "stream",
     "text": [
      "4/4 [==============================] - 0s 2ms/step\n",
      "-------------------------------------------------------------\n",
      " confusion_matrix for new data with deeper model \n",
      " [[ 0  0]\n",
      " [28 72]]\n",
      "only attack data -  (72, 20)\n",
      "final data  15 -  (1098, 20)\n",
      "-------------------------------------------------------------\n",
      "4/4 [==============================] - 0s 3ms/step\n",
      "-------------------------------------------------------------\n",
      " confusion_matrix for new data with deeper model \n",
      " [[ 0  0]\n",
      " [24 76]]\n",
      "only attack data -  (76, 20)\n",
      "final data  16 -  (1174, 20)\n",
      "-------------------------------------------------------------\n"
     ]
    },
    {
     "name": "stderr",
     "output_type": "stream",
     "text": [
      "/tmp/ipykernel_743181/4222328789.py:27: FutureWarning: The frame.append method is deprecated and will be removed from pandas in a future version. Use pandas.concat instead.\n",
      "  final_Data = final_Data.append(data1, ignore_index = True)\n",
      "/tmp/ipykernel_743181/4222328789.py:27: FutureWarning: The frame.append method is deprecated and will be removed from pandas in a future version. Use pandas.concat instead.\n",
      "  final_Data = final_Data.append(data1, ignore_index = True)\n"
     ]
    },
    {
     "name": "stdout",
     "output_type": "stream",
     "text": [
      "4/4 [==============================] - 0s 3ms/step\n",
      "-------------------------------------------------------------\n",
      " confusion_matrix for new data with deeper model \n",
      " [[ 0  0]\n",
      " [29 71]]\n",
      "only attack data -  (71, 20)\n",
      "final data  17 -  (1245, 20)\n",
      "-------------------------------------------------------------\n",
      "4/4 [==============================] - 0s 3ms/step\n",
      "-------------------------------------------------------------\n",
      " confusion_matrix for new data with deeper model \n",
      " [[ 0  0]\n",
      " [25 75]]\n",
      "only attack data -  (75, 20)\n",
      "final data  18 -  (1320, 20)\n",
      "-------------------------------------------------------------\n"
     ]
    },
    {
     "name": "stderr",
     "output_type": "stream",
     "text": [
      "/tmp/ipykernel_743181/4222328789.py:27: FutureWarning: The frame.append method is deprecated and will be removed from pandas in a future version. Use pandas.concat instead.\n",
      "  final_Data = final_Data.append(data1, ignore_index = True)\n",
      "/tmp/ipykernel_743181/4222328789.py:27: FutureWarning: The frame.append method is deprecated and will be removed from pandas in a future version. Use pandas.concat instead.\n",
      "  final_Data = final_Data.append(data1, ignore_index = True)\n"
     ]
    },
    {
     "name": "stdout",
     "output_type": "stream",
     "text": [
      "4/4 [==============================] - 0s 2ms/step\n",
      "-------------------------------------------------------------\n",
      " confusion_matrix for new data with deeper model \n",
      " [[ 0  0]\n",
      " [34 66]]\n",
      "only attack data -  (66, 20)\n",
      "final data  19 -  (1386, 20)\n",
      "-------------------------------------------------------------\n",
      "4/4 [==============================] - 0s 2ms/step\n",
      "-------------------------------------------------------------\n",
      " confusion_matrix for new data with deeper model \n",
      " [[ 0  0]\n",
      " [27 73]]\n",
      "only attack data -  (73, 20)\n",
      "final data  20 -  (1459, 20)\n",
      "-------------------------------------------------------------\n",
      "4/4 [==============================] - 0s 2ms/step\n",
      "-------------------------------------------------------------\n",
      " confusion_matrix for new data with deeper model \n",
      " [[ 0  0]\n",
      " [28 72]]\n",
      "only attack data -  (72, 20)\n",
      "final data  21 -  (1531, 20)\n",
      "-------------------------------------------------------------\n"
     ]
    },
    {
     "name": "stderr",
     "output_type": "stream",
     "text": [
      "/tmp/ipykernel_743181/4222328789.py:27: FutureWarning: The frame.append method is deprecated and will be removed from pandas in a future version. Use pandas.concat instead.\n",
      "  final_Data = final_Data.append(data1, ignore_index = True)\n",
      "/tmp/ipykernel_743181/4222328789.py:27: FutureWarning: The frame.append method is deprecated and will be removed from pandas in a future version. Use pandas.concat instead.\n",
      "  final_Data = final_Data.append(data1, ignore_index = True)\n",
      "/tmp/ipykernel_743181/4222328789.py:27: FutureWarning: The frame.append method is deprecated and will be removed from pandas in a future version. Use pandas.concat instead.\n",
      "  final_Data = final_Data.append(data1, ignore_index = True)\n"
     ]
    },
    {
     "name": "stdout",
     "output_type": "stream",
     "text": [
      "4/4 [==============================] - 0s 3ms/step\n",
      "-------------------------------------------------------------\n",
      " confusion_matrix for new data with deeper model \n",
      " [[ 0  0]\n",
      " [25 75]]\n",
      "only attack data -  (75, 20)\n",
      "final data  22 -  (1606, 20)\n",
      "-------------------------------------------------------------\n",
      "4/4 [==============================] - 0s 2ms/step\n",
      "-------------------------------------------------------------\n",
      " confusion_matrix for new data with deeper model \n",
      " [[ 0  0]\n",
      " [29 71]]\n",
      "only attack data -  (71, 20)\n",
      "final data  23 -  (1677, 20)\n",
      "-------------------------------------------------------------\n",
      "4/4 [==============================] - 0s 2ms/step\n",
      "-------------------------------------------------------------\n",
      " confusion_matrix for new data with deeper model \n",
      " [[ 0  0]\n",
      " [23 77]]\n",
      "only attack data -  (77, 20)\n",
      "final data  24 -  (1754, 20)\n",
      "-------------------------------------------------------------\n"
     ]
    },
    {
     "name": "stderr",
     "output_type": "stream",
     "text": [
      "/tmp/ipykernel_743181/4222328789.py:27: FutureWarning: The frame.append method is deprecated and will be removed from pandas in a future version. Use pandas.concat instead.\n",
      "  final_Data = final_Data.append(data1, ignore_index = True)\n",
      "/tmp/ipykernel_743181/4222328789.py:27: FutureWarning: The frame.append method is deprecated and will be removed from pandas in a future version. Use pandas.concat instead.\n",
      "  final_Data = final_Data.append(data1, ignore_index = True)\n",
      "/tmp/ipykernel_743181/4222328789.py:27: FutureWarning: The frame.append method is deprecated and will be removed from pandas in a future version. Use pandas.concat instead.\n",
      "  final_Data = final_Data.append(data1, ignore_index = True)\n"
     ]
    },
    {
     "name": "stdout",
     "output_type": "stream",
     "text": [
      "4/4 [==============================] - 0s 2ms/step\n",
      "-------------------------------------------------------------\n",
      " confusion_matrix for new data with deeper model \n",
      " [[ 0  0]\n",
      " [31 69]]\n",
      "only attack data -  (69, 20)\n",
      "final data  25 -  (1823, 20)\n",
      "-------------------------------------------------------------\n",
      "4/4 [==============================] - 0s 2ms/step\n",
      "-------------------------------------------------------------\n",
      " confusion_matrix for new data with deeper model \n",
      " [[ 0  0]\n",
      " [25 75]]\n",
      "only attack data -  (75, 20)\n",
      "final data  26 -  (1898, 20)\n",
      "-------------------------------------------------------------\n",
      "4/4 [==============================] - 0s 2ms/step\n"
     ]
    },
    {
     "name": "stderr",
     "output_type": "stream",
     "text": [
      "/tmp/ipykernel_743181/4222328789.py:27: FutureWarning: The frame.append method is deprecated and will be removed from pandas in a future version. Use pandas.concat instead.\n",
      "  final_Data = final_Data.append(data1, ignore_index = True)\n",
      "/tmp/ipykernel_743181/4222328789.py:27: FutureWarning: The frame.append method is deprecated and will be removed from pandas in a future version. Use pandas.concat instead.\n",
      "  final_Data = final_Data.append(data1, ignore_index = True)\n"
     ]
    },
    {
     "name": "stdout",
     "output_type": "stream",
     "text": [
      "-------------------------------------------------------------\n",
      " confusion_matrix for new data with deeper model \n",
      " [[ 0  0]\n",
      " [28 72]]\n",
      "only attack data -  (72, 20)\n",
      "final data  27 -  (1970, 20)\n",
      "-------------------------------------------------------------\n",
      "4/4 [==============================] - 0s 2ms/step\n",
      "-------------------------------------------------------------\n",
      " confusion_matrix for new data with deeper model \n",
      " [[ 0  0]\n",
      " [29 71]]\n",
      "only attack data -  (71, 20)\n",
      "final data  28 -  (2041, 20)\n",
      "-------------------------------------------------------------\n",
      "4/4 [==============================] - 0s 2ms/step\n"
     ]
    },
    {
     "name": "stderr",
     "output_type": "stream",
     "text": [
      "/tmp/ipykernel_743181/4222328789.py:27: FutureWarning: The frame.append method is deprecated and will be removed from pandas in a future version. Use pandas.concat instead.\n",
      "  final_Data = final_Data.append(data1, ignore_index = True)\n",
      "/tmp/ipykernel_743181/4222328789.py:27: FutureWarning: The frame.append method is deprecated and will be removed from pandas in a future version. Use pandas.concat instead.\n",
      "  final_Data = final_Data.append(data1, ignore_index = True)\n"
     ]
    },
    {
     "name": "stdout",
     "output_type": "stream",
     "text": [
      "-------------------------------------------------------------\n",
      " confusion_matrix for new data with deeper model \n",
      " [[ 0  0]\n",
      " [23 77]]\n",
      "only attack data -  (77, 20)\n",
      "final data  29 -  (2118, 20)\n",
      "-------------------------------------------------------------\n",
      "4/4 [==============================] - 0s 3ms/step\n",
      "-------------------------------------------------------------\n",
      " confusion_matrix for new data with deeper model \n",
      " [[ 0  0]\n",
      " [23 77]]\n",
      "only attack data -  (77, 20)\n",
      "final data  30 -  (2195, 20)\n",
      "-------------------------------------------------------------\n"
     ]
    },
    {
     "name": "stderr",
     "output_type": "stream",
     "text": [
      "/tmp/ipykernel_743181/4222328789.py:27: FutureWarning: The frame.append method is deprecated and will be removed from pandas in a future version. Use pandas.concat instead.\n",
      "  final_Data = final_Data.append(data1, ignore_index = True)\n",
      "/tmp/ipykernel_743181/4222328789.py:27: FutureWarning: The frame.append method is deprecated and will be removed from pandas in a future version. Use pandas.concat instead.\n",
      "  final_Data = final_Data.append(data1, ignore_index = True)\n"
     ]
    },
    {
     "name": "stdout",
     "output_type": "stream",
     "text": [
      "4/4 [==============================] - 0s 3ms/step\n",
      "-------------------------------------------------------------\n",
      " confusion_matrix for new data with deeper model \n",
      " [[ 0  0]\n",
      " [20 80]]\n",
      "only attack data -  (80, 20)\n",
      "final data  31 -  (2275, 20)\n",
      "-------------------------------------------------------------\n",
      "4/4 [==============================] - 0s 2ms/step\n",
      "-------------------------------------------------------------\n",
      " confusion_matrix for new data with deeper model \n",
      " [[ 0  0]\n",
      " [23 77]]\n",
      "only attack data -  (77, 20)\n",
      "final data  32 -  (2352, 20)\n",
      "-------------------------------------------------------------\n"
     ]
    },
    {
     "name": "stderr",
     "output_type": "stream",
     "text": [
      "/tmp/ipykernel_743181/4222328789.py:27: FutureWarning: The frame.append method is deprecated and will be removed from pandas in a future version. Use pandas.concat instead.\n",
      "  final_Data = final_Data.append(data1, ignore_index = True)\n",
      "/tmp/ipykernel_743181/4222328789.py:27: FutureWarning: The frame.append method is deprecated and will be removed from pandas in a future version. Use pandas.concat instead.\n",
      "  final_Data = final_Data.append(data1, ignore_index = True)\n"
     ]
    },
    {
     "name": "stdout",
     "output_type": "stream",
     "text": [
      "4/4 [==============================] - 0s 2ms/step\n",
      "-------------------------------------------------------------\n",
      " confusion_matrix for new data with deeper model \n",
      " [[ 0  0]\n",
      " [26 74]]\n",
      "only attack data -  (74, 20)\n",
      "final data  33 -  (2426, 20)\n",
      "-------------------------------------------------------------\n",
      "4/4 [==============================] - 0s 2ms/step\n",
      "-------------------------------------------------------------\n",
      " confusion_matrix for new data with deeper model \n",
      " [[ 0  0]\n",
      " [26 74]]\n",
      "only attack data -  (74, 20)\n",
      "final data  34 -  (2500, 20)\n",
      "-------------------------------------------------------------\n",
      "4/4 [==============================] - 0s 2ms/step\n",
      "-------------------------------------------------------------\n",
      " confusion_matrix for new data with deeper model \n",
      " [[ 0  0]\n",
      " [31 69]]\n",
      "only attack data -  (69, 20)\n",
      "final data  35 -  (2569, 20)\n",
      "-------------------------------------------------------------\n"
     ]
    },
    {
     "name": "stderr",
     "output_type": "stream",
     "text": [
      "/tmp/ipykernel_743181/4222328789.py:27: FutureWarning: The frame.append method is deprecated and will be removed from pandas in a future version. Use pandas.concat instead.\n",
      "  final_Data = final_Data.append(data1, ignore_index = True)\n",
      "/tmp/ipykernel_743181/4222328789.py:27: FutureWarning: The frame.append method is deprecated and will be removed from pandas in a future version. Use pandas.concat instead.\n",
      "  final_Data = final_Data.append(data1, ignore_index = True)\n",
      "/tmp/ipykernel_743181/4222328789.py:27: FutureWarning: The frame.append method is deprecated and will be removed from pandas in a future version. Use pandas.concat instead.\n",
      "  final_Data = final_Data.append(data1, ignore_index = True)\n"
     ]
    },
    {
     "name": "stdout",
     "output_type": "stream",
     "text": [
      "4/4 [==============================] - 0s 2ms/step\n",
      "-------------------------------------------------------------\n",
      " confusion_matrix for new data with deeper model \n",
      " [[ 0  0]\n",
      " [28 72]]\n",
      "only attack data -  (72, 20)\n",
      "final data  36 -  (2641, 20)\n",
      "-------------------------------------------------------------\n",
      "4/4 [==============================] - 0s 3ms/step\n",
      "-------------------------------------------------------------\n",
      " confusion_matrix for new data with deeper model \n",
      " [[ 0  0]\n",
      " [24 76]]\n",
      "only attack data -  (76, 20)\n",
      "final data  37 -  (2717, 20)\n",
      "-------------------------------------------------------------\n",
      "4/4 [==============================] - 0s 2ms/step\n",
      "-------------------------------------------------------------\n",
      " confusion_matrix for new data with deeper model \n",
      " [[ 0  0]\n",
      " [19 81]]\n",
      "only attack data -  (81, 20)\n",
      "final data  38 -  (2798, 20)\n",
      "-------------------------------------------------------------\n"
     ]
    },
    {
     "name": "stderr",
     "output_type": "stream",
     "text": [
      "/tmp/ipykernel_743181/4222328789.py:27: FutureWarning: The frame.append method is deprecated and will be removed from pandas in a future version. Use pandas.concat instead.\n",
      "  final_Data = final_Data.append(data1, ignore_index = True)\n",
      "/tmp/ipykernel_743181/4222328789.py:27: FutureWarning: The frame.append method is deprecated and will be removed from pandas in a future version. Use pandas.concat instead.\n",
      "  final_Data = final_Data.append(data1, ignore_index = True)\n",
      "/tmp/ipykernel_743181/4222328789.py:27: FutureWarning: The frame.append method is deprecated and will be removed from pandas in a future version. Use pandas.concat instead.\n",
      "  final_Data = final_Data.append(data1, ignore_index = True)\n"
     ]
    },
    {
     "name": "stdout",
     "output_type": "stream",
     "text": [
      "4/4 [==============================] - 0s 2ms/step\n",
      "-------------------------------------------------------------\n",
      " confusion_matrix for new data with deeper model \n",
      " [[ 0  0]\n",
      " [25 75]]\n",
      "only attack data -  (75, 20)\n",
      "final data  39 -  (2873, 20)\n",
      "-------------------------------------------------------------\n",
      "4/4 [==============================] - 0s 2ms/step\n",
      "-------------------------------------------------------------\n",
      " confusion_matrix for new data with deeper model \n",
      " [[ 0  0]\n",
      " [24 76]]\n",
      "only attack data -  (76, 20)\n",
      "final data  40 -  (2949, 20)\n",
      "-------------------------------------------------------------\n"
     ]
    },
    {
     "name": "stderr",
     "output_type": "stream",
     "text": [
      "/tmp/ipykernel_743181/4222328789.py:27: FutureWarning: The frame.append method is deprecated and will be removed from pandas in a future version. Use pandas.concat instead.\n",
      "  final_Data = final_Data.append(data1, ignore_index = True)\n",
      "/tmp/ipykernel_743181/4222328789.py:27: FutureWarning: The frame.append method is deprecated and will be removed from pandas in a future version. Use pandas.concat instead.\n",
      "  final_Data = final_Data.append(data1, ignore_index = True)\n"
     ]
    },
    {
     "name": "stdout",
     "output_type": "stream",
     "text": [
      "4/4 [==============================] - 0s 3ms/step\n",
      "-------------------------------------------------------------\n",
      " confusion_matrix for new data with deeper model \n",
      " [[ 0  0]\n",
      " [22 78]]\n",
      "only attack data -  (78, 20)\n",
      "final data  41 -  (3027, 20)\n",
      "-------------------------------------------------------------\n",
      "4/4 [==============================] - 0s 2ms/step\n",
      "-------------------------------------------------------------\n",
      " confusion_matrix for new data with deeper model \n",
      " [[ 0  0]\n",
      " [25 75]]\n",
      "only attack data -  (75, 20)\n",
      "final data  42 -  (3102, 20)\n",
      "-------------------------------------------------------------\n",
      "4/4 [==============================] - 0s 2ms/step\n",
      "-------------------------------------------------------------\n",
      " confusion_matrix for new data with deeper model \n",
      " [[ 0  0]\n",
      " [29 71]]\n"
     ]
    },
    {
     "name": "stderr",
     "output_type": "stream",
     "text": [
      "/tmp/ipykernel_743181/4222328789.py:27: FutureWarning: The frame.append method is deprecated and will be removed from pandas in a future version. Use pandas.concat instead.\n",
      "  final_Data = final_Data.append(data1, ignore_index = True)\n",
      "/tmp/ipykernel_743181/4222328789.py:27: FutureWarning: The frame.append method is deprecated and will be removed from pandas in a future version. Use pandas.concat instead.\n",
      "  final_Data = final_Data.append(data1, ignore_index = True)\n"
     ]
    },
    {
     "name": "stdout",
     "output_type": "stream",
     "text": [
      "only attack data -  (71, 20)\n",
      "final data  43 -  (3173, 20)\n",
      "-------------------------------------------------------------\n",
      "4/4 [==============================] - 0s 2ms/step\n",
      "-------------------------------------------------------------\n",
      " confusion_matrix for new data with deeper model \n",
      " [[ 0  0]\n",
      " [24 76]]\n",
      "only attack data -  (76, 20)\n",
      "final data  44 -  (3249, 20)\n",
      "-------------------------------------------------------------\n",
      "4/4 [==============================] - 0s 2ms/step\n"
     ]
    },
    {
     "name": "stderr",
     "output_type": "stream",
     "text": [
      "/tmp/ipykernel_743181/4222328789.py:27: FutureWarning: The frame.append method is deprecated and will be removed from pandas in a future version. Use pandas.concat instead.\n",
      "  final_Data = final_Data.append(data1, ignore_index = True)\n",
      "/tmp/ipykernel_743181/4222328789.py:27: FutureWarning: The frame.append method is deprecated and will be removed from pandas in a future version. Use pandas.concat instead.\n",
      "  final_Data = final_Data.append(data1, ignore_index = True)\n"
     ]
    },
    {
     "name": "stdout",
     "output_type": "stream",
     "text": [
      "-------------------------------------------------------------\n",
      " confusion_matrix for new data with deeper model \n",
      " [[ 0  0]\n",
      " [29 71]]\n",
      "only attack data -  (71, 20)\n",
      "final data  45 -  (3320, 20)\n",
      "-------------------------------------------------------------\n",
      "4/4 [==============================] - 0s 3ms/step\n",
      "-------------------------------------------------------------\n",
      " confusion_matrix for new data with deeper model \n",
      " [[ 0  0]\n",
      " [28 72]]\n",
      "only attack data -  (72, 20)\n",
      "final data  46 -  (3392, 20)\n",
      "-------------------------------------------------------------\n"
     ]
    },
    {
     "name": "stderr",
     "output_type": "stream",
     "text": [
      "/tmp/ipykernel_743181/4222328789.py:27: FutureWarning: The frame.append method is deprecated and will be removed from pandas in a future version. Use pandas.concat instead.\n",
      "  final_Data = final_Data.append(data1, ignore_index = True)\n",
      "/tmp/ipykernel_743181/4222328789.py:27: FutureWarning: The frame.append method is deprecated and will be removed from pandas in a future version. Use pandas.concat instead.\n",
      "  final_Data = final_Data.append(data1, ignore_index = True)\n"
     ]
    },
    {
     "name": "stdout",
     "output_type": "stream",
     "text": [
      "4/4 [==============================] - 0s 2ms/step\n",
      "-------------------------------------------------------------\n",
      " confusion_matrix for new data with deeper model \n",
      " [[ 0  0]\n",
      " [27 73]]\n",
      "only attack data -  (73, 20)\n",
      "final data  47 -  (3465, 20)\n",
      "-------------------------------------------------------------\n",
      "4/4 [==============================] - 0s 2ms/step\n",
      "-------------------------------------------------------------\n",
      " confusion_matrix for new data with deeper model \n",
      " [[ 0  0]\n",
      " [23 77]]\n",
      "only attack data -  (77, 20)\n",
      "final data  48 -  (3542, 20)\n",
      "-------------------------------------------------------------\n",
      "1/4 [======>.......................] - ETA: 0s"
     ]
    },
    {
     "name": "stderr",
     "output_type": "stream",
     "text": [
      "/tmp/ipykernel_743181/4222328789.py:27: FutureWarning: The frame.append method is deprecated and will be removed from pandas in a future version. Use pandas.concat instead.\n",
      "  final_Data = final_Data.append(data1, ignore_index = True)\n",
      "/tmp/ipykernel_743181/4222328789.py:27: FutureWarning: The frame.append method is deprecated and will be removed from pandas in a future version. Use pandas.concat instead.\n",
      "  final_Data = final_Data.append(data1, ignore_index = True)\n"
     ]
    },
    {
     "name": "stdout",
     "output_type": "stream",
     "text": [
      "4/4 [==============================] - 0s 2ms/step\n",
      "-------------------------------------------------------------\n",
      " confusion_matrix for new data with deeper model \n",
      " [[ 0  0]\n",
      " [30 70]]\n",
      "only attack data -  (70, 20)\n",
      "final data  49 -  (3612, 20)\n",
      "-------------------------------------------------------------\n",
      "4/4 [==============================] - 0s 2ms/step\n",
      "-------------------------------------------------------------\n",
      " confusion_matrix for new data with deeper model \n",
      " [[ 0  0]\n",
      " [23 77]]\n",
      "only attack data -  (77, 20)\n",
      "final data  50 -  (3689, 20)\n",
      "-------------------------------------------------------------\n"
     ]
    },
    {
     "name": "stderr",
     "output_type": "stream",
     "text": [
      "/tmp/ipykernel_743181/4222328789.py:27: FutureWarning: The frame.append method is deprecated and will be removed from pandas in a future version. Use pandas.concat instead.\n",
      "  final_Data = final_Data.append(data1, ignore_index = True)\n",
      "/tmp/ipykernel_743181/4222328789.py:27: FutureWarning: The frame.append method is deprecated and will be removed from pandas in a future version. Use pandas.concat instead.\n",
      "  final_Data = final_Data.append(data1, ignore_index = True)\n"
     ]
    },
    {
     "name": "stdout",
     "output_type": "stream",
     "text": [
      "4/4 [==============================] - 0s 2ms/step\n",
      "-------------------------------------------------------------\n",
      " confusion_matrix for new data with deeper model \n",
      " [[ 0  0]\n",
      " [31 69]]\n",
      "only attack data -  (69, 20)\n",
      "final data  51 -  (3758, 20)\n",
      "-------------------------------------------------------------\n",
      "4/4 [==============================] - 0s 2ms/step\n",
      "-------------------------------------------------------------\n",
      " confusion_matrix for new data with deeper model \n",
      " [[ 0  0]\n",
      " [25 75]]\n",
      "only attack data -  (75, 20)\n",
      "final data  52 -  (3833, 20)\n",
      "-------------------------------------------------------------\n"
     ]
    },
    {
     "name": "stderr",
     "output_type": "stream",
     "text": [
      "/tmp/ipykernel_743181/4222328789.py:27: FutureWarning: The frame.append method is deprecated and will be removed from pandas in a future version. Use pandas.concat instead.\n",
      "  final_Data = final_Data.append(data1, ignore_index = True)\n",
      "/tmp/ipykernel_743181/4222328789.py:27: FutureWarning: The frame.append method is deprecated and will be removed from pandas in a future version. Use pandas.concat instead.\n",
      "  final_Data = final_Data.append(data1, ignore_index = True)\n"
     ]
    },
    {
     "name": "stdout",
     "output_type": "stream",
     "text": [
      "4/4 [==============================] - 0s 2ms/step\n",
      "-------------------------------------------------------------\n",
      " confusion_matrix for new data with deeper model \n",
      " [[ 0  0]\n",
      " [30 70]]\n",
      "only attack data -  (70, 20)\n",
      "final data  53 -  (3903, 20)\n",
      "-------------------------------------------------------------\n",
      "4/4 [==============================] - 0s 2ms/step\n",
      "-------------------------------------------------------------\n",
      " confusion_matrix for new data with deeper model \n",
      " [[ 0  0]\n",
      " [25 75]]\n",
      "only attack data -  (75, 20)\n",
      "final data  54 -  (3978, 20)\n",
      "-------------------------------------------------------------\n"
     ]
    },
    {
     "name": "stderr",
     "output_type": "stream",
     "text": [
      "/tmp/ipykernel_743181/4222328789.py:27: FutureWarning: The frame.append method is deprecated and will be removed from pandas in a future version. Use pandas.concat instead.\n",
      "  final_Data = final_Data.append(data1, ignore_index = True)\n",
      "/tmp/ipykernel_743181/4222328789.py:27: FutureWarning: The frame.append method is deprecated and will be removed from pandas in a future version. Use pandas.concat instead.\n",
      "  final_Data = final_Data.append(data1, ignore_index = True)\n"
     ]
    },
    {
     "name": "stdout",
     "output_type": "stream",
     "text": [
      "4/4 [==============================] - 0s 2ms/step\n",
      "-------------------------------------------------------------\n",
      " confusion_matrix for new data with deeper model \n",
      " [[ 0  0]\n",
      " [32 68]]\n",
      "only attack data -  (68, 20)\n",
      "final data  55 -  (4046, 20)\n",
      "-------------------------------------------------------------\n",
      "4/4 [==============================] - 0s 2ms/step\n",
      "-------------------------------------------------------------\n",
      " confusion_matrix for new data with deeper model \n",
      " [[ 0  0]\n",
      " [29 71]]\n",
      "only attack data -  (71, 20)\n",
      "final data  56 -  (4117, 20)\n",
      "-------------------------------------------------------------\n"
     ]
    },
    {
     "name": "stderr",
     "output_type": "stream",
     "text": [
      "/tmp/ipykernel_743181/4222328789.py:27: FutureWarning: The frame.append method is deprecated and will be removed from pandas in a future version. Use pandas.concat instead.\n",
      "  final_Data = final_Data.append(data1, ignore_index = True)\n",
      "/tmp/ipykernel_743181/4222328789.py:27: FutureWarning: The frame.append method is deprecated and will be removed from pandas in a future version. Use pandas.concat instead.\n",
      "  final_Data = final_Data.append(data1, ignore_index = True)\n"
     ]
    },
    {
     "name": "stdout",
     "output_type": "stream",
     "text": [
      "4/4 [==============================] - 0s 2ms/step\n",
      "-------------------------------------------------------------\n",
      " confusion_matrix for new data with deeper model \n",
      " [[ 0  0]\n",
      " [25 75]]\n",
      "only attack data -  (75, 20)\n",
      "final data  57 -  (4192, 20)\n",
      "-------------------------------------------------------------\n",
      "4/4 [==============================] - 0s 2ms/step\n",
      "-------------------------------------------------------------\n",
      " confusion_matrix for new data with deeper model \n",
      " [[ 0  0]\n",
      " [26 74]]\n",
      "only attack data -  (74, 20)\n",
      "final data  58 -  (4266, 20)\n",
      "-------------------------------------------------------------\n"
     ]
    },
    {
     "name": "stderr",
     "output_type": "stream",
     "text": [
      "/tmp/ipykernel_743181/4222328789.py:27: FutureWarning: The frame.append method is deprecated and will be removed from pandas in a future version. Use pandas.concat instead.\n",
      "  final_Data = final_Data.append(data1, ignore_index = True)\n",
      "/tmp/ipykernel_743181/4222328789.py:27: FutureWarning: The frame.append method is deprecated and will be removed from pandas in a future version. Use pandas.concat instead.\n",
      "  final_Data = final_Data.append(data1, ignore_index = True)\n"
     ]
    },
    {
     "name": "stdout",
     "output_type": "stream",
     "text": [
      "4/4 [==============================] - 0s 2ms/step\n",
      "-------------------------------------------------------------\n",
      " confusion_matrix for new data with deeper model \n",
      " [[ 0  0]\n",
      " [20 80]]\n",
      "only attack data -  (80, 20)\n",
      "final data  59 -  (4346, 20)\n",
      "-------------------------------------------------------------\n",
      "4/4 [==============================] - 0s 2ms/step\n",
      "-------------------------------------------------------------\n",
      " confusion_matrix for new data with deeper model \n",
      " [[ 0  0]\n",
      " [28 72]]\n",
      "only attack data -  (72, 20)\n",
      "final data  60 -  (4418, 20)\n",
      "-------------------------------------------------------------\n"
     ]
    },
    {
     "name": "stderr",
     "output_type": "stream",
     "text": [
      "/tmp/ipykernel_743181/4222328789.py:27: FutureWarning: The frame.append method is deprecated and will be removed from pandas in a future version. Use pandas.concat instead.\n",
      "  final_Data = final_Data.append(data1, ignore_index = True)\n",
      "/tmp/ipykernel_743181/4222328789.py:27: FutureWarning: The frame.append method is deprecated and will be removed from pandas in a future version. Use pandas.concat instead.\n",
      "  final_Data = final_Data.append(data1, ignore_index = True)\n"
     ]
    },
    {
     "name": "stdout",
     "output_type": "stream",
     "text": [
      "4/4 [==============================] - 0s 3ms/step\n",
      "-------------------------------------------------------------\n",
      " confusion_matrix for new data with deeper model \n",
      " [[ 0  0]\n",
      " [29 71]]\n",
      "only attack data -  (71, 20)\n",
      "final data  61 -  (4489, 20)\n",
      "-------------------------------------------------------------\n",
      "4/4 [==============================] - 0s 2ms/step\n",
      "-------------------------------------------------------------\n",
      " confusion_matrix for new data with deeper model \n",
      " [[ 0  0]\n",
      " [21 79]]\n",
      "only attack data -  (79, 20)\n",
      "final data  62 -  (4568, 20)\n",
      "-------------------------------------------------------------\n"
     ]
    },
    {
     "name": "stderr",
     "output_type": "stream",
     "text": [
      "/tmp/ipykernel_743181/4222328789.py:27: FutureWarning: The frame.append method is deprecated and will be removed from pandas in a future version. Use pandas.concat instead.\n",
      "  final_Data = final_Data.append(data1, ignore_index = True)\n",
      "/tmp/ipykernel_743181/4222328789.py:27: FutureWarning: The frame.append method is deprecated and will be removed from pandas in a future version. Use pandas.concat instead.\n",
      "  final_Data = final_Data.append(data1, ignore_index = True)\n"
     ]
    },
    {
     "name": "stdout",
     "output_type": "stream",
     "text": [
      "4/4 [==============================] - 0s 2ms/step\n",
      "-------------------------------------------------------------\n",
      " confusion_matrix for new data with deeper model \n",
      " [[ 0  0]\n",
      " [30 70]]\n",
      "only attack data -  (70, 20)\n",
      "final data  63 -  (4638, 20)\n",
      "-------------------------------------------------------------\n",
      "4/4 [==============================] - 0s 2ms/step\n",
      "-------------------------------------------------------------\n",
      " confusion_matrix for new data with deeper model \n",
      " [[ 0  0]\n",
      " [34 66]]\n",
      "only attack data -  (66, 20)\n",
      "final data  64 -  (4704, 20)\n",
      "-------------------------------------------------------------\n"
     ]
    },
    {
     "name": "stderr",
     "output_type": "stream",
     "text": [
      "/tmp/ipykernel_743181/4222328789.py:27: FutureWarning: The frame.append method is deprecated and will be removed from pandas in a future version. Use pandas.concat instead.\n",
      "  final_Data = final_Data.append(data1, ignore_index = True)\n",
      "/tmp/ipykernel_743181/4222328789.py:27: FutureWarning: The frame.append method is deprecated and will be removed from pandas in a future version. Use pandas.concat instead.\n",
      "  final_Data = final_Data.append(data1, ignore_index = True)\n"
     ]
    },
    {
     "name": "stdout",
     "output_type": "stream",
     "text": [
      "4/4 [==============================] - 0s 3ms/step\n",
      "-------------------------------------------------------------\n",
      " confusion_matrix for new data with deeper model \n",
      " [[ 0  0]\n",
      " [25 75]]\n",
      "only attack data -  (75, 20)\n",
      "final data  65 -  (4779, 20)\n",
      "-------------------------------------------------------------\n",
      "4/4 [==============================] - 0s 3ms/step\n",
      "-------------------------------------------------------------\n",
      " confusion_matrix for new data with deeper model \n",
      " [[ 0  0]\n",
      " [23 77]]\n",
      "only attack data -  (77, 20)\n",
      "final data  66 -  (4856, 20)\n",
      "-------------------------------------------------------------\n"
     ]
    },
    {
     "name": "stderr",
     "output_type": "stream",
     "text": [
      "/tmp/ipykernel_743181/4222328789.py:27: FutureWarning: The frame.append method is deprecated and will be removed from pandas in a future version. Use pandas.concat instead.\n",
      "  final_Data = final_Data.append(data1, ignore_index = True)\n",
      "/tmp/ipykernel_743181/4222328789.py:27: FutureWarning: The frame.append method is deprecated and will be removed from pandas in a future version. Use pandas.concat instead.\n",
      "  final_Data = final_Data.append(data1, ignore_index = True)\n"
     ]
    },
    {
     "name": "stdout",
     "output_type": "stream",
     "text": [
      "4/4 [==============================] - 0s 2ms/step\n",
      "-------------------------------------------------------------\n",
      " confusion_matrix for new data with deeper model \n",
      " [[ 0  0]\n",
      " [21 79]]\n",
      "only attack data -  (79, 20)\n",
      "final data  67 -  (4935, 20)\n",
      "-------------------------------------------------------------\n",
      "4/4 [==============================] - 0s 2ms/step\n",
      "-------------------------------------------------------------\n",
      " confusion_matrix for new data with deeper model \n",
      " [[ 0  0]\n",
      " [32 68]]\n",
      "only attack data -  (68, 20)\n",
      "final data  68 -  (5003, 20)\n",
      "-------------------------------------------------------------\n"
     ]
    },
    {
     "name": "stderr",
     "output_type": "stream",
     "text": [
      "/tmp/ipykernel_743181/4222328789.py:27: FutureWarning: The frame.append method is deprecated and will be removed from pandas in a future version. Use pandas.concat instead.\n",
      "  final_Data = final_Data.append(data1, ignore_index = True)\n",
      "/tmp/ipykernel_743181/4222328789.py:27: FutureWarning: The frame.append method is deprecated and will be removed from pandas in a future version. Use pandas.concat instead.\n",
      "  final_Data = final_Data.append(data1, ignore_index = True)\n"
     ]
    },
    {
     "name": "stdout",
     "output_type": "stream",
     "text": [
      "4/4 [==============================] - 0s 2ms/step\n",
      "-------------------------------------------------------------\n",
      " confusion_matrix for new data with deeper model \n",
      " [[ 0  0]\n",
      " [16 84]]\n",
      "only attack data -  (84, 20)\n",
      "final data  69 -  (5087, 20)\n",
      "-------------------------------------------------------------\n",
      "4/4 [==============================] - 0s 2ms/step\n",
      "-------------------------------------------------------------\n",
      " confusion_matrix for new data with deeper model \n",
      " [[ 0  0]\n",
      " [29 71]]\n",
      "only attack data -  (71, 20)\n",
      "final data  70 -  (5158, 20)\n",
      "-------------------------------------------------------------\n",
      "4/4 [==============================] - 0s 2ms/step\n"
     ]
    },
    {
     "name": "stderr",
     "output_type": "stream",
     "text": [
      "/tmp/ipykernel_743181/4222328789.py:27: FutureWarning: The frame.append method is deprecated and will be removed from pandas in a future version. Use pandas.concat instead.\n",
      "  final_Data = final_Data.append(data1, ignore_index = True)\n",
      "/tmp/ipykernel_743181/4222328789.py:27: FutureWarning: The frame.append method is deprecated and will be removed from pandas in a future version. Use pandas.concat instead.\n",
      "  final_Data = final_Data.append(data1, ignore_index = True)\n"
     ]
    },
    {
     "name": "stdout",
     "output_type": "stream",
     "text": [
      "-------------------------------------------------------------\n",
      " confusion_matrix for new data with deeper model \n",
      " [[ 0  0]\n",
      " [30 70]]\n",
      "only attack data -  (70, 20)\n",
      "final data  71 -  (5228, 20)\n",
      "-------------------------------------------------------------\n",
      "4/4 [==============================] - 0s 2ms/step\n",
      "-------------------------------------------------------------\n",
      " confusion_matrix for new data with deeper model \n",
      " [[ 0  0]\n",
      " [31 69]]\n",
      "only attack data -  (69, 20)\n",
      "final data  72 -  (5297, 20)\n",
      "-------------------------------------------------------------\n",
      "4/4 [==============================] - 0s 2ms/step\n",
      "-------------------------------------------------------------\n",
      " confusion_matrix for new data with deeper model \n",
      " [[ 0  0]\n",
      " [22 78]]\n",
      "only attack data -  (78, 20)\n",
      "final data  73 -  (5375, 20)\n",
      "-------------------------------------------------------------\n"
     ]
    },
    {
     "name": "stderr",
     "output_type": "stream",
     "text": [
      "/tmp/ipykernel_743181/4222328789.py:27: FutureWarning: The frame.append method is deprecated and will be removed from pandas in a future version. Use pandas.concat instead.\n",
      "  final_Data = final_Data.append(data1, ignore_index = True)\n",
      "/tmp/ipykernel_743181/4222328789.py:27: FutureWarning: The frame.append method is deprecated and will be removed from pandas in a future version. Use pandas.concat instead.\n",
      "  final_Data = final_Data.append(data1, ignore_index = True)\n",
      "/tmp/ipykernel_743181/4222328789.py:27: FutureWarning: The frame.append method is deprecated and will be removed from pandas in a future version. Use pandas.concat instead.\n",
      "  final_Data = final_Data.append(data1, ignore_index = True)\n"
     ]
    },
    {
     "name": "stdout",
     "output_type": "stream",
     "text": [
      "4/4 [==============================] - 0s 3ms/step\n",
      "-------------------------------------------------------------\n",
      " confusion_matrix for new data with deeper model \n",
      " [[ 0  0]\n",
      " [26 74]]\n",
      "only attack data -  (74, 20)\n",
      "final data  74 -  (5449, 20)\n",
      "-------------------------------------------------------------\n",
      "4/4 [==============================] - 0s 3ms/step\n",
      "-------------------------------------------------------------\n",
      " confusion_matrix for new data with deeper model \n",
      " [[ 0  0]\n",
      " [23 77]]\n",
      "only attack data -  (77, 20)\n",
      "final data  75 -  (5526, 20)\n",
      "-------------------------------------------------------------\n"
     ]
    },
    {
     "name": "stderr",
     "output_type": "stream",
     "text": [
      "/tmp/ipykernel_743181/4222328789.py:27: FutureWarning: The frame.append method is deprecated and will be removed from pandas in a future version. Use pandas.concat instead.\n",
      "  final_Data = final_Data.append(data1, ignore_index = True)\n",
      "/tmp/ipykernel_743181/4222328789.py:27: FutureWarning: The frame.append method is deprecated and will be removed from pandas in a future version. Use pandas.concat instead.\n",
      "  final_Data = final_Data.append(data1, ignore_index = True)\n"
     ]
    },
    {
     "name": "stdout",
     "output_type": "stream",
     "text": [
      "4/4 [==============================] - 0s 3ms/step\n",
      "-------------------------------------------------------------\n",
      " confusion_matrix for new data with deeper model \n",
      " [[ 0  0]\n",
      " [30 70]]\n",
      "only attack data -  (70, 20)\n",
      "final data  76 -  (5596, 20)\n",
      "-------------------------------------------------------------\n",
      "4/4 [==============================] - 0s 2ms/step\n",
      "-------------------------------------------------------------\n",
      " confusion_matrix for new data with deeper model \n",
      " [[ 0  0]\n",
      " [23 77]]\n",
      "only attack data -  (77, 20)\n",
      "final data  77 -  (5673, 20)\n",
      "-------------------------------------------------------------\n"
     ]
    },
    {
     "name": "stderr",
     "output_type": "stream",
     "text": [
      "/tmp/ipykernel_743181/4222328789.py:27: FutureWarning: The frame.append method is deprecated and will be removed from pandas in a future version. Use pandas.concat instead.\n",
      "  final_Data = final_Data.append(data1, ignore_index = True)\n",
      "/tmp/ipykernel_743181/4222328789.py:27: FutureWarning: The frame.append method is deprecated and will be removed from pandas in a future version. Use pandas.concat instead.\n",
      "  final_Data = final_Data.append(data1, ignore_index = True)\n"
     ]
    },
    {
     "name": "stdout",
     "output_type": "stream",
     "text": [
      "4/4 [==============================] - 0s 2ms/step\n",
      "-------------------------------------------------------------\n",
      " confusion_matrix for new data with deeper model \n",
      " [[ 0  0]\n",
      " [24 76]]\n",
      "only attack data -  (76, 20)\n",
      "final data  78 -  (5749, 20)\n",
      "-------------------------------------------------------------\n",
      "4/4 [==============================] - 0s 2ms/step\n",
      "-------------------------------------------------------------\n",
      " confusion_matrix for new data with deeper model \n",
      " [[ 0  0]\n",
      " [21 79]]\n",
      "only attack data -  (79, 20)\n",
      "final data  79 -  (5828, 20)\n",
      "-------------------------------------------------------------\n"
     ]
    },
    {
     "name": "stderr",
     "output_type": "stream",
     "text": [
      "/tmp/ipykernel_743181/4222328789.py:27: FutureWarning: The frame.append method is deprecated and will be removed from pandas in a future version. Use pandas.concat instead.\n",
      "  final_Data = final_Data.append(data1, ignore_index = True)\n",
      "/tmp/ipykernel_743181/4222328789.py:27: FutureWarning: The frame.append method is deprecated and will be removed from pandas in a future version. Use pandas.concat instead.\n",
      "  final_Data = final_Data.append(data1, ignore_index = True)\n"
     ]
    },
    {
     "name": "stdout",
     "output_type": "stream",
     "text": [
      "4/4 [==============================] - 0s 3ms/step\n",
      "-------------------------------------------------------------\n",
      " confusion_matrix for new data with deeper model \n",
      " [[ 0  0]\n",
      " [30 70]]\n",
      "only attack data -  (70, 20)\n",
      "final data  80 -  (5898, 20)\n",
      "-------------------------------------------------------------\n",
      "4/4 [==============================] - 0s 3ms/step\n",
      "-------------------------------------------------------------\n",
      " confusion_matrix for new data with deeper model \n",
      " [[ 0  0]\n",
      " [30 70]]\n"
     ]
    },
    {
     "name": "stderr",
     "output_type": "stream",
     "text": [
      "/tmp/ipykernel_743181/4222328789.py:27: FutureWarning: The frame.append method is deprecated and will be removed from pandas in a future version. Use pandas.concat instead.\n",
      "  final_Data = final_Data.append(data1, ignore_index = True)\n"
     ]
    },
    {
     "name": "stdout",
     "output_type": "stream",
     "text": [
      "only attack data -  (70, 20)\n",
      "final data  81 -  (5968, 20)\n",
      "-------------------------------------------------------------\n",
      "4/4 [==============================] - 0s 3ms/step\n",
      "-------------------------------------------------------------\n",
      " confusion_matrix for new data with deeper model \n",
      " [[ 0  0]\n",
      " [21 79]]\n",
      "only attack data -  (79, 20)\n",
      "final data  82 -  (6047, 20)\n",
      "-------------------------------------------------------------\n"
     ]
    },
    {
     "name": "stderr",
     "output_type": "stream",
     "text": [
      "/tmp/ipykernel_743181/4222328789.py:27: FutureWarning: The frame.append method is deprecated and will be removed from pandas in a future version. Use pandas.concat instead.\n",
      "  final_Data = final_Data.append(data1, ignore_index = True)\n",
      "/tmp/ipykernel_743181/4222328789.py:27: FutureWarning: The frame.append method is deprecated and will be removed from pandas in a future version. Use pandas.concat instead.\n",
      "  final_Data = final_Data.append(data1, ignore_index = True)\n"
     ]
    },
    {
     "name": "stdout",
     "output_type": "stream",
     "text": [
      "4/4 [==============================] - 0s 3ms/step\n",
      "-------------------------------------------------------------\n",
      " confusion_matrix for new data with deeper model \n",
      " [[ 0  0]\n",
      " [23 77]]\n",
      "only attack data -  (77, 20)\n",
      "final data  83 -  (6124, 20)\n",
      "-------------------------------------------------------------\n",
      "4/4 [==============================] - 0s 3ms/step\n",
      "-------------------------------------------------------------\n",
      " confusion_matrix for new data with deeper model \n",
      " [[ 0  0]\n",
      " [24 76]]\n",
      "only attack data -  (76, 20)\n",
      "final data  84 -  (6200, 20)\n",
      "-------------------------------------------------------------\n"
     ]
    },
    {
     "name": "stderr",
     "output_type": "stream",
     "text": [
      "/tmp/ipykernel_743181/4222328789.py:27: FutureWarning: The frame.append method is deprecated and will be removed from pandas in a future version. Use pandas.concat instead.\n",
      "  final_Data = final_Data.append(data1, ignore_index = True)\n",
      "/tmp/ipykernel_743181/4222328789.py:27: FutureWarning: The frame.append method is deprecated and will be removed from pandas in a future version. Use pandas.concat instead.\n",
      "  final_Data = final_Data.append(data1, ignore_index = True)\n"
     ]
    },
    {
     "name": "stdout",
     "output_type": "stream",
     "text": [
      "4/4 [==============================] - 0s 2ms/step\n",
      "-------------------------------------------------------------\n",
      " confusion_matrix for new data with deeper model \n",
      " [[ 0  0]\n",
      " [24 76]]\n",
      "only attack data -  (76, 20)\n",
      "final data  85 -  (6276, 20)\n",
      "-------------------------------------------------------------\n",
      "4/4 [==============================] - 0s 2ms/step\n",
      "-------------------------------------------------------------\n",
      " confusion_matrix for new data with deeper model \n",
      " [[ 0  0]\n",
      " [36 64]]\n",
      "only attack data -  (64, 20)\n",
      "final data  86 -  (6340, 20)\n",
      "-------------------------------------------------------------\n"
     ]
    },
    {
     "name": "stderr",
     "output_type": "stream",
     "text": [
      "/tmp/ipykernel_743181/4222328789.py:27: FutureWarning: The frame.append method is deprecated and will be removed from pandas in a future version. Use pandas.concat instead.\n",
      "  final_Data = final_Data.append(data1, ignore_index = True)\n",
      "/tmp/ipykernel_743181/4222328789.py:27: FutureWarning: The frame.append method is deprecated and will be removed from pandas in a future version. Use pandas.concat instead.\n",
      "  final_Data = final_Data.append(data1, ignore_index = True)\n"
     ]
    },
    {
     "name": "stdout",
     "output_type": "stream",
     "text": [
      "4/4 [==============================] - 0s 3ms/step\n",
      "-------------------------------------------------------------\n",
      " confusion_matrix for new data with deeper model \n",
      " [[ 0  0]\n",
      " [26 74]]\n",
      "only attack data -  (74, 20)\n",
      "final data  87 -  (6414, 20)\n",
      "-------------------------------------------------------------\n",
      "4/4 [==============================] - 0s 3ms/step\n",
      "-------------------------------------------------------------\n",
      " confusion_matrix for new data with deeper model \n",
      " [[ 0  0]\n",
      " [21 79]]\n",
      "only attack data -  (79, 20)\n",
      "final data  88 -  (6493, 20)\n",
      "-------------------------------------------------------------\n"
     ]
    },
    {
     "name": "stderr",
     "output_type": "stream",
     "text": [
      "/tmp/ipykernel_743181/4222328789.py:27: FutureWarning: The frame.append method is deprecated and will be removed from pandas in a future version. Use pandas.concat instead.\n",
      "  final_Data = final_Data.append(data1, ignore_index = True)\n",
      "/tmp/ipykernel_743181/4222328789.py:27: FutureWarning: The frame.append method is deprecated and will be removed from pandas in a future version. Use pandas.concat instead.\n",
      "  final_Data = final_Data.append(data1, ignore_index = True)\n"
     ]
    },
    {
     "name": "stdout",
     "output_type": "stream",
     "text": [
      "4/4 [==============================] - 0s 3ms/step\n",
      "-------------------------------------------------------------\n",
      " confusion_matrix for new data with deeper model \n",
      " [[ 0  0]\n",
      " [26 74]]\n",
      "only attack data -  (74, 20)\n",
      "final data  89 -  (6567, 20)\n",
      "-------------------------------------------------------------\n",
      "4/4 [==============================] - 0s 3ms/step\n",
      "-------------------------------------------------------------\n",
      " confusion_matrix for new data with deeper model \n",
      " [[ 0  0]\n",
      " [24 76]]\n",
      "only attack data -  (76, 20)\n",
      "final data  90 -  (6643, 20)\n",
      "-------------------------------------------------------------\n"
     ]
    },
    {
     "name": "stderr",
     "output_type": "stream",
     "text": [
      "/tmp/ipykernel_743181/4222328789.py:27: FutureWarning: The frame.append method is deprecated and will be removed from pandas in a future version. Use pandas.concat instead.\n",
      "  final_Data = final_Data.append(data1, ignore_index = True)\n",
      "/tmp/ipykernel_743181/4222328789.py:27: FutureWarning: The frame.append method is deprecated and will be removed from pandas in a future version. Use pandas.concat instead.\n",
      "  final_Data = final_Data.append(data1, ignore_index = True)\n"
     ]
    },
    {
     "name": "stdout",
     "output_type": "stream",
     "text": [
      "4/4 [==============================] - 0s 2ms/step\n",
      "-------------------------------------------------------------\n",
      " confusion_matrix for new data with deeper model \n",
      " [[ 0  0]\n",
      " [31 69]]\n",
      "only attack data -  (69, 20)\n",
      "final data  91 -  (6712, 20)\n",
      "-------------------------------------------------------------\n",
      "4/4 [==============================] - 0s 2ms/step\n",
      "-------------------------------------------------------------\n",
      " confusion_matrix for new data with deeper model \n",
      " [[ 0  0]\n",
      " [31 69]]\n",
      "only attack data -  (69, 20)\n",
      "final data  92 -  (6781, 20)\n",
      "-------------------------------------------------------------\n"
     ]
    },
    {
     "name": "stderr",
     "output_type": "stream",
     "text": [
      "/tmp/ipykernel_743181/4222328789.py:27: FutureWarning: The frame.append method is deprecated and will be removed from pandas in a future version. Use pandas.concat instead.\n",
      "  final_Data = final_Data.append(data1, ignore_index = True)\n",
      "/tmp/ipykernel_743181/4222328789.py:27: FutureWarning: The frame.append method is deprecated and will be removed from pandas in a future version. Use pandas.concat instead.\n",
      "  final_Data = final_Data.append(data1, ignore_index = True)\n"
     ]
    },
    {
     "name": "stdout",
     "output_type": "stream",
     "text": [
      "4/4 [==============================] - 0s 2ms/step\n",
      "-------------------------------------------------------------\n",
      " confusion_matrix for new data with deeper model \n",
      " [[ 0  0]\n",
      " [21 79]]\n",
      "only attack data -  (79, 20)\n",
      "final data  93 -  (6860, 20)\n",
      "-------------------------------------------------------------\n",
      "4/4 [==============================] - 0s 2ms/step\n",
      "-------------------------------------------------------------\n",
      " confusion_matrix for new data with deeper model \n",
      " [[ 0  0]\n",
      " [28 72]]\n",
      "only attack data -  (72, 20)\n",
      "final data  94 -  (6932, 20)\n",
      "-------------------------------------------------------------\n"
     ]
    },
    {
     "name": "stderr",
     "output_type": "stream",
     "text": [
      "/tmp/ipykernel_743181/4222328789.py:27: FutureWarning: The frame.append method is deprecated and will be removed from pandas in a future version. Use pandas.concat instead.\n",
      "  final_Data = final_Data.append(data1, ignore_index = True)\n",
      "/tmp/ipykernel_743181/4222328789.py:27: FutureWarning: The frame.append method is deprecated and will be removed from pandas in a future version. Use pandas.concat instead.\n",
      "  final_Data = final_Data.append(data1, ignore_index = True)\n"
     ]
    },
    {
     "name": "stdout",
     "output_type": "stream",
     "text": [
      "4/4 [==============================] - 0s 2ms/step\n",
      "-------------------------------------------------------------\n",
      " confusion_matrix for new data with deeper model \n",
      " [[ 0  0]\n",
      " [29 71]]\n",
      "only attack data -  (71, 20)\n",
      "final data  95 -  (7003, 20)\n",
      "-------------------------------------------------------------\n",
      "4/4 [==============================] - 0s 2ms/step\n",
      "-------------------------------------------------------------\n",
      " confusion_matrix for new data with deeper model \n",
      " [[ 0  0]\n",
      " [21 79]]\n",
      "only attack data -  (79, 20)\n",
      "final data  96 -  (7082, 20)\n",
      "-------------------------------------------------------------\n",
      "1/4 [======>.......................] - ETA: 0s"
     ]
    },
    {
     "name": "stderr",
     "output_type": "stream",
     "text": [
      "/tmp/ipykernel_743181/4222328789.py:27: FutureWarning: The frame.append method is deprecated and will be removed from pandas in a future version. Use pandas.concat instead.\n",
      "  final_Data = final_Data.append(data1, ignore_index = True)\n",
      "/tmp/ipykernel_743181/4222328789.py:27: FutureWarning: The frame.append method is deprecated and will be removed from pandas in a future version. Use pandas.concat instead.\n",
      "  final_Data = final_Data.append(data1, ignore_index = True)\n"
     ]
    },
    {
     "name": "stdout",
     "output_type": "stream",
     "text": [
      "4/4 [==============================] - 0s 2ms/step\n",
      "-------------------------------------------------------------\n",
      " confusion_matrix for new data with deeper model \n",
      " [[ 0  0]\n",
      " [29 71]]\n",
      "only attack data -  (71, 20)\n",
      "final data  97 -  (7153, 20)\n",
      "-------------------------------------------------------------\n",
      "4/4 [==============================] - 0s 2ms/step\n",
      "-------------------------------------------------------------\n",
      " confusion_matrix for new data with deeper model \n",
      " [[ 0  0]\n",
      " [23 77]]\n",
      "only attack data -  (77, 20)\n",
      "final data  98 -  (7230, 20)\n",
      "-------------------------------------------------------------\n",
      "1/4 [======>.......................] - ETA: 0s"
     ]
    },
    {
     "name": "stderr",
     "output_type": "stream",
     "text": [
      "/tmp/ipykernel_743181/4222328789.py:27: FutureWarning: The frame.append method is deprecated and will be removed from pandas in a future version. Use pandas.concat instead.\n",
      "  final_Data = final_Data.append(data1, ignore_index = True)\n",
      "/tmp/ipykernel_743181/4222328789.py:27: FutureWarning: The frame.append method is deprecated and will be removed from pandas in a future version. Use pandas.concat instead.\n",
      "  final_Data = final_Data.append(data1, ignore_index = True)\n"
     ]
    },
    {
     "name": "stdout",
     "output_type": "stream",
     "text": [
      "4/4 [==============================] - 0s 2ms/step\n",
      "-------------------------------------------------------------\n",
      " confusion_matrix for new data with deeper model \n",
      " [[ 0  0]\n",
      " [26 74]]\n",
      "only attack data -  (74, 20)\n",
      "final data  99 -  (7304, 20)\n",
      "-------------------------------------------------------------\n",
      "4/4 [==============================] - 0s 3ms/step\n",
      "-------------------------------------------------------------\n",
      " confusion_matrix for new data with deeper model \n",
      " [[ 0  0]\n",
      " [25 75]]\n",
      "only attack data -  (75, 20)\n",
      "final data  100 -  (7379, 20)\n",
      "-------------------------------------------------------------\n"
     ]
    },
    {
     "name": "stderr",
     "output_type": "stream",
     "text": [
      "/tmp/ipykernel_743181/4222328789.py:27: FutureWarning: The frame.append method is deprecated and will be removed from pandas in a future version. Use pandas.concat instead.\n",
      "  final_Data = final_Data.append(data1, ignore_index = True)\n",
      "/tmp/ipykernel_743181/4222328789.py:27: FutureWarning: The frame.append method is deprecated and will be removed from pandas in a future version. Use pandas.concat instead.\n",
      "  final_Data = final_Data.append(data1, ignore_index = True)\n"
     ]
    },
    {
     "name": "stdout",
     "output_type": "stream",
     "text": [
      "4/4 [==============================] - 0s 2ms/step\n",
      "-------------------------------------------------------------\n",
      " confusion_matrix for new data with deeper model \n",
      " [[ 0  0]\n",
      " [21 79]]\n",
      "only attack data -  (79, 20)\n",
      "final data  101 -  (7458, 20)\n",
      "-------------------------------------------------------------\n",
      "4/4 [==============================] - 0s 2ms/step\n",
      "-------------------------------------------------------------\n",
      " confusion_matrix for new data with deeper model \n",
      " [[ 0  0]\n",
      " [24 76]]\n",
      "only attack data -  (76, 20)\n",
      "final data  102 -  (7534, 20)\n",
      "-------------------------------------------------------------\n"
     ]
    },
    {
     "name": "stderr",
     "output_type": "stream",
     "text": [
      "/tmp/ipykernel_743181/4222328789.py:27: FutureWarning: The frame.append method is deprecated and will be removed from pandas in a future version. Use pandas.concat instead.\n",
      "  final_Data = final_Data.append(data1, ignore_index = True)\n",
      "/tmp/ipykernel_743181/4222328789.py:27: FutureWarning: The frame.append method is deprecated and will be removed from pandas in a future version. Use pandas.concat instead.\n",
      "  final_Data = final_Data.append(data1, ignore_index = True)\n"
     ]
    },
    {
     "name": "stdout",
     "output_type": "stream",
     "text": [
      "4/4 [==============================] - 0s 2ms/step\n",
      "-------------------------------------------------------------\n",
      " confusion_matrix for new data with deeper model \n",
      " [[ 0  0]\n",
      " [30 70]]\n",
      "only attack data -  (70, 20)\n",
      "final data  103 -  (7604, 20)\n",
      "-------------------------------------------------------------\n",
      "4/4 [==============================] - 0s 2ms/step\n",
      "-------------------------------------------------------------\n",
      " confusion_matrix for new data with deeper model \n",
      " [[ 0  0]\n",
      " [25 75]]\n",
      "only attack data -  (75, 20)\n",
      "final data  104 -  (7679, 20)\n",
      "-------------------------------------------------------------\n"
     ]
    },
    {
     "name": "stderr",
     "output_type": "stream",
     "text": [
      "/tmp/ipykernel_743181/4222328789.py:27: FutureWarning: The frame.append method is deprecated and will be removed from pandas in a future version. Use pandas.concat instead.\n",
      "  final_Data = final_Data.append(data1, ignore_index = True)\n",
      "/tmp/ipykernel_743181/4222328789.py:27: FutureWarning: The frame.append method is deprecated and will be removed from pandas in a future version. Use pandas.concat instead.\n",
      "  final_Data = final_Data.append(data1, ignore_index = True)\n"
     ]
    },
    {
     "name": "stdout",
     "output_type": "stream",
     "text": [
      "4/4 [==============================] - 0s 2ms/step\n",
      "-------------------------------------------------------------\n",
      " confusion_matrix for new data with deeper model \n",
      " [[ 0  0]\n",
      " [23 77]]\n",
      "only attack data -  (77, 20)\n",
      "final data  105 -  (7756, 20)\n",
      "-------------------------------------------------------------\n",
      "4/4 [==============================] - 0s 3ms/step\n",
      "-------------------------------------------------------------\n",
      " confusion_matrix for new data with deeper model \n",
      " [[ 0  0]\n",
      " [21 79]]\n",
      "only attack data -  (79, 20)\n",
      "final data  106 -  (7835, 20)\n",
      "-------------------------------------------------------------\n"
     ]
    },
    {
     "name": "stderr",
     "output_type": "stream",
     "text": [
      "/tmp/ipykernel_743181/4222328789.py:27: FutureWarning: The frame.append method is deprecated and will be removed from pandas in a future version. Use pandas.concat instead.\n",
      "  final_Data = final_Data.append(data1, ignore_index = True)\n",
      "/tmp/ipykernel_743181/4222328789.py:27: FutureWarning: The frame.append method is deprecated and will be removed from pandas in a future version. Use pandas.concat instead.\n",
      "  final_Data = final_Data.append(data1, ignore_index = True)\n"
     ]
    },
    {
     "name": "stdout",
     "output_type": "stream",
     "text": [
      "4/4 [==============================] - 0s 3ms/step\n",
      "-------------------------------------------------------------\n",
      " confusion_matrix for new data with deeper model \n",
      " [[ 0  0]\n",
      " [24 76]]\n",
      "only attack data -  (76, 20)\n",
      "final data  107 -  (7911, 20)\n",
      "-------------------------------------------------------------\n",
      "4/4 [==============================] - 0s 3ms/step\n",
      "-------------------------------------------------------------\n",
      " confusion_matrix for new data with deeper model \n",
      " [[ 0  0]\n",
      " [22 78]]\n",
      "only attack data -  (78, 20)\n",
      "final data  108 -  (7989, 20)\n",
      "-------------------------------------------------------------\n"
     ]
    },
    {
     "name": "stderr",
     "output_type": "stream",
     "text": [
      "/tmp/ipykernel_743181/4222328789.py:27: FutureWarning: The frame.append method is deprecated and will be removed from pandas in a future version. Use pandas.concat instead.\n",
      "  final_Data = final_Data.append(data1, ignore_index = True)\n",
      "/tmp/ipykernel_743181/4222328789.py:27: FutureWarning: The frame.append method is deprecated and will be removed from pandas in a future version. Use pandas.concat instead.\n",
      "  final_Data = final_Data.append(data1, ignore_index = True)\n"
     ]
    },
    {
     "name": "stdout",
     "output_type": "stream",
     "text": [
      "4/4 [==============================] - 0s 3ms/step\n",
      "-------------------------------------------------------------\n",
      " confusion_matrix for new data with deeper model \n",
      " [[ 0  0]\n",
      " [24 76]]\n",
      "only attack data -  (76, 20)\n",
      "final data  109 -  (8065, 20)\n",
      "-------------------------------------------------------------\n",
      "4/4 [==============================] - 0s 2ms/step\n",
      "-------------------------------------------------------------\n",
      " confusion_matrix for new data with deeper model \n",
      " [[ 0  0]\n",
      " [24 76]]\n",
      "only attack data -  (76, 20)\n",
      "final data  110 -  (8141, 20)\n",
      "-------------------------------------------------------------\n"
     ]
    },
    {
     "name": "stderr",
     "output_type": "stream",
     "text": [
      "/tmp/ipykernel_743181/4222328789.py:27: FutureWarning: The frame.append method is deprecated and will be removed from pandas in a future version. Use pandas.concat instead.\n",
      "  final_Data = final_Data.append(data1, ignore_index = True)\n",
      "/tmp/ipykernel_743181/4222328789.py:27: FutureWarning: The frame.append method is deprecated and will be removed from pandas in a future version. Use pandas.concat instead.\n",
      "  final_Data = final_Data.append(data1, ignore_index = True)\n"
     ]
    },
    {
     "name": "stdout",
     "output_type": "stream",
     "text": [
      "4/4 [==============================] - 0s 2ms/step\n",
      "-------------------------------------------------------------\n",
      " confusion_matrix for new data with deeper model \n",
      " [[ 0  0]\n",
      " [27 73]]\n",
      "only attack data -  (73, 20)\n",
      "final data  111 -  (8214, 20)\n",
      "-------------------------------------------------------------\n",
      "4/4 [==============================] - 0s 2ms/step\n",
      "-------------------------------------------------------------\n",
      " confusion_matrix for new data with deeper model \n",
      " [[ 0  0]\n",
      " [32 68]]\n",
      "only attack data -  (68, 20)\n",
      "final data  112 -  (8282, 20)\n",
      "-------------------------------------------------------------\n",
      "4/4 [==============================] - 0s 2ms/step\n",
      "-------------------------------------------------------------\n",
      " confusion_matrix for new data with deeper model \n",
      " [[ 0  0]\n",
      " [23 77]]\n",
      "only attack data -  (77, 20)\n",
      "final data  113 -  (8359, 20)\n",
      "-------------------------------------------------------------\n"
     ]
    },
    {
     "name": "stderr",
     "output_type": "stream",
     "text": [
      "/tmp/ipykernel_743181/4222328789.py:27: FutureWarning: The frame.append method is deprecated and will be removed from pandas in a future version. Use pandas.concat instead.\n",
      "  final_Data = final_Data.append(data1, ignore_index = True)\n",
      "/tmp/ipykernel_743181/4222328789.py:27: FutureWarning: The frame.append method is deprecated and will be removed from pandas in a future version. Use pandas.concat instead.\n",
      "  final_Data = final_Data.append(data1, ignore_index = True)\n",
      "/tmp/ipykernel_743181/4222328789.py:27: FutureWarning: The frame.append method is deprecated and will be removed from pandas in a future version. Use pandas.concat instead.\n",
      "  final_Data = final_Data.append(data1, ignore_index = True)\n"
     ]
    },
    {
     "name": "stdout",
     "output_type": "stream",
     "text": [
      "4/4 [==============================] - 0s 2ms/step\n",
      "-------------------------------------------------------------\n",
      " confusion_matrix for new data with deeper model \n",
      " [[ 0  0]\n",
      " [27 73]]\n",
      "only attack data -  (73, 20)\n",
      "final data  114 -  (8432, 20)\n",
      "-------------------------------------------------------------\n",
      "4/4 [==============================] - 0s 3ms/step\n",
      "-------------------------------------------------------------\n",
      " confusion_matrix for new data with deeper model \n",
      " [[ 0  0]\n",
      " [23 77]]\n",
      "only attack data -  (77, 20)\n",
      "final data  115 -  (8509, 20)\n",
      "-------------------------------------------------------------\n"
     ]
    },
    {
     "name": "stderr",
     "output_type": "stream",
     "text": [
      "/tmp/ipykernel_743181/4222328789.py:27: FutureWarning: The frame.append method is deprecated and will be removed from pandas in a future version. Use pandas.concat instead.\n",
      "  final_Data = final_Data.append(data1, ignore_index = True)\n",
      "/tmp/ipykernel_743181/4222328789.py:27: FutureWarning: The frame.append method is deprecated and will be removed from pandas in a future version. Use pandas.concat instead.\n",
      "  final_Data = final_Data.append(data1, ignore_index = True)\n"
     ]
    },
    {
     "name": "stdout",
     "output_type": "stream",
     "text": [
      "4/4 [==============================] - 0s 3ms/step\n",
      "-------------------------------------------------------------\n",
      " confusion_matrix for new data with deeper model \n",
      " [[ 0  0]\n",
      " [23 77]]\n",
      "only attack data -  (77, 20)\n",
      "final data  116 -  (8586, 20)\n",
      "-------------------------------------------------------------\n",
      "4/4 [==============================] - 0s 3ms/step\n",
      "-------------------------------------------------------------\n",
      " confusion_matrix for new data with deeper model \n",
      " [[ 0  0]\n",
      " [36 64]]\n",
      "only attack data -  (64, 20)\n",
      "final data  117 -  (8650, 20)\n",
      "-------------------------------------------------------------\n"
     ]
    },
    {
     "name": "stderr",
     "output_type": "stream",
     "text": [
      "/tmp/ipykernel_743181/4222328789.py:27: FutureWarning: The frame.append method is deprecated and will be removed from pandas in a future version. Use pandas.concat instead.\n",
      "  final_Data = final_Data.append(data1, ignore_index = True)\n",
      "/tmp/ipykernel_743181/4222328789.py:27: FutureWarning: The frame.append method is deprecated and will be removed from pandas in a future version. Use pandas.concat instead.\n",
      "  final_Data = final_Data.append(data1, ignore_index = True)\n"
     ]
    },
    {
     "name": "stdout",
     "output_type": "stream",
     "text": [
      "4/4 [==============================] - 0s 3ms/step\n",
      "-------------------------------------------------------------\n",
      " confusion_matrix for new data with deeper model \n",
      " [[ 0  0]\n",
      " [20 80]]\n",
      "only attack data -  (80, 20)\n",
      "final data  118 -  (8730, 20)\n",
      "-------------------------------------------------------------\n",
      "4/4 [==============================] - 0s 2ms/step\n",
      "-------------------------------------------------------------\n",
      " confusion_matrix for new data with deeper model \n",
      " [[ 0  0]\n",
      " [29 71]]\n",
      "only attack data -  (71, 20)\n",
      "final data  119 -  (8801, 20)\n",
      "-------------------------------------------------------------\n"
     ]
    },
    {
     "name": "stderr",
     "output_type": "stream",
     "text": [
      "/tmp/ipykernel_743181/4222328789.py:27: FutureWarning: The frame.append method is deprecated and will be removed from pandas in a future version. Use pandas.concat instead.\n",
      "  final_Data = final_Data.append(data1, ignore_index = True)\n",
      "/tmp/ipykernel_743181/4222328789.py:27: FutureWarning: The frame.append method is deprecated and will be removed from pandas in a future version. Use pandas.concat instead.\n",
      "  final_Data = final_Data.append(data1, ignore_index = True)\n"
     ]
    },
    {
     "name": "stdout",
     "output_type": "stream",
     "text": [
      "4/4 [==============================] - 0s 2ms/step\n",
      "-------------------------------------------------------------\n",
      " confusion_matrix for new data with deeper model \n",
      " [[ 0  0]\n",
      " [22 78]]\n",
      "only attack data -  (78, 20)\n",
      "final data  120 -  (8879, 20)\n",
      "-------------------------------------------------------------\n",
      "4/4 [==============================] - 0s 2ms/step\n",
      "-------------------------------------------------------------\n",
      " confusion_matrix for new data with deeper model \n",
      " [[ 0  0]\n",
      " [30 70]]\n",
      "only attack data -  (70, 20)\n",
      "final data  121 -  (8949, 20)\n",
      "-------------------------------------------------------------\n"
     ]
    },
    {
     "name": "stderr",
     "output_type": "stream",
     "text": [
      "/tmp/ipykernel_743181/4222328789.py:27: FutureWarning: The frame.append method is deprecated and will be removed from pandas in a future version. Use pandas.concat instead.\n",
      "  final_Data = final_Data.append(data1, ignore_index = True)\n",
      "/tmp/ipykernel_743181/4222328789.py:27: FutureWarning: The frame.append method is deprecated and will be removed from pandas in a future version. Use pandas.concat instead.\n",
      "  final_Data = final_Data.append(data1, ignore_index = True)\n"
     ]
    },
    {
     "name": "stdout",
     "output_type": "stream",
     "text": [
      "4/4 [==============================] - 0s 3ms/step\n",
      "-------------------------------------------------------------\n",
      " confusion_matrix for new data with deeper model \n",
      " [[ 0  0]\n",
      " [25 75]]\n",
      "only attack data -  (75, 20)\n",
      "final data  122 -  (9024, 20)\n",
      "-------------------------------------------------------------\n",
      "4/4 [==============================] - 0s 2ms/step\n",
      "-------------------------------------------------------------\n",
      " confusion_matrix for new data with deeper model \n",
      " [[ 0  0]\n",
      " [21 79]]\n",
      "only attack data -  (79, 20)\n",
      "final data  123 -  (9103, 20)\n",
      "-------------------------------------------------------------\n"
     ]
    },
    {
     "name": "stderr",
     "output_type": "stream",
     "text": [
      "/tmp/ipykernel_743181/4222328789.py:27: FutureWarning: The frame.append method is deprecated and will be removed from pandas in a future version. Use pandas.concat instead.\n",
      "  final_Data = final_Data.append(data1, ignore_index = True)\n",
      "/tmp/ipykernel_743181/4222328789.py:27: FutureWarning: The frame.append method is deprecated and will be removed from pandas in a future version. Use pandas.concat instead.\n",
      "  final_Data = final_Data.append(data1, ignore_index = True)\n"
     ]
    },
    {
     "name": "stdout",
     "output_type": "stream",
     "text": [
      "4/4 [==============================] - 0s 2ms/step\n",
      "-------------------------------------------------------------\n",
      " confusion_matrix for new data with deeper model \n",
      " [[ 0  0]\n",
      " [29 71]]\n",
      "only attack data -  (71, 20)\n",
      "final data  124 -  (9174, 20)\n",
      "-------------------------------------------------------------\n",
      "4/4 [==============================] - 0s 2ms/step\n",
      "-------------------------------------------------------------\n",
      " confusion_matrix for new data with deeper model \n",
      " [[ 0  0]\n",
      " [29 71]]\n",
      "only attack data -  (71, 20)\n",
      "final data  125 -  (9245, 20)\n",
      "-------------------------------------------------------------\n",
      "4/4 [==============================] - 0s 2ms/step\n",
      "-------------------------------------------------------------\n",
      " confusion_matrix for new data with deeper model \n",
      " [[ 0  0]\n",
      " [30 70]]\n",
      "only attack data -  (70, 20)\n",
      "final data  126 -  (9315, 20)\n",
      "-------------------------------------------------------------\n"
     ]
    },
    {
     "name": "stderr",
     "output_type": "stream",
     "text": [
      "/tmp/ipykernel_743181/4222328789.py:27: FutureWarning: The frame.append method is deprecated and will be removed from pandas in a future version. Use pandas.concat instead.\n",
      "  final_Data = final_Data.append(data1, ignore_index = True)\n",
      "/tmp/ipykernel_743181/4222328789.py:27: FutureWarning: The frame.append method is deprecated and will be removed from pandas in a future version. Use pandas.concat instead.\n",
      "  final_Data = final_Data.append(data1, ignore_index = True)\n",
      "/tmp/ipykernel_743181/4222328789.py:27: FutureWarning: The frame.append method is deprecated and will be removed from pandas in a future version. Use pandas.concat instead.\n",
      "  final_Data = final_Data.append(data1, ignore_index = True)\n"
     ]
    },
    {
     "name": "stdout",
     "output_type": "stream",
     "text": [
      "4/4 [==============================] - 0s 2ms/step\n",
      "-------------------------------------------------------------\n",
      " confusion_matrix for new data with deeper model \n",
      " [[ 0  0]\n",
      " [24 76]]\n",
      "only attack data -  (76, 20)\n",
      "final data  127 -  (9391, 20)\n",
      "-------------------------------------------------------------\n",
      "4/4 [==============================] - 0s 2ms/step\n",
      "-------------------------------------------------------------\n",
      " confusion_matrix for new data with deeper model \n",
      " [[ 0  0]\n",
      " [24 76]]\n",
      "only attack data -  (76, 20)\n",
      "final data  128 -  (9467, 20)\n",
      "-------------------------------------------------------------\n",
      "4/4 [==============================] - 0s 2ms/step\n",
      "-------------------------------------------------------------\n",
      " confusion_matrix for new data with deeper model \n",
      " [[ 0  0]\n",
      " [33 67]]\n",
      "only attack data -  (67, 20)\n",
      "final data  129 -  (9534, 20)\n",
      "-------------------------------------------------------------\n"
     ]
    },
    {
     "name": "stderr",
     "output_type": "stream",
     "text": [
      "/tmp/ipykernel_743181/4222328789.py:27: FutureWarning: The frame.append method is deprecated and will be removed from pandas in a future version. Use pandas.concat instead.\n",
      "  final_Data = final_Data.append(data1, ignore_index = True)\n",
      "/tmp/ipykernel_743181/4222328789.py:27: FutureWarning: The frame.append method is deprecated and will be removed from pandas in a future version. Use pandas.concat instead.\n",
      "  final_Data = final_Data.append(data1, ignore_index = True)\n",
      "/tmp/ipykernel_743181/4222328789.py:27: FutureWarning: The frame.append method is deprecated and will be removed from pandas in a future version. Use pandas.concat instead.\n",
      "  final_Data = final_Data.append(data1, ignore_index = True)\n"
     ]
    },
    {
     "name": "stdout",
     "output_type": "stream",
     "text": [
      "4/4 [==============================] - 0s 2ms/step\n",
      "-------------------------------------------------------------\n",
      " confusion_matrix for new data with deeper model \n",
      " [[ 0  0]\n",
      " [25 75]]\n",
      "only attack data -  (75, 20)\n",
      "final data  130 -  (9609, 20)\n",
      "-------------------------------------------------------------\n",
      "4/4 [==============================] - 0s 2ms/step\n",
      "-------------------------------------------------------------\n",
      " confusion_matrix for new data with deeper model \n",
      " [[ 0  0]\n",
      " [39 61]]\n",
      "only attack data -  (61, 20)\n",
      "final data  131 -  (9670, 20)\n",
      "-------------------------------------------------------------\n"
     ]
    },
    {
     "name": "stderr",
     "output_type": "stream",
     "text": [
      "/tmp/ipykernel_743181/4222328789.py:27: FutureWarning: The frame.append method is deprecated and will be removed from pandas in a future version. Use pandas.concat instead.\n",
      "  final_Data = final_Data.append(data1, ignore_index = True)\n",
      "/tmp/ipykernel_743181/4222328789.py:27: FutureWarning: The frame.append method is deprecated and will be removed from pandas in a future version. Use pandas.concat instead.\n",
      "  final_Data = final_Data.append(data1, ignore_index = True)\n"
     ]
    },
    {
     "name": "stdout",
     "output_type": "stream",
     "text": [
      "4/4 [==============================] - 0s 2ms/step\n",
      "-------------------------------------------------------------\n",
      " confusion_matrix for new data with deeper model \n",
      " [[ 0  0]\n",
      " [29 71]]\n",
      "only attack data -  (71, 20)\n",
      "final data  132 -  (9741, 20)\n",
      "-------------------------------------------------------------\n",
      "4/4 [==============================] - 0s 2ms/step\n",
      "-------------------------------------------------------------\n",
      " confusion_matrix for new data with deeper model \n",
      " [[ 0  0]\n",
      " [25 75]]\n",
      "only attack data -  (75, 20)\n",
      "final data  133 -  (9816, 20)\n",
      "-------------------------------------------------------------\n",
      "4/4 [==============================] - 0s 2ms/step\n"
     ]
    },
    {
     "name": "stderr",
     "output_type": "stream",
     "text": [
      "/tmp/ipykernel_743181/4222328789.py:27: FutureWarning: The frame.append method is deprecated and will be removed from pandas in a future version. Use pandas.concat instead.\n",
      "  final_Data = final_Data.append(data1, ignore_index = True)\n",
      "/tmp/ipykernel_743181/4222328789.py:27: FutureWarning: The frame.append method is deprecated and will be removed from pandas in a future version. Use pandas.concat instead.\n",
      "  final_Data = final_Data.append(data1, ignore_index = True)\n"
     ]
    },
    {
     "name": "stdout",
     "output_type": "stream",
     "text": [
      "-------------------------------------------------------------\n",
      " confusion_matrix for new data with deeper model \n",
      " [[ 0  0]\n",
      " [32 68]]\n",
      "only attack data -  (68, 20)\n",
      "final data  134 -  (9884, 20)\n",
      "-------------------------------------------------------------\n",
      "4/4 [==============================] - 0s 2ms/step\n",
      "-------------------------------------------------------------\n",
      " confusion_matrix for new data with deeper model \n",
      " [[ 0  0]\n",
      " [22 78]]\n",
      "only attack data -  (78, 20)\n",
      "final data  135 -  (9962, 20)\n",
      "-------------------------------------------------------------\n",
      "4/4 [==============================] - 0s 2ms/step\n"
     ]
    },
    {
     "name": "stderr",
     "output_type": "stream",
     "text": [
      "/tmp/ipykernel_743181/4222328789.py:27: FutureWarning: The frame.append method is deprecated and will be removed from pandas in a future version. Use pandas.concat instead.\n",
      "  final_Data = final_Data.append(data1, ignore_index = True)\n",
      "/tmp/ipykernel_743181/4222328789.py:27: FutureWarning: The frame.append method is deprecated and will be removed from pandas in a future version. Use pandas.concat instead.\n",
      "  final_Data = final_Data.append(data1, ignore_index = True)\n"
     ]
    },
    {
     "name": "stdout",
     "output_type": "stream",
     "text": [
      "-------------------------------------------------------------\n",
      " confusion_matrix for new data with deeper model \n",
      " [[ 0  0]\n",
      " [27 73]]\n",
      "only attack data -  (73, 20)\n",
      "final data  136 -  (10035, 20)\n",
      "-------------------------------------------------------------\n",
      "4/4 [==============================] - 0s 2ms/step\n",
      "-------------------------------------------------------------\n",
      " confusion_matrix for new data with deeper model \n",
      " [[ 0  0]\n",
      " [19 81]]\n",
      "only attack data -  (81, 20)\n",
      "final data  137 -  (10116, 20)\n",
      "-------------------------------------------------------------\n",
      "1/4 [======>.......................] - ETA: 0s"
     ]
    },
    {
     "name": "stderr",
     "output_type": "stream",
     "text": [
      "/tmp/ipykernel_743181/4222328789.py:27: FutureWarning: The frame.append method is deprecated and will be removed from pandas in a future version. Use pandas.concat instead.\n",
      "  final_Data = final_Data.append(data1, ignore_index = True)\n",
      "/tmp/ipykernel_743181/4222328789.py:27: FutureWarning: The frame.append method is deprecated and will be removed from pandas in a future version. Use pandas.concat instead.\n",
      "  final_Data = final_Data.append(data1, ignore_index = True)\n"
     ]
    },
    {
     "name": "stdout",
     "output_type": "stream",
     "text": [
      "4/4 [==============================] - 0s 2ms/step\n",
      "-------------------------------------------------------------\n",
      " confusion_matrix for new data with deeper model \n",
      " [[ 0  0]\n",
      " [30 70]]\n",
      "only attack data -  (70, 20)\n",
      "final data  138 -  (10186, 20)\n",
      "-------------------------------------------------------------\n",
      "4/4 [==============================] - 0s 3ms/step\n",
      "-------------------------------------------------------------\n",
      " confusion_matrix for new data with deeper model \n",
      " [[ 0  0]\n",
      " [21 79]]\n",
      "only attack data -  (79, 20)\n",
      "final data  139 -  (10265, 20)\n",
      "-------------------------------------------------------------\n"
     ]
    },
    {
     "name": "stderr",
     "output_type": "stream",
     "text": [
      "/tmp/ipykernel_743181/4222328789.py:27: FutureWarning: The frame.append method is deprecated and will be removed from pandas in a future version. Use pandas.concat instead.\n",
      "  final_Data = final_Data.append(data1, ignore_index = True)\n",
      "/tmp/ipykernel_743181/4222328789.py:27: FutureWarning: The frame.append method is deprecated and will be removed from pandas in a future version. Use pandas.concat instead.\n",
      "  final_Data = final_Data.append(data1, ignore_index = True)\n"
     ]
    },
    {
     "name": "stdout",
     "output_type": "stream",
     "text": [
      "4/4 [==============================] - 0s 3ms/step\n",
      "-------------------------------------------------------------\n",
      " confusion_matrix for new data with deeper model \n",
      " [[ 0  0]\n",
      " [24 76]]\n",
      "only attack data -  (76, 20)\n",
      "final data  140 -  (10341, 20)\n",
      "-------------------------------------------------------------\n",
      "4/4 [==============================] - 0s 3ms/step\n",
      "-------------------------------------------------------------\n",
      " confusion_matrix for new data with deeper model \n",
      " [[ 0  0]\n",
      " [33 67]]\n",
      "only attack data -  (67, 20)\n",
      "final data  141 -  (10408, 20)\n",
      "-------------------------------------------------------------\n"
     ]
    },
    {
     "name": "stderr",
     "output_type": "stream",
     "text": [
      "/tmp/ipykernel_743181/4222328789.py:27: FutureWarning: The frame.append method is deprecated and will be removed from pandas in a future version. Use pandas.concat instead.\n",
      "  final_Data = final_Data.append(data1, ignore_index = True)\n",
      "/tmp/ipykernel_743181/4222328789.py:27: FutureWarning: The frame.append method is deprecated and will be removed from pandas in a future version. Use pandas.concat instead.\n",
      "  final_Data = final_Data.append(data1, ignore_index = True)\n"
     ]
    },
    {
     "name": "stdout",
     "output_type": "stream",
     "text": [
      "4/4 [==============================] - 0s 3ms/step\n",
      "-------------------------------------------------------------\n",
      " confusion_matrix for new data with deeper model \n",
      " [[ 0  0]\n",
      " [17 83]]\n",
      "only attack data -  (83, 20)\n",
      "final data  142 -  (10491, 20)\n",
      "-------------------------------------------------------------\n",
      "4/4 [==============================] - 0s 3ms/step\n",
      "-------------------------------------------------------------\n",
      " confusion_matrix for new data with deeper model \n",
      " [[ 0  0]\n",
      " [34 66]]\n",
      "only attack data -  (66, 20)\n",
      "final data  143 -  (10557, 20)\n",
      "-------------------------------------------------------------\n"
     ]
    },
    {
     "name": "stderr",
     "output_type": "stream",
     "text": [
      "/tmp/ipykernel_743181/4222328789.py:27: FutureWarning: The frame.append method is deprecated and will be removed from pandas in a future version. Use pandas.concat instead.\n",
      "  final_Data = final_Data.append(data1, ignore_index = True)\n",
      "/tmp/ipykernel_743181/4222328789.py:27: FutureWarning: The frame.append method is deprecated and will be removed from pandas in a future version. Use pandas.concat instead.\n",
      "  final_Data = final_Data.append(data1, ignore_index = True)\n"
     ]
    },
    {
     "name": "stdout",
     "output_type": "stream",
     "text": [
      "4/4 [==============================] - 0s 3ms/step\n",
      "-------------------------------------------------------------\n",
      " confusion_matrix for new data with deeper model \n",
      " [[ 0  0]\n",
      " [24 76]]\n",
      "only attack data -  (76, 20)\n",
      "final data  144 -  (10633, 20)\n",
      "-------------------------------------------------------------\n",
      "4/4 [==============================] - 0s 3ms/step\n",
      "-------------------------------------------------------------\n",
      " confusion_matrix for new data with deeper model \n",
      " [[ 0  0]\n",
      " [21 79]]\n",
      "only attack data -  (79, 20)\n",
      "final data  145 -  (10712, 20)\n",
      "-------------------------------------------------------------\n"
     ]
    },
    {
     "name": "stderr",
     "output_type": "stream",
     "text": [
      "/tmp/ipykernel_743181/4222328789.py:27: FutureWarning: The frame.append method is deprecated and will be removed from pandas in a future version. Use pandas.concat instead.\n",
      "  final_Data = final_Data.append(data1, ignore_index = True)\n",
      "/tmp/ipykernel_743181/4222328789.py:27: FutureWarning: The frame.append method is deprecated and will be removed from pandas in a future version. Use pandas.concat instead.\n",
      "  final_Data = final_Data.append(data1, ignore_index = True)\n"
     ]
    },
    {
     "name": "stdout",
     "output_type": "stream",
     "text": [
      "4/4 [==============================] - 0s 2ms/step\n",
      "-------------------------------------------------------------\n",
      " confusion_matrix for new data with deeper model \n",
      " [[ 0  0]\n",
      " [23 77]]\n",
      "only attack data -  (77, 20)\n",
      "final data  146 -  (10789, 20)\n",
      "-------------------------------------------------------------\n"
     ]
    },
    {
     "name": "stderr",
     "output_type": "stream",
     "text": [
      "/tmp/ipykernel_743181/4222328789.py:27: FutureWarning: The frame.append method is deprecated and will be removed from pandas in a future version. Use pandas.concat instead.\n",
      "  final_Data = final_Data.append(data1, ignore_index = True)\n"
     ]
    },
    {
     "name": "stdout",
     "output_type": "stream",
     "text": [
      "4/4 [==============================] - 0s 3ms/step\n",
      "-------------------------------------------------------------\n",
      " confusion_matrix for new data with deeper model \n",
      " [[ 0  0]\n",
      " [21 79]]\n",
      "only attack data -  (79, 20)\n",
      "final data  147 -  (10868, 20)\n",
      "-------------------------------------------------------------\n",
      "4/4 [==============================] - 0s 3ms/step\n",
      "-------------------------------------------------------------\n",
      " confusion_matrix for new data with deeper model \n",
      " [[ 0  0]\n",
      " [27 73]]\n",
      "only attack data -  (73, 20)\n",
      "final data  148 -  (10941, 20)\n",
      "-------------------------------------------------------------\n"
     ]
    },
    {
     "name": "stderr",
     "output_type": "stream",
     "text": [
      "/tmp/ipykernel_743181/4222328789.py:27: FutureWarning: The frame.append method is deprecated and will be removed from pandas in a future version. Use pandas.concat instead.\n",
      "  final_Data = final_Data.append(data1, ignore_index = True)\n",
      "/tmp/ipykernel_743181/4222328789.py:27: FutureWarning: The frame.append method is deprecated and will be removed from pandas in a future version. Use pandas.concat instead.\n",
      "  final_Data = final_Data.append(data1, ignore_index = True)\n"
     ]
    },
    {
     "name": "stdout",
     "output_type": "stream",
     "text": [
      "4/4 [==============================] - 0s 3ms/step\n",
      "-------------------------------------------------------------\n",
      " confusion_matrix for new data with deeper model \n",
      " [[ 0  0]\n",
      " [27 73]]\n",
      "only attack data -  (73, 20)\n",
      "final data  149 -  (11014, 20)\n",
      "-------------------------------------------------------------\n",
      "4/4 [==============================] - 0s 2ms/step\n",
      "-------------------------------------------------------------\n",
      " confusion_matrix for new data with deeper model \n",
      " [[ 0  0]\n",
      " [26 74]]\n",
      "only attack data -  (74, 20)\n",
      "final data  150 -  (11088, 20)\n",
      "-------------------------------------------------------------\n"
     ]
    },
    {
     "name": "stderr",
     "output_type": "stream",
     "text": [
      "/tmp/ipykernel_743181/4222328789.py:27: FutureWarning: The frame.append method is deprecated and will be removed from pandas in a future version. Use pandas.concat instead.\n",
      "  final_Data = final_Data.append(data1, ignore_index = True)\n",
      "/tmp/ipykernel_743181/4222328789.py:27: FutureWarning: The frame.append method is deprecated and will be removed from pandas in a future version. Use pandas.concat instead.\n",
      "  final_Data = final_Data.append(data1, ignore_index = True)\n"
     ]
    },
    {
     "name": "stdout",
     "output_type": "stream",
     "text": [
      "4/4 [==============================] - 0s 3ms/step\n",
      "-------------------------------------------------------------\n",
      " confusion_matrix for new data with deeper model \n",
      " [[ 0  0]\n",
      " [31 69]]\n",
      "only attack data -  (69, 20)\n",
      "final data  151 -  (11157, 20)\n",
      "-------------------------------------------------------------\n",
      "4/4 [==============================] - 0s 3ms/step\n",
      "-------------------------------------------------------------\n",
      " confusion_matrix for new data with deeper model \n",
      " [[ 0  0]\n",
      " [31 69]]\n",
      "only attack data -  (69, 20)\n",
      "final data  152 -  (11226, 20)\n",
      "-------------------------------------------------------------\n"
     ]
    },
    {
     "name": "stderr",
     "output_type": "stream",
     "text": [
      "/tmp/ipykernel_743181/4222328789.py:27: FutureWarning: The frame.append method is deprecated and will be removed from pandas in a future version. Use pandas.concat instead.\n",
      "  final_Data = final_Data.append(data1, ignore_index = True)\n",
      "/tmp/ipykernel_743181/4222328789.py:27: FutureWarning: The frame.append method is deprecated and will be removed from pandas in a future version. Use pandas.concat instead.\n",
      "  final_Data = final_Data.append(data1, ignore_index = True)\n"
     ]
    },
    {
     "name": "stdout",
     "output_type": "stream",
     "text": [
      "4/4 [==============================] - 0s 3ms/step\n",
      "-------------------------------------------------------------\n",
      " confusion_matrix for new data with deeper model \n",
      " [[ 0  0]\n",
      " [30 70]]\n",
      "only attack data -  (70, 20)\n",
      "final data  153 -  (11296, 20)\n",
      "-------------------------------------------------------------\n",
      "4/4 [==============================] - 0s 2ms/step\n",
      "-------------------------------------------------------------\n",
      " confusion_matrix for new data with deeper model \n",
      " [[ 0  0]\n",
      " [27 73]]\n",
      "only attack data -  (73, 20)\n",
      "final data  154 -  (11369, 20)\n",
      "-------------------------------------------------------------\n"
     ]
    },
    {
     "name": "stderr",
     "output_type": "stream",
     "text": [
      "/tmp/ipykernel_743181/4222328789.py:27: FutureWarning: The frame.append method is deprecated and will be removed from pandas in a future version. Use pandas.concat instead.\n",
      "  final_Data = final_Data.append(data1, ignore_index = True)\n",
      "/tmp/ipykernel_743181/4222328789.py:27: FutureWarning: The frame.append method is deprecated and will be removed from pandas in a future version. Use pandas.concat instead.\n",
      "  final_Data = final_Data.append(data1, ignore_index = True)\n"
     ]
    },
    {
     "name": "stdout",
     "output_type": "stream",
     "text": [
      "4/4 [==============================] - 0s 2ms/step\n",
      "-------------------------------------------------------------\n",
      " confusion_matrix for new data with deeper model \n",
      " [[ 0  0]\n",
      " [21 79]]\n",
      "only attack data -  (79, 20)\n",
      "final data  155 -  (11448, 20)\n",
      "-------------------------------------------------------------\n",
      "4/4 [==============================] - 0s 3ms/step\n",
      "-------------------------------------------------------------\n",
      " confusion_matrix for new data with deeper model \n",
      " [[ 0  0]\n",
      " [23 77]]\n",
      "only attack data -  (77, 20)\n",
      "final data  156 -  (11525, 20)\n",
      "-------------------------------------------------------------\n"
     ]
    },
    {
     "name": "stderr",
     "output_type": "stream",
     "text": [
      "/tmp/ipykernel_743181/4222328789.py:27: FutureWarning: The frame.append method is deprecated and will be removed from pandas in a future version. Use pandas.concat instead.\n",
      "  final_Data = final_Data.append(data1, ignore_index = True)\n",
      "/tmp/ipykernel_743181/4222328789.py:27: FutureWarning: The frame.append method is deprecated and will be removed from pandas in a future version. Use pandas.concat instead.\n",
      "  final_Data = final_Data.append(data1, ignore_index = True)\n"
     ]
    },
    {
     "name": "stdout",
     "output_type": "stream",
     "text": [
      "4/4 [==============================] - 0s 3ms/step\n",
      "-------------------------------------------------------------\n",
      " confusion_matrix for new data with deeper model \n",
      " [[ 0  0]\n",
      " [27 73]]\n",
      "only attack data -  (73, 20)\n",
      "final data  157 -  (11598, 20)\n",
      "-------------------------------------------------------------\n",
      "4/4 [==============================] - 0s 2ms/step\n",
      "-------------------------------------------------------------\n",
      " confusion_matrix for new data with deeper model \n",
      " [[ 0  0]\n",
      " [28 72]]\n",
      "only attack data -  (72, 20)\n",
      "final data  158 -  (11670, 20)\n",
      "-------------------------------------------------------------\n"
     ]
    },
    {
     "name": "stderr",
     "output_type": "stream",
     "text": [
      "/tmp/ipykernel_743181/4222328789.py:27: FutureWarning: The frame.append method is deprecated and will be removed from pandas in a future version. Use pandas.concat instead.\n",
      "  final_Data = final_Data.append(data1, ignore_index = True)\n",
      "/tmp/ipykernel_743181/4222328789.py:27: FutureWarning: The frame.append method is deprecated and will be removed from pandas in a future version. Use pandas.concat instead.\n",
      "  final_Data = final_Data.append(data1, ignore_index = True)\n"
     ]
    },
    {
     "name": "stdout",
     "output_type": "stream",
     "text": [
      "4/4 [==============================] - 0s 2ms/step\n",
      "-------------------------------------------------------------\n",
      " confusion_matrix for new data with deeper model \n",
      " [[ 0  0]\n",
      " [25 75]]\n",
      "only attack data -  (75, 20)\n",
      "final data  159 -  (11745, 20)\n",
      "-------------------------------------------------------------\n",
      "4/4 [==============================] - 0s 2ms/step\n",
      "-------------------------------------------------------------\n",
      " confusion_matrix for new data with deeper model \n",
      " [[ 0  0]\n",
      " [30 70]]\n",
      "only attack data -  (70, 20)\n",
      "final data  160 -  (11815, 20)\n",
      "-------------------------------------------------------------\n"
     ]
    },
    {
     "name": "stderr",
     "output_type": "stream",
     "text": [
      "/tmp/ipykernel_743181/4222328789.py:27: FutureWarning: The frame.append method is deprecated and will be removed from pandas in a future version. Use pandas.concat instead.\n",
      "  final_Data = final_Data.append(data1, ignore_index = True)\n",
      "/tmp/ipykernel_743181/4222328789.py:27: FutureWarning: The frame.append method is deprecated and will be removed from pandas in a future version. Use pandas.concat instead.\n",
      "  final_Data = final_Data.append(data1, ignore_index = True)\n"
     ]
    },
    {
     "name": "stdout",
     "output_type": "stream",
     "text": [
      "4/4 [==============================] - 0s 2ms/step\n",
      "-------------------------------------------------------------\n",
      " confusion_matrix for new data with deeper model \n",
      " [[ 0  0]\n",
      " [20 80]]\n",
      "only attack data -  (80, 20)\n",
      "final data  161 -  (11895, 20)\n",
      "-------------------------------------------------------------\n",
      "4/4 [==============================] - 0s 3ms/step\n",
      "-------------------------------------------------------------\n",
      " confusion_matrix for new data with deeper model \n",
      " [[ 0  0]\n",
      " [27 73]]\n",
      "only attack data -  (73, 20)\n",
      "final data  162 -  (11968, 20)\n",
      "-------------------------------------------------------------\n"
     ]
    },
    {
     "name": "stderr",
     "output_type": "stream",
     "text": [
      "/tmp/ipykernel_743181/4222328789.py:27: FutureWarning: The frame.append method is deprecated and will be removed from pandas in a future version. Use pandas.concat instead.\n",
      "  final_Data = final_Data.append(data1, ignore_index = True)\n",
      "/tmp/ipykernel_743181/4222328789.py:27: FutureWarning: The frame.append method is deprecated and will be removed from pandas in a future version. Use pandas.concat instead.\n",
      "  final_Data = final_Data.append(data1, ignore_index = True)\n"
     ]
    },
    {
     "name": "stdout",
     "output_type": "stream",
     "text": [
      "4/4 [==============================] - 0s 2ms/step\n",
      "-------------------------------------------------------------\n",
      " confusion_matrix for new data with deeper model \n",
      " [[ 0  0]\n",
      " [18 82]]\n",
      "only attack data -  (82, 20)\n",
      "final data  163 -  (12050, 20)\n",
      "-------------------------------------------------------------\n",
      "4/4 [==============================] - 0s 3ms/step\n",
      "-------------------------------------------------------------\n",
      " confusion_matrix for new data with deeper model \n",
      " [[ 0  0]\n",
      " [28 72]]\n",
      "only attack data -  (72, 20)\n",
      "final data  164 -  (12122, 20)\n",
      "-------------------------------------------------------------\n"
     ]
    },
    {
     "name": "stderr",
     "output_type": "stream",
     "text": [
      "/tmp/ipykernel_743181/4222328789.py:27: FutureWarning: The frame.append method is deprecated and will be removed from pandas in a future version. Use pandas.concat instead.\n",
      "  final_Data = final_Data.append(data1, ignore_index = True)\n",
      "/tmp/ipykernel_743181/4222328789.py:27: FutureWarning: The frame.append method is deprecated and will be removed from pandas in a future version. Use pandas.concat instead.\n",
      "  final_Data = final_Data.append(data1, ignore_index = True)\n"
     ]
    },
    {
     "name": "stdout",
     "output_type": "stream",
     "text": [
      "4/4 [==============================] - 0s 4ms/step\n",
      "-------------------------------------------------------------\n",
      " confusion_matrix for new data with deeper model \n",
      " [[ 0  0]\n",
      " [28 72]]\n",
      "only attack data -  (72, 20)\n",
      "final data  165 -  (12194, 20)\n",
      "-------------------------------------------------------------\n",
      "4/4 [==============================] - 0s 2ms/step\n",
      "-------------------------------------------------------------\n",
      " confusion_matrix for new data with deeper model \n",
      " [[ 0  0]\n",
      " [32 68]]\n",
      "only attack data -  (68, 20)\n",
      "final data  166 -  (12262, 20)\n",
      "-------------------------------------------------------------\n"
     ]
    },
    {
     "name": "stderr",
     "output_type": "stream",
     "text": [
      "/tmp/ipykernel_743181/4222328789.py:27: FutureWarning: The frame.append method is deprecated and will be removed from pandas in a future version. Use pandas.concat instead.\n",
      "  final_Data = final_Data.append(data1, ignore_index = True)\n",
      "/tmp/ipykernel_743181/4222328789.py:27: FutureWarning: The frame.append method is deprecated and will be removed from pandas in a future version. Use pandas.concat instead.\n",
      "  final_Data = final_Data.append(data1, ignore_index = True)\n"
     ]
    },
    {
     "name": "stdout",
     "output_type": "stream",
     "text": [
      "4/4 [==============================] - 0s 3ms/step\n",
      "-------------------------------------------------------------\n",
      " confusion_matrix for new data with deeper model \n",
      " [[ 0  0]\n",
      " [25 75]]\n",
      "only attack data -  (75, 20)\n",
      "final data  167 -  (12337, 20)\n",
      "-------------------------------------------------------------\n",
      "4/4 [==============================] - 0s 2ms/step\n",
      "-------------------------------------------------------------\n",
      " confusion_matrix for new data with deeper model \n",
      " [[ 0  0]\n",
      " [34 66]]\n",
      "only attack data -  (66, 20)\n",
      "final data  168 -  (12403, 20)\n",
      "-------------------------------------------------------------\n"
     ]
    },
    {
     "name": "stderr",
     "output_type": "stream",
     "text": [
      "/tmp/ipykernel_743181/4222328789.py:27: FutureWarning: The frame.append method is deprecated and will be removed from pandas in a future version. Use pandas.concat instead.\n",
      "  final_Data = final_Data.append(data1, ignore_index = True)\n",
      "/tmp/ipykernel_743181/4222328789.py:27: FutureWarning: The frame.append method is deprecated and will be removed from pandas in a future version. Use pandas.concat instead.\n",
      "  final_Data = final_Data.append(data1, ignore_index = True)\n"
     ]
    },
    {
     "name": "stdout",
     "output_type": "stream",
     "text": [
      "4/4 [==============================] - 0s 2ms/step\n",
      "-------------------------------------------------------------\n",
      " confusion_matrix for new data with deeper model \n",
      " [[ 0  0]\n",
      " [31 69]]\n",
      "only attack data -  (69, 20)\n",
      "final data  169 -  (12472, 20)\n",
      "-------------------------------------------------------------\n",
      "4/4 [==============================] - 0s 2ms/step\n",
      "-------------------------------------------------------------\n",
      " confusion_matrix for new data with deeper model \n",
      " [[ 0  0]\n",
      " [24 76]]\n",
      "only attack data -  (76, 20)\n",
      "final data  170 -  (12548, 20)\n",
      "-------------------------------------------------------------\n"
     ]
    },
    {
     "name": "stderr",
     "output_type": "stream",
     "text": [
      "/tmp/ipykernel_743181/4222328789.py:27: FutureWarning: The frame.append method is deprecated and will be removed from pandas in a future version. Use pandas.concat instead.\n",
      "  final_Data = final_Data.append(data1, ignore_index = True)\n",
      "/tmp/ipykernel_743181/4222328789.py:27: FutureWarning: The frame.append method is deprecated and will be removed from pandas in a future version. Use pandas.concat instead.\n",
      "  final_Data = final_Data.append(data1, ignore_index = True)\n"
     ]
    },
    {
     "name": "stdout",
     "output_type": "stream",
     "text": [
      "4/4 [==============================] - 0s 3ms/step\n",
      "-------------------------------------------------------------\n",
      " confusion_matrix for new data with deeper model \n",
      " [[ 0  0]\n",
      " [27 73]]\n",
      "only attack data -  (73, 20)\n",
      "final data  171 -  (12621, 20)\n",
      "-------------------------------------------------------------\n",
      "4/4 [==============================] - 0s 3ms/step\n",
      "-------------------------------------------------------------\n",
      " confusion_matrix for new data with deeper model \n",
      " [[ 0  0]\n",
      " [30 70]]\n",
      "only attack data -  (70, 20)\n",
      "final data  172 -  (12691, 20)\n",
      "-------------------------------------------------------------\n"
     ]
    },
    {
     "name": "stderr",
     "output_type": "stream",
     "text": [
      "/tmp/ipykernel_743181/4222328789.py:27: FutureWarning: The frame.append method is deprecated and will be removed from pandas in a future version. Use pandas.concat instead.\n",
      "  final_Data = final_Data.append(data1, ignore_index = True)\n",
      "/tmp/ipykernel_743181/4222328789.py:27: FutureWarning: The frame.append method is deprecated and will be removed from pandas in a future version. Use pandas.concat instead.\n",
      "  final_Data = final_Data.append(data1, ignore_index = True)\n"
     ]
    },
    {
     "name": "stdout",
     "output_type": "stream",
     "text": [
      "4/4 [==============================] - 0s 2ms/step\n",
      "-------------------------------------------------------------\n",
      " confusion_matrix for new data with deeper model \n",
      " [[ 0  0]\n",
      " [26 74]]\n",
      "only attack data -  (74, 20)\n",
      "final data  173 -  (12765, 20)\n",
      "-------------------------------------------------------------\n",
      "4/4 [==============================] - 0s 2ms/step\n",
      "-------------------------------------------------------------\n",
      " confusion_matrix for new data with deeper model \n",
      " [[ 0  0]\n",
      " [24 76]]\n",
      "only attack data -  (76, 20)\n",
      "final data  174 -  (12841, 20)\n",
      "-------------------------------------------------------------\n"
     ]
    },
    {
     "name": "stderr",
     "output_type": "stream",
     "text": [
      "/tmp/ipykernel_743181/4222328789.py:27: FutureWarning: The frame.append method is deprecated and will be removed from pandas in a future version. Use pandas.concat instead.\n",
      "  final_Data = final_Data.append(data1, ignore_index = True)\n",
      "/tmp/ipykernel_743181/4222328789.py:27: FutureWarning: The frame.append method is deprecated and will be removed from pandas in a future version. Use pandas.concat instead.\n",
      "  final_Data = final_Data.append(data1, ignore_index = True)\n"
     ]
    },
    {
     "name": "stdout",
     "output_type": "stream",
     "text": [
      "4/4 [==============================] - 0s 5ms/step\n",
      "-------------------------------------------------------------\n",
      " confusion_matrix for new data with deeper model \n",
      " [[ 0  0]\n",
      " [20 80]]\n",
      "only attack data -  (80, 20)\n",
      "final data  175 -  (12921, 20)\n",
      "-------------------------------------------------------------\n",
      "4/4 [==============================] - 0s 2ms/step\n",
      "-------------------------------------------------------------\n",
      " confusion_matrix for new data with deeper model \n",
      " [[ 0  0]\n",
      " [24 76]]\n",
      "only attack data -  (76, 20)\n",
      "final data  176 -  (12997, 20)\n",
      "-------------------------------------------------------------\n"
     ]
    },
    {
     "name": "stderr",
     "output_type": "stream",
     "text": [
      "/tmp/ipykernel_743181/4222328789.py:27: FutureWarning: The frame.append method is deprecated and will be removed from pandas in a future version. Use pandas.concat instead.\n",
      "  final_Data = final_Data.append(data1, ignore_index = True)\n",
      "/tmp/ipykernel_743181/4222328789.py:27: FutureWarning: The frame.append method is deprecated and will be removed from pandas in a future version. Use pandas.concat instead.\n",
      "  final_Data = final_Data.append(data1, ignore_index = True)\n"
     ]
    },
    {
     "name": "stdout",
     "output_type": "stream",
     "text": [
      "4/4 [==============================] - 0s 5ms/step\n",
      "-------------------------------------------------------------\n",
      " confusion_matrix for new data with deeper model \n",
      " [[ 0  0]\n",
      " [15 85]]\n",
      "only attack data -  (85, 20)\n",
      "final data  177 -  (13082, 20)\n",
      "-------------------------------------------------------------\n",
      "4/4 [==============================] - 0s 2ms/step\n",
      "-------------------------------------------------------------\n",
      " confusion_matrix for new data with deeper model \n",
      " [[ 0  0]\n",
      " [27 73]]\n",
      "only attack data -  (73, 20)\n",
      "final data  178 -  (13155, 20)\n",
      "-------------------------------------------------------------\n"
     ]
    },
    {
     "name": "stderr",
     "output_type": "stream",
     "text": [
      "/tmp/ipykernel_743181/4222328789.py:27: FutureWarning: The frame.append method is deprecated and will be removed from pandas in a future version. Use pandas.concat instead.\n",
      "  final_Data = final_Data.append(data1, ignore_index = True)\n",
      "/tmp/ipykernel_743181/4222328789.py:27: FutureWarning: The frame.append method is deprecated and will be removed from pandas in a future version. Use pandas.concat instead.\n",
      "  final_Data = final_Data.append(data1, ignore_index = True)\n"
     ]
    },
    {
     "name": "stdout",
     "output_type": "stream",
     "text": [
      "4/4 [==============================] - 0s 3ms/step\n",
      "-------------------------------------------------------------\n",
      " confusion_matrix for new data with deeper model \n",
      " [[ 0  0]\n",
      " [29 71]]\n",
      "only attack data -  (71, 20)\n",
      "final data  179 -  (13226, 20)\n",
      "-------------------------------------------------------------\n",
      "4/4 [==============================] - 0s 2ms/step\n",
      "-------------------------------------------------------------\n",
      " confusion_matrix for new data with deeper model \n",
      " [[ 0  0]\n",
      " [33 67]]\n",
      "only attack data -  (67, 20)\n",
      "final data  180 -  (13293, 20)\n",
      "-------------------------------------------------------------\n"
     ]
    },
    {
     "name": "stderr",
     "output_type": "stream",
     "text": [
      "/tmp/ipykernel_743181/4222328789.py:27: FutureWarning: The frame.append method is deprecated and will be removed from pandas in a future version. Use pandas.concat instead.\n",
      "  final_Data = final_Data.append(data1, ignore_index = True)\n",
      "/tmp/ipykernel_743181/4222328789.py:27: FutureWarning: The frame.append method is deprecated and will be removed from pandas in a future version. Use pandas.concat instead.\n",
      "  final_Data = final_Data.append(data1, ignore_index = True)\n"
     ]
    },
    {
     "name": "stdout",
     "output_type": "stream",
     "text": [
      "4/4 [==============================] - 0s 2ms/step\n",
      "-------------------------------------------------------------\n",
      " confusion_matrix for new data with deeper model \n",
      " [[ 0  0]\n",
      " [34 66]]\n",
      "only attack data -  (66, 20)\n",
      "final data  181 -  (13359, 20)\n",
      "-------------------------------------------------------------\n",
      "4/4 [==============================] - 0s 3ms/step\n",
      "-------------------------------------------------------------\n",
      " confusion_matrix for new data with deeper model \n",
      " [[ 0  0]\n",
      " [26 74]]\n",
      "only attack data -  (74, 20)\n",
      "final data  182 -  (13433, 20)\n",
      "-------------------------------------------------------------\n"
     ]
    },
    {
     "name": "stderr",
     "output_type": "stream",
     "text": [
      "/tmp/ipykernel_743181/4222328789.py:27: FutureWarning: The frame.append method is deprecated and will be removed from pandas in a future version. Use pandas.concat instead.\n",
      "  final_Data = final_Data.append(data1, ignore_index = True)\n",
      "/tmp/ipykernel_743181/4222328789.py:27: FutureWarning: The frame.append method is deprecated and will be removed from pandas in a future version. Use pandas.concat instead.\n",
      "  final_Data = final_Data.append(data1, ignore_index = True)\n"
     ]
    },
    {
     "name": "stdout",
     "output_type": "stream",
     "text": [
      "4/4 [==============================] - 0s 3ms/step\n",
      "-------------------------------------------------------------\n",
      " confusion_matrix for new data with deeper model \n",
      " [[ 0  0]\n",
      " [35 65]]\n",
      "only attack data -  (65, 20)\n",
      "final data  183 -  (13498, 20)\n",
      "-------------------------------------------------------------\n",
      "4/4 [==============================] - 0s 2ms/step\n",
      "-------------------------------------------------------------\n",
      " confusion_matrix for new data with deeper model \n",
      " [[ 0  0]\n",
      " [29 71]]\n",
      "only attack data -  (71, 20)\n",
      "final data  184 -  (13569, 20)\n",
      "-------------------------------------------------------------\n"
     ]
    },
    {
     "name": "stderr",
     "output_type": "stream",
     "text": [
      "/tmp/ipykernel_743181/4222328789.py:27: FutureWarning: The frame.append method is deprecated and will be removed from pandas in a future version. Use pandas.concat instead.\n",
      "  final_Data = final_Data.append(data1, ignore_index = True)\n",
      "/tmp/ipykernel_743181/4222328789.py:27: FutureWarning: The frame.append method is deprecated and will be removed from pandas in a future version. Use pandas.concat instead.\n",
      "  final_Data = final_Data.append(data1, ignore_index = True)\n"
     ]
    },
    {
     "name": "stdout",
     "output_type": "stream",
     "text": [
      "4/4 [==============================] - 0s 4ms/step\n",
      "-------------------------------------------------------------\n",
      " confusion_matrix for new data with deeper model \n",
      " [[ 0  0]\n",
      " [36 64]]\n",
      "only attack data -  (64, 20)\n",
      "final data  185 -  (13633, 20)\n",
      "-------------------------------------------------------------\n",
      "4/4 [==============================] - 0s 3ms/step\n",
      "-------------------------------------------------------------\n",
      " confusion_matrix for new data with deeper model \n",
      " [[ 0  0]\n",
      " [25 75]]\n",
      "only attack data -  (75, 20)\n",
      "final data  186 -  (13708, 20)\n",
      "-------------------------------------------------------------\n"
     ]
    },
    {
     "name": "stderr",
     "output_type": "stream",
     "text": [
      "/tmp/ipykernel_743181/4222328789.py:27: FutureWarning: The frame.append method is deprecated and will be removed from pandas in a future version. Use pandas.concat instead.\n",
      "  final_Data = final_Data.append(data1, ignore_index = True)\n",
      "/tmp/ipykernel_743181/4222328789.py:27: FutureWarning: The frame.append method is deprecated and will be removed from pandas in a future version. Use pandas.concat instead.\n",
      "  final_Data = final_Data.append(data1, ignore_index = True)\n"
     ]
    },
    {
     "name": "stdout",
     "output_type": "stream",
     "text": [
      "4/4 [==============================] - 0s 2ms/step\n",
      "-------------------------------------------------------------\n",
      " confusion_matrix for new data with deeper model \n",
      " [[ 0  0]\n",
      " [25 75]]\n",
      "only attack data -  (75, 20)\n",
      "final data  187 -  (13783, 20)\n",
      "-------------------------------------------------------------\n",
      "4/4 [==============================] - 0s 2ms/step\n",
      "-------------------------------------------------------------\n",
      " confusion_matrix for new data with deeper model \n",
      " [[ 0  0]\n",
      " [21 79]]\n",
      "only attack data -  (79, 20)\n",
      "final data  188 -  (13862, 20)\n",
      "-------------------------------------------------------------\n",
      "1/4 [======>.......................] - ETA: 0s"
     ]
    },
    {
     "name": "stderr",
     "output_type": "stream",
     "text": [
      "/tmp/ipykernel_743181/4222328789.py:27: FutureWarning: The frame.append method is deprecated and will be removed from pandas in a future version. Use pandas.concat instead.\n",
      "  final_Data = final_Data.append(data1, ignore_index = True)\n",
      "/tmp/ipykernel_743181/4222328789.py:27: FutureWarning: The frame.append method is deprecated and will be removed from pandas in a future version. Use pandas.concat instead.\n",
      "  final_Data = final_Data.append(data1, ignore_index = True)\n"
     ]
    },
    {
     "name": "stdout",
     "output_type": "stream",
     "text": [
      "4/4 [==============================] - 0s 2ms/step\n",
      "-------------------------------------------------------------\n",
      " confusion_matrix for new data with deeper model \n",
      " [[ 0  0]\n",
      " [28 72]]\n",
      "only attack data -  (72, 20)\n",
      "final data  189 -  (13934, 20)\n",
      "-------------------------------------------------------------\n",
      "4/4 [==============================] - 0s 3ms/step\n",
      "-------------------------------------------------------------\n",
      " confusion_matrix for new data with deeper model \n",
      " [[ 0  0]\n",
      " [27 73]]\n",
      "only attack data -  (73, 20)\n",
      "final data  190 -  (14007, 20)\n",
      "-------------------------------------------------------------\n"
     ]
    },
    {
     "name": "stderr",
     "output_type": "stream",
     "text": [
      "/tmp/ipykernel_743181/4222328789.py:27: FutureWarning: The frame.append method is deprecated and will be removed from pandas in a future version. Use pandas.concat instead.\n",
      "  final_Data = final_Data.append(data1, ignore_index = True)\n",
      "/tmp/ipykernel_743181/4222328789.py:27: FutureWarning: The frame.append method is deprecated and will be removed from pandas in a future version. Use pandas.concat instead.\n",
      "  final_Data = final_Data.append(data1, ignore_index = True)\n"
     ]
    },
    {
     "name": "stdout",
     "output_type": "stream",
     "text": [
      "4/4 [==============================] - 0s 3ms/step\n",
      "-------------------------------------------------------------\n",
      " confusion_matrix for new data with deeper model \n",
      " [[ 0  0]\n",
      " [30 70]]\n",
      "only attack data -  (70, 20)\n",
      "final data  191 -  (14077, 20)\n",
      "-------------------------------------------------------------\n",
      "4/4 [==============================] - 0s 2ms/step\n",
      "-------------------------------------------------------------\n",
      " confusion_matrix for new data with deeper model \n",
      " [[ 0  0]\n",
      " [22 78]]\n",
      "only attack data -  (78, 20)\n",
      "final data  192 -  (14155, 20)\n",
      "-------------------------------------------------------------\n"
     ]
    },
    {
     "name": "stderr",
     "output_type": "stream",
     "text": [
      "/tmp/ipykernel_743181/4222328789.py:27: FutureWarning: The frame.append method is deprecated and will be removed from pandas in a future version. Use pandas.concat instead.\n",
      "  final_Data = final_Data.append(data1, ignore_index = True)\n",
      "/tmp/ipykernel_743181/4222328789.py:27: FutureWarning: The frame.append method is deprecated and will be removed from pandas in a future version. Use pandas.concat instead.\n",
      "  final_Data = final_Data.append(data1, ignore_index = True)\n"
     ]
    },
    {
     "name": "stdout",
     "output_type": "stream",
     "text": [
      "4/4 [==============================] - 0s 3ms/step\n",
      "-------------------------------------------------------------\n",
      " confusion_matrix for new data with deeper model \n",
      " [[ 0  0]\n",
      " [25 75]]\n",
      "only attack data -  (75, 20)\n",
      "final data  193 -  (14230, 20)\n",
      "-------------------------------------------------------------\n",
      "4/4 [==============================] - 0s 2ms/step\n",
      "-------------------------------------------------------------\n",
      " confusion_matrix for new data with deeper model \n",
      " [[ 0  0]\n",
      " [27 73]]\n",
      "only attack data -  (73, 20)\n",
      "final data  194 -  (14303, 20)\n",
      "-------------------------------------------------------------\n"
     ]
    },
    {
     "name": "stderr",
     "output_type": "stream",
     "text": [
      "/tmp/ipykernel_743181/4222328789.py:27: FutureWarning: The frame.append method is deprecated and will be removed from pandas in a future version. Use pandas.concat instead.\n",
      "  final_Data = final_Data.append(data1, ignore_index = True)\n",
      "/tmp/ipykernel_743181/4222328789.py:27: FutureWarning: The frame.append method is deprecated and will be removed from pandas in a future version. Use pandas.concat instead.\n",
      "  final_Data = final_Data.append(data1, ignore_index = True)\n"
     ]
    },
    {
     "name": "stdout",
     "output_type": "stream",
     "text": [
      "4/4 [==============================] - 0s 3ms/step\n",
      "-------------------------------------------------------------\n",
      " confusion_matrix for new data with deeper model \n",
      " [[ 0  0]\n",
      " [30 70]]\n",
      "only attack data -  (70, 20)\n",
      "final data  195 -  (14373, 20)\n",
      "-------------------------------------------------------------\n",
      "4/4 [==============================] - 0s 3ms/step\n",
      "-------------------------------------------------------------\n",
      " confusion_matrix for new data with deeper model \n",
      " [[ 0  0]\n",
      " [22 78]]\n",
      "only attack data -  (78, 20)\n",
      "final data  196 -  (14451, 20)\n",
      "-------------------------------------------------------------\n"
     ]
    },
    {
     "name": "stderr",
     "output_type": "stream",
     "text": [
      "/tmp/ipykernel_743181/4222328789.py:27: FutureWarning: The frame.append method is deprecated and will be removed from pandas in a future version. Use pandas.concat instead.\n",
      "  final_Data = final_Data.append(data1, ignore_index = True)\n",
      "/tmp/ipykernel_743181/4222328789.py:27: FutureWarning: The frame.append method is deprecated and will be removed from pandas in a future version. Use pandas.concat instead.\n",
      "  final_Data = final_Data.append(data1, ignore_index = True)\n"
     ]
    },
    {
     "name": "stdout",
     "output_type": "stream",
     "text": [
      "4/4 [==============================] - 0s 2ms/step\n",
      "-------------------------------------------------------------\n",
      " confusion_matrix for new data with deeper model \n",
      " [[ 0  0]\n",
      " [32 68]]\n",
      "only attack data -  (68, 20)\n",
      "final data  197 -  (14519, 20)\n",
      "-------------------------------------------------------------\n",
      "4/4 [==============================] - 0s 2ms/step\n",
      "-------------------------------------------------------------\n",
      " confusion_matrix for new data with deeper model \n",
      " [[ 0  0]\n",
      " [27 73]]\n",
      "only attack data -  (73, 20)\n",
      "final data  198 -  (14592, 20)\n",
      "-------------------------------------------------------------\n"
     ]
    },
    {
     "name": "stderr",
     "output_type": "stream",
     "text": [
      "/tmp/ipykernel_743181/4222328789.py:27: FutureWarning: The frame.append method is deprecated and will be removed from pandas in a future version. Use pandas.concat instead.\n",
      "  final_Data = final_Data.append(data1, ignore_index = True)\n",
      "/tmp/ipykernel_743181/4222328789.py:27: FutureWarning: The frame.append method is deprecated and will be removed from pandas in a future version. Use pandas.concat instead.\n",
      "  final_Data = final_Data.append(data1, ignore_index = True)\n"
     ]
    },
    {
     "name": "stdout",
     "output_type": "stream",
     "text": [
      "4/4 [==============================] - 0s 3ms/step\n",
      "-------------------------------------------------------------\n",
      " confusion_matrix for new data with deeper model \n",
      " [[ 0  0]\n",
      " [28 72]]\n",
      "only attack data -  (72, 20)\n",
      "final data  199 -  (14664, 20)\n",
      "-------------------------------------------------------------\n",
      "4/4 [==============================] - 0s 2ms/step\n",
      "-------------------------------------------------------------\n",
      " confusion_matrix for new data with deeper model \n",
      " [[ 0  0]\n",
      " [26 74]]\n",
      "only attack data -  (74, 20)\n",
      "final data  200 -  (14738, 20)\n",
      "-------------------------------------------------------------\n"
     ]
    },
    {
     "name": "stderr",
     "output_type": "stream",
     "text": [
      "/tmp/ipykernel_743181/4222328789.py:27: FutureWarning: The frame.append method is deprecated and will be removed from pandas in a future version. Use pandas.concat instead.\n",
      "  final_Data = final_Data.append(data1, ignore_index = True)\n",
      "/tmp/ipykernel_743181/4222328789.py:27: FutureWarning: The frame.append method is deprecated and will be removed from pandas in a future version. Use pandas.concat instead.\n",
      "  final_Data = final_Data.append(data1, ignore_index = True)\n"
     ]
    },
    {
     "name": "stdout",
     "output_type": "stream",
     "text": [
      "4/4 [==============================] - 0s 2ms/step\n",
      "-------------------------------------------------------------\n",
      " confusion_matrix for new data with deeper model \n",
      " [[ 0  0]\n",
      " [29 71]]\n",
      "only attack data -  (71, 20)\n",
      "final data  201 -  (14809, 20)\n",
      "-------------------------------------------------------------\n",
      "4/4 [==============================] - 0s 3ms/step\n",
      "-------------------------------------------------------------\n",
      " confusion_matrix for new data with deeper model \n",
      " [[ 0  0]\n",
      " [28 72]]\n",
      "only attack data -  (72, 20)\n",
      "final data  202 -  (14881, 20)\n",
      "-------------------------------------------------------------\n"
     ]
    },
    {
     "name": "stderr",
     "output_type": "stream",
     "text": [
      "/tmp/ipykernel_743181/4222328789.py:27: FutureWarning: The frame.append method is deprecated and will be removed from pandas in a future version. Use pandas.concat instead.\n",
      "  final_Data = final_Data.append(data1, ignore_index = True)\n",
      "/tmp/ipykernel_743181/4222328789.py:27: FutureWarning: The frame.append method is deprecated and will be removed from pandas in a future version. Use pandas.concat instead.\n",
      "  final_Data = final_Data.append(data1, ignore_index = True)\n"
     ]
    },
    {
     "name": "stdout",
     "output_type": "stream",
     "text": [
      "4/4 [==============================] - 0s 3ms/step\n",
      "-------------------------------------------------------------\n",
      " confusion_matrix for new data with deeper model \n",
      " [[ 0  0]\n",
      " [29 71]]\n",
      "only attack data -  (71, 20)\n",
      "final data  203 -  (14952, 20)\n",
      "-------------------------------------------------------------\n",
      "4/4 [==============================] - 0s 2ms/step\n",
      "-------------------------------------------------------------\n",
      " confusion_matrix for new data with deeper model \n",
      " [[ 0  0]\n",
      " [24 76]]\n",
      "only attack data -  (76, 20)\n",
      "final data  204 -  (15028, 20)\n",
      "-------------------------------------------------------------\n"
     ]
    },
    {
     "name": "stderr",
     "output_type": "stream",
     "text": [
      "/tmp/ipykernel_743181/4222328789.py:27: FutureWarning: The frame.append method is deprecated and will be removed from pandas in a future version. Use pandas.concat instead.\n",
      "  final_Data = final_Data.append(data1, ignore_index = True)\n",
      "/tmp/ipykernel_743181/4222328789.py:27: FutureWarning: The frame.append method is deprecated and will be removed from pandas in a future version. Use pandas.concat instead.\n",
      "  final_Data = final_Data.append(data1, ignore_index = True)\n"
     ]
    },
    {
     "name": "stdout",
     "output_type": "stream",
     "text": [
      "4/4 [==============================] - 0s 2ms/step\n",
      "-------------------------------------------------------------\n",
      " confusion_matrix for new data with deeper model \n",
      " [[ 0  0]\n",
      " [23 77]]\n",
      "only attack data -  (77, 20)\n",
      "final data  205 -  (15105, 20)\n",
      "-------------------------------------------------------------\n",
      "4/4 [==============================] - 0s 3ms/step\n",
      "-------------------------------------------------------------\n",
      " confusion_matrix for new data with deeper model \n",
      " [[ 0  0]\n",
      " [24 76]]\n",
      "only attack data -  (76, 20)\n",
      "final data  206 -  (15181, 20)\n",
      "-------------------------------------------------------------\n"
     ]
    },
    {
     "name": "stderr",
     "output_type": "stream",
     "text": [
      "/tmp/ipykernel_743181/4222328789.py:27: FutureWarning: The frame.append method is deprecated and will be removed from pandas in a future version. Use pandas.concat instead.\n",
      "  final_Data = final_Data.append(data1, ignore_index = True)\n",
      "/tmp/ipykernel_743181/4222328789.py:27: FutureWarning: The frame.append method is deprecated and will be removed from pandas in a future version. Use pandas.concat instead.\n",
      "  final_Data = final_Data.append(data1, ignore_index = True)\n"
     ]
    },
    {
     "name": "stdout",
     "output_type": "stream",
     "text": [
      "4/4 [==============================] - 0s 2ms/step\n",
      "-------------------------------------------------------------\n",
      " confusion_matrix for new data with deeper model \n",
      " [[ 0  0]\n",
      " [23 77]]\n",
      "only attack data -  (77, 20)\n",
      "final data  207 -  (15258, 20)\n",
      "-------------------------------------------------------------\n",
      "4/4 [==============================] - 0s 2ms/step\n",
      "-------------------------------------------------------------\n",
      " confusion_matrix for new data with deeper model \n",
      " [[ 0  0]\n",
      " [29 71]]\n",
      "only attack data -  (71, 20)\n",
      "final data  208 -  (15329, 20)\n",
      "-------------------------------------------------------------\n"
     ]
    },
    {
     "name": "stderr",
     "output_type": "stream",
     "text": [
      "/tmp/ipykernel_743181/4222328789.py:27: FutureWarning: The frame.append method is deprecated and will be removed from pandas in a future version. Use pandas.concat instead.\n",
      "  final_Data = final_Data.append(data1, ignore_index = True)\n",
      "/tmp/ipykernel_743181/4222328789.py:27: FutureWarning: The frame.append method is deprecated and will be removed from pandas in a future version. Use pandas.concat instead.\n",
      "  final_Data = final_Data.append(data1, ignore_index = True)\n"
     ]
    },
    {
     "name": "stdout",
     "output_type": "stream",
     "text": [
      "4/4 [==============================] - 0s 2ms/step\n",
      "-------------------------------------------------------------\n",
      " confusion_matrix for new data with deeper model \n",
      " [[ 0  0]\n",
      " [32 68]]\n",
      "only attack data -  (68, 20)\n",
      "final data  209 -  (15397, 20)\n",
      "-------------------------------------------------------------\n",
      "4/4 [==============================] - 0s 3ms/step\n",
      "-------------------------------------------------------------\n",
      " confusion_matrix for new data with deeper model \n",
      " [[ 0  0]\n",
      " [28 72]]\n",
      "only attack data -  (72, 20)\n",
      "final data  210 -  (15469, 20)\n",
      "-------------------------------------------------------------\n"
     ]
    },
    {
     "name": "stderr",
     "output_type": "stream",
     "text": [
      "/tmp/ipykernel_743181/4222328789.py:27: FutureWarning: The frame.append method is deprecated and will be removed from pandas in a future version. Use pandas.concat instead.\n",
      "  final_Data = final_Data.append(data1, ignore_index = True)\n",
      "/tmp/ipykernel_743181/4222328789.py:27: FutureWarning: The frame.append method is deprecated and will be removed from pandas in a future version. Use pandas.concat instead.\n",
      "  final_Data = final_Data.append(data1, ignore_index = True)\n"
     ]
    },
    {
     "name": "stdout",
     "output_type": "stream",
     "text": [
      "4/4 [==============================] - 0s 2ms/step\n",
      "-------------------------------------------------------------\n",
      " confusion_matrix for new data with deeper model \n",
      " [[ 0  0]\n",
      " [33 67]]\n",
      "only attack data -  (67, 20)\n",
      "final data  211 -  (15536, 20)\n",
      "-------------------------------------------------------------\n",
      "4/4 [==============================] - 0s 2ms/step\n",
      "-------------------------------------------------------------\n",
      " confusion_matrix for new data with deeper model \n",
      " [[ 0  0]\n",
      " [26 74]]\n",
      "only attack data -  (74, 20)\n",
      "final data  212 -  (15610, 20)\n",
      "-------------------------------------------------------------\n"
     ]
    },
    {
     "name": "stderr",
     "output_type": "stream",
     "text": [
      "/tmp/ipykernel_743181/4222328789.py:27: FutureWarning: The frame.append method is deprecated and will be removed from pandas in a future version. Use pandas.concat instead.\n",
      "  final_Data = final_Data.append(data1, ignore_index = True)\n",
      "/tmp/ipykernel_743181/4222328789.py:27: FutureWarning: The frame.append method is deprecated and will be removed from pandas in a future version. Use pandas.concat instead.\n",
      "  final_Data = final_Data.append(data1, ignore_index = True)\n"
     ]
    },
    {
     "name": "stdout",
     "output_type": "stream",
     "text": [
      "4/4 [==============================] - 0s 3ms/step\n",
      "-------------------------------------------------------------\n",
      " confusion_matrix for new data with deeper model \n",
      " [[ 0  0]\n",
      " [31 69]]\n",
      "only attack data -  (69, 20)\n",
      "final data  213 -  (15679, 20)\n",
      "-------------------------------------------------------------\n",
      "4/4 [==============================] - 0s 3ms/step\n",
      "-------------------------------------------------------------\n",
      " confusion_matrix for new data with deeper model \n",
      " [[ 0  0]\n",
      " [36 64]]\n",
      "only attack data -  (64, 20)\n",
      "final data  214 -  (15743, 20)\n",
      "-------------------------------------------------------------\n"
     ]
    },
    {
     "name": "stderr",
     "output_type": "stream",
     "text": [
      "/tmp/ipykernel_743181/4222328789.py:27: FutureWarning: The frame.append method is deprecated and will be removed from pandas in a future version. Use pandas.concat instead.\n",
      "  final_Data = final_Data.append(data1, ignore_index = True)\n",
      "/tmp/ipykernel_743181/4222328789.py:27: FutureWarning: The frame.append method is deprecated and will be removed from pandas in a future version. Use pandas.concat instead.\n",
      "  final_Data = final_Data.append(data1, ignore_index = True)\n"
     ]
    },
    {
     "name": "stdout",
     "output_type": "stream",
     "text": [
      "4/4 [==============================] - 0s 2ms/step\n",
      "-------------------------------------------------------------\n",
      " confusion_matrix for new data with deeper model \n",
      " [[ 0  0]\n",
      " [24 76]]\n",
      "only attack data -  (76, 20)\n",
      "final data  215 -  (15819, 20)\n",
      "-------------------------------------------------------------\n",
      "4/4 [==============================] - 0s 3ms/step\n",
      "-------------------------------------------------------------\n",
      " confusion_matrix for new data with deeper model \n",
      " [[ 0  0]\n",
      " [25 75]]\n",
      "only attack data -  (75, 20)\n",
      "final data  216 -  (15894, 20)\n",
      "-------------------------------------------------------------\n"
     ]
    },
    {
     "name": "stderr",
     "output_type": "stream",
     "text": [
      "/tmp/ipykernel_743181/4222328789.py:27: FutureWarning: The frame.append method is deprecated and will be removed from pandas in a future version. Use pandas.concat instead.\n",
      "  final_Data = final_Data.append(data1, ignore_index = True)\n",
      "/tmp/ipykernel_743181/4222328789.py:27: FutureWarning: The frame.append method is deprecated and will be removed from pandas in a future version. Use pandas.concat instead.\n",
      "  final_Data = final_Data.append(data1, ignore_index = True)\n"
     ]
    },
    {
     "name": "stdout",
     "output_type": "stream",
     "text": [
      "4/4 [==============================] - 0s 2ms/step\n",
      "-------------------------------------------------------------\n",
      " confusion_matrix for new data with deeper model \n",
      " [[ 0  0]\n",
      " [26 74]]\n",
      "only attack data -  (74, 20)\n",
      "final data  217 -  (15968, 20)\n",
      "-------------------------------------------------------------\n",
      "4/4 [==============================] - 0s 3ms/step\n",
      "-------------------------------------------------------------\n",
      " confusion_matrix for new data with deeper model \n",
      " [[ 0  0]\n",
      " [23 77]]\n",
      "only attack data -  (77, 20)\n",
      "final data  218 -  (16045, 20)\n",
      "-------------------------------------------------------------\n"
     ]
    },
    {
     "name": "stderr",
     "output_type": "stream",
     "text": [
      "/tmp/ipykernel_743181/4222328789.py:27: FutureWarning: The frame.append method is deprecated and will be removed from pandas in a future version. Use pandas.concat instead.\n",
      "  final_Data = final_Data.append(data1, ignore_index = True)\n",
      "/tmp/ipykernel_743181/4222328789.py:27: FutureWarning: The frame.append method is deprecated and will be removed from pandas in a future version. Use pandas.concat instead.\n",
      "  final_Data = final_Data.append(data1, ignore_index = True)\n"
     ]
    },
    {
     "name": "stdout",
     "output_type": "stream",
     "text": [
      "4/4 [==============================] - 0s 3ms/step\n",
      "-------------------------------------------------------------\n",
      " confusion_matrix for new data with deeper model \n",
      " [[ 0  0]\n",
      " [30 70]]\n",
      "only attack data -  (70, 20)\n",
      "final data  219 -  (16115, 20)\n",
      "-------------------------------------------------------------\n",
      "4/4 [==============================] - 0s 3ms/step\n",
      "-------------------------------------------------------------\n",
      " confusion_matrix for new data with deeper model \n",
      " [[ 0  0]\n",
      " [28 72]]\n",
      "only attack data -  (72, 20)\n",
      "final data  220 -  (16187, 20)\n",
      "-------------------------------------------------------------\n"
     ]
    },
    {
     "name": "stderr",
     "output_type": "stream",
     "text": [
      "/tmp/ipykernel_743181/4222328789.py:27: FutureWarning: The frame.append method is deprecated and will be removed from pandas in a future version. Use pandas.concat instead.\n",
      "  final_Data = final_Data.append(data1, ignore_index = True)\n",
      "/tmp/ipykernel_743181/4222328789.py:27: FutureWarning: The frame.append method is deprecated and will be removed from pandas in a future version. Use pandas.concat instead.\n",
      "  final_Data = final_Data.append(data1, ignore_index = True)\n"
     ]
    },
    {
     "name": "stdout",
     "output_type": "stream",
     "text": [
      "4/4 [==============================] - 0s 3ms/step\n",
      "-------------------------------------------------------------\n",
      " confusion_matrix for new data with deeper model \n",
      " [[ 0  0]\n",
      " [21 79]]\n",
      "only attack data -  (79, 20)\n",
      "final data  221 -  (16266, 20)\n",
      "-------------------------------------------------------------\n",
      "4/4 [==============================] - 0s 3ms/step\n",
      "-------------------------------------------------------------\n",
      " confusion_matrix for new data with deeper model \n",
      " [[ 0  0]\n",
      " [23 77]]\n",
      "only attack data -  (77, 20)\n",
      "final data  222 -  (16343, 20)\n",
      "-------------------------------------------------------------\n"
     ]
    },
    {
     "name": "stderr",
     "output_type": "stream",
     "text": [
      "/tmp/ipykernel_743181/4222328789.py:27: FutureWarning: The frame.append method is deprecated and will be removed from pandas in a future version. Use pandas.concat instead.\n",
      "  final_Data = final_Data.append(data1, ignore_index = True)\n",
      "/tmp/ipykernel_743181/4222328789.py:27: FutureWarning: The frame.append method is deprecated and will be removed from pandas in a future version. Use pandas.concat instead.\n",
      "  final_Data = final_Data.append(data1, ignore_index = True)\n"
     ]
    },
    {
     "name": "stdout",
     "output_type": "stream",
     "text": [
      "4/4 [==============================] - 0s 3ms/step\n",
      "-------------------------------------------------------------\n",
      " confusion_matrix for new data with deeper model \n",
      " [[ 0  0]\n",
      " [38 62]]\n",
      "only attack data -  (62, 20)\n",
      "final data  223 -  (16405, 20)\n",
      "-------------------------------------------------------------\n",
      "4/4 [==============================] - 0s 2ms/step\n",
      "-------------------------------------------------------------\n",
      " confusion_matrix for new data with deeper model \n",
      " [[ 0  0]\n",
      " [27 73]]\n",
      "only attack data -  (73, 20)\n",
      "final data  224 -  (16478, 20)\n",
      "-------------------------------------------------------------\n"
     ]
    },
    {
     "name": "stderr",
     "output_type": "stream",
     "text": [
      "/tmp/ipykernel_743181/4222328789.py:27: FutureWarning: The frame.append method is deprecated and will be removed from pandas in a future version. Use pandas.concat instead.\n",
      "  final_Data = final_Data.append(data1, ignore_index = True)\n",
      "/tmp/ipykernel_743181/4222328789.py:27: FutureWarning: The frame.append method is deprecated and will be removed from pandas in a future version. Use pandas.concat instead.\n",
      "  final_Data = final_Data.append(data1, ignore_index = True)\n"
     ]
    },
    {
     "name": "stdout",
     "output_type": "stream",
     "text": [
      "4/4 [==============================] - 0s 3ms/step\n",
      "-------------------------------------------------------------\n",
      " confusion_matrix for new data with deeper model \n",
      " [[ 0  0]\n",
      " [28 72]]\n",
      "only attack data -  (72, 20)\n",
      "final data  225 -  (16550, 20)\n",
      "-------------------------------------------------------------\n",
      "4/4 [==============================] - 0s 3ms/step\n"
     ]
    },
    {
     "name": "stderr",
     "output_type": "stream",
     "text": [
      "/tmp/ipykernel_743181/4222328789.py:27: FutureWarning: The frame.append method is deprecated and will be removed from pandas in a future version. Use pandas.concat instead.\n",
      "  final_Data = final_Data.append(data1, ignore_index = True)\n"
     ]
    },
    {
     "name": "stdout",
     "output_type": "stream",
     "text": [
      "-------------------------------------------------------------\n",
      " confusion_matrix for new data with deeper model \n",
      " [[ 0  0]\n",
      " [21 79]]\n",
      "only attack data -  (79, 20)\n",
      "final data  226 -  (16629, 20)\n",
      "-------------------------------------------------------------\n",
      "4/4 [==============================] - 0s 3ms/step\n",
      "-------------------------------------------------------------\n",
      " confusion_matrix for new data with deeper model \n",
      " [[ 0  0]\n",
      " [20 80]]\n",
      "only attack data -  (80, 20)\n",
      "final data  227 -  (16709, 20)\n",
      "-------------------------------------------------------------\n"
     ]
    },
    {
     "name": "stderr",
     "output_type": "stream",
     "text": [
      "/tmp/ipykernel_743181/4222328789.py:27: FutureWarning: The frame.append method is deprecated and will be removed from pandas in a future version. Use pandas.concat instead.\n",
      "  final_Data = final_Data.append(data1, ignore_index = True)\n",
      "/tmp/ipykernel_743181/4222328789.py:27: FutureWarning: The frame.append method is deprecated and will be removed from pandas in a future version. Use pandas.concat instead.\n",
      "  final_Data = final_Data.append(data1, ignore_index = True)\n"
     ]
    },
    {
     "name": "stdout",
     "output_type": "stream",
     "text": [
      "4/4 [==============================] - 0s 2ms/step\n",
      "-------------------------------------------------------------\n",
      " confusion_matrix for new data with deeper model \n",
      " [[ 0  0]\n",
      " [20 80]]\n",
      "only attack data -  (80, 20)\n",
      "final data  228 -  (16789, 20)\n",
      "-------------------------------------------------------------\n",
      "4/4 [==============================] - 0s 3ms/step\n",
      "-------------------------------------------------------------\n",
      " confusion_matrix for new data with deeper model \n",
      " [[ 0  0]\n",
      " [28 72]]\n",
      "only attack data -  (72, 20)\n",
      "final data  229 -  (16861, 20)\n",
      "-------------------------------------------------------------\n"
     ]
    },
    {
     "name": "stderr",
     "output_type": "stream",
     "text": [
      "/tmp/ipykernel_743181/4222328789.py:27: FutureWarning: The frame.append method is deprecated and will be removed from pandas in a future version. Use pandas.concat instead.\n",
      "  final_Data = final_Data.append(data1, ignore_index = True)\n",
      "/tmp/ipykernel_743181/4222328789.py:27: FutureWarning: The frame.append method is deprecated and will be removed from pandas in a future version. Use pandas.concat instead.\n",
      "  final_Data = final_Data.append(data1, ignore_index = True)\n"
     ]
    },
    {
     "name": "stdout",
     "output_type": "stream",
     "text": [
      "4/4 [==============================] - 0s 4ms/step\n",
      "-------------------------------------------------------------\n",
      " confusion_matrix for new data with deeper model \n",
      " [[ 0  0]\n",
      " [30 70]]\n",
      "only attack data -  (70, 20)\n",
      "final data  230 -  (16931, 20)\n",
      "-------------------------------------------------------------\n",
      "4/4 [==============================] - 0s 3ms/step\n",
      "-------------------------------------------------------------\n",
      " confusion_matrix for new data with deeper model \n",
      " [[ 0  0]\n",
      " [20 80]]\n",
      "only attack data -  (80, 20)\n",
      "final data  231 -  (17011, 20)\n",
      "-------------------------------------------------------------\n"
     ]
    },
    {
     "name": "stderr",
     "output_type": "stream",
     "text": [
      "/tmp/ipykernel_743181/4222328789.py:27: FutureWarning: The frame.append method is deprecated and will be removed from pandas in a future version. Use pandas.concat instead.\n",
      "  final_Data = final_Data.append(data1, ignore_index = True)\n",
      "/tmp/ipykernel_743181/4222328789.py:27: FutureWarning: The frame.append method is deprecated and will be removed from pandas in a future version. Use pandas.concat instead.\n",
      "  final_Data = final_Data.append(data1, ignore_index = True)\n"
     ]
    },
    {
     "name": "stdout",
     "output_type": "stream",
     "text": [
      "4/4 [==============================] - 0s 3ms/step\n",
      "-------------------------------------------------------------\n",
      " confusion_matrix for new data with deeper model \n",
      " [[ 0  0]\n",
      " [27 73]]\n",
      "only attack data -  (73, 20)\n",
      "final data  232 -  (17084, 20)\n",
      "-------------------------------------------------------------\n",
      "4/4 [==============================] - 0s 3ms/step\n",
      "-------------------------------------------------------------\n",
      " confusion_matrix for new data with deeper model \n",
      " [[ 0  0]\n",
      " [29 71]]\n",
      "only attack data -  (71, 20)\n",
      "final data  233 -  (17155, 20)\n",
      "-------------------------------------------------------------\n"
     ]
    },
    {
     "name": "stderr",
     "output_type": "stream",
     "text": [
      "/tmp/ipykernel_743181/4222328789.py:27: FutureWarning: The frame.append method is deprecated and will be removed from pandas in a future version. Use pandas.concat instead.\n",
      "  final_Data = final_Data.append(data1, ignore_index = True)\n",
      "/tmp/ipykernel_743181/4222328789.py:27: FutureWarning: The frame.append method is deprecated and will be removed from pandas in a future version. Use pandas.concat instead.\n",
      "  final_Data = final_Data.append(data1, ignore_index = True)\n"
     ]
    },
    {
     "name": "stdout",
     "output_type": "stream",
     "text": [
      "4/4 [==============================] - 0s 3ms/step\n",
      "-------------------------------------------------------------\n",
      " confusion_matrix for new data with deeper model \n",
      " [[ 0  0]\n",
      " [26 74]]\n",
      "only attack data -  (74, 20)\n",
      "final data  234 -  (17229, 20)\n",
      "-------------------------------------------------------------\n",
      "4/4 [==============================] - 0s 3ms/step\n",
      "-------------------------------------------------------------\n",
      " confusion_matrix for new data with deeper model \n",
      " [[ 0  0]\n",
      " [24 76]]\n",
      "only attack data -  (76, 20)\n",
      "final data  235 -  (17305, 20)\n",
      "-------------------------------------------------------------\n"
     ]
    },
    {
     "name": "stderr",
     "output_type": "stream",
     "text": [
      "/tmp/ipykernel_743181/4222328789.py:27: FutureWarning: The frame.append method is deprecated and will be removed from pandas in a future version. Use pandas.concat instead.\n",
      "  final_Data = final_Data.append(data1, ignore_index = True)\n",
      "/tmp/ipykernel_743181/4222328789.py:27: FutureWarning: The frame.append method is deprecated and will be removed from pandas in a future version. Use pandas.concat instead.\n",
      "  final_Data = final_Data.append(data1, ignore_index = True)\n"
     ]
    },
    {
     "name": "stdout",
     "output_type": "stream",
     "text": [
      "4/4 [==============================] - 0s 2ms/step\n",
      "-------------------------------------------------------------\n",
      " confusion_matrix for new data with deeper model \n",
      " [[ 0  0]\n",
      " [25 75]]\n",
      "only attack data -  (75, 20)\n",
      "final data  236 -  (17380, 20)\n",
      "-------------------------------------------------------------\n",
      "4/4 [==============================] - 0s 2ms/step\n",
      "-------------------------------------------------------------\n",
      " confusion_matrix for new data with deeper model \n",
      " [[ 0  0]\n",
      " [20 80]]\n",
      "only attack data -  (80, 20)\n",
      "final data  237 -  (17460, 20)\n",
      "-------------------------------------------------------------\n"
     ]
    },
    {
     "name": "stderr",
     "output_type": "stream",
     "text": [
      "/tmp/ipykernel_743181/4222328789.py:27: FutureWarning: The frame.append method is deprecated and will be removed from pandas in a future version. Use pandas.concat instead.\n",
      "  final_Data = final_Data.append(data1, ignore_index = True)\n",
      "/tmp/ipykernel_743181/4222328789.py:27: FutureWarning: The frame.append method is deprecated and will be removed from pandas in a future version. Use pandas.concat instead.\n",
      "  final_Data = final_Data.append(data1, ignore_index = True)\n"
     ]
    },
    {
     "name": "stdout",
     "output_type": "stream",
     "text": [
      "4/4 [==============================] - 0s 3ms/step\n",
      "-------------------------------------------------------------\n",
      " confusion_matrix for new data with deeper model \n",
      " [[ 0  0]\n",
      " [37 63]]\n",
      "only attack data -  (63, 20)\n",
      "final data  238 -  (17523, 20)\n",
      "-------------------------------------------------------------\n",
      "4/4 [==============================] - 0s 3ms/step\n",
      "-------------------------------------------------------------\n",
      " confusion_matrix for new data with deeper model \n",
      " [[ 0  0]\n",
      " [30 70]]\n",
      "only attack data -  (70, 20)\n",
      "final data  239 -  (17593, 20)\n",
      "-------------------------------------------------------------\n"
     ]
    },
    {
     "name": "stderr",
     "output_type": "stream",
     "text": [
      "/tmp/ipykernel_743181/4222328789.py:27: FutureWarning: The frame.append method is deprecated and will be removed from pandas in a future version. Use pandas.concat instead.\n",
      "  final_Data = final_Data.append(data1, ignore_index = True)\n",
      "/tmp/ipykernel_743181/4222328789.py:27: FutureWarning: The frame.append method is deprecated and will be removed from pandas in a future version. Use pandas.concat instead.\n",
      "  final_Data = final_Data.append(data1, ignore_index = True)\n"
     ]
    },
    {
     "name": "stdout",
     "output_type": "stream",
     "text": [
      "4/4 [==============================] - 0s 3ms/step\n",
      "-------------------------------------------------------------\n",
      " confusion_matrix for new data with deeper model \n",
      " [[ 0  0]\n",
      " [22 78]]\n",
      "only attack data -  (78, 20)\n",
      "final data  240 -  (17671, 20)\n",
      "-------------------------------------------------------------\n",
      "4/4 [==============================] - 0s 3ms/step\n",
      "-------------------------------------------------------------\n",
      " confusion_matrix for new data with deeper model \n",
      " [[ 0  0]\n",
      " [33 67]]\n",
      "only attack data -  (67, 20)\n",
      "final data  241 -  (17738, 20)\n",
      "-------------------------------------------------------------\n"
     ]
    },
    {
     "name": "stderr",
     "output_type": "stream",
     "text": [
      "/tmp/ipykernel_743181/4222328789.py:27: FutureWarning: The frame.append method is deprecated and will be removed from pandas in a future version. Use pandas.concat instead.\n",
      "  final_Data = final_Data.append(data1, ignore_index = True)\n",
      "/tmp/ipykernel_743181/4222328789.py:27: FutureWarning: The frame.append method is deprecated and will be removed from pandas in a future version. Use pandas.concat instead.\n",
      "  final_Data = final_Data.append(data1, ignore_index = True)\n"
     ]
    },
    {
     "name": "stdout",
     "output_type": "stream",
     "text": [
      "4/4 [==============================] - 0s 2ms/step\n",
      "-------------------------------------------------------------\n",
      " confusion_matrix for new data with deeper model \n",
      " [[ 0  0]\n",
      " [26 74]]\n",
      "only attack data -  (74, 20)\n",
      "final data  242 -  (17812, 20)\n",
      "-------------------------------------------------------------\n",
      "4/4 [==============================] - 0s 2ms/step\n",
      "-------------------------------------------------------------\n",
      " confusion_matrix for new data with deeper model \n",
      " [[ 0  0]\n",
      " [27 73]]\n",
      "only attack data -  (73, 20)\n",
      "final data  243 -  (17885, 20)\n",
      "-------------------------------------------------------------\n",
      "4/4 [==============================] - 0s 2ms/step\n",
      "-------------------------------------------------------------\n",
      " confusion_matrix for new data with deeper model \n",
      " [[ 0  0]\n",
      " [22 78]]\n",
      "only attack data -  (78, 20)\n"
     ]
    },
    {
     "name": "stderr",
     "output_type": "stream",
     "text": [
      "/tmp/ipykernel_743181/4222328789.py:27: FutureWarning: The frame.append method is deprecated and will be removed from pandas in a future version. Use pandas.concat instead.\n",
      "  final_Data = final_Data.append(data1, ignore_index = True)\n",
      "/tmp/ipykernel_743181/4222328789.py:27: FutureWarning: The frame.append method is deprecated and will be removed from pandas in a future version. Use pandas.concat instead.\n",
      "  final_Data = final_Data.append(data1, ignore_index = True)\n",
      "/tmp/ipykernel_743181/4222328789.py:27: FutureWarning: The frame.append method is deprecated and will be removed from pandas in a future version. Use pandas.concat instead.\n",
      "  final_Data = final_Data.append(data1, ignore_index = True)\n"
     ]
    },
    {
     "name": "stdout",
     "output_type": "stream",
     "text": [
      "final data  244 -  (17963, 20)\n",
      "-------------------------------------------------------------\n",
      "4/4 [==============================] - 0s 3ms/step\n",
      "-------------------------------------------------------------\n",
      " confusion_matrix for new data with deeper model \n",
      " [[ 0  0]\n",
      " [20 80]]\n",
      "only attack data -  (80, 20)\n",
      "final data  245 -  (18043, 20)\n",
      "-------------------------------------------------------------\n",
      "4/4 [==============================] - 0s 2ms/step\n",
      "-------------------------------------------------------------\n",
      " confusion_matrix for new data with deeper model \n",
      " [[ 0  0]\n",
      " [23 77]]\n",
      "only attack data -  (77, 20)\n",
      "final data  246 -  (18120, 20)\n",
      "-------------------------------------------------------------\n"
     ]
    },
    {
     "name": "stderr",
     "output_type": "stream",
     "text": [
      "/tmp/ipykernel_743181/4222328789.py:27: FutureWarning: The frame.append method is deprecated and will be removed from pandas in a future version. Use pandas.concat instead.\n",
      "  final_Data = final_Data.append(data1, ignore_index = True)\n",
      "/tmp/ipykernel_743181/4222328789.py:27: FutureWarning: The frame.append method is deprecated and will be removed from pandas in a future version. Use pandas.concat instead.\n",
      "  final_Data = final_Data.append(data1, ignore_index = True)\n"
     ]
    },
    {
     "name": "stdout",
     "output_type": "stream",
     "text": [
      "4/4 [==============================] - 0s 2ms/step\n",
      "-------------------------------------------------------------\n",
      " confusion_matrix for new data with deeper model \n",
      " [[ 0  0]\n",
      " [34 66]]\n",
      "only attack data -  (66, 20)\n",
      "final data  247 -  (18186, 20)\n",
      "-------------------------------------------------------------\n",
      "4/4 [==============================] - 0s 2ms/step\n",
      "-------------------------------------------------------------\n",
      " confusion_matrix for new data with deeper model \n",
      " [[ 0  0]\n",
      " [25 75]]\n",
      "only attack data -  (75, 20)\n",
      "final data  248 -  (18261, 20)\n",
      "-------------------------------------------------------------\n"
     ]
    },
    {
     "name": "stderr",
     "output_type": "stream",
     "text": [
      "/tmp/ipykernel_743181/4222328789.py:27: FutureWarning: The frame.append method is deprecated and will be removed from pandas in a future version. Use pandas.concat instead.\n",
      "  final_Data = final_Data.append(data1, ignore_index = True)\n",
      "/tmp/ipykernel_743181/4222328789.py:27: FutureWarning: The frame.append method is deprecated and will be removed from pandas in a future version. Use pandas.concat instead.\n",
      "  final_Data = final_Data.append(data1, ignore_index = True)\n"
     ]
    },
    {
     "name": "stdout",
     "output_type": "stream",
     "text": [
      "4/4 [==============================] - 0s 3ms/step\n",
      "-------------------------------------------------------------\n",
      " confusion_matrix for new data with deeper model \n",
      " [[ 0  0]\n",
      " [24 76]]\n",
      "only attack data -  (76, 20)\n",
      "final data  249 -  (18337, 20)\n",
      "-------------------------------------------------------------\n",
      "4/4 [==============================] - 0s 2ms/step\n",
      "-------------------------------------------------------------\n",
      " confusion_matrix for new data with deeper model \n",
      " [[ 0  0]\n",
      " [26 74]]\n",
      "only attack data -  (74, 20)\n",
      "final data  250 -  (18411, 20)\n",
      "-------------------------------------------------------------\n"
     ]
    },
    {
     "name": "stderr",
     "output_type": "stream",
     "text": [
      "/tmp/ipykernel_743181/4222328789.py:27: FutureWarning: The frame.append method is deprecated and will be removed from pandas in a future version. Use pandas.concat instead.\n",
      "  final_Data = final_Data.append(data1, ignore_index = True)\n",
      "/tmp/ipykernel_743181/4222328789.py:27: FutureWarning: The frame.append method is deprecated and will be removed from pandas in a future version. Use pandas.concat instead.\n",
      "  final_Data = final_Data.append(data1, ignore_index = True)\n"
     ]
    },
    {
     "name": "stdout",
     "output_type": "stream",
     "text": [
      "4/4 [==============================] - 0s 2ms/step\n",
      "-------------------------------------------------------------\n",
      " confusion_matrix for new data with deeper model \n",
      " [[ 0  0]\n",
      " [30 70]]\n",
      "only attack data -  (70, 20)\n",
      "final data  251 -  (18481, 20)\n",
      "-------------------------------------------------------------\n",
      "4/4 [==============================] - 0s 2ms/step\n",
      "-------------------------------------------------------------\n",
      " confusion_matrix for new data with deeper model \n",
      " [[ 0  0]\n",
      " [26 74]]\n",
      "only attack data -  (74, 20)\n",
      "final data  252 -  (18555, 20)\n",
      "-------------------------------------------------------------\n",
      "4/4 [==============================] - 0s 2ms/step\n",
      "-------------------------------------------------------------\n",
      " confusion_matrix for new data with deeper model \n",
      " [[ 0  0]\n",
      " [25 75]]\n",
      "only attack data -  (75, 20)\n"
     ]
    },
    {
     "name": "stderr",
     "output_type": "stream",
     "text": [
      "/tmp/ipykernel_743181/4222328789.py:27: FutureWarning: The frame.append method is deprecated and will be removed from pandas in a future version. Use pandas.concat instead.\n",
      "  final_Data = final_Data.append(data1, ignore_index = True)\n",
      "/tmp/ipykernel_743181/4222328789.py:27: FutureWarning: The frame.append method is deprecated and will be removed from pandas in a future version. Use pandas.concat instead.\n",
      "  final_Data = final_Data.append(data1, ignore_index = True)\n",
      "/tmp/ipykernel_743181/4222328789.py:27: FutureWarning: The frame.append method is deprecated and will be removed from pandas in a future version. Use pandas.concat instead.\n",
      "  final_Data = final_Data.append(data1, ignore_index = True)\n"
     ]
    },
    {
     "name": "stdout",
     "output_type": "stream",
     "text": [
      "final data  253 -  (18630, 20)\n",
      "-------------------------------------------------------------\n",
      "4/4 [==============================] - 0s 2ms/step\n",
      "-------------------------------------------------------------\n",
      " confusion_matrix for new data with deeper model \n",
      " [[ 0  0]\n",
      " [22 78]]\n",
      "only attack data -  (78, 20)\n",
      "final data  254 -  (18708, 20)\n",
      "-------------------------------------------------------------\n",
      "4/4 [==============================] - 0s 2ms/step\n",
      "-------------------------------------------------------------\n",
      " confusion_matrix for new data with deeper model \n",
      " [[ 0  0]\n",
      " [23 77]]\n",
      "only attack data -  (77, 20)\n",
      "final data  255 -  (18785, 20)\n",
      "-------------------------------------------------------------\n",
      "4/4 [==============================] - 0s 2ms/step\n",
      "-------------------------------------------------------------\n",
      " confusion_matrix for new data with deeper model \n",
      " [[ 0  0]\n",
      " [22 78]]\n",
      "only attack data -  (78, 20)\n"
     ]
    },
    {
     "name": "stderr",
     "output_type": "stream",
     "text": [
      "/tmp/ipykernel_743181/4222328789.py:27: FutureWarning: The frame.append method is deprecated and will be removed from pandas in a future version. Use pandas.concat instead.\n",
      "  final_Data = final_Data.append(data1, ignore_index = True)\n",
      "/tmp/ipykernel_743181/4222328789.py:27: FutureWarning: The frame.append method is deprecated and will be removed from pandas in a future version. Use pandas.concat instead.\n",
      "  final_Data = final_Data.append(data1, ignore_index = True)\n",
      "/tmp/ipykernel_743181/4222328789.py:27: FutureWarning: The frame.append method is deprecated and will be removed from pandas in a future version. Use pandas.concat instead.\n",
      "  final_Data = final_Data.append(data1, ignore_index = True)\n"
     ]
    },
    {
     "name": "stdout",
     "output_type": "stream",
     "text": [
      "final data  256 -  (18863, 20)\n",
      "-------------------------------------------------------------\n",
      "4/4 [==============================] - 0s 2ms/step\n",
      "-------------------------------------------------------------\n",
      " confusion_matrix for new data with deeper model \n",
      " [[ 0  0]\n",
      " [26 74]]\n",
      "only attack data -  (74, 20)\n",
      "final data  257 -  (18937, 20)\n",
      "-------------------------------------------------------------\n",
      "4/4 [==============================] - 0s 3ms/step\n",
      "-------------------------------------------------------------\n",
      " confusion_matrix for new data with deeper model \n",
      " [[ 0  0]\n",
      " [23 77]]\n",
      "only attack data -  (77, 20)\n",
      "final data  258 -  (19014, 20)\n",
      "-------------------------------------------------------------\n"
     ]
    },
    {
     "name": "stderr",
     "output_type": "stream",
     "text": [
      "/tmp/ipykernel_743181/4222328789.py:27: FutureWarning: The frame.append method is deprecated and will be removed from pandas in a future version. Use pandas.concat instead.\n",
      "  final_Data = final_Data.append(data1, ignore_index = True)\n",
      "/tmp/ipykernel_743181/4222328789.py:27: FutureWarning: The frame.append method is deprecated and will be removed from pandas in a future version. Use pandas.concat instead.\n",
      "  final_Data = final_Data.append(data1, ignore_index = True)\n"
     ]
    },
    {
     "name": "stdout",
     "output_type": "stream",
     "text": [
      "4/4 [==============================] - 0s 3ms/step\n",
      "-------------------------------------------------------------\n",
      " confusion_matrix for new data with deeper model \n",
      " [[ 0  0]\n",
      " [32 68]]\n",
      "only attack data -  (68, 20)\n",
      "final data  259 -  (19082, 20)\n",
      "-------------------------------------------------------------\n",
      "4/4 [==============================] - 0s 3ms/step\n",
      "-------------------------------------------------------------\n",
      " confusion_matrix for new data with deeper model \n",
      " [[ 0  0]\n",
      " [21 79]]\n",
      "only attack data -  (79, 20)\n",
      "final data  260 -  (19161, 20)\n",
      "-------------------------------------------------------------\n"
     ]
    },
    {
     "name": "stderr",
     "output_type": "stream",
     "text": [
      "/tmp/ipykernel_743181/4222328789.py:27: FutureWarning: The frame.append method is deprecated and will be removed from pandas in a future version. Use pandas.concat instead.\n",
      "  final_Data = final_Data.append(data1, ignore_index = True)\n",
      "/tmp/ipykernel_743181/4222328789.py:27: FutureWarning: The frame.append method is deprecated and will be removed from pandas in a future version. Use pandas.concat instead.\n",
      "  final_Data = final_Data.append(data1, ignore_index = True)\n"
     ]
    },
    {
     "name": "stdout",
     "output_type": "stream",
     "text": [
      "4/4 [==============================] - 0s 2ms/step\n",
      "-------------------------------------------------------------\n",
      " confusion_matrix for new data with deeper model \n",
      " [[ 0  0]\n",
      " [27 73]]\n",
      "only attack data -  (73, 20)\n",
      "final data  261 -  (19234, 20)\n",
      "-------------------------------------------------------------\n",
      "4/4 [==============================] - 0s 2ms/step\n",
      "-------------------------------------------------------------\n",
      " confusion_matrix for new data with deeper model \n",
      " [[ 0  0]\n",
      " [21 79]]\n",
      "only attack data -  (79, 20)\n",
      "final data  262 -  (19313, 20)\n",
      "-------------------------------------------------------------\n",
      "4/4 [==============================] - 0s 2ms/step\n",
      "-------------------------------------------------------------\n",
      " confusion_matrix for new data with deeper model \n",
      " [[ 0  0]\n",
      " [30 70]]\n",
      "only attack data -  (70, 20)\n",
      "final data  263 -  (19383, 20)\n",
      "-------------------------------------------------------------\n"
     ]
    },
    {
     "name": "stderr",
     "output_type": "stream",
     "text": [
      "/tmp/ipykernel_743181/4222328789.py:27: FutureWarning: The frame.append method is deprecated and will be removed from pandas in a future version. Use pandas.concat instead.\n",
      "  final_Data = final_Data.append(data1, ignore_index = True)\n",
      "/tmp/ipykernel_743181/4222328789.py:27: FutureWarning: The frame.append method is deprecated and will be removed from pandas in a future version. Use pandas.concat instead.\n",
      "  final_Data = final_Data.append(data1, ignore_index = True)\n",
      "/tmp/ipykernel_743181/4222328789.py:27: FutureWarning: The frame.append method is deprecated and will be removed from pandas in a future version. Use pandas.concat instead.\n",
      "  final_Data = final_Data.append(data1, ignore_index = True)\n"
     ]
    },
    {
     "name": "stdout",
     "output_type": "stream",
     "text": [
      "4/4 [==============================] - 0s 2ms/step\n",
      "-------------------------------------------------------------\n",
      " confusion_matrix for new data with deeper model \n",
      " [[ 0  0]\n",
      " [23 77]]\n",
      "only attack data -  (77, 20)\n",
      "final data  264 -  (19460, 20)\n",
      "-------------------------------------------------------------\n",
      "4/4 [==============================] - 0s 2ms/step\n",
      "-------------------------------------------------------------\n",
      " confusion_matrix for new data with deeper model \n",
      " [[ 0  0]\n",
      " [25 75]]\n",
      "only attack data -  (75, 20)\n",
      "final data  265 -  (19535, 20)\n",
      "-------------------------------------------------------------\n",
      "4/4 [==============================] - 0s 2ms/step\n",
      "-------------------------------------------------------------\n",
      " confusion_matrix for new data with deeper model \n",
      " [[ 0  0]\n",
      " [26 74]]\n",
      "only attack data -  (74, 20)\n",
      "final data  266 -  (19609, 20)\n",
      "-------------------------------------------------------------\n"
     ]
    },
    {
     "name": "stderr",
     "output_type": "stream",
     "text": [
      "/tmp/ipykernel_743181/4222328789.py:27: FutureWarning: The frame.append method is deprecated and will be removed from pandas in a future version. Use pandas.concat instead.\n",
      "  final_Data = final_Data.append(data1, ignore_index = True)\n",
      "/tmp/ipykernel_743181/4222328789.py:27: FutureWarning: The frame.append method is deprecated and will be removed from pandas in a future version. Use pandas.concat instead.\n",
      "  final_Data = final_Data.append(data1, ignore_index = True)\n",
      "/tmp/ipykernel_743181/4222328789.py:27: FutureWarning: The frame.append method is deprecated and will be removed from pandas in a future version. Use pandas.concat instead.\n",
      "  final_Data = final_Data.append(data1, ignore_index = True)\n"
     ]
    },
    {
     "name": "stdout",
     "output_type": "stream",
     "text": [
      "4/4 [==============================] - 0s 2ms/step\n",
      "-------------------------------------------------------------\n",
      " confusion_matrix for new data with deeper model \n",
      " [[ 0  0]\n",
      " [25 75]]\n",
      "only attack data -  (75, 20)\n",
      "final data  267 -  (19684, 20)\n",
      "-------------------------------------------------------------\n",
      "4/4 [==============================] - 0s 2ms/step\n",
      "-------------------------------------------------------------\n",
      " confusion_matrix for new data with deeper model \n",
      " [[ 0  0]\n",
      " [33 67]]\n",
      "only attack data -  (67, 20)\n",
      "final data  268 -  (19751, 20)\n",
      "-------------------------------------------------------------\n",
      "4/4 [==============================] - 0s 2ms/step\n",
      "-------------------------------------------------------------\n",
      " confusion_matrix for new data with deeper model \n",
      " [[ 0  0]\n",
      " [20 80]]\n",
      "only attack data -  (80, 20)\n",
      "final data  269 -  (19831, 20)\n",
      "-------------------------------------------------------------\n"
     ]
    },
    {
     "name": "stderr",
     "output_type": "stream",
     "text": [
      "/tmp/ipykernel_743181/4222328789.py:27: FutureWarning: The frame.append method is deprecated and will be removed from pandas in a future version. Use pandas.concat instead.\n",
      "  final_Data = final_Data.append(data1, ignore_index = True)\n",
      "/tmp/ipykernel_743181/4222328789.py:27: FutureWarning: The frame.append method is deprecated and will be removed from pandas in a future version. Use pandas.concat instead.\n",
      "  final_Data = final_Data.append(data1, ignore_index = True)\n",
      "/tmp/ipykernel_743181/4222328789.py:27: FutureWarning: The frame.append method is deprecated and will be removed from pandas in a future version. Use pandas.concat instead.\n",
      "  final_Data = final_Data.append(data1, ignore_index = True)\n"
     ]
    },
    {
     "name": "stdout",
     "output_type": "stream",
     "text": [
      "4/4 [==============================] - 0s 2ms/step\n",
      "-------------------------------------------------------------\n",
      " confusion_matrix for new data with deeper model \n",
      " [[ 0  0]\n",
      " [24 76]]\n",
      "only attack data -  (76, 20)\n",
      "final data  270 -  (19907, 20)\n",
      "-------------------------------------------------------------\n",
      "4/4 [==============================] - 0s 2ms/step\n",
      "-------------------------------------------------------------\n",
      " confusion_matrix for new data with deeper model \n",
      " [[ 0  0]\n",
      " [32 68]]\n",
      "only attack data -  (68, 20)\n",
      "final data  271 -  (19975, 20)\n",
      "-------------------------------------------------------------\n"
     ]
    },
    {
     "name": "stderr",
     "output_type": "stream",
     "text": [
      "/tmp/ipykernel_743181/4222328789.py:27: FutureWarning: The frame.append method is deprecated and will be removed from pandas in a future version. Use pandas.concat instead.\n",
      "  final_Data = final_Data.append(data1, ignore_index = True)\n",
      "/tmp/ipykernel_743181/4222328789.py:27: FutureWarning: The frame.append method is deprecated and will be removed from pandas in a future version. Use pandas.concat instead.\n",
      "  final_Data = final_Data.append(data1, ignore_index = True)\n"
     ]
    },
    {
     "name": "stdout",
     "output_type": "stream",
     "text": [
      "4/4 [==============================] - 0s 2ms/step\n",
      "-------------------------------------------------------------\n",
      " confusion_matrix for new data with deeper model \n",
      " [[ 0  0]\n",
      " [31 69]]\n",
      "only attack data -  (69, 20)\n",
      "final data  272 -  (20044, 20)\n",
      "-------------------------------------------------------------\n",
      "1.0    20044\n",
      "Name: Label, dtype: int64\n",
      "---------------------------------------------------------\n"
     ]
    },
    {
     "name": "stderr",
     "output_type": "stream",
     "text": [
      "/tmp/ipykernel_743181/4222328789.py:27: FutureWarning: The frame.append method is deprecated and will be removed from pandas in a future version. Use pandas.concat instead.\n",
      "  final_Data = final_Data.append(data1, ignore_index = True)\n"
     ]
    }
   ],
   "source": [
    "it =0\n",
    "\n",
    "while(final_Data.shape[0]<20000):\n",
    "    it+=1\n",
    "    z = Variable(torch.randn(100, z_dim)).cpu() \n",
    "    with torch.no_grad():\n",
    "        data = G(z)\n",
    "    data = data.cpu().numpy() \n",
    "    fake = pd.DataFrame(data)\n",
    "        \n",
    "    newy = np.ones((fake.shape[0],)) \n",
    "    #this is the model which changes \n",
    "    new_pred = loaded_model.predict(fake)\n",
    "    new_pred = (new_pred > 0.5)\n",
    "    cm = confusion_matrix(newy,new_pred)\n",
    "    print(\"-------------------------------------------------------------\") \n",
    "    print (\" confusion_matrix for new data with deeper model \\n\" ,cm)\n",
    "    \n",
    "    combined_data = np.concatenate((fake,new_pred),axis=1) \n",
    "    combined_data = pd.DataFrame(combined_data)\n",
    "    combined_data.columns = ['hour','minute','second','duration','source_ip','dest_ip','source_port','dest_port','protocol',\n",
    "                'flag1','flag2','flag3','flag4','flag5','flag6','fwd','stos','pkt','byt', 'Label']\n",
    "    \n",
    "    criteria1 = combined_data['Label'] == 1 #just attack data \n",
    "    data1 = combined_data[criteria1]\n",
    "    print(\"only attack data - \",data1.shape) \n",
    "    final_Data = final_Data.append(data1, ignore_index = True) \n",
    "    print(\"final data \", it, \"- \",final_Data.shape) \n",
    "    print(\"-------------------------------------------------------------\") \n",
    "\n",
    "print(final_Data['Label'].value_counts())\n",
    "print(\"---------------------------------------------------------\")\n",
    "df2 = final_Data.sample(n=13763, replace=False, random_state=1)\n",
    "df3 = final_Data.sample(n=20000, replace=False, random_state=1)\n",
    "final = pd.concat([mydt,df2], ignore_index = True,axis=0)\n",
    "final['Label'].value_counts()\n",
    "df3.to_csv(\"../dataset/UGR/generated_spam.csv\", index = False, header = True)\n",
    "final.to_csv(\"../dataset/UGR/balanced_data_spam.csv\", index = False, header = True)"
   ]
  },
  {
   "cell_type": "code",
   "execution_count": null,
   "id": "18e175cf",
   "metadata": {},
   "outputs": [],
   "source": []
  }
 ],
 "metadata": {
  "kernelspec": {
   "display_name": "Python 3 (ipykernel)",
   "language": "python",
   "name": "python3"
  },
  "language_info": {
   "codemirror_mode": {
    "name": "ipython",
    "version": 3
   },
   "file_extension": ".py",
   "mimetype": "text/x-python",
   "name": "python",
   "nbconvert_exporter": "python",
   "pygments_lexer": "ipython3",
   "version": "3.8.10"
  }
 },
 "nbformat": 4,
 "nbformat_minor": 5
}
