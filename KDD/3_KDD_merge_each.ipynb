{
 "cells": [
  {
   "cell_type": "code",
   "execution_count": 1,
   "id": "203cc399",
   "metadata": {},
   "outputs": [
    {
     "name": "stdout",
     "output_type": "stream",
     "text": [
      "0    14019\n",
      "1     5653\n",
      "Name: Label, dtype: int64\n",
      "0    14019\n",
      "1      506\n",
      "Name: Label, dtype: int64\n",
      "Balanced dataset:\n",
      "0.0    14019\n",
      "1.0    14019\n",
      "Name: Label, dtype: int64\n",
      "-----------------------------------------\n",
      "1.0    14019\n",
      "0.0    14019\n",
      "Name: Label, dtype: int64\n",
      "-----------------------------------------\n"
     ]
    }
   ],
   "source": [
    "import pandas as pd \n",
    "import numpy as np  \n",
    "from sklearn.utils import shuffle\n",
    "\n",
    "dt11 = pd.read_csv(\"../dataset/KDD-2018/trainprobe.csv\")\n",
    "dt12 = pd.read_csv(\"../dataset/KDD-2018/generated_probe.csv\")\n",
    "dt21 = pd.read_csv(\"../dataset/KDD-2018/trainr2l.csv\")\n",
    "dt22 = pd.read_csv(\"../dataset/KDD-2018/generated_r2l.csv\")\n",
    "\n",
    "print(dt11['Label'].value_counts())\n",
    "print(dt21['Label'].value_counts())\n",
    "\n",
    "a1 = dt12.sample(n=8366, replace=False, random_state=1)\n",
    "a2 = dt22.sample(n=13513, replace=False, random_state=1)\n",
    "\n",
    "# Merge data\n",
    "data1 = pd.concat([dt11,a1],ignore_index = True,axis=0)\n",
    "data_balanced1 = shuffle(data1).reset_index(drop=True)\n",
    "data_balanced1.to_csv(\"../dataset/KDD-2018/balanced_probe.csv\", index=False, header = True)\n",
    "\n",
    "data2 = pd.concat([dt21,a2],ignore_index = True,axis=0)\n",
    "data_balanced2 = shuffle(data2).reset_index(drop=True)\n",
    "data_balanced2.to_csv(\"../dataset/KDD-2018/balanced_r2l.csv\", index=False, header = True)\n",
    "\n",
    "\n",
    "print(\"Balanced dataset:\")\n",
    "print(data_balanced1['Label'].value_counts())\n",
    "print(\"-----------------------------------------\")\n",
    "print(data_balanced2['Label'].value_counts())\n",
    "print(\"-----------------------------------------\")"
   ]
  },
  {
   "cell_type": "code",
   "execution_count": null,
   "id": "8243351c",
   "metadata": {},
   "outputs": [],
   "source": []
  }
 ],
 "metadata": {
  "kernelspec": {
   "display_name": "Python 3 (ipykernel)",
   "language": "python",
   "name": "python3"
  },
  "language_info": {
   "codemirror_mode": {
    "name": "ipython",
    "version": 3
   },
   "file_extension": ".py",
   "mimetype": "text/x-python",
   "name": "python",
   "nbconvert_exporter": "python",
   "pygments_lexer": "ipython3",
   "version": "3.8.10"
  }
 },
 "nbformat": 4,
 "nbformat_minor": 5
}
