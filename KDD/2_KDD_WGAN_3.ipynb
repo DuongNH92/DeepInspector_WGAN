{
 "cells": [
  {
   "cell_type": "markdown",
   "id": "c82169cc",
   "metadata": {},
   "source": [
    "# DNN Critic model"
   ]
  },
  {
   "cell_type": "code",
   "execution_count": 1,
   "id": "d5f3b183",
   "metadata": {
    "scrolled": false
   },
   "outputs": [
    {
     "name": "stdout",
     "output_type": "stream",
     "text": [
      "0    14019\n",
      "1       24\n",
      "Name: Label, dtype: int64\n",
      "Counter({0.0: 9810, 1.0: 20})\n",
      "Counter({0.0: 4209, 1.0: 4})\n"
     ]
    },
    {
     "name": "stderr",
     "output_type": "stream",
     "text": [
      "2022-09-04 15:50:36.895963: E tensorflow/stream_executor/cuda/cuda_driver.cc:271] failed call to cuInit: CUDA_ERROR_NO_DEVICE: no CUDA-capable device is detected\n"
     ]
    },
    {
     "name": "stdout",
     "output_type": "stream",
     "text": [
      "Building Critic WGAN model...\n",
      "Epoch 1/40\n",
      "99/99 [==============================] - 2s 12ms/step - loss: 0.0789 - accuracy: 0.9858 - val_loss: 0.0066 - val_accuracy: 0.9991\n",
      "Epoch 2/40\n",
      "99/99 [==============================] - 1s 7ms/step - loss: 0.0112 - accuracy: 0.9980 - val_loss: 0.0041 - val_accuracy: 0.9991\n",
      "Epoch 3/40\n",
      "99/99 [==============================] - 1s 8ms/step - loss: 0.0075 - accuracy: 0.9981 - val_loss: 0.0021 - val_accuracy: 0.9991\n",
      "Epoch 4/40\n",
      "99/99 [==============================] - 1s 6ms/step - loss: 0.0049 - accuracy: 0.9988 - val_loss: 0.0011 - val_accuracy: 0.9998\n",
      "Epoch 5/40\n",
      "99/99 [==============================] - 1s 7ms/step - loss: 0.0036 - accuracy: 0.9993 - val_loss: 0.0011 - val_accuracy: 0.9998\n",
      "Epoch 6/40\n",
      "99/99 [==============================] - 1s 6ms/step - loss: 0.0032 - accuracy: 0.9994 - val_loss: 0.0014 - val_accuracy: 0.9993\n",
      "Epoch 7/40\n",
      "99/99 [==============================] - 1s 6ms/step - loss: 0.0030 - accuracy: 0.9995 - val_loss: 0.0013 - val_accuracy: 0.9993\n",
      "Epoch 8/40\n",
      "99/99 [==============================] - 1s 7ms/step - loss: 0.0031 - accuracy: 0.9993 - val_loss: 9.8035e-04 - val_accuracy: 0.9998\n",
      "Epoch 9/40\n",
      "99/99 [==============================] - 1s 7ms/step - loss: 0.0026 - accuracy: 0.9992 - val_loss: 0.0013 - val_accuracy: 0.9995\n",
      "Epoch 10/40\n",
      "99/99 [==============================] - 1s 7ms/step - loss: 0.0025 - accuracy: 0.9992 - val_loss: 8.1065e-04 - val_accuracy: 0.9998\n",
      "Epoch 11/40\n",
      "99/99 [==============================] - 1s 6ms/step - loss: 0.0026 - accuracy: 0.9994 - val_loss: 0.0012 - val_accuracy: 0.9993\n",
      "Epoch 12/40\n",
      "99/99 [==============================] - 1s 6ms/step - loss: 0.0020 - accuracy: 0.9993 - val_loss: 0.0018 - val_accuracy: 0.9991\n",
      "Epoch 13/40\n",
      "99/99 [==============================] - 1s 6ms/step - loss: 0.0019 - accuracy: 0.9995 - val_loss: 0.0013 - val_accuracy: 0.9993\n",
      "Epoch 14/40\n",
      "99/99 [==============================] - 1s 7ms/step - loss: 0.0020 - accuracy: 0.9996 - val_loss: 9.8443e-04 - val_accuracy: 0.9995\n",
      "Epoch 15/40\n",
      "99/99 [==============================] - 1s 7ms/step - loss: 0.0020 - accuracy: 0.9995 - val_loss: 0.0016 - val_accuracy: 0.9993\n",
      "Epoch 16/40\n",
      "99/99 [==============================] - 1s 6ms/step - loss: 0.0021 - accuracy: 0.9993 - val_loss: 0.0026 - val_accuracy: 0.9993\n",
      "Epoch 17/40\n",
      "99/99 [==============================] - 1s 7ms/step - loss: 0.0019 - accuracy: 0.9993 - val_loss: 0.0022 - val_accuracy: 0.9993\n",
      "Epoch 18/40\n",
      "99/99 [==============================] - 1s 6ms/step - loss: 0.0014 - accuracy: 0.9995 - val_loss: 0.0019 - val_accuracy: 0.9993\n",
      "Epoch 19/40\n",
      "99/99 [==============================] - 1s 6ms/step - loss: 0.0018 - accuracy: 0.9993 - val_loss: 0.0018 - val_accuracy: 0.9995\n",
      "Epoch 20/40\n",
      "99/99 [==============================] - 1s 6ms/step - loss: 0.0015 - accuracy: 0.9996 - val_loss: 0.0022 - val_accuracy: 0.9993\n",
      "Epoch 21/40\n",
      "99/99 [==============================] - 1s 7ms/step - loss: 0.0014 - accuracy: 0.9996 - val_loss: 0.0022 - val_accuracy: 0.9993\n",
      "Epoch 22/40\n",
      "99/99 [==============================] - 1s 7ms/step - loss: 0.0018 - accuracy: 0.9996 - val_loss: 0.0027 - val_accuracy: 0.9993\n",
      "Epoch 23/40\n",
      "99/99 [==============================] - 1s 7ms/step - loss: 0.0013 - accuracy: 0.9995 - val_loss: 0.0029 - val_accuracy: 0.9993\n",
      "Epoch 24/40\n",
      "99/99 [==============================] - 1s 8ms/step - loss: 0.0015 - accuracy: 0.9995 - val_loss: 0.0032 - val_accuracy: 0.9993\n",
      "Epoch 25/40\n",
      "99/99 [==============================] - 1s 7ms/step - loss: 0.0011 - accuracy: 0.9994 - val_loss: 0.0025 - val_accuracy: 0.9993\n",
      "Epoch 26/40\n",
      "99/99 [==============================] - 1s 7ms/step - loss: 0.0012 - accuracy: 0.9996 - val_loss: 0.0036 - val_accuracy: 0.9991\n",
      "Epoch 27/40\n",
      "99/99 [==============================] - 1s 7ms/step - loss: 0.0011 - accuracy: 0.9996 - val_loss: 0.0035 - val_accuracy: 0.9991\n",
      "Epoch 28/40\n",
      "99/99 [==============================] - 1s 6ms/step - loss: 0.0011 - accuracy: 0.9996 - val_loss: 0.0033 - val_accuracy: 0.9993\n",
      "Epoch 29/40\n",
      "99/99 [==============================] - 1s 7ms/step - loss: 0.0012 - accuracy: 0.9996 - val_loss: 0.0036 - val_accuracy: 0.9993\n",
      "Epoch 30/40\n",
      "99/99 [==============================] - 1s 7ms/step - loss: 0.0013 - accuracy: 0.9995 - val_loss: 0.0029 - val_accuracy: 0.9993\n",
      "Epoch 31/40\n",
      "99/99 [==============================] - 1s 7ms/step - loss: 0.0013 - accuracy: 0.9995 - val_loss: 0.0032 - val_accuracy: 0.9993\n",
      "Epoch 32/40\n",
      "99/99 [==============================] - 1s 6ms/step - loss: 9.6205e-04 - accuracy: 0.9997 - val_loss: 0.0032 - val_accuracy: 0.9993\n",
      "Epoch 33/40\n",
      "99/99 [==============================] - 1s 7ms/step - loss: 0.0011 - accuracy: 0.9997 - val_loss: 0.0041 - val_accuracy: 0.9991\n",
      "Epoch 34/40\n",
      "99/99 [==============================] - 1s 7ms/step - loss: 9.1893e-04 - accuracy: 0.9997 - val_loss: 0.0032 - val_accuracy: 0.9993\n",
      "Epoch 35/40\n",
      "99/99 [==============================] - 1s 8ms/step - loss: 0.0015 - accuracy: 0.9995 - val_loss: 0.0032 - val_accuracy: 0.9991\n",
      "Epoch 36/40\n",
      "99/99 [==============================] - 1s 7ms/step - loss: 9.9636e-04 - accuracy: 0.9997 - val_loss: 0.0033 - val_accuracy: 0.9993\n",
      "Epoch 37/40\n",
      "99/99 [==============================] - 1s 7ms/step - loss: 0.0010 - accuracy: 0.9997 - val_loss: 0.0034 - val_accuracy: 0.9993\n",
      "Epoch 38/40\n",
      "99/99 [==============================] - 1s 6ms/step - loss: 8.7071e-04 - accuracy: 0.9997 - val_loss: 0.0036 - val_accuracy: 0.9993\n",
      "Epoch 39/40\n",
      "99/99 [==============================] - 1s 6ms/step - loss: 0.0017 - accuracy: 0.9994 - val_loss: 0.0033 - val_accuracy: 0.9993\n",
      "Epoch 40/40\n",
      "99/99 [==============================] - 1s 6ms/step - loss: 9.4767e-04 - accuracy: 0.9996 - val_loss: 0.0050 - val_accuracy: 0.9988\n",
      "132/132 [==============================] - 0s 2ms/step\n",
      "Accuracy: 99.88%\n",
      "Saved model!\n"
     ]
    }
   ],
   "source": [
    "import pandas as pd \n",
    "import numpy as np  \n",
    "import os\n",
    "os.environ['TF_CPP_MIN_LOG_LEVEL']='2'\n",
    "from collections import Counter\n",
    "from tensorflow.keras.models import Sequential\n",
    "from tensorflow.keras.layers import Dense\n",
    "from keras import optimizers\n",
    "from sklearn.model_selection import train_test_split\n",
    "from sklearn.preprocessing import MinMaxScaler\n",
    "from sklearn.metrics import classification_report, confusion_matrix, accuracy_score, precision_score, recall_score, f1_score\n",
    "\n",
    "# read data\n",
    "mydt = pd.read_csv(\"../dataset/KDD-2018/trainu2r.csv\")\n",
    "print(mydt['Label'].value_counts())\n",
    "\n",
    "# Create matrix of features and matrix of target variable \n",
    "dataset = mydt.values\n",
    "X = dataset[:,0:41]\n",
    "y = dataset[:,41]\n",
    "\n",
    "# convert the scaled array to dataframe \n",
    "min_max_scaler = MinMaxScaler()\n",
    "X_scale = min_max_scaler.fit_transform(X)\n",
    "\n",
    "X_full = X_scale\n",
    "y_full = y\n",
    "\n",
    "X_train, X_test, y_train, y_test = train_test_split(X_full, y_full, test_size=0.3, random_state=1)\n",
    "\n",
    "print(Counter(y_train))\n",
    "print(Counter(y_test))\n",
    "\n",
    "# define the keras model\n",
    "model = Sequential()\n",
    "model.add(Dense(128, input_shape=(41,), activation='relu'))\n",
    "model.add(Dense(128, activation='relu'))\n",
    "model.add(Dense(41, activation='relu'))\n",
    "model.add(Dense(1, activation='sigmoid'))\n",
    "\n",
    "# compile the keras model\n",
    "model.compile(loss='binary_crossentropy', optimizer='adam', metrics=['accuracy'])\n",
    "\n",
    "print(\"Building Critic WGAN model...\")\n",
    "# fit the keras model on the dataset\n",
    "mod = model.fit(X_train, y_train, epochs=40, batch_size=100, verbose=1, validation_data=(X_test, y_test))\n",
    "\n",
    "# make class predictions with the model\n",
    "y_pred = (model.predict(X_test) > 0.5).astype(int)\n",
    "accuracy = accuracy_score(y_test, y_pred)\n",
    "print(\"Accuracy: %.2f%%\" % (accuracy * 100))\n",
    "\n",
    "# Save model\n",
    "# serialize model to JSON\n",
    "model_json = model.to_json()\n",
    "with open(\"DNN_critic_model_KDD_3.json\", \"w\") as json_file:\n",
    "    json_file.write(model_json)\n",
    "    \n",
    "# serialize weights to HDF5\n",
    "model.save_weights(\"DNN_critic_model_KDD_3.h5\")\n",
    "print(\"Saved model!\")"
   ]
  },
  {
   "cell_type": "code",
   "execution_count": 2,
   "id": "3c6f8d6a",
   "metadata": {},
   "outputs": [
    {
     "name": "stdout",
     "output_type": "stream",
     "text": [
      "confusion_matrix for test data\n",
      " [[4204    5]\n",
      " [   0    4]]\n",
      "              precision    recall  f1-score   support\n",
      "\n",
      "           0       1.00      1.00      1.00      4209\n",
      "           1       0.44      1.00      0.62         4\n",
      "\n",
      "    accuracy                           1.00      4213\n",
      "   macro avg       0.72      1.00      0.81      4213\n",
      "weighted avg       1.00      1.00      1.00      4213\n",
      "\n",
      "Accuracy: 0.9988\n",
      "Precision: 0.4444\n",
      "Recall: 1.0000\n",
      "F1 Score: 0.6154\n",
      "FPR Score: 0.0000\n"
     ]
    }
   ],
   "source": [
    "# Testing \n",
    "cm = confusion_matrix(y_test, y_pred) \n",
    "tnr = recall_score(y_test, y_pred) \n",
    "fpr = 1 - tnr\n",
    "\n",
    "print (\"confusion_matrix for test data\\n\",cm)\n",
    "print(classification_report(y_test,y_pred,labels=np.unique(y_pred)))\n",
    "print('Accuracy: %.4f' % accuracy_score(y_test, y_pred))\n",
    "print('Precision: %.4f' % precision_score(y_test, y_pred))\n",
    "print('Recall: %.4f' % recall_score(y_test, y_pred))\n",
    "print('F1 Score: %.4f' % f1_score(y_test, y_pred))\n",
    "print('FPR Score: %.4f' % fpr)"
   ]
  },
  {
   "cell_type": "markdown",
   "id": "74c46926",
   "metadata": {},
   "source": [
    "# WGAN"
   ]
  },
  {
   "cell_type": "code",
   "execution_count": 3,
   "id": "b5a0a63c",
   "metadata": {
    "scrolled": true
   },
   "outputs": [
    {
     "name": "stdout",
     "output_type": "stream",
     "text": [
      "original data label features number:\n",
      "0    14019\n",
      "1       24\n",
      "Name: Label, dtype: int64\n",
      "----------------------------------------\n",
      "attack value number:\n",
      "0.0    24\n",
      "Name: Label, dtype: int64\n"
     ]
    }
   ],
   "source": [
    "import torch \n",
    "import torch.nn\n",
    "import torch.nn.functional as nn \n",
    "import torch.autograd as autograd \n",
    "import torch.optim as optim \n",
    "import torch.utils.data as Data\n",
    "from torch.autograd import Variable\n",
    "import numpy as np \n",
    "import tensorflow as tf \n",
    "import os\n",
    "import pandas as pd\n",
    "from sklearn.preprocessing import MinMaxScaler \n",
    "from sklearn.metrics import confusion_matrix \n",
    "import keras\n",
    "from keras.models import Sequential \n",
    "from keras.layers import Dense \n",
    "from keras import optimizers\n",
    "from keras.models import model_from_json\n",
    "import matplotlib \n",
    "matplotlib.use('agg') \n",
    "import matplotlib.pyplot as plt \n",
    "import matplotlib.gridspec as gridspec \n",
    "\n",
    "# hyperparameters \n",
    "mb_size = 64 \n",
    "z_dim = 100 \n",
    "X_dim = 41 \n",
    "y_dim = 1 \n",
    "h_dim = 128 #hidden \n",
    "lr = 0.00005 #learning_rate\n",
    "\n",
    "# read data\n",
    "df = pd.read_csv(\"../dataset/KDD-2018/trainu2r.csv\")\n",
    "print('original data label features number:')\n",
    "print(df['Label'].value_counts())\n",
    "\n",
    "# data preparation\n",
    "criteria0 = df['Label'] == 1 #filter attack data \n",
    "data0 = df[criteria0]\n",
    "\n",
    "float_array = data0.values.astype(float) \n",
    "scaler = MinMaxScaler()\n",
    "scaled_array = scaler.fit_transform(float_array)\n",
    "attack_data = pd.DataFrame(scaled_array)\n",
    "attack_data.columns = ['duration', 'protocol_type', 'service', 'flag', 'src_bytes',\n",
    "       'dst_bytes', 'land', 'wrong_fragment', 'urgent', 'hot',\n",
    "       'num_failed_logins', 'logged_in', 'num_compromised', 'root_shell',\n",
    "       'su_attempted', 'num_root', 'num_file_creations', 'num_shells',\n",
    "       'num_access_files', 'num_outbound_cmds', 'is_host_login',\n",
    "       'is_guest_login', 'count', 'srv_count', 'serror_rate',\n",
    "       'srv_serror_rate', 'rerror_rate', 'srv_rerror_rate', 'same_srv_rate',\n",
    "       'diff_srv_rate', 'srv_diff_host_rate', 'dst_host_count',\n",
    "       'dst_host_srv_count', 'dst_host_same_srv_rate',\n",
    "       'dst_host_diff_srv_rate', 'dst_host_same_src_port_rate',\n",
    "       'dst_host_srv_diff_host_rate', 'dst_host_serror_rate',\n",
    "       'dst_host_srv_serror_rate', 'dst_host_rerror_rate',\n",
    "       'dst_host_srv_rerror_rate', 'Label']\n",
    "\n",
    "print('----------------------------------------') \n",
    "print('attack value number:') \n",
    "print(attack_data['Label'].value_counts())\n",
    "\n",
    "# transform data to tensor format\n",
    "train_target = torch.tensor(attack_data['Label'].values.astype(np.float32)) \n",
    "train = torch.tensor(attack_data.drop(['Label'], axis = 1).values.astype(np.float32)) \n",
    "train_tensor = Data.TensorDataset(train, train_target) \n",
    "\n",
    "#creat DataLoader with batch and shuffle\n",
    "train_loader = torch.utils.data.DataLoader(dataset = train_tensor, batch_size = mb_size, shuffle = True)\n",
    "\n",
    "# define models\n",
    "# Generator\n",
    "G = torch.nn.Sequential(\n",
    "    torch.nn.Linear(z_dim, h_dim), \n",
    "    torch.nn.ReLU(),\n",
    "    torch.nn.Linear(h_dim, h_dim), \n",
    "    torch.nn.ReLU(),\n",
    "    torch.nn.Linear(h_dim, X_dim), \n",
    "    torch.nn.Sigmoid()\n",
    ")\n",
    "\n",
    "# Discriminator\n",
    "D = torch.nn.Sequential( \n",
    "    torch.nn.Linear(X_dim, h_dim), \n",
    "    torch.nn.ReLU(),\n",
    "    torch.nn.Linear(h_dim, h_dim), \n",
    "    torch.nn.ReLU(),\n",
    "    # No sigmoid\n",
    "    torch.nn.Linear(h_dim, 1),\n",
    ")\n",
    "\n",
    "# setup cpu using cpu (if use gpu -> set cpu to cuda)\n",
    "G.cpu()\n",
    "D.cpu()\n",
    "\n",
    "def reset_grad():\n",
    "    G.zero_grad()\n",
    "    D.zero_grad()\n",
    "    \n",
    "#initialize optimizers and dataholders\n",
    "G_solver = optim.RMSprop(G.parameters(), lr=lr)\n",
    "D_solver = optim.RMSprop(D.parameters(), lr=lr)\n",
    "G_losses = []\n",
    "D_losses = []\n",
    "data_iter = iter(train_loader)"
   ]
  },
  {
   "cell_type": "code",
   "execution_count": 4,
   "id": "84ef51d3",
   "metadata": {},
   "outputs": [
    {
     "name": "stdout",
     "output_type": "stream",
     "text": [
      "Start training WGAN model...\n",
      "Iter-0; D_loss: -0.005068625323474407; G_loss: 0.013880228623747826\n",
      "Iter-1000; D_loss: -0.00633380189538002; G_loss: 0.017341773957014084\n",
      "Iter-2000; D_loss: -0.004150146618485451; G_loss: 0.015435497276484966\n",
      "Iter-3000; D_loss: -0.0023359842598438263; G_loss: 0.015531826764345169\n",
      "Iter-4000; D_loss: -0.0034338347613811493; G_loss: 0.01618196628987789\n",
      "Iter-5000; D_loss: -0.003324568271636963; G_loss: 0.01457901205867529\n",
      "Iter-6000; D_loss: -0.0030789943411946297; G_loss: 0.01398596353828907\n",
      "Iter-7000; D_loss: -0.002639944665133953; G_loss: 0.013653662987053394\n",
      "Iter-8000; D_loss: -0.0025704773142933846; G_loss: 0.014607190154492855\n",
      "Iter-9000; D_loss: -0.0025943145155906677; G_loss: 0.015717001631855965\n",
      "Iter-10000; D_loss: -0.002724352292716503; G_loss: 0.016505513340234756\n",
      "Iter-11000; D_loss: -0.002613503485918045; G_loss: 0.016129761934280396\n",
      "Iter-12000; D_loss: -0.002214341424405575; G_loss: 0.015606915578246117\n",
      "Iter-13000; D_loss: -0.002608422189950943; G_loss: 0.01690700463950634\n",
      "Iter-14000; D_loss: -0.002214924432337284; G_loss: 0.016071461141109467\n",
      "Iter-15000; D_loss: -0.002360578626394272; G_loss: 0.016926709562540054\n",
      "Iter-16000; D_loss: -0.002019704319536686; G_loss: 0.01535951066762209\n",
      "Iter-17000; D_loss: -0.002116686664521694; G_loss: 0.015936115756630898\n",
      "Iter-18000; D_loss: -0.0018992237746715546; G_loss: 0.015665637329220772\n",
      "Iter-19000; D_loss: -0.0017271582037210464; G_loss: 0.015157421119511127\n",
      "Iter-20000; D_loss: -0.0018156543374061584; G_loss: 0.01497554499655962\n",
      "Iter-21000; D_loss: -0.001837211661040783; G_loss: 0.015401329845190048\n",
      "Iter-22000; D_loss: -0.0016106357797980309; G_loss: 0.015128051862120628\n",
      "Iter-23000; D_loss: -0.001551138237118721; G_loss: 0.014858195558190346\n",
      "Iter-24000; D_loss: -0.0015625562518835068; G_loss: 0.015047474764287472\n",
      "Iter-25000; D_loss: -0.001557130366563797; G_loss: 0.014839873649179935\n",
      "Iter-26000; D_loss: -0.0016525303944945335; G_loss: 0.015472748316824436\n",
      "Iter-27000; D_loss: -0.0017051789909601212; G_loss: 0.0139694232493639\n",
      "Iter-28000; D_loss: -0.001579594798386097; G_loss: 0.014859975315630436\n",
      "Iter-29000; D_loss: -0.0014505861327052116; G_loss: 0.014539703726768494\n",
      "Iter-30000; D_loss: -0.0014884350821375847; G_loss: 0.014849908649921417\n",
      "Iter-31000; D_loss: -0.0013497471809387207; G_loss: 0.014661670662462711\n",
      "Iter-32000; D_loss: -0.0014174031093716621; G_loss: 0.014802494086325169\n",
      "Iter-33000; D_loss: -0.0014410177245736122; G_loss: 0.014438478276133537\n",
      "Iter-34000; D_loss: -0.0013513052836060524; G_loss: 0.014526310376822948\n",
      "Iter-35000; D_loss: -0.0014406414702534676; G_loss: 0.014535372145473957\n",
      "Iter-36000; D_loss: -0.0014360398054122925; G_loss: 0.014472166076302528\n",
      "Iter-37000; D_loss: -0.001527644693851471; G_loss: 0.014858118258416653\n",
      "Iter-38000; D_loss: -0.0013292934745550156; G_loss: 0.01398430671542883\n",
      "Iter-39000; D_loss: -0.0014614248648285866; G_loss: 0.013748623430728912\n",
      "Iter-40000; D_loss: -0.001298314891755581; G_loss: 0.014686651527881622\n",
      "Iter-41000; D_loss: -0.0012830458581447601; G_loss: 0.014363926835358143\n",
      "Iter-42000; D_loss: -0.0013085165992379189; G_loss: 0.014207095839083195\n",
      "Iter-43000; D_loss: -0.001368628814816475; G_loss: 0.013525625690817833\n",
      "Iter-44000; D_loss: -0.0014095287770032883; G_loss: 0.014397251419723034\n",
      "Iter-45000; D_loss: -0.0014675557613372803; G_loss: 0.014373527839779854\n",
      "Iter-46000; D_loss: -0.0013280659914016724; G_loss: 0.014425639994442463\n",
      "Iter-47000; D_loss: -0.0013207141309976578; G_loss: 0.014210552908480167\n",
      "Iter-48000; D_loss: -0.0012996001169085503; G_loss: 0.014135068282485008\n",
      "Iter-49000; D_loss: -0.0013513406738638878; G_loss: 0.014578836038708687\n",
      "Iter-50000; D_loss: -0.0013694623485207558; G_loss: 0.01374498475342989\n",
      "Iter-51000; D_loss: -0.00128256157040596; G_loss: 0.014306074939668179\n",
      "Iter-52000; D_loss: -0.0013050800189375877; G_loss: 0.014237390831112862\n",
      "Iter-53000; D_loss: -0.001215239055454731; G_loss: 0.014131184667348862\n",
      "Iter-54000; D_loss: -0.0011785952374339104; G_loss: 0.01442166417837143\n",
      "Iter-55000; D_loss: -0.0013273954391479492; G_loss: 0.014388548210263252\n",
      "Iter-56000; D_loss: -0.0013234401121735573; G_loss: 0.01381437573581934\n",
      "Iter-57000; D_loss: -0.0012977952137589455; G_loss: 0.01406905334442854\n",
      "Iter-58000; D_loss: -0.0013464288786053658; G_loss: 0.014004485681653023\n",
      "Iter-59000; D_loss: -0.001159808598458767; G_loss: 0.014304586686193943\n",
      "Iter-60000; D_loss: -0.0013378104194998741; G_loss: 0.014526333659887314\n",
      "Iter-61000; D_loss: -0.0012602275237441063; G_loss: 0.014137986116111279\n",
      "Iter-62000; D_loss: -0.00125962495803833; G_loss: 0.014234855771064758\n",
      "Iter-63000; D_loss: -0.0012393798679113388; G_loss: 0.013808440417051315\n",
      "Iter-64000; D_loss: -0.001271253451704979; G_loss: 0.014336460269987583\n",
      "Iter-65000; D_loss: -0.0013359729200601578; G_loss: 0.014119617640972137\n",
      "Iter-66000; D_loss: -0.0012635700404644012; G_loss: 0.014311765320599079\n",
      "Iter-67000; D_loss: -0.0012490851804614067; G_loss: 0.014410944655537605\n",
      "Iter-68000; D_loss: -0.0013093864545226097; G_loss: 0.014581327326595783\n",
      "Iter-69000; D_loss: -0.0012080920860171318; G_loss: 0.013922518119215965\n",
      "Iter-70000; D_loss: -0.0012636268511414528; G_loss: 0.014339543879032135\n",
      "Iter-71000; D_loss: -0.0012512076646089554; G_loss: 0.014620273374021053\n",
      "Iter-72000; D_loss: -0.0013180654495954514; G_loss: 0.01436108909547329\n",
      "Iter-73000; D_loss: -0.001237461343407631; G_loss: 0.014252888970077038\n",
      "Iter-74000; D_loss: -0.0012268787249922752; G_loss: 0.014090594835579395\n",
      "Iter-75000; D_loss: -0.001315247267484665; G_loss: 0.01445493008941412\n",
      "Iter-76000; D_loss: -0.001267007552087307; G_loss: 0.014843483455479145\n",
      "Iter-77000; D_loss: -0.0012743789702653885; G_loss: 0.013548691757023335\n",
      "Iter-78000; D_loss: -0.001216243952512741; G_loss: 0.014344297349452972\n",
      "Iter-79000; D_loss: -0.0013113562017679214; G_loss: 0.014069659635424614\n",
      "Iter-80000; D_loss: -0.0011964887380599976; G_loss: 0.014197347685694695\n",
      "Iter-81000; D_loss: -0.0013095997273921967; G_loss: 0.01398287620395422\n",
      "Iter-82000; D_loss: -0.0012276740744709969; G_loss: 0.013899125158786774\n",
      "Iter-83000; D_loss: -0.0011684997007250786; G_loss: 0.013893344439566135\n",
      "Iter-84000; D_loss: -0.0011985581368207932; G_loss: 0.014188308268785477\n",
      "Iter-85000; D_loss: -0.0011642538011074066; G_loss: 0.014509343542158604\n",
      "Iter-86000; D_loss: -0.0012022992596030235; G_loss: 0.014432922005653381\n",
      "Iter-87000; D_loss: -0.0012117847800254822; G_loss: 0.014210378751158714\n",
      "Iter-88000; D_loss: -0.0011951681226491928; G_loss: 0.014159835875034332\n",
      "Iter-89000; D_loss: -0.0011450881138443947; G_loss: 0.01364311296492815\n",
      "Iter-90000; D_loss: -0.0012099174782633781; G_loss: 0.014383750036358833\n",
      "Iter-91000; D_loss: -0.0011002318933606148; G_loss: 0.014010226354002953\n",
      "Iter-92000; D_loss: -0.0012549515813589096; G_loss: 0.014191901311278343\n",
      "Iter-93000; D_loss: -0.0012986240908503532; G_loss: 0.013932646252214909\n",
      "Iter-94000; D_loss: -0.001131586730480194; G_loss: 0.01419929601252079\n",
      "Iter-95000; D_loss: -0.0012311618775129318; G_loss: 0.014437667094171047\n",
      "Iter-96000; D_loss: -0.00119120255112648; G_loss: 0.014018967747688293\n",
      "Iter-97000; D_loss: -0.0012513045221567154; G_loss: 0.013781937770545483\n",
      "Iter-98000; D_loss: -0.001110331155359745; G_loss: 0.014139971695840359\n",
      "Iter-99000; D_loss: -0.0011905841529369354; G_loss: 0.014282073825597763\n",
      "Iter-100000; D_loss: -0.001248079352080822; G_loss: 0.013995492830872536\n",
      "Iter-101000; D_loss: -0.001150348223745823; G_loss: 0.014217395335435867\n",
      "Iter-102000; D_loss: -0.0012089414522051811; G_loss: 0.014260618016123772\n",
      "Iter-103000; D_loss: -0.0012351712211966515; G_loss: 0.01430039294064045\n",
      "Iter-104000; D_loss: -0.0012065758928656578; G_loss: 0.014566975645720959\n",
      "Iter-105000; D_loss: -0.0012231199070811272; G_loss: 0.014163218438625336\n",
      "Iter-106000; D_loss: -0.0011523393914103508; G_loss: 0.013951246626675129\n",
      "Iter-107000; D_loss: -0.001202588900923729; G_loss: 0.014538353309035301\n",
      "Iter-108000; D_loss: -0.0012185079976916313; G_loss: 0.013761324808001518\n",
      "Iter-109000; D_loss: -0.0012533878907561302; G_loss: 0.013936179690063\n",
      "Iter-110000; D_loss: -0.0012229420244693756; G_loss: 0.013894439674913883\n",
      "Iter-111000; D_loss: -0.0012019667774438858; G_loss: 0.014498363249003887\n",
      "Iter-112000; D_loss: -0.0011874428018927574; G_loss: 0.014597396366298199\n"
     ]
    },
    {
     "name": "stdout",
     "output_type": "stream",
     "text": [
      "Iter-113000; D_loss: -0.001249796710908413; G_loss: 0.014955630525946617\n",
      "Iter-114000; D_loss: -0.001206839457154274; G_loss: 0.014267386868596077\n",
      "Iter-115000; D_loss: -0.0011966628953814507; G_loss: 0.013949678279459476\n",
      "Iter-116000; D_loss: -0.001180192455649376; G_loss: 0.014373449608683586\n",
      "Iter-117000; D_loss: -0.0012033246457576752; G_loss: 0.014237412251532078\n",
      "Iter-118000; D_loss: -0.0011919951066374779; G_loss: 0.013869471848011017\n",
      "Iter-119000; D_loss: -0.0011627161875367165; G_loss: 0.014204798266291618\n",
      "Iter-120000; D_loss: -0.0012272028252482414; G_loss: 0.014167312532663345\n",
      "Iter-121000; D_loss: -0.001203363761305809; G_loss: 0.014775536954402924\n",
      "Iter-122000; D_loss: -0.0011409372091293335; G_loss: 0.014132466167211533\n",
      "Iter-123000; D_loss: -0.0011620856821537018; G_loss: 0.014215493574738503\n",
      "Iter-124000; D_loss: -0.0011204220354557037; G_loss: 0.01432544831186533\n",
      "Iter-125000; D_loss: -0.0011616889387369156; G_loss: 0.014352953992784023\n",
      "Iter-126000; D_loss: -0.0012155268341302872; G_loss: 0.013882618397474289\n",
      "Iter-127000; D_loss: -0.0011024577543139458; G_loss: 0.014220403507351875\n",
      "Iter-128000; D_loss: -0.001070176251232624; G_loss: 0.01376862358301878\n",
      "Iter-129000; D_loss: -0.0012240642681717873; G_loss: 0.013997016474604607\n",
      "Iter-130000; D_loss: -0.0012143747881054878; G_loss: 0.014592001214623451\n",
      "Iter-131000; D_loss: -0.0012484798207879066; G_loss: 0.013989545404911041\n",
      "Iter-132000; D_loss: -0.0011740149930119514; G_loss: 0.014237453229725361\n",
      "Iter-133000; D_loss: -0.0012210719287395477; G_loss: 0.01410500705242157\n",
      "Iter-134000; D_loss: -0.001203198917210102; G_loss: 0.014107363298535347\n",
      "Iter-135000; D_loss: -0.001249011605978012; G_loss: 0.014474456198513508\n",
      "Iter-136000; D_loss: -0.0012988783419132233; G_loss: 0.013917923904955387\n",
      "Iter-137000; D_loss: -0.0012409081682562828; G_loss: 0.01438977848738432\n",
      "Iter-138000; D_loss: -0.0011064531281590462; G_loss: 0.013727577403187752\n",
      "Iter-139000; D_loss: -0.0012044617906212807; G_loss: 0.014141179621219635\n",
      "Iter-140000; D_loss: -0.0011966517195105553; G_loss: 0.014153999276459217\n",
      "Iter-141000; D_loss: -0.0011873971670866013; G_loss: 0.014294946566224098\n",
      "Iter-142000; D_loss: -0.0012541776522994041; G_loss: 0.014078238978981972\n",
      "Iter-143000; D_loss: -0.0012042513117194176; G_loss: 0.014154736883938313\n",
      "Iter-144000; D_loss: -0.001164846122264862; G_loss: 0.013825390487909317\n",
      "Iter-145000; D_loss: -0.0012228991836309433; G_loss: 0.013623956590890884\n",
      "Iter-146000; D_loss: -0.0012613385915756226; G_loss: 0.014025026932358742\n",
      "Iter-147000; D_loss: -0.001242171972990036; G_loss: 0.014246469363570213\n",
      "Iter-148000; D_loss: -0.0011883759871125221; G_loss: 0.01417547557502985\n",
      "Iter-149000; D_loss: -0.0012384867295622826; G_loss: 0.013637208379805088\n",
      "Iter-150000; D_loss: -0.0011989055201411247; G_loss: 0.014334135688841343\n",
      "Iter-151000; D_loss: -0.0012312913313508034; G_loss: 0.013639523647725582\n",
      "Iter-152000; D_loss: -0.0012422958388924599; G_loss: 0.014321785420179367\n",
      "Iter-153000; D_loss: -0.00125985499471426; G_loss: 0.01350158266723156\n",
      "Iter-154000; D_loss: -0.0011257026344537735; G_loss: 0.014112750999629498\n",
      "Iter-155000; D_loss: -0.0012118229642510414; G_loss: 0.014145275577902794\n",
      "Iter-156000; D_loss: -0.0011159367859363556; G_loss: 0.013928928412497044\n",
      "Iter-157000; D_loss: -0.001266169361770153; G_loss: 0.013703368604183197\n",
      "Iter-158000; D_loss: -0.0012374110519886017; G_loss: 0.014453654177486897\n",
      "Iter-159000; D_loss: -0.0012468742206692696; G_loss: 0.014399713836610317\n",
      "Iter-160000; D_loss: -0.0011896248906850815; G_loss: 0.013867432251572609\n",
      "Iter-161000; D_loss: -0.0011282684281468391; G_loss: 0.013743547722697258\n",
      "Iter-162000; D_loss: -0.0012058056890964508; G_loss: 0.014250122010707855\n",
      "Iter-163000; D_loss: -0.0011791558936238289; G_loss: 0.014406670816242695\n",
      "Iter-164000; D_loss: -0.0012373803183436394; G_loss: 0.014344698749482632\n",
      "Iter-165000; D_loss: -0.0011853929609060287; G_loss: 0.013559762388467789\n",
      "Iter-166000; D_loss: -0.0012553120031952858; G_loss: 0.014668627642095089\n",
      "Iter-167000; D_loss: -0.0011660754680633545; G_loss: 0.014316539280116558\n",
      "Iter-168000; D_loss: -0.0011574560776352882; G_loss: 0.014166963286697865\n",
      "Iter-169000; D_loss: -0.0011326810345053673; G_loss: 0.013834735378623009\n",
      "Iter-170000; D_loss: -0.0012027649208903313; G_loss: 0.014010482467710972\n",
      "Iter-171000; D_loss: -0.0011856229975819588; G_loss: 0.014149447903037071\n",
      "Iter-172000; D_loss: -0.0012129610404372215; G_loss: 0.013424195349216461\n",
      "Iter-173000; D_loss: -0.0011429600417613983; G_loss: 0.013967672362923622\n",
      "Iter-174000; D_loss: -0.0011811507865786552; G_loss: 0.014280475676059723\n",
      "Iter-175000; D_loss: -0.0011810418218374252; G_loss: 0.014144768007099628\n",
      "Iter-176000; D_loss: -0.001215505413711071; G_loss: 0.01446068286895752\n",
      "Iter-177000; D_loss: -0.0011687437072396278; G_loss: 0.014267055317759514\n",
      "Iter-178000; D_loss: -0.001123158261179924; G_loss: 0.014276527799665928\n",
      "Iter-179000; D_loss: -0.0012025712057948112; G_loss: 0.013954581692814827\n",
      "Iter-180000; D_loss: -0.001194484531879425; G_loss: 0.01404084637761116\n",
      "Iter-181000; D_loss: -0.001218005083501339; G_loss: 0.01349235326051712\n",
      "Iter-182000; D_loss: -0.0011720797047019005; G_loss: 0.014019500464200974\n",
      "Iter-183000; D_loss: -0.0011943699792027473; G_loss: 0.014421221800148487\n",
      "Iter-184000; D_loss: -0.0011152569204568863; G_loss: 0.014137369580566883\n",
      "Iter-185000; D_loss: -0.0011339085176587105; G_loss: 0.014581790193915367\n",
      "Iter-186000; D_loss: -0.0012355176731944084; G_loss: 0.014095630496740341\n",
      "Iter-187000; D_loss: -0.0011889319866895676; G_loss: 0.014277148991823196\n",
      "Iter-188000; D_loss: -0.0012406855821609497; G_loss: 0.014226894825696945\n",
      "Iter-189000; D_loss: -0.001218457706272602; G_loss: 0.014149636030197144\n",
      "Iter-190000; D_loss: -0.0012506954371929169; G_loss: 0.014585839584469795\n",
      "Iter-191000; D_loss: -0.0011867573484778404; G_loss: 0.013835662975907326\n",
      "Iter-192000; D_loss: -0.0011159982532262802; G_loss: 0.013836164958775043\n",
      "Iter-193000; D_loss: -0.001160372979938984; G_loss: 0.013909169472754002\n",
      "Iter-194000; D_loss: -0.0011625494807958603; G_loss: 0.013836636207997799\n",
      "Iter-195000; D_loss: -0.0011757900938391685; G_loss: 0.01446530967950821\n",
      "Iter-196000; D_loss: -0.001084921881556511; G_loss: 0.014284349977970123\n",
      "Iter-197000; D_loss: -0.0011996962130069733; G_loss: 0.01429429929703474\n",
      "Iter-198000; D_loss: -0.001109258271753788; G_loss: 0.014473436400294304\n",
      "Iter-199000; D_loss: -0.0010803397744894028; G_loss: 0.013550681993365288\n",
      "Iter-200000; D_loss: -0.0011336253955960274; G_loss: 0.014095902442932129\n",
      "Iter-201000; D_loss: -0.0011321045458316803; G_loss: 0.01411424484103918\n",
      "Iter-202000; D_loss: -0.0010825349017977715; G_loss: 0.013881741091609001\n",
      "Iter-203000; D_loss: -0.0012218048796057701; G_loss: 0.014039181172847748\n",
      "Iter-204000; D_loss: -0.00112161785364151; G_loss: 0.014654613099992275\n",
      "Iter-205000; D_loss: -0.001089668832719326; G_loss: 0.01463797502219677\n",
      "Iter-206000; D_loss: -0.0011875666677951813; G_loss: 0.013099238276481628\n",
      "Iter-207000; D_loss: -0.0012020273134112358; G_loss: 0.013771510683000088\n",
      "Iter-208000; D_loss: -0.0011092349886894226; G_loss: 0.013892760500311852\n",
      "Iter-209000; D_loss: -0.0011731376871466637; G_loss: 0.014471909962594509\n",
      "Iter-210000; D_loss: -0.001217002049088478; G_loss: 0.014376982115209103\n",
      "Iter-211000; D_loss: -0.0011550821363925934; G_loss: 0.014275399036705494\n",
      "Iter-212000; D_loss: -0.0011364137753844261; G_loss: 0.013954052701592445\n",
      "Iter-213000; D_loss: -0.0012137684971094131; G_loss: 0.013722981326282024\n",
      "Iter-214000; D_loss: -0.001185879111289978; G_loss: 0.01432318426668644\n",
      "Iter-215000; D_loss: -0.001150703988969326; G_loss: 0.013915921561419964\n",
      "Iter-216000; D_loss: -0.0010737180709838867; G_loss: 0.014290235005319118\n",
      "Iter-217000; D_loss: -0.00122110266238451; G_loss: 0.014334906823933125\n",
      "Iter-218000; D_loss: -0.001126714050769806; G_loss: 0.014585405588150024\n",
      "Iter-219000; D_loss: -0.0012242384254932404; G_loss: 0.01348399929702282\n",
      "Iter-220000; D_loss: -0.0011942237615585327; G_loss: 0.01439717784523964\n",
      "Iter-221000; D_loss: -0.001204630360007286; G_loss: 0.014621537178754807\n",
      "Iter-222000; D_loss: -0.001147952862083912; G_loss: 0.014397596940398216\n",
      "Iter-223000; D_loss: -0.0010992912575602531; G_loss: 0.013521301560103893\n",
      "Iter-224000; D_loss: -0.0011064456775784492; G_loss: 0.014303183183073997\n"
     ]
    },
    {
     "name": "stdout",
     "output_type": "stream",
     "text": [
      "Iter-225000; D_loss: -0.0010884860530495644; G_loss: 0.01384445559233427\n",
      "Iter-226000; D_loss: -0.0011492818593978882; G_loss: 0.013775166124105453\n",
      "Iter-227000; D_loss: -0.001116645522415638; G_loss: 0.01362032350152731\n",
      "Iter-228000; D_loss: -0.0012221187353134155; G_loss: 0.013716284185647964\n",
      "Iter-229000; D_loss: -0.0011432813480496407; G_loss: 0.01465962827205658\n",
      "Iter-230000; D_loss: -0.0011678989976644516; G_loss: 0.01436951756477356\n",
      "Iter-231000; D_loss: -0.0011577391996979713; G_loss: 0.013886451721191406\n",
      "Iter-232000; D_loss: -0.0010935906320810318; G_loss: 0.014544411562383175\n",
      "Iter-233000; D_loss: -0.0011105714365839958; G_loss: 0.01371635403484106\n",
      "Iter-234000; D_loss: -0.0011867545545101166; G_loss: 0.013409673236310482\n",
      "Iter-235000; D_loss: -0.0011287899687886238; G_loss: 0.014420729130506516\n",
      "Iter-236000; D_loss: -0.0011798515915870667; G_loss: 0.014451224356889725\n",
      "Iter-237000; D_loss: -0.0012035630643367767; G_loss: 0.013798169791698456\n",
      "Iter-238000; D_loss: -0.001142469234764576; G_loss: 0.013664668425917625\n",
      "Iter-239000; D_loss: -0.001072918064892292; G_loss: 0.013704303652048111\n",
      "Iter-240000; D_loss: -0.0011163204908370972; G_loss: 0.014275951310992241\n",
      "Iter-241000; D_loss: -0.0011985357850790024; G_loss: 0.014509320259094238\n",
      "Iter-242000; D_loss: -0.0012396955862641335; G_loss: 0.014581350609660149\n",
      "Iter-243000; D_loss: -0.0011805891990661621; G_loss: 0.014159847050905228\n",
      "Iter-244000; D_loss: -0.001139380969107151; G_loss: 0.013600126840174198\n",
      "Iter-245000; D_loss: -0.0010707797482609749; G_loss: 0.014208074659109116\n",
      "Iter-246000; D_loss: -0.0011968761682510376; G_loss: 0.014073950238525867\n",
      "Iter-247000; D_loss: -0.0011168047785758972; G_loss: 0.01433348935097456\n",
      "Iter-248000; D_loss: -0.00119114201515913; G_loss: 0.014379221014678478\n",
      "Iter-249000; D_loss: -0.0011829379945993423; G_loss: 0.014533631503582\n",
      "Iter-250000; D_loss: -0.0011027874425053596; G_loss: 0.013820856809616089\n",
      "Iter-251000; D_loss: -0.0011145547032356262; G_loss: 0.014396331273019314\n",
      "Iter-252000; D_loss: -0.0011481577530503273; G_loss: 0.014342104084789753\n",
      "Iter-253000; D_loss: -0.001189298927783966; G_loss: 0.014369301497936249\n",
      "Iter-254000; D_loss: -0.0011374149471521378; G_loss: 0.01409258134663105\n",
      "Iter-255000; D_loss: -0.0010243980213999748; G_loss: 0.013914749026298523\n",
      "Iter-256000; D_loss: -0.0011724485084414482; G_loss: 0.013714490458369255\n",
      "Iter-257000; D_loss: -0.0010985145345330238; G_loss: 0.014164680615067482\n",
      "Iter-258000; D_loss: -0.0011057760566473007; G_loss: 0.014237047173082829\n",
      "Iter-259000; D_loss: -0.0011677807196974754; G_loss: 0.014224759303033352\n",
      "Iter-260000; D_loss: -0.001190677285194397; G_loss: 0.014079860411584377\n",
      "Iter-261000; D_loss: -0.0011742375791072845; G_loss: 0.013766888529062271\n",
      "Iter-262000; D_loss: -0.0011858688667416573; G_loss: 0.013791019096970558\n",
      "Iter-263000; D_loss: -0.0011764978989958763; G_loss: 0.014237002469599247\n",
      "Iter-264000; D_loss: -0.0010746465995907784; G_loss: 0.013804721646010876\n",
      "Iter-265000; D_loss: -0.0011822441592812538; G_loss: 0.013928327709436417\n",
      "Iter-266000; D_loss: -0.0011755721643567085; G_loss: 0.01359640434384346\n",
      "Iter-267000; D_loss: -0.0011974843218922615; G_loss: 0.014283563010394573\n",
      "Iter-268000; D_loss: -0.0011799726635217667; G_loss: 0.014244986698031425\n",
      "Iter-269000; D_loss: -0.0011652428656816483; G_loss: 0.014268271625041962\n",
      "Iter-270000; D_loss: -0.00116775743663311; G_loss: 0.01442809496074915\n",
      "Iter-271000; D_loss: -0.0010252278298139572; G_loss: 0.013963271863758564\n",
      "Iter-272000; D_loss: -0.001170148141682148; G_loss: 0.01407987903803587\n",
      "Iter-273000; D_loss: -0.0012086722999811172; G_loss: 0.014006687328219414\n",
      "Iter-274000; D_loss: -0.0011901455000042915; G_loss: 0.013902260921895504\n",
      "Iter-275000; D_loss: -0.0012208754196763039; G_loss: 0.014491315931081772\n",
      "Iter-276000; D_loss: -0.0011921990662813187; G_loss: 0.01410752348601818\n",
      "Iter-277000; D_loss: -0.0011187680065631866; G_loss: 0.013944875448942184\n",
      "Iter-278000; D_loss: -0.0012414073571562767; G_loss: 0.013803686946630478\n",
      "Iter-279000; D_loss: -0.001196516677737236; G_loss: 0.014506211504340172\n",
      "Iter-280000; D_loss: -0.0012464476749300957; G_loss: 0.014417028054594994\n",
      "Iter-281000; D_loss: -0.0012148013338446617; G_loss: 0.013942942023277283\n",
      "Iter-282000; D_loss: -0.0011940300464630127; G_loss: 0.014127930626273155\n",
      "Iter-283000; D_loss: -0.0011407630518078804; G_loss: 0.014750720001757145\n",
      "Iter-284000; D_loss: -0.0011729495599865913; G_loss: 0.01426135003566742\n",
      "Iter-285000; D_loss: -0.0012135831639170647; G_loss: 0.014180965721607208\n",
      "Iter-286000; D_loss: -0.0011705541983246803; G_loss: 0.01407440286129713\n",
      "Iter-287000; D_loss: -0.00106907170265913; G_loss: 0.014135248027741909\n",
      "Iter-288000; D_loss: -0.0012180088087916374; G_loss: 0.014409809373319149\n",
      "Iter-289000; D_loss: -0.0013124356046319008; G_loss: 0.014385686255991459\n",
      "Iter-290000; D_loss: -0.0012449529021978378; G_loss: 0.01459290087223053\n",
      "Iter-291000; D_loss: -0.0011780411005020142; G_loss: 0.014285492710769176\n",
      "Iter-292000; D_loss: -0.0011124862357974052; G_loss: 0.013908663764595985\n",
      "Iter-293000; D_loss: -0.001096060499548912; G_loss: 0.01432634424418211\n",
      "Iter-294000; D_loss: -0.0012129386886954308; G_loss: 0.014266986399888992\n",
      "Iter-295000; D_loss: -0.0011619366705417633; G_loss: 0.014126390218734741\n",
      "Iter-296000; D_loss: -0.0012030135840177536; G_loss: 0.014562593773007393\n",
      "Iter-297000; D_loss: -0.0012484155595302582; G_loss: 0.014342259615659714\n",
      "Iter-298000; D_loss: -0.0012422781437635422; G_loss: 0.014191299676895142\n",
      "Iter-299000; D_loss: -0.0012074131518602371; G_loss: 0.014287034049630165\n",
      "Iter-300000; D_loss: -0.0011162962764501572; G_loss: 0.01420009694993496\n",
      "Iter-301000; D_loss: -0.0011853082105517387; G_loss: 0.014204557985067368\n",
      "Iter-302000; D_loss: -0.0012442013248801231; G_loss: 0.014067687094211578\n",
      "Iter-303000; D_loss: -0.0011986978352069855; G_loss: 0.014486459083855152\n",
      "Iter-304000; D_loss: -0.0012509170919656754; G_loss: 0.014547956176102161\n",
      "Iter-305000; D_loss: -0.0010945061221718788; G_loss: 0.014002751559019089\n",
      "Iter-306000; D_loss: -0.0011676838621497154; G_loss: 0.013950366526842117\n",
      "Iter-307000; D_loss: -0.0011817850172519684; G_loss: 0.014144250191748142\n",
      "Iter-308000; D_loss: -0.0011417241767048836; G_loss: 0.014573536813259125\n",
      "Iter-309000; D_loss: -0.0011602826416492462; G_loss: 0.01437598280608654\n",
      "Iter-310000; D_loss: -0.0012047039344906807; G_loss: 0.014584670774638653\n",
      "Iter-311000; D_loss: -0.001143009401857853; G_loss: 0.014331329613924026\n",
      "Iter-312000; D_loss: -0.0011979332193732262; G_loss: 0.014355594292283058\n",
      "Iter-313000; D_loss: -0.0011605340987443924; G_loss: 0.014427976682782173\n",
      "Iter-314000; D_loss: -0.0011618062853813171; G_loss: 0.014450525864958763\n",
      "Iter-315000; D_loss: -0.0011184802278876305; G_loss: 0.01415085606276989\n",
      "Iter-316000; D_loss: -0.0011763367801904678; G_loss: 0.014355766586959362\n",
      "Iter-317000; D_loss: -0.0011040493845939636; G_loss: 0.014342202804982662\n",
      "Iter-318000; D_loss: -0.001184234395623207; G_loss: 0.013946541585028172\n",
      "Iter-319000; D_loss: -0.0011877650395035744; G_loss: 0.014449180103838444\n",
      "Iter-320000; D_loss: -0.0012318771332502365; G_loss: 0.01419632975012064\n",
      "Iter-321000; D_loss: -0.0011763162910938263; G_loss: 0.014325279742479324\n",
      "Iter-322000; D_loss: -0.0012112176045775414; G_loss: 0.014299354515969753\n",
      "Iter-323000; D_loss: -0.0012482032179832458; G_loss: 0.014017114415764809\n",
      "Iter-324000; D_loss: -0.0011008474975824356; G_loss: 0.014362156391143799\n",
      "Iter-325000; D_loss: -0.0012335851788520813; G_loss: 0.014104153960943222\n",
      "Iter-326000; D_loss: -0.0011953208595514297; G_loss: 0.014071306213736534\n",
      "Iter-327000; D_loss: -0.0011568451300263405; G_loss: 0.014346295967698097\n",
      "Iter-328000; D_loss: -0.0011571189388632774; G_loss: 0.014009298756718636\n",
      "Iter-329000; D_loss: -0.0011975793167948723; G_loss: 0.014266207814216614\n",
      "Iter-330000; D_loss: -0.0012299316003918648; G_loss: 0.014218255877494812\n",
      "Iter-331000; D_loss: -0.0011932766065001488; G_loss: 0.013934813439846039\n",
      "Iter-332000; D_loss: -0.0012344727292656898; G_loss: 0.014250453561544418\n",
      "Iter-333000; D_loss: -0.0012142062187194824; G_loss: 0.014428537338972092\n",
      "Iter-334000; D_loss: -0.0011806217953562737; G_loss: 0.014214595779776573\n",
      "Iter-335000; D_loss: -0.0011798935011029243; G_loss: 0.01422632671892643\n",
      "Iter-336000; D_loss: -0.0012237578630447388; G_loss: 0.014235603623092175\n"
     ]
    },
    {
     "name": "stdout",
     "output_type": "stream",
     "text": [
      "Iter-337000; D_loss: -0.0011352291330695152; G_loss: 0.014302454888820648\n",
      "Iter-338000; D_loss: -0.0010995641350746155; G_loss: 0.014428772032260895\n",
      "Iter-339000; D_loss: -0.001168704591691494; G_loss: 0.01422105636447668\n",
      "Iter-340000; D_loss: -0.001188153401017189; G_loss: 0.014314880594611168\n",
      "Iter-341000; D_loss: -0.0010986169800162315; G_loss: 0.014232000336050987\n",
      "Iter-342000; D_loss: -0.001242196187376976; G_loss: 0.014229916036128998\n",
      "Iter-343000; D_loss: -0.0011871680617332458; G_loss: 0.013795865699648857\n",
      "Iter-344000; D_loss: -0.0012203315272927284; G_loss: 0.014487804844975471\n",
      "Iter-345000; D_loss: -0.001255837269127369; G_loss: 0.01403825730085373\n",
      "Iter-346000; D_loss: -0.0011224588379263878; G_loss: 0.014340803027153015\n",
      "Iter-347000; D_loss: -0.0012066168710589409; G_loss: 0.014827720820903778\n",
      "Iter-348000; D_loss: -0.0011142129078507423; G_loss: 0.014399484731256962\n",
      "Iter-349000; D_loss: -0.001090395264327526; G_loss: 0.014283413998782635\n",
      "Iter-350000; D_loss: -0.0011189570650458336; G_loss: 0.014467782340943813\n",
      "Iter-351000; D_loss: -0.0012209443375468254; G_loss: 0.01376164797693491\n",
      "Iter-352000; D_loss: -0.0011481065303087234; G_loss: 0.01459225919097662\n",
      "Iter-353000; D_loss: -0.001196085475385189; G_loss: 0.014248539693653584\n",
      "Iter-354000; D_loss: -0.0011104019358754158; G_loss: 0.014306705445051193\n",
      "Iter-355000; D_loss: -0.0011814869940280914; G_loss: 0.014513548463582993\n",
      "Iter-356000; D_loss: -0.0011434992775321007; G_loss: 0.014125422574579716\n",
      "Iter-357000; D_loss: -0.0011549871414899826; G_loss: 0.014132305979728699\n",
      "Iter-358000; D_loss: -0.0012594303116202354; G_loss: 0.014403495006263256\n",
      "Iter-359000; D_loss: -0.0011572260409593582; G_loss: 0.014407571405172348\n",
      "Iter-360000; D_loss: -0.0012019900605082512; G_loss: 0.014457274228334427\n",
      "Iter-361000; D_loss: -0.001173313707113266; G_loss: 0.014404675923287868\n",
      "Iter-362000; D_loss: -0.0011996747925877571; G_loss: 0.014415479265153408\n",
      "Iter-363000; D_loss: -0.0011023320257663727; G_loss: 0.01399303786456585\n",
      "Iter-364000; D_loss: -0.0011721579357981682; G_loss: 0.01403188705444336\n",
      "Iter-365000; D_loss: -0.0011955425143241882; G_loss: 0.014343333430588245\n",
      "Iter-366000; D_loss: -0.0011794986203312874; G_loss: 0.014026517048478127\n",
      "Iter-367000; D_loss: -0.001199076883494854; G_loss: 0.014308495447039604\n",
      "Iter-368000; D_loss: -0.0011660587042570114; G_loss: 0.01419561542570591\n",
      "Iter-369000; D_loss: -0.001179317943751812; G_loss: 0.01413504034280777\n",
      "Iter-370000; D_loss: -0.001239231787621975; G_loss: 0.014374093152582645\n",
      "Iter-371000; D_loss: -0.001180863007903099; G_loss: 0.014469394460320473\n",
      "Iter-372000; D_loss: -0.0011358782649040222; G_loss: 0.014135191217064857\n",
      "Iter-373000; D_loss: -0.0011115828529000282; G_loss: 0.014243663288652897\n",
      "Iter-374000; D_loss: -0.0012052925303578377; G_loss: 0.014318343251943588\n",
      "Iter-375000; D_loss: -0.0012182453647255898; G_loss: 0.01440589502453804\n",
      "Iter-376000; D_loss: -0.0011686533689498901; G_loss: 0.014587673358619213\n",
      "Iter-377000; D_loss: -0.0011932766065001488; G_loss: 0.014160597696900368\n",
      "Iter-378000; D_loss: -0.001185583882033825; G_loss: 0.014396672137081623\n",
      "Iter-379000; D_loss: -0.0012554265558719635; G_loss: 0.014218783006072044\n",
      "Iter-380000; D_loss: -0.0012349998578429222; G_loss: 0.014143559150397778\n",
      "Iter-381000; D_loss: -0.001192959025502205; G_loss: 0.01453652698546648\n",
      "Iter-382000; D_loss: -0.0011673811823129654; G_loss: 0.014357113279402256\n",
      "Iter-383000; D_loss: -0.0011937553063035011; G_loss: 0.014128985814750195\n",
      "Iter-384000; D_loss: -0.001240675337612629; G_loss: 0.014123067259788513\n",
      "Iter-385000; D_loss: -0.0011837063357234001; G_loss: 0.014082291163504124\n",
      "Iter-386000; D_loss: -0.0011649299412965775; G_loss: 0.014404025860130787\n",
      "Iter-387000; D_loss: -0.0011697802692651749; G_loss: 0.014535539783537388\n",
      "Iter-388000; D_loss: -0.001194794662296772; G_loss: 0.014135201461613178\n",
      "Iter-389000; D_loss: -0.0011824090033769608; G_loss: 0.014160295017063618\n",
      "Iter-390000; D_loss: -0.001155417412519455; G_loss: 0.014486132189631462\n",
      "Iter-391000; D_loss: -0.0010891295969486237; G_loss: 0.01428649015724659\n",
      "Iter-392000; D_loss: -0.0011701546609401703; G_loss: 0.014355452731251717\n",
      "Iter-393000; D_loss: -0.0011470839381217957; G_loss: 0.014356776140630245\n",
      "Iter-394000; D_loss: -0.0011654002591967583; G_loss: 0.014171306043863297\n",
      "Iter-395000; D_loss: -0.0011741304770112038; G_loss: 0.014347240328788757\n",
      "Iter-396000; D_loss: -0.0012036794796586037; G_loss: 0.013980521820485592\n",
      "Iter-397000; D_loss: -0.0011808890849351883; G_loss: 0.014325089752674103\n",
      "Iter-398000; D_loss: -0.0010934509336948395; G_loss: 0.014372540637850761\n",
      "Iter-399000; D_loss: -0.0011543137952685356; G_loss: 0.014541386626660824\n",
      "Iter-400000; D_loss: -0.0011405525729060173; G_loss: 0.01397560816258192\n",
      "Iter-401000; D_loss: -0.001046614721417427; G_loss: 0.013910254463553429\n",
      "Iter-402000; D_loss: -0.0011881645768880844; G_loss: 0.014056524261832237\n",
      "Iter-403000; D_loss: -0.001210673712193966; G_loss: 0.01411069929599762\n",
      "Iter-404000; D_loss: -0.0012912619858980179; G_loss: 0.01377808302640915\n",
      "Iter-405000; D_loss: -0.0012065507471561432; G_loss: 0.014289933256804943\n",
      "Iter-406000; D_loss: -0.0011319098994135857; G_loss: 0.01445289608091116\n",
      "Iter-407000; D_loss: -0.0011326074600219727; G_loss: 0.014431560412049294\n",
      "Iter-408000; D_loss: -0.0011347364634275436; G_loss: 0.013890800066292286\n",
      "Iter-409000; D_loss: -0.0011671427637338638; G_loss: 0.014396488666534424\n",
      "Iter-410000; D_loss: -0.0011969245970249176; G_loss: 0.014035310596227646\n",
      "Iter-411000; D_loss: -0.0011769840493798256; G_loss: 0.014099064283072948\n",
      "Iter-412000; D_loss: -0.0011147372424602509; G_loss: 0.014511480927467346\n",
      "Iter-413000; D_loss: -0.0011140238493680954; G_loss: 0.01447281800210476\n",
      "Iter-414000; D_loss: -0.0011904630810022354; G_loss: 0.014597408473491669\n",
      "Iter-415000; D_loss: -0.0012172451242804527; G_loss: 0.014026057906448841\n",
      "Iter-416000; D_loss: -0.0011162515729665756; G_loss: 0.014093171805143356\n",
      "Iter-417000; D_loss: -0.0010988833382725716; G_loss: 0.014155776239931583\n",
      "Iter-418000; D_loss: -0.0011341115459799767; G_loss: 0.014355788007378578\n",
      "Iter-419000; D_loss: -0.0011909548193216324; G_loss: 0.014000188559293747\n",
      "Iter-420000; D_loss: -0.0011621266603469849; G_loss: 0.014362906105816364\n",
      "Iter-421000; D_loss: -0.0011628363281488419; G_loss: 0.013909337110817432\n",
      "Iter-422000; D_loss: -0.001138494350016117; G_loss: 0.01400804240256548\n",
      "Iter-423000; D_loss: -0.001163925975561142; G_loss: 0.014465585350990295\n",
      "Iter-424000; D_loss: -0.0011354358866810799; G_loss: 0.014184389263391495\n",
      "Iter-425000; D_loss: -0.0011707181110978127; G_loss: 0.014162199571728706\n",
      "Iter-426000; D_loss: -0.0010733725503087044; G_loss: 0.014453265815973282\n",
      "Iter-427000; D_loss: -0.00116783007979393; G_loss: 0.014181138016283512\n",
      "Iter-428000; D_loss: -0.0011365832760930061; G_loss: 0.014215545728802681\n",
      "Iter-429000; D_loss: -0.0011565042659640312; G_loss: 0.014313386753201485\n",
      "Iter-430000; D_loss: -0.0011618444696068764; G_loss: 0.014185123145580292\n",
      "Iter-431000; D_loss: -0.0012090085074305534; G_loss: 0.014091087505221367\n",
      "Iter-432000; D_loss: -0.0011969227343797684; G_loss: 0.014600807800889015\n",
      "Iter-433000; D_loss: -0.0010965606197714806; G_loss: 0.014136586338281631\n",
      "Iter-434000; D_loss: -0.0011497000232338905; G_loss: 0.014459671452641487\n",
      "Iter-435000; D_loss: -0.0011510690674185753; G_loss: 0.014020171947777271\n",
      "Iter-436000; D_loss: -0.0011640619486570358; G_loss: 0.014438150450587273\n",
      "Iter-437000; D_loss: -0.0011651553213596344; G_loss: 0.014484107494354248\n",
      "Iter-438000; D_loss: -0.001227804459631443; G_loss: 0.014493104070425034\n",
      "Iter-439000; D_loss: -0.0011649476364254951; G_loss: 0.014208748936653137\n",
      "Iter-440000; D_loss: -0.0011454429477453232; G_loss: 0.01432495005428791\n",
      "Iter-441000; D_loss: -0.001143844798207283; G_loss: 0.014339365996420383\n",
      "Iter-442000; D_loss: -0.0011635730043053627; G_loss: 0.01395068783313036\n",
      "Iter-443000; D_loss: -0.0011633792892098427; G_loss: 0.013954340480268002\n",
      "Iter-444000; D_loss: -0.0011333497241139412; G_loss: 0.01380152814090252\n",
      "Iter-445000; D_loss: -0.0011715292930603027; G_loss: 0.014306461438536644\n",
      "Iter-446000; D_loss: -0.0011345818638801575; G_loss: 0.014143330045044422\n",
      "Iter-447000; D_loss: -0.0012243865057826042; G_loss: 0.014294562861323357\n",
      "Iter-448000; D_loss: -0.0012179194018244743; G_loss: 0.014177268370985985\n"
     ]
    },
    {
     "name": "stdout",
     "output_type": "stream",
     "text": [
      "Iter-449000; D_loss: -0.0011658454313874245; G_loss: 0.014388644136488438\n",
      "Iter-450000; D_loss: -0.0011535407975316048; G_loss: 0.0143004534766078\n",
      "Iter-451000; D_loss: -0.001180681400001049; G_loss: 0.014587626792490482\n",
      "Iter-452000; D_loss: -0.0011883731931447983; G_loss: 0.0143692372366786\n",
      "Iter-453000; D_loss: -0.001147586852312088; G_loss: 0.014199459925293922\n",
      "Iter-454000; D_loss: -0.0011326679959893227; G_loss: 0.013889783062040806\n",
      "Iter-455000; D_loss: -0.0011235512793064117; G_loss: 0.014387261122465134\n",
      "Iter-456000; D_loss: -0.0011285636574029922; G_loss: 0.014118392020463943\n",
      "Iter-457000; D_loss: -0.0011198772117495537; G_loss: 0.014002351090312004\n",
      "Iter-458000; D_loss: -0.0011764680966734886; G_loss: 0.013896418735384941\n",
      "Iter-459000; D_loss: -0.0012141596525907516; G_loss: 0.013959166593849659\n",
      "Iter-460000; D_loss: -0.0010999999940395355; G_loss: 0.014500541612505913\n",
      "Iter-461000; D_loss: -0.0011606914922595024; G_loss: 0.01418771967291832\n",
      "Iter-462000; D_loss: -0.0012012748047709465; G_loss: 0.014173710718750954\n",
      "Iter-463000; D_loss: -0.001183217391371727; G_loss: 0.013986341655254364\n",
      "Iter-464000; D_loss: -0.0011566504836082458; G_loss: 0.014330866746604443\n",
      "Iter-465000; D_loss: -0.001093386672437191; G_loss: 0.014121944084763527\n",
      "Iter-466000; D_loss: -0.0011467747390270233; G_loss: 0.014344041235744953\n",
      "Iter-467000; D_loss: -0.0011320123448967934; G_loss: 0.013952137902379036\n",
      "Iter-468000; D_loss: -0.0012599928304553032; G_loss: 0.014067726209759712\n",
      "Iter-469000; D_loss: -0.001096821390092373; G_loss: 0.014502487145364285\n",
      "Iter-470000; D_loss: -0.0011519324034452438; G_loss: 0.014085952192544937\n",
      "Iter-471000; D_loss: -0.0011418256908655167; G_loss: 0.01446465216577053\n",
      "Iter-472000; D_loss: -0.0011698873713612556; G_loss: 0.01440445426851511\n",
      "Iter-473000; D_loss: -0.001185004599392414; G_loss: 0.014243178069591522\n",
      "Iter-474000; D_loss: -0.0011623678728938103; G_loss: 0.014168513007462025\n",
      "Iter-475000; D_loss: -0.0011608684435486794; G_loss: 0.01420976035296917\n",
      "Iter-476000; D_loss: -0.0011313920840620995; G_loss: 0.014109473675489426\n",
      "Iter-477000; D_loss: -0.0011193156242370605; G_loss: 0.014361761510372162\n",
      "Iter-478000; D_loss: -0.0011532781645655632; G_loss: 0.014155058190226555\n",
      "Iter-479000; D_loss: -0.0011166548356413841; G_loss: 0.014359703287482262\n",
      "Iter-480000; D_loss: -0.0011080168187618256; G_loss: 0.014032762497663498\n",
      "Iter-481000; D_loss: -0.0011889217421412468; G_loss: 0.013981251046061516\n",
      "Iter-482000; D_loss: -0.0010411795228719711; G_loss: 0.014577100053429604\n",
      "Iter-483000; D_loss: -0.0011941911652684212; G_loss: 0.014658963307738304\n",
      "Iter-484000; D_loss: -0.0011041108518838882; G_loss: 0.014383472502231598\n",
      "Iter-485000; D_loss: -0.0011182911694049835; G_loss: 0.014091143384575844\n",
      "Iter-486000; D_loss: -0.001132751815021038; G_loss: 0.014116319827735424\n",
      "Iter-487000; D_loss: -0.0011256961151957512; G_loss: 0.014114471152424812\n",
      "Iter-488000; D_loss: -0.0011468073353171349; G_loss: 0.014084736816585064\n",
      "Iter-489000; D_loss: -0.0011470373719930649; G_loss: 0.014189035631716251\n",
      "Iter-490000; D_loss: -0.0011112531647086143; G_loss: 0.014452400617301464\n",
      "Iter-491000; D_loss: -0.001131984405219555; G_loss: 0.014474027790129185\n",
      "Iter-492000; D_loss: -0.001178814098238945; G_loss: 0.014289277605712414\n",
      "Iter-493000; D_loss: -0.001126062124967575; G_loss: 0.014498835429549217\n",
      "Iter-494000; D_loss: -0.0011432981118559837; G_loss: 0.014339681714773178\n",
      "Iter-495000; D_loss: -0.0010843761265277863; G_loss: 0.013994232751429081\n",
      "Iter-496000; D_loss: -0.0010953117161989212; G_loss: 0.014197630807757378\n",
      "Iter-497000; D_loss: -0.0011632218956947327; G_loss: 0.01433936320245266\n",
      "Iter-498000; D_loss: -0.0010894974693655968; G_loss: 0.014404569752514362\n",
      "Iter-499000; D_loss: -0.0011104652658104897; G_loss: 0.013820366933941841\n"
     ]
    }
   ],
   "source": [
    "#training \n",
    "print(\"Start training WGAN model...\")\n",
    "d_iter = 2 \n",
    "for it in range(500000):\n",
    "    if it<100: d_iter = 50 \n",
    "    else:\n",
    "        d_iter = 2\n",
    "    for _ in range(d_iter):\n",
    "        # Sample data\n",
    "        z = Variable(torch.randn(mb_size, z_dim)).cpu()\n",
    "        try:\n",
    "            X, _ = data_iter.next() \n",
    "        except StopIteration:\n",
    "            data_iter = iter(train_loader) \n",
    "            X, _ = data_iter.next()\n",
    "        #X = Variable(torch.from_numpy(X))\n",
    "        X = X.cpu()\n",
    "        \n",
    "        # Dicriminator forward-loss-backward-update \n",
    "        G_sample = G(z)\n",
    "        D_real = D(X)\n",
    "        D_fake = D(G_sample)\n",
    "        \n",
    "        D_loss = -(torch.mean(D_real) - torch.mean(D_fake))\n",
    "        \n",
    "        D_loss.backward() \n",
    "        D_solver.step()\n",
    "        \n",
    "        # Weight clipping \n",
    "        for p in D.parameters():\n",
    "            p.data.clamp_(-0.01, 0.01)\n",
    "            \n",
    "        D_losses.append(D_loss.data.cpu().numpy())\n",
    "        \n",
    "        # Housekeeping - reset gradient \n",
    "        reset_grad()\n",
    "        \n",
    "    # Generator forward-loss-backward-update \n",
    "    #X = Variable(torch.from_numpy(X)) \n",
    "    z = Variable(torch.randn(mb_size, z_dim)).cpu() #change cpu to cuda\n",
    "    \n",
    "    G_sample = G(z)\n",
    "    D_fake = D(G_sample)\n",
    "    \n",
    "    G_loss = -torch.mean(D_fake)\n",
    "    \n",
    "    G_loss.backward() \n",
    "    G_solver.step()\n",
    "\n",
    "    # Housekeeping - reset gradient \n",
    "    reset_grad()\n",
    "\n",
    "    G_losses.append(G_loss.data.cpu().numpy())\n",
    "\n",
    "    # Print and plot every now and then \n",
    "    if it % 1000 == 0:\n",
    "        print('Iter-{}; D_loss: {}; G_loss: {}'\n",
    "              .format(it, D_loss.data.cpu().numpy(),  \n",
    "                G_loss.data.cpu().numpy()))\n",
    "        \n",
    "        samples = G(z).data.numpy()[:16]\n",
    "\n",
    "#plot losses\n",
    "plt.figure(figsize=(10,5))\n",
    "plt.title(\"Generator and Critic Loss During Training\") \n",
    "plt.plot(G_losses,label=\"Generator\") \n",
    "plt.plot(D_losses,label=\"Critic\") \n",
    "plt.xlabel(\"iter\")\n",
    "plt.ylabel(\"loss\")\n",
    "plt.legend()\n",
    "plt.savefig('KDD_loss_3.png')\n",
    "\n",
    "#save model\n",
    "torch.save({'modelG_state_dict': G.state_dict(), \n",
    "            'modelD_state_dict': D.state_dict(),\n",
    "            'optimizerG_state_dict': G_solver.state_dict(),\n",
    "            'optimizerD_state_dict': D_solver.state_dict(),\n",
    "            'G_loss': G_losses,\n",
    "            'D_loss': D_losses\n",
    "           }, \"WGAN_model_KDD_3.pth\")"
   ]
  },
  {
   "cell_type": "markdown",
   "id": "a947cefd",
   "metadata": {},
   "source": [
    "# Data generation from saved WGAN model"
   ]
  },
  {
   "cell_type": "code",
   "execution_count": 5,
   "id": "6b2da982",
   "metadata": {
    "scrolled": true
   },
   "outputs": [
    {
     "name": "stdout",
     "output_type": "stream",
     "text": [
      "Loading model...\n",
      "----------------------------------------\n",
      "empty df Empty DataFrame\n",
      "Columns: [duration, protocol_type, service, flag, src_bytes, dst_bytes, land, wrong_fragment, urgent, hot, num_failed_logins, logged_in, num_compromised, root_shell, su_attempted, num_root, num_file_creations, num_shells, num_access_files, num_outbound_cmds, is_host_login, is_guest_login, count, srv_count, serror_rate, srv_serror_rate, rerror_rate, srv_rerror_rate, same_srv_rate, diff_srv_rate, srv_diff_host_rate, dst_host_count, dst_host_srv_count, dst_host_same_srv_rate, dst_host_diff_srv_rate, dst_host_same_src_port_rate, dst_host_srv_diff_host_rate, dst_host_serror_rate, dst_host_srv_serror_rate, dst_host_rerror_rate, dst_host_srv_rerror_rate, Label]\n",
      "Index: []\n",
      "\n",
      "[0 rows x 42 columns]\n",
      "----------------------------------------\n",
      "Completed loading model\n"
     ]
    }
   ],
   "source": [
    "#loaded NN model\n",
    "print(\"Loading model...\")\n",
    "print(\"----------------------------------------\")\n",
    "json_file = open(\"DNN_critic_model_KDD_3.json\",\"r\") \n",
    "loaded_model_json = json_file.read()\n",
    "json_file.close()\n",
    "loaded_model = model_from_json(loaded_model_json) \n",
    "loaded_model.load_weights(\"DNN_critic_model_KDD_3.h5\")\n",
    "\n",
    "G = torch.nn.Sequential(\n",
    "    torch.nn.Linear(z_dim, h_dim),\n",
    "    torch.nn.ReLU(),\n",
    "    torch.nn.Linear(h_dim, h_dim),\n",
    "    torch.nn.ReLU(),\n",
    "    torch.nn.Linear(h_dim, X_dim), \n",
    "    torch.nn.Sigmoid()\n",
    ")\n",
    "\n",
    "checkpoint = torch.load(\"WGAN_model_KDD_3.pth\")\n",
    "G.load_state_dict(checkpoint['modelG_state_dict'])\n",
    "\n",
    "G.eval()\n",
    "G.cpu()\n",
    "\n",
    "final_Data = pd.DataFrame(columns = ['duration', 'protocol_type', 'service', 'flag', 'src_bytes',\n",
    "       'dst_bytes', 'land', 'wrong_fragment', 'urgent', 'hot',\n",
    "       'num_failed_logins', 'logged_in', 'num_compromised', 'root_shell',\n",
    "       'su_attempted', 'num_root', 'num_file_creations', 'num_shells',\n",
    "       'num_access_files', 'num_outbound_cmds', 'is_host_login',\n",
    "       'is_guest_login', 'count', 'srv_count', 'serror_rate',\n",
    "       'srv_serror_rate', 'rerror_rate', 'srv_rerror_rate', 'same_srv_rate',\n",
    "       'diff_srv_rate', 'srv_diff_host_rate', 'dst_host_count',\n",
    "       'dst_host_srv_count', 'dst_host_same_srv_rate',\n",
    "       'dst_host_diff_srv_rate', 'dst_host_same_src_port_rate',\n",
    "       'dst_host_srv_diff_host_rate', 'dst_host_serror_rate',\n",
    "       'dst_host_srv_serror_rate', 'dst_host_rerror_rate',\n",
    "       'dst_host_srv_rerror_rate', 'Label']) \n",
    "print(\"empty df\",final_Data) \n",
    "print(\"----------------------------------------\")\n",
    "print(\"Completed loading model\")"
   ]
  },
  {
   "cell_type": "code",
   "execution_count": 6,
   "id": "73faade2",
   "metadata": {
    "scrolled": true
   },
   "outputs": [
    {
     "name": "stdout",
     "output_type": "stream",
     "text": [
      "4/4 [==============================] - 0s 5ms/step\n",
      "-------------------------------------------------------------\n",
      " confusion_matrix for new data with deeper model \n",
      " [[ 0  0]\n",
      " [67 33]]\n",
      "only attack data -  (33, 42)\n",
      "final data  1 -  (33, 42)\n",
      "-------------------------------------------------------------\n",
      "4/4 [==============================] - 0s 3ms/step\n",
      "-------------------------------------------------------------\n",
      " confusion_matrix for new data with deeper model \n",
      " [[ 0  0]\n",
      " [66 34]]\n",
      "only attack data -  (34, 42)\n",
      "final data  2 -  (67, 42)\n",
      "-------------------------------------------------------------\n"
     ]
    },
    {
     "name": "stderr",
     "output_type": "stream",
     "text": [
      "/tmp/ipykernel_3245245/1638766432.py:38: FutureWarning: The frame.append method is deprecated and will be removed from pandas in a future version. Use pandas.concat instead.\n",
      "  final_Data = final_Data.append(data1, ignore_index = True)\n",
      "/tmp/ipykernel_3245245/1638766432.py:38: FutureWarning: The frame.append method is deprecated and will be removed from pandas in a future version. Use pandas.concat instead.\n",
      "  final_Data = final_Data.append(data1, ignore_index = True)\n"
     ]
    },
    {
     "name": "stdout",
     "output_type": "stream",
     "text": [
      "4/4 [==============================] - 0s 3ms/step\n",
      "-------------------------------------------------------------\n",
      " confusion_matrix for new data with deeper model \n",
      " [[ 0  0]\n",
      " [62 38]]\n",
      "only attack data -  (38, 42)\n",
      "final data  3 -  (105, 42)\n",
      "-------------------------------------------------------------\n",
      "4/4 [==============================] - 0s 3ms/step\n",
      "-------------------------------------------------------------\n",
      " confusion_matrix for new data with deeper model \n",
      " [[ 0  0]\n",
      " [70 30]]\n",
      "only attack data -  (30, 42)\n",
      "final data  4 -  (135, 42)\n",
      "-------------------------------------------------------------\n"
     ]
    },
    {
     "name": "stderr",
     "output_type": "stream",
     "text": [
      "/tmp/ipykernel_3245245/1638766432.py:38: FutureWarning: The frame.append method is deprecated and will be removed from pandas in a future version. Use pandas.concat instead.\n",
      "  final_Data = final_Data.append(data1, ignore_index = True)\n",
      "/tmp/ipykernel_3245245/1638766432.py:38: FutureWarning: The frame.append method is deprecated and will be removed from pandas in a future version. Use pandas.concat instead.\n",
      "  final_Data = final_Data.append(data1, ignore_index = True)\n"
     ]
    },
    {
     "name": "stdout",
     "output_type": "stream",
     "text": [
      "4/4 [==============================] - 0s 3ms/step\n",
      "-------------------------------------------------------------\n",
      " confusion_matrix for new data with deeper model \n",
      " [[ 0  0]\n",
      " [69 31]]\n",
      "only attack data -  (31, 42)\n",
      "final data  5 -  (166, 42)\n",
      "-------------------------------------------------------------\n",
      "4/4 [==============================] - 0s 3ms/step\n",
      "-------------------------------------------------------------\n",
      " confusion_matrix for new data with deeper model \n",
      " [[ 0  0]\n",
      " [73 27]]\n",
      "only attack data -  (27, 42)\n",
      "final data  6 -  (193, 42)\n",
      "-------------------------------------------------------------\n"
     ]
    },
    {
     "name": "stderr",
     "output_type": "stream",
     "text": [
      "/tmp/ipykernel_3245245/1638766432.py:38: FutureWarning: The frame.append method is deprecated and will be removed from pandas in a future version. Use pandas.concat instead.\n",
      "  final_Data = final_Data.append(data1, ignore_index = True)\n",
      "/tmp/ipykernel_3245245/1638766432.py:38: FutureWarning: The frame.append method is deprecated and will be removed from pandas in a future version. Use pandas.concat instead.\n",
      "  final_Data = final_Data.append(data1, ignore_index = True)\n"
     ]
    },
    {
     "name": "stdout",
     "output_type": "stream",
     "text": [
      "4/4 [==============================] - 0s 3ms/step\n",
      "-------------------------------------------------------------\n",
      " confusion_matrix for new data with deeper model \n",
      " [[ 0  0]\n",
      " [77 23]]\n",
      "only attack data -  (23, 42)\n",
      "final data  7 -  (216, 42)\n",
      "-------------------------------------------------------------\n",
      "4/4 [==============================] - 0s 4ms/step\n",
      "-------------------------------------------------------------\n",
      " confusion_matrix for new data with deeper model \n",
      " [[ 0  0]\n",
      " [72 28]]\n",
      "only attack data -  (28, 42)\n",
      "final data  8 -  (244, 42)\n",
      "-------------------------------------------------------------\n"
     ]
    },
    {
     "name": "stderr",
     "output_type": "stream",
     "text": [
      "/tmp/ipykernel_3245245/1638766432.py:38: FutureWarning: The frame.append method is deprecated and will be removed from pandas in a future version. Use pandas.concat instead.\n",
      "  final_Data = final_Data.append(data1, ignore_index = True)\n",
      "/tmp/ipykernel_3245245/1638766432.py:38: FutureWarning: The frame.append method is deprecated and will be removed from pandas in a future version. Use pandas.concat instead.\n",
      "  final_Data = final_Data.append(data1, ignore_index = True)\n"
     ]
    },
    {
     "name": "stdout",
     "output_type": "stream",
     "text": [
      "4/4 [==============================] - 0s 2ms/step\n",
      "-------------------------------------------------------------\n",
      " confusion_matrix for new data with deeper model \n",
      " [[ 0  0]\n",
      " [71 29]]\n",
      "only attack data -  (29, 42)\n",
      "final data  9 -  (273, 42)\n",
      "-------------------------------------------------------------\n",
      "4/4 [==============================] - 0s 3ms/step\n"
     ]
    },
    {
     "name": "stderr",
     "output_type": "stream",
     "text": [
      "/tmp/ipykernel_3245245/1638766432.py:38: FutureWarning: The frame.append method is deprecated and will be removed from pandas in a future version. Use pandas.concat instead.\n",
      "  final_Data = final_Data.append(data1, ignore_index = True)\n"
     ]
    },
    {
     "name": "stdout",
     "output_type": "stream",
     "text": [
      "-------------------------------------------------------------\n",
      " confusion_matrix for new data with deeper model \n",
      " [[ 0  0]\n",
      " [77 23]]\n",
      "only attack data -  (23, 42)\n",
      "final data  10 -  (296, 42)\n",
      "-------------------------------------------------------------\n",
      "4/4 [==============================] - 0s 4ms/step\n",
      "-------------------------------------------------------------\n",
      " confusion_matrix for new data with deeper model \n",
      " [[ 0  0]\n",
      " [64 36]]\n",
      "only attack data -  (36, 42)\n",
      "final data  11 -  (332, 42)\n",
      "-------------------------------------------------------------\n"
     ]
    },
    {
     "name": "stderr",
     "output_type": "stream",
     "text": [
      "/tmp/ipykernel_3245245/1638766432.py:38: FutureWarning: The frame.append method is deprecated and will be removed from pandas in a future version. Use pandas.concat instead.\n",
      "  final_Data = final_Data.append(data1, ignore_index = True)\n",
      "/tmp/ipykernel_3245245/1638766432.py:38: FutureWarning: The frame.append method is deprecated and will be removed from pandas in a future version. Use pandas.concat instead.\n",
      "  final_Data = final_Data.append(data1, ignore_index = True)\n"
     ]
    },
    {
     "name": "stdout",
     "output_type": "stream",
     "text": [
      "4/4 [==============================] - 0s 2ms/step\n",
      "-------------------------------------------------------------\n",
      " confusion_matrix for new data with deeper model \n",
      " [[ 0  0]\n",
      " [63 37]]\n",
      "only attack data -  (37, 42)\n",
      "final data  12 -  (369, 42)\n",
      "-------------------------------------------------------------\n",
      "4/4 [==============================] - 0s 3ms/step\n",
      "-------------------------------------------------------------\n",
      " confusion_matrix for new data with deeper model \n",
      " [[ 0  0]\n",
      " [73 27]]\n",
      "only attack data -  (27, 42)\n",
      "final data  13 -  (396, 42)\n",
      "-------------------------------------------------------------\n"
     ]
    },
    {
     "name": "stderr",
     "output_type": "stream",
     "text": [
      "/tmp/ipykernel_3245245/1638766432.py:38: FutureWarning: The frame.append method is deprecated and will be removed from pandas in a future version. Use pandas.concat instead.\n",
      "  final_Data = final_Data.append(data1, ignore_index = True)\n",
      "/tmp/ipykernel_3245245/1638766432.py:38: FutureWarning: The frame.append method is deprecated and will be removed from pandas in a future version. Use pandas.concat instead.\n",
      "  final_Data = final_Data.append(data1, ignore_index = True)\n"
     ]
    },
    {
     "name": "stdout",
     "output_type": "stream",
     "text": [
      "4/4 [==============================] - 0s 3ms/step\n",
      "-------------------------------------------------------------\n",
      " confusion_matrix for new data with deeper model \n",
      " [[ 0  0]\n",
      " [68 32]]\n",
      "only attack data -  (32, 42)\n",
      "final data  14 -  (428, 42)\n",
      "-------------------------------------------------------------\n",
      "4/4 [==============================] - 0s 3ms/step\n",
      "-------------------------------------------------------------\n",
      " confusion_matrix for new data with deeper model \n",
      " [[ 0  0]\n",
      " [65 35]]\n",
      "only attack data -  (35, 42)\n",
      "final data  15 -  (463, 42)\n",
      "-------------------------------------------------------------\n"
     ]
    },
    {
     "name": "stderr",
     "output_type": "stream",
     "text": [
      "/tmp/ipykernel_3245245/1638766432.py:38: FutureWarning: The frame.append method is deprecated and will be removed from pandas in a future version. Use pandas.concat instead.\n",
      "  final_Data = final_Data.append(data1, ignore_index = True)\n",
      "/tmp/ipykernel_3245245/1638766432.py:38: FutureWarning: The frame.append method is deprecated and will be removed from pandas in a future version. Use pandas.concat instead.\n",
      "  final_Data = final_Data.append(data1, ignore_index = True)\n"
     ]
    },
    {
     "name": "stdout",
     "output_type": "stream",
     "text": [
      "4/4 [==============================] - 0s 3ms/step\n",
      "-------------------------------------------------------------\n",
      " confusion_matrix for new data with deeper model \n",
      " [[ 0  0]\n",
      " [68 32]]\n",
      "only attack data -  (32, 42)\n",
      "final data  16 -  (495, 42)\n",
      "-------------------------------------------------------------\n",
      "4/4 [==============================] - 0s 3ms/step\n",
      "-------------------------------------------------------------\n",
      " confusion_matrix for new data with deeper model \n",
      " [[ 0  0]\n",
      " [70 30]]\n",
      "only attack data -  (30, 42)\n",
      "final data  17 -  (525, 42)\n",
      "-------------------------------------------------------------\n"
     ]
    },
    {
     "name": "stderr",
     "output_type": "stream",
     "text": [
      "/tmp/ipykernel_3245245/1638766432.py:38: FutureWarning: The frame.append method is deprecated and will be removed from pandas in a future version. Use pandas.concat instead.\n",
      "  final_Data = final_Data.append(data1, ignore_index = True)\n",
      "/tmp/ipykernel_3245245/1638766432.py:38: FutureWarning: The frame.append method is deprecated and will be removed from pandas in a future version. Use pandas.concat instead.\n",
      "  final_Data = final_Data.append(data1, ignore_index = True)\n"
     ]
    },
    {
     "name": "stdout",
     "output_type": "stream",
     "text": [
      "4/4 [==============================] - 0s 2ms/step\n",
      "-------------------------------------------------------------\n",
      " confusion_matrix for new data with deeper model \n",
      " [[ 0  0]\n",
      " [68 32]]\n",
      "only attack data -  (32, 42)\n",
      "final data  18 -  (557, 42)\n",
      "-------------------------------------------------------------\n",
      "4/4 [==============================] - 0s 5ms/step\n"
     ]
    },
    {
     "name": "stderr",
     "output_type": "stream",
     "text": [
      "/tmp/ipykernel_3245245/1638766432.py:38: FutureWarning: The frame.append method is deprecated and will be removed from pandas in a future version. Use pandas.concat instead.\n",
      "  final_Data = final_Data.append(data1, ignore_index = True)\n"
     ]
    },
    {
     "name": "stdout",
     "output_type": "stream",
     "text": [
      "-------------------------------------------------------------\n",
      " confusion_matrix for new data with deeper model \n",
      " [[ 0  0]\n",
      " [64 36]]\n",
      "only attack data -  (36, 42)\n",
      "final data  19 -  (593, 42)\n",
      "-------------------------------------------------------------\n",
      "4/4 [==============================] - 0s 2ms/step\n",
      "-------------------------------------------------------------\n",
      " confusion_matrix for new data with deeper model \n",
      " [[ 0  0]\n",
      " [72 28]]\n",
      "only attack data -  (28, 42)\n",
      "final data  20 -  (621, 42)\n",
      "-------------------------------------------------------------\n"
     ]
    },
    {
     "name": "stderr",
     "output_type": "stream",
     "text": [
      "/tmp/ipykernel_3245245/1638766432.py:38: FutureWarning: The frame.append method is deprecated and will be removed from pandas in a future version. Use pandas.concat instead.\n",
      "  final_Data = final_Data.append(data1, ignore_index = True)\n",
      "/tmp/ipykernel_3245245/1638766432.py:38: FutureWarning: The frame.append method is deprecated and will be removed from pandas in a future version. Use pandas.concat instead.\n",
      "  final_Data = final_Data.append(data1, ignore_index = True)\n"
     ]
    },
    {
     "name": "stdout",
     "output_type": "stream",
     "text": [
      "4/4 [==============================] - 0s 2ms/step\n",
      "-------------------------------------------------------------\n",
      " confusion_matrix for new data with deeper model \n",
      " [[ 0  0]\n",
      " [70 30]]\n",
      "only attack data -  (30, 42)\n",
      "final data  21 -  (651, 42)\n",
      "-------------------------------------------------------------\n",
      "4/4 [==============================] - 0s 4ms/step\n",
      "-------------------------------------------------------------\n",
      " confusion_matrix for new data with deeper model \n",
      " [[ 0  0]\n",
      " [64 36]]\n",
      "only attack data -  (36, 42)\n",
      "final data  22 -  (687, 42)\n",
      "-------------------------------------------------------------\n"
     ]
    },
    {
     "name": "stderr",
     "output_type": "stream",
     "text": [
      "/tmp/ipykernel_3245245/1638766432.py:38: FutureWarning: The frame.append method is deprecated and will be removed from pandas in a future version. Use pandas.concat instead.\n",
      "  final_Data = final_Data.append(data1, ignore_index = True)\n",
      "/tmp/ipykernel_3245245/1638766432.py:38: FutureWarning: The frame.append method is deprecated and will be removed from pandas in a future version. Use pandas.concat instead.\n",
      "  final_Data = final_Data.append(data1, ignore_index = True)\n"
     ]
    },
    {
     "name": "stdout",
     "output_type": "stream",
     "text": [
      "4/4 [==============================] - 0s 3ms/step\n",
      "-------------------------------------------------------------\n",
      " confusion_matrix for new data with deeper model \n",
      " [[ 0  0]\n",
      " [65 35]]\n",
      "only attack data -  (35, 42)\n",
      "final data  23 -  (722, 42)\n",
      "-------------------------------------------------------------\n",
      "4/4 [==============================] - 0s 4ms/step\n"
     ]
    },
    {
     "name": "stderr",
     "output_type": "stream",
     "text": [
      "/tmp/ipykernel_3245245/1638766432.py:38: FutureWarning: The frame.append method is deprecated and will be removed from pandas in a future version. Use pandas.concat instead.\n",
      "  final_Data = final_Data.append(data1, ignore_index = True)\n"
     ]
    },
    {
     "name": "stdout",
     "output_type": "stream",
     "text": [
      "-------------------------------------------------------------\n",
      " confusion_matrix for new data with deeper model \n",
      " [[ 0  0]\n",
      " [66 34]]\n",
      "only attack data -  (34, 42)\n",
      "final data  24 -  (756, 42)\n",
      "-------------------------------------------------------------\n",
      "4/4 [==============================] - 0s 2ms/step\n",
      "-------------------------------------------------------------\n",
      " confusion_matrix for new data with deeper model \n",
      " [[ 0  0]\n",
      " [69 31]]\n",
      "only attack data -  (31, 42)\n",
      "final data  25 -  (787, 42)\n",
      "-------------------------------------------------------------\n"
     ]
    },
    {
     "name": "stderr",
     "output_type": "stream",
     "text": [
      "/tmp/ipykernel_3245245/1638766432.py:38: FutureWarning: The frame.append method is deprecated and will be removed from pandas in a future version. Use pandas.concat instead.\n",
      "  final_Data = final_Data.append(data1, ignore_index = True)\n",
      "/tmp/ipykernel_3245245/1638766432.py:38: FutureWarning: The frame.append method is deprecated and will be removed from pandas in a future version. Use pandas.concat instead.\n",
      "  final_Data = final_Data.append(data1, ignore_index = True)\n"
     ]
    },
    {
     "name": "stdout",
     "output_type": "stream",
     "text": [
      "4/4 [==============================] - 0s 2ms/step\n",
      "-------------------------------------------------------------\n",
      " confusion_matrix for new data with deeper model \n",
      " [[ 0  0]\n",
      " [65 35]]\n",
      "only attack data -  (35, 42)\n",
      "final data  26 -  (822, 42)\n",
      "-------------------------------------------------------------\n",
      "4/4 [==============================] - 0s 3ms/step\n",
      "-------------------------------------------------------------\n",
      " confusion_matrix for new data with deeper model \n",
      " [[ 0  0]\n",
      " [64 36]]\n",
      "only attack data -  (36, 42)\n",
      "final data  27 -  (858, 42)\n",
      "-------------------------------------------------------------\n"
     ]
    },
    {
     "name": "stderr",
     "output_type": "stream",
     "text": [
      "/tmp/ipykernel_3245245/1638766432.py:38: FutureWarning: The frame.append method is deprecated and will be removed from pandas in a future version. Use pandas.concat instead.\n",
      "  final_Data = final_Data.append(data1, ignore_index = True)\n",
      "/tmp/ipykernel_3245245/1638766432.py:38: FutureWarning: The frame.append method is deprecated and will be removed from pandas in a future version. Use pandas.concat instead.\n",
      "  final_Data = final_Data.append(data1, ignore_index = True)\n"
     ]
    },
    {
     "name": "stdout",
     "output_type": "stream",
     "text": [
      "4/4 [==============================] - 0s 3ms/step\n",
      "-------------------------------------------------------------\n",
      " confusion_matrix for new data with deeper model \n",
      " [[ 0  0]\n",
      " [58 42]]\n",
      "only attack data -  (42, 42)\n",
      "final data  28 -  (900, 42)\n",
      "-------------------------------------------------------------\n",
      "4/4 [==============================] - 0s 3ms/step\n",
      "-------------------------------------------------------------\n",
      " confusion_matrix for new data with deeper model \n",
      " [[ 0  0]\n",
      " [71 29]]\n",
      "only attack data -  (29, 42)\n",
      "final data  29 -  (929, 42)\n",
      "-------------------------------------------------------------\n"
     ]
    },
    {
     "name": "stderr",
     "output_type": "stream",
     "text": [
      "/tmp/ipykernel_3245245/1638766432.py:38: FutureWarning: The frame.append method is deprecated and will be removed from pandas in a future version. Use pandas.concat instead.\n",
      "  final_Data = final_Data.append(data1, ignore_index = True)\n",
      "/tmp/ipykernel_3245245/1638766432.py:38: FutureWarning: The frame.append method is deprecated and will be removed from pandas in a future version. Use pandas.concat instead.\n",
      "  final_Data = final_Data.append(data1, ignore_index = True)\n"
     ]
    },
    {
     "name": "stdout",
     "output_type": "stream",
     "text": [
      "4/4 [==============================] - 0s 4ms/step\n",
      "-------------------------------------------------------------\n",
      " confusion_matrix for new data with deeper model \n",
      " [[ 0  0]\n",
      " [70 30]]\n",
      "only attack data -  (30, 42)\n",
      "final data  30 -  (959, 42)\n",
      "-------------------------------------------------------------\n",
      "4/4 [==============================] - 0s 3ms/step\n",
      "-------------------------------------------------------------\n",
      " confusion_matrix for new data with deeper model \n",
      " [[ 0  0]\n",
      " [72 28]]\n",
      "only attack data -  (28, 42)\n",
      "final data  31 -  (987, 42)\n",
      "-------------------------------------------------------------\n"
     ]
    },
    {
     "name": "stderr",
     "output_type": "stream",
     "text": [
      "/tmp/ipykernel_3245245/1638766432.py:38: FutureWarning: The frame.append method is deprecated and will be removed from pandas in a future version. Use pandas.concat instead.\n",
      "  final_Data = final_Data.append(data1, ignore_index = True)\n",
      "/tmp/ipykernel_3245245/1638766432.py:38: FutureWarning: The frame.append method is deprecated and will be removed from pandas in a future version. Use pandas.concat instead.\n",
      "  final_Data = final_Data.append(data1, ignore_index = True)\n"
     ]
    },
    {
     "name": "stdout",
     "output_type": "stream",
     "text": [
      "4/4 [==============================] - 0s 3ms/step\n",
      "-------------------------------------------------------------\n",
      " confusion_matrix for new data with deeper model \n",
      " [[ 0  0]\n",
      " [73 27]]\n",
      "only attack data -  (27, 42)\n",
      "final data  32 -  (1014, 42)\n",
      "-------------------------------------------------------------\n",
      "1/4 [======>.......................] - ETA: 0s"
     ]
    },
    {
     "name": "stderr",
     "output_type": "stream",
     "text": [
      "/tmp/ipykernel_3245245/1638766432.py:38: FutureWarning: The frame.append method is deprecated and will be removed from pandas in a future version. Use pandas.concat instead.\n",
      "  final_Data = final_Data.append(data1, ignore_index = True)\n"
     ]
    },
    {
     "name": "stdout",
     "output_type": "stream",
     "text": [
      "4/4 [==============================] - 0s 5ms/step\n",
      "-------------------------------------------------------------\n",
      " confusion_matrix for new data with deeper model \n",
      " [[ 0  0]\n",
      " [66 34]]\n",
      "only attack data -  (34, 42)\n",
      "final data  33 -  (1048, 42)\n",
      "-------------------------------------------------------------\n",
      "4/4 [==============================] - 0s 5ms/step\n",
      "-------------------------------------------------------------\n",
      " confusion_matrix for new data with deeper model \n",
      " [[ 0  0]\n",
      " [67 33]]\n",
      "only attack data -  (33, 42)\n"
     ]
    },
    {
     "name": "stderr",
     "output_type": "stream",
     "text": [
      "/tmp/ipykernel_3245245/1638766432.py:38: FutureWarning: The frame.append method is deprecated and will be removed from pandas in a future version. Use pandas.concat instead.\n",
      "  final_Data = final_Data.append(data1, ignore_index = True)\n",
      "/tmp/ipykernel_3245245/1638766432.py:38: FutureWarning: The frame.append method is deprecated and will be removed from pandas in a future version. Use pandas.concat instead.\n",
      "  final_Data = final_Data.append(data1, ignore_index = True)\n"
     ]
    },
    {
     "name": "stdout",
     "output_type": "stream",
     "text": [
      "final data  34 -  (1081, 42)\n",
      "-------------------------------------------------------------\n",
      "4/4 [==============================] - 0s 5ms/step\n",
      "-------------------------------------------------------------\n",
      " confusion_matrix for new data with deeper model \n",
      " [[ 0  0]\n",
      " [65 35]]\n",
      "only attack data -  (35, 42)\n",
      "final data  35 -  (1116, 42)\n",
      "-------------------------------------------------------------\n",
      "4/4 [==============================] - 0s 2ms/step\n",
      "-------------------------------------------------------------\n",
      " confusion_matrix for new data with deeper model \n",
      " [[ 0  0]\n",
      " [62 38]]\n",
      "only attack data -  (38, 42)\n",
      "final data  36 -  (1154, 42)\n",
      "-------------------------------------------------------------\n"
     ]
    },
    {
     "name": "stderr",
     "output_type": "stream",
     "text": [
      "/tmp/ipykernel_3245245/1638766432.py:38: FutureWarning: The frame.append method is deprecated and will be removed from pandas in a future version. Use pandas.concat instead.\n",
      "  final_Data = final_Data.append(data1, ignore_index = True)\n",
      "/tmp/ipykernel_3245245/1638766432.py:38: FutureWarning: The frame.append method is deprecated and will be removed from pandas in a future version. Use pandas.concat instead.\n",
      "  final_Data = final_Data.append(data1, ignore_index = True)\n"
     ]
    },
    {
     "name": "stdout",
     "output_type": "stream",
     "text": [
      "4/4 [==============================] - 0s 2ms/step\n",
      "-------------------------------------------------------------\n",
      " confusion_matrix for new data with deeper model \n",
      " [[ 0  0]\n",
      " [68 32]]\n",
      "only attack data -  (32, 42)\n",
      "final data  37 -  (1186, 42)\n",
      "-------------------------------------------------------------\n",
      "4/4 [==============================] - 0s 2ms/step\n",
      "-------------------------------------------------------------\n",
      " confusion_matrix for new data with deeper model \n",
      " [[ 0  0]\n",
      " [60 40]]\n",
      "only attack data -  (40, 42)\n",
      "final data  38 -  (1226, 42)\n",
      "-------------------------------------------------------------\n",
      "4/4 [==============================] - 0s 2ms/step\n"
     ]
    },
    {
     "name": "stderr",
     "output_type": "stream",
     "text": [
      "/tmp/ipykernel_3245245/1638766432.py:38: FutureWarning: The frame.append method is deprecated and will be removed from pandas in a future version. Use pandas.concat instead.\n",
      "  final_Data = final_Data.append(data1, ignore_index = True)\n",
      "/tmp/ipykernel_3245245/1638766432.py:38: FutureWarning: The frame.append method is deprecated and will be removed from pandas in a future version. Use pandas.concat instead.\n",
      "  final_Data = final_Data.append(data1, ignore_index = True)\n"
     ]
    },
    {
     "name": "stdout",
     "output_type": "stream",
     "text": [
      "-------------------------------------------------------------\n",
      " confusion_matrix for new data with deeper model \n",
      " [[ 0  0]\n",
      " [65 35]]\n",
      "only attack data -  (35, 42)\n",
      "final data  39 -  (1261, 42)\n",
      "-------------------------------------------------------------\n",
      "4/4 [==============================] - 0s 2ms/step\n",
      "-------------------------------------------------------------\n",
      " confusion_matrix for new data with deeper model \n",
      " [[ 0  0]\n",
      " [73 27]]\n",
      "only attack data -  (27, 42)\n",
      "final data  40 -  (1288, 42)\n",
      "-------------------------------------------------------------\n",
      "4/4 [==============================] - 0s 2ms/step\n"
     ]
    },
    {
     "name": "stderr",
     "output_type": "stream",
     "text": [
      "/tmp/ipykernel_3245245/1638766432.py:38: FutureWarning: The frame.append method is deprecated and will be removed from pandas in a future version. Use pandas.concat instead.\n",
      "  final_Data = final_Data.append(data1, ignore_index = True)\n",
      "/tmp/ipykernel_3245245/1638766432.py:38: FutureWarning: The frame.append method is deprecated and will be removed from pandas in a future version. Use pandas.concat instead.\n",
      "  final_Data = final_Data.append(data1, ignore_index = True)\n"
     ]
    },
    {
     "name": "stdout",
     "output_type": "stream",
     "text": [
      "-------------------------------------------------------------\n",
      " confusion_matrix for new data with deeper model \n",
      " [[ 0  0]\n",
      " [69 31]]\n",
      "only attack data -  (31, 42)\n",
      "final data  41 -  (1319, 42)\n",
      "-------------------------------------------------------------\n",
      "4/4 [==============================] - 0s 2ms/step\n",
      "-------------------------------------------------------------\n",
      " confusion_matrix for new data with deeper model \n",
      " [[ 0  0]\n",
      " [66 34]]\n",
      "only attack data -  (34, 42)\n",
      "final data  42 -  (1353, 42)\n",
      "-------------------------------------------------------------\n"
     ]
    },
    {
     "name": "stderr",
     "output_type": "stream",
     "text": [
      "/tmp/ipykernel_3245245/1638766432.py:38: FutureWarning: The frame.append method is deprecated and will be removed from pandas in a future version. Use pandas.concat instead.\n",
      "  final_Data = final_Data.append(data1, ignore_index = True)\n",
      "/tmp/ipykernel_3245245/1638766432.py:38: FutureWarning: The frame.append method is deprecated and will be removed from pandas in a future version. Use pandas.concat instead.\n",
      "  final_Data = final_Data.append(data1, ignore_index = True)\n"
     ]
    },
    {
     "name": "stdout",
     "output_type": "stream",
     "text": [
      "4/4 [==============================] - 0s 2ms/step\n",
      "-------------------------------------------------------------\n",
      " confusion_matrix for new data with deeper model \n",
      " [[ 0  0]\n",
      " [73 27]]\n",
      "only attack data -  (27, 42)\n",
      "final data  43 -  (1380, 42)\n",
      "-------------------------------------------------------------\n",
      "4/4 [==============================] - 0s 4ms/step\n",
      "-------------------------------------------------------------\n",
      " confusion_matrix for new data with deeper model \n",
      " [[ 0  0]\n",
      " [76 24]]\n",
      "only attack data -  (24, 42)\n",
      "final data  44 -  (1404, 42)\n",
      "-------------------------------------------------------------\n"
     ]
    },
    {
     "name": "stderr",
     "output_type": "stream",
     "text": [
      "/tmp/ipykernel_3245245/1638766432.py:38: FutureWarning: The frame.append method is deprecated and will be removed from pandas in a future version. Use pandas.concat instead.\n",
      "  final_Data = final_Data.append(data1, ignore_index = True)\n",
      "/tmp/ipykernel_3245245/1638766432.py:38: FutureWarning: The frame.append method is deprecated and will be removed from pandas in a future version. Use pandas.concat instead.\n",
      "  final_Data = final_Data.append(data1, ignore_index = True)\n"
     ]
    },
    {
     "name": "stdout",
     "output_type": "stream",
     "text": [
      "4/4 [==============================] - 0s 2ms/step\n",
      "-------------------------------------------------------------\n",
      " confusion_matrix for new data with deeper model \n",
      " [[ 0  0]\n",
      " [68 32]]\n",
      "only attack data -  (32, 42)\n",
      "final data  45 -  (1436, 42)\n",
      "-------------------------------------------------------------\n",
      "4/4 [==============================] - 0s 3ms/step\n",
      "-------------------------------------------------------------\n",
      " confusion_matrix for new data with deeper model \n",
      " [[ 0  0]\n",
      " [75 25]]\n",
      "only attack data -  (25, 42)\n",
      "final data  46 -  (1461, 42)\n",
      "-------------------------------------------------------------\n",
      "1/4 [======>.......................] - ETA: 0s"
     ]
    },
    {
     "name": "stderr",
     "output_type": "stream",
     "text": [
      "/tmp/ipykernel_3245245/1638766432.py:38: FutureWarning: The frame.append method is deprecated and will be removed from pandas in a future version. Use pandas.concat instead.\n",
      "  final_Data = final_Data.append(data1, ignore_index = True)\n",
      "/tmp/ipykernel_3245245/1638766432.py:38: FutureWarning: The frame.append method is deprecated and will be removed from pandas in a future version. Use pandas.concat instead.\n",
      "  final_Data = final_Data.append(data1, ignore_index = True)\n"
     ]
    },
    {
     "name": "stdout",
     "output_type": "stream",
     "text": [
      "4/4 [==============================] - 0s 2ms/step\n",
      "-------------------------------------------------------------\n",
      " confusion_matrix for new data with deeper model \n",
      " [[ 0  0]\n",
      " [69 31]]\n",
      "only attack data -  (31, 42)\n",
      "final data  47 -  (1492, 42)\n",
      "-------------------------------------------------------------\n",
      "4/4 [==============================] - 0s 2ms/step\n",
      "-------------------------------------------------------------\n",
      " confusion_matrix for new data with deeper model \n",
      " [[ 0  0]\n",
      " [66 34]]\n",
      "only attack data -  (34, 42)\n",
      "final data  48 -  (1526, 42)\n",
      "-------------------------------------------------------------\n"
     ]
    },
    {
     "name": "stderr",
     "output_type": "stream",
     "text": [
      "/tmp/ipykernel_3245245/1638766432.py:38: FutureWarning: The frame.append method is deprecated and will be removed from pandas in a future version. Use pandas.concat instead.\n",
      "  final_Data = final_Data.append(data1, ignore_index = True)\n",
      "/tmp/ipykernel_3245245/1638766432.py:38: FutureWarning: The frame.append method is deprecated and will be removed from pandas in a future version. Use pandas.concat instead.\n",
      "  final_Data = final_Data.append(data1, ignore_index = True)\n"
     ]
    },
    {
     "name": "stdout",
     "output_type": "stream",
     "text": [
      "4/4 [==============================] - 0s 3ms/step\n",
      "-------------------------------------------------------------\n",
      " confusion_matrix for new data with deeper model \n",
      " [[ 0  0]\n",
      " [68 32]]\n",
      "only attack data -  (32, 42)\n",
      "final data  49 -  (1558, 42)\n",
      "-------------------------------------------------------------\n",
      "4/4 [==============================] - 0s 3ms/step\n",
      "-------------------------------------------------------------\n",
      " confusion_matrix for new data with deeper model \n",
      " [[ 0  0]\n",
      " [70 30]]\n",
      "only attack data -  (30, 42)\n",
      "final data  50 -  (1588, 42)\n",
      "-------------------------------------------------------------\n"
     ]
    },
    {
     "name": "stderr",
     "output_type": "stream",
     "text": [
      "/tmp/ipykernel_3245245/1638766432.py:38: FutureWarning: The frame.append method is deprecated and will be removed from pandas in a future version. Use pandas.concat instead.\n",
      "  final_Data = final_Data.append(data1, ignore_index = True)\n",
      "/tmp/ipykernel_3245245/1638766432.py:38: FutureWarning: The frame.append method is deprecated and will be removed from pandas in a future version. Use pandas.concat instead.\n",
      "  final_Data = final_Data.append(data1, ignore_index = True)\n"
     ]
    },
    {
     "name": "stdout",
     "output_type": "stream",
     "text": [
      "4/4 [==============================] - 0s 4ms/step\n",
      "-------------------------------------------------------------\n",
      " confusion_matrix for new data with deeper model \n",
      " [[ 0  0]\n",
      " [65 35]]\n",
      "only attack data -  (35, 42)\n",
      "final data  51 -  (1623, 42)\n",
      "-------------------------------------------------------------\n",
      "4/4 [==============================] - 0s 3ms/step\n",
      "-------------------------------------------------------------\n",
      " confusion_matrix for new data with deeper model \n",
      " [[ 0  0]\n",
      " [72 28]]\n",
      "only attack data -  (28, 42)\n",
      "final data  52 -  (1651, 42)\n",
      "-------------------------------------------------------------\n"
     ]
    },
    {
     "name": "stderr",
     "output_type": "stream",
     "text": [
      "/tmp/ipykernel_3245245/1638766432.py:38: FutureWarning: The frame.append method is deprecated and will be removed from pandas in a future version. Use pandas.concat instead.\n",
      "  final_Data = final_Data.append(data1, ignore_index = True)\n",
      "/tmp/ipykernel_3245245/1638766432.py:38: FutureWarning: The frame.append method is deprecated and will be removed from pandas in a future version. Use pandas.concat instead.\n",
      "  final_Data = final_Data.append(data1, ignore_index = True)\n"
     ]
    },
    {
     "name": "stdout",
     "output_type": "stream",
     "text": [
      "4/4 [==============================] - 0s 7ms/step\n",
      "-------------------------------------------------------------\n",
      " confusion_matrix for new data with deeper model \n",
      " [[ 0  0]\n",
      " [67 33]]\n",
      "only attack data -  (33, 42)\n",
      "final data  53 -  (1684, 42)\n",
      "-------------------------------------------------------------\n",
      "4/4 [==============================] - 0s 3ms/step\n",
      "-------------------------------------------------------------\n",
      " confusion_matrix for new data with deeper model \n",
      " [[ 0  0]\n",
      " [65 35]]\n",
      "only attack data -  (35, 42)\n"
     ]
    },
    {
     "name": "stderr",
     "output_type": "stream",
     "text": [
      "/tmp/ipykernel_3245245/1638766432.py:38: FutureWarning: The frame.append method is deprecated and will be removed from pandas in a future version. Use pandas.concat instead.\n",
      "  final_Data = final_Data.append(data1, ignore_index = True)\n",
      "/tmp/ipykernel_3245245/1638766432.py:38: FutureWarning: The frame.append method is deprecated and will be removed from pandas in a future version. Use pandas.concat instead.\n",
      "  final_Data = final_Data.append(data1, ignore_index = True)\n"
     ]
    },
    {
     "name": "stdout",
     "output_type": "stream",
     "text": [
      "final data  54 -  (1719, 42)\n",
      "-------------------------------------------------------------\n",
      "4/4 [==============================] - 0s 3ms/step\n",
      "-------------------------------------------------------------\n",
      " confusion_matrix for new data with deeper model \n",
      " [[ 0  0]\n",
      " [66 34]]\n",
      "only attack data -  (34, 42)\n",
      "final data  55 -  (1753, 42)\n",
      "-------------------------------------------------------------\n",
      "4/4 [==============================] - 0s 3ms/step\n",
      "-------------------------------------------------------------\n",
      " confusion_matrix for new data with deeper model \n",
      " [[ 0  0]\n",
      " [69 31]]\n",
      "only attack data -  (31, 42)\n",
      "final data  56 -  (1784, 42)\n",
      "-------------------------------------------------------------\n"
     ]
    },
    {
     "name": "stderr",
     "output_type": "stream",
     "text": [
      "/tmp/ipykernel_3245245/1638766432.py:38: FutureWarning: The frame.append method is deprecated and will be removed from pandas in a future version. Use pandas.concat instead.\n",
      "  final_Data = final_Data.append(data1, ignore_index = True)\n",
      "/tmp/ipykernel_3245245/1638766432.py:38: FutureWarning: The frame.append method is deprecated and will be removed from pandas in a future version. Use pandas.concat instead.\n",
      "  final_Data = final_Data.append(data1, ignore_index = True)\n"
     ]
    },
    {
     "name": "stdout",
     "output_type": "stream",
     "text": [
      "4/4 [==============================] - 0s 3ms/step\n",
      "-------------------------------------------------------------\n",
      " confusion_matrix for new data with deeper model \n",
      " [[ 0  0]\n",
      " [71 29]]\n",
      "only attack data -  (29, 42)\n",
      "final data  57 -  (1813, 42)\n",
      "-------------------------------------------------------------\n",
      "4/4 [==============================] - 0s 2ms/step\n",
      "-------------------------------------------------------------\n",
      " confusion_matrix for new data with deeper model \n",
      " [[ 0  0]\n",
      " [58 42]]\n",
      "only attack data -  (42, 42)\n",
      "final data  58 -  (1855, 42)\n",
      "-------------------------------------------------------------\n"
     ]
    },
    {
     "name": "stderr",
     "output_type": "stream",
     "text": [
      "/tmp/ipykernel_3245245/1638766432.py:38: FutureWarning: The frame.append method is deprecated and will be removed from pandas in a future version. Use pandas.concat instead.\n",
      "  final_Data = final_Data.append(data1, ignore_index = True)\n",
      "/tmp/ipykernel_3245245/1638766432.py:38: FutureWarning: The frame.append method is deprecated and will be removed from pandas in a future version. Use pandas.concat instead.\n",
      "  final_Data = final_Data.append(data1, ignore_index = True)\n"
     ]
    },
    {
     "name": "stdout",
     "output_type": "stream",
     "text": [
      "4/4 [==============================] - 0s 2ms/step\n",
      "-------------------------------------------------------------\n",
      " confusion_matrix for new data with deeper model \n",
      " [[ 0  0]\n",
      " [50 50]]\n",
      "only attack data -  (50, 42)\n",
      "final data  59 -  (1905, 42)\n",
      "-------------------------------------------------------------\n",
      "4/4 [==============================] - 0s 2ms/step\n",
      "-------------------------------------------------------------\n",
      " confusion_matrix for new data with deeper model \n",
      " [[ 0  0]\n",
      " [60 40]]\n",
      "only attack data -  (40, 42)\n",
      "final data  60 -  (1945, 42)\n",
      "-------------------------------------------------------------\n",
      "4/4 [==============================] - 0s 2ms/step\n"
     ]
    },
    {
     "name": "stderr",
     "output_type": "stream",
     "text": [
      "/tmp/ipykernel_3245245/1638766432.py:38: FutureWarning: The frame.append method is deprecated and will be removed from pandas in a future version. Use pandas.concat instead.\n",
      "  final_Data = final_Data.append(data1, ignore_index = True)\n",
      "/tmp/ipykernel_3245245/1638766432.py:38: FutureWarning: The frame.append method is deprecated and will be removed from pandas in a future version. Use pandas.concat instead.\n",
      "  final_Data = final_Data.append(data1, ignore_index = True)\n"
     ]
    },
    {
     "name": "stdout",
     "output_type": "stream",
     "text": [
      "-------------------------------------------------------------\n",
      " confusion_matrix for new data with deeper model \n",
      " [[ 0  0]\n",
      " [60 40]]\n",
      "only attack data -  (40, 42)\n",
      "final data  61 -  (1985, 42)\n",
      "-------------------------------------------------------------\n",
      "4/4 [==============================] - 0s 3ms/step\n",
      "-------------------------------------------------------------\n",
      " confusion_matrix for new data with deeper model \n",
      " [[ 0  0]\n",
      " [66 34]]\n",
      "only attack data -  (34, 42)\n",
      "final data  62 -  (2019, 42)\n",
      "-------------------------------------------------------------\n"
     ]
    },
    {
     "name": "stderr",
     "output_type": "stream",
     "text": [
      "/tmp/ipykernel_3245245/1638766432.py:38: FutureWarning: The frame.append method is deprecated and will be removed from pandas in a future version. Use pandas.concat instead.\n",
      "  final_Data = final_Data.append(data1, ignore_index = True)\n",
      "/tmp/ipykernel_3245245/1638766432.py:38: FutureWarning: The frame.append method is deprecated and will be removed from pandas in a future version. Use pandas.concat instead.\n",
      "  final_Data = final_Data.append(data1, ignore_index = True)\n"
     ]
    },
    {
     "name": "stdout",
     "output_type": "stream",
     "text": [
      "4/4 [==============================] - 0s 4ms/step\n",
      "-------------------------------------------------------------\n",
      " confusion_matrix for new data with deeper model \n",
      " [[ 0  0]\n",
      " [67 33]]\n",
      "only attack data -  (33, 42)\n",
      "final data  63 -  (2052, 42)\n",
      "-------------------------------------------------------------\n",
      "4/4 [==============================] - 0s 3ms/step\n",
      "-------------------------------------------------------------\n",
      " confusion_matrix for new data with deeper model \n",
      " [[ 0  0]\n",
      " [73 27]]\n",
      "only attack data -  (27, 42)\n",
      "final data  64 -  (2079, 42)\n",
      "-------------------------------------------------------------\n"
     ]
    },
    {
     "name": "stderr",
     "output_type": "stream",
     "text": [
      "/tmp/ipykernel_3245245/1638766432.py:38: FutureWarning: The frame.append method is deprecated and will be removed from pandas in a future version. Use pandas.concat instead.\n",
      "  final_Data = final_Data.append(data1, ignore_index = True)\n",
      "/tmp/ipykernel_3245245/1638766432.py:38: FutureWarning: The frame.append method is deprecated and will be removed from pandas in a future version. Use pandas.concat instead.\n",
      "  final_Data = final_Data.append(data1, ignore_index = True)\n"
     ]
    },
    {
     "name": "stdout",
     "output_type": "stream",
     "text": [
      "4/4 [==============================] - 0s 3ms/step\n",
      "-------------------------------------------------------------\n",
      " confusion_matrix for new data with deeper model \n",
      " [[ 0  0]\n",
      " [69 31]]\n",
      "only attack data -  (31, 42)\n",
      "final data  65 -  (2110, 42)\n",
      "-------------------------------------------------------------\n",
      "4/4 [==============================] - 0s 2ms/step\n",
      "-------------------------------------------------------------\n",
      " confusion_matrix for new data with deeper model \n",
      " [[ 0  0]\n",
      " [65 35]]\n",
      "only attack data -  (35, 42)\n",
      "final data  66 -  (2145, 42)\n",
      "-------------------------------------------------------------\n",
      "4/4 [==============================] - 0s 2ms/step\n",
      "-------------------------------------------------------------\n",
      " confusion_matrix for new data with deeper model \n",
      " [[ 0  0]\n",
      " [69 31]]\n",
      "only attack data -  (31, 42)\n",
      "final data  67 -  (2176, 42)\n",
      "-------------------------------------------------------------\n"
     ]
    },
    {
     "name": "stderr",
     "output_type": "stream",
     "text": [
      "/tmp/ipykernel_3245245/1638766432.py:38: FutureWarning: The frame.append method is deprecated and will be removed from pandas in a future version. Use pandas.concat instead.\n",
      "  final_Data = final_Data.append(data1, ignore_index = True)\n",
      "/tmp/ipykernel_3245245/1638766432.py:38: FutureWarning: The frame.append method is deprecated and will be removed from pandas in a future version. Use pandas.concat instead.\n",
      "  final_Data = final_Data.append(data1, ignore_index = True)\n",
      "/tmp/ipykernel_3245245/1638766432.py:38: FutureWarning: The frame.append method is deprecated and will be removed from pandas in a future version. Use pandas.concat instead.\n",
      "  final_Data = final_Data.append(data1, ignore_index = True)\n"
     ]
    },
    {
     "name": "stdout",
     "output_type": "stream",
     "text": [
      "4/4 [==============================] - 0s 2ms/step\n",
      "-------------------------------------------------------------\n",
      " confusion_matrix for new data with deeper model \n",
      " [[ 0  0]\n",
      " [65 35]]\n",
      "only attack data -  (35, 42)\n",
      "final data  68 -  (2211, 42)\n",
      "-------------------------------------------------------------\n",
      "4/4 [==============================] - 0s 2ms/step\n",
      "-------------------------------------------------------------\n",
      " confusion_matrix for new data with deeper model \n",
      " [[ 0  0]\n",
      " [72 28]]\n",
      "only attack data -  (28, 42)\n",
      "final data  69 -  (2239, 42)\n",
      "-------------------------------------------------------------\n",
      "4/4 [==============================] - 0s 2ms/step\n",
      "-------------------------------------------------------------\n",
      " confusion_matrix for new data with deeper model \n",
      " [[ 0  0]\n",
      " [63 37]]\n",
      "only attack data -  (37, 42)\n",
      "final data  70 -  (2276, 42)\n",
      "-------------------------------------------------------------\n"
     ]
    },
    {
     "name": "stderr",
     "output_type": "stream",
     "text": [
      "/tmp/ipykernel_3245245/1638766432.py:38: FutureWarning: The frame.append method is deprecated and will be removed from pandas in a future version. Use pandas.concat instead.\n",
      "  final_Data = final_Data.append(data1, ignore_index = True)\n",
      "/tmp/ipykernel_3245245/1638766432.py:38: FutureWarning: The frame.append method is deprecated and will be removed from pandas in a future version. Use pandas.concat instead.\n",
      "  final_Data = final_Data.append(data1, ignore_index = True)\n",
      "/tmp/ipykernel_3245245/1638766432.py:38: FutureWarning: The frame.append method is deprecated and will be removed from pandas in a future version. Use pandas.concat instead.\n",
      "  final_Data = final_Data.append(data1, ignore_index = True)\n"
     ]
    },
    {
     "name": "stdout",
     "output_type": "stream",
     "text": [
      "4/4 [==============================] - 0s 2ms/step\n",
      "-------------------------------------------------------------\n",
      " confusion_matrix for new data with deeper model \n",
      " [[ 0  0]\n",
      " [67 33]]\n",
      "only attack data -  (33, 42)\n",
      "final data  71 -  (2309, 42)\n",
      "-------------------------------------------------------------\n",
      "4/4 [==============================] - 0s 2ms/step\n",
      "-------------------------------------------------------------\n",
      " confusion_matrix for new data with deeper model \n",
      " [[ 0  0]\n",
      " [64 36]]\n",
      "only attack data -  (36, 42)\n",
      "final data  72 -  (2345, 42)\n",
      "-------------------------------------------------------------\n"
     ]
    },
    {
     "name": "stderr",
     "output_type": "stream",
     "text": [
      "/tmp/ipykernel_3245245/1638766432.py:38: FutureWarning: The frame.append method is deprecated and will be removed from pandas in a future version. Use pandas.concat instead.\n",
      "  final_Data = final_Data.append(data1, ignore_index = True)\n",
      "/tmp/ipykernel_3245245/1638766432.py:38: FutureWarning: The frame.append method is deprecated and will be removed from pandas in a future version. Use pandas.concat instead.\n",
      "  final_Data = final_Data.append(data1, ignore_index = True)\n"
     ]
    },
    {
     "name": "stdout",
     "output_type": "stream",
     "text": [
      "4/4 [==============================] - 0s 3ms/step\n",
      "-------------------------------------------------------------\n",
      " confusion_matrix for new data with deeper model \n",
      " [[ 0  0]\n",
      " [72 28]]\n",
      "only attack data -  (28, 42)\n",
      "final data  73 -  (2373, 42)\n",
      "-------------------------------------------------------------\n",
      "4/4 [==============================] - 0s 3ms/step\n",
      "-------------------------------------------------------------\n",
      " confusion_matrix for new data with deeper model \n",
      " [[ 0  0]\n",
      " [69 31]]\n",
      "only attack data -  (31, 42)\n",
      "final data  74 -  (2404, 42)\n",
      "-------------------------------------------------------------\n"
     ]
    },
    {
     "name": "stderr",
     "output_type": "stream",
     "text": [
      "/tmp/ipykernel_3245245/1638766432.py:38: FutureWarning: The frame.append method is deprecated and will be removed from pandas in a future version. Use pandas.concat instead.\n",
      "  final_Data = final_Data.append(data1, ignore_index = True)\n",
      "/tmp/ipykernel_3245245/1638766432.py:38: FutureWarning: The frame.append method is deprecated and will be removed from pandas in a future version. Use pandas.concat instead.\n",
      "  final_Data = final_Data.append(data1, ignore_index = True)\n"
     ]
    },
    {
     "name": "stdout",
     "output_type": "stream",
     "text": [
      "4/4 [==============================] - 0s 2ms/step\n",
      "-------------------------------------------------------------\n",
      " confusion_matrix for new data with deeper model \n",
      " [[ 0  0]\n",
      " [71 29]]\n",
      "only attack data -  (29, 42)\n",
      "final data  75 -  (2433, 42)\n",
      "-------------------------------------------------------------\n",
      "4/4 [==============================] - 0s 3ms/step\n",
      "-------------------------------------------------------------\n",
      " confusion_matrix for new data with deeper model \n",
      " [[ 0  0]\n",
      " [62 38]]\n",
      "only attack data -  (38, 42)\n",
      "final data  76 -  (2471, 42)\n",
      "-------------------------------------------------------------\n"
     ]
    },
    {
     "name": "stderr",
     "output_type": "stream",
     "text": [
      "/tmp/ipykernel_3245245/1638766432.py:38: FutureWarning: The frame.append method is deprecated and will be removed from pandas in a future version. Use pandas.concat instead.\n",
      "  final_Data = final_Data.append(data1, ignore_index = True)\n",
      "/tmp/ipykernel_3245245/1638766432.py:38: FutureWarning: The frame.append method is deprecated and will be removed from pandas in a future version. Use pandas.concat instead.\n",
      "  final_Data = final_Data.append(data1, ignore_index = True)\n"
     ]
    },
    {
     "name": "stdout",
     "output_type": "stream",
     "text": [
      "4/4 [==============================] - 0s 3ms/step\n",
      "-------------------------------------------------------------\n",
      " confusion_matrix for new data with deeper model \n",
      " [[ 0  0]\n",
      " [67 33]]\n",
      "only attack data -  (33, 42)\n",
      "final data  77 -  (2504, 42)\n",
      "-------------------------------------------------------------\n",
      "4/4 [==============================] - 0s 3ms/step\n",
      "-------------------------------------------------------------\n",
      " confusion_matrix for new data with deeper model \n",
      " [[ 0  0]\n",
      " [71 29]]\n",
      "only attack data -  (29, 42)\n"
     ]
    },
    {
     "name": "stderr",
     "output_type": "stream",
     "text": [
      "/tmp/ipykernel_3245245/1638766432.py:38: FutureWarning: The frame.append method is deprecated and will be removed from pandas in a future version. Use pandas.concat instead.\n",
      "  final_Data = final_Data.append(data1, ignore_index = True)\n",
      "/tmp/ipykernel_3245245/1638766432.py:38: FutureWarning: The frame.append method is deprecated and will be removed from pandas in a future version. Use pandas.concat instead.\n",
      "  final_Data = final_Data.append(data1, ignore_index = True)\n"
     ]
    },
    {
     "name": "stdout",
     "output_type": "stream",
     "text": [
      "final data  78 -  (2533, 42)\n",
      "-------------------------------------------------------------\n",
      "4/4 [==============================] - 0s 3ms/step\n",
      "-------------------------------------------------------------\n",
      " confusion_matrix for new data with deeper model \n",
      " [[ 0  0]\n",
      " [71 29]]\n",
      "only attack data -  (29, 42)\n",
      "final data  79 -  (2562, 42)\n",
      "-------------------------------------------------------------\n",
      "4/4 [==============================] - 0s 3ms/step\n",
      "-------------------------------------------------------------\n",
      " confusion_matrix for new data with deeper model \n",
      " [[ 0  0]\n",
      " [65 35]]\n",
      "only attack data -  (35, 42)\n",
      "final data  80 -  (2597, 42)\n",
      "-------------------------------------------------------------\n"
     ]
    },
    {
     "name": "stderr",
     "output_type": "stream",
     "text": [
      "/tmp/ipykernel_3245245/1638766432.py:38: FutureWarning: The frame.append method is deprecated and will be removed from pandas in a future version. Use pandas.concat instead.\n",
      "  final_Data = final_Data.append(data1, ignore_index = True)\n",
      "/tmp/ipykernel_3245245/1638766432.py:38: FutureWarning: The frame.append method is deprecated and will be removed from pandas in a future version. Use pandas.concat instead.\n",
      "  final_Data = final_Data.append(data1, ignore_index = True)\n"
     ]
    },
    {
     "name": "stdout",
     "output_type": "stream",
     "text": [
      "4/4 [==============================] - 0s 3ms/step\n",
      "-------------------------------------------------------------\n",
      " confusion_matrix for new data with deeper model \n",
      " [[ 0  0]\n",
      " [61 39]]\n",
      "only attack data -  (39, 42)\n",
      "final data  81 -  (2636, 42)\n",
      "-------------------------------------------------------------\n",
      "4/4 [==============================] - 0s 3ms/step\n",
      "-------------------------------------------------------------\n",
      " confusion_matrix for new data with deeper model \n",
      " [[ 0  0]\n",
      " [66 34]]\n",
      "only attack data -  (34, 42)\n",
      "final data  82 -  (2670, 42)\n",
      "-------------------------------------------------------------\n"
     ]
    },
    {
     "name": "stderr",
     "output_type": "stream",
     "text": [
      "/tmp/ipykernel_3245245/1638766432.py:38: FutureWarning: The frame.append method is deprecated and will be removed from pandas in a future version. Use pandas.concat instead.\n",
      "  final_Data = final_Data.append(data1, ignore_index = True)\n",
      "/tmp/ipykernel_3245245/1638766432.py:38: FutureWarning: The frame.append method is deprecated and will be removed from pandas in a future version. Use pandas.concat instead.\n",
      "  final_Data = final_Data.append(data1, ignore_index = True)\n"
     ]
    },
    {
     "name": "stdout",
     "output_type": "stream",
     "text": [
      "4/4 [==============================] - 0s 2ms/step\n",
      "-------------------------------------------------------------\n",
      " confusion_matrix for new data with deeper model \n",
      " [[ 0  0]\n",
      " [67 33]]\n",
      "only attack data -  (33, 42)\n",
      "final data  83 -  (2703, 42)\n",
      "-------------------------------------------------------------\n",
      "4/4 [==============================] - 0s 3ms/step\n",
      "-------------------------------------------------------------\n",
      " confusion_matrix for new data with deeper model \n",
      " [[ 0  0]\n",
      " [63 37]]\n",
      "only attack data -  (37, 42)\n",
      "final data  84 -  (2740, 42)\n",
      "-------------------------------------------------------------\n"
     ]
    },
    {
     "name": "stderr",
     "output_type": "stream",
     "text": [
      "/tmp/ipykernel_3245245/1638766432.py:38: FutureWarning: The frame.append method is deprecated and will be removed from pandas in a future version. Use pandas.concat instead.\n",
      "  final_Data = final_Data.append(data1, ignore_index = True)\n",
      "/tmp/ipykernel_3245245/1638766432.py:38: FutureWarning: The frame.append method is deprecated and will be removed from pandas in a future version. Use pandas.concat instead.\n",
      "  final_Data = final_Data.append(data1, ignore_index = True)\n"
     ]
    },
    {
     "name": "stdout",
     "output_type": "stream",
     "text": [
      "4/4 [==============================] - 0s 2ms/step\n",
      "-------------------------------------------------------------\n",
      " confusion_matrix for new data with deeper model \n",
      " [[ 0  0]\n",
      " [63 37]]\n",
      "only attack data -  (37, 42)\n",
      "final data  85 -  (2777, 42)\n",
      "-------------------------------------------------------------\n",
      "4/4 [==============================] - 0s 3ms/step\n",
      "-------------------------------------------------------------\n",
      " confusion_matrix for new data with deeper model \n",
      " [[ 0  0]\n",
      " [66 34]]\n",
      "only attack data -  (34, 42)\n",
      "final data  86 -  (2811, 42)\n",
      "-------------------------------------------------------------\n"
     ]
    },
    {
     "name": "stderr",
     "output_type": "stream",
     "text": [
      "/tmp/ipykernel_3245245/1638766432.py:38: FutureWarning: The frame.append method is deprecated and will be removed from pandas in a future version. Use pandas.concat instead.\n",
      "  final_Data = final_Data.append(data1, ignore_index = True)\n",
      "/tmp/ipykernel_3245245/1638766432.py:38: FutureWarning: The frame.append method is deprecated and will be removed from pandas in a future version. Use pandas.concat instead.\n",
      "  final_Data = final_Data.append(data1, ignore_index = True)\n"
     ]
    },
    {
     "name": "stdout",
     "output_type": "stream",
     "text": [
      "4/4 [==============================] - 0s 3ms/step\n",
      "-------------------------------------------------------------\n",
      " confusion_matrix for new data with deeper model \n",
      " [[ 0  0]\n",
      " [69 31]]\n",
      "only attack data -  (31, 42)\n",
      "final data  87 -  (2842, 42)\n",
      "-------------------------------------------------------------\n",
      "4/4 [==============================] - 0s 2ms/step\n",
      "-------------------------------------------------------------\n",
      " confusion_matrix for new data with deeper model \n",
      " [[ 0  0]\n",
      " [70 30]]\n",
      "only attack data -  (30, 42)\n",
      "final data  88 -  (2872, 42)\n",
      "-------------------------------------------------------------\n"
     ]
    },
    {
     "name": "stderr",
     "output_type": "stream",
     "text": [
      "/tmp/ipykernel_3245245/1638766432.py:38: FutureWarning: The frame.append method is deprecated and will be removed from pandas in a future version. Use pandas.concat instead.\n",
      "  final_Data = final_Data.append(data1, ignore_index = True)\n",
      "/tmp/ipykernel_3245245/1638766432.py:38: FutureWarning: The frame.append method is deprecated and will be removed from pandas in a future version. Use pandas.concat instead.\n",
      "  final_Data = final_Data.append(data1, ignore_index = True)\n"
     ]
    },
    {
     "name": "stdout",
     "output_type": "stream",
     "text": [
      "4/4 [==============================] - 0s 4ms/step\n",
      "-------------------------------------------------------------\n",
      " confusion_matrix for new data with deeper model \n",
      " [[ 0  0]\n",
      " [70 30]]\n",
      "only attack data -  (30, 42)\n",
      "final data  89 -  (2902, 42)\n",
      "-------------------------------------------------------------\n",
      "4/4 [==============================] - 0s 4ms/step\n",
      "-------------------------------------------------------------\n",
      " confusion_matrix for new data with deeper model \n",
      " [[ 0  0]\n",
      " [56 44]]\n",
      "only attack data -  (44, 42)\n",
      "final data  90 -  (2946, 42)\n",
      "-------------------------------------------------------------\n"
     ]
    },
    {
     "name": "stderr",
     "output_type": "stream",
     "text": [
      "/tmp/ipykernel_3245245/1638766432.py:38: FutureWarning: The frame.append method is deprecated and will be removed from pandas in a future version. Use pandas.concat instead.\n",
      "  final_Data = final_Data.append(data1, ignore_index = True)\n",
      "/tmp/ipykernel_3245245/1638766432.py:38: FutureWarning: The frame.append method is deprecated and will be removed from pandas in a future version. Use pandas.concat instead.\n",
      "  final_Data = final_Data.append(data1, ignore_index = True)\n"
     ]
    },
    {
     "name": "stdout",
     "output_type": "stream",
     "text": [
      "4/4 [==============================] - 0s 3ms/step\n",
      "-------------------------------------------------------------\n",
      " confusion_matrix for new data with deeper model \n",
      " [[ 0  0]\n",
      " [66 34]]\n",
      "only attack data -  (34, 42)\n",
      "final data  91 -  (2980, 42)\n",
      "-------------------------------------------------------------\n",
      "4/4 [==============================] - 0s 3ms/step\n",
      "-------------------------------------------------------------\n",
      " confusion_matrix for new data with deeper model \n",
      " [[ 0  0]\n",
      " [63 37]]\n",
      "only attack data -  (37, 42)\n",
      "final data  92 -  (3017, 42)\n",
      "-------------------------------------------------------------\n"
     ]
    },
    {
     "name": "stderr",
     "output_type": "stream",
     "text": [
      "/tmp/ipykernel_3245245/1638766432.py:38: FutureWarning: The frame.append method is deprecated and will be removed from pandas in a future version. Use pandas.concat instead.\n",
      "  final_Data = final_Data.append(data1, ignore_index = True)\n",
      "/tmp/ipykernel_3245245/1638766432.py:38: FutureWarning: The frame.append method is deprecated and will be removed from pandas in a future version. Use pandas.concat instead.\n",
      "  final_Data = final_Data.append(data1, ignore_index = True)\n"
     ]
    },
    {
     "name": "stdout",
     "output_type": "stream",
     "text": [
      "4/4 [==============================] - 0s 3ms/step\n",
      "-------------------------------------------------------------\n",
      " confusion_matrix for new data with deeper model \n",
      " [[ 0  0]\n",
      " [65 35]]\n",
      "only attack data -  (35, 42)\n",
      "final data  93 -  (3052, 42)\n",
      "-------------------------------------------------------------\n",
      "4/4 [==============================] - 0s 3ms/step\n",
      "-------------------------------------------------------------\n",
      " confusion_matrix for new data with deeper model \n",
      " [[ 0  0]\n",
      " [68 32]]\n",
      "only attack data -  (32, 42)\n",
      "final data  94 -  (3084, 42)\n",
      "-------------------------------------------------------------\n"
     ]
    },
    {
     "name": "stderr",
     "output_type": "stream",
     "text": [
      "/tmp/ipykernel_3245245/1638766432.py:38: FutureWarning: The frame.append method is deprecated and will be removed from pandas in a future version. Use pandas.concat instead.\n",
      "  final_Data = final_Data.append(data1, ignore_index = True)\n",
      "/tmp/ipykernel_3245245/1638766432.py:38: FutureWarning: The frame.append method is deprecated and will be removed from pandas in a future version. Use pandas.concat instead.\n",
      "  final_Data = final_Data.append(data1, ignore_index = True)\n"
     ]
    },
    {
     "name": "stdout",
     "output_type": "stream",
     "text": [
      "4/4 [==============================] - 0s 2ms/step\n",
      "-------------------------------------------------------------\n",
      " confusion_matrix for new data with deeper model \n",
      " [[ 0  0]\n",
      " [74 26]]\n",
      "only attack data -  (26, 42)\n",
      "final data  95 -  (3110, 42)\n",
      "-------------------------------------------------------------\n",
      "4/4 [==============================] - 0s 3ms/step\n",
      "-------------------------------------------------------------\n",
      " confusion_matrix for new data with deeper model \n",
      " [[ 0  0]\n",
      " [63 37]]\n",
      "only attack data -  (37, 42)\n",
      "final data  96 -  (3147, 42)\n",
      "-------------------------------------------------------------\n"
     ]
    },
    {
     "name": "stderr",
     "output_type": "stream",
     "text": [
      "/tmp/ipykernel_3245245/1638766432.py:38: FutureWarning: The frame.append method is deprecated and will be removed from pandas in a future version. Use pandas.concat instead.\n",
      "  final_Data = final_Data.append(data1, ignore_index = True)\n",
      "/tmp/ipykernel_3245245/1638766432.py:38: FutureWarning: The frame.append method is deprecated and will be removed from pandas in a future version. Use pandas.concat instead.\n",
      "  final_Data = final_Data.append(data1, ignore_index = True)\n"
     ]
    },
    {
     "name": "stdout",
     "output_type": "stream",
     "text": [
      "4/4 [==============================] - 0s 3ms/step\n",
      "-------------------------------------------------------------\n",
      " confusion_matrix for new data with deeper model \n",
      " [[ 0  0]\n",
      " [65 35]]\n",
      "only attack data -  (35, 42)\n",
      "final data  97 -  (3182, 42)\n",
      "-------------------------------------------------------------\n",
      "4/4 [==============================] - 0s 3ms/step\n",
      "-------------------------------------------------------------\n",
      " confusion_matrix for new data with deeper model \n",
      " [[ 0  0]\n",
      " [64 36]]\n",
      "only attack data -  (36, 42)\n",
      "final data  98 -  (3218, 42)\n",
      "-------------------------------------------------------------\n"
     ]
    },
    {
     "name": "stderr",
     "output_type": "stream",
     "text": [
      "/tmp/ipykernel_3245245/1638766432.py:38: FutureWarning: The frame.append method is deprecated and will be removed from pandas in a future version. Use pandas.concat instead.\n",
      "  final_Data = final_Data.append(data1, ignore_index = True)\n",
      "/tmp/ipykernel_3245245/1638766432.py:38: FutureWarning: The frame.append method is deprecated and will be removed from pandas in a future version. Use pandas.concat instead.\n",
      "  final_Data = final_Data.append(data1, ignore_index = True)\n"
     ]
    },
    {
     "name": "stdout",
     "output_type": "stream",
     "text": [
      "4/4 [==============================] - 0s 3ms/step\n",
      "-------------------------------------------------------------\n",
      " confusion_matrix for new data with deeper model \n",
      " [[ 0  0]\n",
      " [65 35]]\n",
      "only attack data -  (35, 42)\n",
      "final data  99 -  (3253, 42)\n",
      "-------------------------------------------------------------\n",
      "4/4 [==============================] - 0s 2ms/step\n",
      "-------------------------------------------------------------\n",
      " confusion_matrix for new data with deeper model \n",
      " [[ 0  0]\n",
      " [68 32]]\n",
      "only attack data -  (32, 42)\n",
      "final data  100 -  (3285, 42)\n",
      "-------------------------------------------------------------\n"
     ]
    },
    {
     "name": "stderr",
     "output_type": "stream",
     "text": [
      "/tmp/ipykernel_3245245/1638766432.py:38: FutureWarning: The frame.append method is deprecated and will be removed from pandas in a future version. Use pandas.concat instead.\n",
      "  final_Data = final_Data.append(data1, ignore_index = True)\n",
      "/tmp/ipykernel_3245245/1638766432.py:38: FutureWarning: The frame.append method is deprecated and will be removed from pandas in a future version. Use pandas.concat instead.\n",
      "  final_Data = final_Data.append(data1, ignore_index = True)\n"
     ]
    },
    {
     "name": "stdout",
     "output_type": "stream",
     "text": [
      "4/4 [==============================] - 0s 4ms/step\n",
      "-------------------------------------------------------------\n",
      " confusion_matrix for new data with deeper model \n",
      " [[ 0  0]\n",
      " [71 29]]\n",
      "only attack data -  (29, 42)\n",
      "final data  101 -  (3314, 42)\n",
      "-------------------------------------------------------------\n",
      "4/4 [==============================] - 0s 4ms/step\n",
      "-------------------------------------------------------------\n",
      " confusion_matrix for new data with deeper model \n",
      " [[ 0  0]\n",
      " [69 31]]\n",
      "only attack data -  (31, 42)\n",
      "final data  102 -  (3345, 42)\n",
      "-------------------------------------------------------------\n"
     ]
    },
    {
     "name": "stderr",
     "output_type": "stream",
     "text": [
      "/tmp/ipykernel_3245245/1638766432.py:38: FutureWarning: The frame.append method is deprecated and will be removed from pandas in a future version. Use pandas.concat instead.\n",
      "  final_Data = final_Data.append(data1, ignore_index = True)\n",
      "/tmp/ipykernel_3245245/1638766432.py:38: FutureWarning: The frame.append method is deprecated and will be removed from pandas in a future version. Use pandas.concat instead.\n",
      "  final_Data = final_Data.append(data1, ignore_index = True)\n"
     ]
    },
    {
     "name": "stdout",
     "output_type": "stream",
     "text": [
      "4/4 [==============================] - 0s 3ms/step\n",
      "-------------------------------------------------------------\n",
      " confusion_matrix for new data with deeper model \n",
      " [[ 0  0]\n",
      " [63 37]]\n",
      "only attack data -  (37, 42)\n",
      "final data  103 -  (3382, 42)\n",
      "-------------------------------------------------------------\n",
      "4/4 [==============================] - 0s 4ms/step\n",
      "-------------------------------------------------------------\n",
      " confusion_matrix for new data with deeper model \n",
      " [[ 0  0]\n",
      " [65 35]]\n",
      "only attack data -  (35, 42)\n",
      "final data  104 -  (3417, 42)\n",
      "-------------------------------------------------------------\n"
     ]
    },
    {
     "name": "stderr",
     "output_type": "stream",
     "text": [
      "/tmp/ipykernel_3245245/1638766432.py:38: FutureWarning: The frame.append method is deprecated and will be removed from pandas in a future version. Use pandas.concat instead.\n",
      "  final_Data = final_Data.append(data1, ignore_index = True)\n",
      "/tmp/ipykernel_3245245/1638766432.py:38: FutureWarning: The frame.append method is deprecated and will be removed from pandas in a future version. Use pandas.concat instead.\n",
      "  final_Data = final_Data.append(data1, ignore_index = True)\n"
     ]
    },
    {
     "name": "stdout",
     "output_type": "stream",
     "text": [
      "4/4 [==============================] - 0s 3ms/step\n",
      "-------------------------------------------------------------\n",
      " confusion_matrix for new data with deeper model \n",
      " [[ 0  0]\n",
      " [74 26]]\n",
      "only attack data -  (26, 42)\n",
      "final data  105 -  (3443, 42)\n",
      "-------------------------------------------------------------\n",
      "4/4 [==============================] - 0s 2ms/step\n",
      "-------------------------------------------------------------\n",
      " confusion_matrix for new data with deeper model \n",
      " [[ 0  0]\n",
      " [66 34]]\n",
      "only attack data -  (34, 42)\n",
      "final data  106 -  (3477, 42)\n",
      "-------------------------------------------------------------\n"
     ]
    },
    {
     "name": "stderr",
     "output_type": "stream",
     "text": [
      "/tmp/ipykernel_3245245/1638766432.py:38: FutureWarning: The frame.append method is deprecated and will be removed from pandas in a future version. Use pandas.concat instead.\n",
      "  final_Data = final_Data.append(data1, ignore_index = True)\n",
      "/tmp/ipykernel_3245245/1638766432.py:38: FutureWarning: The frame.append method is deprecated and will be removed from pandas in a future version. Use pandas.concat instead.\n",
      "  final_Data = final_Data.append(data1, ignore_index = True)\n"
     ]
    },
    {
     "name": "stdout",
     "output_type": "stream",
     "text": [
      "4/4 [==============================] - 0s 3ms/step\n",
      "-------------------------------------------------------------\n",
      " confusion_matrix for new data with deeper model \n",
      " [[ 0  0]\n",
      " [63 37]]\n",
      "only attack data -  (37, 42)\n",
      "final data  107 -  (3514, 42)\n",
      "-------------------------------------------------------------\n",
      "4/4 [==============================] - 0s 3ms/step\n",
      "-------------------------------------------------------------\n",
      " confusion_matrix for new data with deeper model \n",
      " [[ 0  0]\n",
      " [74 26]]\n",
      "only attack data -  (26, 42)\n"
     ]
    },
    {
     "name": "stderr",
     "output_type": "stream",
     "text": [
      "/tmp/ipykernel_3245245/1638766432.py:38: FutureWarning: The frame.append method is deprecated and will be removed from pandas in a future version. Use pandas.concat instead.\n",
      "  final_Data = final_Data.append(data1, ignore_index = True)\n",
      "/tmp/ipykernel_3245245/1638766432.py:38: FutureWarning: The frame.append method is deprecated and will be removed from pandas in a future version. Use pandas.concat instead.\n",
      "  final_Data = final_Data.append(data1, ignore_index = True)\n"
     ]
    },
    {
     "name": "stdout",
     "output_type": "stream",
     "text": [
      "final data  108 -  (3540, 42)\n",
      "-------------------------------------------------------------\n",
      "4/4 [==============================] - 0s 3ms/step\n",
      "-------------------------------------------------------------\n",
      " confusion_matrix for new data with deeper model \n",
      " [[ 0  0]\n",
      " [70 30]]\n",
      "only attack data -  (30, 42)\n",
      "final data  109 -  (3570, 42)\n",
      "-------------------------------------------------------------\n",
      "4/4 [==============================] - 0s 3ms/step\n",
      "-------------------------------------------------------------\n",
      " confusion_matrix for new data with deeper model \n",
      " [[ 0  0]\n",
      " [62 38]]\n",
      "only attack data -  (38, 42)\n",
      "final data  110 -  (3608, 42)\n",
      "-------------------------------------------------------------\n"
     ]
    },
    {
     "name": "stderr",
     "output_type": "stream",
     "text": [
      "/tmp/ipykernel_3245245/1638766432.py:38: FutureWarning: The frame.append method is deprecated and will be removed from pandas in a future version. Use pandas.concat instead.\n",
      "  final_Data = final_Data.append(data1, ignore_index = True)\n",
      "/tmp/ipykernel_3245245/1638766432.py:38: FutureWarning: The frame.append method is deprecated and will be removed from pandas in a future version. Use pandas.concat instead.\n",
      "  final_Data = final_Data.append(data1, ignore_index = True)\n"
     ]
    },
    {
     "name": "stdout",
     "output_type": "stream",
     "text": [
      "4/4 [==============================] - 0s 2ms/step\n",
      "-------------------------------------------------------------\n",
      " confusion_matrix for new data with deeper model \n",
      " [[ 0  0]\n",
      " [66 34]]\n",
      "only attack data -  (34, 42)\n",
      "final data  111 -  (3642, 42)\n",
      "-------------------------------------------------------------\n",
      "4/4 [==============================] - 0s 3ms/step\n",
      "-------------------------------------------------------------\n",
      " confusion_matrix for new data with deeper model \n",
      " [[ 0  0]\n",
      " [65 35]]\n",
      "only attack data -  (35, 42)\n",
      "final data  112 -  (3677, 42)\n",
      "-------------------------------------------------------------\n"
     ]
    },
    {
     "name": "stderr",
     "output_type": "stream",
     "text": [
      "/tmp/ipykernel_3245245/1638766432.py:38: FutureWarning: The frame.append method is deprecated and will be removed from pandas in a future version. Use pandas.concat instead.\n",
      "  final_Data = final_Data.append(data1, ignore_index = True)\n",
      "/tmp/ipykernel_3245245/1638766432.py:38: FutureWarning: The frame.append method is deprecated and will be removed from pandas in a future version. Use pandas.concat instead.\n",
      "  final_Data = final_Data.append(data1, ignore_index = True)\n"
     ]
    },
    {
     "name": "stdout",
     "output_type": "stream",
     "text": [
      "4/4 [==============================] - 0s 4ms/step\n",
      "-------------------------------------------------------------\n",
      " confusion_matrix for new data with deeper model \n",
      " [[ 0  0]\n",
      " [68 32]]\n",
      "only attack data -  (32, 42)\n",
      "final data  113 -  (3709, 42)\n",
      "-------------------------------------------------------------\n",
      "4/4 [==============================] - 0s 3ms/step\n",
      "-------------------------------------------------------------\n",
      " confusion_matrix for new data with deeper model \n",
      " [[ 0  0]\n",
      " [63 37]]\n",
      "only attack data -  (37, 42)\n",
      "final data  114 -  (3746, 42)\n",
      "-------------------------------------------------------------\n"
     ]
    },
    {
     "name": "stderr",
     "output_type": "stream",
     "text": [
      "/tmp/ipykernel_3245245/1638766432.py:38: FutureWarning: The frame.append method is deprecated and will be removed from pandas in a future version. Use pandas.concat instead.\n",
      "  final_Data = final_Data.append(data1, ignore_index = True)\n",
      "/tmp/ipykernel_3245245/1638766432.py:38: FutureWarning: The frame.append method is deprecated and will be removed from pandas in a future version. Use pandas.concat instead.\n",
      "  final_Data = final_Data.append(data1, ignore_index = True)\n"
     ]
    },
    {
     "name": "stdout",
     "output_type": "stream",
     "text": [
      "4/4 [==============================] - 0s 4ms/step\n",
      "-------------------------------------------------------------\n",
      " confusion_matrix for new data with deeper model \n",
      " [[ 0  0]\n",
      " [72 28]]\n",
      "only attack data -  (28, 42)\n",
      "final data  115 -  (3774, 42)\n",
      "-------------------------------------------------------------\n",
      "4/4 [==============================] - 0s 6ms/step\n",
      "-------------------------------------------------------------\n",
      " confusion_matrix for new data with deeper model \n",
      " [[ 0  0]\n",
      " [57 43]]\n",
      "only attack data -  (43, 42)\n",
      "final data  116 -  (3817, 42)\n",
      "-------------------------------------------------------------\n"
     ]
    },
    {
     "name": "stderr",
     "output_type": "stream",
     "text": [
      "/tmp/ipykernel_3245245/1638766432.py:38: FutureWarning: The frame.append method is deprecated and will be removed from pandas in a future version. Use pandas.concat instead.\n",
      "  final_Data = final_Data.append(data1, ignore_index = True)\n",
      "/tmp/ipykernel_3245245/1638766432.py:38: FutureWarning: The frame.append method is deprecated and will be removed from pandas in a future version. Use pandas.concat instead.\n",
      "  final_Data = final_Data.append(data1, ignore_index = True)\n"
     ]
    },
    {
     "name": "stdout",
     "output_type": "stream",
     "text": [
      "4/4 [==============================] - 0s 2ms/step\n",
      "-------------------------------------------------------------\n",
      " confusion_matrix for new data with deeper model \n",
      " [[ 0  0]\n",
      " [66 34]]\n",
      "only attack data -  (34, 42)\n",
      "final data  117 -  (3851, 42)\n",
      "-------------------------------------------------------------\n",
      "4/4 [==============================] - 0s 2ms/step\n",
      "-------------------------------------------------------------\n",
      " confusion_matrix for new data with deeper model \n",
      " [[ 0  0]\n",
      " [70 30]]\n",
      "only attack data -  (30, 42)\n",
      "final data  118 -  (3881, 42)\n",
      "-------------------------------------------------------------\n"
     ]
    },
    {
     "name": "stderr",
     "output_type": "stream",
     "text": [
      "/tmp/ipykernel_3245245/1638766432.py:38: FutureWarning: The frame.append method is deprecated and will be removed from pandas in a future version. Use pandas.concat instead.\n",
      "  final_Data = final_Data.append(data1, ignore_index = True)\n",
      "/tmp/ipykernel_3245245/1638766432.py:38: FutureWarning: The frame.append method is deprecated and will be removed from pandas in a future version. Use pandas.concat instead.\n",
      "  final_Data = final_Data.append(data1, ignore_index = True)\n"
     ]
    },
    {
     "name": "stdout",
     "output_type": "stream",
     "text": [
      "4/4 [==============================] - 0s 4ms/step\n",
      "-------------------------------------------------------------\n",
      " confusion_matrix for new data with deeper model \n",
      " [[ 0  0]\n",
      " [57 43]]\n",
      "only attack data -  (43, 42)\n",
      "final data  119 -  (3924, 42)\n",
      "-------------------------------------------------------------\n",
      "4/4 [==============================] - 0s 3ms/step\n",
      "-------------------------------------------------------------\n",
      " confusion_matrix for new data with deeper model \n",
      " [[ 0  0]\n",
      " [80 20]]\n",
      "only attack data -  (20, 42)\n",
      "final data  120 -  (3944, 42)\n",
      "-------------------------------------------------------------\n"
     ]
    },
    {
     "name": "stderr",
     "output_type": "stream",
     "text": [
      "/tmp/ipykernel_3245245/1638766432.py:38: FutureWarning: The frame.append method is deprecated and will be removed from pandas in a future version. Use pandas.concat instead.\n",
      "  final_Data = final_Data.append(data1, ignore_index = True)\n",
      "/tmp/ipykernel_3245245/1638766432.py:38: FutureWarning: The frame.append method is deprecated and will be removed from pandas in a future version. Use pandas.concat instead.\n",
      "  final_Data = final_Data.append(data1, ignore_index = True)\n"
     ]
    },
    {
     "name": "stdout",
     "output_type": "stream",
     "text": [
      "4/4 [==============================] - 0s 3ms/step\n",
      "-------------------------------------------------------------\n",
      " confusion_matrix for new data with deeper model \n",
      " [[ 0  0]\n",
      " [69 31]]\n",
      "only attack data -  (31, 42)\n",
      "final data  121 -  (3975, 42)\n",
      "-------------------------------------------------------------\n",
      "4/4 [==============================] - 0s 3ms/step\n",
      "-------------------------------------------------------------\n",
      " confusion_matrix for new data with deeper model \n",
      " [[ 0  0]\n",
      " [73 27]]\n",
      "only attack data -  (27, 42)\n",
      "final data  122 -  (4002, 42)\n",
      "-------------------------------------------------------------\n"
     ]
    },
    {
     "name": "stderr",
     "output_type": "stream",
     "text": [
      "/tmp/ipykernel_3245245/1638766432.py:38: FutureWarning: The frame.append method is deprecated and will be removed from pandas in a future version. Use pandas.concat instead.\n",
      "  final_Data = final_Data.append(data1, ignore_index = True)\n",
      "/tmp/ipykernel_3245245/1638766432.py:38: FutureWarning: The frame.append method is deprecated and will be removed from pandas in a future version. Use pandas.concat instead.\n",
      "  final_Data = final_Data.append(data1, ignore_index = True)\n"
     ]
    },
    {
     "name": "stdout",
     "output_type": "stream",
     "text": [
      "4/4 [==============================] - 0s 5ms/step\n",
      "-------------------------------------------------------------\n",
      " confusion_matrix for new data with deeper model \n",
      " [[ 0  0]\n",
      " [70 30]]\n",
      "only attack data -  (30, 42)\n",
      "final data  123 -  (4032, 42)\n",
      "-------------------------------------------------------------\n",
      "4/4 [==============================] - 0s 3ms/step\n",
      "-------------------------------------------------------------\n",
      " confusion_matrix for new data with deeper model \n",
      " [[ 0  0]\n",
      " [65 35]]\n",
      "only attack data -  (35, 42)\n",
      "final data  124 -  (4067, 42)\n",
      "-------------------------------------------------------------\n"
     ]
    },
    {
     "name": "stderr",
     "output_type": "stream",
     "text": [
      "/tmp/ipykernel_3245245/1638766432.py:38: FutureWarning: The frame.append method is deprecated and will be removed from pandas in a future version. Use pandas.concat instead.\n",
      "  final_Data = final_Data.append(data1, ignore_index = True)\n",
      "/tmp/ipykernel_3245245/1638766432.py:38: FutureWarning: The frame.append method is deprecated and will be removed from pandas in a future version. Use pandas.concat instead.\n",
      "  final_Data = final_Data.append(data1, ignore_index = True)\n"
     ]
    },
    {
     "name": "stdout",
     "output_type": "stream",
     "text": [
      "4/4 [==============================] - 0s 3ms/step\n",
      "-------------------------------------------------------------\n",
      " confusion_matrix for new data with deeper model \n",
      " [[ 0  0]\n",
      " [66 34]]\n",
      "only attack data -  (34, 42)\n",
      "final data  125 -  (4101, 42)\n",
      "-------------------------------------------------------------\n",
      "4/4 [==============================] - 0s 2ms/step\n",
      "-------------------------------------------------------------\n",
      " confusion_matrix for new data with deeper model \n",
      " [[ 0  0]\n",
      " [71 29]]\n",
      "only attack data -  (29, 42)\n",
      "final data  126 -  (4130, 42)\n",
      "-------------------------------------------------------------\n"
     ]
    },
    {
     "name": "stderr",
     "output_type": "stream",
     "text": [
      "/tmp/ipykernel_3245245/1638766432.py:38: FutureWarning: The frame.append method is deprecated and will be removed from pandas in a future version. Use pandas.concat instead.\n",
      "  final_Data = final_Data.append(data1, ignore_index = True)\n",
      "/tmp/ipykernel_3245245/1638766432.py:38: FutureWarning: The frame.append method is deprecated and will be removed from pandas in a future version. Use pandas.concat instead.\n",
      "  final_Data = final_Data.append(data1, ignore_index = True)\n"
     ]
    },
    {
     "name": "stdout",
     "output_type": "stream",
     "text": [
      "4/4 [==============================] - 0s 2ms/step\n",
      "-------------------------------------------------------------\n",
      " confusion_matrix for new data with deeper model \n",
      " [[ 0  0]\n",
      " [65 35]]\n",
      "only attack data -  (35, 42)\n",
      "final data  127 -  (4165, 42)\n",
      "-------------------------------------------------------------\n",
      "4/4 [==============================] - 0s 3ms/step\n",
      "-------------------------------------------------------------\n",
      " confusion_matrix for new data with deeper model \n",
      " [[ 0  0]\n",
      " [57 43]]\n",
      "only attack data -  (43, 42)\n",
      "final data  128 -  (4208, 42)\n",
      "-------------------------------------------------------------\n"
     ]
    },
    {
     "name": "stderr",
     "output_type": "stream",
     "text": [
      "/tmp/ipykernel_3245245/1638766432.py:38: FutureWarning: The frame.append method is deprecated and will be removed from pandas in a future version. Use pandas.concat instead.\n",
      "  final_Data = final_Data.append(data1, ignore_index = True)\n",
      "/tmp/ipykernel_3245245/1638766432.py:38: FutureWarning: The frame.append method is deprecated and will be removed from pandas in a future version. Use pandas.concat instead.\n",
      "  final_Data = final_Data.append(data1, ignore_index = True)\n"
     ]
    },
    {
     "name": "stdout",
     "output_type": "stream",
     "text": [
      "4/4 [==============================] - 0s 3ms/step\n",
      "-------------------------------------------------------------\n",
      " confusion_matrix for new data with deeper model \n",
      " [[ 0  0]\n",
      " [69 31]]\n",
      "only attack data -  (31, 42)\n",
      "final data  129 -  (4239, 42)\n",
      "-------------------------------------------------------------\n",
      "4/4 [==============================] - 0s 3ms/step\n",
      "-------------------------------------------------------------\n",
      " confusion_matrix for new data with deeper model \n",
      " [[ 0  0]\n",
      " [72 28]]\n",
      "only attack data -  (28, 42)\n",
      "final data  130 -  (4267, 42)\n",
      "-------------------------------------------------------------\n"
     ]
    },
    {
     "name": "stderr",
     "output_type": "stream",
     "text": [
      "/tmp/ipykernel_3245245/1638766432.py:38: FutureWarning: The frame.append method is deprecated and will be removed from pandas in a future version. Use pandas.concat instead.\n",
      "  final_Data = final_Data.append(data1, ignore_index = True)\n",
      "/tmp/ipykernel_3245245/1638766432.py:38: FutureWarning: The frame.append method is deprecated and will be removed from pandas in a future version. Use pandas.concat instead.\n",
      "  final_Data = final_Data.append(data1, ignore_index = True)\n"
     ]
    },
    {
     "name": "stdout",
     "output_type": "stream",
     "text": [
      "4/4 [==============================] - 0s 2ms/step\n",
      "-------------------------------------------------------------\n",
      " confusion_matrix for new data with deeper model \n",
      " [[ 0  0]\n",
      " [73 27]]\n",
      "only attack data -  (27, 42)\n",
      "final data  131 -  (4294, 42)\n",
      "-------------------------------------------------------------\n",
      "4/4 [==============================] - 0s 2ms/step\n",
      "-------------------------------------------------------------\n",
      " confusion_matrix for new data with deeper model \n",
      " [[ 0  0]\n",
      " [64 36]]\n",
      "only attack data -  (36, 42)\n",
      "final data  132 -  (4330, 42)\n",
      "-------------------------------------------------------------\n"
     ]
    },
    {
     "name": "stderr",
     "output_type": "stream",
     "text": [
      "/tmp/ipykernel_3245245/1638766432.py:38: FutureWarning: The frame.append method is deprecated and will be removed from pandas in a future version. Use pandas.concat instead.\n",
      "  final_Data = final_Data.append(data1, ignore_index = True)\n",
      "/tmp/ipykernel_3245245/1638766432.py:38: FutureWarning: The frame.append method is deprecated and will be removed from pandas in a future version. Use pandas.concat instead.\n",
      "  final_Data = final_Data.append(data1, ignore_index = True)\n"
     ]
    },
    {
     "name": "stdout",
     "output_type": "stream",
     "text": [
      "4/4 [==============================] - 0s 3ms/step\n",
      "-------------------------------------------------------------\n",
      " confusion_matrix for new data with deeper model \n",
      " [[ 0  0]\n",
      " [64 36]]\n",
      "only attack data -  (36, 42)\n",
      "final data  133 -  (4366, 42)\n",
      "-------------------------------------------------------------\n",
      "4/4 [==============================] - 0s 3ms/step\n",
      "-------------------------------------------------------------\n",
      " confusion_matrix for new data with deeper model \n",
      " [[ 0  0]\n",
      " [71 29]]\n",
      "only attack data -  (29, 42)\n",
      "final data  134 -  (4395, 42)\n",
      "-------------------------------------------------------------\n"
     ]
    },
    {
     "name": "stderr",
     "output_type": "stream",
     "text": [
      "/tmp/ipykernel_3245245/1638766432.py:38: FutureWarning: The frame.append method is deprecated and will be removed from pandas in a future version. Use pandas.concat instead.\n",
      "  final_Data = final_Data.append(data1, ignore_index = True)\n",
      "/tmp/ipykernel_3245245/1638766432.py:38: FutureWarning: The frame.append method is deprecated and will be removed from pandas in a future version. Use pandas.concat instead.\n",
      "  final_Data = final_Data.append(data1, ignore_index = True)\n"
     ]
    },
    {
     "name": "stdout",
     "output_type": "stream",
     "text": [
      "4/4 [==============================] - 0s 3ms/step\n",
      "-------------------------------------------------------------\n",
      " confusion_matrix for new data with deeper model \n",
      " [[ 0  0]\n",
      " [70 30]]\n",
      "only attack data -  (30, 42)\n",
      "final data  135 -  (4425, 42)\n",
      "-------------------------------------------------------------\n",
      "4/4 [==============================] - 0s 3ms/step\n",
      "-------------------------------------------------------------\n",
      " confusion_matrix for new data with deeper model \n",
      " [[ 0  0]\n",
      " [70 30]]\n",
      "only attack data -  (30, 42)\n",
      "final data  136 -  (4455, 42)\n",
      "-------------------------------------------------------------\n"
     ]
    },
    {
     "name": "stderr",
     "output_type": "stream",
     "text": [
      "/tmp/ipykernel_3245245/1638766432.py:38: FutureWarning: The frame.append method is deprecated and will be removed from pandas in a future version. Use pandas.concat instead.\n",
      "  final_Data = final_Data.append(data1, ignore_index = True)\n",
      "/tmp/ipykernel_3245245/1638766432.py:38: FutureWarning: The frame.append method is deprecated and will be removed from pandas in a future version. Use pandas.concat instead.\n",
      "  final_Data = final_Data.append(data1, ignore_index = True)\n"
     ]
    },
    {
     "name": "stdout",
     "output_type": "stream",
     "text": [
      "4/4 [==============================] - 0s 2ms/step\n",
      "-------------------------------------------------------------\n",
      " confusion_matrix for new data with deeper model \n",
      " [[ 0  0]\n",
      " [65 35]]\n",
      "only attack data -  (35, 42)\n",
      "final data  137 -  (4490, 42)\n",
      "-------------------------------------------------------------\n",
      "4/4 [==============================] - 0s 4ms/step\n"
     ]
    },
    {
     "name": "stderr",
     "output_type": "stream",
     "text": [
      "/tmp/ipykernel_3245245/1638766432.py:38: FutureWarning: The frame.append method is deprecated and will be removed from pandas in a future version. Use pandas.concat instead.\n",
      "  final_Data = final_Data.append(data1, ignore_index = True)\n"
     ]
    },
    {
     "name": "stdout",
     "output_type": "stream",
     "text": [
      "-------------------------------------------------------------\n",
      " confusion_matrix for new data with deeper model \n",
      " [[ 0  0]\n",
      " [64 36]]\n",
      "only attack data -  (36, 42)\n",
      "final data  138 -  (4526, 42)\n",
      "-------------------------------------------------------------\n",
      "4/4 [==============================] - 0s 3ms/step\n",
      "-------------------------------------------------------------\n",
      " confusion_matrix for new data with deeper model \n",
      " [[ 0  0]\n",
      " [63 37]]\n",
      "only attack data -  (37, 42)\n",
      "final data  139 -  (4563, 42)\n",
      "-------------------------------------------------------------\n"
     ]
    },
    {
     "name": "stderr",
     "output_type": "stream",
     "text": [
      "/tmp/ipykernel_3245245/1638766432.py:38: FutureWarning: The frame.append method is deprecated and will be removed from pandas in a future version. Use pandas.concat instead.\n",
      "  final_Data = final_Data.append(data1, ignore_index = True)\n",
      "/tmp/ipykernel_3245245/1638766432.py:38: FutureWarning: The frame.append method is deprecated and will be removed from pandas in a future version. Use pandas.concat instead.\n",
      "  final_Data = final_Data.append(data1, ignore_index = True)\n"
     ]
    },
    {
     "name": "stdout",
     "output_type": "stream",
     "text": [
      "4/4 [==============================] - 0s 3ms/step\n",
      "-------------------------------------------------------------\n",
      " confusion_matrix for new data with deeper model \n",
      " [[ 0  0]\n",
      " [78 22]]\n",
      "only attack data -  (22, 42)\n",
      "final data  140 -  (4585, 42)\n",
      "-------------------------------------------------------------\n",
      "4/4 [==============================] - 0s 7ms/step\n",
      "-------------------------------------------------------------"
     ]
    },
    {
     "name": "stderr",
     "output_type": "stream",
     "text": [
      "/tmp/ipykernel_3245245/1638766432.py:38: FutureWarning: The frame.append method is deprecated and will be removed from pandas in a future version. Use pandas.concat instead.\n",
      "  final_Data = final_Data.append(data1, ignore_index = True)\n"
     ]
    },
    {
     "name": "stdout",
     "output_type": "stream",
     "text": [
      "\n",
      " confusion_matrix for new data with deeper model \n",
      " [[ 0  0]\n",
      " [65 35]]\n",
      "only attack data -  (35, 42)\n",
      "final data  141 -  (4620, 42)\n",
      "-------------------------------------------------------------\n",
      "4/4 [==============================] - 0s 3ms/step\n",
      "-------------------------------------------------------------\n",
      " confusion_matrix for new data with deeper model \n",
      " [[ 0  0]\n",
      " [69 31]]\n",
      "only attack data -  (31, 42)\n",
      "final data  142 -  (4651, 42)\n",
      "-------------------------------------------------------------\n"
     ]
    },
    {
     "name": "stderr",
     "output_type": "stream",
     "text": [
      "/tmp/ipykernel_3245245/1638766432.py:38: FutureWarning: The frame.append method is deprecated and will be removed from pandas in a future version. Use pandas.concat instead.\n",
      "  final_Data = final_Data.append(data1, ignore_index = True)\n",
      "/tmp/ipykernel_3245245/1638766432.py:38: FutureWarning: The frame.append method is deprecated and will be removed from pandas in a future version. Use pandas.concat instead.\n",
      "  final_Data = final_Data.append(data1, ignore_index = True)\n"
     ]
    },
    {
     "name": "stdout",
     "output_type": "stream",
     "text": [
      "4/4 [==============================] - 0s 3ms/step\n",
      "-------------------------------------------------------------\n",
      " confusion_matrix for new data with deeper model \n",
      " [[ 0  0]\n",
      " [62 38]]\n",
      "only attack data -  (38, 42)\n",
      "final data  143 -  (4689, 42)\n",
      "-------------------------------------------------------------\n",
      "4/4 [==============================] - 0s 3ms/step\n",
      "-------------------------------------------------------------\n",
      " confusion_matrix for new data with deeper model \n",
      " [[ 0  0]\n",
      " [71 29]]\n",
      "only attack data -  (29, 42)\n",
      "final data  144 -  (4718, 42)\n",
      "-------------------------------------------------------------\n"
     ]
    },
    {
     "name": "stderr",
     "output_type": "stream",
     "text": [
      "/tmp/ipykernel_3245245/1638766432.py:38: FutureWarning: The frame.append method is deprecated and will be removed from pandas in a future version. Use pandas.concat instead.\n",
      "  final_Data = final_Data.append(data1, ignore_index = True)\n",
      "/tmp/ipykernel_3245245/1638766432.py:38: FutureWarning: The frame.append method is deprecated and will be removed from pandas in a future version. Use pandas.concat instead.\n",
      "  final_Data = final_Data.append(data1, ignore_index = True)\n"
     ]
    },
    {
     "name": "stdout",
     "output_type": "stream",
     "text": [
      "4/4 [==============================] - 0s 4ms/step\n",
      "-------------------------------------------------------------\n",
      " confusion_matrix for new data with deeper model \n",
      " [[ 0  0]\n",
      " [63 37]]\n",
      "only attack data -  (37, 42)\n",
      "final data  145 -  (4755, 42)\n",
      "-------------------------------------------------------------\n",
      "4/4 [==============================] - 0s 2ms/step\n",
      "-------------------------------------------------------------\n",
      " confusion_matrix for new data with deeper model \n",
      " [[ 0  0]\n",
      " [66 34]]\n",
      "only attack data -  (34, 42)\n",
      "final data  146 -  (4789, 42)\n",
      "-------------------------------------------------------------\n"
     ]
    },
    {
     "name": "stderr",
     "output_type": "stream",
     "text": [
      "/tmp/ipykernel_3245245/1638766432.py:38: FutureWarning: The frame.append method is deprecated and will be removed from pandas in a future version. Use pandas.concat instead.\n",
      "  final_Data = final_Data.append(data1, ignore_index = True)\n",
      "/tmp/ipykernel_3245245/1638766432.py:38: FutureWarning: The frame.append method is deprecated and will be removed from pandas in a future version. Use pandas.concat instead.\n",
      "  final_Data = final_Data.append(data1, ignore_index = True)\n"
     ]
    },
    {
     "name": "stdout",
     "output_type": "stream",
     "text": [
      "4/4 [==============================] - 0s 4ms/step\n",
      "-------------------------------------------------------------\n",
      " confusion_matrix for new data with deeper model \n",
      " [[ 0  0]\n",
      " [67 33]]\n",
      "only attack data -  (33, 42)\n",
      "final data  147 -  (4822, 42)\n",
      "-------------------------------------------------------------\n",
      "4/4 [==============================] - 0s 2ms/step\n",
      "-------------------------------------------------------------\n",
      " confusion_matrix for new data with deeper model \n",
      " [[ 0  0]\n",
      " [67 33]]\n",
      "only attack data -  (33, 42)\n",
      "final data  148 -  (4855, 42)\n",
      "-------------------------------------------------------------\n"
     ]
    },
    {
     "name": "stderr",
     "output_type": "stream",
     "text": [
      "/tmp/ipykernel_3245245/1638766432.py:38: FutureWarning: The frame.append method is deprecated and will be removed from pandas in a future version. Use pandas.concat instead.\n",
      "  final_Data = final_Data.append(data1, ignore_index = True)\n",
      "/tmp/ipykernel_3245245/1638766432.py:38: FutureWarning: The frame.append method is deprecated and will be removed from pandas in a future version. Use pandas.concat instead.\n",
      "  final_Data = final_Data.append(data1, ignore_index = True)\n"
     ]
    },
    {
     "name": "stdout",
     "output_type": "stream",
     "text": [
      "4/4 [==============================] - 0s 3ms/step\n",
      "-------------------------------------------------------------\n",
      " confusion_matrix for new data with deeper model \n",
      " [[ 0  0]\n",
      " [51 49]]\n",
      "only attack data -  (49, 42)\n",
      "final data  149 -  (4904, 42)\n",
      "-------------------------------------------------------------\n",
      "4/4 [==============================] - 0s 3ms/step\n",
      "-------------------------------------------------------------\n",
      " confusion_matrix for new data with deeper model \n",
      " [[ 0  0]\n",
      " [65 35]]\n",
      "only attack data -  (35, 42)\n",
      "final data  150 -  (4939, 42)\n",
      "-------------------------------------------------------------\n"
     ]
    },
    {
     "name": "stderr",
     "output_type": "stream",
     "text": [
      "/tmp/ipykernel_3245245/1638766432.py:38: FutureWarning: The frame.append method is deprecated and will be removed from pandas in a future version. Use pandas.concat instead.\n",
      "  final_Data = final_Data.append(data1, ignore_index = True)\n",
      "/tmp/ipykernel_3245245/1638766432.py:38: FutureWarning: The frame.append method is deprecated and will be removed from pandas in a future version. Use pandas.concat instead.\n",
      "  final_Data = final_Data.append(data1, ignore_index = True)\n"
     ]
    },
    {
     "name": "stdout",
     "output_type": "stream",
     "text": [
      "4/4 [==============================] - 0s 3ms/step\n",
      "-------------------------------------------------------------\n",
      " confusion_matrix for new data with deeper model \n",
      " [[ 0  0]\n",
      " [68 32]]\n",
      "only attack data -  (32, 42)\n",
      "final data  151 -  (4971, 42)\n",
      "-------------------------------------------------------------\n",
      "4/4 [==============================] - 0s 3ms/step\n",
      "-------------------------------------------------------------\n",
      " confusion_matrix for new data with deeper model \n",
      " [[ 0  0]\n",
      " [70 30]]\n",
      "only attack data -  (30, 42)\n",
      "final data  152 -  (5001, 42)\n",
      "-------------------------------------------------------------\n"
     ]
    },
    {
     "name": "stderr",
     "output_type": "stream",
     "text": [
      "/tmp/ipykernel_3245245/1638766432.py:38: FutureWarning: The frame.append method is deprecated and will be removed from pandas in a future version. Use pandas.concat instead.\n",
      "  final_Data = final_Data.append(data1, ignore_index = True)\n",
      "/tmp/ipykernel_3245245/1638766432.py:38: FutureWarning: The frame.append method is deprecated and will be removed from pandas in a future version. Use pandas.concat instead.\n",
      "  final_Data = final_Data.append(data1, ignore_index = True)\n"
     ]
    },
    {
     "name": "stdout",
     "output_type": "stream",
     "text": [
      "4/4 [==============================] - 0s 3ms/step\n",
      "-------------------------------------------------------------\n",
      " confusion_matrix for new data with deeper model \n",
      " [[ 0  0]\n",
      " [57 43]]\n",
      "only attack data -  (43, 42)\n",
      "final data  153 -  (5044, 42)\n",
      "-------------------------------------------------------------\n",
      "4/4 [==============================] - 0s 2ms/step\n",
      "-------------------------------------------------------------\n",
      " confusion_matrix for new data with deeper model \n",
      " [[ 0  0]\n",
      " [60 40]]\n",
      "only attack data -  (40, 42)\n",
      "final data  154 -  (5084, 42)\n",
      "-------------------------------------------------------------\n"
     ]
    },
    {
     "name": "stderr",
     "output_type": "stream",
     "text": [
      "/tmp/ipykernel_3245245/1638766432.py:38: FutureWarning: The frame.append method is deprecated and will be removed from pandas in a future version. Use pandas.concat instead.\n",
      "  final_Data = final_Data.append(data1, ignore_index = True)\n",
      "/tmp/ipykernel_3245245/1638766432.py:38: FutureWarning: The frame.append method is deprecated and will be removed from pandas in a future version. Use pandas.concat instead.\n",
      "  final_Data = final_Data.append(data1, ignore_index = True)\n"
     ]
    },
    {
     "name": "stdout",
     "output_type": "stream",
     "text": [
      "4/4 [==============================] - 0s 3ms/step\n",
      "-------------------------------------------------------------\n",
      " confusion_matrix for new data with deeper model \n",
      " [[ 0  0]\n",
      " [71 29]]\n",
      "only attack data -  (29, 42)\n",
      "final data  155 -  (5113, 42)\n",
      "-------------------------------------------------------------\n",
      "4/4 [==============================] - 0s 3ms/step\n",
      "-------------------------------------------------------------\n",
      " confusion_matrix for new data with deeper model \n",
      " [[ 0  0]\n",
      " [65 35]]\n",
      "only attack data -  (35, 42)\n",
      "final data  156 -  (5148, 42)\n",
      "-------------------------------------------------------------\n"
     ]
    },
    {
     "name": "stderr",
     "output_type": "stream",
     "text": [
      "/tmp/ipykernel_3245245/1638766432.py:38: FutureWarning: The frame.append method is deprecated and will be removed from pandas in a future version. Use pandas.concat instead.\n",
      "  final_Data = final_Data.append(data1, ignore_index = True)\n",
      "/tmp/ipykernel_3245245/1638766432.py:38: FutureWarning: The frame.append method is deprecated and will be removed from pandas in a future version. Use pandas.concat instead.\n",
      "  final_Data = final_Data.append(data1, ignore_index = True)\n"
     ]
    },
    {
     "name": "stdout",
     "output_type": "stream",
     "text": [
      "4/4 [==============================] - 0s 3ms/step\n",
      "-------------------------------------------------------------\n",
      " confusion_matrix for new data with deeper model \n",
      " [[ 0  0]\n",
      " [66 34]]\n",
      "only attack data -  (34, 42)\n",
      "final data  157 -  (5182, 42)\n",
      "-------------------------------------------------------------\n",
      "4/4 [==============================] - 0s 2ms/step\n",
      "-------------------------------------------------------------\n",
      " confusion_matrix for new data with deeper model \n",
      " [[ 0  0]\n",
      " [67 33]]\n",
      "only attack data -  (33, 42)\n",
      "final data  158 -  (5215, 42)\n",
      "-------------------------------------------------------------\n"
     ]
    },
    {
     "name": "stderr",
     "output_type": "stream",
     "text": [
      "/tmp/ipykernel_3245245/1638766432.py:38: FutureWarning: The frame.append method is deprecated and will be removed from pandas in a future version. Use pandas.concat instead.\n",
      "  final_Data = final_Data.append(data1, ignore_index = True)\n",
      "/tmp/ipykernel_3245245/1638766432.py:38: FutureWarning: The frame.append method is deprecated and will be removed from pandas in a future version. Use pandas.concat instead.\n",
      "  final_Data = final_Data.append(data1, ignore_index = True)\n"
     ]
    },
    {
     "name": "stdout",
     "output_type": "stream",
     "text": [
      "4/4 [==============================] - 0s 3ms/step\n",
      "-------------------------------------------------------------\n",
      " confusion_matrix for new data with deeper model \n",
      " [[ 0  0]\n",
      " [68 32]]\n",
      "only attack data -  (32, 42)\n",
      "final data  159 -  (5247, 42)\n",
      "-------------------------------------------------------------\n",
      "4/4 [==============================] - 0s 3ms/step\n",
      "-------------------------------------------------------------\n",
      " confusion_matrix for new data with deeper model \n",
      " [[ 0  0]\n",
      " [66 34]]\n",
      "only attack data -  (34, 42)\n",
      "final data  160 -  (5281, 42)\n",
      "-------------------------------------------------------------\n"
     ]
    },
    {
     "name": "stderr",
     "output_type": "stream",
     "text": [
      "/tmp/ipykernel_3245245/1638766432.py:38: FutureWarning: The frame.append method is deprecated and will be removed from pandas in a future version. Use pandas.concat instead.\n",
      "  final_Data = final_Data.append(data1, ignore_index = True)\n",
      "/tmp/ipykernel_3245245/1638766432.py:38: FutureWarning: The frame.append method is deprecated and will be removed from pandas in a future version. Use pandas.concat instead.\n",
      "  final_Data = final_Data.append(data1, ignore_index = True)\n"
     ]
    },
    {
     "name": "stdout",
     "output_type": "stream",
     "text": [
      "4/4 [==============================] - 0s 2ms/step\n",
      "-------------------------------------------------------------\n",
      " confusion_matrix for new data with deeper model \n",
      " [[ 0  0]\n",
      " [60 40]]\n",
      "only attack data -  (40, 42)\n",
      "final data  161 -  (5321, 42)\n",
      "-------------------------------------------------------------\n",
      "4/4 [==============================] - 0s 2ms/step\n",
      "-------------------------------------------------------------\n",
      " confusion_matrix for new data with deeper model \n",
      " [[ 0  0]\n",
      " [63 37]]\n",
      "only attack data -  (37, 42)\n",
      "final data  162 -  (5358, 42)\n",
      "-------------------------------------------------------------\n",
      "4/4 [==============================] - 0s 2ms/step\n"
     ]
    },
    {
     "name": "stderr",
     "output_type": "stream",
     "text": [
      "/tmp/ipykernel_3245245/1638766432.py:38: FutureWarning: The frame.append method is deprecated and will be removed from pandas in a future version. Use pandas.concat instead.\n",
      "  final_Data = final_Data.append(data1, ignore_index = True)\n",
      "/tmp/ipykernel_3245245/1638766432.py:38: FutureWarning: The frame.append method is deprecated and will be removed from pandas in a future version. Use pandas.concat instead.\n",
      "  final_Data = final_Data.append(data1, ignore_index = True)\n"
     ]
    },
    {
     "name": "stdout",
     "output_type": "stream",
     "text": [
      "-------------------------------------------------------------\n",
      " confusion_matrix for new data with deeper model \n",
      " [[ 0  0]\n",
      " [68 32]]\n",
      "only attack data -  (32, 42)\n",
      "final data  163 -  (5390, 42)\n",
      "-------------------------------------------------------------\n",
      "4/4 [==============================] - 0s 3ms/step\n",
      "-------------------------------------------------------------\n",
      " confusion_matrix for new data with deeper model \n",
      " [[ 0  0]\n",
      " [67 33]]\n",
      "only attack data -  (33, 42)\n",
      "final data  164 -  (5423, 42)\n",
      "-------------------------------------------------------------\n"
     ]
    },
    {
     "name": "stderr",
     "output_type": "stream",
     "text": [
      "/tmp/ipykernel_3245245/1638766432.py:38: FutureWarning: The frame.append method is deprecated and will be removed from pandas in a future version. Use pandas.concat instead.\n",
      "  final_Data = final_Data.append(data1, ignore_index = True)\n",
      "/tmp/ipykernel_3245245/1638766432.py:38: FutureWarning: The frame.append method is deprecated and will be removed from pandas in a future version. Use pandas.concat instead.\n",
      "  final_Data = final_Data.append(data1, ignore_index = True)\n"
     ]
    },
    {
     "name": "stdout",
     "output_type": "stream",
     "text": [
      "4/4 [==============================] - 0s 3ms/step\n",
      "-------------------------------------------------------------\n",
      " confusion_matrix for new data with deeper model \n",
      " [[ 0  0]\n",
      " [63 37]]\n",
      "only attack data -  (37, 42)\n",
      "final data  165 -  (5460, 42)\n",
      "-------------------------------------------------------------\n",
      "4/4 [==============================] - 0s 3ms/step\n",
      "-------------------------------------------------------------\n",
      " confusion_matrix for new data with deeper model \n",
      " [[ 0  0]\n",
      " [72 28]]\n",
      "only attack data -  (28, 42)\n",
      "final data  166 -  (5488, 42)\n",
      "-------------------------------------------------------------\n"
     ]
    },
    {
     "name": "stderr",
     "output_type": "stream",
     "text": [
      "/tmp/ipykernel_3245245/1638766432.py:38: FutureWarning: The frame.append method is deprecated and will be removed from pandas in a future version. Use pandas.concat instead.\n",
      "  final_Data = final_Data.append(data1, ignore_index = True)\n",
      "/tmp/ipykernel_3245245/1638766432.py:38: FutureWarning: The frame.append method is deprecated and will be removed from pandas in a future version. Use pandas.concat instead.\n",
      "  final_Data = final_Data.append(data1, ignore_index = True)\n"
     ]
    },
    {
     "name": "stdout",
     "output_type": "stream",
     "text": [
      "4/4 [==============================] - 0s 5ms/step\n",
      "-------------------------------------------------------------\n",
      " confusion_matrix for new data with deeper model \n",
      " [[ 0  0]\n",
      " [57 43]]\n",
      "only attack data -  (43, 42)\n",
      "final data  167 -  (5531, 42)\n",
      "-------------------------------------------------------------\n",
      "4/4 [==============================] - 0s 3ms/step\n",
      "-------------------------------------------------------------\n",
      " confusion_matrix for new data with deeper model \n",
      " [[ 0  0]\n",
      " [64 36]]\n",
      "only attack data -  (36, 42)\n",
      "final data  168 -  (5567, 42)\n",
      "-------------------------------------------------------------\n"
     ]
    },
    {
     "name": "stderr",
     "output_type": "stream",
     "text": [
      "/tmp/ipykernel_3245245/1638766432.py:38: FutureWarning: The frame.append method is deprecated and will be removed from pandas in a future version. Use pandas.concat instead.\n",
      "  final_Data = final_Data.append(data1, ignore_index = True)\n",
      "/tmp/ipykernel_3245245/1638766432.py:38: FutureWarning: The frame.append method is deprecated and will be removed from pandas in a future version. Use pandas.concat instead.\n",
      "  final_Data = final_Data.append(data1, ignore_index = True)\n"
     ]
    },
    {
     "name": "stdout",
     "output_type": "stream",
     "text": [
      "4/4 [==============================] - 0s 3ms/step\n",
      "-------------------------------------------------------------\n",
      " confusion_matrix for new data with deeper model \n",
      " [[ 0  0]\n",
      " [66 34]]\n",
      "only attack data -  (34, 42)\n",
      "final data  169 -  (5601, 42)\n",
      "-------------------------------------------------------------\n",
      "4/4 [==============================] - 0s 3ms/step\n",
      "-------------------------------------------------------------\n",
      " confusion_matrix for new data with deeper model \n",
      " [[ 0  0]\n",
      " [69 31]]\n",
      "only attack data -  (31, 42)\n",
      "final data  170 -  (5632, 42)\n",
      "-------------------------------------------------------------\n"
     ]
    },
    {
     "name": "stderr",
     "output_type": "stream",
     "text": [
      "/tmp/ipykernel_3245245/1638766432.py:38: FutureWarning: The frame.append method is deprecated and will be removed from pandas in a future version. Use pandas.concat instead.\n",
      "  final_Data = final_Data.append(data1, ignore_index = True)\n",
      "/tmp/ipykernel_3245245/1638766432.py:38: FutureWarning: The frame.append method is deprecated and will be removed from pandas in a future version. Use pandas.concat instead.\n",
      "  final_Data = final_Data.append(data1, ignore_index = True)\n"
     ]
    },
    {
     "name": "stdout",
     "output_type": "stream",
     "text": [
      "4/4 [==============================] - 0s 2ms/step\n",
      "-------------------------------------------------------------\n",
      " confusion_matrix for new data with deeper model \n",
      " [[ 0  0]\n",
      " [60 40]]\n",
      "only attack data -  (40, 42)\n",
      "final data  171 -  (5672, 42)\n",
      "-------------------------------------------------------------\n",
      "4/4 [==============================] - 0s 3ms/step\n",
      "-------------------------------------------------------------\n",
      " confusion_matrix for new data with deeper model \n",
      " [[ 0  0]\n",
      " [73 27]]\n",
      "only attack data -  (27, 42)\n",
      "final data  172 -  (5699, 42)\n",
      "-------------------------------------------------------------\n"
     ]
    },
    {
     "name": "stderr",
     "output_type": "stream",
     "text": [
      "/tmp/ipykernel_3245245/1638766432.py:38: FutureWarning: The frame.append method is deprecated and will be removed from pandas in a future version. Use pandas.concat instead.\n",
      "  final_Data = final_Data.append(data1, ignore_index = True)\n",
      "/tmp/ipykernel_3245245/1638766432.py:38: FutureWarning: The frame.append method is deprecated and will be removed from pandas in a future version. Use pandas.concat instead.\n",
      "  final_Data = final_Data.append(data1, ignore_index = True)\n"
     ]
    },
    {
     "name": "stdout",
     "output_type": "stream",
     "text": [
      "4/4 [==============================] - 0s 3ms/step\n",
      "-------------------------------------------------------------\n",
      " confusion_matrix for new data with deeper model \n",
      " [[ 0  0]\n",
      " [60 40]]\n",
      "only attack data -  (40, 42)\n",
      "final data  173 -  (5739, 42)\n",
      "-------------------------------------------------------------\n",
      "4/4 [==============================] - 0s 3ms/step\n",
      "-------------------------------------------------------------\n",
      " confusion_matrix for new data with deeper model \n",
      " [[ 0  0]\n",
      " [69 31]]\n",
      "only attack data -  (31, 42)\n",
      "final data  174 -  (5770, 42)\n",
      "-------------------------------------------------------------\n"
     ]
    },
    {
     "name": "stderr",
     "output_type": "stream",
     "text": [
      "/tmp/ipykernel_3245245/1638766432.py:38: FutureWarning: The frame.append method is deprecated and will be removed from pandas in a future version. Use pandas.concat instead.\n",
      "  final_Data = final_Data.append(data1, ignore_index = True)\n",
      "/tmp/ipykernel_3245245/1638766432.py:38: FutureWarning: The frame.append method is deprecated and will be removed from pandas in a future version. Use pandas.concat instead.\n",
      "  final_Data = final_Data.append(data1, ignore_index = True)\n"
     ]
    },
    {
     "name": "stdout",
     "output_type": "stream",
     "text": [
      "4/4 [==============================] - 0s 2ms/step\n",
      "-------------------------------------------------------------\n",
      " confusion_matrix for new data with deeper model \n",
      " [[ 0  0]\n",
      " [66 34]]\n",
      "only attack data -  (34, 42)\n",
      "final data  175 -  (5804, 42)\n",
      "-------------------------------------------------------------\n",
      "4/4 [==============================] - 0s 2ms/step\n",
      "-------------------------------------------------------------\n",
      " confusion_matrix for new data with deeper model \n",
      " [[ 0  0]\n",
      " [64 36]]\n",
      "only attack data -  (36, 42)\n",
      "final data  176 -  (5840, 42)\n",
      "-------------------------------------------------------------\n"
     ]
    },
    {
     "name": "stderr",
     "output_type": "stream",
     "text": [
      "/tmp/ipykernel_3245245/1638766432.py:38: FutureWarning: The frame.append method is deprecated and will be removed from pandas in a future version. Use pandas.concat instead.\n",
      "  final_Data = final_Data.append(data1, ignore_index = True)\n",
      "/tmp/ipykernel_3245245/1638766432.py:38: FutureWarning: The frame.append method is deprecated and will be removed from pandas in a future version. Use pandas.concat instead.\n",
      "  final_Data = final_Data.append(data1, ignore_index = True)\n"
     ]
    },
    {
     "name": "stdout",
     "output_type": "stream",
     "text": [
      "4/4 [==============================] - 0s 3ms/step\n",
      "-------------------------------------------------------------\n",
      " confusion_matrix for new data with deeper model \n",
      " [[ 0  0]\n",
      " [67 33]]\n",
      "only attack data -  (33, 42)\n",
      "final data  177 -  (5873, 42)\n",
      "-------------------------------------------------------------\n",
      "4/4 [==============================] - 0s 3ms/step\n",
      "-------------------------------------------------------------\n",
      " confusion_matrix for new data with deeper model \n",
      " [[ 0  0]\n",
      " [69 31]]\n",
      "only attack data -  (31, 42)\n"
     ]
    },
    {
     "name": "stderr",
     "output_type": "stream",
     "text": [
      "/tmp/ipykernel_3245245/1638766432.py:38: FutureWarning: The frame.append method is deprecated and will be removed from pandas in a future version. Use pandas.concat instead.\n",
      "  final_Data = final_Data.append(data1, ignore_index = True)\n",
      "/tmp/ipykernel_3245245/1638766432.py:38: FutureWarning: The frame.append method is deprecated and will be removed from pandas in a future version. Use pandas.concat instead.\n",
      "  final_Data = final_Data.append(data1, ignore_index = True)\n"
     ]
    },
    {
     "name": "stdout",
     "output_type": "stream",
     "text": [
      "final data  178 -  (5904, 42)\n",
      "-------------------------------------------------------------\n",
      "4/4 [==============================] - 0s 2ms/step\n",
      "-------------------------------------------------------------\n",
      " confusion_matrix for new data with deeper model \n",
      " [[ 0  0]\n",
      " [76 24]]\n",
      "only attack data -  (24, 42)\n",
      "final data  179 -  (5928, 42)\n",
      "-------------------------------------------------------------\n",
      "4/4 [==============================] - 0s 2ms/step\n",
      "-------------------------------------------------------------\n",
      " confusion_matrix for new data with deeper model \n",
      " [[ 0  0]\n",
      " [65 35]]\n",
      "only attack data -  (35, 42)\n",
      "final data  180 -  (5963, 42)\n",
      "-------------------------------------------------------------\n"
     ]
    },
    {
     "name": "stderr",
     "output_type": "stream",
     "text": [
      "/tmp/ipykernel_3245245/1638766432.py:38: FutureWarning: The frame.append method is deprecated and will be removed from pandas in a future version. Use pandas.concat instead.\n",
      "  final_Data = final_Data.append(data1, ignore_index = True)\n",
      "/tmp/ipykernel_3245245/1638766432.py:38: FutureWarning: The frame.append method is deprecated and will be removed from pandas in a future version. Use pandas.concat instead.\n",
      "  final_Data = final_Data.append(data1, ignore_index = True)\n"
     ]
    },
    {
     "name": "stdout",
     "output_type": "stream",
     "text": [
      "4/4 [==============================] - 0s 3ms/step\n",
      "-------------------------------------------------------------\n",
      " confusion_matrix for new data with deeper model \n",
      " [[ 0  0]\n",
      " [69 31]]\n",
      "only attack data -  (31, 42)\n",
      "final data  181 -  (5994, 42)\n",
      "-------------------------------------------------------------\n",
      "4/4 [==============================] - 0s 3ms/step\n",
      "-------------------------------------------------------------\n",
      " confusion_matrix for new data with deeper model \n",
      " [[ 0  0]\n",
      " [66 34]]\n",
      "only attack data -  (34, 42)\n",
      "final data  182 -  (6028, 42)\n",
      "-------------------------------------------------------------\n"
     ]
    },
    {
     "name": "stderr",
     "output_type": "stream",
     "text": [
      "/tmp/ipykernel_3245245/1638766432.py:38: FutureWarning: The frame.append method is deprecated and will be removed from pandas in a future version. Use pandas.concat instead.\n",
      "  final_Data = final_Data.append(data1, ignore_index = True)\n",
      "/tmp/ipykernel_3245245/1638766432.py:38: FutureWarning: The frame.append method is deprecated and will be removed from pandas in a future version. Use pandas.concat instead.\n",
      "  final_Data = final_Data.append(data1, ignore_index = True)\n"
     ]
    },
    {
     "name": "stdout",
     "output_type": "stream",
     "text": [
      "4/4 [==============================] - 0s 3ms/step\n",
      "-------------------------------------------------------------\n",
      " confusion_matrix for new data with deeper model \n",
      " [[ 0  0]\n",
      " [63 37]]\n",
      "only attack data -  (37, 42)\n",
      "final data  183 -  (6065, 42)\n",
      "-------------------------------------------------------------\n",
      "4/4 [==============================] - 0s 3ms/step\n",
      "-------------------------------------------------------------\n",
      " confusion_matrix for new data with deeper model \n",
      " [[ 0  0]\n",
      " [69 31]]\n",
      "only attack data -  (31, 42)\n",
      "final data  184 -  (6096, 42)\n",
      "-------------------------------------------------------------\n"
     ]
    },
    {
     "name": "stderr",
     "output_type": "stream",
     "text": [
      "/tmp/ipykernel_3245245/1638766432.py:38: FutureWarning: The frame.append method is deprecated and will be removed from pandas in a future version. Use pandas.concat instead.\n",
      "  final_Data = final_Data.append(data1, ignore_index = True)\n",
      "/tmp/ipykernel_3245245/1638766432.py:38: FutureWarning: The frame.append method is deprecated and will be removed from pandas in a future version. Use pandas.concat instead.\n",
      "  final_Data = final_Data.append(data1, ignore_index = True)\n"
     ]
    },
    {
     "name": "stdout",
     "output_type": "stream",
     "text": [
      "4/4 [==============================] - 0s 3ms/step\n",
      "-------------------------------------------------------------\n",
      " confusion_matrix for new data with deeper model \n",
      " [[ 0  0]\n",
      " [70 30]]\n",
      "only attack data -  (30, 42)\n",
      "final data  185 -  (6126, 42)\n",
      "-------------------------------------------------------------\n",
      "4/4 [==============================] - 0s 3ms/step\n",
      "-------------------------------------------------------------\n",
      " confusion_matrix for new data with deeper model \n",
      " [[ 0  0]\n",
      " [69 31]]\n",
      "only attack data -  (31, 42)\n",
      "final data  186 -  (6157, 42)\n",
      "-------------------------------------------------------------\n"
     ]
    },
    {
     "name": "stderr",
     "output_type": "stream",
     "text": [
      "/tmp/ipykernel_3245245/1638766432.py:38: FutureWarning: The frame.append method is deprecated and will be removed from pandas in a future version. Use pandas.concat instead.\n",
      "  final_Data = final_Data.append(data1, ignore_index = True)\n",
      "/tmp/ipykernel_3245245/1638766432.py:38: FutureWarning: The frame.append method is deprecated and will be removed from pandas in a future version. Use pandas.concat instead.\n",
      "  final_Data = final_Data.append(data1, ignore_index = True)\n"
     ]
    },
    {
     "name": "stdout",
     "output_type": "stream",
     "text": [
      "4/4 [==============================] - 0s 3ms/step\n",
      "-------------------------------------------------------------\n",
      " confusion_matrix for new data with deeper model \n",
      " [[ 0  0]\n",
      " [74 26]]\n",
      "only attack data -  (26, 42)\n",
      "final data  187 -  (6183, 42)\n",
      "-------------------------------------------------------------\n",
      "4/4 [==============================] - 0s 3ms/step\n"
     ]
    },
    {
     "name": "stderr",
     "output_type": "stream",
     "text": [
      "/tmp/ipykernel_3245245/1638766432.py:38: FutureWarning: The frame.append method is deprecated and will be removed from pandas in a future version. Use pandas.concat instead.\n",
      "  final_Data = final_Data.append(data1, ignore_index = True)\n"
     ]
    },
    {
     "name": "stdout",
     "output_type": "stream",
     "text": [
      "-------------------------------------------------------------\n",
      " confusion_matrix for new data with deeper model \n",
      " [[ 0  0]\n",
      " [70 30]]\n",
      "only attack data -  (30, 42)\n",
      "final data  188 -  (6213, 42)\n",
      "-------------------------------------------------------------\n",
      "4/4 [==============================] - 0s 3ms/step\n",
      "-------------------------------------------------------------\n",
      " confusion_matrix for new data with deeper model \n",
      " [[ 0  0]\n",
      " [64 36]]\n",
      "only attack data -  (36, 42)\n",
      "final data  189 -  (6249, 42)\n",
      "-------------------------------------------------------------\n"
     ]
    },
    {
     "name": "stderr",
     "output_type": "stream",
     "text": [
      "/tmp/ipykernel_3245245/1638766432.py:38: FutureWarning: The frame.append method is deprecated and will be removed from pandas in a future version. Use pandas.concat instead.\n",
      "  final_Data = final_Data.append(data1, ignore_index = True)\n",
      "/tmp/ipykernel_3245245/1638766432.py:38: FutureWarning: The frame.append method is deprecated and will be removed from pandas in a future version. Use pandas.concat instead.\n",
      "  final_Data = final_Data.append(data1, ignore_index = True)\n"
     ]
    },
    {
     "name": "stdout",
     "output_type": "stream",
     "text": [
      "4/4 [==============================] - 0s 2ms/step\n",
      "-------------------------------------------------------------\n",
      " confusion_matrix for new data with deeper model \n",
      " [[ 0  0]\n",
      " [66 34]]\n",
      "only attack data -  (34, 42)\n",
      "final data  190 -  (6283, 42)\n",
      "-------------------------------------------------------------\n",
      "4/4 [==============================] - 0s 2ms/step\n",
      "-------------------------------------------------------------\n",
      " confusion_matrix for new data with deeper model \n",
      " [[ 0  0]\n",
      " [59 41]]\n",
      "only attack data -  (41, 42)\n",
      "final data  191 -  (6324, 42)\n",
      "-------------------------------------------------------------\n"
     ]
    },
    {
     "name": "stderr",
     "output_type": "stream",
     "text": [
      "/tmp/ipykernel_3245245/1638766432.py:38: FutureWarning: The frame.append method is deprecated and will be removed from pandas in a future version. Use pandas.concat instead.\n",
      "  final_Data = final_Data.append(data1, ignore_index = True)\n",
      "/tmp/ipykernel_3245245/1638766432.py:38: FutureWarning: The frame.append method is deprecated and will be removed from pandas in a future version. Use pandas.concat instead.\n",
      "  final_Data = final_Data.append(data1, ignore_index = True)\n"
     ]
    },
    {
     "name": "stdout",
     "output_type": "stream",
     "text": [
      "4/4 [==============================] - 0s 3ms/step\n",
      "-------------------------------------------------------------\n",
      " confusion_matrix for new data with deeper model \n",
      " [[ 0  0]\n",
      " [69 31]]\n",
      "only attack data -  (31, 42)\n",
      "final data  192 -  (6355, 42)\n",
      "-------------------------------------------------------------\n",
      "4/4 [==============================] - 0s 3ms/step\n",
      "-------------------------------------------------------------\n",
      " confusion_matrix for new data with deeper model \n",
      " [[ 0  0]\n",
      " [62 38]]\n",
      "only attack data -  (38, 42)\n",
      "final data  193 -  (6393, 42)\n",
      "-------------------------------------------------------------\n"
     ]
    },
    {
     "name": "stderr",
     "output_type": "stream",
     "text": [
      "/tmp/ipykernel_3245245/1638766432.py:38: FutureWarning: The frame.append method is deprecated and will be removed from pandas in a future version. Use pandas.concat instead.\n",
      "  final_Data = final_Data.append(data1, ignore_index = True)\n",
      "/tmp/ipykernel_3245245/1638766432.py:38: FutureWarning: The frame.append method is deprecated and will be removed from pandas in a future version. Use pandas.concat instead.\n",
      "  final_Data = final_Data.append(data1, ignore_index = True)\n"
     ]
    },
    {
     "name": "stdout",
     "output_type": "stream",
     "text": [
      "4/4 [==============================] - 0s 3ms/step\n",
      "-------------------------------------------------------------\n",
      " confusion_matrix for new data with deeper model \n",
      " [[ 0  0]\n",
      " [70 30]]\n",
      "only attack data -  (30, 42)\n",
      "final data  194 -  (6423, 42)\n",
      "-------------------------------------------------------------\n",
      "4/4 [==============================] - 0s 3ms/step\n",
      "-------------------------------------------------------------\n",
      " confusion_matrix for new data with deeper model \n",
      " [[ 0  0]\n",
      " [66 34]]\n",
      "only attack data -  (34, 42)\n",
      "final data  195 -  (6457, 42)\n",
      "-------------------------------------------------------------\n"
     ]
    },
    {
     "name": "stderr",
     "output_type": "stream",
     "text": [
      "/tmp/ipykernel_3245245/1638766432.py:38: FutureWarning: The frame.append method is deprecated and will be removed from pandas in a future version. Use pandas.concat instead.\n",
      "  final_Data = final_Data.append(data1, ignore_index = True)\n",
      "/tmp/ipykernel_3245245/1638766432.py:38: FutureWarning: The frame.append method is deprecated and will be removed from pandas in a future version. Use pandas.concat instead.\n",
      "  final_Data = final_Data.append(data1, ignore_index = True)\n"
     ]
    },
    {
     "name": "stdout",
     "output_type": "stream",
     "text": [
      "4/4 [==============================] - 0s 3ms/step\n",
      "-------------------------------------------------------------\n",
      " confusion_matrix for new data with deeper model \n",
      " [[ 0  0]\n",
      " [74 26]]\n",
      "only attack data -  (26, 42)\n",
      "final data  196 -  (6483, 42)\n",
      "-------------------------------------------------------------\n",
      "4/4 [==============================] - 0s 3ms/step\n",
      "-------------------------------------------------------------\n",
      " confusion_matrix for new data with deeper model \n",
      " [[ 0  0]\n",
      " [60 40]]\n",
      "only attack data -  (40, 42)\n",
      "final data  197 -  (6523, 42)\n",
      "-------------------------------------------------------------\n"
     ]
    },
    {
     "name": "stderr",
     "output_type": "stream",
     "text": [
      "/tmp/ipykernel_3245245/1638766432.py:38: FutureWarning: The frame.append method is deprecated and will be removed from pandas in a future version. Use pandas.concat instead.\n",
      "  final_Data = final_Data.append(data1, ignore_index = True)\n",
      "/tmp/ipykernel_3245245/1638766432.py:38: FutureWarning: The frame.append method is deprecated and will be removed from pandas in a future version. Use pandas.concat instead.\n",
      "  final_Data = final_Data.append(data1, ignore_index = True)\n"
     ]
    },
    {
     "name": "stdout",
     "output_type": "stream",
     "text": [
      "4/4 [==============================] - 0s 3ms/step\n",
      "-------------------------------------------------------------\n",
      " confusion_matrix for new data with deeper model \n",
      " [[ 0  0]\n",
      " [74 26]]\n",
      "only attack data -  (26, 42)\n",
      "final data  198 -  (6549, 42)\n",
      "-------------------------------------------------------------\n",
      "4/4 [==============================] - 0s 3ms/step\n",
      "-------------------------------------------------------------\n",
      " confusion_matrix for new data with deeper model \n",
      " [[ 0  0]\n",
      " [63 37]]\n",
      "only attack data -  (37, 42)\n",
      "final data  199 -  (6586, 42)\n",
      "-------------------------------------------------------------\n"
     ]
    },
    {
     "name": "stderr",
     "output_type": "stream",
     "text": [
      "/tmp/ipykernel_3245245/1638766432.py:38: FutureWarning: The frame.append method is deprecated and will be removed from pandas in a future version. Use pandas.concat instead.\n",
      "  final_Data = final_Data.append(data1, ignore_index = True)\n",
      "/tmp/ipykernel_3245245/1638766432.py:38: FutureWarning: The frame.append method is deprecated and will be removed from pandas in a future version. Use pandas.concat instead.\n",
      "  final_Data = final_Data.append(data1, ignore_index = True)\n"
     ]
    },
    {
     "name": "stdout",
     "output_type": "stream",
     "text": [
      "4/4 [==============================] - 0s 3ms/step\n",
      "-------------------------------------------------------------\n",
      " confusion_matrix for new data with deeper model \n",
      " [[ 0  0]\n",
      " [63 37]]\n",
      "only attack data -  (37, 42)\n",
      "final data  200 -  (6623, 42)\n",
      "-------------------------------------------------------------\n",
      "4/4 [==============================] - 0s 3ms/step\n",
      "-------------------------------------------------------------\n",
      " confusion_matrix for new data with deeper model \n",
      " [[ 0  0]\n",
      " [62 38]]\n",
      "only attack data -  (38, 42)\n",
      "final data  201 -  (6661, 42)\n",
      "-------------------------------------------------------------\n"
     ]
    },
    {
     "name": "stderr",
     "output_type": "stream",
     "text": [
      "/tmp/ipykernel_3245245/1638766432.py:38: FutureWarning: The frame.append method is deprecated and will be removed from pandas in a future version. Use pandas.concat instead.\n",
      "  final_Data = final_Data.append(data1, ignore_index = True)\n",
      "/tmp/ipykernel_3245245/1638766432.py:38: FutureWarning: The frame.append method is deprecated and will be removed from pandas in a future version. Use pandas.concat instead.\n",
      "  final_Data = final_Data.append(data1, ignore_index = True)\n"
     ]
    },
    {
     "name": "stdout",
     "output_type": "stream",
     "text": [
      "4/4 [==============================] - 0s 3ms/step\n",
      "-------------------------------------------------------------\n",
      " confusion_matrix for new data with deeper model \n",
      " [[ 0  0]\n",
      " [69 31]]\n",
      "only attack data -  (31, 42)\n",
      "final data  202 -  (6692, 42)\n",
      "-------------------------------------------------------------\n",
      "4/4 [==============================] - 0s 2ms/step\n",
      "-------------------------------------------------------------\n",
      " confusion_matrix for new data with deeper model \n",
      " [[ 0  0]\n",
      " [65 35]]\n",
      "only attack data -  (35, 42)\n",
      "final data  203 -  (6727, 42)\n",
      "-------------------------------------------------------------\n"
     ]
    },
    {
     "name": "stderr",
     "output_type": "stream",
     "text": [
      "/tmp/ipykernel_3245245/1638766432.py:38: FutureWarning: The frame.append method is deprecated and will be removed from pandas in a future version. Use pandas.concat instead.\n",
      "  final_Data = final_Data.append(data1, ignore_index = True)\n",
      "/tmp/ipykernel_3245245/1638766432.py:38: FutureWarning: The frame.append method is deprecated and will be removed from pandas in a future version. Use pandas.concat instead.\n",
      "  final_Data = final_Data.append(data1, ignore_index = True)\n"
     ]
    },
    {
     "name": "stdout",
     "output_type": "stream",
     "text": [
      "4/4 [==============================] - 0s 2ms/step\n",
      "-------------------------------------------------------------\n",
      " confusion_matrix for new data with deeper model \n",
      " [[ 0  0]\n",
      " [67 33]]\n",
      "only attack data -  (33, 42)\n",
      "final data  204 -  (6760, 42)\n",
      "-------------------------------------------------------------\n",
      "4/4 [==============================] - 0s 2ms/step\n",
      "-------------------------------------------------------------\n",
      " confusion_matrix for new data with deeper model \n",
      " [[ 0  0]\n",
      " [59 41]]\n",
      "only attack data -  (41, 42)\n",
      "final data  205 -  (6801, 42)\n",
      "-------------------------------------------------------------\n",
      "4/4 [==============================] - 0s 2ms/step\n",
      "-------------------------------------------------------------\n",
      " confusion_matrix for new data with deeper model \n",
      " [[ 0  0]\n",
      " [69 31]]\n",
      "only attack data -  (31, 42)\n",
      "final data  206 -  (6832, 42)\n",
      "-------------------------------------------------------------\n"
     ]
    },
    {
     "name": "stderr",
     "output_type": "stream",
     "text": [
      "/tmp/ipykernel_3245245/1638766432.py:38: FutureWarning: The frame.append method is deprecated and will be removed from pandas in a future version. Use pandas.concat instead.\n",
      "  final_Data = final_Data.append(data1, ignore_index = True)\n",
      "/tmp/ipykernel_3245245/1638766432.py:38: FutureWarning: The frame.append method is deprecated and will be removed from pandas in a future version. Use pandas.concat instead.\n",
      "  final_Data = final_Data.append(data1, ignore_index = True)\n",
      "/tmp/ipykernel_3245245/1638766432.py:38: FutureWarning: The frame.append method is deprecated and will be removed from pandas in a future version. Use pandas.concat instead.\n",
      "  final_Data = final_Data.append(data1, ignore_index = True)\n"
     ]
    },
    {
     "name": "stdout",
     "output_type": "stream",
     "text": [
      "4/4 [==============================] - 0s 2ms/step\n",
      "-------------------------------------------------------------\n",
      " confusion_matrix for new data with deeper model \n",
      " [[ 0  0]\n",
      " [73 27]]\n",
      "only attack data -  (27, 42)\n",
      "final data  207 -  (6859, 42)\n",
      "-------------------------------------------------------------\n",
      "4/4 [==============================] - 0s 3ms/step\n",
      "-------------------------------------------------------------\n",
      " confusion_matrix for new data with deeper model \n",
      " [[ 0  0]\n",
      " [60 40]]\n",
      "only attack data -  (40, 42)\n",
      "final data  208 -  (6899, 42)\n",
      "-------------------------------------------------------------\n"
     ]
    },
    {
     "name": "stderr",
     "output_type": "stream",
     "text": [
      "/tmp/ipykernel_3245245/1638766432.py:38: FutureWarning: The frame.append method is deprecated and will be removed from pandas in a future version. Use pandas.concat instead.\n",
      "  final_Data = final_Data.append(data1, ignore_index = True)\n",
      "/tmp/ipykernel_3245245/1638766432.py:38: FutureWarning: The frame.append method is deprecated and will be removed from pandas in a future version. Use pandas.concat instead.\n",
      "  final_Data = final_Data.append(data1, ignore_index = True)\n"
     ]
    },
    {
     "name": "stdout",
     "output_type": "stream",
     "text": [
      "4/4 [==============================] - 0s 3ms/step\n",
      "-------------------------------------------------------------\n",
      " confusion_matrix for new data with deeper model \n",
      " [[ 0  0]\n",
      " [61 39]]\n",
      "only attack data -  (39, 42)\n",
      "final data  209 -  (6938, 42)\n",
      "-------------------------------------------------------------\n",
      "4/4 [==============================] - 0s 3ms/step\n",
      "-------------------------------------------------------------\n",
      " confusion_matrix for new data with deeper model \n",
      " [[ 0  0]\n",
      " [63 37]]\n",
      "only attack data -  (37, 42)\n",
      "final data  210 -  (6975, 42)\n",
      "-------------------------------------------------------------\n"
     ]
    },
    {
     "name": "stderr",
     "output_type": "stream",
     "text": [
      "/tmp/ipykernel_3245245/1638766432.py:38: FutureWarning: The frame.append method is deprecated and will be removed from pandas in a future version. Use pandas.concat instead.\n",
      "  final_Data = final_Data.append(data1, ignore_index = True)\n",
      "/tmp/ipykernel_3245245/1638766432.py:38: FutureWarning: The frame.append method is deprecated and will be removed from pandas in a future version. Use pandas.concat instead.\n",
      "  final_Data = final_Data.append(data1, ignore_index = True)\n"
     ]
    },
    {
     "name": "stdout",
     "output_type": "stream",
     "text": [
      "4/4 [==============================] - 0s 3ms/step\n",
      "-------------------------------------------------------------\n",
      " confusion_matrix for new data with deeper model \n",
      " [[ 0  0]\n",
      " [64 36]]\n",
      "only attack data -  (36, 42)\n",
      "final data  211 -  (7011, 42)\n",
      "-------------------------------------------------------------\n",
      "4/4 [==============================] - 0s 2ms/step\n",
      "-------------------------------------------------------------\n",
      " confusion_matrix for new data with deeper model \n",
      " [[ 0  0]\n",
      " [65 35]]\n",
      "only attack data -  (35, 42)\n",
      "final data  212 -  (7046, 42)\n",
      "-------------------------------------------------------------\n"
     ]
    },
    {
     "name": "stderr",
     "output_type": "stream",
     "text": [
      "/tmp/ipykernel_3245245/1638766432.py:38: FutureWarning: The frame.append method is deprecated and will be removed from pandas in a future version. Use pandas.concat instead.\n",
      "  final_Data = final_Data.append(data1, ignore_index = True)\n",
      "/tmp/ipykernel_3245245/1638766432.py:38: FutureWarning: The frame.append method is deprecated and will be removed from pandas in a future version. Use pandas.concat instead.\n",
      "  final_Data = final_Data.append(data1, ignore_index = True)\n"
     ]
    },
    {
     "name": "stdout",
     "output_type": "stream",
     "text": [
      "4/4 [==============================] - 0s 2ms/step\n",
      "-------------------------------------------------------------\n",
      " confusion_matrix for new data with deeper model \n",
      " [[ 0  0]\n",
      " [74 26]]\n",
      "only attack data -  (26, 42)\n",
      "final data  213 -  (7072, 42)\n",
      "-------------------------------------------------------------\n",
      "4/4 [==============================] - 0s 2ms/step\n",
      "-------------------------------------------------------------\n",
      " confusion_matrix for new data with deeper model \n",
      " [[ 0  0]\n",
      " [72 28]]\n",
      "only attack data -  (28, 42)\n",
      "final data  214 -  (7100, 42)\n",
      "-------------------------------------------------------------\n",
      "4/4 [==============================] - 0s 2ms/step\n",
      "-------------------------------------------------------------\n",
      " confusion_matrix for new data with deeper model \n",
      " [[ 0  0]\n",
      " [69 31]]\n",
      "only attack data -  (31, 42)\n",
      "final data  215 -  (7131, 42)\n",
      "-------------------------------------------------------------\n"
     ]
    },
    {
     "name": "stderr",
     "output_type": "stream",
     "text": [
      "/tmp/ipykernel_3245245/1638766432.py:38: FutureWarning: The frame.append method is deprecated and will be removed from pandas in a future version. Use pandas.concat instead.\n",
      "  final_Data = final_Data.append(data1, ignore_index = True)\n",
      "/tmp/ipykernel_3245245/1638766432.py:38: FutureWarning: The frame.append method is deprecated and will be removed from pandas in a future version. Use pandas.concat instead.\n",
      "  final_Data = final_Data.append(data1, ignore_index = True)\n",
      "/tmp/ipykernel_3245245/1638766432.py:38: FutureWarning: The frame.append method is deprecated and will be removed from pandas in a future version. Use pandas.concat instead.\n",
      "  final_Data = final_Data.append(data1, ignore_index = True)\n"
     ]
    },
    {
     "name": "stdout",
     "output_type": "stream",
     "text": [
      "4/4 [==============================] - 0s 2ms/step\n",
      "-------------------------------------------------------------\n",
      " confusion_matrix for new data with deeper model \n",
      " [[ 0  0]\n",
      " [56 44]]\n",
      "only attack data -  (44, 42)\n",
      "final data  216 -  (7175, 42)\n",
      "-------------------------------------------------------------\n",
      "4/4 [==============================] - 0s 2ms/step\n",
      "-------------------------------------------------------------\n",
      " confusion_matrix for new data with deeper model \n",
      " [[ 0  0]\n",
      " [64 36]]\n",
      "only attack data -  (36, 42)\n",
      "final data  217 -  (7211, 42)\n",
      "-------------------------------------------------------------\n"
     ]
    },
    {
     "name": "stderr",
     "output_type": "stream",
     "text": [
      "/tmp/ipykernel_3245245/1638766432.py:38: FutureWarning: The frame.append method is deprecated and will be removed from pandas in a future version. Use pandas.concat instead.\n",
      "  final_Data = final_Data.append(data1, ignore_index = True)\n",
      "/tmp/ipykernel_3245245/1638766432.py:38: FutureWarning: The frame.append method is deprecated and will be removed from pandas in a future version. Use pandas.concat instead.\n",
      "  final_Data = final_Data.append(data1, ignore_index = True)\n"
     ]
    },
    {
     "name": "stdout",
     "output_type": "stream",
     "text": [
      "4/4 [==============================] - 0s 2ms/step\n",
      "-------------------------------------------------------------\n",
      " confusion_matrix for new data with deeper model \n",
      " [[ 0  0]\n",
      " [69 31]]\n",
      "only attack data -  (31, 42)\n",
      "final data  218 -  (7242, 42)\n",
      "-------------------------------------------------------------\n",
      "4/4 [==============================] - 0s 2ms/step\n",
      "-------------------------------------------------------------\n",
      " confusion_matrix for new data with deeper model \n",
      " [[ 0  0]\n",
      " [75 25]]\n",
      "only attack data -  (25, 42)\n",
      "final data  219 -  (7267, 42)\n",
      "-------------------------------------------------------------\n",
      "4/4 [==============================] - 0s 2ms/step\n"
     ]
    },
    {
     "name": "stderr",
     "output_type": "stream",
     "text": [
      "/tmp/ipykernel_3245245/1638766432.py:38: FutureWarning: The frame.append method is deprecated and will be removed from pandas in a future version. Use pandas.concat instead.\n",
      "  final_Data = final_Data.append(data1, ignore_index = True)\n",
      "/tmp/ipykernel_3245245/1638766432.py:38: FutureWarning: The frame.append method is deprecated and will be removed from pandas in a future version. Use pandas.concat instead.\n",
      "  final_Data = final_Data.append(data1, ignore_index = True)\n"
     ]
    },
    {
     "name": "stdout",
     "output_type": "stream",
     "text": [
      "-------------------------------------------------------------\n",
      " confusion_matrix for new data with deeper model \n",
      " [[ 0  0]\n",
      " [66 34]]\n",
      "only attack data -  (34, 42)\n",
      "final data  220 -  (7301, 42)\n",
      "-------------------------------------------------------------\n",
      "4/4 [==============================] - 0s 2ms/step\n",
      "-------------------------------------------------------------\n",
      " confusion_matrix for new data with deeper model \n",
      " [[ 0  0]\n",
      " [65 35]]\n",
      "only attack data -  (35, 42)\n",
      "final data  221 -  (7336, 42)\n",
      "-------------------------------------------------------------\n",
      "4/4 [==============================] - 0s 2ms/step\n",
      "-------------------------------------------------------------"
     ]
    },
    {
     "name": "stderr",
     "output_type": "stream",
     "text": [
      "/tmp/ipykernel_3245245/1638766432.py:38: FutureWarning: The frame.append method is deprecated and will be removed from pandas in a future version. Use pandas.concat instead.\n",
      "  final_Data = final_Data.append(data1, ignore_index = True)\n",
      "/tmp/ipykernel_3245245/1638766432.py:38: FutureWarning: The frame.append method is deprecated and will be removed from pandas in a future version. Use pandas.concat instead.\n",
      "  final_Data = final_Data.append(data1, ignore_index = True)\n"
     ]
    },
    {
     "name": "stdout",
     "output_type": "stream",
     "text": [
      "\n",
      " confusion_matrix for new data with deeper model \n",
      " [[ 0  0]\n",
      " [70 30]]\n",
      "only attack data -  (30, 42)\n",
      "final data  222 -  (7366, 42)\n",
      "-------------------------------------------------------------\n",
      "4/4 [==============================] - 0s 2ms/step\n",
      "-------------------------------------------------------------\n",
      " confusion_matrix for new data with deeper model \n",
      " [[ 0  0]\n",
      " [66 34]]\n",
      "only attack data -  (34, 42)\n",
      "final data  223 -  (7400, 42)\n",
      "-------------------------------------------------------------\n",
      "4/4 [==============================] - 0s 2ms/step\n",
      "-------------------------------------------------------------"
     ]
    },
    {
     "name": "stderr",
     "output_type": "stream",
     "text": [
      "/tmp/ipykernel_3245245/1638766432.py:38: FutureWarning: The frame.append method is deprecated and will be removed from pandas in a future version. Use pandas.concat instead.\n",
      "  final_Data = final_Data.append(data1, ignore_index = True)\n",
      "/tmp/ipykernel_3245245/1638766432.py:38: FutureWarning: The frame.append method is deprecated and will be removed from pandas in a future version. Use pandas.concat instead.\n",
      "  final_Data = final_Data.append(data1, ignore_index = True)\n"
     ]
    },
    {
     "name": "stdout",
     "output_type": "stream",
     "text": [
      "\n",
      " confusion_matrix for new data with deeper model \n",
      " [[ 0  0]\n",
      " [73 27]]\n",
      "only attack data -  (27, 42)\n",
      "final data  224 -  (7427, 42)\n",
      "-------------------------------------------------------------\n",
      "4/4 [==============================] - 0s 3ms/step\n",
      "-------------------------------------------------------------\n",
      " confusion_matrix for new data with deeper model \n",
      " [[ 0  0]\n",
      " [58 42]]\n",
      "only attack data -  (42, 42)\n",
      "final data  225 -  (7469, 42)\n",
      "-------------------------------------------------------------\n"
     ]
    },
    {
     "name": "stderr",
     "output_type": "stream",
     "text": [
      "/tmp/ipykernel_3245245/1638766432.py:38: FutureWarning: The frame.append method is deprecated and will be removed from pandas in a future version. Use pandas.concat instead.\n",
      "  final_Data = final_Data.append(data1, ignore_index = True)\n",
      "/tmp/ipykernel_3245245/1638766432.py:38: FutureWarning: The frame.append method is deprecated and will be removed from pandas in a future version. Use pandas.concat instead.\n",
      "  final_Data = final_Data.append(data1, ignore_index = True)\n"
     ]
    },
    {
     "name": "stdout",
     "output_type": "stream",
     "text": [
      "4/4 [==============================] - 0s 2ms/step\n",
      "-------------------------------------------------------------\n",
      " confusion_matrix for new data with deeper model \n",
      " [[ 0  0]\n",
      " [68 32]]\n",
      "only attack data -  (32, 42)\n",
      "final data  226 -  (7501, 42)\n",
      "-------------------------------------------------------------\n",
      "4/4 [==============================] - 0s 2ms/step\n",
      "-------------------------------------------------------------\n",
      " confusion_matrix for new data with deeper model \n",
      " [[ 0  0]\n",
      " [66 34]]\n",
      "only attack data -  (34, 42)\n",
      "final data  227 -  (7535, 42)\n",
      "-------------------------------------------------------------\n",
      "1/4 [======>.......................] - ETA: 0s"
     ]
    },
    {
     "name": "stderr",
     "output_type": "stream",
     "text": [
      "/tmp/ipykernel_3245245/1638766432.py:38: FutureWarning: The frame.append method is deprecated and will be removed from pandas in a future version. Use pandas.concat instead.\n",
      "  final_Data = final_Data.append(data1, ignore_index = True)\n",
      "/tmp/ipykernel_3245245/1638766432.py:38: FutureWarning: The frame.append method is deprecated and will be removed from pandas in a future version. Use pandas.concat instead.\n",
      "  final_Data = final_Data.append(data1, ignore_index = True)\n"
     ]
    },
    {
     "name": "stdout",
     "output_type": "stream",
     "text": [
      "4/4 [==============================] - 0s 2ms/step\n",
      "-------------------------------------------------------------\n",
      " confusion_matrix for new data with deeper model \n",
      " [[ 0  0]\n",
      " [69 31]]\n",
      "only attack data -  (31, 42)\n",
      "final data  228 -  (7566, 42)\n",
      "-------------------------------------------------------------\n",
      "4/4 [==============================] - 0s 2ms/step\n",
      "-------------------------------------------------------------\n",
      " confusion_matrix for new data with deeper model \n",
      " [[ 0  0]\n",
      " [68 32]]\n",
      "only attack data -  (32, 42)\n",
      "final data  229 -  (7598, 42)\n",
      "-------------------------------------------------------------\n",
      "4/4 [==============================] - 0s 2ms/step\n",
      "-------------------------------------------------------------\n",
      " confusion_matrix for new data with deeper model \n",
      " [[ 0  0]\n",
      " [66 34]]\n",
      "only attack data -  (34, 42)\n",
      "final data  230 -  (7632, 42)\n",
      "-------------------------------------------------------------\n"
     ]
    },
    {
     "name": "stderr",
     "output_type": "stream",
     "text": [
      "/tmp/ipykernel_3245245/1638766432.py:38: FutureWarning: The frame.append method is deprecated and will be removed from pandas in a future version. Use pandas.concat instead.\n",
      "  final_Data = final_Data.append(data1, ignore_index = True)\n",
      "/tmp/ipykernel_3245245/1638766432.py:38: FutureWarning: The frame.append method is deprecated and will be removed from pandas in a future version. Use pandas.concat instead.\n",
      "  final_Data = final_Data.append(data1, ignore_index = True)\n",
      "/tmp/ipykernel_3245245/1638766432.py:38: FutureWarning: The frame.append method is deprecated and will be removed from pandas in a future version. Use pandas.concat instead.\n",
      "  final_Data = final_Data.append(data1, ignore_index = True)\n"
     ]
    },
    {
     "name": "stdout",
     "output_type": "stream",
     "text": [
      "4/4 [==============================] - 0s 2ms/step\n",
      "-------------------------------------------------------------\n",
      " confusion_matrix for new data with deeper model \n",
      " [[ 0  0]\n",
      " [71 29]]\n",
      "only attack data -  (29, 42)\n",
      "final data  231 -  (7661, 42)\n",
      "-------------------------------------------------------------\n",
      "4/4 [==============================] - 0s 2ms/step\n",
      "-------------------------------------------------------------\n",
      " confusion_matrix for new data with deeper model \n",
      " [[ 0  0]\n",
      " [70 30]]\n",
      "only attack data -  (30, 42)\n",
      "final data  232 -  (7691, 42)\n",
      "-------------------------------------------------------------\n",
      "4/4 [==============================] - 0s 2ms/step\n",
      "-------------------------------------------------------------\n",
      " confusion_matrix for new data with deeper model \n",
      " [[ 0  0]\n",
      " [67 33]]\n",
      "only attack data -  (33, 42)\n",
      "final data  233 -  (7724, 42)\n",
      "-------------------------------------------------------------\n"
     ]
    },
    {
     "name": "stderr",
     "output_type": "stream",
     "text": [
      "/tmp/ipykernel_3245245/1638766432.py:38: FutureWarning: The frame.append method is deprecated and will be removed from pandas in a future version. Use pandas.concat instead.\n",
      "  final_Data = final_Data.append(data1, ignore_index = True)\n",
      "/tmp/ipykernel_3245245/1638766432.py:38: FutureWarning: The frame.append method is deprecated and will be removed from pandas in a future version. Use pandas.concat instead.\n",
      "  final_Data = final_Data.append(data1, ignore_index = True)\n",
      "/tmp/ipykernel_3245245/1638766432.py:38: FutureWarning: The frame.append method is deprecated and will be removed from pandas in a future version. Use pandas.concat instead.\n",
      "  final_Data = final_Data.append(data1, ignore_index = True)\n"
     ]
    },
    {
     "name": "stdout",
     "output_type": "stream",
     "text": [
      "4/4 [==============================] - 0s 2ms/step\n",
      "-------------------------------------------------------------\n",
      " confusion_matrix for new data with deeper model \n",
      " [[ 0  0]\n",
      " [70 30]]\n",
      "only attack data -  (30, 42)\n",
      "final data  234 -  (7754, 42)\n",
      "-------------------------------------------------------------\n",
      "4/4 [==============================] - 0s 2ms/step\n",
      "-------------------------------------------------------------\n",
      " confusion_matrix for new data with deeper model \n",
      " [[ 0  0]\n",
      " [67 33]]\n",
      "only attack data -  (33, 42)\n",
      "final data  235 -  (7787, 42)\n",
      "-------------------------------------------------------------\n",
      "4/4 [==============================] - 0s 2ms/step\n",
      "-------------------------------------------------------------\n",
      " confusion_matrix for new data with deeper model \n",
      " [[ 0  0]\n",
      " [68 32]]\n",
      "only attack data -  (32, 42)\n",
      "final data "
     ]
    },
    {
     "name": "stderr",
     "output_type": "stream",
     "text": [
      "/tmp/ipykernel_3245245/1638766432.py:38: FutureWarning: The frame.append method is deprecated and will be removed from pandas in a future version. Use pandas.concat instead.\n",
      "  final_Data = final_Data.append(data1, ignore_index = True)\n",
      "/tmp/ipykernel_3245245/1638766432.py:38: FutureWarning: The frame.append method is deprecated and will be removed from pandas in a future version. Use pandas.concat instead.\n",
      "  final_Data = final_Data.append(data1, ignore_index = True)\n",
      "/tmp/ipykernel_3245245/1638766432.py:38: FutureWarning: The frame.append method is deprecated and will be removed from pandas in a future version. Use pandas.concat instead.\n",
      "  final_Data = final_Data.append(data1, ignore_index = True)\n"
     ]
    },
    {
     "name": "stdout",
     "output_type": "stream",
     "text": [
      " 236 -  (7819, 42)\n",
      "-------------------------------------------------------------\n",
      "4/4 [==============================] - 0s 2ms/step\n",
      "-------------------------------------------------------------\n",
      " confusion_matrix for new data with deeper model \n",
      " [[ 0  0]\n",
      " [58 42]]\n",
      "only attack data -  (42, 42)\n",
      "final data  237 -  (7861, 42)\n",
      "-------------------------------------------------------------\n",
      "4/4 [==============================] - 0s 2ms/step\n",
      "-------------------------------------------------------------\n",
      " confusion_matrix for new data with deeper model \n",
      " [[ 0  0]\n",
      " [70 30]]\n",
      "only attack data -  (30, 42)\n",
      "final data  238 -  (7891, 42)\n",
      "-------------------------------------------------------------\n"
     ]
    },
    {
     "name": "stderr",
     "output_type": "stream",
     "text": [
      "/tmp/ipykernel_3245245/1638766432.py:38: FutureWarning: The frame.append method is deprecated and will be removed from pandas in a future version. Use pandas.concat instead.\n",
      "  final_Data = final_Data.append(data1, ignore_index = True)\n",
      "/tmp/ipykernel_3245245/1638766432.py:38: FutureWarning: The frame.append method is deprecated and will be removed from pandas in a future version. Use pandas.concat instead.\n",
      "  final_Data = final_Data.append(data1, ignore_index = True)\n"
     ]
    },
    {
     "name": "stdout",
     "output_type": "stream",
     "text": [
      "4/4 [==============================] - 0s 3ms/step\n",
      "-------------------------------------------------------------\n",
      " confusion_matrix for new data with deeper model \n",
      " [[ 0  0]\n",
      " [68 32]]\n",
      "only attack data -  (32, 42)\n",
      "final data  239 -  (7923, 42)\n",
      "-------------------------------------------------------------\n",
      "4/4 [==============================] - 0s 2ms/step\n",
      "-------------------------------------------------------------\n",
      " confusion_matrix for new data with deeper model \n",
      " [[ 0  0]\n",
      " [72 28]]\n",
      "only attack data -  (28, 42)\n",
      "final data  240 -  (7951, 42)\n",
      "-------------------------------------------------------------\n"
     ]
    },
    {
     "name": "stderr",
     "output_type": "stream",
     "text": [
      "/tmp/ipykernel_3245245/1638766432.py:38: FutureWarning: The frame.append method is deprecated and will be removed from pandas in a future version. Use pandas.concat instead.\n",
      "  final_Data = final_Data.append(data1, ignore_index = True)\n",
      "/tmp/ipykernel_3245245/1638766432.py:38: FutureWarning: The frame.append method is deprecated and will be removed from pandas in a future version. Use pandas.concat instead.\n",
      "  final_Data = final_Data.append(data1, ignore_index = True)\n"
     ]
    },
    {
     "name": "stdout",
     "output_type": "stream",
     "text": [
      "4/4 [==============================] - 0s 2ms/step\n",
      "-------------------------------------------------------------\n",
      " confusion_matrix for new data with deeper model \n",
      " [[ 0  0]\n",
      " [70 30]]\n",
      "only attack data -  (30, 42)\n",
      "final data  241 -  (7981, 42)\n",
      "-------------------------------------------------------------\n",
      "4/4 [==============================] - 0s 2ms/step\n",
      "-------------------------------------------------------------\n",
      " confusion_matrix for new data with deeper model \n",
      " [[ 0  0]\n",
      " [67 33]]\n",
      "only attack data -  (33, 42)\n",
      "final data  242 -  (8014, 42)\n",
      "-------------------------------------------------------------\n",
      "4/4 [==============================] - 0s 2ms/step\n",
      "-------------------------------------------------------------\n",
      " confusion_matrix for new data with deeper model \n",
      " [[ 0  0]\n",
      " [68 32]]\n",
      "only attack data -  (32, 42)\n",
      "final data  243 -  (8046, 42)\n",
      "-------------------------------------------------------------\n"
     ]
    },
    {
     "name": "stderr",
     "output_type": "stream",
     "text": [
      "/tmp/ipykernel_3245245/1638766432.py:38: FutureWarning: The frame.append method is deprecated and will be removed from pandas in a future version. Use pandas.concat instead.\n",
      "  final_Data = final_Data.append(data1, ignore_index = True)\n",
      "/tmp/ipykernel_3245245/1638766432.py:38: FutureWarning: The frame.append method is deprecated and will be removed from pandas in a future version. Use pandas.concat instead.\n",
      "  final_Data = final_Data.append(data1, ignore_index = True)\n",
      "/tmp/ipykernel_3245245/1638766432.py:38: FutureWarning: The frame.append method is deprecated and will be removed from pandas in a future version. Use pandas.concat instead.\n",
      "  final_Data = final_Data.append(data1, ignore_index = True)\n"
     ]
    },
    {
     "name": "stdout",
     "output_type": "stream",
     "text": [
      "4/4 [==============================] - 0s 2ms/step\n",
      "-------------------------------------------------------------\n",
      " confusion_matrix for new data with deeper model \n",
      " [[ 0  0]\n",
      " [59 41]]\n",
      "only attack data -  (41, 42)\n",
      "final data  244 -  (8087, 42)\n",
      "-------------------------------------------------------------\n",
      "4/4 [==============================] - 0s 2ms/step\n",
      "-------------------------------------------------------------\n",
      " confusion_matrix for new data with deeper model \n",
      " [[ 0  0]\n",
      " [66 34]]\n",
      "only attack data -  (34, 42)\n",
      "final data  245 -  (8121, 42)\n",
      "-------------------------------------------------------------\n",
      "4/4 [==============================] - 0s 2ms/step\n",
      "-------------------------------------------------------------\n",
      " confusion_matrix for new data with deeper model \n",
      " [[ 0  0]\n",
      " [73 27]]\n",
      "only attack data -  (27, 42)\n",
      "final data  246 -  (8148, 42)\n",
      "-------------------------------------------------------------\n"
     ]
    },
    {
     "name": "stderr",
     "output_type": "stream",
     "text": [
      "/tmp/ipykernel_3245245/1638766432.py:38: FutureWarning: The frame.append method is deprecated and will be removed from pandas in a future version. Use pandas.concat instead.\n",
      "  final_Data = final_Data.append(data1, ignore_index = True)\n",
      "/tmp/ipykernel_3245245/1638766432.py:38: FutureWarning: The frame.append method is deprecated and will be removed from pandas in a future version. Use pandas.concat instead.\n",
      "  final_Data = final_Data.append(data1, ignore_index = True)\n",
      "/tmp/ipykernel_3245245/1638766432.py:38: FutureWarning: The frame.append method is deprecated and will be removed from pandas in a future version. Use pandas.concat instead.\n",
      "  final_Data = final_Data.append(data1, ignore_index = True)\n"
     ]
    },
    {
     "name": "stdout",
     "output_type": "stream",
     "text": [
      "4/4 [==============================] - 0s 2ms/step\n",
      "-------------------------------------------------------------\n",
      " confusion_matrix for new data with deeper model \n",
      " [[ 0  0]\n",
      " [72 28]]\n",
      "only attack data -  (28, 42)\n",
      "final data  247 -  (8176, 42)\n",
      "-------------------------------------------------------------\n",
      "4/4 [==============================] - 0s 2ms/step\n",
      "-------------------------------------------------------------\n",
      " confusion_matrix for new data with deeper model \n",
      " [[ 0  0]\n",
      " [61 39]]\n",
      "only attack data -  (39, 42)\n",
      "final data  248 -  (8215, 42)\n",
      "-------------------------------------------------------------\n"
     ]
    },
    {
     "name": "stderr",
     "output_type": "stream",
     "text": [
      "/tmp/ipykernel_3245245/1638766432.py:38: FutureWarning: The frame.append method is deprecated and will be removed from pandas in a future version. Use pandas.concat instead.\n",
      "  final_Data = final_Data.append(data1, ignore_index = True)\n",
      "/tmp/ipykernel_3245245/1638766432.py:38: FutureWarning: The frame.append method is deprecated and will be removed from pandas in a future version. Use pandas.concat instead.\n",
      "  final_Data = final_Data.append(data1, ignore_index = True)\n"
     ]
    },
    {
     "name": "stdout",
     "output_type": "stream",
     "text": [
      "4/4 [==============================] - 0s 3ms/step\n",
      "-------------------------------------------------------------\n",
      " confusion_matrix for new data with deeper model \n",
      " [[ 0  0]\n",
      " [70 30]]\n",
      "only attack data -  (30, 42)\n",
      "final data  249 -  (8245, 42)\n",
      "-------------------------------------------------------------\n",
      "4/4 [==============================] - 0s 2ms/step\n",
      "-------------------------------------------------------------\n",
      " confusion_matrix for new data with deeper model \n",
      " [[ 0  0]\n",
      " [69 31]]\n",
      "only attack data -  (31, 42)\n",
      "final data  250 -  (8276, 42)\n",
      "-------------------------------------------------------------\n"
     ]
    },
    {
     "name": "stderr",
     "output_type": "stream",
     "text": [
      "/tmp/ipykernel_3245245/1638766432.py:38: FutureWarning: The frame.append method is deprecated and will be removed from pandas in a future version. Use pandas.concat instead.\n",
      "  final_Data = final_Data.append(data1, ignore_index = True)\n",
      "/tmp/ipykernel_3245245/1638766432.py:38: FutureWarning: The frame.append method is deprecated and will be removed from pandas in a future version. Use pandas.concat instead.\n",
      "  final_Data = final_Data.append(data1, ignore_index = True)\n"
     ]
    },
    {
     "name": "stdout",
     "output_type": "stream",
     "text": [
      "4/4 [==============================] - 0s 3ms/step\n",
      "-------------------------------------------------------------\n",
      " confusion_matrix for new data with deeper model \n",
      " [[ 0  0]\n",
      " [69 31]]\n",
      "only attack data -  (31, 42)\n",
      "final data  251 -  (8307, 42)\n",
      "-------------------------------------------------------------\n",
      "4/4 [==============================] - 0s 3ms/step\n",
      "-------------------------------------------------------------\n",
      " confusion_matrix for new data with deeper model \n",
      " [[ 0  0]\n",
      " [65 35]]\n",
      "only attack data -  (35, 42)\n",
      "final data  252 -  (8342, 42)\n",
      "-------------------------------------------------------------\n"
     ]
    },
    {
     "name": "stderr",
     "output_type": "stream",
     "text": [
      "/tmp/ipykernel_3245245/1638766432.py:38: FutureWarning: The frame.append method is deprecated and will be removed from pandas in a future version. Use pandas.concat instead.\n",
      "  final_Data = final_Data.append(data1, ignore_index = True)\n",
      "/tmp/ipykernel_3245245/1638766432.py:38: FutureWarning: The frame.append method is deprecated and will be removed from pandas in a future version. Use pandas.concat instead.\n",
      "  final_Data = final_Data.append(data1, ignore_index = True)\n"
     ]
    },
    {
     "name": "stdout",
     "output_type": "stream",
     "text": [
      "4/4 [==============================] - 0s 3ms/step\n",
      "-------------------------------------------------------------\n",
      " confusion_matrix for new data with deeper model \n",
      " [[ 0  0]\n",
      " [65 35]]\n",
      "only attack data -  (35, 42)\n",
      "final data  253 -  (8377, 42)\n",
      "-------------------------------------------------------------\n",
      "4/4 [==============================] - 0s 3ms/step\n",
      "-------------------------------------------------------------\n",
      " confusion_matrix for new data with deeper model \n",
      " [[ 0  0]\n",
      " [65 35]]\n",
      "only attack data -  (35, 42)\n",
      "final data  254 -  (8412, 42)\n",
      "-------------------------------------------------------------\n"
     ]
    },
    {
     "name": "stderr",
     "output_type": "stream",
     "text": [
      "/tmp/ipykernel_3245245/1638766432.py:38: FutureWarning: The frame.append method is deprecated and will be removed from pandas in a future version. Use pandas.concat instead.\n",
      "  final_Data = final_Data.append(data1, ignore_index = True)\n",
      "/tmp/ipykernel_3245245/1638766432.py:38: FutureWarning: The frame.append method is deprecated and will be removed from pandas in a future version. Use pandas.concat instead.\n",
      "  final_Data = final_Data.append(data1, ignore_index = True)\n"
     ]
    },
    {
     "name": "stdout",
     "output_type": "stream",
     "text": [
      "4/4 [==============================] - 0s 2ms/step\n",
      "-------------------------------------------------------------\n",
      " confusion_matrix for new data with deeper model \n",
      " [[ 0  0]\n",
      " [67 33]]\n",
      "only attack data -  (33, 42)\n",
      "final data  255 -  (8445, 42)\n",
      "-------------------------------------------------------------\n",
      "4/4 [==============================] - 0s 2ms/step\n",
      "-------------------------------------------------------------\n",
      " confusion_matrix for new data with deeper model \n",
      " [[ 0  0]\n",
      " [70 30]]\n",
      "only attack data -  (30, 42)\n",
      "final data  256 -  (8475, 42)\n",
      "-------------------------------------------------------------\n",
      "4/4 [==============================] - 0s 2ms/step\n",
      "-------------------------------------------------------------\n",
      " confusion_matrix for new data with deeper model \n",
      " [[ 0  0]\n",
      " [67 33]]\n",
      "only attack data -  (33, 42)\n"
     ]
    },
    {
     "name": "stderr",
     "output_type": "stream",
     "text": [
      "/tmp/ipykernel_3245245/1638766432.py:38: FutureWarning: The frame.append method is deprecated and will be removed from pandas in a future version. Use pandas.concat instead.\n",
      "  final_Data = final_Data.append(data1, ignore_index = True)\n",
      "/tmp/ipykernel_3245245/1638766432.py:38: FutureWarning: The frame.append method is deprecated and will be removed from pandas in a future version. Use pandas.concat instead.\n",
      "  final_Data = final_Data.append(data1, ignore_index = True)\n",
      "/tmp/ipykernel_3245245/1638766432.py:38: FutureWarning: The frame.append method is deprecated and will be removed from pandas in a future version. Use pandas.concat instead.\n",
      "  final_Data = final_Data.append(data1, ignore_index = True)\n"
     ]
    },
    {
     "name": "stdout",
     "output_type": "stream",
     "text": [
      "final data  257 -  (8508, 42)\n",
      "-------------------------------------------------------------\n",
      "4/4 [==============================] - 0s 2ms/step\n",
      "-------------------------------------------------------------\n",
      " confusion_matrix for new data with deeper model \n",
      " [[ 0  0]\n",
      " [63 37]]\n",
      "only attack data -  (37, 42)\n",
      "final data  258 -  (8545, 42)\n",
      "-------------------------------------------------------------\n",
      "4/4 [==============================] - 0s 2ms/step\n",
      "-------------------------------------------------------------\n",
      " confusion_matrix for new data with deeper model \n",
      " [[ 0  0]\n",
      " [61 39]]\n",
      "only attack data -  (39, 42)\n",
      "final data  259 -  (8584, 42)\n",
      "-------------------------------------------------------------\n",
      "1/4 [======>.......................] - ETA: 0s"
     ]
    },
    {
     "name": "stderr",
     "output_type": "stream",
     "text": [
      "/tmp/ipykernel_3245245/1638766432.py:38: FutureWarning: The frame.append method is deprecated and will be removed from pandas in a future version. Use pandas.concat instead.\n",
      "  final_Data = final_Data.append(data1, ignore_index = True)\n",
      "/tmp/ipykernel_3245245/1638766432.py:38: FutureWarning: The frame.append method is deprecated and will be removed from pandas in a future version. Use pandas.concat instead.\n",
      "  final_Data = final_Data.append(data1, ignore_index = True)\n"
     ]
    },
    {
     "name": "stdout",
     "output_type": "stream",
     "text": [
      "4/4 [==============================] - 0s 2ms/step\n",
      "-------------------------------------------------------------\n",
      " confusion_matrix for new data with deeper model \n",
      " [[ 0  0]\n",
      " [66 34]]\n",
      "only attack data -  (34, 42)\n",
      "final data  260 -  (8618, 42)\n",
      "-------------------------------------------------------------\n",
      "4/4 [==============================] - 0s 2ms/step\n",
      "-------------------------------------------------------------\n",
      " confusion_matrix for new data with deeper model \n",
      " [[ 0  0]\n",
      " [70 30]]\n",
      "only attack data -  (30, 42)\n",
      "final data  261 -  (8648, 42)\n",
      "-------------------------------------------------------------\n",
      "1/4 [======>.......................] - ETA: 0s"
     ]
    },
    {
     "name": "stderr",
     "output_type": "stream",
     "text": [
      "/tmp/ipykernel_3245245/1638766432.py:38: FutureWarning: The frame.append method is deprecated and will be removed from pandas in a future version. Use pandas.concat instead.\n",
      "  final_Data = final_Data.append(data1, ignore_index = True)\n",
      "/tmp/ipykernel_3245245/1638766432.py:38: FutureWarning: The frame.append method is deprecated and will be removed from pandas in a future version. Use pandas.concat instead.\n",
      "  final_Data = final_Data.append(data1, ignore_index = True)\n"
     ]
    },
    {
     "name": "stdout",
     "output_type": "stream",
     "text": [
      "4/4 [==============================] - 0s 2ms/step\n",
      "-------------------------------------------------------------\n",
      " confusion_matrix for new data with deeper model \n",
      " [[ 0  0]\n",
      " [74 26]]\n",
      "only attack data -  (26, 42)\n",
      "final data  262 -  (8674, 42)\n",
      "-------------------------------------------------------------\n",
      "4/4 [==============================] - 0s 3ms/step\n",
      "-------------------------------------------------------------\n",
      " confusion_matrix for new data with deeper model \n",
      " [[ 0  0]\n",
      " [65 35]]\n",
      "only attack data -  (35, 42)\n",
      "final data  263 -  (8709, 42)\n",
      "-------------------------------------------------------------\n"
     ]
    },
    {
     "name": "stderr",
     "output_type": "stream",
     "text": [
      "/tmp/ipykernel_3245245/1638766432.py:38: FutureWarning: The frame.append method is deprecated and will be removed from pandas in a future version. Use pandas.concat instead.\n",
      "  final_Data = final_Data.append(data1, ignore_index = True)\n",
      "/tmp/ipykernel_3245245/1638766432.py:38: FutureWarning: The frame.append method is deprecated and will be removed from pandas in a future version. Use pandas.concat instead.\n",
      "  final_Data = final_Data.append(data1, ignore_index = True)\n"
     ]
    },
    {
     "name": "stdout",
     "output_type": "stream",
     "text": [
      "4/4 [==============================] - 0s 3ms/step\n",
      "-------------------------------------------------------------\n",
      " confusion_matrix for new data with deeper model \n",
      " [[ 0  0]\n",
      " [68 32]]\n",
      "only attack data -  (32, 42)\n",
      "final data  264 -  (8741, 42)\n",
      "-------------------------------------------------------------\n",
      "4/4 [==============================] - 0s 3ms/step\n",
      "-------------------------------------------------------------\n",
      " confusion_matrix for new data with deeper model \n",
      " [[ 0  0]\n",
      " [77 23]]\n",
      "only attack data -  (23, 42)\n",
      "final data  265 -  (8764, 42)\n",
      "-------------------------------------------------------------\n"
     ]
    },
    {
     "name": "stderr",
     "output_type": "stream",
     "text": [
      "/tmp/ipykernel_3245245/1638766432.py:38: FutureWarning: The frame.append method is deprecated and will be removed from pandas in a future version. Use pandas.concat instead.\n",
      "  final_Data = final_Data.append(data1, ignore_index = True)\n",
      "/tmp/ipykernel_3245245/1638766432.py:38: FutureWarning: The frame.append method is deprecated and will be removed from pandas in a future version. Use pandas.concat instead.\n",
      "  final_Data = final_Data.append(data1, ignore_index = True)\n"
     ]
    },
    {
     "name": "stdout",
     "output_type": "stream",
     "text": [
      "4/4 [==============================] - 0s 3ms/step\n",
      "-------------------------------------------------------------\n",
      " confusion_matrix for new data with deeper model \n",
      " [[ 0  0]\n",
      " [68 32]]\n",
      "only attack data -  (32, 42)\n",
      "final data  266 -  (8796, 42)\n",
      "-------------------------------------------------------------\n",
      "4/4 [==============================] - 0s 2ms/step\n",
      "-------------------------------------------------------------\n",
      " confusion_matrix for new data with deeper model \n",
      " [[ 0  0]\n",
      " [66 34]]\n",
      "only attack data -  (34, 42)\n",
      "final data  267 -  (8830, 42)\n",
      "-------------------------------------------------------------\n"
     ]
    },
    {
     "name": "stderr",
     "output_type": "stream",
     "text": [
      "/tmp/ipykernel_3245245/1638766432.py:38: FutureWarning: The frame.append method is deprecated and will be removed from pandas in a future version. Use pandas.concat instead.\n",
      "  final_Data = final_Data.append(data1, ignore_index = True)\n",
      "/tmp/ipykernel_3245245/1638766432.py:38: FutureWarning: The frame.append method is deprecated and will be removed from pandas in a future version. Use pandas.concat instead.\n",
      "  final_Data = final_Data.append(data1, ignore_index = True)\n"
     ]
    },
    {
     "name": "stdout",
     "output_type": "stream",
     "text": [
      "4/4 [==============================] - 0s 2ms/step\n",
      "-------------------------------------------------------------\n",
      " confusion_matrix for new data with deeper model \n",
      " [[ 0  0]\n",
      " [66 34]]\n",
      "only attack data -  (34, 42)\n",
      "final data  268 -  (8864, 42)\n",
      "-------------------------------------------------------------\n",
      "4/4 [==============================] - 0s 2ms/step\n",
      "-------------------------------------------------------------\n",
      " confusion_matrix for new data with deeper model \n",
      " [[ 0  0]\n",
      " [81 19]]\n",
      "only attack data -  (19, 42)\n",
      "final data  269 -  (8883, 42)\n",
      "-------------------------------------------------------------\n",
      "4/4 [==============================] - 0s 2ms/step\n",
      "-------------------------------------------------------------\n",
      " confusion_matrix for new data with deeper model \n",
      " [[ 0  0]\n",
      " [63 37]]\n",
      "only attack data -  (37, 42)\n"
     ]
    },
    {
     "name": "stderr",
     "output_type": "stream",
     "text": [
      "/tmp/ipykernel_3245245/1638766432.py:38: FutureWarning: The frame.append method is deprecated and will be removed from pandas in a future version. Use pandas.concat instead.\n",
      "  final_Data = final_Data.append(data1, ignore_index = True)\n",
      "/tmp/ipykernel_3245245/1638766432.py:38: FutureWarning: The frame.append method is deprecated and will be removed from pandas in a future version. Use pandas.concat instead.\n",
      "  final_Data = final_Data.append(data1, ignore_index = True)\n",
      "/tmp/ipykernel_3245245/1638766432.py:38: FutureWarning: The frame.append method is deprecated and will be removed from pandas in a future version. Use pandas.concat instead.\n",
      "  final_Data = final_Data.append(data1, ignore_index = True)\n"
     ]
    },
    {
     "name": "stdout",
     "output_type": "stream",
     "text": [
      "final data  270 -  (8920, 42)\n",
      "-------------------------------------------------------------\n",
      "4/4 [==============================] - 0s 3ms/step\n",
      "-------------------------------------------------------------\n",
      " confusion_matrix for new data with deeper model \n",
      " [[ 0  0]\n",
      " [66 34]]\n",
      "only attack data -  (34, 42)\n",
      "final data  271 -  (8954, 42)\n",
      "-------------------------------------------------------------\n",
      "4/4 [==============================] - 0s 3ms/step\n",
      "-------------------------------------------------------------\n",
      " confusion_matrix for new data with deeper model \n",
      " [[ 0  0]\n",
      " [63 37]]\n",
      "only attack data -  (37, 42)\n",
      "final data  272 -  (8991, 42)\n",
      "-------------------------------------------------------------\n"
     ]
    },
    {
     "name": "stderr",
     "output_type": "stream",
     "text": [
      "/tmp/ipykernel_3245245/1638766432.py:38: FutureWarning: The frame.append method is deprecated and will be removed from pandas in a future version. Use pandas.concat instead.\n",
      "  final_Data = final_Data.append(data1, ignore_index = True)\n",
      "/tmp/ipykernel_3245245/1638766432.py:38: FutureWarning: The frame.append method is deprecated and will be removed from pandas in a future version. Use pandas.concat instead.\n",
      "  final_Data = final_Data.append(data1, ignore_index = True)\n"
     ]
    },
    {
     "name": "stdout",
     "output_type": "stream",
     "text": [
      "4/4 [==============================] - 0s 2ms/step\n",
      "-------------------------------------------------------------\n",
      " confusion_matrix for new data with deeper model \n",
      " [[ 0  0]\n",
      " [65 35]]\n",
      "only attack data -  (35, 42)\n",
      "final data  273 -  (9026, 42)\n",
      "-------------------------------------------------------------\n",
      "4/4 [==============================] - 0s 2ms/step\n",
      "-------------------------------------------------------------\n",
      " confusion_matrix for new data with deeper model \n",
      " [[ 0  0]\n",
      " [74 26]]\n",
      "only attack data -  (26, 42)\n",
      "final data  274 -  (9052, 42)\n",
      "-------------------------------------------------------------\n",
      "4/4 [==============================] - 0s 2ms/step\n",
      "-------------------------------------------------------------\n",
      " confusion_matrix for new data with deeper model \n",
      " [[ 0  0]\n",
      " [51 49]]\n",
      "only attack data -  (49, 42)\n"
     ]
    },
    {
     "name": "stderr",
     "output_type": "stream",
     "text": [
      "/tmp/ipykernel_3245245/1638766432.py:38: FutureWarning: The frame.append method is deprecated and will be removed from pandas in a future version. Use pandas.concat instead.\n",
      "  final_Data = final_Data.append(data1, ignore_index = True)\n",
      "/tmp/ipykernel_3245245/1638766432.py:38: FutureWarning: The frame.append method is deprecated and will be removed from pandas in a future version. Use pandas.concat instead.\n",
      "  final_Data = final_Data.append(data1, ignore_index = True)\n",
      "/tmp/ipykernel_3245245/1638766432.py:38: FutureWarning: The frame.append method is deprecated and will be removed from pandas in a future version. Use pandas.concat instead.\n",
      "  final_Data = final_Data.append(data1, ignore_index = True)\n"
     ]
    },
    {
     "name": "stdout",
     "output_type": "stream",
     "text": [
      "final data  275 -  (9101, 42)\n",
      "-------------------------------------------------------------\n",
      "4/4 [==============================] - 0s 2ms/step\n",
      "-------------------------------------------------------------\n",
      " confusion_matrix for new data with deeper model \n",
      " [[ 0  0]\n",
      " [69 31]]\n",
      "only attack data -  (31, 42)\n",
      "final data  276 -  (9132, 42)\n",
      "-------------------------------------------------------------\n",
      "4/4 [==============================] - 0s 2ms/step\n",
      "-------------------------------------------------------------\n",
      " confusion_matrix for new data with deeper model \n",
      " [[ 0  0]\n",
      " [66 34]]\n",
      "only attack data -  (34, 42)\n",
      "final data  277 -  (9166, 42)\n",
      "-------------------------------------------------------------\n"
     ]
    },
    {
     "name": "stderr",
     "output_type": "stream",
     "text": [
      "/tmp/ipykernel_3245245/1638766432.py:38: FutureWarning: The frame.append method is deprecated and will be removed from pandas in a future version. Use pandas.concat instead.\n",
      "  final_Data = final_Data.append(data1, ignore_index = True)\n",
      "/tmp/ipykernel_3245245/1638766432.py:38: FutureWarning: The frame.append method is deprecated and will be removed from pandas in a future version. Use pandas.concat instead.\n",
      "  final_Data = final_Data.append(data1, ignore_index = True)\n"
     ]
    },
    {
     "name": "stdout",
     "output_type": "stream",
     "text": [
      "4/4 [==============================] - 0s 2ms/step\n",
      "-------------------------------------------------------------\n",
      " confusion_matrix for new data with deeper model \n",
      " [[ 0  0]\n",
      " [65 35]]\n",
      "only attack data -  (35, 42)\n",
      "final data  278 -  (9201, 42)\n",
      "-------------------------------------------------------------\n",
      "4/4 [==============================] - 0s 2ms/step\n",
      "-------------------------------------------------------------\n",
      " confusion_matrix for new data with deeper model \n",
      " [[ 0  0]\n",
      " [67 33]]\n",
      "only attack data -  (33, 42)\n",
      "final data  279 -  (9234, 42)\n",
      "-------------------------------------------------------------\n",
      "4/4 [==============================] - 0s 2ms/step\n"
     ]
    },
    {
     "name": "stderr",
     "output_type": "stream",
     "text": [
      "/tmp/ipykernel_3245245/1638766432.py:38: FutureWarning: The frame.append method is deprecated and will be removed from pandas in a future version. Use pandas.concat instead.\n",
      "  final_Data = final_Data.append(data1, ignore_index = True)\n",
      "/tmp/ipykernel_3245245/1638766432.py:38: FutureWarning: The frame.append method is deprecated and will be removed from pandas in a future version. Use pandas.concat instead.\n",
      "  final_Data = final_Data.append(data1, ignore_index = True)\n"
     ]
    },
    {
     "name": "stdout",
     "output_type": "stream",
     "text": [
      "-------------------------------------------------------------\n",
      " confusion_matrix for new data with deeper model \n",
      " [[ 0  0]\n",
      " [64 36]]\n",
      "only attack data -  (36, 42)\n",
      "final data  280 -  (9270, 42)\n",
      "-------------------------------------------------------------\n",
      "4/4 [==============================] - 0s 3ms/step\n",
      "-------------------------------------------------------------\n",
      " confusion_matrix for new data with deeper model \n",
      " [[ 0  0]\n",
      " [61 39]]\n",
      "only attack data -  (39, 42)\n",
      "final data  281 -  (9309, 42)\n",
      "-------------------------------------------------------------\n",
      "1/4 [======>.......................] - ETA: 0s"
     ]
    },
    {
     "name": "stderr",
     "output_type": "stream",
     "text": [
      "/tmp/ipykernel_3245245/1638766432.py:38: FutureWarning: The frame.append method is deprecated and will be removed from pandas in a future version. Use pandas.concat instead.\n",
      "  final_Data = final_Data.append(data1, ignore_index = True)\n",
      "/tmp/ipykernel_3245245/1638766432.py:38: FutureWarning: The frame.append method is deprecated and will be removed from pandas in a future version. Use pandas.concat instead.\n",
      "  final_Data = final_Data.append(data1, ignore_index = True)\n"
     ]
    },
    {
     "name": "stdout",
     "output_type": "stream",
     "text": [
      "4/4 [==============================] - 0s 2ms/step\n",
      "-------------------------------------------------------------\n",
      " confusion_matrix for new data with deeper model \n",
      " [[ 0  0]\n",
      " [68 32]]\n",
      "only attack data -  (32, 42)\n",
      "final data  282 -  (9341, 42)\n",
      "-------------------------------------------------------------\n",
      "4/4 [==============================] - 0s 2ms/step\n",
      "-------------------------------------------------------------\n",
      " confusion_matrix for new data with deeper model \n",
      " [[ 0  0]\n",
      " [69 31]]\n",
      "only attack data -  (31, 42)\n",
      "final data  283 -  (9372, 42)\n",
      "-------------------------------------------------------------\n",
      "1/4 [======>.......................] - ETA: 0s"
     ]
    },
    {
     "name": "stderr",
     "output_type": "stream",
     "text": [
      "/tmp/ipykernel_3245245/1638766432.py:38: FutureWarning: The frame.append method is deprecated and will be removed from pandas in a future version. Use pandas.concat instead.\n",
      "  final_Data = final_Data.append(data1, ignore_index = True)\n",
      "/tmp/ipykernel_3245245/1638766432.py:38: FutureWarning: The frame.append method is deprecated and will be removed from pandas in a future version. Use pandas.concat instead.\n",
      "  final_Data = final_Data.append(data1, ignore_index = True)\n"
     ]
    },
    {
     "name": "stdout",
     "output_type": "stream",
     "text": [
      "4/4 [==============================] - 0s 2ms/step\n",
      "-------------------------------------------------------------\n",
      " confusion_matrix for new data with deeper model \n",
      " [[ 0  0]\n",
      " [75 25]]\n",
      "only attack data -  (25, 42)\n",
      "final data  284 -  (9397, 42)\n",
      "-------------------------------------------------------------\n",
      "4/4 [==============================] - 0s 2ms/step\n",
      "-------------------------------------------------------------\n",
      " confusion_matrix for new data with deeper model \n",
      " [[ 0  0]\n",
      " [71 29]]\n",
      "only attack data -  (29, 42)\n",
      "final data  285 -  (9426, 42)\n",
      "-------------------------------------------------------------\n",
      "1/4 [======>.......................] - ETA: 0s"
     ]
    },
    {
     "name": "stderr",
     "output_type": "stream",
     "text": [
      "/tmp/ipykernel_3245245/1638766432.py:38: FutureWarning: The frame.append method is deprecated and will be removed from pandas in a future version. Use pandas.concat instead.\n",
      "  final_Data = final_Data.append(data1, ignore_index = True)\n",
      "/tmp/ipykernel_3245245/1638766432.py:38: FutureWarning: The frame.append method is deprecated and will be removed from pandas in a future version. Use pandas.concat instead.\n",
      "  final_Data = final_Data.append(data1, ignore_index = True)\n"
     ]
    },
    {
     "name": "stdout",
     "output_type": "stream",
     "text": [
      "4/4 [==============================] - 0s 2ms/step\n",
      "-------------------------------------------------------------\n",
      " confusion_matrix for new data with deeper model \n",
      " [[ 0  0]\n",
      " [71 29]]\n",
      "only attack data -  (29, 42)\n",
      "final data  286 -  (9455, 42)\n",
      "-------------------------------------------------------------\n",
      "4/4 [==============================] - 0s 2ms/step\n",
      "-------------------------------------------------------------\n",
      " confusion_matrix for new data with deeper model \n",
      " [[ 0  0]\n",
      " [69 31]]\n",
      "only attack data -  (31, 42)\n",
      "final data  287 -  (9486, 42)\n",
      "-------------------------------------------------------------\n"
     ]
    },
    {
     "name": "stderr",
     "output_type": "stream",
     "text": [
      "/tmp/ipykernel_3245245/1638766432.py:38: FutureWarning: The frame.append method is deprecated and will be removed from pandas in a future version. Use pandas.concat instead.\n",
      "  final_Data = final_Data.append(data1, ignore_index = True)\n",
      "/tmp/ipykernel_3245245/1638766432.py:38: FutureWarning: The frame.append method is deprecated and will be removed from pandas in a future version. Use pandas.concat instead.\n",
      "  final_Data = final_Data.append(data1, ignore_index = True)\n"
     ]
    },
    {
     "name": "stdout",
     "output_type": "stream",
     "text": [
      "4/4 [==============================] - 0s 2ms/step\n",
      "-------------------------------------------------------------\n",
      " confusion_matrix for new data with deeper model \n",
      " [[ 0  0]\n",
      " [66 34]]\n",
      "only attack data -  (34, 42)\n",
      "final data  288 -  (9520, 42)\n",
      "-------------------------------------------------------------\n",
      "4/4 [==============================] - 0s 2ms/step\n",
      "-------------------------------------------------------------\n",
      " confusion_matrix for new data with deeper model \n",
      " [[ 0  0]\n",
      " [67 33]]\n",
      "only attack data -  (33, 42)\n",
      "final data  289 -  (9553, 42)\n",
      "-------------------------------------------------------------\n",
      "1/4 [======>.......................] - ETA: 0s"
     ]
    },
    {
     "name": "stderr",
     "output_type": "stream",
     "text": [
      "/tmp/ipykernel_3245245/1638766432.py:38: FutureWarning: The frame.append method is deprecated and will be removed from pandas in a future version. Use pandas.concat instead.\n",
      "  final_Data = final_Data.append(data1, ignore_index = True)\n",
      "/tmp/ipykernel_3245245/1638766432.py:38: FutureWarning: The frame.append method is deprecated and will be removed from pandas in a future version. Use pandas.concat instead.\n",
      "  final_Data = final_Data.append(data1, ignore_index = True)\n"
     ]
    },
    {
     "name": "stdout",
     "output_type": "stream",
     "text": [
      "4/4 [==============================] - 0s 2ms/step\n",
      "-------------------------------------------------------------\n",
      " confusion_matrix for new data with deeper model \n",
      " [[ 0  0]\n",
      " [72 28]]\n",
      "only attack data -  (28, 42)\n",
      "final data  290 -  (9581, 42)\n",
      "-------------------------------------------------------------\n",
      "4/4 [==============================] - 0s 2ms/step\n",
      "-------------------------------------------------------------\n",
      " confusion_matrix for new data with deeper model \n",
      " [[ 0  0]\n",
      " [70 30]]\n",
      "only attack data -  (30, 42)\n",
      "final data  291 -  (9611, 42)\n",
      "-------------------------------------------------------------\n"
     ]
    },
    {
     "name": "stderr",
     "output_type": "stream",
     "text": [
      "/tmp/ipykernel_3245245/1638766432.py:38: FutureWarning: The frame.append method is deprecated and will be removed from pandas in a future version. Use pandas.concat instead.\n",
      "  final_Data = final_Data.append(data1, ignore_index = True)\n",
      "/tmp/ipykernel_3245245/1638766432.py:38: FutureWarning: The frame.append method is deprecated and will be removed from pandas in a future version. Use pandas.concat instead.\n",
      "  final_Data = final_Data.append(data1, ignore_index = True)\n"
     ]
    },
    {
     "name": "stdout",
     "output_type": "stream",
     "text": [
      "4/4 [==============================] - 0s 2ms/step\n",
      "-------------------------------------------------------------\n",
      " confusion_matrix for new data with deeper model \n",
      " [[ 0  0]\n",
      " [62 38]]\n",
      "only attack data -  (38, 42)\n",
      "final data  292 -  (9649, 42)\n",
      "-------------------------------------------------------------\n",
      "4/4 [==============================] - 0s 2ms/step\n",
      "-------------------------------------------------------------\n",
      " confusion_matrix for new data with deeper model \n",
      " [[ 0  0]\n",
      " [67 33]]\n",
      "only attack data -  (33, 42)\n",
      "final data  293 -  (9682, 42)\n",
      "-------------------------------------------------------------\n"
     ]
    },
    {
     "name": "stderr",
     "output_type": "stream",
     "text": [
      "/tmp/ipykernel_3245245/1638766432.py:38: FutureWarning: The frame.append method is deprecated and will be removed from pandas in a future version. Use pandas.concat instead.\n",
      "  final_Data = final_Data.append(data1, ignore_index = True)\n",
      "/tmp/ipykernel_3245245/1638766432.py:38: FutureWarning: The frame.append method is deprecated and will be removed from pandas in a future version. Use pandas.concat instead.\n",
      "  final_Data = final_Data.append(data1, ignore_index = True)\n"
     ]
    },
    {
     "name": "stdout",
     "output_type": "stream",
     "text": [
      "4/4 [==============================] - 0s 2ms/step\n",
      "-------------------------------------------------------------\n",
      " confusion_matrix for new data with deeper model \n",
      " [[ 0  0]\n",
      " [59 41]]\n",
      "only attack data -  (41, 42)\n",
      "final data  294 -  (9723, 42)\n",
      "-------------------------------------------------------------\n",
      "4/4 [==============================] - 0s 2ms/step\n",
      "-------------------------------------------------------------\n",
      " confusion_matrix for new data with deeper model \n",
      " [[ 0  0]\n",
      " [57 43]]\n",
      "only attack data -  (43, 42)\n",
      "final data  295 -  (9766, 42)\n",
      "-------------------------------------------------------------\n"
     ]
    },
    {
     "name": "stderr",
     "output_type": "stream",
     "text": [
      "/tmp/ipykernel_3245245/1638766432.py:38: FutureWarning: The frame.append method is deprecated and will be removed from pandas in a future version. Use pandas.concat instead.\n",
      "  final_Data = final_Data.append(data1, ignore_index = True)\n",
      "/tmp/ipykernel_3245245/1638766432.py:38: FutureWarning: The frame.append method is deprecated and will be removed from pandas in a future version. Use pandas.concat instead.\n",
      "  final_Data = final_Data.append(data1, ignore_index = True)\n"
     ]
    },
    {
     "name": "stdout",
     "output_type": "stream",
     "text": [
      "4/4 [==============================] - 0s 3ms/step\n",
      "-------------------------------------------------------------\n",
      " confusion_matrix for new data with deeper model \n",
      " [[ 0  0]\n",
      " [71 29]]\n",
      "only attack data -  (29, 42)\n",
      "final data  296 -  (9795, 42)\n",
      "-------------------------------------------------------------\n",
      "4/4 [==============================] - 0s 3ms/step\n",
      "-------------------------------------------------------------\n",
      " confusion_matrix for new data with deeper model \n",
      " [[ 0  0]\n",
      " [63 37]]\n",
      "only attack data -  (37, 42)\n",
      "final data  297 -  (9832, 42)\n",
      "-------------------------------------------------------------\n"
     ]
    },
    {
     "name": "stderr",
     "output_type": "stream",
     "text": [
      "/tmp/ipykernel_3245245/1638766432.py:38: FutureWarning: The frame.append method is deprecated and will be removed from pandas in a future version. Use pandas.concat instead.\n",
      "  final_Data = final_Data.append(data1, ignore_index = True)\n",
      "/tmp/ipykernel_3245245/1638766432.py:38: FutureWarning: The frame.append method is deprecated and will be removed from pandas in a future version. Use pandas.concat instead.\n",
      "  final_Data = final_Data.append(data1, ignore_index = True)\n"
     ]
    },
    {
     "name": "stdout",
     "output_type": "stream",
     "text": [
      "4/4 [==============================] - 0s 3ms/step\n",
      "-------------------------------------------------------------\n",
      " confusion_matrix for new data with deeper model \n",
      " [[ 0  0]\n",
      " [68 32]]\n",
      "only attack data -  (32, 42)\n",
      "final data  298 -  (9864, 42)\n",
      "-------------------------------------------------------------\n",
      "4/4 [==============================] - 0s 2ms/step\n",
      "-------------------------------------------------------------\n",
      " confusion_matrix for new data with deeper model \n",
      " [[ 0  0]\n",
      " [65 35]]\n",
      "only attack data -  (35, 42)\n",
      "final data  299 -  (9899, 42)\n",
      "-------------------------------------------------------------\n"
     ]
    },
    {
     "name": "stderr",
     "output_type": "stream",
     "text": [
      "/tmp/ipykernel_3245245/1638766432.py:38: FutureWarning: The frame.append method is deprecated and will be removed from pandas in a future version. Use pandas.concat instead.\n",
      "  final_Data = final_Data.append(data1, ignore_index = True)\n",
      "/tmp/ipykernel_3245245/1638766432.py:38: FutureWarning: The frame.append method is deprecated and will be removed from pandas in a future version. Use pandas.concat instead.\n",
      "  final_Data = final_Data.append(data1, ignore_index = True)\n"
     ]
    },
    {
     "name": "stdout",
     "output_type": "stream",
     "text": [
      "4/4 [==============================] - 0s 3ms/step\n",
      "-------------------------------------------------------------\n",
      " confusion_matrix for new data with deeper model \n",
      " [[ 0  0]\n",
      " [75 25]]\n",
      "only attack data -  (25, 42)\n",
      "final data  300 -  (9924, 42)\n",
      "-------------------------------------------------------------\n",
      "4/4 [==============================] - 0s 3ms/step\n",
      "-------------------------------------------------------------\n",
      " confusion_matrix for new data with deeper model \n",
      " [[ 0  0]\n",
      " [66 34]]\n",
      "only attack data -  (34, 42)\n",
      "final data  301 -  (9958, 42)\n",
      "-------------------------------------------------------------\n"
     ]
    },
    {
     "name": "stderr",
     "output_type": "stream",
     "text": [
      "/tmp/ipykernel_3245245/1638766432.py:38: FutureWarning: The frame.append method is deprecated and will be removed from pandas in a future version. Use pandas.concat instead.\n",
      "  final_Data = final_Data.append(data1, ignore_index = True)\n",
      "/tmp/ipykernel_3245245/1638766432.py:38: FutureWarning: The frame.append method is deprecated and will be removed from pandas in a future version. Use pandas.concat instead.\n",
      "  final_Data = final_Data.append(data1, ignore_index = True)\n"
     ]
    },
    {
     "name": "stdout",
     "output_type": "stream",
     "text": [
      "4/4 [==============================] - 0s 2ms/step\n",
      "-------------------------------------------------------------\n",
      " confusion_matrix for new data with deeper model \n",
      " [[ 0  0]\n",
      " [63 37]]\n",
      "only attack data -  (37, 42)\n",
      "final data  302 -  (9995, 42)\n",
      "-------------------------------------------------------------\n",
      "4/4 [==============================] - 0s 3ms/step\n",
      "-------------------------------------------------------------\n",
      " confusion_matrix for new data with deeper model \n",
      " [[ 0  0]\n",
      " [62 38]]\n",
      "only attack data -  (38, 42)\n",
      "final data  303 -  (10033, 42)\n",
      "-------------------------------------------------------------\n"
     ]
    },
    {
     "name": "stderr",
     "output_type": "stream",
     "text": [
      "/tmp/ipykernel_3245245/1638766432.py:38: FutureWarning: The frame.append method is deprecated and will be removed from pandas in a future version. Use pandas.concat instead.\n",
      "  final_Data = final_Data.append(data1, ignore_index = True)\n",
      "/tmp/ipykernel_3245245/1638766432.py:38: FutureWarning: The frame.append method is deprecated and will be removed from pandas in a future version. Use pandas.concat instead.\n",
      "  final_Data = final_Data.append(data1, ignore_index = True)\n"
     ]
    },
    {
     "name": "stdout",
     "output_type": "stream",
     "text": [
      "4/4 [==============================] - 0s 3ms/step\n",
      "-------------------------------------------------------------\n",
      " confusion_matrix for new data with deeper model \n",
      " [[ 0  0]\n",
      " [69 31]]\n",
      "only attack data -  (31, 42)\n",
      "final data  304 -  (10064, 42)\n",
      "-------------------------------------------------------------\n",
      "4/4 [==============================] - 0s 2ms/step\n",
      "-------------------------------------------------------------\n",
      " confusion_matrix for new data with deeper model \n",
      " [[ 0  0]\n",
      " [70 30]]\n",
      "only attack data -  (30, 42)\n",
      "final data  305 -  (10094, 42)\n",
      "-------------------------------------------------------------\n"
     ]
    },
    {
     "name": "stderr",
     "output_type": "stream",
     "text": [
      "/tmp/ipykernel_3245245/1638766432.py:38: FutureWarning: The frame.append method is deprecated and will be removed from pandas in a future version. Use pandas.concat instead.\n",
      "  final_Data = final_Data.append(data1, ignore_index = True)\n",
      "/tmp/ipykernel_3245245/1638766432.py:38: FutureWarning: The frame.append method is deprecated and will be removed from pandas in a future version. Use pandas.concat instead.\n",
      "  final_Data = final_Data.append(data1, ignore_index = True)\n"
     ]
    },
    {
     "name": "stdout",
     "output_type": "stream",
     "text": [
      "4/4 [==============================] - 0s 2ms/step\n",
      "-------------------------------------------------------------\n",
      " confusion_matrix for new data with deeper model \n",
      " [[ 0  0]\n",
      " [62 38]]\n",
      "only attack data -  (38, 42)\n",
      "final data  306 -  (10132, 42)\n",
      "-------------------------------------------------------------\n",
      "4/4 [==============================] - 0s 2ms/step\n",
      "-------------------------------------------------------------\n",
      " confusion_matrix for new data with deeper model \n",
      " [[ 0  0]\n",
      " [66 34]]\n",
      "only attack data -  (34, 42)\n",
      "final data  307 -  (10166, 42)\n",
      "-------------------------------------------------------------\n"
     ]
    },
    {
     "name": "stderr",
     "output_type": "stream",
     "text": [
      "/tmp/ipykernel_3245245/1638766432.py:38: FutureWarning: The frame.append method is deprecated and will be removed from pandas in a future version. Use pandas.concat instead.\n",
      "  final_Data = final_Data.append(data1, ignore_index = True)\n",
      "/tmp/ipykernel_3245245/1638766432.py:38: FutureWarning: The frame.append method is deprecated and will be removed from pandas in a future version. Use pandas.concat instead.\n",
      "  final_Data = final_Data.append(data1, ignore_index = True)\n"
     ]
    },
    {
     "name": "stdout",
     "output_type": "stream",
     "text": [
      "4/4 [==============================] - 0s 2ms/step\n",
      "-------------------------------------------------------------\n",
      " confusion_matrix for new data with deeper model \n",
      " [[ 0  0]\n",
      " [63 37]]\n",
      "only attack data -  (37, 42)\n",
      "final data  308 -  (10203, 42)\n",
      "-------------------------------------------------------------\n",
      "4/4 [==============================] - 0s 2ms/step\n",
      "-------------------------------------------------------------\n",
      " confusion_matrix for new data with deeper model \n",
      " [[ 0  0]\n",
      " [64 36]]\n",
      "only attack data -  (36, 42)\n",
      "final data  309 -  (10239, 42)\n",
      "-------------------------------------------------------------\n",
      "4/4 [==============================] - 0s 2ms/step\n",
      "-------------------------------------------------------------\n",
      " confusion_matrix for new data with deeper model \n",
      " [[ 0  0]\n",
      " [65 35]]\n",
      "only attack data -  (35, 42)\n",
      "final data  310 -  (10274, 42)\n",
      "-------------------------------------------------------------\n"
     ]
    },
    {
     "name": "stderr",
     "output_type": "stream",
     "text": [
      "/tmp/ipykernel_3245245/1638766432.py:38: FutureWarning: The frame.append method is deprecated and will be removed from pandas in a future version. Use pandas.concat instead.\n",
      "  final_Data = final_Data.append(data1, ignore_index = True)\n",
      "/tmp/ipykernel_3245245/1638766432.py:38: FutureWarning: The frame.append method is deprecated and will be removed from pandas in a future version. Use pandas.concat instead.\n",
      "  final_Data = final_Data.append(data1, ignore_index = True)\n",
      "/tmp/ipykernel_3245245/1638766432.py:38: FutureWarning: The frame.append method is deprecated and will be removed from pandas in a future version. Use pandas.concat instead.\n",
      "  final_Data = final_Data.append(data1, ignore_index = True)\n"
     ]
    },
    {
     "name": "stdout",
     "output_type": "stream",
     "text": [
      "4/4 [==============================] - 0s 2ms/step\n",
      "-------------------------------------------------------------\n",
      " confusion_matrix for new data with deeper model \n",
      " [[ 0  0]\n",
      " [64 36]]\n",
      "only attack data -  (36, 42)\n",
      "final data  311 -  (10310, 42)\n",
      "-------------------------------------------------------------\n",
      "4/4 [==============================] - 0s 2ms/step\n",
      "-------------------------------------------------------------\n",
      " confusion_matrix for new data with deeper model \n",
      " [[ 0  0]\n",
      " [57 43]]\n",
      "only attack data -  (43, 42)\n",
      "final data  312 -  (10353, 42)\n",
      "-------------------------------------------------------------\n",
      "4/4 [==============================] - 0s 2ms/step\n",
      "-------------------------------------------------------------\n",
      " confusion_matrix for new data with deeper model \n",
      " [[ 0  0]\n",
      " [76 24]]\n",
      "only attack data -  (24, 42)\n",
      "final data  313 -  (10377, 42)\n",
      "-------------------------------------------------------------\n"
     ]
    },
    {
     "name": "stderr",
     "output_type": "stream",
     "text": [
      "/tmp/ipykernel_3245245/1638766432.py:38: FutureWarning: The frame.append method is deprecated and will be removed from pandas in a future version. Use pandas.concat instead.\n",
      "  final_Data = final_Data.append(data1, ignore_index = True)\n",
      "/tmp/ipykernel_3245245/1638766432.py:38: FutureWarning: The frame.append method is deprecated and will be removed from pandas in a future version. Use pandas.concat instead.\n",
      "  final_Data = final_Data.append(data1, ignore_index = True)\n",
      "/tmp/ipykernel_3245245/1638766432.py:38: FutureWarning: The frame.append method is deprecated and will be removed from pandas in a future version. Use pandas.concat instead.\n",
      "  final_Data = final_Data.append(data1, ignore_index = True)\n"
     ]
    },
    {
     "name": "stdout",
     "output_type": "stream",
     "text": [
      "4/4 [==============================] - 0s 2ms/step\n",
      "-------------------------------------------------------------\n",
      " confusion_matrix for new data with deeper model \n",
      " [[ 0  0]\n",
      " [62 38]]\n",
      "only attack data -  (38, 42)\n",
      "final data  314 -  (10415, 42)\n",
      "-------------------------------------------------------------\n",
      "4/4 [==============================] - 0s 2ms/step\n",
      "-------------------------------------------------------------\n",
      " confusion_matrix for new data with deeper model \n",
      " [[ 0  0]\n",
      " [64 36]]\n",
      "only attack data -  (36, 42)\n",
      "final data  315 -  (10451, 42)\n",
      "-------------------------------------------------------------\n",
      "1/4 [======>.......................] - ETA: 0s"
     ]
    },
    {
     "name": "stderr",
     "output_type": "stream",
     "text": [
      "/tmp/ipykernel_3245245/1638766432.py:38: FutureWarning: The frame.append method is deprecated and will be removed from pandas in a future version. Use pandas.concat instead.\n",
      "  final_Data = final_Data.append(data1, ignore_index = True)\n",
      "/tmp/ipykernel_3245245/1638766432.py:38: FutureWarning: The frame.append method is deprecated and will be removed from pandas in a future version. Use pandas.concat instead.\n",
      "  final_Data = final_Data.append(data1, ignore_index = True)\n"
     ]
    },
    {
     "name": "stdout",
     "output_type": "stream",
     "text": [
      "4/4 [==============================] - 0s 3ms/step\n",
      "-------------------------------------------------------------\n",
      " confusion_matrix for new data with deeper model \n",
      " [[ 0  0]\n",
      " [68 32]]\n",
      "only attack data -  (32, 42)\n",
      "final data  316 -  (10483, 42)\n",
      "-------------------------------------------------------------\n",
      "4/4 [==============================] - 0s 2ms/step\n",
      "-------------------------------------------------------------\n",
      " confusion_matrix for new data with deeper model \n",
      " [[ 0  0]\n",
      " [70 30]]\n",
      "only attack data -  (30, 42)\n",
      "final data  317 -  (10513, 42)\n",
      "-------------------------------------------------------------\n"
     ]
    },
    {
     "name": "stderr",
     "output_type": "stream",
     "text": [
      "/tmp/ipykernel_3245245/1638766432.py:38: FutureWarning: The frame.append method is deprecated and will be removed from pandas in a future version. Use pandas.concat instead.\n",
      "  final_Data = final_Data.append(data1, ignore_index = True)\n",
      "/tmp/ipykernel_3245245/1638766432.py:38: FutureWarning: The frame.append method is deprecated and will be removed from pandas in a future version. Use pandas.concat instead.\n",
      "  final_Data = final_Data.append(data1, ignore_index = True)\n"
     ]
    },
    {
     "name": "stdout",
     "output_type": "stream",
     "text": [
      "4/4 [==============================] - 0s 2ms/step\n",
      "-------------------------------------------------------------\n",
      " confusion_matrix for new data with deeper model \n",
      " [[ 0  0]\n",
      " [59 41]]\n",
      "only attack data -  (41, 42)\n",
      "final data  318 -  (10554, 42)\n",
      "-------------------------------------------------------------\n",
      "4/4 [==============================] - 0s 3ms/step\n",
      "-------------------------------------------------------------\n",
      " confusion_matrix for new data with deeper model \n",
      " [[ 0  0]\n",
      " [66 34]]\n",
      "only attack data -  (34, 42)\n",
      "final data  319 -  (10588, 42)\n",
      "-------------------------------------------------------------\n"
     ]
    },
    {
     "name": "stderr",
     "output_type": "stream",
     "text": [
      "/tmp/ipykernel_3245245/1638766432.py:38: FutureWarning: The frame.append method is deprecated and will be removed from pandas in a future version. Use pandas.concat instead.\n",
      "  final_Data = final_Data.append(data1, ignore_index = True)\n",
      "/tmp/ipykernel_3245245/1638766432.py:38: FutureWarning: The frame.append method is deprecated and will be removed from pandas in a future version. Use pandas.concat instead.\n",
      "  final_Data = final_Data.append(data1, ignore_index = True)\n"
     ]
    },
    {
     "name": "stdout",
     "output_type": "stream",
     "text": [
      "4/4 [==============================] - 0s 3ms/step\n",
      "-------------------------------------------------------------\n",
      " confusion_matrix for new data with deeper model \n",
      " [[ 0  0]\n",
      " [70 30]]\n",
      "only attack data -  (30, 42)\n",
      "final data  320 -  (10618, 42)\n",
      "-------------------------------------------------------------\n",
      "4/4 [==============================] - 0s 2ms/step\n",
      "-------------------------------------------------------------\n",
      " confusion_matrix for new data with deeper model \n",
      " [[ 0  0]\n",
      " [62 38]]\n",
      "only attack data -  (38, 42)\n",
      "final data  321 -  (10656, 42)\n",
      "-------------------------------------------------------------\n"
     ]
    },
    {
     "name": "stderr",
     "output_type": "stream",
     "text": [
      "/tmp/ipykernel_3245245/1638766432.py:38: FutureWarning: The frame.append method is deprecated and will be removed from pandas in a future version. Use pandas.concat instead.\n",
      "  final_Data = final_Data.append(data1, ignore_index = True)\n",
      "/tmp/ipykernel_3245245/1638766432.py:38: FutureWarning: The frame.append method is deprecated and will be removed from pandas in a future version. Use pandas.concat instead.\n",
      "  final_Data = final_Data.append(data1, ignore_index = True)\n"
     ]
    },
    {
     "name": "stdout",
     "output_type": "stream",
     "text": [
      "4/4 [==============================] - 0s 2ms/step\n",
      "-------------------------------------------------------------\n",
      " confusion_matrix for new data with deeper model \n",
      " [[ 0  0]\n",
      " [67 33]]\n",
      "only attack data -  (33, 42)\n",
      "final data  322 -  (10689, 42)\n",
      "-------------------------------------------------------------\n",
      "4/4 [==============================] - 0s 2ms/step\n",
      "-------------------------------------------------------------\n",
      " confusion_matrix for new data with deeper model \n",
      " [[ 0  0]\n",
      " [58 42]]\n",
      "only attack data -  (42, 42)\n",
      "final data  323 -  (10731, 42)\n",
      "-------------------------------------------------------------\n",
      "4/4 [==============================] - 0s 2ms/step\n",
      "-------------------------------------------------------------\n",
      " confusion_matrix for new data with deeper model \n",
      " [[ 0  0]\n",
      " [75 25]]\n",
      "only attack data -  (25, 42)\n",
      "final data  324 -  (10756, 42)\n",
      "-------------------------------------------------------------\n"
     ]
    },
    {
     "name": "stderr",
     "output_type": "stream",
     "text": [
      "/tmp/ipykernel_3245245/1638766432.py:38: FutureWarning: The frame.append method is deprecated and will be removed from pandas in a future version. Use pandas.concat instead.\n",
      "  final_Data = final_Data.append(data1, ignore_index = True)\n",
      "/tmp/ipykernel_3245245/1638766432.py:38: FutureWarning: The frame.append method is deprecated and will be removed from pandas in a future version. Use pandas.concat instead.\n",
      "  final_Data = final_Data.append(data1, ignore_index = True)\n",
      "/tmp/ipykernel_3245245/1638766432.py:38: FutureWarning: The frame.append method is deprecated and will be removed from pandas in a future version. Use pandas.concat instead.\n",
      "  final_Data = final_Data.append(data1, ignore_index = True)\n"
     ]
    },
    {
     "name": "stdout",
     "output_type": "stream",
     "text": [
      "4/4 [==============================] - 0s 2ms/step\n",
      "-------------------------------------------------------------\n",
      " confusion_matrix for new data with deeper model \n",
      " [[ 0  0]\n",
      " [69 31]]\n",
      "only attack data -  (31, 42)\n",
      "final data  325 -  (10787, 42)\n",
      "-------------------------------------------------------------\n",
      "4/4 [==============================] - 0s 2ms/step\n",
      "-------------------------------------------------------------\n",
      " confusion_matrix for new data with deeper model \n",
      " [[ 0  0]\n",
      " [64 36]]\n",
      "only attack data -  (36, 42)\n",
      "final data  326 -  (10823, 42)\n",
      "-------------------------------------------------------------\n",
      "4/4 [==============================] - 0s 2ms/step\n",
      "-------------------------------------------------------------\n",
      " confusion_matrix for new data with deeper model \n",
      " [[ 0  0]\n",
      " [64 36]]\n",
      "only attack data -  (36, 42)\n",
      "final data  327 -  (10859, 42)\n",
      "-------------------------------------------------------------\n"
     ]
    },
    {
     "name": "stderr",
     "output_type": "stream",
     "text": [
      "/tmp/ipykernel_3245245/1638766432.py:38: FutureWarning: The frame.append method is deprecated and will be removed from pandas in a future version. Use pandas.concat instead.\n",
      "  final_Data = final_Data.append(data1, ignore_index = True)\n",
      "/tmp/ipykernel_3245245/1638766432.py:38: FutureWarning: The frame.append method is deprecated and will be removed from pandas in a future version. Use pandas.concat instead.\n",
      "  final_Data = final_Data.append(data1, ignore_index = True)\n",
      "/tmp/ipykernel_3245245/1638766432.py:38: FutureWarning: The frame.append method is deprecated and will be removed from pandas in a future version. Use pandas.concat instead.\n",
      "  final_Data = final_Data.append(data1, ignore_index = True)\n"
     ]
    },
    {
     "name": "stdout",
     "output_type": "stream",
     "text": [
      "4/4 [==============================] - 0s 2ms/step\n",
      "-------------------------------------------------------------\n",
      " confusion_matrix for new data with deeper model \n",
      " [[ 0  0]\n",
      " [69 31]]\n",
      "only attack data -  (31, 42)\n",
      "final data  328 -  (10890, 42)\n",
      "-------------------------------------------------------------\n",
      "4/4 [==============================] - 0s 2ms/step\n",
      "-------------------------------------------------------------\n",
      " confusion_matrix for new data with deeper model \n",
      " [[ 0  0]\n",
      " [74 26]]\n",
      "only attack data -  (26, 42)\n",
      "final data  329 -  (10916, 42)\n",
      "-------------------------------------------------------------\n",
      "4/4 [==============================] - 0s 2ms/step\n",
      "-------------------------------------------------------------\n",
      " confusion_matrix for new data with deeper model \n",
      " [[ 0  0]\n",
      " [59 41]]\n",
      "only attack data -  (41, 42)\n",
      "final data  330 -  (10957, 42)\n",
      "-------------------------------------------------------------\n"
     ]
    },
    {
     "name": "stderr",
     "output_type": "stream",
     "text": [
      "/tmp/ipykernel_3245245/1638766432.py:38: FutureWarning: The frame.append method is deprecated and will be removed from pandas in a future version. Use pandas.concat instead.\n",
      "  final_Data = final_Data.append(data1, ignore_index = True)\n",
      "/tmp/ipykernel_3245245/1638766432.py:38: FutureWarning: The frame.append method is deprecated and will be removed from pandas in a future version. Use pandas.concat instead.\n",
      "  final_Data = final_Data.append(data1, ignore_index = True)\n",
      "/tmp/ipykernel_3245245/1638766432.py:38: FutureWarning: The frame.append method is deprecated and will be removed from pandas in a future version. Use pandas.concat instead.\n",
      "  final_Data = final_Data.append(data1, ignore_index = True)\n"
     ]
    },
    {
     "name": "stdout",
     "output_type": "stream",
     "text": [
      "4/4 [==============================] - 0s 2ms/step\n",
      "-------------------------------------------------------------\n",
      " confusion_matrix for new data with deeper model \n",
      " [[ 0  0]\n",
      " [75 25]]\n",
      "only attack data -  (25, 42)\n",
      "final data  331 -  (10982, 42)\n",
      "-------------------------------------------------------------\n",
      "4/4 [==============================] - 0s 2ms/step\n",
      "-------------------------------------------------------------\n",
      " confusion_matrix for new data with deeper model \n",
      " [[ 0  0]\n",
      " [63 37]]\n",
      "only attack data -  (37, 42)\n",
      "final data  332 -  (11019, 42)\n",
      "-------------------------------------------------------------\n",
      "4/4 [==============================] - 0s 2ms/step\n",
      "-------------------------------------------------------------\n",
      " confusion_matrix for new data with deeper model \n",
      " [[ 0  0]\n",
      " [62 38]]\n",
      "only attack data -  (38, 42)\n",
      "final data  333 -  (11057, 42)\n",
      "-------------------------------------------------------------\n"
     ]
    },
    {
     "name": "stderr",
     "output_type": "stream",
     "text": [
      "/tmp/ipykernel_3245245/1638766432.py:38: FutureWarning: The frame.append method is deprecated and will be removed from pandas in a future version. Use pandas.concat instead.\n",
      "  final_Data = final_Data.append(data1, ignore_index = True)\n",
      "/tmp/ipykernel_3245245/1638766432.py:38: FutureWarning: The frame.append method is deprecated and will be removed from pandas in a future version. Use pandas.concat instead.\n",
      "  final_Data = final_Data.append(data1, ignore_index = True)\n",
      "/tmp/ipykernel_3245245/1638766432.py:38: FutureWarning: The frame.append method is deprecated and will be removed from pandas in a future version. Use pandas.concat instead.\n",
      "  final_Data = final_Data.append(data1, ignore_index = True)\n"
     ]
    },
    {
     "name": "stdout",
     "output_type": "stream",
     "text": [
      "4/4 [==============================] - 0s 2ms/step\n",
      "-------------------------------------------------------------\n",
      " confusion_matrix for new data with deeper model \n",
      " [[ 0  0]\n",
      " [69 31]]\n",
      "only attack data -  (31, 42)\n",
      "final data  334 -  (11088, 42)\n",
      "-------------------------------------------------------------\n",
      "4/4 [==============================] - 0s 2ms/step\n",
      "-------------------------------------------------------------\n",
      " confusion_matrix for new data with deeper model \n",
      " [[ 0  0]\n",
      " [73 27]]\n",
      "only attack data -  (27, 42)\n",
      "final data  335 -  (11115, 42)\n",
      "-------------------------------------------------------------\n",
      "4/4 [==============================] - 0s 1ms/step\n",
      "-------------------------------------------------------------\n",
      " confusion_matrix for new data with deeper model \n",
      " [[ 0  0]\n",
      " [63 37]]\n",
      "only attack data -  (37, 42)\n",
      "final data  336 -  (11152, 42)\n",
      "-------------------------------------------------------------\n"
     ]
    },
    {
     "name": "stderr",
     "output_type": "stream",
     "text": [
      "/tmp/ipykernel_3245245/1638766432.py:38: FutureWarning: The frame.append method is deprecated and will be removed from pandas in a future version. Use pandas.concat instead.\n",
      "  final_Data = final_Data.append(data1, ignore_index = True)\n",
      "/tmp/ipykernel_3245245/1638766432.py:38: FutureWarning: The frame.append method is deprecated and will be removed from pandas in a future version. Use pandas.concat instead.\n",
      "  final_Data = final_Data.append(data1, ignore_index = True)\n",
      "/tmp/ipykernel_3245245/1638766432.py:38: FutureWarning: The frame.append method is deprecated and will be removed from pandas in a future version. Use pandas.concat instead.\n",
      "  final_Data = final_Data.append(data1, ignore_index = True)\n"
     ]
    },
    {
     "name": "stdout",
     "output_type": "stream",
     "text": [
      "4/4 [==============================] - 0s 2ms/step\n",
      "-------------------------------------------------------------\n",
      " confusion_matrix for new data with deeper model \n",
      " [[ 0  0]\n",
      " [65 35]]\n",
      "only attack data -  (35, 42)\n",
      "final data  337 -  (11187, 42)\n",
      "-------------------------------------------------------------\n",
      "4/4 [==============================] - 0s 2ms/step\n",
      "-------------------------------------------------------------\n",
      " confusion_matrix for new data with deeper model \n",
      " [[ 0  0]\n",
      " [63 37]]\n",
      "only attack data -  (37, 42)\n",
      "final data  338 -  (11224, 42)\n",
      "-------------------------------------------------------------\n",
      "4/4 [==============================] - 0s 2ms/step\n",
      "-------------------------------------------------------------\n",
      " confusion_matrix for new data with deeper model \n",
      " [[ 0  0]\n",
      " [63 37]]\n",
      "only attack data -  (37, 42)\n",
      "final data  339 -  (11261, 42)\n",
      "-------------------------------------------------------------\n"
     ]
    },
    {
     "name": "stderr",
     "output_type": "stream",
     "text": [
      "/tmp/ipykernel_3245245/1638766432.py:38: FutureWarning: The frame.append method is deprecated and will be removed from pandas in a future version. Use pandas.concat instead.\n",
      "  final_Data = final_Data.append(data1, ignore_index = True)\n",
      "/tmp/ipykernel_3245245/1638766432.py:38: FutureWarning: The frame.append method is deprecated and will be removed from pandas in a future version. Use pandas.concat instead.\n",
      "  final_Data = final_Data.append(data1, ignore_index = True)\n",
      "/tmp/ipykernel_3245245/1638766432.py:38: FutureWarning: The frame.append method is deprecated and will be removed from pandas in a future version. Use pandas.concat instead.\n",
      "  final_Data = final_Data.append(data1, ignore_index = True)\n"
     ]
    },
    {
     "name": "stdout",
     "output_type": "stream",
     "text": [
      "4/4 [==============================] - 0s 2ms/step\n",
      "-------------------------------------------------------------\n",
      " confusion_matrix for new data with deeper model \n",
      " [[ 0  0]\n",
      " [64 36]]\n",
      "only attack data -  (36, 42)\n",
      "final data  340 -  (11297, 42)\n",
      "-------------------------------------------------------------\n",
      "4/4 [==============================] - 0s 2ms/step\n",
      "-------------------------------------------------------------\n",
      " confusion_matrix for new data with deeper model \n",
      " [[ 0  0]\n",
      " [62 38]]\n",
      "only attack data -  (38, 42)\n",
      "final data  341 -  (11335, 42)\n",
      "-------------------------------------------------------------\n",
      "4/4 [==============================] - 0s 2ms/step\n",
      "-------------------------------------------------------------\n",
      " confusion_matrix for new data with deeper model \n",
      " [[ 0  0]\n",
      " [62 38]]\n",
      "only attack data -  (38, 42)\n",
      "final data  342 -  (11373, 42)\n",
      "-------------------------------------------------------------\n"
     ]
    },
    {
     "name": "stderr",
     "output_type": "stream",
     "text": [
      "/tmp/ipykernel_3245245/1638766432.py:38: FutureWarning: The frame.append method is deprecated and will be removed from pandas in a future version. Use pandas.concat instead.\n",
      "  final_Data = final_Data.append(data1, ignore_index = True)\n",
      "/tmp/ipykernel_3245245/1638766432.py:38: FutureWarning: The frame.append method is deprecated and will be removed from pandas in a future version. Use pandas.concat instead.\n",
      "  final_Data = final_Data.append(data1, ignore_index = True)\n",
      "/tmp/ipykernel_3245245/1638766432.py:38: FutureWarning: The frame.append method is deprecated and will be removed from pandas in a future version. Use pandas.concat instead.\n",
      "  final_Data = final_Data.append(data1, ignore_index = True)\n"
     ]
    },
    {
     "name": "stdout",
     "output_type": "stream",
     "text": [
      "4/4 [==============================] - 0s 2ms/step\n",
      "-------------------------------------------------------------\n",
      " confusion_matrix for new data with deeper model \n",
      " [[ 0  0]\n",
      " [66 34]]\n",
      "only attack data -  (34, 42)\n",
      "final data  343 -  (11407, 42)\n",
      "-------------------------------------------------------------\n",
      "4/4 [==============================] - 0s 2ms/step\n",
      "-------------------------------------------------------------\n",
      " confusion_matrix for new data with deeper model \n",
      " [[ 0  0]\n",
      " [63 37]]\n",
      "only attack data -  (37, 42)\n",
      "final data  344 -  (11444, 42)\n",
      "-------------------------------------------------------------\n",
      "4/4 [==============================] - 0s 1ms/step\n",
      "-------------------------------------------------------------\n",
      " confusion_matrix for new data with deeper model \n",
      " [[ 0  0]\n",
      " [68 32]]\n",
      "only attack data -  (32, 42)\n",
      "final data  345 -  (11476, 42)\n",
      "-------------------------------------------------------------\n"
     ]
    },
    {
     "name": "stderr",
     "output_type": "stream",
     "text": [
      "/tmp/ipykernel_3245245/1638766432.py:38: FutureWarning: The frame.append method is deprecated and will be removed from pandas in a future version. Use pandas.concat instead.\n",
      "  final_Data = final_Data.append(data1, ignore_index = True)\n",
      "/tmp/ipykernel_3245245/1638766432.py:38: FutureWarning: The frame.append method is deprecated and will be removed from pandas in a future version. Use pandas.concat instead.\n",
      "  final_Data = final_Data.append(data1, ignore_index = True)\n",
      "/tmp/ipykernel_3245245/1638766432.py:38: FutureWarning: The frame.append method is deprecated and will be removed from pandas in a future version. Use pandas.concat instead.\n",
      "  final_Data = final_Data.append(data1, ignore_index = True)\n"
     ]
    },
    {
     "name": "stdout",
     "output_type": "stream",
     "text": [
      "4/4 [==============================] - 0s 2ms/step\n",
      "-------------------------------------------------------------\n",
      " confusion_matrix for new data with deeper model \n",
      " [[ 0  0]\n",
      " [76 24]]\n",
      "only attack data -  (24, 42)\n",
      "final data  346 -  (11500, 42)\n",
      "-------------------------------------------------------------\n",
      "4/4 [==============================] - 0s 1ms/step\n",
      "-------------------------------------------------------------\n",
      " confusion_matrix for new data with deeper model \n",
      " [[ 0  0]\n",
      " [53 47]]\n",
      "only attack data -  (47, 42)\n",
      "final data  347 -  (11547, 42)\n",
      "-------------------------------------------------------------\n",
      "4/4 [==============================] - 0s 1ms/step\n",
      "-------------------------------------------------------------\n",
      " confusion_matrix for new data with deeper model \n",
      " [[ 0  0]\n",
      " [63 37]]\n",
      "only attack data -  (37, 42)\n",
      "final data  348 -  (11584, 42)\n",
      "-------------------------------------------------------------\n"
     ]
    },
    {
     "name": "stderr",
     "output_type": "stream",
     "text": [
      "/tmp/ipykernel_3245245/1638766432.py:38: FutureWarning: The frame.append method is deprecated and will be removed from pandas in a future version. Use pandas.concat instead.\n",
      "  final_Data = final_Data.append(data1, ignore_index = True)\n",
      "/tmp/ipykernel_3245245/1638766432.py:38: FutureWarning: The frame.append method is deprecated and will be removed from pandas in a future version. Use pandas.concat instead.\n",
      "  final_Data = final_Data.append(data1, ignore_index = True)\n",
      "/tmp/ipykernel_3245245/1638766432.py:38: FutureWarning: The frame.append method is deprecated and will be removed from pandas in a future version. Use pandas.concat instead.\n",
      "  final_Data = final_Data.append(data1, ignore_index = True)\n"
     ]
    },
    {
     "name": "stdout",
     "output_type": "stream",
     "text": [
      "4/4 [==============================] - 0s 2ms/step\n",
      "-------------------------------------------------------------\n",
      " confusion_matrix for new data with deeper model \n",
      " [[ 0  0]\n",
      " [78 22]]\n",
      "only attack data -  (22, 42)\n",
      "final data  349 -  (11606, 42)\n",
      "-------------------------------------------------------------\n",
      "4/4 [==============================] - 0s 3ms/step\n",
      "-------------------------------------------------------------\n",
      " confusion_matrix for new data with deeper model \n",
      " [[ 0  0]\n",
      " [66 34]]\n",
      "only attack data -  (34, 42)\n",
      "final data  350 -  (11640, 42)\n",
      "-------------------------------------------------------------\n"
     ]
    },
    {
     "name": "stderr",
     "output_type": "stream",
     "text": [
      "/tmp/ipykernel_3245245/1638766432.py:38: FutureWarning: The frame.append method is deprecated and will be removed from pandas in a future version. Use pandas.concat instead.\n",
      "  final_Data = final_Data.append(data1, ignore_index = True)\n",
      "/tmp/ipykernel_3245245/1638766432.py:38: FutureWarning: The frame.append method is deprecated and will be removed from pandas in a future version. Use pandas.concat instead.\n",
      "  final_Data = final_Data.append(data1, ignore_index = True)\n"
     ]
    },
    {
     "name": "stdout",
     "output_type": "stream",
     "text": [
      "4/4 [==============================] - 0s 2ms/step\n",
      "-------------------------------------------------------------\n",
      " confusion_matrix for new data with deeper model \n",
      " [[ 0  0]\n",
      " [72 28]]\n",
      "only attack data -  (28, 42)\n",
      "final data  351 -  (11668, 42)\n",
      "-------------------------------------------------------------\n",
      "4/4 [==============================] - 0s 2ms/step\n",
      "-------------------------------------------------------------\n",
      " confusion_matrix for new data with deeper model \n",
      " [[ 0  0]\n",
      " [69 31]]\n",
      "only attack data -  (31, 42)\n",
      "final data  352 -  (11699, 42)\n",
      "-------------------------------------------------------------\n",
      "4/4 [==============================] - 0s 2ms/step\n",
      "-------------------------------------------------------------\n",
      " confusion_matrix for new data with deeper model \n",
      " [[ 0  0]\n",
      " [75 25]]\n",
      "only attack data -  (25, 42)\n",
      "final data  353 -  (11724, 42)\n",
      "-------------------------------------------------------------\n"
     ]
    },
    {
     "name": "stderr",
     "output_type": "stream",
     "text": [
      "/tmp/ipykernel_3245245/1638766432.py:38: FutureWarning: The frame.append method is deprecated and will be removed from pandas in a future version. Use pandas.concat instead.\n",
      "  final_Data = final_Data.append(data1, ignore_index = True)\n",
      "/tmp/ipykernel_3245245/1638766432.py:38: FutureWarning: The frame.append method is deprecated and will be removed from pandas in a future version. Use pandas.concat instead.\n",
      "  final_Data = final_Data.append(data1, ignore_index = True)\n",
      "/tmp/ipykernel_3245245/1638766432.py:38: FutureWarning: The frame.append method is deprecated and will be removed from pandas in a future version. Use pandas.concat instead.\n",
      "  final_Data = final_Data.append(data1, ignore_index = True)\n"
     ]
    },
    {
     "name": "stdout",
     "output_type": "stream",
     "text": [
      "4/4 [==============================] - 0s 3ms/step\n",
      "-------------------------------------------------------------\n",
      " confusion_matrix for new data with deeper model \n",
      " [[ 0  0]\n",
      " [72 28]]\n",
      "only attack data -  (28, 42)\n",
      "final data  354 -  (11752, 42)\n",
      "-------------------------------------------------------------\n",
      "4/4 [==============================] - 0s 2ms/step\n",
      "-------------------------------------------------------------\n",
      " confusion_matrix for new data with deeper model \n",
      " [[ 0  0]\n",
      " [69 31]]\n",
      "only attack data -  (31, 42)\n",
      "final data  355 -  (11783, 42)\n",
      "-------------------------------------------------------------\n"
     ]
    },
    {
     "name": "stderr",
     "output_type": "stream",
     "text": [
      "/tmp/ipykernel_3245245/1638766432.py:38: FutureWarning: The frame.append method is deprecated and will be removed from pandas in a future version. Use pandas.concat instead.\n",
      "  final_Data = final_Data.append(data1, ignore_index = True)\n",
      "/tmp/ipykernel_3245245/1638766432.py:38: FutureWarning: The frame.append method is deprecated and will be removed from pandas in a future version. Use pandas.concat instead.\n",
      "  final_Data = final_Data.append(data1, ignore_index = True)\n"
     ]
    },
    {
     "name": "stdout",
     "output_type": "stream",
     "text": [
      "4/4 [==============================] - 0s 2ms/step\n",
      "-------------------------------------------------------------\n",
      " confusion_matrix for new data with deeper model \n",
      " [[ 0  0]\n",
      " [69 31]]\n",
      "only attack data -  (31, 42)\n",
      "final data  356 -  (11814, 42)\n",
      "-------------------------------------------------------------\n",
      "4/4 [==============================] - 0s 2ms/step\n",
      "-------------------------------------------------------------\n",
      " confusion_matrix for new data with deeper model \n",
      " [[ 0  0]\n",
      " [62 38]]\n",
      "only attack data -  (38, 42)\n",
      "final data  357 -  (11852, 42)\n",
      "-------------------------------------------------------------\n",
      "1/4 [======>.......................] - ETA: 0s"
     ]
    },
    {
     "name": "stderr",
     "output_type": "stream",
     "text": [
      "/tmp/ipykernel_3245245/1638766432.py:38: FutureWarning: The frame.append method is deprecated and will be removed from pandas in a future version. Use pandas.concat instead.\n",
      "  final_Data = final_Data.append(data1, ignore_index = True)\n",
      "/tmp/ipykernel_3245245/1638766432.py:38: FutureWarning: The frame.append method is deprecated and will be removed from pandas in a future version. Use pandas.concat instead.\n",
      "  final_Data = final_Data.append(data1, ignore_index = True)\n"
     ]
    },
    {
     "name": "stdout",
     "output_type": "stream",
     "text": [
      "4/4 [==============================] - 0s 2ms/step\n",
      "-------------------------------------------------------------\n",
      " confusion_matrix for new data with deeper model \n",
      " [[ 0  0]\n",
      " [67 33]]\n",
      "only attack data -  (33, 42)\n",
      "final data  358 -  (11885, 42)\n",
      "-------------------------------------------------------------\n",
      "4/4 [==============================] - 0s 3ms/step\n",
      "-------------------------------------------------------------\n",
      " confusion_matrix for new data with deeper model \n",
      " [[ 0  0]\n",
      " [66 34]]\n",
      "only attack data -  (34, 42)\n",
      "final data  359 -  (11919, 42)\n",
      "-------------------------------------------------------------\n"
     ]
    },
    {
     "name": "stderr",
     "output_type": "stream",
     "text": [
      "/tmp/ipykernel_3245245/1638766432.py:38: FutureWarning: The frame.append method is deprecated and will be removed from pandas in a future version. Use pandas.concat instead.\n",
      "  final_Data = final_Data.append(data1, ignore_index = True)\n",
      "/tmp/ipykernel_3245245/1638766432.py:38: FutureWarning: The frame.append method is deprecated and will be removed from pandas in a future version. Use pandas.concat instead.\n",
      "  final_Data = final_Data.append(data1, ignore_index = True)\n"
     ]
    },
    {
     "name": "stdout",
     "output_type": "stream",
     "text": [
      "4/4 [==============================] - 0s 3ms/step\n",
      "-------------------------------------------------------------\n",
      " confusion_matrix for new data with deeper model \n",
      " [[ 0  0]\n",
      " [58 42]]\n",
      "only attack data -  (42, 42)\n",
      "final data  360 -  (11961, 42)\n",
      "-------------------------------------------------------------\n",
      "4/4 [==============================] - 0s 3ms/step\n",
      "-------------------------------------------------------------\n",
      " confusion_matrix for new data with deeper model \n",
      " [[ 0  0]\n",
      " [66 34]]\n",
      "only attack data -  (34, 42)\n",
      "final data  361 -  (11995, 42)\n",
      "-------------------------------------------------------------\n"
     ]
    },
    {
     "name": "stderr",
     "output_type": "stream",
     "text": [
      "/tmp/ipykernel_3245245/1638766432.py:38: FutureWarning: The frame.append method is deprecated and will be removed from pandas in a future version. Use pandas.concat instead.\n",
      "  final_Data = final_Data.append(data1, ignore_index = True)\n",
      "/tmp/ipykernel_3245245/1638766432.py:38: FutureWarning: The frame.append method is deprecated and will be removed from pandas in a future version. Use pandas.concat instead.\n",
      "  final_Data = final_Data.append(data1, ignore_index = True)\n"
     ]
    },
    {
     "name": "stdout",
     "output_type": "stream",
     "text": [
      "4/4 [==============================] - 0s 2ms/step\n",
      "-------------------------------------------------------------\n",
      " confusion_matrix for new data with deeper model \n",
      " [[ 0  0]\n",
      " [76 24]]\n",
      "only attack data -  (24, 42)\n",
      "final data  362 -  (12019, 42)\n",
      "-------------------------------------------------------------\n",
      "4/4 [==============================] - 0s 3ms/step\n",
      "-------------------------------------------------------------\n",
      " confusion_matrix for new data with deeper model \n",
      " [[ 0  0]\n",
      " [69 31]]\n",
      "only attack data -  (31, 42)\n",
      "final data  363 -  (12050, 42)\n",
      "-------------------------------------------------------------\n"
     ]
    },
    {
     "name": "stderr",
     "output_type": "stream",
     "text": [
      "/tmp/ipykernel_3245245/1638766432.py:38: FutureWarning: The frame.append method is deprecated and will be removed from pandas in a future version. Use pandas.concat instead.\n",
      "  final_Data = final_Data.append(data1, ignore_index = True)\n",
      "/tmp/ipykernel_3245245/1638766432.py:38: FutureWarning: The frame.append method is deprecated and will be removed from pandas in a future version. Use pandas.concat instead.\n",
      "  final_Data = final_Data.append(data1, ignore_index = True)\n"
     ]
    },
    {
     "name": "stdout",
     "output_type": "stream",
     "text": [
      "4/4 [==============================] - 0s 3ms/step\n",
      "-------------------------------------------------------------\n",
      " confusion_matrix for new data with deeper model \n",
      " [[ 0  0]\n",
      " [65 35]]\n",
      "only attack data -  (35, 42)\n",
      "final data  364 -  (12085, 42)\n",
      "-------------------------------------------------------------\n",
      "4/4 [==============================] - 0s 2ms/step\n",
      "-------------------------------------------------------------\n",
      " confusion_matrix for new data with deeper model \n",
      " [[ 0  0]\n",
      " [71 29]]\n",
      "only attack data -  (29, 42)\n",
      "final data  365 -  (12114, 42)\n",
      "-------------------------------------------------------------\n"
     ]
    },
    {
     "name": "stderr",
     "output_type": "stream",
     "text": [
      "/tmp/ipykernel_3245245/1638766432.py:38: FutureWarning: The frame.append method is deprecated and will be removed from pandas in a future version. Use pandas.concat instead.\n",
      "  final_Data = final_Data.append(data1, ignore_index = True)\n",
      "/tmp/ipykernel_3245245/1638766432.py:38: FutureWarning: The frame.append method is deprecated and will be removed from pandas in a future version. Use pandas.concat instead.\n",
      "  final_Data = final_Data.append(data1, ignore_index = True)\n"
     ]
    },
    {
     "name": "stdout",
     "output_type": "stream",
     "text": [
      "4/4 [==============================] - 0s 3ms/step\n",
      "-------------------------------------------------------------\n",
      " confusion_matrix for new data with deeper model \n",
      " [[ 0  0]\n",
      " [59 41]]\n",
      "only attack data -  (41, 42)\n",
      "final data  366 -  (12155, 42)\n",
      "-------------------------------------------------------------\n",
      "4/4 [==============================] - 0s 3ms/step\n",
      "-------------------------------------------------------------\n",
      " confusion_matrix for new data with deeper model \n",
      " [[ 0  0]\n",
      " [65 35]]\n",
      "only attack data -  (35, 42)\n",
      "final data  367 -  (12190, 42)\n",
      "-------------------------------------------------------------\n"
     ]
    },
    {
     "name": "stderr",
     "output_type": "stream",
     "text": [
      "/tmp/ipykernel_3245245/1638766432.py:38: FutureWarning: The frame.append method is deprecated and will be removed from pandas in a future version. Use pandas.concat instead.\n",
      "  final_Data = final_Data.append(data1, ignore_index = True)\n",
      "/tmp/ipykernel_3245245/1638766432.py:38: FutureWarning: The frame.append method is deprecated and will be removed from pandas in a future version. Use pandas.concat instead.\n",
      "  final_Data = final_Data.append(data1, ignore_index = True)\n"
     ]
    },
    {
     "name": "stdout",
     "output_type": "stream",
     "text": [
      "4/4 [==============================] - 0s 2ms/step\n",
      "-------------------------------------------------------------\n",
      " confusion_matrix for new data with deeper model \n",
      " [[ 0  0]\n",
      " [71 29]]\n",
      "only attack data -  (29, 42)\n",
      "final data  368 -  (12219, 42)\n",
      "-------------------------------------------------------------\n",
      "4/4 [==============================] - 0s 2ms/step\n",
      "-------------------------------------------------------------\n",
      " confusion_matrix for new data with deeper model \n",
      " [[ 0  0]\n",
      " [59 41]]\n",
      "only attack data -  (41, 42)\n",
      "final data  369 -  (12260, 42)\n",
      "-------------------------------------------------------------\n"
     ]
    },
    {
     "name": "stderr",
     "output_type": "stream",
     "text": [
      "/tmp/ipykernel_3245245/1638766432.py:38: FutureWarning: The frame.append method is deprecated and will be removed from pandas in a future version. Use pandas.concat instead.\n",
      "  final_Data = final_Data.append(data1, ignore_index = True)\n",
      "/tmp/ipykernel_3245245/1638766432.py:38: FutureWarning: The frame.append method is deprecated and will be removed from pandas in a future version. Use pandas.concat instead.\n",
      "  final_Data = final_Data.append(data1, ignore_index = True)\n"
     ]
    },
    {
     "name": "stdout",
     "output_type": "stream",
     "text": [
      "4/4 [==============================] - 0s 3ms/step\n",
      "-------------------------------------------------------------\n",
      " confusion_matrix for new data with deeper model \n",
      " [[ 0  0]\n",
      " [66 34]]\n",
      "only attack data -  (34, 42)\n",
      "final data  370 -  (12294, 42)\n",
      "-------------------------------------------------------------\n",
      "4/4 [==============================] - 0s 3ms/step\n",
      "-------------------------------------------------------------\n",
      " confusion_matrix for new data with deeper model \n",
      " [[ 0  0]\n",
      " [69 31]]\n",
      "only attack data -  (31, 42)\n",
      "final data  371 -  (12325, 42)\n",
      "-------------------------------------------------------------\n"
     ]
    },
    {
     "name": "stderr",
     "output_type": "stream",
     "text": [
      "/tmp/ipykernel_3245245/1638766432.py:38: FutureWarning: The frame.append method is deprecated and will be removed from pandas in a future version. Use pandas.concat instead.\n",
      "  final_Data = final_Data.append(data1, ignore_index = True)\n",
      "/tmp/ipykernel_3245245/1638766432.py:38: FutureWarning: The frame.append method is deprecated and will be removed from pandas in a future version. Use pandas.concat instead.\n",
      "  final_Data = final_Data.append(data1, ignore_index = True)\n"
     ]
    },
    {
     "name": "stdout",
     "output_type": "stream",
     "text": [
      "4/4 [==============================] - 0s 3ms/step\n",
      "-------------------------------------------------------------\n",
      " confusion_matrix for new data with deeper model \n",
      " [[ 0  0]\n",
      " [66 34]]\n",
      "only attack data -  (34, 42)\n",
      "final data  372 -  (12359, 42)\n",
      "-------------------------------------------------------------\n",
      "4/4 [==============================] - 0s 3ms/step\n"
     ]
    },
    {
     "name": "stderr",
     "output_type": "stream",
     "text": [
      "/tmp/ipykernel_3245245/1638766432.py:38: FutureWarning: The frame.append method is deprecated and will be removed from pandas in a future version. Use pandas.concat instead.\n",
      "  final_Data = final_Data.append(data1, ignore_index = True)\n",
      "/tmp/ipykernel_3245245/1638766432.py:38: FutureWarning: The frame.append method is deprecated and will be removed from pandas in a future version. Use pandas.concat instead.\n",
      "  final_Data = final_Data.append(data1, ignore_index = True)\n"
     ]
    },
    {
     "name": "stdout",
     "output_type": "stream",
     "text": [
      "-------------------------------------------------------------\n",
      " confusion_matrix for new data with deeper model \n",
      " [[ 0  0]\n",
      " [69 31]]\n",
      "only attack data -  (31, 42)\n",
      "final data  373 -  (12390, 42)\n",
      "-------------------------------------------------------------\n",
      "4/4 [==============================] - 0s 3ms/step\n",
      "-------------------------------------------------------------\n",
      " confusion_matrix for new data with deeper model \n",
      " [[ 0  0]\n",
      " [60 40]]\n",
      "only attack data -  (40, 42)\n",
      "final data  374 -  (12430, 42)\n",
      "-------------------------------------------------------------\n",
      "4/4 [==============================] - 0s 3ms/step\n",
      "-------------------------------------------------------------\n",
      " confusion_matrix for new data with deeper model \n",
      " [[ 0  0]\n",
      " [68 32]]\n",
      "only attack data -  (32, 42)\n",
      "final data  375 -  (12462, 42)\n",
      "-------------------------------------------------------------\n"
     ]
    },
    {
     "name": "stderr",
     "output_type": "stream",
     "text": [
      "/tmp/ipykernel_3245245/1638766432.py:38: FutureWarning: The frame.append method is deprecated and will be removed from pandas in a future version. Use pandas.concat instead.\n",
      "  final_Data = final_Data.append(data1, ignore_index = True)\n",
      "/tmp/ipykernel_3245245/1638766432.py:38: FutureWarning: The frame.append method is deprecated and will be removed from pandas in a future version. Use pandas.concat instead.\n",
      "  final_Data = final_Data.append(data1, ignore_index = True)\n"
     ]
    },
    {
     "name": "stdout",
     "output_type": "stream",
     "text": [
      "4/4 [==============================] - 0s 3ms/step\n",
      "-------------------------------------------------------------\n",
      " confusion_matrix for new data with deeper model \n",
      " [[ 0  0]\n",
      " [63 37]]\n",
      "only attack data -  (37, 42)\n",
      "final data  376 -  (12499, 42)\n",
      "-------------------------------------------------------------\n",
      "4/4 [==============================] - 0s 3ms/step\n",
      "-------------------------------------------------------------\n",
      " confusion_matrix for new data with deeper model \n",
      " [[ 0  0]\n",
      " [61 39]]\n",
      "only attack data -  (39, 42)\n",
      "final data  377 -  (12538, 42)\n",
      "-------------------------------------------------------------\n"
     ]
    },
    {
     "name": "stderr",
     "output_type": "stream",
     "text": [
      "/tmp/ipykernel_3245245/1638766432.py:38: FutureWarning: The frame.append method is deprecated and will be removed from pandas in a future version. Use pandas.concat instead.\n",
      "  final_Data = final_Data.append(data1, ignore_index = True)\n",
      "/tmp/ipykernel_3245245/1638766432.py:38: FutureWarning: The frame.append method is deprecated and will be removed from pandas in a future version. Use pandas.concat instead.\n",
      "  final_Data = final_Data.append(data1, ignore_index = True)\n"
     ]
    },
    {
     "name": "stdout",
     "output_type": "stream",
     "text": [
      "4/4 [==============================] - 0s 2ms/step\n",
      "-------------------------------------------------------------\n",
      " confusion_matrix for new data with deeper model \n",
      " [[ 0  0]\n",
      " [68 32]]\n",
      "only attack data -  (32, 42)\n",
      "final data  378 -  (12570, 42)\n",
      "-------------------------------------------------------------\n",
      "4/4 [==============================] - 0s 2ms/step\n",
      "-------------------------------------------------------------\n",
      " confusion_matrix for new data with deeper model \n",
      " [[ 0  0]\n",
      " [61 39]]\n",
      "only attack data -  (39, 42)\n",
      "final data  379 -  (12609, 42)\n",
      "-------------------------------------------------------------\n",
      "1/4 [======>.......................] - ETA: 0s"
     ]
    },
    {
     "name": "stderr",
     "output_type": "stream",
     "text": [
      "/tmp/ipykernel_3245245/1638766432.py:38: FutureWarning: The frame.append method is deprecated and will be removed from pandas in a future version. Use pandas.concat instead.\n",
      "  final_Data = final_Data.append(data1, ignore_index = True)\n",
      "/tmp/ipykernel_3245245/1638766432.py:38: FutureWarning: The frame.append method is deprecated and will be removed from pandas in a future version. Use pandas.concat instead.\n",
      "  final_Data = final_Data.append(data1, ignore_index = True)\n"
     ]
    },
    {
     "name": "stdout",
     "output_type": "stream",
     "text": [
      "4/4 [==============================] - 0s 2ms/step\n",
      "-------------------------------------------------------------\n",
      " confusion_matrix for new data with deeper model \n",
      " [[ 0  0]\n",
      " [69 31]]\n",
      "only attack data -  (31, 42)\n",
      "final data  380 -  (12640, 42)\n",
      "-------------------------------------------------------------\n",
      "4/4 [==============================] - 0s 3ms/step\n",
      "-------------------------------------------------------------\n",
      " confusion_matrix for new data with deeper model \n",
      " [[ 0  0]\n",
      " [70 30]]\n",
      "only attack data -  (30, 42)\n",
      "final data  381 -  (12670, 42)\n",
      "-------------------------------------------------------------\n"
     ]
    },
    {
     "name": "stderr",
     "output_type": "stream",
     "text": [
      "/tmp/ipykernel_3245245/1638766432.py:38: FutureWarning: The frame.append method is deprecated and will be removed from pandas in a future version. Use pandas.concat instead.\n",
      "  final_Data = final_Data.append(data1, ignore_index = True)\n",
      "/tmp/ipykernel_3245245/1638766432.py:38: FutureWarning: The frame.append method is deprecated and will be removed from pandas in a future version. Use pandas.concat instead.\n",
      "  final_Data = final_Data.append(data1, ignore_index = True)\n"
     ]
    },
    {
     "name": "stdout",
     "output_type": "stream",
     "text": [
      "4/4 [==============================] - 0s 2ms/step\n",
      "-------------------------------------------------------------\n",
      " confusion_matrix for new data with deeper model \n",
      " [[ 0  0]\n",
      " [69 31]]\n",
      "only attack data -  (31, 42)\n",
      "final data  382 -  (12701, 42)\n",
      "-------------------------------------------------------------\n",
      "4/4 [==============================] - 0s 2ms/step\n",
      "-------------------------------------------------------------\n",
      " confusion_matrix for new data with deeper model \n",
      " [[ 0  0]\n",
      " [68 32]]\n",
      "only attack data -  (32, 42)\n",
      "final data  383 -  (12733, 42)\n",
      "-------------------------------------------------------------\n"
     ]
    },
    {
     "name": "stderr",
     "output_type": "stream",
     "text": [
      "/tmp/ipykernel_3245245/1638766432.py:38: FutureWarning: The frame.append method is deprecated and will be removed from pandas in a future version. Use pandas.concat instead.\n",
      "  final_Data = final_Data.append(data1, ignore_index = True)\n",
      "/tmp/ipykernel_3245245/1638766432.py:38: FutureWarning: The frame.append method is deprecated and will be removed from pandas in a future version. Use pandas.concat instead.\n",
      "  final_Data = final_Data.append(data1, ignore_index = True)\n"
     ]
    },
    {
     "name": "stdout",
     "output_type": "stream",
     "text": [
      "4/4 [==============================] - 0s 2ms/step\n",
      "-------------------------------------------------------------\n",
      " confusion_matrix for new data with deeper model \n",
      " [[ 0  0]\n",
      " [68 32]]\n",
      "only attack data -  (32, 42)\n",
      "final data  384 -  (12765, 42)\n",
      "-------------------------------------------------------------\n",
      "4/4 [==============================] - 0s 3ms/step\n",
      "-------------------------------------------------------------\n",
      " confusion_matrix for new data with deeper model \n",
      " [[ 0  0]\n",
      " [62 38]]\n",
      "only attack data -  (38, 42)\n",
      "final data  385 -  (12803, 42)\n",
      "-------------------------------------------------------------\n"
     ]
    },
    {
     "name": "stderr",
     "output_type": "stream",
     "text": [
      "/tmp/ipykernel_3245245/1638766432.py:38: FutureWarning: The frame.append method is deprecated and will be removed from pandas in a future version. Use pandas.concat instead.\n",
      "  final_Data = final_Data.append(data1, ignore_index = True)\n",
      "/tmp/ipykernel_3245245/1638766432.py:38: FutureWarning: The frame.append method is deprecated and will be removed from pandas in a future version. Use pandas.concat instead.\n",
      "  final_Data = final_Data.append(data1, ignore_index = True)\n"
     ]
    },
    {
     "name": "stdout",
     "output_type": "stream",
     "text": [
      "4/4 [==============================] - 0s 3ms/step\n",
      "-------------------------------------------------------------\n",
      " confusion_matrix for new data with deeper model \n",
      " [[ 0  0]\n",
      " [67 33]]\n",
      "only attack data -  (33, 42)\n",
      "final data  386 -  (12836, 42)\n",
      "-------------------------------------------------------------\n",
      "4/4 [==============================] - 0s 3ms/step\n",
      "-------------------------------------------------------------\n",
      " confusion_matrix for new data with deeper model \n",
      " [[ 0  0]\n",
      " [69 31]]\n",
      "only attack data -  (31, 42)\n",
      "final data  387 -  (12867, 42)\n",
      "-------------------------------------------------------------\n"
     ]
    },
    {
     "name": "stderr",
     "output_type": "stream",
     "text": [
      "/tmp/ipykernel_3245245/1638766432.py:38: FutureWarning: The frame.append method is deprecated and will be removed from pandas in a future version. Use pandas.concat instead.\n",
      "  final_Data = final_Data.append(data1, ignore_index = True)\n",
      "/tmp/ipykernel_3245245/1638766432.py:38: FutureWarning: The frame.append method is deprecated and will be removed from pandas in a future version. Use pandas.concat instead.\n",
      "  final_Data = final_Data.append(data1, ignore_index = True)\n"
     ]
    },
    {
     "name": "stdout",
     "output_type": "stream",
     "text": [
      "4/4 [==============================] - 0s 3ms/step\n",
      "-------------------------------------------------------------\n",
      " confusion_matrix for new data with deeper model \n",
      " [[ 0  0]\n",
      " [73 27]]\n",
      "only attack data -  (27, 42)\n",
      "final data  388 -  (12894, 42)\n",
      "-------------------------------------------------------------\n",
      "4/4 [==============================] - 0s 3ms/step\n",
      "-------------------------------------------------------------\n",
      " confusion_matrix for new data with deeper model \n",
      " [[ 0  0]\n",
      " [65 35]]\n",
      "only attack data -  (35, 42)\n",
      "final data  389 -  (12929, 42)\n",
      "-------------------------------------------------------------\n"
     ]
    },
    {
     "name": "stderr",
     "output_type": "stream",
     "text": [
      "/tmp/ipykernel_3245245/1638766432.py:38: FutureWarning: The frame.append method is deprecated and will be removed from pandas in a future version. Use pandas.concat instead.\n",
      "  final_Data = final_Data.append(data1, ignore_index = True)\n",
      "/tmp/ipykernel_3245245/1638766432.py:38: FutureWarning: The frame.append method is deprecated and will be removed from pandas in a future version. Use pandas.concat instead.\n",
      "  final_Data = final_Data.append(data1, ignore_index = True)\n"
     ]
    },
    {
     "name": "stdout",
     "output_type": "stream",
     "text": [
      "4/4 [==============================] - 0s 2ms/step\n",
      "-------------------------------------------------------------\n",
      " confusion_matrix for new data with deeper model \n",
      " [[ 0  0]\n",
      " [66 34]]\n",
      "only attack data -  (34, 42)\n",
      "final data  390 -  (12963, 42)\n",
      "-------------------------------------------------------------\n",
      "4/4 [==============================] - 0s 2ms/step\n",
      "-------------------------------------------------------------\n",
      " confusion_matrix for new data with deeper model \n",
      " [[ 0  0]\n",
      " [64 36]]\n",
      "only attack data -  (36, 42)\n",
      "final data  391 -  (12999, 42)\n",
      "-------------------------------------------------------------\n"
     ]
    },
    {
     "name": "stderr",
     "output_type": "stream",
     "text": [
      "/tmp/ipykernel_3245245/1638766432.py:38: FutureWarning: The frame.append method is deprecated and will be removed from pandas in a future version. Use pandas.concat instead.\n",
      "  final_Data = final_Data.append(data1, ignore_index = True)\n",
      "/tmp/ipykernel_3245245/1638766432.py:38: FutureWarning: The frame.append method is deprecated and will be removed from pandas in a future version. Use pandas.concat instead.\n",
      "  final_Data = final_Data.append(data1, ignore_index = True)\n"
     ]
    },
    {
     "name": "stdout",
     "output_type": "stream",
     "text": [
      "4/4 [==============================] - 0s 2ms/step\n",
      "-------------------------------------------------------------\n",
      " confusion_matrix for new data with deeper model \n",
      " [[ 0  0]\n",
      " [65 35]]\n",
      "only attack data -  (35, 42)\n",
      "final data  392 -  (13034, 42)\n",
      "-------------------------------------------------------------\n",
      "4/4 [==============================] - 0s 3ms/step\n",
      "-------------------------------------------------------------\n",
      " confusion_matrix for new data with deeper model \n",
      " [[ 0  0]\n",
      " [54 46]]\n",
      "only attack data -  (46, 42)\n",
      "final data  393 -  (13080, 42)\n",
      "-------------------------------------------------------------\n"
     ]
    },
    {
     "name": "stderr",
     "output_type": "stream",
     "text": [
      "/tmp/ipykernel_3245245/1638766432.py:38: FutureWarning: The frame.append method is deprecated and will be removed from pandas in a future version. Use pandas.concat instead.\n",
      "  final_Data = final_Data.append(data1, ignore_index = True)\n",
      "/tmp/ipykernel_3245245/1638766432.py:38: FutureWarning: The frame.append method is deprecated and will be removed from pandas in a future version. Use pandas.concat instead.\n",
      "  final_Data = final_Data.append(data1, ignore_index = True)\n"
     ]
    },
    {
     "name": "stdout",
     "output_type": "stream",
     "text": [
      "4/4 [==============================] - 0s 3ms/step\n",
      "-------------------------------------------------------------\n",
      " confusion_matrix for new data with deeper model \n",
      " [[ 0  0]\n",
      " [67 33]]\n",
      "only attack data -  (33, 42)\n",
      "final data  394 -  (13113, 42)\n",
      "-------------------------------------------------------------\n",
      "4/4 [==============================] - 0s 2ms/step\n",
      "-------------------------------------------------------------\n",
      " confusion_matrix for new data with deeper model \n",
      " [[ 0  0]\n",
      " [51 49]]\n",
      "only attack data -  (49, 42)\n",
      "final data  395 -  (13162, 42)\n",
      "-------------------------------------------------------------\n"
     ]
    },
    {
     "name": "stderr",
     "output_type": "stream",
     "text": [
      "/tmp/ipykernel_3245245/1638766432.py:38: FutureWarning: The frame.append method is deprecated and will be removed from pandas in a future version. Use pandas.concat instead.\n",
      "  final_Data = final_Data.append(data1, ignore_index = True)\n",
      "/tmp/ipykernel_3245245/1638766432.py:38: FutureWarning: The frame.append method is deprecated and will be removed from pandas in a future version. Use pandas.concat instead.\n",
      "  final_Data = final_Data.append(data1, ignore_index = True)\n"
     ]
    },
    {
     "name": "stdout",
     "output_type": "stream",
     "text": [
      "4/4 [==============================] - 0s 2ms/step\n",
      "-------------------------------------------------------------\n",
      " confusion_matrix for new data with deeper model \n",
      " [[ 0  0]\n",
      " [74 26]]\n",
      "only attack data -  (26, 42)\n",
      "final data  396 -  (13188, 42)\n",
      "-------------------------------------------------------------\n",
      "4/4 [==============================] - 0s 2ms/step\n",
      "-------------------------------------------------------------\n",
      " confusion_matrix for new data with deeper model \n",
      " [[ 0  0]\n",
      " [63 37]]\n",
      "only attack data -  (37, 42)\n",
      "final data  397 -  (13225, 42)\n",
      "-------------------------------------------------------------\n"
     ]
    },
    {
     "name": "stderr",
     "output_type": "stream",
     "text": [
      "/tmp/ipykernel_3245245/1638766432.py:38: FutureWarning: The frame.append method is deprecated and will be removed from pandas in a future version. Use pandas.concat instead.\n",
      "  final_Data = final_Data.append(data1, ignore_index = True)\n",
      "/tmp/ipykernel_3245245/1638766432.py:38: FutureWarning: The frame.append method is deprecated and will be removed from pandas in a future version. Use pandas.concat instead.\n",
      "  final_Data = final_Data.append(data1, ignore_index = True)\n"
     ]
    },
    {
     "name": "stdout",
     "output_type": "stream",
     "text": [
      "4/4 [==============================] - 0s 2ms/step\n",
      "-------------------------------------------------------------\n",
      " confusion_matrix for new data with deeper model \n",
      " [[ 0  0]\n",
      " [66 34]]\n",
      "only attack data -  (34, 42)\n",
      "final data  398 -  (13259, 42)\n",
      "-------------------------------------------------------------\n",
      "4/4 [==============================] - 0s 6ms/step\n",
      "-------------------------------------------------------------\n",
      " confusion_matrix for new data with deeper model \n",
      " [[ 0  0]\n",
      " [69 31]]\n",
      "only attack data -  (31, 42)\n",
      "final data  399 -  (13290, 42)\n",
      "-------------------------------------------------------------\n"
     ]
    },
    {
     "name": "stderr",
     "output_type": "stream",
     "text": [
      "/tmp/ipykernel_3245245/1638766432.py:38: FutureWarning: The frame.append method is deprecated and will be removed from pandas in a future version. Use pandas.concat instead.\n",
      "  final_Data = final_Data.append(data1, ignore_index = True)\n",
      "/tmp/ipykernel_3245245/1638766432.py:38: FutureWarning: The frame.append method is deprecated and will be removed from pandas in a future version. Use pandas.concat instead.\n",
      "  final_Data = final_Data.append(data1, ignore_index = True)\n"
     ]
    },
    {
     "name": "stdout",
     "output_type": "stream",
     "text": [
      "4/4 [==============================] - 0s 10ms/step\n",
      "-------------------------------------------------------------\n",
      " confusion_matrix for new data with deeper model \n",
      " [[ 0  0]\n",
      " [67 33]]\n",
      "only attack data -  (33, 42)\n",
      "final data  400 -  (13323, 42)\n",
      "-------------------------------------------------------------\n",
      "4/4 [==============================] - 0s 3ms/step\n"
     ]
    },
    {
     "name": "stderr",
     "output_type": "stream",
     "text": [
      "/tmp/ipykernel_3245245/1638766432.py:38: FutureWarning: The frame.append method is deprecated and will be removed from pandas in a future version. Use pandas.concat instead.\n",
      "  final_Data = final_Data.append(data1, ignore_index = True)\n"
     ]
    },
    {
     "name": "stdout",
     "output_type": "stream",
     "text": [
      "-------------------------------------------------------------\n",
      " confusion_matrix for new data with deeper model \n",
      " [[ 0  0]\n",
      " [57 43]]\n",
      "only attack data -  (43, 42)\n",
      "final data  401 -  (13366, 42)\n",
      "-------------------------------------------------------------\n",
      "4/4 [==============================] - 0s 3ms/step\n"
     ]
    },
    {
     "name": "stderr",
     "output_type": "stream",
     "text": [
      "/tmp/ipykernel_3245245/1638766432.py:38: FutureWarning: The frame.append method is deprecated and will be removed from pandas in a future version. Use pandas.concat instead.\n",
      "  final_Data = final_Data.append(data1, ignore_index = True)\n"
     ]
    },
    {
     "name": "stdout",
     "output_type": "stream",
     "text": [
      "-------------------------------------------------------------\n",
      " confusion_matrix for new data with deeper model \n",
      " [[ 0  0]\n",
      " [65 35]]\n",
      "only attack data -  (35, 42)\n",
      "final data  402 -  (13401, 42)\n",
      "-------------------------------------------------------------\n",
      "4/4 [==============================] - 0s 3ms/step\n",
      "-------------------------------------------------------------\n",
      " confusion_matrix for new data with deeper model \n",
      " [[ 0  0]\n",
      " [72 28]]\n",
      "only attack data -  (28, 42)\n",
      "final data  403 -  (13429, 42)\n",
      "-------------------------------------------------------------\n"
     ]
    },
    {
     "name": "stderr",
     "output_type": "stream",
     "text": [
      "/tmp/ipykernel_3245245/1638766432.py:38: FutureWarning: The frame.append method is deprecated and will be removed from pandas in a future version. Use pandas.concat instead.\n",
      "  final_Data = final_Data.append(data1, ignore_index = True)\n",
      "/tmp/ipykernel_3245245/1638766432.py:38: FutureWarning: The frame.append method is deprecated and will be removed from pandas in a future version. Use pandas.concat instead.\n",
      "  final_Data = final_Data.append(data1, ignore_index = True)\n"
     ]
    },
    {
     "name": "stdout",
     "output_type": "stream",
     "text": [
      "4/4 [==============================] - 0s 3ms/step\n",
      "-------------------------------------------------------------\n",
      " confusion_matrix for new data with deeper model \n",
      " [[ 0  0]\n",
      " [69 31]]\n",
      "only attack data -  (31, 42)\n",
      "final data  404 -  (13460, 42)\n",
      "-------------------------------------------------------------\n",
      "4/4 [==============================] - 0s 2ms/step\n",
      "-------------------------------------------------------------\n",
      " confusion_matrix for new data with deeper model \n",
      " [[ 0  0]\n",
      " [70 30]]\n",
      "only attack data -  (30, 42)\n",
      "final data  405 -  (13490, 42)\n",
      "-------------------------------------------------------------\n"
     ]
    },
    {
     "name": "stderr",
     "output_type": "stream",
     "text": [
      "/tmp/ipykernel_3245245/1638766432.py:38: FutureWarning: The frame.append method is deprecated and will be removed from pandas in a future version. Use pandas.concat instead.\n",
      "  final_Data = final_Data.append(data1, ignore_index = True)\n",
      "/tmp/ipykernel_3245245/1638766432.py:38: FutureWarning: The frame.append method is deprecated and will be removed from pandas in a future version. Use pandas.concat instead.\n",
      "  final_Data = final_Data.append(data1, ignore_index = True)\n"
     ]
    },
    {
     "name": "stdout",
     "output_type": "stream",
     "text": [
      "4/4 [==============================] - 0s 3ms/step\n",
      "-------------------------------------------------------------\n",
      " confusion_matrix for new data with deeper model \n",
      " [[ 0  0]\n",
      " [60 40]]\n",
      "only attack data -  (40, 42)\n",
      "final data  406 -  (13530, 42)\n",
      "-------------------------------------------------------------\n",
      "4/4 [==============================] - 0s 3ms/step\n",
      "-------------------------------------------------------------\n",
      " confusion_matrix for new data with deeper model \n",
      " [[ 0  0]\n",
      " [67 33]]\n",
      "only attack data -  (33, 42)\n",
      "final data  407 -  (13563, 42)\n",
      "-------------------------------------------------------------\n"
     ]
    },
    {
     "name": "stderr",
     "output_type": "stream",
     "text": [
      "/tmp/ipykernel_3245245/1638766432.py:38: FutureWarning: The frame.append method is deprecated and will be removed from pandas in a future version. Use pandas.concat instead.\n",
      "  final_Data = final_Data.append(data1, ignore_index = True)\n",
      "/tmp/ipykernel_3245245/1638766432.py:38: FutureWarning: The frame.append method is deprecated and will be removed from pandas in a future version. Use pandas.concat instead.\n",
      "  final_Data = final_Data.append(data1, ignore_index = True)\n"
     ]
    },
    {
     "name": "stdout",
     "output_type": "stream",
     "text": [
      "4/4 [==============================] - 0s 3ms/step\n",
      "-------------------------------------------------------------\n",
      " confusion_matrix for new data with deeper model \n",
      " [[ 0  0]\n",
      " [66 34]]\n",
      "only attack data -  (34, 42)\n",
      "final data  408 -  (13597, 42)\n",
      "-------------------------------------------------------------\n",
      "4/4 [==============================] - 0s 2ms/step\n",
      "-------------------------------------------------------------\n",
      " confusion_matrix for new data with deeper model \n",
      " [[ 0  0]\n",
      " [65 35]]\n",
      "only attack data -  (35, 42)\n",
      "final data  409 -  (13632, 42)\n",
      "-------------------------------------------------------------\n"
     ]
    },
    {
     "name": "stderr",
     "output_type": "stream",
     "text": [
      "/tmp/ipykernel_3245245/1638766432.py:38: FutureWarning: The frame.append method is deprecated and will be removed from pandas in a future version. Use pandas.concat instead.\n",
      "  final_Data = final_Data.append(data1, ignore_index = True)\n",
      "/tmp/ipykernel_3245245/1638766432.py:38: FutureWarning: The frame.append method is deprecated and will be removed from pandas in a future version. Use pandas.concat instead.\n",
      "  final_Data = final_Data.append(data1, ignore_index = True)\n"
     ]
    },
    {
     "name": "stdout",
     "output_type": "stream",
     "text": [
      "4/4 [==============================] - 0s 2ms/step\n",
      "-------------------------------------------------------------\n",
      " confusion_matrix for new data with deeper model \n",
      " [[ 0  0]\n",
      " [60 40]]\n",
      "only attack data -  (40, 42)\n",
      "final data  410 -  (13672, 42)\n",
      "-------------------------------------------------------------\n",
      "4/4 [==============================] - 0s 3ms/step\n",
      "-------------------------------------------------------------\n",
      " confusion_matrix for new data with deeper model \n",
      " [[ 0  0]\n",
      " [66 34]]\n",
      "only attack data -  (34, 42)\n",
      "final data  411 -  (13706, 42)\n",
      "-------------------------------------------------------------\n",
      "1/4 [======>.......................] - ETA: 0s"
     ]
    },
    {
     "name": "stderr",
     "output_type": "stream",
     "text": [
      "/tmp/ipykernel_3245245/1638766432.py:38: FutureWarning: The frame.append method is deprecated and will be removed from pandas in a future version. Use pandas.concat instead.\n",
      "  final_Data = final_Data.append(data1, ignore_index = True)\n",
      "/tmp/ipykernel_3245245/1638766432.py:38: FutureWarning: The frame.append method is deprecated and will be removed from pandas in a future version. Use pandas.concat instead.\n",
      "  final_Data = final_Data.append(data1, ignore_index = True)\n"
     ]
    },
    {
     "name": "stdout",
     "output_type": "stream",
     "text": [
      "4/4 [==============================] - 0s 7ms/step\n",
      "-------------------------------------------------------------\n",
      " confusion_matrix for new data with deeper model \n",
      " [[ 0  0]\n",
      " [62 38]]\n",
      "only attack data -  (38, 42)\n",
      "final data  412 -  (13744, 42)\n",
      "-------------------------------------------------------------\n",
      "4/4 [==============================] - 0s 2ms/step\n",
      "-------------------------------------------------------------\n",
      " confusion_matrix for new data with deeper model \n",
      " [[ 0  0]\n",
      " [68 32]]\n",
      "only attack data -  (32, 42)\n",
      "final data  413 -  (13776, 42)\n",
      "-------------------------------------------------------------\n"
     ]
    },
    {
     "name": "stderr",
     "output_type": "stream",
     "text": [
      "/tmp/ipykernel_3245245/1638766432.py:38: FutureWarning: The frame.append method is deprecated and will be removed from pandas in a future version. Use pandas.concat instead.\n",
      "  final_Data = final_Data.append(data1, ignore_index = True)\n",
      "/tmp/ipykernel_3245245/1638766432.py:38: FutureWarning: The frame.append method is deprecated and will be removed from pandas in a future version. Use pandas.concat instead.\n",
      "  final_Data = final_Data.append(data1, ignore_index = True)\n"
     ]
    },
    {
     "name": "stdout",
     "output_type": "stream",
     "text": [
      "4/4 [==============================] - 0s 4ms/step\n",
      "-------------------------------------------------------------\n",
      " confusion_matrix for new data with deeper model \n",
      " [[ 0  0]\n",
      " [68 32]]\n",
      "only attack data -  (32, 42)\n",
      "final data  414 -  (13808, 42)\n",
      "-------------------------------------------------------------\n",
      "4/4 [==============================] - 0s 3ms/step\n",
      "-------------------------------------------------------------\n",
      " confusion_matrix for new data with deeper model \n",
      " [[ 0  0]\n",
      " [70 30]]\n",
      "only attack data -  (30, 42)\n",
      "final data  415 -  (13838, 42)\n",
      "-------------------------------------------------------------\n"
     ]
    },
    {
     "name": "stderr",
     "output_type": "stream",
     "text": [
      "/tmp/ipykernel_3245245/1638766432.py:38: FutureWarning: The frame.append method is deprecated and will be removed from pandas in a future version. Use pandas.concat instead.\n",
      "  final_Data = final_Data.append(data1, ignore_index = True)\n",
      "/tmp/ipykernel_3245245/1638766432.py:38: FutureWarning: The frame.append method is deprecated and will be removed from pandas in a future version. Use pandas.concat instead.\n",
      "  final_Data = final_Data.append(data1, ignore_index = True)\n"
     ]
    },
    {
     "name": "stdout",
     "output_type": "stream",
     "text": [
      "4/4 [==============================] - 0s 3ms/step\n",
      "-------------------------------------------------------------\n",
      " confusion_matrix for new data with deeper model \n",
      " [[ 0  0]\n",
      " [68 32]]\n",
      "only attack data -  (32, 42)\n",
      "final data  416 -  (13870, 42)\n",
      "-------------------------------------------------------------\n",
      "4/4 [==============================] - 0s 2ms/step\n",
      "-------------------------------------------------------------\n",
      " confusion_matrix for new data with deeper model \n",
      " [[ 0  0]\n",
      " [64 36]]\n",
      "only attack data -  (36, 42)\n",
      "final data  417 -  (13906, 42)\n",
      "-------------------------------------------------------------\n"
     ]
    },
    {
     "name": "stderr",
     "output_type": "stream",
     "text": [
      "/tmp/ipykernel_3245245/1638766432.py:38: FutureWarning: The frame.append method is deprecated and will be removed from pandas in a future version. Use pandas.concat instead.\n",
      "  final_Data = final_Data.append(data1, ignore_index = True)\n",
      "/tmp/ipykernel_3245245/1638766432.py:38: FutureWarning: The frame.append method is deprecated and will be removed from pandas in a future version. Use pandas.concat instead.\n",
      "  final_Data = final_Data.append(data1, ignore_index = True)\n"
     ]
    },
    {
     "name": "stdout",
     "output_type": "stream",
     "text": [
      "4/4 [==============================] - 0s 2ms/step\n",
      "-------------------------------------------------------------\n",
      " confusion_matrix for new data with deeper model \n",
      " [[ 0  0]\n",
      " [56 44]]\n",
      "only attack data -  (44, 42)\n",
      "final data  418 -  (13950, 42)\n",
      "-------------------------------------------------------------\n",
      "4/4 [==============================] - 0s 3ms/step\n",
      "-------------------------------------------------------------\n",
      " confusion_matrix for new data with deeper model \n",
      " [[ 0  0]\n",
      " [71 29]]\n",
      "only attack data -  (29, 42)\n",
      "final data  419 -  (13979, 42)\n",
      "-------------------------------------------------------------\n"
     ]
    },
    {
     "name": "stderr",
     "output_type": "stream",
     "text": [
      "/tmp/ipykernel_3245245/1638766432.py:38: FutureWarning: The frame.append method is deprecated and will be removed from pandas in a future version. Use pandas.concat instead.\n",
      "  final_Data = final_Data.append(data1, ignore_index = True)\n",
      "/tmp/ipykernel_3245245/1638766432.py:38: FutureWarning: The frame.append method is deprecated and will be removed from pandas in a future version. Use pandas.concat instead.\n",
      "  final_Data = final_Data.append(data1, ignore_index = True)\n"
     ]
    },
    {
     "name": "stdout",
     "output_type": "stream",
     "text": [
      "4/4 [==============================] - 0s 3ms/step\n",
      "-------------------------------------------------------------\n",
      " confusion_matrix for new data with deeper model \n",
      " [[ 0  0]\n",
      " [68 32]]\n",
      "only attack data -  (32, 42)\n",
      "final data  420 -  (14011, 42)\n",
      "-------------------------------------------------------------\n",
      "4/4 [==============================] - 0s 3ms/step\n",
      "-------------------------------------------------------------\n",
      " confusion_matrix for new data with deeper model \n",
      " [[ 0  0]\n",
      " [61 39]]\n",
      "only attack data -  (39, 42)\n",
      "final data  421 -  (14050, 42)\n",
      "-------------------------------------------------------------\n"
     ]
    },
    {
     "name": "stderr",
     "output_type": "stream",
     "text": [
      "/tmp/ipykernel_3245245/1638766432.py:38: FutureWarning: The frame.append method is deprecated and will be removed from pandas in a future version. Use pandas.concat instead.\n",
      "  final_Data = final_Data.append(data1, ignore_index = True)\n",
      "/tmp/ipykernel_3245245/1638766432.py:38: FutureWarning: The frame.append method is deprecated and will be removed from pandas in a future version. Use pandas.concat instead.\n",
      "  final_Data = final_Data.append(data1, ignore_index = True)\n"
     ]
    },
    {
     "name": "stdout",
     "output_type": "stream",
     "text": [
      "4/4 [==============================] - 0s 3ms/step\n",
      "-------------------------------------------------------------\n",
      " confusion_matrix for new data with deeper model \n",
      " [[ 0  0]\n",
      " [70 30]]\n",
      "only attack data -  (30, 42)\n",
      "final data  422 -  (14080, 42)\n",
      "-------------------------------------------------------------\n",
      "4/4 [==============================] - 0s 3ms/step\n",
      "-------------------------------------------------------------\n",
      " confusion_matrix for new data with deeper model \n",
      " [[ 0  0]\n",
      " [68 32]]\n",
      "only attack data -  (32, 42)\n",
      "final data  423 -  (14112, 42)\n",
      "-------------------------------------------------------------\n"
     ]
    },
    {
     "name": "stderr",
     "output_type": "stream",
     "text": [
      "/tmp/ipykernel_3245245/1638766432.py:38: FutureWarning: The frame.append method is deprecated and will be removed from pandas in a future version. Use pandas.concat instead.\n",
      "  final_Data = final_Data.append(data1, ignore_index = True)\n",
      "/tmp/ipykernel_3245245/1638766432.py:38: FutureWarning: The frame.append method is deprecated and will be removed from pandas in a future version. Use pandas.concat instead.\n",
      "  final_Data = final_Data.append(data1, ignore_index = True)\n"
     ]
    },
    {
     "name": "stdout",
     "output_type": "stream",
     "text": [
      "4/4 [==============================] - 0s 3ms/step\n",
      "-------------------------------------------------------------\n",
      " confusion_matrix for new data with deeper model \n",
      " [[ 0  0]\n",
      " [59 41]]\n",
      "only attack data -  (41, 42)\n",
      "final data  424 -  (14153, 42)\n",
      "-------------------------------------------------------------\n",
      "4/4 [==============================] - 0s 3ms/step\n",
      "-------------------------------------------------------------\n",
      " confusion_matrix for new data with deeper model \n",
      " [[ 0  0]\n",
      " [69 31]]\n",
      "only attack data -  (31, 42)\n",
      "final data  425 -  (14184, 42)\n",
      "-------------------------------------------------------------\n"
     ]
    },
    {
     "name": "stderr",
     "output_type": "stream",
     "text": [
      "/tmp/ipykernel_3245245/1638766432.py:38: FutureWarning: The frame.append method is deprecated and will be removed from pandas in a future version. Use pandas.concat instead.\n",
      "  final_Data = final_Data.append(data1, ignore_index = True)\n",
      "/tmp/ipykernel_3245245/1638766432.py:38: FutureWarning: The frame.append method is deprecated and will be removed from pandas in a future version. Use pandas.concat instead.\n",
      "  final_Data = final_Data.append(data1, ignore_index = True)\n"
     ]
    },
    {
     "name": "stdout",
     "output_type": "stream",
     "text": [
      "4/4 [==============================] - 0s 2ms/step\n",
      "-------------------------------------------------------------\n",
      " confusion_matrix for new data with deeper model \n",
      " [[ 0  0]\n",
      " [63 37]]\n",
      "only attack data -  (37, 42)\n",
      "final data  426 -  (14221, 42)\n",
      "-------------------------------------------------------------\n",
      "4/4 [==============================] - 0s 2ms/step\n",
      "-------------------------------------------------------------\n",
      " confusion_matrix for new data with deeper model \n",
      " [[ 0  0]\n",
      " [62 38]]\n",
      "only attack data -  (38, 42)\n",
      "final data  427 -  (14259, 42)\n",
      "-------------------------------------------------------------\n"
     ]
    },
    {
     "name": "stderr",
     "output_type": "stream",
     "text": [
      "/tmp/ipykernel_3245245/1638766432.py:38: FutureWarning: The frame.append method is deprecated and will be removed from pandas in a future version. Use pandas.concat instead.\n",
      "  final_Data = final_Data.append(data1, ignore_index = True)\n",
      "/tmp/ipykernel_3245245/1638766432.py:38: FutureWarning: The frame.append method is deprecated and will be removed from pandas in a future version. Use pandas.concat instead.\n",
      "  final_Data = final_Data.append(data1, ignore_index = True)\n"
     ]
    },
    {
     "name": "stdout",
     "output_type": "stream",
     "text": [
      "4/4 [==============================] - 0s 3ms/step\n",
      "-------------------------------------------------------------\n",
      " confusion_matrix for new data with deeper model \n",
      " [[ 0  0]\n",
      " [67 33]]\n",
      "only attack data -  (33, 42)\n",
      "final data  428 -  (14292, 42)\n",
      "-------------------------------------------------------------\n",
      "4/4 [==============================] - 0s 3ms/step\n",
      "-------------------------------------------------------------\n",
      " confusion_matrix for new data with deeper model \n",
      " [[ 0  0]\n",
      " [60 40]]\n",
      "only attack data -  (40, 42)\n",
      "final data  429 -  (14332, 42)\n",
      "-------------------------------------------------------------\n"
     ]
    },
    {
     "name": "stderr",
     "output_type": "stream",
     "text": [
      "/tmp/ipykernel_3245245/1638766432.py:38: FutureWarning: The frame.append method is deprecated and will be removed from pandas in a future version. Use pandas.concat instead.\n",
      "  final_Data = final_Data.append(data1, ignore_index = True)\n",
      "/tmp/ipykernel_3245245/1638766432.py:38: FutureWarning: The frame.append method is deprecated and will be removed from pandas in a future version. Use pandas.concat instead.\n",
      "  final_Data = final_Data.append(data1, ignore_index = True)\n"
     ]
    },
    {
     "name": "stdout",
     "output_type": "stream",
     "text": [
      "4/4 [==============================] - 0s 5ms/step\n",
      "-------------------------------------------------------------\n",
      " confusion_matrix for new data with deeper model \n",
      " [[ 0  0]\n",
      " [76 24]]\n",
      "only attack data -  (24, 42)\n",
      "final data  430 -  (14356, 42)\n",
      "-------------------------------------------------------------\n"
     ]
    },
    {
     "name": "stderr",
     "output_type": "stream",
     "text": [
      "/tmp/ipykernel_3245245/1638766432.py:38: FutureWarning: The frame.append method is deprecated and will be removed from pandas in a future version. Use pandas.concat instead.\n",
      "  final_Data = final_Data.append(data1, ignore_index = True)\n"
     ]
    },
    {
     "name": "stdout",
     "output_type": "stream",
     "text": [
      "4/4 [==============================] - 0s 3ms/step\n",
      "-------------------------------------------------------------\n",
      " confusion_matrix for new data with deeper model \n",
      " [[ 0  0]\n",
      " [68 32]]\n",
      "only attack data -  (32, 42)\n",
      "final data  431 -  (14388, 42)\n",
      "-------------------------------------------------------------\n",
      "4/4 [==============================] - 0s 4ms/step\n"
     ]
    },
    {
     "name": "stderr",
     "output_type": "stream",
     "text": [
      "/tmp/ipykernel_3245245/1638766432.py:38: FutureWarning: The frame.append method is deprecated and will be removed from pandas in a future version. Use pandas.concat instead.\n",
      "  final_Data = final_Data.append(data1, ignore_index = True)\n"
     ]
    },
    {
     "name": "stdout",
     "output_type": "stream",
     "text": [
      "-------------------------------------------------------------\n",
      " confusion_matrix for new data with deeper model \n",
      " [[ 0  0]\n",
      " [58 42]]\n",
      "only attack data -  (42, 42)\n",
      "final data  432 -  (14430, 42)\n",
      "-------------------------------------------------------------\n",
      "4/4 [==============================] - 0s 3ms/step\n",
      "-------------------------------------------------------------\n",
      " confusion_matrix for new data with deeper model \n",
      " [[ 0  0]\n",
      " [78 22]]\n",
      "only attack data -  (22, 42)\n",
      "final data  433 -  (14452, 42)\n",
      "-------------------------------------------------------------\n"
     ]
    },
    {
     "name": "stderr",
     "output_type": "stream",
     "text": [
      "/tmp/ipykernel_3245245/1638766432.py:38: FutureWarning: The frame.append method is deprecated and will be removed from pandas in a future version. Use pandas.concat instead.\n",
      "  final_Data = final_Data.append(data1, ignore_index = True)\n",
      "/tmp/ipykernel_3245245/1638766432.py:38: FutureWarning: The frame.append method is deprecated and will be removed from pandas in a future version. Use pandas.concat instead.\n",
      "  final_Data = final_Data.append(data1, ignore_index = True)\n"
     ]
    },
    {
     "name": "stdout",
     "output_type": "stream",
     "text": [
      "4/4 [==============================] - 0s 3ms/step\n",
      "-------------------------------------------------------------\n",
      " confusion_matrix for new data with deeper model \n",
      " [[ 0  0]\n",
      " [69 31]]\n",
      "only attack data -  (31, 42)\n",
      "final data  434 -  (14483, 42)\n",
      "-------------------------------------------------------------\n",
      "4/4 [==============================] - 0s 3ms/step\n",
      "-------------------------------------------------------------\n",
      " confusion_matrix for new data with deeper model \n",
      " [[ 0  0]\n",
      " [58 42]]\n",
      "only attack data -  (42, 42)\n",
      "final data  435 -  (14525, 42)\n",
      "-------------------------------------------------------------\n"
     ]
    },
    {
     "name": "stderr",
     "output_type": "stream",
     "text": [
      "/tmp/ipykernel_3245245/1638766432.py:38: FutureWarning: The frame.append method is deprecated and will be removed from pandas in a future version. Use pandas.concat instead.\n",
      "  final_Data = final_Data.append(data1, ignore_index = True)\n",
      "/tmp/ipykernel_3245245/1638766432.py:38: FutureWarning: The frame.append method is deprecated and will be removed from pandas in a future version. Use pandas.concat instead.\n",
      "  final_Data = final_Data.append(data1, ignore_index = True)\n"
     ]
    },
    {
     "name": "stdout",
     "output_type": "stream",
     "text": [
      "4/4 [==============================] - 0s 3ms/step\n",
      "-------------------------------------------------------------\n",
      " confusion_matrix for new data with deeper model \n",
      " [[ 0  0]\n",
      " [75 25]]\n",
      "only attack data -  (25, 42)\n",
      "final data  436 -  (14550, 42)\n",
      "-------------------------------------------------------------\n",
      "4/4 [==============================] - 0s 3ms/step\n",
      "-------------------------------------------------------------\n",
      " confusion_matrix for new data with deeper model \n",
      " [[ 0  0]\n",
      " [60 40]]\n",
      "only attack data -  (40, 42)\n",
      "final data  437 -  (14590, 42)\n",
      "-------------------------------------------------------------\n"
     ]
    },
    {
     "name": "stderr",
     "output_type": "stream",
     "text": [
      "/tmp/ipykernel_3245245/1638766432.py:38: FutureWarning: The frame.append method is deprecated and will be removed from pandas in a future version. Use pandas.concat instead.\n",
      "  final_Data = final_Data.append(data1, ignore_index = True)\n",
      "/tmp/ipykernel_3245245/1638766432.py:38: FutureWarning: The frame.append method is deprecated and will be removed from pandas in a future version. Use pandas.concat instead.\n",
      "  final_Data = final_Data.append(data1, ignore_index = True)\n"
     ]
    },
    {
     "name": "stdout",
     "output_type": "stream",
     "text": [
      "4/4 [==============================] - 0s 2ms/step\n",
      "-------------------------------------------------------------\n",
      " confusion_matrix for new data with deeper model \n",
      " [[ 0  0]\n",
      " [66 34]]\n",
      "only attack data -  (34, 42)\n",
      "final data  438 -  (14624, 42)\n",
      "-------------------------------------------------------------\n",
      "4/4 [==============================] - 0s 2ms/step\n",
      "-------------------------------------------------------------\n",
      " confusion_matrix for new data with deeper model \n",
      " [[ 0  0]\n",
      " [67 33]]\n",
      "only attack data -  (33, 42)\n",
      "final data  439 -  (14657, 42)\n",
      "-------------------------------------------------------------\n"
     ]
    },
    {
     "name": "stderr",
     "output_type": "stream",
     "text": [
      "/tmp/ipykernel_3245245/1638766432.py:38: FutureWarning: The frame.append method is deprecated and will be removed from pandas in a future version. Use pandas.concat instead.\n",
      "  final_Data = final_Data.append(data1, ignore_index = True)\n",
      "/tmp/ipykernel_3245245/1638766432.py:38: FutureWarning: The frame.append method is deprecated and will be removed from pandas in a future version. Use pandas.concat instead.\n",
      "  final_Data = final_Data.append(data1, ignore_index = True)\n"
     ]
    },
    {
     "name": "stdout",
     "output_type": "stream",
     "text": [
      "4/4 [==============================] - 0s 3ms/step\n",
      "-------------------------------------------------------------\n",
      " confusion_matrix for new data with deeper model \n",
      " [[ 0  0]\n",
      " [68 32]]\n",
      "only attack data -  (32, 42)\n",
      "final data  440 -  (14689, 42)\n",
      "-------------------------------------------------------------\n",
      "4/4 [==============================] - 0s 3ms/step\n",
      "-------------------------------------------------------------\n",
      " confusion_matrix for new data with deeper model \n",
      " [[ 0  0]\n",
      " [57 43]]\n",
      "only attack data -  (43, 42)\n",
      "final data  441 -  (14732, 42)\n",
      "-------------------------------------------------------------\n"
     ]
    },
    {
     "name": "stderr",
     "output_type": "stream",
     "text": [
      "/tmp/ipykernel_3245245/1638766432.py:38: FutureWarning: The frame.append method is deprecated and will be removed from pandas in a future version. Use pandas.concat instead.\n",
      "  final_Data = final_Data.append(data1, ignore_index = True)\n",
      "/tmp/ipykernel_3245245/1638766432.py:38: FutureWarning: The frame.append method is deprecated and will be removed from pandas in a future version. Use pandas.concat instead.\n",
      "  final_Data = final_Data.append(data1, ignore_index = True)\n"
     ]
    },
    {
     "name": "stdout",
     "output_type": "stream",
     "text": [
      "4/4 [==============================] - 0s 3ms/step\n",
      "-------------------------------------------------------------\n",
      " confusion_matrix for new data with deeper model \n",
      " [[ 0  0]\n",
      " [72 28]]\n",
      "only attack data -  (28, 42)\n",
      "final data  442 -  (14760, 42)\n",
      "-------------------------------------------------------------\n",
      "4/4 [==============================] - 0s 3ms/step\n",
      "-------------------------------------------------------------\n",
      " confusion_matrix for new data with deeper model \n",
      " [[ 0  0]\n",
      " [67 33]]\n",
      "only attack data -  (33, 42)\n",
      "final data  443 -  (14793, 42)\n",
      "-------------------------------------------------------------\n"
     ]
    },
    {
     "name": "stderr",
     "output_type": "stream",
     "text": [
      "/tmp/ipykernel_3245245/1638766432.py:38: FutureWarning: The frame.append method is deprecated and will be removed from pandas in a future version. Use pandas.concat instead.\n",
      "  final_Data = final_Data.append(data1, ignore_index = True)\n",
      "/tmp/ipykernel_3245245/1638766432.py:38: FutureWarning: The frame.append method is deprecated and will be removed from pandas in a future version. Use pandas.concat instead.\n",
      "  final_Data = final_Data.append(data1, ignore_index = True)\n"
     ]
    },
    {
     "name": "stdout",
     "output_type": "stream",
     "text": [
      "4/4 [==============================] - 0s 4ms/step\n",
      "-------------------------------------------------------------\n",
      " confusion_matrix for new data with deeper model \n",
      " [[ 0  0]\n",
      " [67 33]]\n",
      "only attack data -  (33, 42)\n",
      "final data  444 -  (14826, 42)\n",
      "-------------------------------------------------------------\n",
      "4/4 [==============================] - 0s 2ms/step\n",
      "-------------------------------------------------------------\n",
      " confusion_matrix for new data with deeper model \n",
      " [[ 0  0]\n",
      " [66 34]]\n",
      "only attack data -  (34, 42)\n",
      "final data  445 -  (14860, 42)\n",
      "-------------------------------------------------------------\n",
      "4/4 [==============================] - 0s 2ms/step\n"
     ]
    },
    {
     "name": "stderr",
     "output_type": "stream",
     "text": [
      "/tmp/ipykernel_3245245/1638766432.py:38: FutureWarning: The frame.append method is deprecated and will be removed from pandas in a future version. Use pandas.concat instead.\n",
      "  final_Data = final_Data.append(data1, ignore_index = True)\n",
      "/tmp/ipykernel_3245245/1638766432.py:38: FutureWarning: The frame.append method is deprecated and will be removed from pandas in a future version. Use pandas.concat instead.\n",
      "  final_Data = final_Data.append(data1, ignore_index = True)\n"
     ]
    },
    {
     "name": "stdout",
     "output_type": "stream",
     "text": [
      "-------------------------------------------------------------\n",
      " confusion_matrix for new data with deeper model \n",
      " [[ 0  0]\n",
      " [70 30]]\n",
      "only attack data -  (30, 42)\n",
      "final data  446 -  (14890, 42)\n",
      "-------------------------------------------------------------\n",
      "4/4 [==============================] - 0s 2ms/step\n",
      "-------------------------------------------------------------\n",
      " confusion_matrix for new data with deeper model \n",
      " [[ 0  0]\n",
      " [69 31]]\n",
      "only attack data -  (31, 42)\n",
      "final data  447 -  (14921, 42)\n",
      "-------------------------------------------------------------\n"
     ]
    },
    {
     "name": "stderr",
     "output_type": "stream",
     "text": [
      "/tmp/ipykernel_3245245/1638766432.py:38: FutureWarning: The frame.append method is deprecated and will be removed from pandas in a future version. Use pandas.concat instead.\n",
      "  final_Data = final_Data.append(data1, ignore_index = True)\n",
      "/tmp/ipykernel_3245245/1638766432.py:38: FutureWarning: The frame.append method is deprecated and will be removed from pandas in a future version. Use pandas.concat instead.\n",
      "  final_Data = final_Data.append(data1, ignore_index = True)\n"
     ]
    },
    {
     "name": "stdout",
     "output_type": "stream",
     "text": [
      "4/4 [==============================] - 0s 2ms/step\n",
      "-------------------------------------------------------------\n",
      " confusion_matrix for new data with deeper model \n",
      " [[ 0  0]\n",
      " [65 35]]\n",
      "only attack data -  (35, 42)\n",
      "final data  448 -  (14956, 42)\n",
      "-------------------------------------------------------------\n",
      "4/4 [==============================] - 0s 2ms/step\n",
      "-------------------------------------------------------------\n",
      " confusion_matrix for new data with deeper model \n",
      " [[ 0  0]\n",
      " [75 25]]\n",
      "only attack data -  (25, 42)\n",
      "final data  449 -  (14981, 42)\n",
      "-------------------------------------------------------------\n",
      "1/4 [======>.......................] - ETA: 0s"
     ]
    },
    {
     "name": "stderr",
     "output_type": "stream",
     "text": [
      "/tmp/ipykernel_3245245/1638766432.py:38: FutureWarning: The frame.append method is deprecated and will be removed from pandas in a future version. Use pandas.concat instead.\n",
      "  final_Data = final_Data.append(data1, ignore_index = True)\n",
      "/tmp/ipykernel_3245245/1638766432.py:38: FutureWarning: The frame.append method is deprecated and will be removed from pandas in a future version. Use pandas.concat instead.\n",
      "  final_Data = final_Data.append(data1, ignore_index = True)\n"
     ]
    },
    {
     "name": "stdout",
     "output_type": "stream",
     "text": [
      "4/4 [==============================] - 0s 2ms/step\n",
      "-------------------------------------------------------------\n",
      " confusion_matrix for new data with deeper model \n",
      " [[ 0  0]\n",
      " [68 32]]\n",
      "only attack data -  (32, 42)\n",
      "final data  450 -  (15013, 42)\n",
      "-------------------------------------------------------------\n",
      "4/4 [==============================] - 0s 3ms/step\n",
      "-------------------------------------------------------------\n",
      " confusion_matrix for new data with deeper model \n",
      " [[ 0  0]\n",
      " [68 32]]\n",
      "only attack data -  (32, 42)\n",
      "final data  451 -  (15045, 42)\n",
      "-------------------------------------------------------------\n"
     ]
    },
    {
     "name": "stderr",
     "output_type": "stream",
     "text": [
      "/tmp/ipykernel_3245245/1638766432.py:38: FutureWarning: The frame.append method is deprecated and will be removed from pandas in a future version. Use pandas.concat instead.\n",
      "  final_Data = final_Data.append(data1, ignore_index = True)\n",
      "/tmp/ipykernel_3245245/1638766432.py:38: FutureWarning: The frame.append method is deprecated and will be removed from pandas in a future version. Use pandas.concat instead.\n",
      "  final_Data = final_Data.append(data1, ignore_index = True)\n"
     ]
    },
    {
     "name": "stdout",
     "output_type": "stream",
     "text": [
      "4/4 [==============================] - 0s 5ms/step\n",
      "-------------------------------------------------------------\n",
      " confusion_matrix for new data with deeper model \n",
      " [[ 0  0]\n",
      " [68 32]]\n",
      "only attack data -  (32, 42)\n",
      "final data  452 -  (15077, 42)\n",
      "-------------------------------------------------------------\n"
     ]
    },
    {
     "name": "stderr",
     "output_type": "stream",
     "text": [
      "/tmp/ipykernel_3245245/1638766432.py:38: FutureWarning: The frame.append method is deprecated and will be removed from pandas in a future version. Use pandas.concat instead.\n",
      "  final_Data = final_Data.append(data1, ignore_index = True)\n"
     ]
    },
    {
     "name": "stdout",
     "output_type": "stream",
     "text": [
      "4/4 [==============================] - 0s 3ms/step\n",
      "-------------------------------------------------------------\n",
      " confusion_matrix for new data with deeper model \n",
      " [[ 0  0]\n",
      " [60 40]]\n",
      "only attack data -  (40, 42)\n",
      "final data  453 -  (15117, 42)\n",
      "-------------------------------------------------------------\n",
      "4/4 [==============================] - 0s 4ms/step\n",
      "-------------------------------------------------------------\n",
      " confusion_matrix for new data with deeper model \n",
      " [[ 0  0]\n",
      " [70 30]]\n",
      "only attack data -  (30, 42)\n",
      "final data  454 -  (15147, 42)\n",
      "-------------------------------------------------------------\n"
     ]
    },
    {
     "name": "stderr",
     "output_type": "stream",
     "text": [
      "/tmp/ipykernel_3245245/1638766432.py:38: FutureWarning: The frame.append method is deprecated and will be removed from pandas in a future version. Use pandas.concat instead.\n",
      "  final_Data = final_Data.append(data1, ignore_index = True)\n",
      "/tmp/ipykernel_3245245/1638766432.py:38: FutureWarning: The frame.append method is deprecated and will be removed from pandas in a future version. Use pandas.concat instead.\n",
      "  final_Data = final_Data.append(data1, ignore_index = True)\n"
     ]
    },
    {
     "name": "stdout",
     "output_type": "stream",
     "text": [
      "4/4 [==============================] - 0s 3ms/step\n",
      "-------------------------------------------------------------\n",
      " confusion_matrix for new data with deeper model \n",
      " [[ 0  0]\n",
      " [68 32]]\n",
      "only attack data -  (32, 42)\n",
      "final data  455 -  (15179, 42)\n",
      "-------------------------------------------------------------\n",
      "4/4 [==============================] - 0s 6ms/step\n"
     ]
    },
    {
     "name": "stderr",
     "output_type": "stream",
     "text": [
      "/tmp/ipykernel_3245245/1638766432.py:38: FutureWarning: The frame.append method is deprecated and will be removed from pandas in a future version. Use pandas.concat instead.\n",
      "  final_Data = final_Data.append(data1, ignore_index = True)\n"
     ]
    },
    {
     "name": "stdout",
     "output_type": "stream",
     "text": [
      "-------------------------------------------------------------\n",
      " confusion_matrix for new data with deeper model \n",
      " [[ 0  0]\n",
      " [67 33]]\n",
      "only attack data -  (33, 42)\n",
      "final data  456 -  (15212, 42)\n",
      "-------------------------------------------------------------\n",
      "4/4 [==============================] - 0s 2ms/step\n",
      "-------------------------------------------------------------\n",
      " confusion_matrix for new data with deeper model \n",
      " [[ 0  0]\n",
      " [68 32]]\n",
      "only attack data -  (32, 42)\n",
      "final data  457 -  (15244, 42)\n",
      "-------------------------------------------------------------\n"
     ]
    },
    {
     "name": "stderr",
     "output_type": "stream",
     "text": [
      "/tmp/ipykernel_3245245/1638766432.py:38: FutureWarning: The frame.append method is deprecated and will be removed from pandas in a future version. Use pandas.concat instead.\n",
      "  final_Data = final_Data.append(data1, ignore_index = True)\n",
      "/tmp/ipykernel_3245245/1638766432.py:38: FutureWarning: The frame.append method is deprecated and will be removed from pandas in a future version. Use pandas.concat instead.\n",
      "  final_Data = final_Data.append(data1, ignore_index = True)\n"
     ]
    },
    {
     "name": "stdout",
     "output_type": "stream",
     "text": [
      "4/4 [==============================] - 0s 5ms/step\n",
      "-------------------------------------------------------------\n",
      " confusion_matrix for new data with deeper model \n",
      " [[ 0  0]\n",
      " [67 33]]\n",
      "only attack data -  (33, 42)\n",
      "final data  458 -  (15277, 42)\n",
      "-------------------------------------------------------------\n",
      "4/4 [==============================] - 0s 3ms/step\n"
     ]
    },
    {
     "name": "stderr",
     "output_type": "stream",
     "text": [
      "/tmp/ipykernel_3245245/1638766432.py:38: FutureWarning: The frame.append method is deprecated and will be removed from pandas in a future version. Use pandas.concat instead.\n",
      "  final_Data = final_Data.append(data1, ignore_index = True)\n"
     ]
    },
    {
     "name": "stdout",
     "output_type": "stream",
     "text": [
      "-------------------------------------------------------------\n",
      " confusion_matrix for new data with deeper model \n",
      " [[ 0  0]\n",
      " [59 41]]\n",
      "only attack data -  (41, 42)\n",
      "final data  459 -  (15318, 42)\n",
      "-------------------------------------------------------------\n",
      "4/4 [==============================] - 0s 5ms/step\n",
      "-------------------------------------------------------------\n",
      " confusion_matrix for new data with deeper model \n",
      " [[ 0  0]\n",
      " [60 40]]\n",
      "only attack data -  (40, 42)\n",
      "final data  460 -  (15358, 42)\n",
      "-------------------------------------------------------------\n"
     ]
    },
    {
     "name": "stderr",
     "output_type": "stream",
     "text": [
      "/tmp/ipykernel_3245245/1638766432.py:38: FutureWarning: The frame.append method is deprecated and will be removed from pandas in a future version. Use pandas.concat instead.\n",
      "  final_Data = final_Data.append(data1, ignore_index = True)\n",
      "/tmp/ipykernel_3245245/1638766432.py:38: FutureWarning: The frame.append method is deprecated and will be removed from pandas in a future version. Use pandas.concat instead.\n",
      "  final_Data = final_Data.append(data1, ignore_index = True)\n"
     ]
    },
    {
     "name": "stdout",
     "output_type": "stream",
     "text": [
      "4/4 [==============================] - 0s 3ms/step\n",
      "-------------------------------------------------------------\n",
      " confusion_matrix for new data with deeper model \n",
      " [[ 0  0]\n",
      " [67 33]]\n",
      "only attack data -  (33, 42)\n",
      "final data  461 -  (15391, 42)\n",
      "-------------------------------------------------------------\n",
      "4/4 [==============================] - 0s 3ms/step\n",
      "-------------------------------------------------------------\n",
      " confusion_matrix for new data with deeper model \n",
      " [[ 0  0]\n",
      " [64 36]]\n",
      "only attack data -  (36, 42)\n",
      "final data  462 -  (15427, 42)\n",
      "-------------------------------------------------------------\n"
     ]
    },
    {
     "name": "stderr",
     "output_type": "stream",
     "text": [
      "/tmp/ipykernel_3245245/1638766432.py:38: FutureWarning: The frame.append method is deprecated and will be removed from pandas in a future version. Use pandas.concat instead.\n",
      "  final_Data = final_Data.append(data1, ignore_index = True)\n",
      "/tmp/ipykernel_3245245/1638766432.py:38: FutureWarning: The frame.append method is deprecated and will be removed from pandas in a future version. Use pandas.concat instead.\n",
      "  final_Data = final_Data.append(data1, ignore_index = True)\n"
     ]
    },
    {
     "name": "stdout",
     "output_type": "stream",
     "text": [
      "4/4 [==============================] - 0s 6ms/step\n",
      "-------------------------------------------------------------\n",
      " confusion_matrix for new data with deeper model \n",
      " [[ 0  0]\n",
      " [60 40]]\n",
      "only attack data -  (40, 42)\n",
      "final data  463 -  (15467, 42)\n",
      "-------------------------------------------------------------\n",
      "4/4 [==============================] - 0s 4ms/step\n",
      "-------------------------------------------------------------\n",
      " confusion_matrix for new data with deeper model \n",
      " [[ 0  0]\n",
      " [68 32]]\n",
      "only attack data -  (32, 42)\n",
      "final data  464 -  (15499, 42)\n",
      "-------------------------------------------------------------\n"
     ]
    },
    {
     "name": "stderr",
     "output_type": "stream",
     "text": [
      "/tmp/ipykernel_3245245/1638766432.py:38: FutureWarning: The frame.append method is deprecated and will be removed from pandas in a future version. Use pandas.concat instead.\n",
      "  final_Data = final_Data.append(data1, ignore_index = True)\n",
      "/tmp/ipykernel_3245245/1638766432.py:38: FutureWarning: The frame.append method is deprecated and will be removed from pandas in a future version. Use pandas.concat instead.\n",
      "  final_Data = final_Data.append(data1, ignore_index = True)\n"
     ]
    },
    {
     "name": "stdout",
     "output_type": "stream",
     "text": [
      "4/4 [==============================] - 0s 3ms/step\n",
      "-------------------------------------------------------------\n",
      " confusion_matrix for new data with deeper model \n",
      " [[ 0  0]\n",
      " [63 37]]\n",
      "only attack data -  (37, 42)\n",
      "final data  465 -  (15536, 42)\n",
      "-------------------------------------------------------------\n",
      "4/4 [==============================] - 0s 3ms/step\n",
      "-------------------------------------------------------------\n",
      " confusion_matrix for new data with deeper model \n",
      " [[ 0  0]\n",
      " [67 33]]\n",
      "only attack data -  (33, 42)\n",
      "final data  466 -  (15569, 42)\n",
      "-------------------------------------------------------------\n"
     ]
    },
    {
     "name": "stderr",
     "output_type": "stream",
     "text": [
      "/tmp/ipykernel_3245245/1638766432.py:38: FutureWarning: The frame.append method is deprecated and will be removed from pandas in a future version. Use pandas.concat instead.\n",
      "  final_Data = final_Data.append(data1, ignore_index = True)\n",
      "/tmp/ipykernel_3245245/1638766432.py:38: FutureWarning: The frame.append method is deprecated and will be removed from pandas in a future version. Use pandas.concat instead.\n",
      "  final_Data = final_Data.append(data1, ignore_index = True)\n"
     ]
    },
    {
     "name": "stdout",
     "output_type": "stream",
     "text": [
      "4/4 [==============================] - 0s 2ms/step\n",
      "-------------------------------------------------------------\n",
      " confusion_matrix for new data with deeper model \n",
      " [[ 0  0]\n",
      " [65 35]]\n",
      "only attack data -  (35, 42)\n",
      "final data  467 -  (15604, 42)\n",
      "-------------------------------------------------------------\n",
      "4/4 [==============================] - 0s 2ms/step\n",
      "-------------------------------------------------------------\n",
      " confusion_matrix for new data with deeper model \n",
      " [[ 0  0]\n",
      " [68 32]]\n",
      "only attack data -  (32, 42)\n",
      "final data  468 -  (15636, 42)\n",
      "-------------------------------------------------------------\n"
     ]
    },
    {
     "name": "stderr",
     "output_type": "stream",
     "text": [
      "/tmp/ipykernel_3245245/1638766432.py:38: FutureWarning: The frame.append method is deprecated and will be removed from pandas in a future version. Use pandas.concat instead.\n",
      "  final_Data = final_Data.append(data1, ignore_index = True)\n",
      "/tmp/ipykernel_3245245/1638766432.py:38: FutureWarning: The frame.append method is deprecated and will be removed from pandas in a future version. Use pandas.concat instead.\n",
      "  final_Data = final_Data.append(data1, ignore_index = True)\n"
     ]
    },
    {
     "name": "stdout",
     "output_type": "stream",
     "text": [
      "4/4 [==============================] - 0s 3ms/step\n",
      "-------------------------------------------------------------\n",
      " confusion_matrix for new data with deeper model \n",
      " [[ 0  0]\n",
      " [71 29]]\n",
      "only attack data -  (29, 42)\n",
      "final data  469 -  (15665, 42)\n",
      "-------------------------------------------------------------\n",
      "4/4 [==============================] - 0s 3ms/step\n",
      "-------------------------------------------------------------\n",
      " confusion_matrix for new data with deeper model \n",
      " [[ 0  0]\n",
      " [71 29]]\n",
      "only attack data -  (29, 42)\n",
      "final data  470 -  (15694, 42)\n",
      "-------------------------------------------------------------\n"
     ]
    },
    {
     "name": "stderr",
     "output_type": "stream",
     "text": [
      "/tmp/ipykernel_3245245/1638766432.py:38: FutureWarning: The frame.append method is deprecated and will be removed from pandas in a future version. Use pandas.concat instead.\n",
      "  final_Data = final_Data.append(data1, ignore_index = True)\n",
      "/tmp/ipykernel_3245245/1638766432.py:38: FutureWarning: The frame.append method is deprecated and will be removed from pandas in a future version. Use pandas.concat instead.\n",
      "  final_Data = final_Data.append(data1, ignore_index = True)\n"
     ]
    },
    {
     "name": "stdout",
     "output_type": "stream",
     "text": [
      "4/4 [==============================] - 0s 4ms/step\n",
      "-------------------------------------------------------------\n",
      " confusion_matrix for new data with deeper model \n",
      " [[ 0  0]\n",
      " [69 31]]\n",
      "only attack data -  (31, 42)\n",
      "final data  471 -  (15725, 42)\n",
      "-------------------------------------------------------------\n",
      "1/4 [======>.......................] - ETA: 0s"
     ]
    },
    {
     "name": "stderr",
     "output_type": "stream",
     "text": [
      "/tmp/ipykernel_3245245/1638766432.py:38: FutureWarning: The frame.append method is deprecated and will be removed from pandas in a future version. Use pandas.concat instead.\n",
      "  final_Data = final_Data.append(data1, ignore_index = True)\n"
     ]
    },
    {
     "name": "stdout",
     "output_type": "stream",
     "text": [
      "4/4 [==============================] - 0s 5ms/step\n",
      "-------------------------------------------------------------\n",
      " confusion_matrix for new data with deeper model \n",
      " [[ 0  0]\n",
      " [70 30]]\n",
      "only attack data -  (30, 42)\n",
      "final data  472 -  (15755, 42)\n",
      "-------------------------------------------------------------\n",
      "4/4 [==============================] - 0s 3ms/step\n",
      "-------------------------------------------------------------\n",
      " confusion_matrix for new data with deeper model \n",
      " [[ 0  0]\n",
      " [72 28]]\n",
      "only attack data -  (28, 42)\n",
      "final data  473 -  (15783, 42)\n",
      "-------------------------------------------------------------\n"
     ]
    },
    {
     "name": "stderr",
     "output_type": "stream",
     "text": [
      "/tmp/ipykernel_3245245/1638766432.py:38: FutureWarning: The frame.append method is deprecated and will be removed from pandas in a future version. Use pandas.concat instead.\n",
      "  final_Data = final_Data.append(data1, ignore_index = True)\n",
      "/tmp/ipykernel_3245245/1638766432.py:38: FutureWarning: The frame.append method is deprecated and will be removed from pandas in a future version. Use pandas.concat instead.\n",
      "  final_Data = final_Data.append(data1, ignore_index = True)\n"
     ]
    },
    {
     "name": "stdout",
     "output_type": "stream",
     "text": [
      "4/4 [==============================] - 0s 3ms/step\n",
      "-------------------------------------------------------------\n",
      " confusion_matrix for new data with deeper model \n",
      " [[ 0  0]\n",
      " [66 34]]\n",
      "only attack data -  (34, 42)\n",
      "final data  474 -  (15817, 42)\n",
      "-------------------------------------------------------------\n",
      "4/4 [==============================] - 0s 3ms/step\n",
      "-------------------------------------------------------------\n",
      " confusion_matrix for new data with deeper model \n",
      " [[ 0  0]\n",
      " [68 32]]\n",
      "only attack data -  (32, 42)\n",
      "final data  475 -  (15849, 42)\n",
      "-------------------------------------------------------------\n"
     ]
    },
    {
     "name": "stderr",
     "output_type": "stream",
     "text": [
      "/tmp/ipykernel_3245245/1638766432.py:38: FutureWarning: The frame.append method is deprecated and will be removed from pandas in a future version. Use pandas.concat instead.\n",
      "  final_Data = final_Data.append(data1, ignore_index = True)\n",
      "/tmp/ipykernel_3245245/1638766432.py:38: FutureWarning: The frame.append method is deprecated and will be removed from pandas in a future version. Use pandas.concat instead.\n",
      "  final_Data = final_Data.append(data1, ignore_index = True)\n"
     ]
    },
    {
     "name": "stdout",
     "output_type": "stream",
     "text": [
      "4/4 [==============================] - 0s 3ms/step\n",
      "-------------------------------------------------------------\n",
      " confusion_matrix for new data with deeper model \n",
      " [[ 0  0]\n",
      " [70 30]]\n",
      "only attack data -  (30, 42)\n",
      "final data  476 -  (15879, 42)\n",
      "-------------------------------------------------------------\n",
      "4/4 [==============================] - 0s 2ms/step\n",
      "-------------------------------------------------------------\n",
      " confusion_matrix for new data with deeper model \n",
      " [[ 0  0]\n",
      " [68 32]]\n",
      "only attack data -  (32, 42)\n",
      "final data  477 -  (15911, 42)\n",
      "-------------------------------------------------------------\n"
     ]
    },
    {
     "name": "stderr",
     "output_type": "stream",
     "text": [
      "/tmp/ipykernel_3245245/1638766432.py:38: FutureWarning: The frame.append method is deprecated and will be removed from pandas in a future version. Use pandas.concat instead.\n",
      "  final_Data = final_Data.append(data1, ignore_index = True)\n",
      "/tmp/ipykernel_3245245/1638766432.py:38: FutureWarning: The frame.append method is deprecated and will be removed from pandas in a future version. Use pandas.concat instead.\n",
      "  final_Data = final_Data.append(data1, ignore_index = True)\n"
     ]
    },
    {
     "name": "stdout",
     "output_type": "stream",
     "text": [
      "4/4 [==============================] - 0s 2ms/step\n",
      "-------------------------------------------------------------\n",
      " confusion_matrix for new data with deeper model \n",
      " [[ 0  0]\n",
      " [69 31]]\n",
      "only attack data -  (31, 42)\n",
      "final data  478 -  (15942, 42)\n",
      "-------------------------------------------------------------\n",
      "4/4 [==============================] - 0s 2ms/step\n",
      "-------------------------------------------------------------\n",
      " confusion_matrix for new data with deeper model \n",
      " [[ 0  0]\n",
      " [70 30]]\n",
      "only attack data -  (30, 42)\n",
      "final data  479 -  (15972, 42)\n",
      "-------------------------------------------------------------\n"
     ]
    },
    {
     "name": "stderr",
     "output_type": "stream",
     "text": [
      "/tmp/ipykernel_3245245/1638766432.py:38: FutureWarning: The frame.append method is deprecated and will be removed from pandas in a future version. Use pandas.concat instead.\n",
      "  final_Data = final_Data.append(data1, ignore_index = True)\n",
      "/tmp/ipykernel_3245245/1638766432.py:38: FutureWarning: The frame.append method is deprecated and will be removed from pandas in a future version. Use pandas.concat instead.\n",
      "  final_Data = final_Data.append(data1, ignore_index = True)\n"
     ]
    },
    {
     "name": "stdout",
     "output_type": "stream",
     "text": [
      "4/4 [==============================] - 0s 3ms/step\n",
      "-------------------------------------------------------------\n",
      " confusion_matrix for new data with deeper model \n",
      " [[ 0  0]\n",
      " [55 45]]\n",
      "only attack data -  (45, 42)\n",
      "final data  480 -  (16017, 42)\n",
      "-------------------------------------------------------------\n",
      "4/4 [==============================] - 0s 3ms/step\n",
      "-------------------------------------------------------------\n",
      " confusion_matrix for new data with deeper model \n",
      " [[ 0  0]\n",
      " [63 37]]\n",
      "only attack data -  (37, 42)\n",
      "final data  481 -  (16054, 42)\n",
      "-------------------------------------------------------------\n"
     ]
    },
    {
     "name": "stderr",
     "output_type": "stream",
     "text": [
      "/tmp/ipykernel_3245245/1638766432.py:38: FutureWarning: The frame.append method is deprecated and will be removed from pandas in a future version. Use pandas.concat instead.\n",
      "  final_Data = final_Data.append(data1, ignore_index = True)\n",
      "/tmp/ipykernel_3245245/1638766432.py:38: FutureWarning: The frame.append method is deprecated and will be removed from pandas in a future version. Use pandas.concat instead.\n",
      "  final_Data = final_Data.append(data1, ignore_index = True)\n"
     ]
    },
    {
     "name": "stdout",
     "output_type": "stream",
     "text": [
      "4/4 [==============================] - 0s 2ms/step\n",
      "-------------------------------------------------------------\n",
      " confusion_matrix for new data with deeper model \n",
      " [[ 0  0]\n",
      " [65 35]]\n",
      "only attack data -  (35, 42)\n",
      "final data  482 -  (16089, 42)\n",
      "-------------------------------------------------------------\n",
      "4/4 [==============================] - 0s 2ms/step\n",
      "-------------------------------------------------------------\n",
      " confusion_matrix for new data with deeper model \n",
      " [[ 0  0]\n",
      " [70 30]]\n",
      "only attack data -  (30, 42)\n",
      "final data  483 -  (16119, 42)\n",
      "-------------------------------------------------------------\n",
      "4/4 [==============================] - 0s 2ms/step\n",
      "-------------------------------------------------------------\n",
      " confusion_matrix for new data with deeper model \n",
      " [[ 0  0]\n",
      " [67 33]]\n",
      "only attack data -  (33, 42)\n"
     ]
    },
    {
     "name": "stderr",
     "output_type": "stream",
     "text": [
      "/tmp/ipykernel_3245245/1638766432.py:38: FutureWarning: The frame.append method is deprecated and will be removed from pandas in a future version. Use pandas.concat instead.\n",
      "  final_Data = final_Data.append(data1, ignore_index = True)\n",
      "/tmp/ipykernel_3245245/1638766432.py:38: FutureWarning: The frame.append method is deprecated and will be removed from pandas in a future version. Use pandas.concat instead.\n",
      "  final_Data = final_Data.append(data1, ignore_index = True)\n",
      "/tmp/ipykernel_3245245/1638766432.py:38: FutureWarning: The frame.append method is deprecated and will be removed from pandas in a future version. Use pandas.concat instead.\n",
      "  final_Data = final_Data.append(data1, ignore_index = True)\n"
     ]
    },
    {
     "name": "stdout",
     "output_type": "stream",
     "text": [
      "final data  484 -  (16152, 42)\n",
      "-------------------------------------------------------------\n",
      "4/4 [==============================] - 0s 2ms/step\n",
      "-------------------------------------------------------------\n",
      " confusion_matrix for new data with deeper model \n",
      " [[ 0  0]\n",
      " [69 31]]\n",
      "only attack data -  (31, 42)\n",
      "final data  485 -  (16183, 42)\n",
      "-------------------------------------------------------------\n",
      "4/4 [==============================] - 0s 2ms/step\n",
      "-------------------------------------------------------------\n",
      " confusion_matrix for new data with deeper model \n",
      " [[ 0  0]\n",
      " [70 30]]\n",
      "only attack data -  (30, 42)\n",
      "final data  486 -  (16213, 42)\n",
      "-------------------------------------------------------------\n",
      "4/4 [==============================] - 0s 2ms/step\n",
      "-------------------------------------------------------------\n",
      " confusion_matrix for new data with deeper model \n",
      " [[ 0  0]\n",
      " [68 32]]\n",
      "only attack data -  (32, 42)\n",
      "final data  487 -  (16245, 42)\n",
      "-------------------------------------------------------------\n"
     ]
    },
    {
     "name": "stderr",
     "output_type": "stream",
     "text": [
      "/tmp/ipykernel_3245245/1638766432.py:38: FutureWarning: The frame.append method is deprecated and will be removed from pandas in a future version. Use pandas.concat instead.\n",
      "  final_Data = final_Data.append(data1, ignore_index = True)\n",
      "/tmp/ipykernel_3245245/1638766432.py:38: FutureWarning: The frame.append method is deprecated and will be removed from pandas in a future version. Use pandas.concat instead.\n",
      "  final_Data = final_Data.append(data1, ignore_index = True)\n",
      "/tmp/ipykernel_3245245/1638766432.py:38: FutureWarning: The frame.append method is deprecated and will be removed from pandas in a future version. Use pandas.concat instead.\n",
      "  final_Data = final_Data.append(data1, ignore_index = True)\n"
     ]
    },
    {
     "name": "stdout",
     "output_type": "stream",
     "text": [
      "4/4 [==============================] - 0s 6ms/step\n",
      "-------------------------------------------------------------\n",
      " confusion_matrix for new data with deeper model \n",
      " [[ 0  0]\n",
      " [62 38]]\n",
      "only attack data -  (38, 42)\n",
      "final data  488 -  (16283, 42)\n",
      "-------------------------------------------------------------\n",
      "4/4 [==============================] - 0s 3ms/step\n"
     ]
    },
    {
     "name": "stderr",
     "output_type": "stream",
     "text": [
      "/tmp/ipykernel_3245245/1638766432.py:38: FutureWarning: The frame.append method is deprecated and will be removed from pandas in a future version. Use pandas.concat instead.\n",
      "  final_Data = final_Data.append(data1, ignore_index = True)\n",
      "/tmp/ipykernel_3245245/1638766432.py:38: FutureWarning: The frame.append method is deprecated and will be removed from pandas in a future version. Use pandas.concat instead.\n",
      "  final_Data = final_Data.append(data1, ignore_index = True)\n"
     ]
    },
    {
     "name": "stdout",
     "output_type": "stream",
     "text": [
      "-------------------------------------------------------------\n",
      " confusion_matrix for new data with deeper model \n",
      " [[ 0  0]\n",
      " [66 34]]\n",
      "only attack data -  (34, 42)\n",
      "final data  489 -  (16317, 42)\n",
      "-------------------------------------------------------------\n",
      "4/4 [==============================] - 0s 3ms/step\n",
      "-------------------------------------------------------------\n",
      " confusion_matrix for new data with deeper model \n",
      " [[ 0  0]\n",
      " [63 37]]\n",
      "only attack data -  (37, 42)\n",
      "final data  490 -  (16354, 42)\n",
      "-------------------------------------------------------------\n",
      "4/4 [==============================] - 0s 3ms/step\n",
      "-------------------------------------------------------------\n",
      " confusion_matrix for new data with deeper model \n",
      " [[ 0  0]\n",
      " [61 39]]\n",
      "only attack data -  (39, 42)\n",
      "final data  491 -  (16393, 42)\n",
      "-------------------------------------------------------------\n"
     ]
    },
    {
     "name": "stderr",
     "output_type": "stream",
     "text": [
      "/tmp/ipykernel_3245245/1638766432.py:38: FutureWarning: The frame.append method is deprecated and will be removed from pandas in a future version. Use pandas.concat instead.\n",
      "  final_Data = final_Data.append(data1, ignore_index = True)\n",
      "/tmp/ipykernel_3245245/1638766432.py:38: FutureWarning: The frame.append method is deprecated and will be removed from pandas in a future version. Use pandas.concat instead.\n",
      "  final_Data = final_Data.append(data1, ignore_index = True)\n"
     ]
    },
    {
     "name": "stdout",
     "output_type": "stream",
     "text": [
      "4/4 [==============================] - 0s 2ms/step\n",
      "-------------------------------------------------------------\n",
      " confusion_matrix for new data with deeper model \n",
      " [[ 0  0]\n",
      " [77 23]]\n",
      "only attack data -  (23, 42)\n",
      "final data  492 -  (16416, 42)\n",
      "-------------------------------------------------------------\n",
      "4/4 [==============================] - 0s 2ms/step\n",
      "-------------------------------------------------------------\n",
      " confusion_matrix for new data with deeper model \n",
      " [[ 0  0]\n",
      " [73 27]]\n",
      "only attack data -  (27, 42)\n",
      "final data  493 -  (16443, 42)\n",
      "-------------------------------------------------------------\n"
     ]
    },
    {
     "name": "stderr",
     "output_type": "stream",
     "text": [
      "/tmp/ipykernel_3245245/1638766432.py:38: FutureWarning: The frame.append method is deprecated and will be removed from pandas in a future version. Use pandas.concat instead.\n",
      "  final_Data = final_Data.append(data1, ignore_index = True)\n",
      "/tmp/ipykernel_3245245/1638766432.py:38: FutureWarning: The frame.append method is deprecated and will be removed from pandas in a future version. Use pandas.concat instead.\n",
      "  final_Data = final_Data.append(data1, ignore_index = True)\n"
     ]
    },
    {
     "name": "stdout",
     "output_type": "stream",
     "text": [
      "4/4 [==============================] - 0s 4ms/step\n",
      "-------------------------------------------------------------\n",
      " confusion_matrix for new data with deeper model \n",
      " [[ 0  0]\n",
      " [71 29]]\n",
      "only attack data -  (29, 42)\n",
      "final data  494 -  (16472, 42)\n",
      "-------------------------------------------------------------\n",
      "4/4 [==============================] - 0s 4ms/step\n",
      "-------------------------------------------------------------\n",
      " confusion_matrix for new data with deeper model \n",
      " [[ 0  0]\n",
      " [63 37]]\n",
      "only attack data -  (37, 42)\n",
      "final data  495 -  (16509, 42)\n",
      "-------------------------------------------------------------\n"
     ]
    },
    {
     "name": "stderr",
     "output_type": "stream",
     "text": [
      "/tmp/ipykernel_3245245/1638766432.py:38: FutureWarning: The frame.append method is deprecated and will be removed from pandas in a future version. Use pandas.concat instead.\n",
      "  final_Data = final_Data.append(data1, ignore_index = True)\n",
      "/tmp/ipykernel_3245245/1638766432.py:38: FutureWarning: The frame.append method is deprecated and will be removed from pandas in a future version. Use pandas.concat instead.\n",
      "  final_Data = final_Data.append(data1, ignore_index = True)\n"
     ]
    },
    {
     "name": "stdout",
     "output_type": "stream",
     "text": [
      "4/4 [==============================] - 0s 2ms/step\n",
      "-------------------------------------------------------------\n",
      " confusion_matrix for new data with deeper model \n",
      " [[ 0  0]\n",
      " [67 33]]\n",
      "only attack data -  (33, 42)\n",
      "final data  496 -  (16542, 42)\n",
      "-------------------------------------------------------------\n",
      "4/4 [==============================] - 0s 2ms/step\n",
      "-------------------------------------------------------------\n",
      " confusion_matrix for new data with deeper model \n",
      " [[ 0  0]\n",
      " [70 30]]\n",
      "only attack data -  (30, 42)\n",
      "final data  497 -  (16572, 42)\n",
      "-------------------------------------------------------------\n",
      "4/4 [==============================] - 0s 2ms/step\n"
     ]
    },
    {
     "name": "stderr",
     "output_type": "stream",
     "text": [
      "/tmp/ipykernel_3245245/1638766432.py:38: FutureWarning: The frame.append method is deprecated and will be removed from pandas in a future version. Use pandas.concat instead.\n",
      "  final_Data = final_Data.append(data1, ignore_index = True)\n",
      "/tmp/ipykernel_3245245/1638766432.py:38: FutureWarning: The frame.append method is deprecated and will be removed from pandas in a future version. Use pandas.concat instead.\n",
      "  final_Data = final_Data.append(data1, ignore_index = True)\n"
     ]
    },
    {
     "name": "stdout",
     "output_type": "stream",
     "text": [
      "-------------------------------------------------------------\n",
      " confusion_matrix for new data with deeper model \n",
      " [[ 0  0]\n",
      " [64 36]]\n",
      "only attack data -  (36, 42)\n",
      "final data  498 -  (16608, 42)\n",
      "-------------------------------------------------------------\n",
      "4/4 [==============================] - 0s 2ms/step\n",
      "-------------------------------------------------------------\n",
      " confusion_matrix for new data with deeper model \n",
      " [[ 0  0]\n",
      " [63 37]]\n",
      "only attack data -  (37, 42)\n",
      "final data  499 -  (16645, 42)\n",
      "-------------------------------------------------------------\n",
      "4/4 [==============================] - 0s 2ms/step\n",
      "-------------------------------------------------------------\n",
      " confusion_matrix for new data with deeper model \n",
      " [[ 0  0]\n",
      " [60 40]]\n",
      "only attack data -  (40, 42)\n",
      "final data  500 -  (16685, 42)\n",
      "-------------------------------------------------------------\n"
     ]
    },
    {
     "name": "stderr",
     "output_type": "stream",
     "text": [
      "/tmp/ipykernel_3245245/1638766432.py:38: FutureWarning: The frame.append method is deprecated and will be removed from pandas in a future version. Use pandas.concat instead.\n",
      "  final_Data = final_Data.append(data1, ignore_index = True)\n",
      "/tmp/ipykernel_3245245/1638766432.py:38: FutureWarning: The frame.append method is deprecated and will be removed from pandas in a future version. Use pandas.concat instead.\n",
      "  final_Data = final_Data.append(data1, ignore_index = True)\n",
      "/tmp/ipykernel_3245245/1638766432.py:38: FutureWarning: The frame.append method is deprecated and will be removed from pandas in a future version. Use pandas.concat instead.\n",
      "  final_Data = final_Data.append(data1, ignore_index = True)\n"
     ]
    },
    {
     "name": "stdout",
     "output_type": "stream",
     "text": [
      "4/4 [==============================] - 0s 3ms/step\n",
      "-------------------------------------------------------------\n",
      " confusion_matrix for new data with deeper model \n",
      " [[ 0  0]\n",
      " [62 38]]\n",
      "only attack data -  (38, 42)\n",
      "final data  501 -  (16723, 42)\n",
      "-------------------------------------------------------------\n",
      "4/4 [==============================] - 0s 3ms/step\n",
      "-------------------------------------------------------------\n",
      " confusion_matrix for new data with deeper model \n",
      " [[ 0  0]\n",
      " [64 36]]\n",
      "only attack data -  (36, 42)\n",
      "final data  502 -  (16759, 42)\n",
      "-------------------------------------------------------------\n"
     ]
    },
    {
     "name": "stderr",
     "output_type": "stream",
     "text": [
      "/tmp/ipykernel_3245245/1638766432.py:38: FutureWarning: The frame.append method is deprecated and will be removed from pandas in a future version. Use pandas.concat instead.\n",
      "  final_Data = final_Data.append(data1, ignore_index = True)\n",
      "/tmp/ipykernel_3245245/1638766432.py:38: FutureWarning: The frame.append method is deprecated and will be removed from pandas in a future version. Use pandas.concat instead.\n",
      "  final_Data = final_Data.append(data1, ignore_index = True)\n"
     ]
    },
    {
     "name": "stdout",
     "output_type": "stream",
     "text": [
      "4/4 [==============================] - 0s 3ms/step\n",
      "-------------------------------------------------------------\n",
      " confusion_matrix for new data with deeper model \n",
      " [[ 0  0]\n",
      " [65 35]]\n",
      "only attack data -  (35, 42)\n",
      "final data  503 -  (16794, 42)\n",
      "-------------------------------------------------------------\n",
      "4/4 [==============================] - 0s 2ms/step\n",
      "-------------------------------------------------------------\n",
      " confusion_matrix for new data with deeper model \n",
      " [[ 0  0]\n",
      " [61 39]]\n",
      "only attack data -  (39, 42)\n",
      "final data  504 -  (16833, 42)\n",
      "-------------------------------------------------------------\n"
     ]
    },
    {
     "name": "stderr",
     "output_type": "stream",
     "text": [
      "/tmp/ipykernel_3245245/1638766432.py:38: FutureWarning: The frame.append method is deprecated and will be removed from pandas in a future version. Use pandas.concat instead.\n",
      "  final_Data = final_Data.append(data1, ignore_index = True)\n",
      "/tmp/ipykernel_3245245/1638766432.py:38: FutureWarning: The frame.append method is deprecated and will be removed from pandas in a future version. Use pandas.concat instead.\n",
      "  final_Data = final_Data.append(data1, ignore_index = True)\n"
     ]
    },
    {
     "name": "stdout",
     "output_type": "stream",
     "text": [
      "4/4 [==============================] - 0s 2ms/step\n",
      "-------------------------------------------------------------\n",
      " confusion_matrix for new data with deeper model \n",
      " [[ 0  0]\n",
      " [68 32]]\n",
      "only attack data -  (32, 42)\n",
      "final data  505 -  (16865, 42)\n",
      "-------------------------------------------------------------\n",
      "4/4 [==============================] - 0s 3ms/step\n",
      "-------------------------------------------------------------\n",
      " confusion_matrix for new data with deeper model \n",
      " [[ 0  0]\n",
      " [63 37]]\n",
      "only attack data -  (37, 42)\n",
      "final data  506 -  (16902, 42)\n",
      "-------------------------------------------------------------\n"
     ]
    },
    {
     "name": "stderr",
     "output_type": "stream",
     "text": [
      "/tmp/ipykernel_3245245/1638766432.py:38: FutureWarning: The frame.append method is deprecated and will be removed from pandas in a future version. Use pandas.concat instead.\n",
      "  final_Data = final_Data.append(data1, ignore_index = True)\n",
      "/tmp/ipykernel_3245245/1638766432.py:38: FutureWarning: The frame.append method is deprecated and will be removed from pandas in a future version. Use pandas.concat instead.\n",
      "  final_Data = final_Data.append(data1, ignore_index = True)\n"
     ]
    },
    {
     "name": "stdout",
     "output_type": "stream",
     "text": [
      "4/4 [==============================] - 0s 2ms/step\n",
      "-------------------------------------------------------------\n",
      " confusion_matrix for new data with deeper model \n",
      " [[ 0  0]\n",
      " [69 31]]\n",
      "only attack data -  (31, 42)\n",
      "final data  507 -  (16933, 42)\n",
      "-------------------------------------------------------------\n",
      "4/4 [==============================] - 0s 2ms/step\n",
      "-------------------------------------------------------------\n",
      " confusion_matrix for new data with deeper model \n",
      " [[ 0  0]\n",
      " [61 39]]\n",
      "only attack data -  (39, 42)\n",
      "final data  508 -  (16972, 42)\n",
      "-------------------------------------------------------------\n"
     ]
    },
    {
     "name": "stderr",
     "output_type": "stream",
     "text": [
      "/tmp/ipykernel_3245245/1638766432.py:38: FutureWarning: The frame.append method is deprecated and will be removed from pandas in a future version. Use pandas.concat instead.\n",
      "  final_Data = final_Data.append(data1, ignore_index = True)\n",
      "/tmp/ipykernel_3245245/1638766432.py:38: FutureWarning: The frame.append method is deprecated and will be removed from pandas in a future version. Use pandas.concat instead.\n",
      "  final_Data = final_Data.append(data1, ignore_index = True)\n"
     ]
    },
    {
     "name": "stdout",
     "output_type": "stream",
     "text": [
      "4/4 [==============================] - 0s 2ms/step\n",
      "-------------------------------------------------------------\n",
      " confusion_matrix for new data with deeper model \n",
      " [[ 0  0]\n",
      " [65 35]]\n",
      "only attack data -  (35, 42)\n",
      "final data  509 -  (17007, 42)\n",
      "-------------------------------------------------------------\n",
      "4/4 [==============================] - 0s 2ms/step\n",
      "-------------------------------------------------------------\n",
      " confusion_matrix for new data with deeper model \n",
      " [[ 0  0]\n",
      " [72 28]]\n",
      "only attack data -  (28, 42)\n",
      "final data  510 -  (17035, 42)\n",
      "-------------------------------------------------------------\n"
     ]
    },
    {
     "name": "stderr",
     "output_type": "stream",
     "text": [
      "/tmp/ipykernel_3245245/1638766432.py:38: FutureWarning: The frame.append method is deprecated and will be removed from pandas in a future version. Use pandas.concat instead.\n",
      "  final_Data = final_Data.append(data1, ignore_index = True)\n",
      "/tmp/ipykernel_3245245/1638766432.py:38: FutureWarning: The frame.append method is deprecated and will be removed from pandas in a future version. Use pandas.concat instead.\n",
      "  final_Data = final_Data.append(data1, ignore_index = True)\n"
     ]
    },
    {
     "name": "stdout",
     "output_type": "stream",
     "text": [
      "4/4 [==============================] - 0s 2ms/step\n",
      "-------------------------------------------------------------\n",
      " confusion_matrix for new data with deeper model \n",
      " [[ 0  0]\n",
      " [60 40]]\n",
      "only attack data -  (40, 42)\n",
      "final data  511 -  (17075, 42)\n",
      "-------------------------------------------------------------\n",
      "4/4 [==============================] - 0s 2ms/step\n",
      "-------------------------------------------------------------\n",
      " confusion_matrix for new data with deeper model \n",
      " [[ 0  0]\n",
      " [76 24]]\n",
      "only attack data -  (24, 42)\n",
      "final data  512 -  (17099, 42)\n",
      "-------------------------------------------------------------\n",
      "4/4 [==============================] - 0s 2ms/step\n"
     ]
    },
    {
     "name": "stderr",
     "output_type": "stream",
     "text": [
      "/tmp/ipykernel_3245245/1638766432.py:38: FutureWarning: The frame.append method is deprecated and will be removed from pandas in a future version. Use pandas.concat instead.\n",
      "  final_Data = final_Data.append(data1, ignore_index = True)\n",
      "/tmp/ipykernel_3245245/1638766432.py:38: FutureWarning: The frame.append method is deprecated and will be removed from pandas in a future version. Use pandas.concat instead.\n",
      "  final_Data = final_Data.append(data1, ignore_index = True)\n"
     ]
    },
    {
     "name": "stdout",
     "output_type": "stream",
     "text": [
      "-------------------------------------------------------------\n",
      " confusion_matrix for new data with deeper model \n",
      " [[ 0  0]\n",
      " [69 31]]\n",
      "only attack data -  (31, 42)\n",
      "final data  513 -  (17130, 42)\n",
      "-------------------------------------------------------------\n",
      "4/4 [==============================] - 0s 3ms/step\n",
      "-------------------------------------------------------------\n",
      " confusion_matrix for new data with deeper model \n",
      " [[ 0  0]\n",
      " [73 27]]\n",
      "only attack data -  (27, 42)\n",
      "final data  514 -  (17157, 42)\n",
      "-------------------------------------------------------------\n"
     ]
    },
    {
     "name": "stderr",
     "output_type": "stream",
     "text": [
      "/tmp/ipykernel_3245245/1638766432.py:38: FutureWarning: The frame.append method is deprecated and will be removed from pandas in a future version. Use pandas.concat instead.\n",
      "  final_Data = final_Data.append(data1, ignore_index = True)\n",
      "/tmp/ipykernel_3245245/1638766432.py:38: FutureWarning: The frame.append method is deprecated and will be removed from pandas in a future version. Use pandas.concat instead.\n",
      "  final_Data = final_Data.append(data1, ignore_index = True)\n"
     ]
    },
    {
     "name": "stdout",
     "output_type": "stream",
     "text": [
      "4/4 [==============================] - 0s 3ms/step\n",
      "-------------------------------------------------------------\n",
      " confusion_matrix for new data with deeper model \n",
      " [[ 0  0]\n",
      " [58 42]]\n",
      "only attack data -  (42, 42)\n",
      "final data  515 -  (17199, 42)\n",
      "-------------------------------------------------------------\n",
      "4/4 [==============================] - 0s 6ms/step\n",
      "-------------------------------------------------------------\n",
      " confusion_matrix for new data with deeper model \n",
      " [[ 0  0]\n",
      " [74 26]]\n",
      "only attack data -  (26, 42)\n",
      "final data  516 -  (17225, 42)\n",
      "-------------------------------------------------------------\n"
     ]
    },
    {
     "name": "stderr",
     "output_type": "stream",
     "text": [
      "/tmp/ipykernel_3245245/1638766432.py:38: FutureWarning: The frame.append method is deprecated and will be removed from pandas in a future version. Use pandas.concat instead.\n",
      "  final_Data = final_Data.append(data1, ignore_index = True)\n",
      "/tmp/ipykernel_3245245/1638766432.py:38: FutureWarning: The frame.append method is deprecated and will be removed from pandas in a future version. Use pandas.concat instead.\n",
      "  final_Data = final_Data.append(data1, ignore_index = True)\n"
     ]
    },
    {
     "name": "stdout",
     "output_type": "stream",
     "text": [
      "4/4 [==============================] - 0s 3ms/step\n",
      "-------------------------------------------------------------\n",
      " confusion_matrix for new data with deeper model \n",
      " [[ 0  0]\n",
      " [67 33]]\n",
      "only attack data -  (33, 42)\n",
      "final data  517 -  (17258, 42)\n",
      "-------------------------------------------------------------\n",
      "4/4 [==============================] - 0s 2ms/step\n",
      "-------------------------------------------------------------\n",
      " confusion_matrix for new data with deeper model \n",
      " [[ 0  0]\n",
      " [60 40]]\n",
      "only attack data -  (40, 42)\n",
      "final data  518 -  (17298, 42)\n",
      "-------------------------------------------------------------\n"
     ]
    },
    {
     "name": "stderr",
     "output_type": "stream",
     "text": [
      "/tmp/ipykernel_3245245/1638766432.py:38: FutureWarning: The frame.append method is deprecated and will be removed from pandas in a future version. Use pandas.concat instead.\n",
      "  final_Data = final_Data.append(data1, ignore_index = True)\n",
      "/tmp/ipykernel_3245245/1638766432.py:38: FutureWarning: The frame.append method is deprecated and will be removed from pandas in a future version. Use pandas.concat instead.\n",
      "  final_Data = final_Data.append(data1, ignore_index = True)\n"
     ]
    },
    {
     "name": "stdout",
     "output_type": "stream",
     "text": [
      "4/4 [==============================] - 0s 2ms/step\n",
      "-------------------------------------------------------------\n",
      " confusion_matrix for new data with deeper model \n",
      " [[ 0  0]\n",
      " [62 38]]\n",
      "only attack data -  (38, 42)\n",
      "final data  519 -  (17336, 42)\n",
      "-------------------------------------------------------------\n",
      "4/4 [==============================] - 0s 2ms/step\n",
      "-------------------------------------------------------------\n",
      " confusion_matrix for new data with deeper model \n",
      " [[ 0  0]\n",
      " [61 39]]\n",
      "only attack data -  (39, 42)\n",
      "final data  520 -  (17375, 42)\n",
      "-------------------------------------------------------------\n",
      "4/4 [==============================] - 0s 2ms/step\n",
      "-------------------------------------------------------------\n",
      " confusion_matrix for new data with deeper model \n",
      " [[ 0  0]\n",
      " [73 27]]\n",
      "only attack data -  (27, 42)\n",
      "final data  521 -  (17402, 42)\n",
      "-------------------------------------------------------------\n"
     ]
    },
    {
     "name": "stderr",
     "output_type": "stream",
     "text": [
      "/tmp/ipykernel_3245245/1638766432.py:38: FutureWarning: The frame.append method is deprecated and will be removed from pandas in a future version. Use pandas.concat instead.\n",
      "  final_Data = final_Data.append(data1, ignore_index = True)\n",
      "/tmp/ipykernel_3245245/1638766432.py:38: FutureWarning: The frame.append method is deprecated and will be removed from pandas in a future version. Use pandas.concat instead.\n",
      "  final_Data = final_Data.append(data1, ignore_index = True)\n",
      "/tmp/ipykernel_3245245/1638766432.py:38: FutureWarning: The frame.append method is deprecated and will be removed from pandas in a future version. Use pandas.concat instead.\n",
      "  final_Data = final_Data.append(data1, ignore_index = True)\n"
     ]
    },
    {
     "name": "stdout",
     "output_type": "stream",
     "text": [
      "4/4 [==============================] - 0s 2ms/step\n",
      "-------------------------------------------------------------\n",
      " confusion_matrix for new data with deeper model \n",
      " [[ 0  0]\n",
      " [63 37]]\n",
      "only attack data -  (37, 42)\n",
      "final data  522 -  (17439, 42)\n",
      "-------------------------------------------------------------\n",
      "4/4 [==============================] - 0s 2ms/step\n",
      "-------------------------------------------------------------\n",
      " confusion_matrix for new data with deeper model \n",
      " [[ 0  0]\n",
      " [72 28]]\n",
      "only attack data -  (28, 42)\n",
      "final data  523 -  (17467, 42)\n",
      "-------------------------------------------------------------\n",
      "4/4 [==============================] - 0s 2ms/step\n",
      "-------------------------------------------------------------\n",
      " confusion_matrix for new data with deeper model \n",
      " [[ 0  0]\n",
      " [65 35]]\n",
      "only attack data -  (35, 42)\n",
      "final data  524 -  (17502, 42)\n",
      "-------------------------------------------------------------\n"
     ]
    },
    {
     "name": "stderr",
     "output_type": "stream",
     "text": [
      "/tmp/ipykernel_3245245/1638766432.py:38: FutureWarning: The frame.append method is deprecated and will be removed from pandas in a future version. Use pandas.concat instead.\n",
      "  final_Data = final_Data.append(data1, ignore_index = True)\n",
      "/tmp/ipykernel_3245245/1638766432.py:38: FutureWarning: The frame.append method is deprecated and will be removed from pandas in a future version. Use pandas.concat instead.\n",
      "  final_Data = final_Data.append(data1, ignore_index = True)\n",
      "/tmp/ipykernel_3245245/1638766432.py:38: FutureWarning: The frame.append method is deprecated and will be removed from pandas in a future version. Use pandas.concat instead.\n",
      "  final_Data = final_Data.append(data1, ignore_index = True)\n"
     ]
    },
    {
     "name": "stdout",
     "output_type": "stream",
     "text": [
      "4/4 [==============================] - 0s 2ms/step\n",
      "-------------------------------------------------------------\n",
      " confusion_matrix for new data with deeper model \n",
      " [[ 0  0]\n",
      " [67 33]]\n",
      "only attack data -  (33, 42)\n",
      "final data  525 -  (17535, 42)\n",
      "-------------------------------------------------------------\n",
      "4/4 [==============================] - 0s 2ms/step\n",
      "-------------------------------------------------------------\n",
      " confusion_matrix for new data with deeper model \n",
      " [[ 0  0]\n",
      " [64 36]]\n",
      "only attack data -  (36, 42)\n",
      "final data  526 -  (17571, 42)\n",
      "-------------------------------------------------------------\n",
      "4/4 [==============================] - 0s 2ms/step\n",
      "-------------------------------------------------------------\n",
      " confusion_matrix for new data with deeper model \n",
      " [[ 0  0]\n",
      " [63 37]]\n",
      "only attack data -  (37, 42)\n",
      "final data  527 -  (17608, 42)\n",
      "-------------------------------------------------------------\n"
     ]
    },
    {
     "name": "stderr",
     "output_type": "stream",
     "text": [
      "/tmp/ipykernel_3245245/1638766432.py:38: FutureWarning: The frame.append method is deprecated and will be removed from pandas in a future version. Use pandas.concat instead.\n",
      "  final_Data = final_Data.append(data1, ignore_index = True)\n",
      "/tmp/ipykernel_3245245/1638766432.py:38: FutureWarning: The frame.append method is deprecated and will be removed from pandas in a future version. Use pandas.concat instead.\n",
      "  final_Data = final_Data.append(data1, ignore_index = True)\n",
      "/tmp/ipykernel_3245245/1638766432.py:38: FutureWarning: The frame.append method is deprecated and will be removed from pandas in a future version. Use pandas.concat instead.\n",
      "  final_Data = final_Data.append(data1, ignore_index = True)\n"
     ]
    },
    {
     "name": "stdout",
     "output_type": "stream",
     "text": [
      "4/4 [==============================] - 0s 3ms/step\n",
      "-------------------------------------------------------------\n",
      " confusion_matrix for new data with deeper model \n",
      " [[ 0  0]\n",
      " [59 41]]\n",
      "only attack data -  (41, 42)\n",
      "final data  528 -  (17649, 42)\n",
      "-------------------------------------------------------------\n",
      "4/4 [==============================] - 0s 3ms/step\n",
      "-------------------------------------------------------------\n",
      " confusion_matrix for new data with deeper model \n",
      " [[ 0  0]\n",
      " [69 31]]\n",
      "only attack data -  (31, 42)\n",
      "final data  529 -  (17680, 42)\n",
      "-------------------------------------------------------------\n"
     ]
    },
    {
     "name": "stderr",
     "output_type": "stream",
     "text": [
      "/tmp/ipykernel_3245245/1638766432.py:38: FutureWarning: The frame.append method is deprecated and will be removed from pandas in a future version. Use pandas.concat instead.\n",
      "  final_Data = final_Data.append(data1, ignore_index = True)\n",
      "/tmp/ipykernel_3245245/1638766432.py:38: FutureWarning: The frame.append method is deprecated and will be removed from pandas in a future version. Use pandas.concat instead.\n",
      "  final_Data = final_Data.append(data1, ignore_index = True)\n"
     ]
    },
    {
     "name": "stdout",
     "output_type": "stream",
     "text": [
      "4/4 [==============================] - 0s 2ms/step\n",
      "-------------------------------------------------------------\n",
      " confusion_matrix for new data with deeper model \n",
      " [[ 0  0]\n",
      " [67 33]]\n",
      "only attack data -  (33, 42)\n",
      "final data  530 -  (17713, 42)\n",
      "-------------------------------------------------------------\n",
      "4/4 [==============================] - 0s 2ms/step\n",
      "-------------------------------------------------------------\n",
      " confusion_matrix for new data with deeper model \n",
      " [[ 0  0]\n",
      " [63 37]]\n",
      "only attack data -  (37, 42)\n",
      "final data  531 -  (17750, 42)\n",
      "-------------------------------------------------------------\n",
      "4/4 [==============================] - 0s 2ms/step\n",
      "-------------------------------------------------------------\n",
      " confusion_matrix for new data with deeper model \n",
      " [[ 0  0]\n",
      " [69 31]]\n",
      "only attack data -  (31, 42)\n",
      "final data  532 -  (17781, 42)\n",
      "-------------------------------------------------------------\n"
     ]
    },
    {
     "name": "stderr",
     "output_type": "stream",
     "text": [
      "/tmp/ipykernel_3245245/1638766432.py:38: FutureWarning: The frame.append method is deprecated and will be removed from pandas in a future version. Use pandas.concat instead.\n",
      "  final_Data = final_Data.append(data1, ignore_index = True)\n",
      "/tmp/ipykernel_3245245/1638766432.py:38: FutureWarning: The frame.append method is deprecated and will be removed from pandas in a future version. Use pandas.concat instead.\n",
      "  final_Data = final_Data.append(data1, ignore_index = True)\n",
      "/tmp/ipykernel_3245245/1638766432.py:38: FutureWarning: The frame.append method is deprecated and will be removed from pandas in a future version. Use pandas.concat instead.\n",
      "  final_Data = final_Data.append(data1, ignore_index = True)\n"
     ]
    },
    {
     "name": "stdout",
     "output_type": "stream",
     "text": [
      "4/4 [==============================] - 0s 2ms/step\n",
      "-------------------------------------------------------------\n",
      " confusion_matrix for new data with deeper model \n",
      " [[ 0  0]\n",
      " [61 39]]\n",
      "only attack data -  (39, 42)\n",
      "final data  533 -  (17820, 42)\n",
      "-------------------------------------------------------------\n",
      "4/4 [==============================] - 0s 3ms/step\n",
      "-------------------------------------------------------------\n",
      " confusion_matrix for new data with deeper model \n",
      " [[ 0  0]\n",
      " [67 33]]\n",
      "only attack data -  (33, 42)\n",
      "final data  534 -  (17853, 42)\n",
      "-------------------------------------------------------------\n"
     ]
    },
    {
     "name": "stderr",
     "output_type": "stream",
     "text": [
      "/tmp/ipykernel_3245245/1638766432.py:38: FutureWarning: The frame.append method is deprecated and will be removed from pandas in a future version. Use pandas.concat instead.\n",
      "  final_Data = final_Data.append(data1, ignore_index = True)\n",
      "/tmp/ipykernel_3245245/1638766432.py:38: FutureWarning: The frame.append method is deprecated and will be removed from pandas in a future version. Use pandas.concat instead.\n",
      "  final_Data = final_Data.append(data1, ignore_index = True)\n"
     ]
    },
    {
     "name": "stdout",
     "output_type": "stream",
     "text": [
      "4/4 [==============================] - 0s 5ms/step\n",
      "-------------------------------------------------------------\n",
      " confusion_matrix for new data with deeper model \n",
      " [[ 0  0]\n",
      " [67 33]]\n",
      "only attack data -  (33, 42)\n",
      "final data  535 -  (17886, 42)\n",
      "-------------------------------------------------------------\n",
      "4/4 [==============================] - 0s 4ms/step\n",
      "-------------------------------------------------------------\n",
      " confusion_matrix for new data with deeper model \n",
      " [[ 0  0]\n",
      " [60 40]]\n",
      "only attack data -  (40, 42)\n",
      "final data  536 -  (17926, 42)\n",
      "-------------------------------------------------------------\n"
     ]
    },
    {
     "name": "stderr",
     "output_type": "stream",
     "text": [
      "/tmp/ipykernel_3245245/1638766432.py:38: FutureWarning: The frame.append method is deprecated and will be removed from pandas in a future version. Use pandas.concat instead.\n",
      "  final_Data = final_Data.append(data1, ignore_index = True)\n",
      "/tmp/ipykernel_3245245/1638766432.py:38: FutureWarning: The frame.append method is deprecated and will be removed from pandas in a future version. Use pandas.concat instead.\n",
      "  final_Data = final_Data.append(data1, ignore_index = True)\n"
     ]
    },
    {
     "name": "stdout",
     "output_type": "stream",
     "text": [
      "4/4 [==============================] - 0s 4ms/step\n",
      "-------------------------------------------------------------\n",
      " confusion_matrix for new data with deeper model \n",
      " [[ 0  0]\n",
      " [69 31]]\n",
      "only attack data -  (31, 42)\n",
      "final data  537 -  (17957, 42)\n",
      "-------------------------------------------------------------\n",
      "4/4 [==============================] - 0s 2ms/step\n",
      "-------------------------------------------------------------\n",
      " confusion_matrix for new data with deeper model \n",
      " [[ 0  0]\n",
      " [68 32]]\n",
      "only attack data -  (32, 42)\n",
      "final data  538 -  (17989, 42)\n",
      "-------------------------------------------------------------\n"
     ]
    },
    {
     "name": "stderr",
     "output_type": "stream",
     "text": [
      "/tmp/ipykernel_3245245/1638766432.py:38: FutureWarning: The frame.append method is deprecated and will be removed from pandas in a future version. Use pandas.concat instead.\n",
      "  final_Data = final_Data.append(data1, ignore_index = True)\n",
      "/tmp/ipykernel_3245245/1638766432.py:38: FutureWarning: The frame.append method is deprecated and will be removed from pandas in a future version. Use pandas.concat instead.\n",
      "  final_Data = final_Data.append(data1, ignore_index = True)\n"
     ]
    },
    {
     "name": "stdout",
     "output_type": "stream",
     "text": [
      "4/4 [==============================] - 0s 2ms/step\n",
      "-------------------------------------------------------------\n",
      " confusion_matrix for new data with deeper model \n",
      " [[ 0  0]\n",
      " [65 35]]\n",
      "only attack data -  (35, 42)\n",
      "final data  539 -  (18024, 42)\n",
      "-------------------------------------------------------------\n",
      "4/4 [==============================] - 0s 2ms/step\n",
      "-------------------------------------------------------------\n",
      " confusion_matrix for new data with deeper model \n",
      " [[ 0  0]\n",
      " [70 30]]\n",
      "only attack data -  (30, 42)\n",
      "final data  540 -  (18054, 42)\n",
      "-------------------------------------------------------------\n",
      "4/4 [==============================] - 0s 2ms/step\n",
      "-------------------------------------------------------------\n",
      " confusion_matrix for new data with deeper model \n",
      " [[ 0  0]\n",
      " [66 34]]\n",
      "only attack data -  (34, 42)\n",
      "final data  541 -  (18088, 42)\n",
      "-------------------------------------------------------------\n"
     ]
    },
    {
     "name": "stderr",
     "output_type": "stream",
     "text": [
      "/tmp/ipykernel_3245245/1638766432.py:38: FutureWarning: The frame.append method is deprecated and will be removed from pandas in a future version. Use pandas.concat instead.\n",
      "  final_Data = final_Data.append(data1, ignore_index = True)\n",
      "/tmp/ipykernel_3245245/1638766432.py:38: FutureWarning: The frame.append method is deprecated and will be removed from pandas in a future version. Use pandas.concat instead.\n",
      "  final_Data = final_Data.append(data1, ignore_index = True)\n",
      "/tmp/ipykernel_3245245/1638766432.py:38: FutureWarning: The frame.append method is deprecated and will be removed from pandas in a future version. Use pandas.concat instead.\n",
      "  final_Data = final_Data.append(data1, ignore_index = True)\n"
     ]
    },
    {
     "name": "stdout",
     "output_type": "stream",
     "text": [
      "4/4 [==============================] - 0s 2ms/step\n",
      "-------------------------------------------------------------\n",
      " confusion_matrix for new data with deeper model \n",
      " [[ 0  0]\n",
      " [70 30]]\n",
      "only attack data -  (30, 42)\n",
      "final data  542 -  (18118, 42)\n",
      "-------------------------------------------------------------\n",
      "4/4 [==============================] - 0s 2ms/step\n",
      "-------------------------------------------------------------\n",
      " confusion_matrix for new data with deeper model \n",
      " [[ 0  0]\n",
      " [63 37]]\n",
      "only attack data -  (37, 42)\n",
      "final data  543 -  (18155, 42)\n",
      "-------------------------------------------------------------\n",
      "4/4 [==============================] - 0s 2ms/step\n",
      "-------------------------------------------------------------\n",
      " confusion_matrix for new data with deeper model \n",
      " [[ 0  0]\n",
      " [63 37]]\n",
      "only attack data -  (37, 42)\n",
      "final data  544 -  (18192, 42)\n",
      "-------------------------------------------------------------\n"
     ]
    },
    {
     "name": "stderr",
     "output_type": "stream",
     "text": [
      "/tmp/ipykernel_3245245/1638766432.py:38: FutureWarning: The frame.append method is deprecated and will be removed from pandas in a future version. Use pandas.concat instead.\n",
      "  final_Data = final_Data.append(data1, ignore_index = True)\n",
      "/tmp/ipykernel_3245245/1638766432.py:38: FutureWarning: The frame.append method is deprecated and will be removed from pandas in a future version. Use pandas.concat instead.\n",
      "  final_Data = final_Data.append(data1, ignore_index = True)\n",
      "/tmp/ipykernel_3245245/1638766432.py:38: FutureWarning: The frame.append method is deprecated and will be removed from pandas in a future version. Use pandas.concat instead.\n",
      "  final_Data = final_Data.append(data1, ignore_index = True)\n"
     ]
    },
    {
     "name": "stdout",
     "output_type": "stream",
     "text": [
      "4/4 [==============================] - 0s 2ms/step\n",
      "-------------------------------------------------------------\n",
      " confusion_matrix for new data with deeper model \n",
      " [[ 0  0]\n",
      " [70 30]]\n",
      "only attack data -  (30, 42)\n",
      "final data  545 -  (18222, 42)\n",
      "-------------------------------------------------------------\n",
      "4/4 [==============================] - 0s 2ms/step\n",
      "-------------------------------------------------------------\n",
      " confusion_matrix for new data with deeper model \n",
      " [[ 0  0]\n",
      " [69 31]]\n",
      "only attack data -  (31, 42)\n",
      "final data  546 -  (18253, 42)\n",
      "-------------------------------------------------------------\n",
      "4/4 [==============================] - 0s 2ms/step\n",
      "-------------------------------------------------------------\n",
      " confusion_matrix for new data with deeper model \n",
      " [[ 0  0]\n",
      " [68 32]]\n",
      "only attack data -  (32, 42)\n",
      "final data  547 -  (18285, 42)\n",
      "-------------------------------------------------------------\n"
     ]
    },
    {
     "name": "stderr",
     "output_type": "stream",
     "text": [
      "/tmp/ipykernel_3245245/1638766432.py:38: FutureWarning: The frame.append method is deprecated and will be removed from pandas in a future version. Use pandas.concat instead.\n",
      "  final_Data = final_Data.append(data1, ignore_index = True)\n",
      "/tmp/ipykernel_3245245/1638766432.py:38: FutureWarning: The frame.append method is deprecated and will be removed from pandas in a future version. Use pandas.concat instead.\n",
      "  final_Data = final_Data.append(data1, ignore_index = True)\n",
      "/tmp/ipykernel_3245245/1638766432.py:38: FutureWarning: The frame.append method is deprecated and will be removed from pandas in a future version. Use pandas.concat instead.\n",
      "  final_Data = final_Data.append(data1, ignore_index = True)\n"
     ]
    },
    {
     "name": "stdout",
     "output_type": "stream",
     "text": [
      "4/4 [==============================] - 0s 2ms/step\n",
      "-------------------------------------------------------------\n",
      " confusion_matrix for new data with deeper model \n",
      " [[ 0  0]\n",
      " [66 34]]\n",
      "only attack data -  (34, 42)\n",
      "final data  548 -  (18319, 42)\n",
      "-------------------------------------------------------------\n",
      "4/4 [==============================] - 0s 2ms/step\n",
      "-------------------------------------------------------------\n",
      " confusion_matrix for new data with deeper model \n",
      " [[ 0  0]\n",
      " [70 30]]\n",
      "only attack data -  (30, 42)\n",
      "final data  549 -  (18349, 42)\n",
      "-------------------------------------------------------------\n",
      "4/4 [==============================] - 0s 4ms/step\n"
     ]
    },
    {
     "name": "stderr",
     "output_type": "stream",
     "text": [
      "/tmp/ipykernel_3245245/1638766432.py:38: FutureWarning: The frame.append method is deprecated and will be removed from pandas in a future version. Use pandas.concat instead.\n",
      "  final_Data = final_Data.append(data1, ignore_index = True)\n",
      "/tmp/ipykernel_3245245/1638766432.py:38: FutureWarning: The frame.append method is deprecated and will be removed from pandas in a future version. Use pandas.concat instead.\n",
      "  final_Data = final_Data.append(data1, ignore_index = True)\n"
     ]
    },
    {
     "name": "stdout",
     "output_type": "stream",
     "text": [
      "-------------------------------------------------------------\n",
      " confusion_matrix for new data with deeper model \n",
      " [[ 0  0]\n",
      " [56 44]]\n",
      "only attack data -  (44, 42)\n",
      "final data  550 -  (18393, 42)\n",
      "-------------------------------------------------------------\n",
      "4/4 [==============================] - 0s 2ms/step\n",
      "-------------------------------------------------------------\n",
      " confusion_matrix for new data with deeper model \n",
      " [[ 0  0]\n",
      " [69 31]]\n",
      "only attack data -  (31, 42)\n",
      "final data  551 -  (18424, 42)\n",
      "-------------------------------------------------------------\n"
     ]
    },
    {
     "name": "stderr",
     "output_type": "stream",
     "text": [
      "/tmp/ipykernel_3245245/1638766432.py:38: FutureWarning: The frame.append method is deprecated and will be removed from pandas in a future version. Use pandas.concat instead.\n",
      "  final_Data = final_Data.append(data1, ignore_index = True)\n",
      "/tmp/ipykernel_3245245/1638766432.py:38: FutureWarning: The frame.append method is deprecated and will be removed from pandas in a future version. Use pandas.concat instead.\n",
      "  final_Data = final_Data.append(data1, ignore_index = True)\n"
     ]
    },
    {
     "name": "stdout",
     "output_type": "stream",
     "text": [
      "4/4 [==============================] - 0s 2ms/step\n",
      "-------------------------------------------------------------\n",
      " confusion_matrix for new data with deeper model \n",
      " [[ 0  0]\n",
      " [65 35]]\n",
      "only attack data -  (35, 42)\n",
      "final data  552 -  (18459, 42)\n",
      "-------------------------------------------------------------\n",
      "4/4 [==============================] - 0s 2ms/step\n",
      "-------------------------------------------------------------\n",
      " confusion_matrix for new data with deeper model \n",
      " [[ 0  0]\n",
      " [53 47]]\n",
      "only attack data -  (47, 42)\n",
      "final data  553 -  (18506, 42)\n",
      "-------------------------------------------------------------\n",
      "4/4 [==============================] - 0s 2ms/step\n",
      "-------------------------------------------------------------\n",
      " confusion_matrix for new data with deeper model \n",
      " [[ 0  0]\n",
      " [66 34]]\n",
      "only attack data -  (34, 42)\n",
      "final data  554 -  (18540, 42)\n",
      "-------------------------------------------------------------\n"
     ]
    },
    {
     "name": "stderr",
     "output_type": "stream",
     "text": [
      "/tmp/ipykernel_3245245/1638766432.py:38: FutureWarning: The frame.append method is deprecated and will be removed from pandas in a future version. Use pandas.concat instead.\n",
      "  final_Data = final_Data.append(data1, ignore_index = True)\n",
      "/tmp/ipykernel_3245245/1638766432.py:38: FutureWarning: The frame.append method is deprecated and will be removed from pandas in a future version. Use pandas.concat instead.\n",
      "  final_Data = final_Data.append(data1, ignore_index = True)\n",
      "/tmp/ipykernel_3245245/1638766432.py:38: FutureWarning: The frame.append method is deprecated and will be removed from pandas in a future version. Use pandas.concat instead.\n",
      "  final_Data = final_Data.append(data1, ignore_index = True)\n"
     ]
    },
    {
     "name": "stdout",
     "output_type": "stream",
     "text": [
      "4/4 [==============================] - 0s 3ms/step\n",
      "-------------------------------------------------------------\n",
      " confusion_matrix for new data with deeper model \n",
      " [[ 0  0]\n",
      " [66 34]]\n",
      "only attack data -  (34, 42)\n",
      "final data  555 -  (18574, 42)\n",
      "-------------------------------------------------------------\n",
      "4/4 [==============================] - 0s 2ms/step\n",
      "-------------------------------------------------------------\n",
      " confusion_matrix for new data with deeper model \n",
      " [[ 0  0]\n",
      " [69 31]]\n",
      "only attack data -  (31, 42)\n",
      "final data  556 -  (18605, 42)\n",
      "-------------------------------------------------------------\n",
      "4/4 [==============================] - 0s 2ms/step\n",
      "-------------------------------------------------------------\n",
      " confusion_matrix for new data with deeper model \n",
      " [[ 0  0]\n",
      " [69 31]]\n",
      "only attack data -  (31, 42)\n",
      "final data  557 -  (18636, 42)\n",
      "-------------------------------------------------------------\n"
     ]
    },
    {
     "name": "stderr",
     "output_type": "stream",
     "text": [
      "/tmp/ipykernel_3245245/1638766432.py:38: FutureWarning: The frame.append method is deprecated and will be removed from pandas in a future version. Use pandas.concat instead.\n",
      "  final_Data = final_Data.append(data1, ignore_index = True)\n",
      "/tmp/ipykernel_3245245/1638766432.py:38: FutureWarning: The frame.append method is deprecated and will be removed from pandas in a future version. Use pandas.concat instead.\n",
      "  final_Data = final_Data.append(data1, ignore_index = True)\n",
      "/tmp/ipykernel_3245245/1638766432.py:38: FutureWarning: The frame.append method is deprecated and will be removed from pandas in a future version. Use pandas.concat instead.\n",
      "  final_Data = final_Data.append(data1, ignore_index = True)\n"
     ]
    },
    {
     "name": "stdout",
     "output_type": "stream",
     "text": [
      "4/4 [==============================] - 0s 2ms/step\n",
      "-------------------------------------------------------------\n",
      " confusion_matrix for new data with deeper model \n",
      " [[ 0  0]\n",
      " [71 29]]\n",
      "only attack data -  (29, 42)\n",
      "final data  558 -  (18665, 42)\n",
      "-------------------------------------------------------------\n",
      "4/4 [==============================] - 0s 2ms/step\n",
      "-------------------------------------------------------------\n",
      " confusion_matrix for new data with deeper model \n",
      " [[ 0  0]\n",
      " [71 29]]\n",
      "only attack data -  (29, 42)\n",
      "final data  559 -  (18694, 42)\n",
      "-------------------------------------------------------------\n"
     ]
    },
    {
     "name": "stderr",
     "output_type": "stream",
     "text": [
      "/tmp/ipykernel_3245245/1638766432.py:38: FutureWarning: The frame.append method is deprecated and will be removed from pandas in a future version. Use pandas.concat instead.\n",
      "  final_Data = final_Data.append(data1, ignore_index = True)\n",
      "/tmp/ipykernel_3245245/1638766432.py:38: FutureWarning: The frame.append method is deprecated and will be removed from pandas in a future version. Use pandas.concat instead.\n",
      "  final_Data = final_Data.append(data1, ignore_index = True)\n"
     ]
    },
    {
     "name": "stdout",
     "output_type": "stream",
     "text": [
      "4/4 [==============================] - 0s 2ms/step\n",
      "-------------------------------------------------------------\n",
      " confusion_matrix for new data with deeper model \n",
      " [[ 0  0]\n",
      " [65 35]]\n",
      "only attack data -  (35, 42)\n",
      "final data  560 -  (18729, 42)\n",
      "-------------------------------------------------------------\n",
      "4/4 [==============================] - 0s 2ms/step\n",
      "-------------------------------------------------------------\n",
      " confusion_matrix for new data with deeper model \n",
      " [[ 0  0]\n",
      " [74 26]]\n",
      "only attack data -  (26, 42)\n",
      "final data  561 -  (18755, 42)\n",
      "-------------------------------------------------------------\n"
     ]
    },
    {
     "name": "stderr",
     "output_type": "stream",
     "text": [
      "/tmp/ipykernel_3245245/1638766432.py:38: FutureWarning: The frame.append method is deprecated and will be removed from pandas in a future version. Use pandas.concat instead.\n",
      "  final_Data = final_Data.append(data1, ignore_index = True)\n",
      "/tmp/ipykernel_3245245/1638766432.py:38: FutureWarning: The frame.append method is deprecated and will be removed from pandas in a future version. Use pandas.concat instead.\n",
      "  final_Data = final_Data.append(data1, ignore_index = True)\n"
     ]
    },
    {
     "name": "stdout",
     "output_type": "stream",
     "text": [
      "4/4 [==============================] - 0s 4ms/step\n",
      "-------------------------------------------------------------\n",
      " confusion_matrix for new data with deeper model \n",
      " [[ 0  0]\n",
      " [60 40]]\n",
      "only attack data -  (40, 42)\n",
      "final data  562 -  (18795, 42)\n",
      "-------------------------------------------------------------\n",
      "4/4 [==============================] - 0s 4ms/step\n",
      "-------------------------------------------------------------\n",
      " confusion_matrix for new data with deeper model \n",
      " [[ 0  0]\n",
      " [61 39]]\n"
     ]
    },
    {
     "name": "stderr",
     "output_type": "stream",
     "text": [
      "/tmp/ipykernel_3245245/1638766432.py:38: FutureWarning: The frame.append method is deprecated and will be removed from pandas in a future version. Use pandas.concat instead.\n",
      "  final_Data = final_Data.append(data1, ignore_index = True)\n"
     ]
    },
    {
     "name": "stdout",
     "output_type": "stream",
     "text": [
      "only attack data -  (39, 42)\n",
      "final data  563 -  (18834, 42)\n",
      "-------------------------------------------------------------\n",
      "4/4 [==============================] - 0s 3ms/step\n",
      "-------------------------------------------------------------\n",
      " confusion_matrix for new data with deeper model \n",
      " [[ 0  0]\n",
      " [68 32]]\n",
      "only attack data -  (32, 42)\n"
     ]
    },
    {
     "name": "stderr",
     "output_type": "stream",
     "text": [
      "/tmp/ipykernel_3245245/1638766432.py:38: FutureWarning: The frame.append method is deprecated and will be removed from pandas in a future version. Use pandas.concat instead.\n",
      "  final_Data = final_Data.append(data1, ignore_index = True)\n",
      "/tmp/ipykernel_3245245/1638766432.py:38: FutureWarning: The frame.append method is deprecated and will be removed from pandas in a future version. Use pandas.concat instead.\n",
      "  final_Data = final_Data.append(data1, ignore_index = True)\n"
     ]
    },
    {
     "name": "stdout",
     "output_type": "stream",
     "text": [
      "final data  564 -  (18866, 42)\n",
      "-------------------------------------------------------------\n",
      "4/4 [==============================] - 0s 4ms/step\n",
      "-------------------------------------------------------------\n",
      " confusion_matrix for new data with deeper model \n",
      " [[ 0  0]\n",
      " [72 28]]\n",
      "only attack data -  (28, 42)\n",
      "final data  565 -  (18894, 42)\n",
      "-------------------------------------------------------------\n",
      "1/4 [======>.......................] - ETA: 0s"
     ]
    },
    {
     "name": "stderr",
     "output_type": "stream",
     "text": [
      "/tmp/ipykernel_3245245/1638766432.py:38: FutureWarning: The frame.append method is deprecated and will be removed from pandas in a future version. Use pandas.concat instead.\n",
      "  final_Data = final_Data.append(data1, ignore_index = True)\n"
     ]
    },
    {
     "name": "stdout",
     "output_type": "stream",
     "text": [
      "4/4 [==============================] - 0s 5ms/step\n",
      "-------------------------------------------------------------\n",
      " confusion_matrix for new data with deeper model \n",
      " [[ 0  0]\n",
      " [65 35]]\n",
      "only attack data -  (35, 42)\n",
      "final data  566 -  (18929, 42)\n",
      "-------------------------------------------------------------\n",
      "4/4 [==============================] - 0s 4ms/step\n",
      "-------------------------------------------------------------\n",
      " confusion_matrix for new data with deeper model \n",
      " [[ 0  0]\n",
      " [70 30]]\n",
      "only attack data -  (30, 42)\n"
     ]
    },
    {
     "name": "stderr",
     "output_type": "stream",
     "text": [
      "/tmp/ipykernel_3245245/1638766432.py:38: FutureWarning: The frame.append method is deprecated and will be removed from pandas in a future version. Use pandas.concat instead.\n",
      "  final_Data = final_Data.append(data1, ignore_index = True)\n",
      "/tmp/ipykernel_3245245/1638766432.py:38: FutureWarning: The frame.append method is deprecated and will be removed from pandas in a future version. Use pandas.concat instead.\n",
      "  final_Data = final_Data.append(data1, ignore_index = True)\n"
     ]
    },
    {
     "name": "stdout",
     "output_type": "stream",
     "text": [
      "final data  567 -  (18959, 42)\n",
      "-------------------------------------------------------------\n",
      "4/4 [==============================] - 0s 2ms/step\n",
      "-------------------------------------------------------------\n",
      " confusion_matrix for new data with deeper model \n",
      " [[ 0  0]\n",
      " [63 37]]\n",
      "only attack data -  (37, 42)\n",
      "final data  568 -  (18996, 42)\n",
      "-------------------------------------------------------------\n",
      "4/4 [==============================] - 0s 3ms/step\n",
      "-------------------------------------------------------------\n",
      " confusion_matrix for new data with deeper model \n",
      " [[ 0  0]\n",
      " [64 36]]\n",
      "only attack data -  (36, 42)\n",
      "final data  569 -  (19032, 42)\n",
      "-------------------------------------------------------------\n"
     ]
    },
    {
     "name": "stderr",
     "output_type": "stream",
     "text": [
      "/tmp/ipykernel_3245245/1638766432.py:38: FutureWarning: The frame.append method is deprecated and will be removed from pandas in a future version. Use pandas.concat instead.\n",
      "  final_Data = final_Data.append(data1, ignore_index = True)\n",
      "/tmp/ipykernel_3245245/1638766432.py:38: FutureWarning: The frame.append method is deprecated and will be removed from pandas in a future version. Use pandas.concat instead.\n",
      "  final_Data = final_Data.append(data1, ignore_index = True)\n"
     ]
    },
    {
     "name": "stdout",
     "output_type": "stream",
     "text": [
      "4/4 [==============================] - 0s 3ms/step\n",
      "-------------------------------------------------------------\n",
      " confusion_matrix for new data with deeper model \n",
      " [[ 0  0]\n",
      " [63 37]]\n",
      "only attack data -  (37, 42)\n",
      "final data  570 -  (19069, 42)\n",
      "-------------------------------------------------------------\n",
      "4/4 [==============================] - 0s 3ms/step\n",
      "-------------------------------------------------------------\n",
      " confusion_matrix for new data with deeper model \n",
      " [[ 0  0]\n",
      " [61 39]]\n",
      "only attack data -  (39, 42)\n",
      "final data  571 -  (19108, 42)\n",
      "-------------------------------------------------------------\n"
     ]
    },
    {
     "name": "stderr",
     "output_type": "stream",
     "text": [
      "/tmp/ipykernel_3245245/1638766432.py:38: FutureWarning: The frame.append method is deprecated and will be removed from pandas in a future version. Use pandas.concat instead.\n",
      "  final_Data = final_Data.append(data1, ignore_index = True)\n",
      "/tmp/ipykernel_3245245/1638766432.py:38: FutureWarning: The frame.append method is deprecated and will be removed from pandas in a future version. Use pandas.concat instead.\n",
      "  final_Data = final_Data.append(data1, ignore_index = True)\n"
     ]
    },
    {
     "name": "stdout",
     "output_type": "stream",
     "text": [
      "4/4 [==============================] - 0s 3ms/step\n",
      "-------------------------------------------------------------\n",
      " confusion_matrix for new data with deeper model \n",
      " [[ 0  0]\n",
      " [75 25]]\n",
      "only attack data -  (25, 42)\n",
      "final data  572 -  (19133, 42)\n",
      "-------------------------------------------------------------\n",
      "4/4 [==============================] - 0s 3ms/step\n",
      "-------------------------------------------------------------\n",
      " confusion_matrix for new data with deeper model \n",
      " [[ 0  0]\n",
      " [73 27]]\n",
      "only attack data -  (27, 42)\n",
      "final data  573 -  (19160, 42)\n",
      "-------------------------------------------------------------\n"
     ]
    },
    {
     "name": "stderr",
     "output_type": "stream",
     "text": [
      "/tmp/ipykernel_3245245/1638766432.py:38: FutureWarning: The frame.append method is deprecated and will be removed from pandas in a future version. Use pandas.concat instead.\n",
      "  final_Data = final_Data.append(data1, ignore_index = True)\n",
      "/tmp/ipykernel_3245245/1638766432.py:38: FutureWarning: The frame.append method is deprecated and will be removed from pandas in a future version. Use pandas.concat instead.\n",
      "  final_Data = final_Data.append(data1, ignore_index = True)\n"
     ]
    },
    {
     "name": "stdout",
     "output_type": "stream",
     "text": [
      "4/4 [==============================] - 0s 5ms/step\n",
      "-------------------------------------------------------------\n",
      " confusion_matrix for new data with deeper model \n",
      " [[ 0  0]\n",
      " [61 39]]\n",
      "only attack data -  (39, 42)\n",
      "final data  574 -  (19199, 42)\n",
      "-------------------------------------------------------------\n",
      "4/4 [==============================] - 0s 3ms/step\n",
      "-------------------------------------------------------------\n",
      " confusion_matrix for new data with deeper model \n",
      " [[ 0  0]\n",
      " [66 34]]\n",
      "only attack data -  (34, 42)\n",
      "final data  575 -  (19233, 42)\n",
      "-------------------------------------------------------------\n"
     ]
    },
    {
     "name": "stderr",
     "output_type": "stream",
     "text": [
      "/tmp/ipykernel_3245245/1638766432.py:38: FutureWarning: The frame.append method is deprecated and will be removed from pandas in a future version. Use pandas.concat instead.\n",
      "  final_Data = final_Data.append(data1, ignore_index = True)\n",
      "/tmp/ipykernel_3245245/1638766432.py:38: FutureWarning: The frame.append method is deprecated and will be removed from pandas in a future version. Use pandas.concat instead.\n",
      "  final_Data = final_Data.append(data1, ignore_index = True)\n"
     ]
    },
    {
     "name": "stdout",
     "output_type": "stream",
     "text": [
      "4/4 [==============================] - 0s 6ms/step\n",
      "-------------------------------------------------------------\n",
      " confusion_matrix for new data with deeper model \n",
      " [[ 0  0]\n",
      " [62 38]]\n",
      "only attack data -  (38, 42)\n",
      "final data  576 -  (19271, 42)\n",
      "-------------------------------------------------------------\n",
      "4/4 [==============================] - 0s 3ms/step\n",
      "-------------------------------------------------------------\n",
      " confusion_matrix for new data with deeper model \n",
      " [[ 0  0]\n",
      " [70 30]]\n",
      "only attack data -  (30, 42)\n",
      "final data  577 -  (19301, 42)\n",
      "-------------------------------------------------------------\n"
     ]
    },
    {
     "name": "stderr",
     "output_type": "stream",
     "text": [
      "/tmp/ipykernel_3245245/1638766432.py:38: FutureWarning: The frame.append method is deprecated and will be removed from pandas in a future version. Use pandas.concat instead.\n",
      "  final_Data = final_Data.append(data1, ignore_index = True)\n",
      "/tmp/ipykernel_3245245/1638766432.py:38: FutureWarning: The frame.append method is deprecated and will be removed from pandas in a future version. Use pandas.concat instead.\n",
      "  final_Data = final_Data.append(data1, ignore_index = True)\n"
     ]
    },
    {
     "name": "stdout",
     "output_type": "stream",
     "text": [
      "4/4 [==============================] - 0s 3ms/step\n",
      "-------------------------------------------------------------\n",
      " confusion_matrix for new data with deeper model \n",
      " [[ 0  0]\n",
      " [63 37]]\n",
      "only attack data -  (37, 42)\n",
      "final data  578 -  (19338, 42)\n",
      "-------------------------------------------------------------\n",
      "4/4 [==============================] - 0s 2ms/step\n",
      "-------------------------------------------------------------\n",
      " confusion_matrix for new data with deeper model \n",
      " [[ 0  0]\n",
      " [69 31]]\n",
      "only attack data -  (31, 42)\n",
      "final data  579 -  (19369, 42)\n",
      "-------------------------------------------------------------\n"
     ]
    },
    {
     "name": "stderr",
     "output_type": "stream",
     "text": [
      "/tmp/ipykernel_3245245/1638766432.py:38: FutureWarning: The frame.append method is deprecated and will be removed from pandas in a future version. Use pandas.concat instead.\n",
      "  final_Data = final_Data.append(data1, ignore_index = True)\n",
      "/tmp/ipykernel_3245245/1638766432.py:38: FutureWarning: The frame.append method is deprecated and will be removed from pandas in a future version. Use pandas.concat instead.\n",
      "  final_Data = final_Data.append(data1, ignore_index = True)\n"
     ]
    },
    {
     "name": "stdout",
     "output_type": "stream",
     "text": [
      "4/4 [==============================] - 0s 3ms/step\n",
      "-------------------------------------------------------------\n",
      " confusion_matrix for new data with deeper model \n",
      " [[ 0  0]\n",
      " [80 20]]\n",
      "only attack data -  (20, 42)\n",
      "final data  580 -  (19389, 42)\n",
      "-------------------------------------------------------------\n",
      "4/4 [==============================] - 0s 4ms/step\n",
      "-------------------------------------------------------------\n",
      " confusion_matrix for new data with deeper model \n",
      " [[ 0  0]\n",
      " [76 24]]\n",
      "only attack data -  (24, 42)\n",
      "final data  581 -  (19413, 42)\n",
      "-------------------------------------------------------------\n"
     ]
    },
    {
     "name": "stderr",
     "output_type": "stream",
     "text": [
      "/tmp/ipykernel_3245245/1638766432.py:38: FutureWarning: The frame.append method is deprecated and will be removed from pandas in a future version. Use pandas.concat instead.\n",
      "  final_Data = final_Data.append(data1, ignore_index = True)\n",
      "/tmp/ipykernel_3245245/1638766432.py:38: FutureWarning: The frame.append method is deprecated and will be removed from pandas in a future version. Use pandas.concat instead.\n",
      "  final_Data = final_Data.append(data1, ignore_index = True)\n"
     ]
    },
    {
     "name": "stdout",
     "output_type": "stream",
     "text": [
      "4/4 [==============================] - 0s 4ms/step\n",
      "-------------------------------------------------------------\n",
      " confusion_matrix for new data with deeper model \n",
      " [[ 0  0]\n",
      " [63 37]]\n",
      "only attack data -  (37, 42)\n",
      "final data  582 -  (19450, 42)\n",
      "-------------------------------------------------------------\n",
      "4/4 [==============================] - 0s 4ms/step\n",
      "-------------------------------------------------------------\n",
      " confusion_matrix for new data with deeper model \n",
      " [[ 0  0]\n",
      " [64 36]]\n",
      "only attack data -  (36, 42)\n",
      "final data  583 -  (19486, 42)\n",
      "-------------------------------------------------------------\n"
     ]
    },
    {
     "name": "stderr",
     "output_type": "stream",
     "text": [
      "/tmp/ipykernel_3245245/1638766432.py:38: FutureWarning: The frame.append method is deprecated and will be removed from pandas in a future version. Use pandas.concat instead.\n",
      "  final_Data = final_Data.append(data1, ignore_index = True)\n",
      "/tmp/ipykernel_3245245/1638766432.py:38: FutureWarning: The frame.append method is deprecated and will be removed from pandas in a future version. Use pandas.concat instead.\n",
      "  final_Data = final_Data.append(data1, ignore_index = True)\n"
     ]
    },
    {
     "name": "stdout",
     "output_type": "stream",
     "text": [
      "4/4 [==============================] - 0s 2ms/step\n",
      "-------------------------------------------------------------\n",
      " confusion_matrix for new data with deeper model \n",
      " [[ 0  0]\n",
      " [75 25]]\n",
      "only attack data -  (25, 42)\n",
      "final data  584 -  (19511, 42)\n",
      "-------------------------------------------------------------\n",
      "4/4 [==============================] - 0s 2ms/step\n",
      "-------------------------------------------------------------\n",
      " confusion_matrix for new data with deeper model \n",
      " [[ 0  0]\n",
      " [64 36]]\n",
      "only attack data -  (36, 42)\n",
      "final data  585 -  (19547, 42)\n",
      "-------------------------------------------------------------\n",
      "1/4 [======>.......................] - ETA: 0s"
     ]
    },
    {
     "name": "stderr",
     "output_type": "stream",
     "text": [
      "/tmp/ipykernel_3245245/1638766432.py:38: FutureWarning: The frame.append method is deprecated and will be removed from pandas in a future version. Use pandas.concat instead.\n",
      "  final_Data = final_Data.append(data1, ignore_index = True)\n",
      "/tmp/ipykernel_3245245/1638766432.py:38: FutureWarning: The frame.append method is deprecated and will be removed from pandas in a future version. Use pandas.concat instead.\n",
      "  final_Data = final_Data.append(data1, ignore_index = True)\n"
     ]
    },
    {
     "name": "stdout",
     "output_type": "stream",
     "text": [
      "4/4 [==============================] - 0s 3ms/step\n",
      "-------------------------------------------------------------\n",
      " confusion_matrix for new data with deeper model \n",
      " [[ 0  0]\n",
      " [63 37]]\n",
      "only attack data -  (37, 42)\n",
      "final data  586 -  (19584, 42)\n",
      "-------------------------------------------------------------\n",
      "4/4 [==============================] - 0s 3ms/step\n",
      "-------------------------------------------------------------\n",
      " confusion_matrix for new data with deeper model \n",
      " [[ 0  0]\n",
      " [56 44]]\n",
      "only attack data -  (44, 42)\n",
      "final data  587 -  (19628, 42)\n",
      "-------------------------------------------------------------\n"
     ]
    },
    {
     "name": "stderr",
     "output_type": "stream",
     "text": [
      "/tmp/ipykernel_3245245/1638766432.py:38: FutureWarning: The frame.append method is deprecated and will be removed from pandas in a future version. Use pandas.concat instead.\n",
      "  final_Data = final_Data.append(data1, ignore_index = True)\n",
      "/tmp/ipykernel_3245245/1638766432.py:38: FutureWarning: The frame.append method is deprecated and will be removed from pandas in a future version. Use pandas.concat instead.\n",
      "  final_Data = final_Data.append(data1, ignore_index = True)\n"
     ]
    },
    {
     "name": "stdout",
     "output_type": "stream",
     "text": [
      "4/4 [==============================] - 0s 3ms/step\n",
      "-------------------------------------------------------------\n",
      " confusion_matrix for new data with deeper model \n",
      " [[ 0  0]\n",
      " [71 29]]\n",
      "only attack data -  (29, 42)\n",
      "final data  588 -  (19657, 42)\n",
      "-------------------------------------------------------------\n",
      "4/4 [==============================] - 0s 6ms/step\n",
      "-------------------------------------------------------------\n",
      " confusion_matrix for new data with deeper model \n",
      " [[ 0  0]\n",
      " [61 39]]\n",
      "only attack data -  (39, 42)\n",
      "final data  589 -  (19696, 42)\n",
      "-------------------------------------------------------------\n"
     ]
    },
    {
     "name": "stderr",
     "output_type": "stream",
     "text": [
      "/tmp/ipykernel_3245245/1638766432.py:38: FutureWarning: The frame.append method is deprecated and will be removed from pandas in a future version. Use pandas.concat instead.\n",
      "  final_Data = final_Data.append(data1, ignore_index = True)\n",
      "/tmp/ipykernel_3245245/1638766432.py:38: FutureWarning: The frame.append method is deprecated and will be removed from pandas in a future version. Use pandas.concat instead.\n",
      "  final_Data = final_Data.append(data1, ignore_index = True)\n"
     ]
    },
    {
     "name": "stdout",
     "output_type": "stream",
     "text": [
      "4/4 [==============================] - 0s 4ms/step\n",
      "-------------------------------------------------------------\n",
      " confusion_matrix for new data with deeper model \n",
      " [[ 0  0]\n",
      " [59 41]]\n",
      "only attack data -  (41, 42)\n",
      "final data  590 -  (19737, 42)\n",
      "-------------------------------------------------------------\n",
      "4/4 [==============================] - 0s 3ms/step\n",
      "-------------------------------------------------------------\n",
      " confusion_matrix for new data with deeper model \n",
      " [[ 0  0]\n",
      " [66 34]]\n",
      "only attack data -  (34, 42)\n",
      "final data  591 -  (19771, 42)\n",
      "-------------------------------------------------------------\n"
     ]
    },
    {
     "name": "stderr",
     "output_type": "stream",
     "text": [
      "/tmp/ipykernel_3245245/1638766432.py:38: FutureWarning: The frame.append method is deprecated and will be removed from pandas in a future version. Use pandas.concat instead.\n",
      "  final_Data = final_Data.append(data1, ignore_index = True)\n",
      "/tmp/ipykernel_3245245/1638766432.py:38: FutureWarning: The frame.append method is deprecated and will be removed from pandas in a future version. Use pandas.concat instead.\n",
      "  final_Data = final_Data.append(data1, ignore_index = True)\n"
     ]
    },
    {
     "name": "stdout",
     "output_type": "stream",
     "text": [
      "4/4 [==============================] - 0s 5ms/step\n",
      "-------------------------------------------------------------\n",
      " confusion_matrix for new data with deeper model \n",
      " [[ 0  0]\n",
      " [73 27]]\n",
      "only attack data -  (27, 42)\n",
      "final data  592 -  (19798, 42)\n",
      "-------------------------------------------------------------\n"
     ]
    },
    {
     "name": "stderr",
     "output_type": "stream",
     "text": [
      "/tmp/ipykernel_3245245/1638766432.py:38: FutureWarning: The frame.append method is deprecated and will be removed from pandas in a future version. Use pandas.concat instead.\n",
      "  final_Data = final_Data.append(data1, ignore_index = True)\n"
     ]
    },
    {
     "name": "stdout",
     "output_type": "stream",
     "text": [
      "4/4 [==============================] - 0s 3ms/step\n",
      "-------------------------------------------------------------\n",
      " confusion_matrix for new data with deeper model \n",
      " [[ 0  0]\n",
      " [67 33]]\n",
      "only attack data -  (33, 42)\n",
      "final data  593 -  (19831, 42)\n",
      "-------------------------------------------------------------\n",
      "4/4 [==============================] - 0s 3ms/step\n",
      "-------------------------------------------------------------\n",
      " confusion_matrix for new data with deeper model \n",
      " [[ 0  0]\n",
      " [56 44]]\n",
      "only attack data -  (44, 42)\n",
      "final data  594 -  (19875, 42)\n",
      "-------------------------------------------------------------\n"
     ]
    },
    {
     "name": "stderr",
     "output_type": "stream",
     "text": [
      "/tmp/ipykernel_3245245/1638766432.py:38: FutureWarning: The frame.append method is deprecated and will be removed from pandas in a future version. Use pandas.concat instead.\n",
      "  final_Data = final_Data.append(data1, ignore_index = True)\n",
      "/tmp/ipykernel_3245245/1638766432.py:38: FutureWarning: The frame.append method is deprecated and will be removed from pandas in a future version. Use pandas.concat instead.\n",
      "  final_Data = final_Data.append(data1, ignore_index = True)\n"
     ]
    },
    {
     "name": "stdout",
     "output_type": "stream",
     "text": [
      "4/4 [==============================] - 0s 2ms/step\n",
      "-------------------------------------------------------------\n",
      " confusion_matrix for new data with deeper model \n",
      " [[ 0  0]\n",
      " [66 34]]\n",
      "only attack data -  (34, 42)\n",
      "final data  595 -  (19909, 42)\n",
      "-------------------------------------------------------------\n",
      "4/4 [==============================] - 0s 3ms/step\n",
      "-------------------------------------------------------------\n",
      " confusion_matrix for new data with deeper model \n",
      " [[ 0  0]\n",
      " [70 30]]\n",
      "only attack data -  (30, 42)\n",
      "final data  596 -  (19939, 42)\n",
      "-------------------------------------------------------------\n"
     ]
    },
    {
     "name": "stderr",
     "output_type": "stream",
     "text": [
      "/tmp/ipykernel_3245245/1638766432.py:38: FutureWarning: The frame.append method is deprecated and will be removed from pandas in a future version. Use pandas.concat instead.\n",
      "  final_Data = final_Data.append(data1, ignore_index = True)\n",
      "/tmp/ipykernel_3245245/1638766432.py:38: FutureWarning: The frame.append method is deprecated and will be removed from pandas in a future version. Use pandas.concat instead.\n",
      "  final_Data = final_Data.append(data1, ignore_index = True)\n"
     ]
    },
    {
     "name": "stdout",
     "output_type": "stream",
     "text": [
      "4/4 [==============================] - 0s 3ms/step\n",
      "-------------------------------------------------------------\n",
      " confusion_matrix for new data with deeper model \n",
      " [[ 0  0]\n",
      " [74 26]]\n",
      "only attack data -  (26, 42)\n",
      "final data  597 -  (19965, 42)\n",
      "-------------------------------------------------------------\n",
      "4/4 [==============================] - 0s 3ms/step\n"
     ]
    },
    {
     "name": "stderr",
     "output_type": "stream",
     "text": [
      "/tmp/ipykernel_3245245/1638766432.py:38: FutureWarning: The frame.append method is deprecated and will be removed from pandas in a future version. Use pandas.concat instead.\n",
      "  final_Data = final_Data.append(data1, ignore_index = True)\n"
     ]
    },
    {
     "name": "stdout",
     "output_type": "stream",
     "text": [
      "-------------------------------------------------------------\n",
      " confusion_matrix for new data with deeper model \n",
      " [[ 0  0]\n",
      " [70 30]]\n",
      "only attack data -  (30, 42)\n",
      "final data  598 -  (19995, 42)\n",
      "-------------------------------------------------------------\n",
      "4/4 [==============================] - 0s 2ms/step\n",
      "-------------------------------------------------------------\n",
      " confusion_matrix for new data with deeper model \n",
      " [[ 0  0]\n",
      " [60 40]]\n",
      "only attack data -  (40, 42)\n",
      "final data  599 -  (20035, 42)\n",
      "-------------------------------------------------------------\n",
      "1.0    20035\n",
      "Name: Label, dtype: int64\n",
      "---------------------------------------------------------\n"
     ]
    },
    {
     "name": "stderr",
     "output_type": "stream",
     "text": [
      "/tmp/ipykernel_3245245/1638766432.py:38: FutureWarning: The frame.append method is deprecated and will be removed from pandas in a future version. Use pandas.concat instead.\n",
      "  final_Data = final_Data.append(data1, ignore_index = True)\n",
      "/tmp/ipykernel_3245245/1638766432.py:38: FutureWarning: The frame.append method is deprecated and will be removed from pandas in a future version. Use pandas.concat instead.\n",
      "  final_Data = final_Data.append(data1, ignore_index = True)\n"
     ]
    }
   ],
   "source": [
    "it =0\n",
    "\n",
    "while(final_Data.shape[0]<20000):\n",
    "    it+=1\n",
    "    z = Variable(torch.randn(100, z_dim)).cpu() \n",
    "    with torch.no_grad():\n",
    "        data = G(z)\n",
    "    data = data.cpu().numpy() \n",
    "    fake = pd.DataFrame(data)\n",
    "        \n",
    "    newy = np.ones((fake.shape[0],)) \n",
    "    #this is the model which changes \n",
    "    new_pred = loaded_model.predict(fake)\n",
    "    new_pred = (new_pred > 0.5)\n",
    "    cm = confusion_matrix(newy,new_pred)\n",
    "    print(\"-------------------------------------------------------------\") \n",
    "    print (\" confusion_matrix for new data with deeper model \\n\" ,cm)\n",
    "    \n",
    "    combined_data = np.concatenate((fake,new_pred),axis=1) \n",
    "    combined_data = pd.DataFrame(combined_data)\n",
    "    combined_data.columns = ['duration', 'protocol_type', 'service', 'flag', 'src_bytes',\n",
    "       'dst_bytes', 'land', 'wrong_fragment', 'urgent', 'hot',\n",
    "       'num_failed_logins', 'logged_in', 'num_compromised', 'root_shell',\n",
    "       'su_attempted', 'num_root', 'num_file_creations', 'num_shells',\n",
    "       'num_access_files', 'num_outbound_cmds', 'is_host_login',\n",
    "       'is_guest_login', 'count', 'srv_count', 'serror_rate',\n",
    "       'srv_serror_rate', 'rerror_rate', 'srv_rerror_rate', 'same_srv_rate',\n",
    "       'diff_srv_rate', 'srv_diff_host_rate', 'dst_host_count',\n",
    "       'dst_host_srv_count', 'dst_host_same_srv_rate',\n",
    "       'dst_host_diff_srv_rate', 'dst_host_same_src_port_rate',\n",
    "       'dst_host_srv_diff_host_rate', 'dst_host_serror_rate',\n",
    "       'dst_host_srv_serror_rate', 'dst_host_rerror_rate',\n",
    "       'dst_host_srv_rerror_rate', 'Label']\n",
    "    \n",
    "    criteria1 = combined_data['Label'] == 1 #just attack data \n",
    "    data1 = combined_data[criteria1]\n",
    "    print(\"only attack data - \",data1.shape) \n",
    "    final_Data = final_Data.append(data1, ignore_index = True) \n",
    "    print(\"final data \", it, \"- \",final_Data.shape) \n",
    "    print(\"-------------------------------------------------------------\") \n",
    "    \n",
    "print(final_Data['Label'].value_counts())\n",
    "print(\"---------------------------------------------------------\")\n",
    "df2 = final_Data.sample(n=13995, replace=False, random_state=1)\n",
    "df3 = final_Data.sample(n=20000, replace=False, random_state=1)\n",
    "final = pd.concat([mydt,df2], ignore_index = True,axis=0)\n",
    "final['Label'].value_counts()\n",
    "df3.to_csv(\"../dataset/KDD-2018/generated_u2r.csv\", index = False, header = True)\n",
    "final.to_csv(\"../dataset/KDD-2018/balanced_data_u2r.csv\", index = False, header = True)"
   ]
  },
  {
   "cell_type": "code",
   "execution_count": null,
   "id": "c7d019b0",
   "metadata": {},
   "outputs": [],
   "source": []
  }
 ],
 "metadata": {
  "kernelspec": {
   "display_name": "Python 3 (ipykernel)",
   "language": "python",
   "name": "python3"
  },
  "language_info": {
   "codemirror_mode": {
    "name": "ipython",
    "version": 3
   },
   "file_extension": ".py",
   "mimetype": "text/x-python",
   "name": "python",
   "nbconvert_exporter": "python",
   "pygments_lexer": "ipython3",
   "version": "3.8.10"
  }
 },
 "nbformat": 4,
 "nbformat_minor": 5
}
