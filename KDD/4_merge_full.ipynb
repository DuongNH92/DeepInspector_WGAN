{
 "cells": [
  {
   "cell_type": "code",
   "execution_count": 5,
   "id": "bcfe9140",
   "metadata": {},
   "outputs": [
    {
     "name": "stdout",
     "output_type": "stream",
     "text": [
      "Label converting...\n",
      "Completed!\n"
     ]
    }
   ],
   "source": [
    "# Read original data\n",
    "import numpy as np\n",
    "import pandas as pd\n",
    "from sklearn.utils import shuffle\n",
    "\n",
    "dt = pd.read_csv(\"../dataset/KDD-2018/train_ori.csv\")\n",
    "dt1 = pd.read_csv(\"../dataset/KDD-2018/generated_probe.csv\")\n",
    "dt2 = pd.read_csv(\"../dataset/KDD-2018/generated_r2l.csv\")\n",
    "dt3 = pd.read_csv(\"../dataset/KDD-2018/generated_u2r.csv\")\n",
    "\n",
    "# Convert label\n",
    "print(\"Label converting...\")\n",
    "label = {1: 'Probe'}\n",
    "dt1['Label'] = dt1['Label'].map(label).fillna(dt1['Label'])\n",
    "\n",
    "label2 = {1: 'R2L'}\n",
    "dt2['Label'] = dt2['Label'].map(label2).fillna(dt2['Label'])\n",
    "\n",
    "label3 = {1: 'U2R'}\n",
    "dt3['Label'] = dt3['Label'].map(label3).fillna(dt3['Label'])\n",
    "\n",
    "print('Completed!')"
   ]
  },
  {
   "cell_type": "code",
   "execution_count": 6,
   "id": "7ed7f525",
   "metadata": {},
   "outputs": [
    {
     "name": "stdout",
     "output_type": "stream",
     "text": [
      "Dos       14054\n",
      "normal    14019\n",
      "Probe      5653\n",
      "R2L         506\n",
      "U2R          24\n",
      "Name: Label, dtype: int64\n",
      "Probe    11847\n",
      "Name: Label, dtype: int64\n",
      "R2L    19303\n",
      "Name: Label, dtype: int64\n"
     ]
    }
   ],
   "source": [
    "print(dt['Label'].value_counts())\n",
    "print(dt1['Label'].value_counts())\n",
    "print(dt2['Label'].value_counts())"
   ]
  },
  {
   "cell_type": "code",
   "execution_count": 7,
   "id": "638fc13d",
   "metadata": {},
   "outputs": [],
   "source": [
    "a1 = dt1.sample(n=8366, replace=False, random_state=1)\n",
    "a2 = dt2.sample(n=13513, replace=False, random_state=1)\n",
    "a3 = dt3.sample(n=13995, replace=False, random_state=1)"
   ]
  },
  {
   "cell_type": "code",
   "execution_count": 8,
   "id": "03d17de5",
   "metadata": {},
   "outputs": [
    {
     "name": "stdout",
     "output_type": "stream",
     "text": [
      "Original dataset:\n",
      "Dos       14054\n",
      "normal    14019\n",
      "Probe      5653\n",
      "R2L         506\n",
      "U2R          24\n",
      "Name: Label, dtype: int64\n",
      "-----------------------------------------\n",
      "Balanced dataset:\n",
      "Dos       14054\n",
      "U2R       14019\n",
      "normal    14019\n",
      "Probe     14019\n",
      "R2L       14019\n",
      "Name: Label, dtype: int64\n",
      "-----------------------------------------\n"
     ]
    }
   ],
   "source": [
    "# Merge data\n",
    "data = pd.concat([dt,a1,a2,a3],ignore_index = True,axis=0)\n",
    "data_balanced = shuffle(data).reset_index(drop=True)\n",
    "data_balanced.to_csv(\"../dataset/KDD-2018/train.csv\", index=False, header = True)\n",
    "print(\"Original dataset:\")\n",
    "print(dt['Label'].value_counts())\n",
    "print(\"-----------------------------------------\")\n",
    "print(\"Balanced dataset:\")\n",
    "print(data_balanced['Label'].value_counts())\n",
    "print(\"-----------------------------------------\")"
   ]
  },
  {
   "cell_type": "code",
   "execution_count": null,
   "id": "ea72aaa5",
   "metadata": {},
   "outputs": [],
   "source": []
  }
 ],
 "metadata": {
  "kernelspec": {
   "display_name": "Python 3 (ipykernel)",
   "language": "python",
   "name": "python3"
  },
  "language_info": {
   "codemirror_mode": {
    "name": "ipython",
    "version": 3
   },
   "file_extension": ".py",
   "mimetype": "text/x-python",
   "name": "python",
   "nbconvert_exporter": "python",
   "pygments_lexer": "ipython3",
   "version": "3.8.10"
  }
 },
 "nbformat": 4,
 "nbformat_minor": 5
}
