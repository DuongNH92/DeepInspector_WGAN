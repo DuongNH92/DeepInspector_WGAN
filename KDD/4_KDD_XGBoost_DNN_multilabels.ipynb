{
 "cells": [
  {
   "cell_type": "code",
   "execution_count": 18,
   "id": "15750b37",
   "metadata": {},
   "outputs": [
    {
     "name": "stdout",
     "output_type": "stream",
     "text": [
      "No GPU\n",
      "XGBoost Training model...\n",
      "XGBoost Predicting...\n",
      "XGBoost Finish...\n",
      "DNN Training model...\n",
      "Training model... 1\n",
      "Setting model...\n"
     ]
    },
    {
     "data": {
      "text/html": [
       "\n",
       "<style>\n",
       "    /* Turns off some styling */\n",
       "    progress {\n",
       "        /* gets rid of default border in Firefox and Opera. */\n",
       "        border: none;\n",
       "        /* Needs to be in here for Safari polyfill so background images work as expected. */\n",
       "        background-size: auto;\n",
       "    }\n",
       "    .progress-bar-interrupted, .progress-bar-interrupted::-webkit-progress-bar {\n",
       "        background: #F44336;\n",
       "    }\n",
       "</style>\n"
      ],
      "text/plain": [
       "<IPython.core.display.HTML object>"
      ]
     },
     "metadata": {},
     "output_type": "display_data"
    },
    {
     "data": {
      "text/html": [
       "<table border=\"1\" class=\"dataframe\">\n",
       "  <thead>\n",
       "    <tr style=\"text-align: left;\">\n",
       "      <th>epoch</th>\n",
       "      <th>train_loss</th>\n",
       "      <th>valid_loss</th>\n",
       "      <th>accuracy</th>\n",
       "      <th>precision_score</th>\n",
       "      <th>f1_score</th>\n",
       "      <th>recall_score</th>\n",
       "      <th>roc_auc_score</th>\n",
       "      <th>time</th>\n",
       "    </tr>\n",
       "  </thead>\n",
       "  <tbody>\n",
       "    <tr>\n",
       "      <td>0</td>\n",
       "      <td>0.044141</td>\n",
       "      <td>0.030755</td>\n",
       "      <td>0.993512</td>\n",
       "      <td>0.993522</td>\n",
       "      <td>0.993509</td>\n",
       "      <td>0.993512</td>\n",
       "      <td>0.999491</td>\n",
       "      <td>01:19</td>\n",
       "    </tr>\n",
       "  </tbody>\n",
       "</table>"
      ],
      "text/plain": [
       "<IPython.core.display.HTML object>"
      ]
     },
     "metadata": {},
     "output_type": "display_data"
    },
    {
     "name": "stdout",
     "output_type": "stream",
     "text": [
      "DNN Predicting...\n"
     ]
    },
    {
     "data": {
      "text/html": [
       "\n",
       "<style>\n",
       "    /* Turns off some styling */\n",
       "    progress {\n",
       "        /* gets rid of default border in Firefox and Opera. */\n",
       "        border: none;\n",
       "        /* Needs to be in here for Safari polyfill so background images work as expected. */\n",
       "        background-size: auto;\n",
       "    }\n",
       "    .progress-bar-interrupted, .progress-bar-interrupted::-webkit-progress-bar {\n",
       "        background: #F44336;\n",
       "    }\n",
       "</style>\n"
      ],
      "text/plain": [
       "<IPython.core.display.HTML object>"
      ]
     },
     "metadata": {},
     "output_type": "display_data"
    },
    {
     "data": {
      "text/html": [],
      "text/plain": [
       "<IPython.core.display.HTML object>"
      ]
     },
     "metadata": {},
     "output_type": "display_data"
    },
    {
     "name": "stdout",
     "output_type": "stream",
     "text": [
      "Printing result of DNN\n"
     ]
    },
    {
     "data": {
      "text/html": [
       "\n",
       "<style>\n",
       "    /* Turns off some styling */\n",
       "    progress {\n",
       "        /* gets rid of default border in Firefox and Opera. */\n",
       "        border: none;\n",
       "        /* Needs to be in here for Safari polyfill so background images work as expected. */\n",
       "        background-size: auto;\n",
       "    }\n",
       "    .progress-bar-interrupted, .progress-bar-interrupted::-webkit-progress-bar {\n",
       "        background: #F44336;\n",
       "    }\n",
       "</style>\n"
      ],
      "text/plain": [
       "<IPython.core.display.HTML object>"
      ]
     },
     "metadata": {},
     "output_type": "display_data"
    },
    {
     "data": {
      "text/html": [],
      "text/plain": [
       "<IPython.core.display.HTML object>"
      ]
     },
     "metadata": {},
     "output_type": "display_data"
    },
    {
     "name": "stdout",
     "output_type": "stream",
     "text": [
      "Accuracy: 98.55%; precision: 98.66%; F1: 98.59%; Recall: 98.55%; roc-auc: 99.81%; elapsed: 3.65 s\n",
      "Accuracy of XGBoost: 99.81%\n",
      "Accuracy of DNN: 98.55%\n",
      "Accuracy of Ensemble: 99.52%\n",
      "-----FINAL------\n",
      "XGBboost_Elapsed:  0.028514623641967773\n",
      "DNN_Elapsed:  3.6484274864196777\n",
      "Ensemble_Elapsed:  0.002166271209716797\n",
      "------>\n",
      "Printing XGBoost result\n",
      "Accuracy: 99.81%; precision: 99.80%; F1: 99.81%; Recall: 99.81%; elapsed: 0.03 s\n",
      "              precision    recall  f1-score   support\n",
      "\n",
      "           0       1.00      1.00      1.00      5946\n",
      "           1       0.99      1.00      1.00      2489\n",
      "           2       0.97      0.98      0.98       189\n",
      "           3       0.58      0.70      0.64        10\n",
      "           4       1.00      1.00      1.00      5996\n",
      "\n",
      "    accuracy                           1.00     14630\n",
      "   macro avg       0.91      0.94      0.92     14630\n",
      "weighted avg       1.00      1.00      1.00     14630\n",
      "\n",
      "[[5946    0    0    0    0]\n",
      " [   0 2487    0    1   12]\n",
      " [   0    0  186    1    4]\n",
      " [   0    0    1    7    4]\n",
      " [   0    2    2    1 5976]]\n",
      "------>\n",
      "Printing result of Ensemble learning\n",
      "Accuracy: 99.52%; precision: 99.52%; F1: 99.52%; Recall: 99.52%; elapsed: 0.00 s\n",
      "Elapsed_Ensemble:  0.002166271209716797\n",
      "              precision    recall  f1-score   support\n",
      "\n",
      "           0       1.00      1.00      1.00      5955\n",
      "           1       0.99      1.00      0.99      2493\n",
      "           2       0.94      0.90      0.92       198\n",
      "           3       0.58      0.64      0.61        11\n",
      "           4       0.99      1.00      0.99      5973\n",
      "\n",
      "    accuracy                           1.00     14630\n",
      "   macro avg       0.90      0.91      0.90     14630\n",
      "weighted avg       1.00      1.00      1.00     14630\n",
      "\n",
      "[[5946    0    0    0    0]\n",
      " [   3 2483    0    1   13]\n",
      " [   0    0  179    1   11]\n",
      " [   0    0    1    7    4]\n",
      " [   6   10   18    2 5945]]\n"
     ]
    }
   ],
   "source": [
    "from audioop import avg\n",
    "import cmath\n",
    "from fileinput import filename\n",
    "from gc import enable\n",
    "import sys\n",
    "from matplotlib.pyplot import axis\n",
    "import pandas as pd\n",
    "from sklearn.model_selection import KFold\n",
    "import xgboost as xgb\n",
    "from sklearn.metrics import classification_report\n",
    "from sklearn.metrics import confusion_matrix\n",
    "from sklearn.metrics import f1_score, recall_score, precision_score, accuracy_score, roc_auc_score, auc \n",
    "import warnings\n",
    "import pickle\n",
    "import tensorflow as tf\n",
    "from fastprogress import fastprogress\n",
    "warnings.filterwarnings(\"ignore\")\n",
    "from fastai.tabular.all import *\n",
    "import os\n",
    "os.environ['TF_CPP_MIN_LOG_LEVEL']='2'\n",
    "\n",
    "torch.backends.cudnn.benchmark = True\n",
    "fastprogress.MAX_COLS = 80\n",
    "\n",
    "#setting GPU Mem\n",
    "os.environ['TF_XLA_FLAGS'] = '--tf_xla_enable_xla_devices'\n",
    "gpus = tf.config.experimental.list_physical_devices('GPU')\n",
    "if gpus:\n",
    "    try:\n",
    "        for gpu in gpus:\n",
    "            tf.config.experimental.set_memory_growth(gpu, True)\n",
    "    except RuntimeError as e:\n",
    "        print(e)\n",
    "# #############################################\n",
    "\n",
    "if torch.cuda.is_available():\n",
    "    print(\"GPU enabling...\")\n",
    "    torch.cuda.device('cuda')\n",
    "else:\n",
    "\tprint(\"No GPU\")\n",
    "\n",
    "\n",
    "\n",
    "dataPath = ('../dataset/KDD-2018/')\n",
    "modelPath = '../KDD/'\n",
    "#fileName = 'data_balanced.csv'\n",
    "df_train = pd.read_csv('../dataset/KDD-2018/train.csv')\n",
    "df_test = pd.read_csv('../dataset/KDD-2018/test.csv')\n",
    "\n",
    "labels = ['Probe', 'Dos', 'normal', 'R2L', 'U2R']\n",
    "\n",
    "cat_names = ['service', 'protocol_type']\n",
    "y_names = 'Label'\n",
    "cont_names = ['duration', 'flag', 'src_bytes',\n",
    "       'dst_bytes', 'land', 'wrong_fragment', 'urgent', 'hot',\n",
    "       'num_failed_logins', 'logged_in', 'num_compromised', 'root_shell',\n",
    "       'su_attempted', 'num_root', 'num_file_creations', 'num_shells',\n",
    "       'num_access_files', 'num_outbound_cmds', 'is_host_login',\n",
    "       'is_guest_login', 'count', 'srv_count', 'serror_rate',\n",
    "       'srv_serror_rate', 'rerror_rate', 'srv_rerror_rate', 'same_srv_rate',\n",
    "       'diff_srv_rate', 'srv_diff_host_rate', 'dst_host_count',\n",
    "       'dst_host_srv_count', 'dst_host_same_srv_rate',\n",
    "       'dst_host_diff_srv_rate', 'dst_host_same_src_port_rate',\n",
    "       'dst_host_srv_diff_host_rate', 'dst_host_serror_rate',\n",
    "       'dst_host_srv_serror_rate', 'dst_host_rerror_rate',\n",
    "       'dst_host_srv_rerror_rate']\n",
    "\n",
    "procs = [Categorify, FillMissing, Normalize]\n",
    "y_block = CategoryBlock()\n",
    "\n",
    "verbose = 1\n",
    "dep_var = 'Label'\n",
    "params = {#'gpu_id':0,\n",
    "    'n_estimators':50, #train_ori\n",
    "    #'n_estimators':100, #train balanced\n",
    "    'tree_method':'exact',    \n",
    "    #'tree_method':'gpu_hist',\n",
    "    'max_depth':5,\n",
    "    # 'enable_categorical':True,\n",
    "    'objective':\"multi:softmax\", \n",
    "    'booster':\"gbtree\",     \n",
    "    'learning_rate':0.2,  #train ori \n",
    "    #'learning_rate':0.2, #train balanced\n",
    "    # 'silent':0, \n",
    "    # 'single_precision_histogram': True,\n",
    "    'eval_metric':\"mlogloss\"    \n",
    "}\n",
    "print('XGBoost Training model...')\n",
    "model = xgb.XGBClassifier(**params)\n",
    "xgb_model = model.fit(df_train[df_train.columns[:-1]], df_train[y_names])\n",
    "print('XGBoost Predicting...')\n",
    "start = time.time()\n",
    "xgb_preds = xgb_model.predict_proba(df_test[df_test.columns[:-1]])\n",
    "elapsed_xgb = time.time() - start\n",
    "print('XGBoost Finish...')\n",
    "\n",
    "print('DNN Training model...')\n",
    "acc1 = 0.8\n",
    "acc3 = 0.1\n",
    "step = 0\n",
    "while acc3 < 0.5555:\n",
    "    step = step + 1\n",
    "    print('Training model...', step )\n",
    "    print('Setting model...' )\n",
    "        # create model\n",
    "    dls = TabularDataLoaders.from_df(df_train, path=dataPath, cat_names=cat_names, cont_names=cont_names, procs=procs, y_names=y_names, bs=64 ) #, valid_idx=list(range(1,test.shape[0])))\n",
    "    roc_auc = RocAuc(average='weighted')\n",
    "    learn = tabular_learner(dls, layers=[400,200], metrics=[accuracy, Precision(average='weighted'), F1Score(average='weighted'), Recall(average='weighted'), roc_auc])\n",
    "    learn.fit(1, 1e-2)\n",
    "    dl = learn.dls.test_dl(df_test, with_labels=True, drop_last=False)\n",
    "    \n",
    "    print(\"DNN Predicting...\")\n",
    "    start = time.time()\n",
    "    nn_preds, tests, clas_idx = learn.get_preds(dl=dl, with_loss=False, with_decoded=True)\n",
    "    elapsed = time.time() - start\n",
    "    \n",
    "    print('Printing result of DNN')\n",
    "    loss, acc, precision, f1, recall, roc = learn.validate(dl=dl)\n",
    "    print('Accuracy: {:.2f}%; precision: {:.2f}%; F1: {:.2f}%; Recall: {:.2f}%; roc-auc: {:.2f}%; elapsed: {:.2f} s'.format(acc*100, precision*100, f1*100, recall*100, roc*100,  elapsed ))\n",
    "    \n",
    "    acc1 = accuracy(tensor(xgb_preds), tensor(tests))\n",
    "    print('Accuracy of XGBoost: {:.2f}%' .format(acc1*100,))\n",
    "    \n",
    "    acc2 = accuracy(tensor(nn_preds), tensor(tests))\n",
    "    print('Accuracy of DNN: {:.2f}%' .format(acc2*100,))\n",
    "    \n",
    "    start = time.time()\n",
    "    avgs = (nn_preds + xgb_preds) / 2\n",
    "    elapsed_ensemble = time.time() - start\n",
    "    \n",
    "    argmax = avgs.argmax(dim=1)    \n",
    "    acc3 = accuracy(tensor(avgs), tensor(tests))\n",
    "    print('Accuracy of Ensemble: {:.2f}%' .format(acc3*100,))\n",
    "\n",
    "print(\"-----FINAL------\")\n",
    "print(\"XGBboost_Elapsed: \", elapsed_xgb)\n",
    "print('DNN_Elapsed: ', elapsed)\n",
    "print('Ensemble_Elapsed: ', elapsed_ensemble)\n",
    "print(\"------>\")\n",
    "print('Printing XGBoost result')\n",
    "precision1 = precision_score(tests, xgb_preds.argmax(axis=1), average='weighted')\n",
    "f11 = f1_score(tests, xgb_preds.argmax(axis=1), average='weighted')\n",
    "recall1 = recall_score(tests, xgb_preds.argmax(axis=1), average='weighted')\n",
    "print('Accuracy: {:.2f}%; precision: {:.2f}%; F1: {:.2f}%; Recall: {:.2f}%; elapsed: {:.2f} s'.format(acc1*100, precision1*100, f11*100, recall1*100,  elapsed_xgb ))\n",
    "print(classification_report(xgb_preds.argmax(axis=1),tests))\n",
    "cm = confusion_matrix(tests,np.argmax(xgb_preds, axis=1))\n",
    "print(cm)\n",
    "print(\"------>\")\n",
    "print('Printing result of Ensemble learning')\n",
    "accuracy3 = accuracy_score(tests, avgs.argmax(axis=1))\n",
    "precision3 = precision_score(tests, avgs.argmax(axis=1), average='weighted')\n",
    "f13 = f1_score(tests, avgs.argmax(axis=1), average='weighted')\n",
    "recall3 = recall_score(tests, avgs.argmax(axis=1), average='weighted')\n",
    "print('Accuracy: {:.2f}%; precision: {:.2f}%; F1: {:.2f}%; Recall: {:.2f}%; elapsed: {:.2f} s'.format(accuracy3*100, precision3*100, f13*100, recall3*100,  elapsed_ensemble ))\n",
    "print(\"Elapsed_Ensemble: \", elapsed_ensemble)\n",
    "print(classification_report(avgs.argmax(axis=1), tests))\n",
    "cm = confusion_matrix(tests,avgs.argmax(axis=1))\n",
    "print(cm)"
   ]
  },
  {
   "cell_type": "code",
   "execution_count": 1,
   "id": "135ae5db",
   "metadata": {},
   "outputs": [
    {
     "name": "stderr",
     "output_type": "stream",
     "text": [
      "/home/mltest/my_project/my_project_env/lib/python3.8/site-packages/xgboost/compat.py:31: FutureWarning: pandas.Int64Index is deprecated and will be removed from pandas in a future version. Use pandas.Index with the appropriate dtype instead.\n",
      "  from pandas import MultiIndex, Int64Index\n"
     ]
    },
    {
     "name": "stdout",
     "output_type": "stream",
     "text": [
      "Train balanced dataset:\n",
      "Dos       14054\n",
      "U2R       14019\n",
      "normal    14019\n",
      "Probe     14019\n",
      "R2L       14019\n",
      "Name: Label, dtype: int64\n",
      "Test dataset:\n",
      "normal    5981\n",
      "Dos       5946\n",
      "Probe     2500\n",
      "R2L        191\n",
      "U2R         12\n",
      "Name: Label, dtype: int64\n"
     ]
    }
   ],
   "source": [
    "import pandas as pd\n",
    "\n",
    "#fileName = 'data_balanced.csv'\n",
    "df_train = pd.read_csv('../dataset/KDD-2018/train.csv')\n",
    "df_test = pd.read_csv('../dataset/KDD-2018/test.csv')\n",
    "print('Train balanced dataset:')\n",
    "print(df_train['Label'].value_counts())\n",
    "\n",
    "print('Test dataset:')\n",
    "print(df_test['Label'].value_counts())"
   ]
  },
  {
   "cell_type": "code",
   "execution_count": null,
   "id": "de3ee1ff",
   "metadata": {},
   "outputs": [],
   "source": []
  }
 ],
 "metadata": {
  "kernelspec": {
   "display_name": "Python 3 (ipykernel)",
   "language": "python",
   "name": "python3"
  },
  "language_info": {
   "codemirror_mode": {
    "name": "ipython",
    "version": 3
   },
   "file_extension": ".py",
   "mimetype": "text/x-python",
   "name": "python",
   "nbconvert_exporter": "python",
   "pygments_lexer": "ipython3",
   "version": "3.8.10"
  }
 },
 "nbformat": 4,
 "nbformat_minor": 5
}
