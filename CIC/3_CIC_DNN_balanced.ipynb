{
 "cells": [
  {
   "cell_type": "code",
   "execution_count": 10,
   "id": "3252c5e6",
   "metadata": {},
   "outputs": [
    {
     "name": "stdout",
     "output_type": "stream",
     "text": [
      "0.0    14001\n",
      "1.0    14001\n",
      "Name: Label, dtype: int64\n",
      "0    5999\n",
      "1      17\n",
      "Name: Label, dtype: int64\n"
     ]
    }
   ],
   "source": [
    "import pandas as pd \n",
    "import numpy as np  \n",
    "from tensorflow.keras.models import Sequential\n",
    "from tensorflow.keras.layers import Dense\n",
    "from sklearn.model_selection import train_test_split\n",
    "from sklearn.preprocessing import MinMaxScaler\n",
    "from sklearn.metrics import classification_report, confusion_matrix, accuracy_score, precision_score, recall_score, f1_score\n",
    "\n",
    "# read train data\n",
    "data_train = pd.read_csv(\"../dataset/CIC-2018/balanced_sql.csv\")\n",
    "# Create matrix of features and matrix of target variable \n",
    "dataset = data_train.values\n",
    "X = dataset[:,0:79]\n",
    "y = dataset[:,79]\n",
    "\n",
    "# convert the scaled array to dataframe \n",
    "min_max_scaler = MinMaxScaler()\n",
    "X_scale = min_max_scaler.fit_transform(X)\n",
    "\n",
    "X_train = X_scale\n",
    "y_train = y\n",
    "\n",
    "# read test data\n",
    "data_test = pd.read_csv(\"../dataset/CIC-2018/testsql.csv\") \n",
    "dataset1 = data_test.values\n",
    "X1 = dataset1[:,0:79]\n",
    "y1 = dataset1[:,79]\n",
    "\n",
    "# convert the scaled array to dataframe \n",
    "scaler = MinMaxScaler()\n",
    "X_scale_test = scaler.fit_transform(X1)\n",
    "\n",
    "X_test = X_scale_test\n",
    "y_test = y1\n",
    "\n",
    "print(data_train['Label'].value_counts())\n",
    "print(data_test['Label'].value_counts())"
   ]
  },
  {
   "cell_type": "code",
   "execution_count": 11,
   "id": "5ca7c918",
   "metadata": {
    "scrolled": true
   },
   "outputs": [
    {
     "name": "stdout",
     "output_type": "stream",
     "text": [
      "Epoch 1/10\n",
      "29/29 [==============================] - 1s 6ms/step - loss: 0.3863 - accuracy: 0.9242\n",
      "Epoch 2/10\n",
      "29/29 [==============================] - 0s 8ms/step - loss: 0.1037 - accuracy: 0.9993\n",
      "Epoch 3/10\n",
      "29/29 [==============================] - 0s 8ms/step - loss: 0.0302 - accuracy: 0.9993\n",
      "Epoch 4/10\n",
      "29/29 [==============================] - 0s 8ms/step - loss: 0.0137 - accuracy: 0.9993\n",
      "Epoch 5/10\n",
      "29/29 [==============================] - 0s 8ms/step - loss: 0.0089 - accuracy: 0.9993\n",
      "Epoch 6/10\n",
      "29/29 [==============================] - 0s 8ms/step - loss: 0.0067 - accuracy: 0.9993\n",
      "Epoch 7/10\n",
      "29/29 [==============================] - 0s 8ms/step - loss: 0.0054 - accuracy: 0.9993\n",
      "Epoch 8/10\n",
      "29/29 [==============================] - 0s 9ms/step - loss: 0.0045 - accuracy: 0.9993\n",
      "Epoch 9/10\n",
      "29/29 [==============================] - 0s 11ms/step - loss: 0.0038 - accuracy: 0.9993\n",
      "Epoch 10/10\n",
      "29/29 [==============================] - 0s 8ms/step - loss: 0.0033 - accuracy: 0.9993\n",
      "188/188 [==============================] - 1s 3ms/step\n",
      "Accuracy: 99.58%\n",
      "confusion_matrix for test data\n",
      " [[5991    8]\n",
      " [  17    0]]\n",
      "              precision    recall  f1-score   support\n",
      "\n",
      "           0       1.00      1.00      1.00      5999\n",
      "           1       0.00      0.00      0.00        17\n",
      "\n",
      "    accuracy                           1.00      6016\n",
      "   macro avg       0.50      0.50      0.50      6016\n",
      "weighted avg       0.99      1.00      1.00      6016\n",
      "\n",
      "Accuracy: 0.9958\n",
      "Precision: 0.0000\n",
      "Recall: 0.0000\n",
      "F1 Score: 0.0000\n",
      "FPR Score: 1.0000\n"
     ]
    }
   ],
   "source": [
    "# define the keras model\n",
    "model = Sequential()\n",
    "model.add(Dense(128, input_shape=(79,), activation='relu'))\n",
    "model.add(Dense(79, activation='relu'))\n",
    "model.add(Dense(1, activation='sigmoid'))\n",
    "\n",
    "# compile the keras model\n",
    "model.compile(loss='binary_crossentropy', optimizer='adam', metrics=['accuracy'])\n",
    "# fit the keras model on the dataset\n",
    "model.fit(X_train, y_train, epochs=10, batch_size=100)\n",
    " \n",
    "# make class predictions with the model\n",
    "y_pred = predictions = (model.predict(X_test) > 0.5).astype(int)\n",
    "accuracy = accuracy_score(y_test, y_pred)\n",
    "print(\"Accuracy: %.2f%%\" % (accuracy * 100.0))\n",
    "\n",
    "%matplotlib inline\n",
    "# Testing \n",
    "cm = confusion_matrix(y_test, y_pred) \n",
    "tnr = recall_score(y_test, y_pred) \n",
    "fpr = 1 - tnr\n",
    "\n",
    "print (\"confusion_matrix for test data\\n\",cm)\n",
    "print(classification_report(y_test,y_pred,labels=np.unique(y_pred)))\n",
    "print('Accuracy: %.4f' % accuracy_score(y_test, y_pred))\n",
    "print('Precision: %.4f' % precision_score(y_test, y_pred))\n",
    "print('Recall: %.4f' % recall_score(y_test, y_pred))\n",
    "print('F1 Score: %.4f' % f1_score(y_test, y_pred))\n",
    "print('FPR Score: %.4f' % fpr)"
   ]
  },
  {
   "cell_type": "code",
   "execution_count": 6,
   "id": "06ec7963",
   "metadata": {},
   "outputs": [
    {
     "data": {
      "image/png": "[encoded data removed]",
      "text/plain": [
       "<Figure size 432x288 with 1 Axes>"
      ]
     },
     "metadata": {
      "needs_background": "light"
     },
     "output_type": "display_data"
    }
   ],
   "source": [
    "#Plot Precision-Recall Curve \n",
    "import matplotlib.pyplot as plt \n",
    "from sklearn.metrics import precision_recall_curve\n",
    "\n",
    "#calculate precision and recall\n",
    "precision, recall, thresholds = precision_recall_curve(y_test, y_pred)\n",
    "\n",
    "#create precision recall curve\n",
    "fig, ax = plt.subplots()\n",
    "ax.plot(recall, precision, color='blue')\n",
    "ax.grid(False)\n",
    "\n",
    "#add axis labels to plot\n",
    "ax.set_title('Precision-Recall Curve')\n",
    "ax.set_ylabel('Precision')\n",
    "ax.set_xlabel('Recall')\n",
    "#display plot\n",
    "#plt.savefig('Precision-Recall_curve_DNN_CIC_after.png')\n",
    "plt.show()"
   ]
  },
  {
   "cell_type": "code",
   "execution_count": 8,
   "id": "efb1233a",
   "metadata": {
    "scrolled": true
   },
   "outputs": [
    {
     "data": {
      "image/png": "[encoded data removed]",
      "text/plain": [
       "<Figure size 360x360 with 1 Axes>"
      ]
     },
     "metadata": {
      "needs_background": "light"
     },
     "output_type": "display_data"
    }
   ],
   "source": [
    "# Plot confusion matrix\n",
    "fig, ax = plt.subplots(figsize=(5, 5))\n",
    "ax.matshow(cm, cmap='Oranges', alpha=0.3)\n",
    "ax.grid(False)\n",
    "plt.tick_params(axis=u'both', which=u'both',length=0)\n",
    "for i in range(cm.shape[0]):\n",
    "    for j in range(cm.shape[1]):\n",
    "        ax.text(x=j, y=i,s=cm[i, j], va='center', ha='center', size='xx-large')\n",
    " \n",
    "plt.xlabel('Predictions', fontsize=18)\n",
    "plt.ylabel('Actuals', fontsize=18)\n",
    "plt.title('Confusion Matrix', fontsize=18)\n",
    "plt.savefig('confusion_matrix_DNN_CIC_sql_before.png')\n",
    "plt.show()"
   ]
  },
  {
   "cell_type": "code",
   "execution_count": 9,
   "id": "649c08cd",
   "metadata": {},
   "outputs": [
    {
     "name": "stdout",
     "output_type": "stream",
     "text": [
      "roc_auc_score:  0.5\n"
     ]
    },
    {
     "data": {
      "image/png": "[encoded data removed]",
      "text/plain": [
       "<Figure size 720x360 with 1 Axes>"
      ]
     },
     "metadata": {
      "needs_background": "light"
     },
     "output_type": "display_data"
    }
   ],
   "source": [
    "# Plot ROC\n",
    "from sklearn.metrics import auc, plot_precision_recall_curve, roc_curve, roc_auc_score\n",
    "\n",
    "false_positive_rate, true_positive_rate, threshold = roc_curve(y_test, y_pred)\n",
    "print('roc_auc_score: ', roc_auc_score(y_test, y_pred))\n",
    "plt.subplots(1, figsize=(10,5))\n",
    "plt.title('ROC cure_b')\n",
    "plt.plot(false_positive_rate, true_positive_rate)\n",
    "plt.plot([0, 1], ls=\"--\")\n",
    "plt.plot([0, 0], [1, 0] , c=\".7\"), plt.plot([1, 1] , c=\".7\")\n",
    "plt.ylabel('True Positive Rate')\n",
    "plt.xlabel('False Positive Rate')\n",
    "plt.savefig('Roc_curve_DNN_CIC_sql_before.png')\n",
    "plt.show()"
   ]
  },
  {
   "cell_type": "code",
   "execution_count": null,
   "id": "02d09743",
   "metadata": {},
   "outputs": [],
   "source": []
  }
 ],
 "metadata": {
  "kernelspec": {
   "display_name": "Python 3 (ipykernel)",
   "language": "python",
   "name": "python3"
  },
  "language_info": {
   "codemirror_mode": {
    "name": "ipython",
    "version": 3
   },
   "file_extension": ".py",
   "mimetype": "text/x-python",
   "name": "python",
   "nbconvert_exporter": "python",
   "pygments_lexer": "ipython3",
   "version": "3.8.10"
  }
 },
 "nbformat": 4,
 "nbformat_minor": 5
}
