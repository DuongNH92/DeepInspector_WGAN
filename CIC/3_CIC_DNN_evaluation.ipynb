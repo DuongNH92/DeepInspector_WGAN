{
 "cells": [
  {
   "cell_type": "code",
   "execution_count": 1,
   "id": "38116275",
   "metadata": {},
   "outputs": [
    {
     "name": "stderr",
     "output_type": "stream",
     "text": [
      "/home/mltest/my_project/my_project_env/lib/python3.8/site-packages/xgboost/compat.py:31: FutureWarning: pandas.Int64Index is deprecated and will be removed from pandas in a future version. Use pandas.Index with the appropriate dtype instead.\n",
      "  from pandas import MultiIndex, Int64Index\n"
     ]
    },
    {
     "name": "stdout",
     "output_type": "stream",
     "text": [
      "Test dataset \n",
      " DDOS attack-HOIC            20000\n",
      "DoS attacks-SlowHTTPTest    20000\n",
      "DoS attacks-Slowloris       20000\n",
      "DDOS attack-LOIC-UDP        20000\n",
      "DoS attacks-GoldenEye       20000\n",
      "DoS attacks-Hulk            20000\n",
      "Benign                      20000\n",
      "Infilteration               20000\n",
      "Bot                         20000\n",
      "Brute Force -Web              253\n",
      "Brute Force -XSS              106\n",
      "SQL Injection                  37\n",
      "Name: Label, dtype: int64 \n",
      "\n"
     ]
    },
    {
     "data": {
      "text/html": [
       "\n",
       "<style>\n",
       "    /* Turns off some styling */\n",
       "    progress {\n",
       "        /* gets rid of default border in Firefox and Opera. */\n",
       "        border: none;\n",
       "        /* Needs to be in here for Safari polyfill so background images work as expected. */\n",
       "        background-size: auto;\n",
       "    }\n",
       "    .progress-bar-interrupted, .progress-bar-interrupted::-webkit-progress-bar {\n",
       "        background: #F44336;\n",
       "    }\n",
       "</style>\n"
      ],
      "text/plain": [
       "<IPython.core.display.HTML object>"
      ]
     },
     "metadata": {},
     "output_type": "display_data"
    },
    {
     "data": {
      "text/html": [
       "<table border=\"1\" class=\"dataframe\">\n",
       "  <thead>\n",
       "    <tr style=\"text-align: left;\">\n",
       "      <th>epoch</th>\n",
       "      <th>train_loss</th>\n",
       "      <th>valid_loss</th>\n",
       "      <th>accuracy</th>\n",
       "      <th>precision_score</th>\n",
       "      <th>f1_score</th>\n",
       "      <th>recall_score</th>\n",
       "      <th>roc_auc_score</th>\n",
       "      <th>time</th>\n",
       "    </tr>\n",
       "  </thead>\n",
       "  <tbody>\n",
       "    <tr>\n",
       "      <td>0</td>\n",
       "      <td>0.179032</td>\n",
       "      <td>10.660625</td>\n",
       "      <td>0.907739</td>\n",
       "      <td>0.916235</td>\n",
       "      <td>0.906151</td>\n",
       "      <td>0.907739</td>\n",
       "      <td>0.985364</td>\n",
       "      <td>05:11</td>\n",
       "    </tr>\n",
       "    <tr>\n",
       "      <td>1</td>\n",
       "      <td>0.092394</td>\n",
       "      <td>0.993550</td>\n",
       "      <td>0.913393</td>\n",
       "      <td>0.929870</td>\n",
       "      <td>0.911223</td>\n",
       "      <td>0.913393</td>\n",
       "      <td>0.991187</td>\n",
       "      <td>06:08</td>\n",
       "    </tr>\n",
       "    <tr>\n",
       "      <td>2</td>\n",
       "      <td>0.099177</td>\n",
       "      <td>0.243315</td>\n",
       "      <td>0.926365</td>\n",
       "      <td>0.936120</td>\n",
       "      <td>0.925560</td>\n",
       "      <td>0.926365</td>\n",
       "      <td>0.996241</td>\n",
       "      <td>05:47</td>\n",
       "    </tr>\n",
       "    <tr>\n",
       "      <td>3</td>\n",
       "      <td>0.080295</td>\n",
       "      <td>0.713575</td>\n",
       "      <td>0.921837</td>\n",
       "      <td>0.930592</td>\n",
       "      <td>0.921387</td>\n",
       "      <td>0.921837</td>\n",
       "      <td>0.988539</td>\n",
       "      <td>05:21</td>\n",
       "    </tr>\n",
       "    <tr>\n",
       "      <td>4</td>\n",
       "      <td>0.083795</td>\n",
       "      <td>0.212202</td>\n",
       "      <td>0.927436</td>\n",
       "      <td>0.942722</td>\n",
       "      <td>0.925837</td>\n",
       "      <td>0.927436</td>\n",
       "      <td>0.996843</td>\n",
       "      <td>05:10</td>\n",
       "    </tr>\n",
       "  </tbody>\n",
       "</table>"
      ],
      "text/plain": [
       "<IPython.core.display.HTML object>"
      ]
     },
     "metadata": {},
     "output_type": "display_data"
    },
    {
     "data": {
      "text/html": [
       "\n",
       "<style>\n",
       "    /* Turns off some styling */\n",
       "    progress {\n",
       "        /* gets rid of default border in Firefox and Opera. */\n",
       "        border: none;\n",
       "        /* Needs to be in here for Safari polyfill so background images work as expected. */\n",
       "        background-size: auto;\n",
       "    }\n",
       "    .progress-bar-interrupted, .progress-bar-interrupted::-webkit-progress-bar {\n",
       "        background: #F44336;\n",
       "    }\n",
       "</style>\n"
      ],
      "text/plain": [
       "<IPython.core.display.HTML object>"
      ]
     },
     "metadata": {},
     "output_type": "display_data"
    },
    {
     "data": {
      "text/html": [],
      "text/plain": [
       "<IPython.core.display.HTML object>"
      ]
     },
     "metadata": {},
     "output_type": "display_data"
    },
    {
     "data": {
      "text/html": [
       "\n",
       "<style>\n",
       "    /* Turns off some styling */\n",
       "    progress {\n",
       "        /* gets rid of default border in Firefox and Opera. */\n",
       "        border: none;\n",
       "        /* Needs to be in here for Safari polyfill so background images work as expected. */\n",
       "        background-size: auto;\n",
       "    }\n",
       "    .progress-bar-interrupted, .progress-bar-interrupted::-webkit-progress-bar {\n",
       "        background: #F44336;\n",
       "    }\n",
       "</style>\n"
      ],
      "text/plain": [
       "<IPython.core.display.HTML object>"
      ]
     },
     "metadata": {},
     "output_type": "display_data"
    },
    {
     "data": {
      "text/html": [],
      "text/plain": [
       "<IPython.core.display.HTML object>"
      ]
     },
     "metadata": {},
     "output_type": "display_data"
    },
    {
     "data": {
      "text/html": [
       "\n",
       "<style>\n",
       "    /* Turns off some styling */\n",
       "    progress {\n",
       "        /* gets rid of default border in Firefox and Opera. */\n",
       "        border: none;\n",
       "        /* Needs to be in here for Safari polyfill so background images work as expected. */\n",
       "        background-size: auto;\n",
       "    }\n",
       "    .progress-bar-interrupted, .progress-bar-interrupted::-webkit-progress-bar {\n",
       "        background: #F44336;\n",
       "    }\n",
       "</style>\n"
      ],
      "text/plain": [
       "<IPython.core.display.HTML object>"
      ]
     },
     "metadata": {},
     "output_type": "display_data"
    },
    {
     "data": {
      "text/html": [],
      "text/plain": [
       "<IPython.core.display.HTML object>"
      ]
     },
     "metadata": {},
     "output_type": "display_data"
    },
    {
     "name": "stdout",
     "output_type": "stream",
     "text": [
      "DNN ELAPSED: 6.804165\n"
     ]
    },
    {
     "data": {
      "text/html": [
       "\n",
       "<style>\n",
       "    /* Turns off some styling */\n",
       "    progress {\n",
       "        /* gets rid of default border in Firefox and Opera. */\n",
       "        border: none;\n",
       "        /* Needs to be in here for Safari polyfill so background images work as expected. */\n",
       "        background-size: auto;\n",
       "    }\n",
       "    .progress-bar-interrupted, .progress-bar-interrupted::-webkit-progress-bar {\n",
       "        background: #F44336;\n",
       "    }\n",
       "</style>\n"
      ],
      "text/plain": [
       "<IPython.core.display.HTML object>"
      ]
     },
     "metadata": {},
     "output_type": "display_data"
    },
    {
     "data": {
      "text/html": [],
      "text/plain": [
       "<IPython.core.display.HTML object>"
      ]
     },
     "metadata": {},
     "output_type": "display_data"
    },
    {
     "name": "stdout",
     "output_type": "stream",
     "text": [
      "Confusion Matrix:\n",
      " [[4279    0   14    0    0    0    1    0    0    0 1692    0]\n",
      " [   0 5975    0    0    0    0    0    0    0    0    0    0]\n",
      " [   0    0   63    0    0    0    0    0    0    0    5    0]\n",
      " [   0    0   11   14    0    0    0    0    0    0    0    0]\n",
      " [   0    0    0    0 5997    0    0    0    0    0    0    0]\n",
      " [   3    0    0    0    0 5957    0    3    8    3    0    0]\n",
      " [   0    0    0    0    0    0 6012    0    0    5    0    0]\n",
      " [   0    0    0    0    0    0   43 5972    0    0    0    0]\n",
      " [   0    0    0    0    0 2010    0    0 4083    0    0    0]\n",
      " [   1    0    0    0    0    2    0    0    0 5948    6    0]\n",
      " [  98    0    4    0    0    0   12    0    0    0 5889    1]\n",
      " [   0    0    3    0    0    0    0    1    0    0    1    2]]\n",
      "Accuracy: 92.74%; precision: 94.27%; F1: 92.58%; Recall: 92.74%; roc-auc: 99.68%; elapsed: 6.80 s\n"
     ]
    }
   ],
   "source": [
    "from audioop import avg\n",
    "import cmath\n",
    "from fileinput import filename\n",
    "from gc import enable\n",
    "import sys\n",
    "from matplotlib.pyplot import axis\n",
    "import pandas as pd\n",
    "from sklearn.model_selection import KFold\n",
    "import xgboost as xgb\n",
    "from sklearn.metrics import classification_report\n",
    "from sklearn.metrics import confusion_matrix\n",
    "from sklearn.metrics import f1_score, recall_score, precision_score, accuracy_score, roc_auc_score\n",
    "import warnings\n",
    "warnings.filterwarnings(\"ignore\")\n",
    "from fastai.tabular.all import *\n",
    "\n",
    "labels = ['Benign', 'Bot', 'DoS attacks-GoldenEye', 'Infilteration', \n",
    "          'DoS attacks-SlowHTTPTest','DoS attacks-Slowloris',\n",
    "          'DDOS attack-LOIC-UDP']\n",
    "\n",
    "cat_names = ['Dst Port', 'Protocol']\n",
    "y_names = 'Label'\n",
    "cont_names = ['Flow Duration', 'Tot Fwd Pkts',\n",
    "              'Tot Bwd Pkts', 'TotLen Fwd Pkts', 'TotLen Bwd Pkts', 'Fwd Pkt Len Max',\n",
    "              'Fwd Pkt Len Min', 'Fwd Pkt Len Mean', 'Fwd Pkt Len Std',\n",
    "              'Bwd Pkt Len Max', 'Bwd Pkt Len Min', 'Bwd Pkt Len Mean',\n",
    "              'Bwd Pkt Len Std', 'Flow Byts/s', 'Flow Pkts/s', 'Flow IAT Mean',\n",
    "              'Flow IAT Std', 'Flow IAT Max', 'Flow IAT Min', 'Fwd IAT Tot',\n",
    "              'Fwd IAT Mean', 'Fwd IAT Std', 'Fwd IAT Max', 'Fwd IAT Min',\n",
    "              'Bwd IAT Tot', 'Bwd IAT Mean', 'Bwd IAT Std', 'Bwd IAT Max',\n",
    "              'Bwd IAT Min', 'Fwd PSH Flags', 'Bwd PSH Flags', 'Fwd URG Flags',\n",
    "              'Bwd URG Flags', 'Fwd Header Len', 'Bwd Header Len', 'Fwd Pkts/s',\n",
    "              'Bwd Pkts/s', 'Pkt Len Min', 'Pkt Len Max', 'Pkt Len Mean',\n",
    "              'Pkt Len Std', 'Pkt Len Var', 'FIN Flag Cnt', 'SYN Flag Cnt',\n",
    "              'RST Flag Cnt', 'PSH Flag Cnt', 'ACK Flag Cnt', 'URG Flag Cnt',\n",
    "              'CWE Flag Count', 'ECE Flag Cnt', 'Down/Up Ratio', 'Pkt Size Avg',\n",
    "              'Fwd Seg Size Avg', 'Bwd Seg Size Avg', 'Fwd Byts/b Avg',\n",
    "              'Fwd Pkts/b Avg', 'Fwd Blk Rate Avg', 'Bwd Byts/b Avg',\n",
    "              'Bwd Pkts/b Avg', 'Bwd Blk Rate Avg', 'Subflow Fwd Pkts',\n",
    "              'Subflow Fwd Byts', 'Subflow Bwd Pkts', 'Subflow Bwd Byts',\n",
    "              'Init Fwd Win Byts', 'Init Bwd Win Byts', 'Fwd Act Data Pkts',\n",
    "              'Fwd Seg Size Min', 'Active Mean', 'Active Std', 'Active Max',\n",
    "              'Active Min', 'Idle Mean', 'Idle Std', 'Idle Max', 'Idle Min']\n",
    "\n",
    "df = pd.read_csv('../dataset/CIC-2018/data_balanced.csv')\n",
    "procs = [Categorify, FillMissing, Normalize]\n",
    "y_block = CategoryBlock()\n",
    "splits = RandomSplitter(valid_pct = 0.3 , seed = None)(range_of(df))\n",
    "to = TabularPandas(df, procs=procs, cat_names=cat_names, cont_names=cont_names,\n",
    "                   y_names=y_names, y_block=y_block, splits=splits)\n",
    "X_train, y_train = to.train.xs, to.train.ys.values.ravel()\n",
    "X_test, y_test = to.valid.xs, to.valid.ys.values.ravel()\n",
    "\n",
    "print('Test dataset',\"\\n\",df[y_names].value_counts(), \"\\n\")\n",
    "\n",
    "dls = to.dataloaders()\n",
    "roc_auc = RocAuc(average='weighted')\n",
    "learn = tabular_learner(dls, layers=[400,200], metrics=[accuracy, Precision(average='weighted'), F1Score(average='weighted'), Recall(average='weighted'), roc_auc])\n",
    "learn.fit(5, 1e-2)\n",
    "nn_preds = learn.get_preds()[0]\n",
    "\n",
    "##### DNN CM\n",
    "start = time.time()\n",
    "loss, acc, precision, f1, recall, roc = learn.validate()\n",
    "elapsed = time.time() - start\n",
    "interp = ClassificationInterpretation.from_learner(learn)\n",
    "print(\"DNN ELAPSED: %f\" % (elapsed))\n",
    "print(\"Confusion Matrix:\\n\", interp.confusion_matrix())\n",
    "print('Accuracy: {:.2f}%; precision: {:.2f}%; F1: {:.2f}%; Recall: {:.2f}%; roc-auc: {:.2f}%; elapsed: {:.2f} s'.format(acc*100, precision*100, f1*100, recall*100, roc*100,  elapsed ))\n"
   ]
  },
  {
   "cell_type": "code",
   "execution_count": 2,
   "id": "df2f8fdb",
   "metadata": {},
   "outputs": [
    {
     "name": "stdout",
     "output_type": "stream",
     "text": [
      "10    20000\n",
      "0     20000\n",
      "9     20000\n",
      "7     20000\n",
      "4     20000\n",
      "1     20000\n",
      "5     20000\n",
      "6     20000\n",
      "8     20000\n",
      "2       253\n",
      "3       106\n",
      "11       37\n",
      "Name: Label, dtype: int64\n"
     ]
    }
   ],
   "source": [
    "print(to['Label'].value_counts())"
   ]
  }
 ],
 "metadata": {
  "kernelspec": {
   "display_name": "Python 3 (ipykernel)",
   "language": "python",
   "name": "python3"
  },
  "language_info": {
   "codemirror_mode": {
    "name": "ipython",
    "version": 3
   },
   "file_extension": ".py",
   "mimetype": "text/x-python",
   "name": "python",
   "nbconvert_exporter": "python",
   "pygments_lexer": "ipython3",
   "version": "3.8.10"
  }
 },
 "nbformat": 4,
 "nbformat_minor": 5
}
