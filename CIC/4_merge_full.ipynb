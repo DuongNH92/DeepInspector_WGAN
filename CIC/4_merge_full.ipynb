{
 "cells": [
  {
   "cell_type": "code",
   "execution_count": null,
   "id": "bcfe9140",
   "metadata": {},
   "outputs": [],
   "source": [
    "# Read original data\n",
    "import numpy as np\n",
    "import pandas as pd\n",
    "from sklearn.utils import shuffle\n",
    "\n",
    "dt = pd.read_csv(\"../dataset/CIC-2018/train_ori.csv\")\n",
    "dt1 = pd.read_csv(\"../dataset/CIC-2018/generated_doshttp.csv\")\n",
    "dt2 = pd.read_csv(\"../dataset/CIC-2018/generated_dosloris.csv\")\n",
    "dt3 = pd.read_csv(\"../dataset/CIC-2018/generated_ddosudp.csv\")\n",
    "#dt4 = pd.read_csv(\"../dataset/CIC-2018/generated_bruteweb.csv\")\n",
    "#dt5 = pd.read_csv(\"../dataset/CIC-2018/generated_brutexss.csv\")\n",
    "#dt6 = pd.read_csv(\"../dataset/CIC-2018/generated_sql.csv\")\n",
    "\n",
    "# Convert label\n",
    "print(\"Label converting...\")\n",
    "label = {1: 'DoS attacks-SlowHTTPTest'}\n",
    "dt1['Label'] = dt1['Label'].map(label).fillna(dt1['Label'])\n",
    "\n",
    "label2 = {1: 'DoS attacks-Slowloris'}\n",
    "dt2['Label'] = dt2['Label'].map(label2).fillna(dt2['Label'])\n",
    "\n",
    "label3 = {1: 'DDOS attack-LOIC-UDP'}\n",
    "dt3['Label'] = dt3['Label'].map(label3).fillna(dt3['Label'])\n",
    "\n",
    "label4 = {1: 'Brute Force -Web'}\n",
    "dt4['Label'] = dt4['Label'].map(label4).fillna(dt4['Label'])\n",
    "\n",
    "label5 = {1: 'Brute Force -XSS'}\n",
    "dt5['Label'] = dt5['Label'].map(label5).fillna(dt5['Label'])\n",
    "\n",
    "label6 = {1: 'SQL Injection'}\n",
    "dt6['Label'] = dt6['Label'].map(label6).fillna(dt6['Label'])\n",
    "\n",
    "print('Completed!')"
   ]
  },
  {
   "cell_type": "code",
   "execution_count": null,
   "id": "506675cb",
   "metadata": {},
   "outputs": [],
   "source": [
    "print(dt['Label'].value_counts())\n",
    "print(dt1['Label'].value_counts())\n",
    "print(dt2['Label'].value_counts())\n",
    "print(dt3['Label'].value_counts())\n",
    "#print(dt4['Label'].value_counts())\n",
    "#print(dt5['Label'].value_counts())\n",
    "#print(dt6['Label'].value_counts())"
   ]
  },
  {
   "cell_type": "code",
   "execution_count": null,
   "id": "3bb8c8f7",
   "metadata": {},
   "outputs": [],
   "source": [
    "a1 = dt1.sample(n=4459, replace=False, random_state=1) #doshttp\n",
    "a2 = dt2.sample(n=8895, replace=False, random_state=1)\n",
    "a3 = dt3.sample(n=13126, replace=False, random_state=1)\n",
    "#a4 = dt4.sample(n=13826, replace=False, random_state=1)\n",
    "#a5 = dt5.sample(n=13924, replace=False, random_state=1)\n",
    "#a6 = dt6.sample(n=13981, replace=False, random_state=1)"
   ]
  },
  {
   "cell_type": "code",
   "execution_count": null,
   "id": "a6b1a7c5",
   "metadata": {},
   "outputs": [],
   "source": [
    "# Merge data\n",
    "data = pd.concat([dt,a1,a2,a3],ignore_index = True,axis=0)\n",
    "data_balanced = shuffle(data).reset_index(drop=True)\n",
    "data_balanced.to_csv(\"../dataset/CIC-2018/train.csv\", index=False, header = True)\n",
    "print(\"Original dataset:\")\n",
    "print(dt['Label'].value_counts())\n",
    "print(\"-----------------------------------------\")\n",
    "print(\"Balanced dataset:\")\n",
    "print(data_balanced['Label'].value_counts())\n",
    "print(\"-----------------------------------------\")"
   ]
  },
  {
   "cell_type": "code",
   "execution_count": null,
   "id": "ea72aaa5",
   "metadata": {},
   "outputs": [],
   "source": []
  }
 ],
 "metadata": {
  "kernelspec": {
   "display_name": "Python 3 (ipykernel)",
   "language": "python",
   "name": "python3"
  },
  "language_info": {
   "codemirror_mode": {
    "name": "ipython",
    "version": 3
   },
   "file_extension": ".py",
   "mimetype": "text/x-python",
   "name": "python",
   "nbconvert_exporter": "python",
   "pygments_lexer": "ipython3",
   "version": "3.8.10"
  }
 },
 "nbformat": 4,
 "nbformat_minor": 5
}
