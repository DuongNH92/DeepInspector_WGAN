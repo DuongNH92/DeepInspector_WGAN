{
 "cells": [
  {
   "cell_type": "code",
   "execution_count": 22,
   "id": "574ed6f1",
   "metadata": {},
   "outputs": [
    {
     "name": "stdout",
     "output_type": "stream",
     "text": [
      "Original label values: \n",
      "\n",
      "0    14025\n",
      "1      821\n",
      "Name: Label, dtype: int64\n"
     ]
    }
   ],
   "source": [
    "# Read original data\n",
    "import dask.dataframe as dd\n",
    "import numpy as np\n",
    "import pandas as pd\n",
    "from sklearn.utils import shuffle\n",
    "\n",
    "dt = dd.read_csv(\"../dataset/CIC-2018/trainddosudp.csv\")\n",
    "print(\"Original label values: \\n\")\n",
    "print(dt['Label'].value_counts().compute())"
   ]
  },
  {
   "cell_type": "code",
   "execution_count": 4,
   "id": "99703c14",
   "metadata": {},
   "outputs": [
    {
     "name": "stdout",
     "output_type": "stream",
     "text": [
      "Original label values: \n",
      "\n",
      "Benign                      20000\n",
      "Bot                         20000\n",
      "Brute Force -Web            20000\n",
      "DDOS attack-HOIC            20000\n",
      "DDOS attack-LOIC-UDP        20000\n",
      "DoS attacks-GoldenEye       20000\n",
      "DoS attacks-Hulk            20000\n",
      "DoS attacks-SlowHTTPTest    20000\n",
      "DoS attacks-Slowloris       20000\n",
      "Infilteration               20000\n",
      "SQL Injection               20000\n",
      "Brute Force -XSS              106\n",
      "Name: Label, dtype: int64\n",
      "-----------------------------------------\n",
      "-----------------------------------------\n",
      "DoS attacks-Hulk            20000\n",
      "Benign                      20000\n",
      "DoS attacks-Slowloris       20000\n",
      "DoS attacks-SlowHTTPTest    20000\n",
      "DDOS attack-LOIC-UDP        20000\n",
      "DDOS attack-HOIC            20000\n",
      "Bot                         20000\n",
      "DoS attacks-GoldenEye       20000\n",
      "Infilteration               20000\n",
      "Name: Label, dtype: int64\n",
      "-----------------------------------------\n",
      "Saved to file ok!!!\n"
     ]
    }
   ],
   "source": [
    "# Read original data\n",
    "import dask.dataframe as dd\n",
    "import numpy as np\n",
    "import pandas as pd\n",
    "from sklearn.utils import shuffle\n",
    "\n",
    "dt = dd.read_csv(\"../dataset/CIC-2018/data_balanced.csv\")\n",
    "print(\"Original label values: \\n\")\n",
    "print(dt['Label'].value_counts().compute())\n",
    "print(\"-----------------------------------------\")\n",
    "# Random data dos and background \n",
    "normal = dt[dt['Label']==\"Benign\"].compute()\n",
    "a1 = dt[dt['Label']==\"Bot\"].compute()\n",
    "a2 = dt[dt['Label']==\"DDOS attack-HOIC\"].compute()\n",
    "a3 = dt[dt['Label']==\"DoS attacks-GoldenEye\"].compute()\n",
    "a4 = dt[dt['Label']==\"DoS attacks-Hulk\"].compute()\n",
    "a5 = dt[dt['Label']==\"Infilteration\"].compute()\n",
    "a6 = dt[dt['Label']==\"DoS attacks-SlowHTTPTest\"].compute()\n",
    "a7 = dt[dt['Label']==\"DoS attacks-Slowloris\"].compute()\n",
    "a8 = dt[dt['Label']==\"DDOS attack-LOIC-UDP\"].compute()\n",
    "\n",
    "# Merge data\n",
    "data = pd.concat([normal,a1,a2,a3,a4,a5,a6,a7,a8],ignore_index = True,axis=0)\n",
    "data_train = shuffle(data).reset_index(drop=True)\n",
    "\n",
    "print(\"-----------------------------------------\")\n",
    "print(data_train['Label'].value_counts())\n",
    "\n",
    "print(\"-----------------------------------------\")\n",
    "data_train.to_csv(\"../dataset/CIC-2018/data_balanced_1.csv\", index=False, header = True)\n",
    "print(\"Saved to file ok!!!\")"
   ]
  },
  {
   "cell_type": "code",
   "execution_count": null,
   "id": "335b1f54",
   "metadata": {},
   "outputs": [],
   "source": []
  }
 ],
 "metadata": {
  "kernelspec": {
   "display_name": "Python 3 (ipykernel)",
   "language": "python",
   "name": "python3"
  },
  "language_info": {
   "codemirror_mode": {
    "name": "ipython",
    "version": 3
   },
   "file_extension": ".py",
   "mimetype": "text/x-python",
   "name": "python",
   "nbconvert_exporter": "python",
   "pygments_lexer": "ipython3",
   "version": "3.8.10"
  }
 },
 "nbformat": 4,
 "nbformat_minor": 5
}
